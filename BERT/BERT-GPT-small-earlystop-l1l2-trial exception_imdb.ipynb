{
 "cells": [
  {
   "cell_type": "code",
   "execution_count": 1,
   "id": "c5bf24e9-d40b-45ad-9330-405d0097fe2e",
   "metadata": {
    "tags": []
   },
   "outputs": [
    {
     "name": "stderr",
     "output_type": "stream",
     "text": [
      "2023-07-07 18:54:12.390190: I tensorflow/core/util/port.cc:110] oneDNN custom operations are on. You may see slightly different numerical results due to floating-point round-off errors from different computation orders. To turn them off, set the environment variable `TF_ENABLE_ONEDNN_OPTS=0`.\n",
      "2023-07-07 18:54:14.671362: I tensorflow/core/platform/cpu_feature_guard.cc:182] This TensorFlow binary is optimized to use available CPU instructions in performance-critical operations.\n",
      "To enable the following instructions: AVX2 AVX_VNNI FMA, in other operations, rebuild TensorFlow with the appropriate compiler flags.\n",
      "2023-07-07 18:54:16.927954: W tensorflow/compiler/tf2tensorrt/utils/py_utils.cc:38] TF-TRT Warning: Could not find TensorRT\n"
     ]
    }
   ],
   "source": [
    "import torch\n",
    "import torch.nn as nn\n",
    "import pandas as pd\n",
    "from tqdm.notebook import tqdm  # For displaying progress bars\n",
    "from datasets import load_dataset  # For loading datasets\n",
    "from sklearn.model_selection import train_test_split  # For splitting the dataset\n",
    "from transformers import BertTokenizer  # For tokenizing text\n",
    "from torch.utils.data import TensorDataset  # For creating Tensor datasets\n",
    "import time  # For measuring time\n",
    "from sklearn.metrics import accuracy_score, precision_score, f1_score, recall_score  # For evaluation metrics\n",
    "from sklearn.exceptions import UndefinedMetricWarning  # For handling metric warnings\n",
    "import matplotlib.pyplot as plt  # For plotting\n",
    "from tabulate import tabulate  # For tabular data formatting\n",
    "import random  # For randomization\n",
    "import numpy as np  # For numerical operations\n",
    "from transformers import (\n",
    "    BertTokenizer,  # Tokenizer for BERT models\n",
    "    AdamW,  # Optimizer for BERT models\n",
    "    get_linear_schedule_with_warmup,  # Learning rate scheduler for BERT models\n",
    "    BertConfig,  # Configuration for BERT models\n",
    "    BertForSequenceClassification  # BERT model for sequence classification tasks\n",
    ")\n",
    "from torch.utils.data import (\n",
    "    DataLoader,  # Data loader for creating batches\n",
    "    RandomSampler,  # Sampler for random sampling of data\n",
    "    SequentialSampler  # Sampler for sequential sampling of data\n",
    ")\n",
    "from sklearn.metrics import f1_score  # For computing the F1 score\n",
    "\n",
    "# 1. Torch: PyTorch library for deep learning\n",
    "# 2. Pandas: Library for data manipulation and analysis\n",
    "# 3. tqdm: Library for displaying progress bars\n",
    "# 4. datasets: Library for working with datasets\n",
    "# 5. train_test_split: Function for splitting the dataset into training and validation sets\n",
    "# 6. BertTokenizer: Tokenizer for BERT models\n",
    "# 7. TensorDataset: Dataset class for creating PyTorch Tensor datasets\n",
    "# 8. time: Module for measuring time\n",
    "# 9. accuracy_score, precision_score, f1_score: Evaluation metrics for classification tasks\n",
    "# 10. UndefinedMetricWarning: Warning for undefined metric values\n",
    "# 11. matplotlib.pyplot: Plotting library\n",
    "# 12. tabulate: Library for formatting tabular data\n",
    "# 13. random: Module for randomization\n",
    "# 14. numpy: Library for numerical operations\n",
    "# 15. AdamW: Optimizer for BERT models\n",
    "# 16. get_linear_schedule_with_warmup: Learning rate scheduler for BERT models\n",
    "# 17. BertConfig: Configuration for BERT models\n",
    "# 18. BertForSequenceClassification: BERT model for sequence classification tasks\n",
    "# 19. DataLoader: Data loader for creating batches\n",
    "# 20. RandomSampler: Sampler for random sampling of data\n",
    "# 21. SequentialSampler: Sampler for sequential sampling of data\n",
    "# 22. f1_score: Function for computing the F1 score"
   ]
  },
  {
   "cell_type": "code",
   "execution_count": 2,
   "id": "207f2073-3da6-4185-917f-e8b3694617ed",
   "metadata": {},
   "outputs": [],
   "source": [
    "def datacleaning_imdb():\n",
    "    dataset = load_dataset(\"imdb\")\n",
    "    train_data = dataset['train']\n",
    "\n",
    "    df = train_data.to_pandas()  # Convert the dataset to a Pandas DataFrame\n",
    "\n",
    "    df['sentiment'] = df['label'].map({0: 'bad', 1: 'good'})\n",
    "\n",
    "    possible_labels = df.sentiment.unique()  # Get unique category labels from the DataFrame column 'category'\n",
    "\n",
    "    label_dict = {}  # Create a dictionary to map each possible label to a unique index\n",
    "    for index, possible_label in enumerate(possible_labels):\n",
    "        label_dict[possible_label] = index\n",
    "\n",
    "    df['label'] = df.sentiment.replace(label_dict)\n",
    "\n",
    "    # Split the dataset into training and validation sets\n",
    "    X_train, X_val, y_train, y_val = train_test_split(\n",
    "        df.index.values,\n",
    "        df.label.values,\n",
    "        test_size=0.15,\n",
    "        random_state=17,\n",
    "        stratify=df.label.values\n",
    "    )\n",
    "\n",
    "    df['data_type'] = ['not_set'] * df.shape[0]  # Set a new column 'data_type' for later data split\n",
    "\n",
    "    # Set the 'data_type' column of the dataframe for training and validation data\n",
    "    df.loc[X_train, 'data_type'] = 'train'\n",
    "    df.loc[X_val, 'data_type'] = 'val'\n",
    "\n",
    "    return df\n",
    "\n",
    "def f1_score_func(preds, labels):\n",
    "    preds_flat = np.argmax(preds, axis=1).flatten() #This line finds the index with the highest probability in each prediction, effectively giving the predicted class for each input.\n",
    "    labels_flat = labels.flatten()  #This line flattens the labels array into a 1D vector, as required by the f1_score function.\n",
    "    return f1_score(labels_flat, preds_flat, average='weighted') #This line computes the F1 score using the true labels and the predicted labels, with the weighted averaging scheme. The result is returned.\n",
    "\n",
    "def accuracy_per_class(preds, labels):\n",
    "    # Create a dictionary with keys and values reversed for easy lookup.\n",
    "    label_dict_inverse = {v: k for k, v in label_dict.items()}\n",
    "    \n",
    "    # Get the predicted labels and flatten them.\n",
    "    preds_flat = np.argmax(preds, axis=1).flatten()\n",
    "    \n",
    "    # Get the actual labels and flatten them.\n",
    "    labels_flat = labels.flatten()\n",
    "\n",
    "    # Iterate over the unique labels in the actual labels.\n",
    "    for label in np.unique(labels_flat):\n",
    "        # Get the predicted labels for this class.\n",
    "        y_preds = preds_flat[labels_flat==label]\n",
    "        \n",
    "        # Get the actual labels for this class.\n",
    "        y_true = labels_flat[labels_flat==label]\n",
    "        \n",
    "        # Print the class name, accuracy numerator and denominator.\n",
    "        print(f'Class: {label_dict_inverse[label]}')\n",
    "        print(f'Accuracy: {len(y_preds[y_preds==label])}/{len(y_true)}\\n')\n",
    "\n",
    "#This code evaluates the performance of a trained model on a validation dataset by computing its loss and predictions for each batch in the dataset.\n",
    "def evaluate(dataloader_val):\n",
    "\n",
    "    model.eval() # setting the model to evaluation mode to disable dropout and other regularization techniques that are useful during training but not during evaluation.\n",
    "    \n",
    "    loss_val_total = 0\n",
    "    predictions, true_vals = [], []\n",
    "    \n",
    "    for batch in dataloader_val:\n",
    "    \n",
    "        batch = tuple(b.to(device) for b in batch) # moving the input batch to the GPU for faster computation.\n",
    "   \n",
    "        #  creating a dictionary of inputs that will be passed to the model. The input IDs and attention mask are for the BERT model, and the labels are the true labels for each input.\n",
    "        inputs = {'input_ids':  \tbatch[0],\n",
    "                'attention_mask': batch[1],\n",
    "                'labels':     \tbatch[2],\n",
    "                } \n",
    "\n",
    "        with torch.no_grad():   \n",
    "            outputs = model(**inputs)\n",
    "        \n",
    "        loss = outputs[0]\n",
    "        logits = outputs[1]\n",
    "        loss_val_total += loss.item()\n",
    "\n",
    "        logits = logits.detach().cpu().numpy()\n",
    "        label_ids = inputs['labels'].cpu().numpy()\n",
    "        predictions.append(logits)\n",
    "        true_vals.append(label_ids)\n",
    "    \n",
    "    loss_val_avg = loss_val_total/len(dataloader_val)\n",
    "    \n",
    "    predictions = np.concatenate(predictions, axis=0)\n",
    "    true_vals = np.concatenate(true_vals, axis=0)\n",
    "       \t \n",
    "    return loss_val_avg, predictions, true_vals\n",
    "\n",
    "def train_model(trainer, dataloader_train, dataloader_val, epochs, patience):\n",
    "    total_training_time = 0\n",
    "    \n",
    "    training_loss_list = []\n",
    "    validation_loss_list = []\n",
    "    accuracy_list = []\n",
    "    precision_list = []\n",
    "    f1_score_list = []\n",
    "    \n",
    "    previous_results = None  # Store previous epoch results\n",
    "    best_val_loss = float('inf')\n",
    "    counter = 0\n",
    "    \n",
    "    for epoch in tqdm(range(1, epochs + 1)):\n",
    "        start_time = time.time()\n",
    "    \n",
    "        model.train()\n",
    "        loss_train_total = 0\n",
    "    \n",
    "        progress_bar = tqdm(dataloader_train,\n",
    "                            desc='Epoch {:1d}'.format(epoch),\n",
    "                            leave=False,\n",
    "                            disable=False)\n",
    "        for batch in progress_bar:\n",
    "            model.zero_grad()\n",
    "            batch = tuple(b.to(device) for b in batch)\n",
    "            inputs = {\n",
    "                'input_ids': batch[0],\n",
    "                'attention_mask': batch[1],\n",
    "                'labels': batch[2],\n",
    "            }\n",
    "            output = model(**inputs)\n",
    "            loss = output[0]\n",
    "\n",
    "            # L1 regularization\n",
    "            l1_regularization = torch.tensor(0., device=device)\n",
    "            for param in model.parameters():\n",
    "                l1_regularization += torch.norm(param, 1)\n",
    "            \n",
    "            # L2 regularization\n",
    "            l2_regularization = torch.tensor(0., device=device)\n",
    "            for param in model.parameters():\n",
    "                l2_regularization += torch.norm(param, 2)\n",
    "\n",
    "            \n",
    "            loss_train_total += loss.item()\n",
    "            loss.backward()\n",
    "            torch.nn.utils.clip_grad_norm_(model.parameters(), 1.0)\n",
    "            optimizer.step()\n",
    "            scheduler.step()\n",
    "            progress_bar.set_postfix({'training_loss': '{:.3f}'.format(loss.item() / len(batch))})\n",
    "    \n",
    "        end_time = time.time()\n",
    "        epoch_training_time = end_time - start_time\n",
    "        total_training_time += epoch_training_time\n",
    "    \n",
    "        torch.save(model.state_dict(), f'Models/finetuned_bert_gpt_ft_epoch{epoch}.model')\n",
    "    \n",
    "        tqdm.write(f'\\nEpoch {epoch}')\n",
    "    \n",
    "        loss_train_avg = loss_train_total / len(dataloader_train)\n",
    "        tqdm.write(f'Training loss: {loss_train_avg}')\n",
    "    \n",
    "        val_loss, predictions, true_vals = evaluate(dataloader_val)\n",
    "    \n",
    "        # Convert predictions to discrete labels\n",
    "        predictions = np.argmax(predictions, axis=1)\n",
    "    \n",
    "        val_f1 = f1_score(true_vals, predictions, average='weighted')\n",
    "        tqdm.write(f'Validation loss: {val_loss}')\n",
    "        tqdm.write(f'F1 Score (weighted): {val_f1}')\n",
    "    \n",
    "        val_accuracy = accuracy_score(true_vals, predictions)\n",
    "        val_precision = precision_score(true_vals, predictions, average='weighted', zero_division=1)\n",
    "    \n",
    "        # Compute and store metrics\n",
    "        training_loss_list.append(loss_train_avg)\n",
    "        validation_loss_list.append(val_loss)\n",
    "        f1_score_list.append(val_f1)\n",
    "        accuracy_list.append(val_accuracy)\n",
    "        precision_list.append(val_precision)\n",
    "    \n",
    "        # Check if there are previous results to compare with\n",
    "        if previous_results is not None:\n",
    "            if loss_train_avg > previous_results['loss_train_avg']:\n",
    "                percentage_increase = ((loss_train_avg - previous_results['loss_train_avg']) / previous_results['loss_train_avg']) * 100\n",
    "                tqdm.write('\\033[91m' + f'{round(percentage_increase, 2)}% Training loss increased compared to the previous epoch' + '\\033[0m')\n",
    "            if loss_train_avg < previous_results['loss_train_avg']:\n",
    "                percentage_decrease = ((previous_results['loss_train_avg'] - loss_train_avg) / previous_results['loss_train_avg']) * 100\n",
    "                tqdm.write('\\033[92m' + f'{round(percentage_decrease, 2)}% Training loss decreased compared to the previous epoch' + '\\033[0m')\n",
    "            if val_loss > previous_results['val_loss']:\n",
    "                percentage_increase = ((val_loss - previous_results['val_loss']) / previous_results['val_loss']) * 100\n",
    "                tqdm.write('\\033[91m' + f'{round(percentage_increase, 2)}% Validation loss increased compared to the previous epoch' + '\\033[0m')\n",
    "            if val_loss < previous_results['val_loss']:\n",
    "                percentage_decrease = ((previous_results['val_loss'] - val_loss) / previous_results['val_loss']) * 100\n",
    "                tqdm.write('\\033[92m' + f'{round(percentage_decrease, 2)}% Validation loss decreased compared to the previous epoch' + '\\033[0m')\n",
    "            if val_f1 < previous_results['val_f1']:\n",
    "                percentage_decrease = ((previous_results['val_f1'] - val_f1) / previous_results['val_f1']) * 100\n",
    "                tqdm.write('\\033[91m' + f'{round(percentage_decrease, 2)}% F1 Score decreased compared to the previous epoch' + '\\033[0m')\n",
    "            if val_f1 > previous_results['val_f1']:\n",
    "                percentage_increase = ((val_f1 - previous_results['val_f1']) / previous_results['val_f1']) * 100\n",
    "                tqdm.write('\\033[92m' + f'{round(percentage_increase, 2)}% F1 Score increased compared to the previous epoch' + '\\033[0m')\n",
    "    \n",
    "        # Store current results as previous results for the next epoch\n",
    "        previous_results = {\n",
    "            'loss_train_avg': loss_train_avg,\n",
    "            'val_loss': val_loss,\n",
    "            'val_f1': val_f1\n",
    "        }\n",
    "        \n",
    "        # Check for early stopping\n",
    "        if val_loss < best_val_loss:\n",
    "            best_val_loss = val_loss\n",
    "            counter = 0\n",
    "        else:\n",
    "            counter += 1\n",
    "            if counter >= patience:\n",
    "                tqdm.write('\\nEarly stopping triggered. Training stopped.')\n",
    "                break\n",
    "    \n",
    "    total_time_minutes = total_training_time / 60\n",
    "    tqdm.write(f'\\nTotal training time: {total_time_minutes} minutes')\n",
    "    \n",
    "    final_accuracy = accuracy_list[-1]\n",
    "    final_precision = precision_list[-1]\n",
    "    tqdm.write(f'Final Accuracy: {final_accuracy}')\n",
    "    tqdm.write(f'Final Precision: {final_precision}')\n",
    "    \n",
    "    # Create the x-axis values based on the actual number of epochs completed\n",
    "    x_values = range(1, len(training_loss_list) + 1)\n",
    "    \n",
    "    # Create the metrics subplot\n",
    "    fig, ax = plt.subplots(figsize=(8, 6))\n",
    "    \n",
    "    # Plot training loss\n",
    "    ax.plot(x_values, training_loss_list, label='Training Loss')\n",
    "    \n",
    "    # Plot validation loss\n",
    "    ax.plot(x_values, validation_loss_list, label='Validation Loss')\n",
    "    \n",
    "    # Plot F1-score\n",
    "    ax.plot(x_values, f1_score_list, label='F1 Score')\n",
    "\n",
    "    # Plot Accuracy\n",
    "    ax.plot(x_values, accuracy_list, label='Accuracy')\n",
    "    \n",
    "    # Set labels and title\n",
    "    ax.set_xlabel('Epoch')\n",
    "    ax.set_ylabel('Metric Value')\n",
    "    ax.set_title('Training Loss, Validation Loss, and F1 Score')\n",
    "    \n",
    "    # Set legend\n",
    "    ax.legend()\n",
    "    \n",
    "    # Show the combined plot\n",
    "    plt.show()\n",
    "    \n",
    "    \n",
    "    # Create the metrics table\n",
    "    metrics_table = [\n",
    "        ['Epoch', 'Training Loss', 'Validation Loss', 'F1 Score', 'Accuracy', 'Precision'],\n",
    "    ]\n",
    "    previous_results = None\n",
    "    for epoch in range(1, len(training_loss_list) + 1):\n",
    "        row = [\n",
    "            epoch,\n",
    "            training_loss_list[epoch - 1],\n",
    "            validation_loss_list[epoch - 1],\n",
    "            f1_score_list[epoch - 1],\n",
    "            accuracy_list[epoch - 1],\n",
    "            precision_list[epoch - 1]\n",
    "        ]\n",
    "    \n",
    "        # Compare with previous epoch results\n",
    "        if previous_results is not None:\n",
    "            if training_loss_list[epoch - 1] < previous_results['loss_train_avg']:\n",
    "                row[1] = '\\033[92m' + str(row[1]) + '\\033[0m'  # Highlight in green\n",
    "            if training_loss_list[epoch - 1] > previous_results['loss_train_avg']:\n",
    "                row[1] = '\\033[91m' + str(row[1]) + '\\033[0m'  # Highlight in red\n",
    "            if validation_loss_list[epoch - 1] < previous_results['val_loss']:\n",
    "                row[2] = '\\033[92m' + str(row[2]) + '\\033[0m'  # Highlight in green\n",
    "            if validation_loss_list[epoch - 1] > previous_results['val_loss']:\n",
    "                row[2] = '\\033[91m' + str(row[2]) + '\\033[0m'  # Highlight in red\n",
    "            if f1_score_list[epoch - 1] > previous_results['val_f1']:\n",
    "                row[3] = '\\033[92m' + str(row[3]) + '\\033[0m'  # Highlight in green\n",
    "            if f1_score_list[epoch - 1] < previous_results['val_f1']:\n",
    "                row[3] = '\\033[91m' + str(row[3]) + '\\033[0m'  # Highlight in red\n",
    "            if accuracy_list[epoch - 1] > previous_results['val_f1']:\n",
    "                row[4] = '\\033[92m' + str(row[3]) + '\\033[0m'  # Highlight in green\n",
    "            if accuracy_list[epoch - 1] < previous_results['val_f1']:\n",
    "                row[4] = '\\033[91m' + str(row[3]) + '\\033[0m'  # Highlight in red\n",
    "            if precision_list[epoch - 1] > previous_results['val_f1']:\n",
    "                row[5] = '\\033[92m' + str(row[3]) + '\\033[0m'  # Highlight in green\n",
    "            if precision_list[epoch - 1] < previous_results['val_f1']:\n",
    "                row[5] = '\\033[91m' + str(row[3]) + '\\033[0m'  # Highlight in red\n",
    "    \n",
    "        metrics_table.append(row)\n",
    "        previous_results = {\n",
    "            'loss_train_avg': training_loss_list[epoch - 1],\n",
    "            'val_loss': validation_loss_list[epoch - 1],\n",
    "            'val_f1': f1_score_list[epoch - 1]\n",
    "        }\n",
    "    \n",
    "    # Calculate total training time in minutes\n",
    "    total_time_minutes = total_training_time / 60\n",
    "    \n",
    "    # Calculate total precision\n",
    "    total_precision = precision_list[-1]\n",
    "    \n",
    "    # Add total training time and total precision rows to the table\n",
    "    metrics_table.append(['Total Training Time', '', '', '', '', total_training_time])\n",
    "    metrics_table.append(['Final Precision', '', '', '', '', total_precision])\n",
    "    metrics_table.append(['Total Time (minutes)', '', '', '', '', total_time_minutes])\n",
    "    \n",
    "    # Print the table\n",
    "    print(tabulate(metrics_table, headers='firstrow'))\n",
    "\n",
    "default_args = {\n",
    "    \"output_dir\": \"tmp\",\n",
    "    \"evaluation_strategy\": \"steps\",\n",
    "    \"num_train_epochs\": 1,\n",
    "    \"log_level\": \"error\",\n",
    "    \"report_to\": \"none\",\n",
    "}"
   ]
  },
  {
   "cell_type": "code",
   "execution_count": 3,
   "id": "d9785608-cd5e-4432-9d68-68d90c4a0a5a",
   "metadata": {},
   "outputs": [
    {
     "name": "stderr",
     "output_type": "stream",
     "text": [
      "Found cached dataset imdb (/home/z123010/.cache/huggingface/datasets/imdb/plain_text/1.0.0/d613c88cf8fa3bab83b4ded3713f1f74830d1100e171db75bbddb80b3345c9c0)\n"
     ]
    },
    {
     "data": {
      "application/vnd.jupyter.widget-view+json": {
       "model_id": "eba97eabb27a4b4faefbddd50704c802",
       "version_major": 2,
       "version_minor": 0
      },
      "text/plain": [
       "  0%|          | 0/3 [00:00<?, ?it/s]"
      ]
     },
     "metadata": {},
     "output_type": "display_data"
    }
   ],
   "source": [
    "df = datacleaning_imdb()"
   ]
  },
  {
   "cell_type": "code",
   "execution_count": 4,
   "id": "8793b8bc-43bd-4d43-a17e-abf0174eb200",
   "metadata": {},
   "outputs": [],
   "source": [
    "# Create label_dict and assign the number of labels\n",
    "label_dict = {label: index for index, label in enumerate(df['label'].unique())}"
   ]
  },
  {
   "cell_type": "code",
   "execution_count": 5,
   "id": "2707709e-9e1b-460f-9386-6d9e999f2d90",
   "metadata": {},
   "outputs": [
    {
     "data": {
      "text/html": [
       "<div>\n",
       "<style scoped>\n",
       "    .dataframe tbody tr th:only-of-type {\n",
       "        vertical-align: middle;\n",
       "    }\n",
       "\n",
       "    .dataframe tbody tr th {\n",
       "        vertical-align: top;\n",
       "    }\n",
       "\n",
       "    .dataframe thead th {\n",
       "        text-align: right;\n",
       "    }\n",
       "</style>\n",
       "<table border=\"1\" class=\"dataframe\">\n",
       "  <thead>\n",
       "    <tr style=\"text-align: right;\">\n",
       "      <th></th>\n",
       "      <th>text</th>\n",
       "      <th>label</th>\n",
       "      <th>sentiment</th>\n",
       "      <th>data_type</th>\n",
       "    </tr>\n",
       "  </thead>\n",
       "  <tbody>\n",
       "    <tr>\n",
       "      <th>6868</th>\n",
       "      <td>Dumb is as dumb does, in this thoroughly unint...</td>\n",
       "      <td>0</td>\n",
       "      <td>bad</td>\n",
       "      <td>train</td>\n",
       "    </tr>\n",
       "    <tr>\n",
       "      <th>24016</th>\n",
       "      <td>I dug out from my garage some old musicals and...</td>\n",
       "      <td>1</td>\n",
       "      <td>good</td>\n",
       "      <td>train</td>\n",
       "    </tr>\n",
       "    <tr>\n",
       "      <th>9668</th>\n",
       "      <td>After watching this movie I was honestly disap...</td>\n",
       "      <td>0</td>\n",
       "      <td>bad</td>\n",
       "      <td>train</td>\n",
       "    </tr>\n",
       "    <tr>\n",
       "      <th>13640</th>\n",
       "      <td>This movie was nominated for best picture but ...</td>\n",
       "      <td>1</td>\n",
       "      <td>good</td>\n",
       "      <td>val</td>\n",
       "    </tr>\n",
       "    <tr>\n",
       "      <th>14018</th>\n",
       "      <td>Just like Al Gore shook us up with his painful...</td>\n",
       "      <td>1</td>\n",
       "      <td>good</td>\n",
       "      <td>train</td>\n",
       "    </tr>\n",
       "    <tr>\n",
       "      <th>7488</th>\n",
       "      <td>Unfortunately, this movie is so bad. The origi...</td>\n",
       "      <td>0</td>\n",
       "      <td>bad</td>\n",
       "      <td>train</td>\n",
       "    </tr>\n",
       "    <tr>\n",
       "      <th>5804</th>\n",
       "      <td>Altered Species starts one Friday night in Los...</td>\n",
       "      <td>0</td>\n",
       "      <td>bad</td>\n",
       "      <td>train</td>\n",
       "    </tr>\n",
       "    <tr>\n",
       "      <th>12909</th>\n",
       "      <td>'The Luzhin Defence' is a movie worthy of anyo...</td>\n",
       "      <td>1</td>\n",
       "      <td>good</td>\n",
       "      <td>train</td>\n",
       "    </tr>\n",
       "    <tr>\n",
       "      <th>3386</th>\n",
       "      <td>This film's trailer interested me enough to wa...</td>\n",
       "      <td>0</td>\n",
       "      <td>bad</td>\n",
       "      <td>train</td>\n",
       "    </tr>\n",
       "    <tr>\n",
       "      <th>9567</th>\n",
       "      <td>The only reason I watched this film was becaus...</td>\n",
       "      <td>0</td>\n",
       "      <td>bad</td>\n",
       "      <td>val</td>\n",
       "    </tr>\n",
       "  </tbody>\n",
       "</table>\n",
       "</div>"
      ],
      "text/plain": [
       "                                                    text  label sentiment   \n",
       "6868   Dumb is as dumb does, in this thoroughly unint...      0       bad  \\\n",
       "24016  I dug out from my garage some old musicals and...      1      good   \n",
       "9668   After watching this movie I was honestly disap...      0       bad   \n",
       "13640  This movie was nominated for best picture but ...      1      good   \n",
       "14018  Just like Al Gore shook us up with his painful...      1      good   \n",
       "7488   Unfortunately, this movie is so bad. The origi...      0       bad   \n",
       "5804   Altered Species starts one Friday night in Los...      0       bad   \n",
       "12909  'The Luzhin Defence' is a movie worthy of anyo...      1      good   \n",
       "3386   This film's trailer interested me enough to wa...      0       bad   \n",
       "9567   The only reason I watched this film was becaus...      0       bad   \n",
       "\n",
       "      data_type  \n",
       "6868      train  \n",
       "24016     train  \n",
       "9668      train  \n",
       "13640       val  \n",
       "14018     train  \n",
       "7488      train  \n",
       "5804      train  \n",
       "12909     train  \n",
       "3386      train  \n",
       "9567        val  "
      ]
     },
     "execution_count": 5,
     "metadata": {},
     "output_type": "execute_result"
    }
   ],
   "source": [
    "df.sample(n=10, random_state=42)  # Generate 10 random rows from df"
   ]
  },
  {
   "cell_type": "code",
   "execution_count": 6,
   "id": "dc596d9c-5808-4f39-a59e-6ed36d8927dd",
   "metadata": {},
   "outputs": [
    {
     "data": {
      "text/html": [
       "<div>\n",
       "<style scoped>\n",
       "    .dataframe tbody tr th:only-of-type {\n",
       "        vertical-align: middle;\n",
       "    }\n",
       "\n",
       "    .dataframe tbody tr th {\n",
       "        vertical-align: top;\n",
       "    }\n",
       "\n",
       "    .dataframe thead th {\n",
       "        text-align: right;\n",
       "    }\n",
       "</style>\n",
       "<table border=\"1\" class=\"dataframe\">\n",
       "  <thead>\n",
       "    <tr style=\"text-align: right;\">\n",
       "      <th></th>\n",
       "      <th>text</th>\n",
       "      <th>label</th>\n",
       "      <th>data_type</th>\n",
       "    </tr>\n",
       "    <tr>\n",
       "      <th>sentiment</th>\n",
       "      <th></th>\n",
       "      <th></th>\n",
       "      <th></th>\n",
       "    </tr>\n",
       "  </thead>\n",
       "  <tbody>\n",
       "    <tr>\n",
       "      <th>bad</th>\n",
       "      <td>12500</td>\n",
       "      <td>12500</td>\n",
       "      <td>12500</td>\n",
       "    </tr>\n",
       "    <tr>\n",
       "      <th>good</th>\n",
       "      <td>12500</td>\n",
       "      <td>12500</td>\n",
       "      <td>12500</td>\n",
       "    </tr>\n",
       "  </tbody>\n",
       "</table>\n",
       "</div>"
      ],
      "text/plain": [
       "            text  label  data_type\n",
       "sentiment                         \n",
       "bad        12500  12500      12500\n",
       "good       12500  12500      12500"
      ]
     },
     "execution_count": 6,
     "metadata": {},
     "output_type": "execute_result"
    }
   ],
   "source": [
    "df.groupby(['sentiment']).count()"
   ]
  },
  {
   "cell_type": "code",
   "execution_count": 7,
   "id": "731e5a17-8ab7-4d19-a012-05eeabab1d90",
   "metadata": {
    "tags": []
   },
   "outputs": [],
   "source": [
    "# Load BERT tokenizer\n",
    "pretrained_path = 'bert-base-uncased'  # Replace with the path to the pretrained BERT model\n",
    "tokenizer = BertTokenizer.from_pretrained(\n",
    "    'bert-base-uncased',\n",
    "    do_lower_case=True\n",
    ")\n",
    "\n",
    "encoded_data_train_text = tokenizer.batch_encode_plus(\n",
    "    df[df.data_type=='train'].text.values,\n",
    "    add_special_tokens=True,\n",
    "    return_attention_mask=True,\n",
    "    padding='longest',\n",
    "    max_length=256,\n",
    "    truncation=True,\n",
    "    return_tensors='pt'\n",
    ")\n",
    "\n",
    "input_ids_train = encoded_data_train_text['input_ids']\n",
    "attention_masks_train = encoded_data_train_text['attention_mask']\n",
    "\n",
    "labels_train = torch.tensor(df[df.data_type=='train'].label.values)\n",
    "\n",
    "encoded_data_val_text = tokenizer.batch_encode_plus(\n",
    "    df[df.data_type=='val'].text.values,\n",
    "    add_special_tokens=True,\n",
    "    return_attention_mask=True,\n",
    "    padding='longest',\n",
    "    max_length=256,\n",
    "    truncation=True,\n",
    "    return_tensors='pt'\n",
    ")\n",
    "\n",
    "input_ids_val = encoded_data_val_text['input_ids']\n",
    "attention_masks_val = encoded_data_val_text['attention_mask']\n",
    "\n",
    "labels_val = torch.tensor(df[df.data_type=='val'].label.values)"
   ]
  },
  {
   "cell_type": "code",
   "execution_count": 8,
   "id": "42125069-fd5d-49c0-8032-2be61cb2a6d3",
   "metadata": {
    "tags": []
   },
   "outputs": [
    {
     "data": {
      "text/plain": [
       "(21250, 3750)"
      ]
     },
     "execution_count": 8,
     "metadata": {},
     "output_type": "execute_result"
    }
   ],
   "source": [
    "dataset_train = TensorDataset(input_ids_train, attention_masks_train, labels_train)\n",
    "dataset_val = TensorDataset(input_ids_val, attention_masks_val, labels_val)\n",
    "len(dataset_train), len(dataset_val)"
   ]
  },
  {
   "cell_type": "code",
   "execution_count": 9,
   "id": "9a2f7e02-8423-4787-994e-d599ab86b123",
   "metadata": {},
   "outputs": [],
   "source": [
    "from transformers import BertModel, BertConfig, GPT2Model, GPT2Config\n",
    "\n",
    "num_classes = 2\n",
    "\n",
    "class SentimentModel(nn.Module):\n",
    "    def __init__(self, pretrained_bert_path, pretrained_gpt_path):\n",
    "        super(SentimentModel, self).__init__()\n",
    "        \n",
    "        bert_config = BertConfig.from_pretrained(\n",
    "            pretrained_bert_path,\n",
    "            hidden_dropout_prob=0.3,\n",
    "            attention_probs_dropout_prob=0.1\n",
    "        )\n",
    "        self.bert = BertModel.from_pretrained(pretrained_bert_path, config=bert_config)\n",
    "        \n",
    "        gpt_config = GPT2Config.from_pretrained(pretrained_gpt_path)\n",
    "        self.gpt = GPT2Model.from_pretrained(pretrained_gpt_path, config=gpt_config)\n",
    "        \n",
    "        self.dropout = nn.Dropout(0.2)\n",
    "        self.fc = nn.Linear(bert_config.hidden_size + gpt_config.hidden_size, num_classes)\n",
    "\n",
    "    def forward(self, input_ids, attention_mask, labels=None):\n",
    "        bert_outputs = self.bert(input_ids, attention_mask=attention_mask)[0]\n",
    "        gpt_outputs = self.gpt(input_ids, attention_mask=attention_mask)[0]\n",
    "        \n",
    "        bert_pooled_output = self.dropout(bert_outputs[:, 0, :])  # Use the [CLS] token representation\n",
    "        gpt_last_hidden_state = self.dropout(gpt_outputs[:, -1, :])  # Use the last hidden state\n",
    "        \n",
    "        combined_outputs = torch.cat((bert_pooled_output, gpt_last_hidden_state), dim=1)\n",
    "        \n",
    "        logits = self.fc(combined_outputs)\n",
    "        outputs = nn.functional.softmax(logits, dim=1)\n",
    "        \n",
    "        if labels is not None:\n",
    "            loss = nn.CrossEntropyLoss()(logits.view(-1, num_classes), labels.view(-1))\n",
    "            return loss, outputs, labels\n",
    "        else:\n",
    "            return outputs"
   ]
  },
  {
   "cell_type": "code",
   "execution_count": 10,
   "id": "7d131f86-ee7e-49b3-a104-a61841bb78d3",
   "metadata": {},
   "outputs": [
    {
     "name": "stderr",
     "output_type": "stream",
     "text": [
      "Some weights of the model checkpoint at bert-base-uncased were not used when initializing BertModel: ['cls.seq_relationship.bias', 'cls.predictions.transform.dense.bias', 'cls.predictions.transform.LayerNorm.bias', 'cls.predictions.transform.LayerNorm.weight', 'cls.seq_relationship.weight', 'cls.predictions.transform.dense.weight', 'cls.predictions.bias']\n",
      "- This IS expected if you are initializing BertModel from the checkpoint of a model trained on another task or with another architecture (e.g. initializing a BertForSequenceClassification model from a BertForPreTraining model).\n",
      "- This IS NOT expected if you are initializing BertModel from the checkpoint of a model that you expect to be exactly identical (initializing a BertForSequenceClassification model from a BertForSequenceClassification model).\n"
     ]
    }
   ],
   "source": [
    "# Create model instance\n",
    "model = SentimentModel('bert-base-uncased', 'gpt2')"
   ]
  },
  {
   "cell_type": "code",
   "execution_count": 11,
   "id": "60757b1f-b1d9-468b-9ad0-3d59e4a7da03",
   "metadata": {},
   "outputs": [],
   "source": [
    "# Define the regularization strength\n",
    "lambda_l1 = 0.001\n",
    "lambda_l2 = 0.001\n",
    "# Define the loss function\n",
    "criterion = nn.CrossEntropyLoss()"
   ]
  },
  {
   "cell_type": "code",
   "execution_count": 12,
   "id": "834c8c87-40a1-49c6-8e7b-307b931aec01",
   "metadata": {},
   "outputs": [
    {
     "data": {
      "text/plain": [
       "SentimentModel(\n",
       "  (bert): BertModel(\n",
       "    (embeddings): BertEmbeddings(\n",
       "      (word_embeddings): Embedding(30522, 768, padding_idx=0)\n",
       "      (position_embeddings): Embedding(512, 768)\n",
       "      (token_type_embeddings): Embedding(2, 768)\n",
       "      (LayerNorm): LayerNorm((768,), eps=1e-12, elementwise_affine=True)\n",
       "      (dropout): Dropout(p=0.3, inplace=False)\n",
       "    )\n",
       "    (encoder): BertEncoder(\n",
       "      (layer): ModuleList(\n",
       "        (0-11): 12 x BertLayer(\n",
       "          (attention): BertAttention(\n",
       "            (self): BertSelfAttention(\n",
       "              (query): Linear(in_features=768, out_features=768, bias=True)\n",
       "              (key): Linear(in_features=768, out_features=768, bias=True)\n",
       "              (value): Linear(in_features=768, out_features=768, bias=True)\n",
       "              (dropout): Dropout(p=0.1, inplace=False)\n",
       "            )\n",
       "            (output): BertSelfOutput(\n",
       "              (dense): Linear(in_features=768, out_features=768, bias=True)\n",
       "              (LayerNorm): LayerNorm((768,), eps=1e-12, elementwise_affine=True)\n",
       "              (dropout): Dropout(p=0.3, inplace=False)\n",
       "            )\n",
       "          )\n",
       "          (intermediate): BertIntermediate(\n",
       "            (dense): Linear(in_features=768, out_features=3072, bias=True)\n",
       "            (intermediate_act_fn): GELUActivation()\n",
       "          )\n",
       "          (output): BertOutput(\n",
       "            (dense): Linear(in_features=3072, out_features=768, bias=True)\n",
       "            (LayerNorm): LayerNorm((768,), eps=1e-12, elementwise_affine=True)\n",
       "            (dropout): Dropout(p=0.3, inplace=False)\n",
       "          )\n",
       "        )\n",
       "      )\n",
       "    )\n",
       "    (pooler): BertPooler(\n",
       "      (dense): Linear(in_features=768, out_features=768, bias=True)\n",
       "      (activation): Tanh()\n",
       "    )\n",
       "  )\n",
       "  (gpt): GPT2Model(\n",
       "    (wte): Embedding(50257, 768)\n",
       "    (wpe): Embedding(1024, 768)\n",
       "    (drop): Dropout(p=0.1, inplace=False)\n",
       "    (h): ModuleList(\n",
       "      (0-11): 12 x GPT2Block(\n",
       "        (ln_1): LayerNorm((768,), eps=1e-05, elementwise_affine=True)\n",
       "        (attn): GPT2Attention(\n",
       "          (c_attn): Conv1D()\n",
       "          (c_proj): Conv1D()\n",
       "          (attn_dropout): Dropout(p=0.1, inplace=False)\n",
       "          (resid_dropout): Dropout(p=0.1, inplace=False)\n",
       "        )\n",
       "        (ln_2): LayerNorm((768,), eps=1e-05, elementwise_affine=True)\n",
       "        (mlp): GPT2MLP(\n",
       "          (c_fc): Conv1D()\n",
       "          (c_proj): Conv1D()\n",
       "          (act): NewGELUActivation()\n",
       "          (dropout): Dropout(p=0.1, inplace=False)\n",
       "        )\n",
       "      )\n",
       "    )\n",
       "    (ln_f): LayerNorm((768,), eps=1e-05, elementwise_affine=True)\n",
       "  )\n",
       "  (dropout): Dropout(p=0.2, inplace=False)\n",
       "  (fc): Linear(in_features=1536, out_features=2, bias=True)\n",
       ")"
      ]
     },
     "execution_count": 12,
     "metadata": {},
     "output_type": "execute_result"
    }
   ],
   "source": [
    "# Set device (CPU or GPU)\n",
    "device = torch.device(\"cuda\" if torch.cuda.is_available() else \"cpu\")\n",
    "model.to(device)"
   ]
  },
  {
   "cell_type": "code",
   "execution_count": 13,
   "id": "c610d351-0be0-4899-bf58-2397193b5ed1",
   "metadata": {},
   "outputs": [],
   "source": [
    "from transformers import TrainingArguments, Trainer, logging\n",
    "training_args = TrainingArguments(\n",
    "    per_device_train_batch_size=1,\n",
    "    gradient_accumulation_steps=4,\n",
    "    gradient_checkpointing=True,\n",
    "    fp16=True,\n",
    "    **default_args,\n",
    ")"
   ]
  },
  {
   "cell_type": "code",
   "execution_count": 14,
   "id": "7feb2f9d-26d7-41ed-b138-f2a59173c99a",
   "metadata": {},
   "outputs": [],
   "source": [
    "trainer = Trainer(\n",
    "    model=model,\n",
    "    args=training_args,\n",
    "    train_dataset=dataset_train,\n",
    "    eval_dataset=dataset_val,\n",
    ")"
   ]
  },
  {
   "cell_type": "code",
   "execution_count": 15,
   "id": "cfb9e671-0f31-4a58-bf72-8c13ac04e6a0",
   "metadata": {},
   "outputs": [],
   "source": [
    "from torch.utils.data import DataLoader, RandomSampler, SequentialSampler\n",
    "# Set the batch size and create data loaders for training and validation sets\n",
    "\n",
    "batch_size = 8 #32\n",
    "\n",
    "dataloader_train = DataLoader(\n",
    "    dataset_train,\n",
    "    sampler=RandomSampler(dataset_train),\n",
    "    batch_size=batch_size\n",
    ")\n",
    "\n",
    "dataloader_val = DataLoader(\n",
    "    dataset_val,\n",
    "    sampler=RandomSampler(dataset_val),\n",
    "    batch_size=batch_size\n",
    ")"
   ]
  },
  {
   "cell_type": "code",
   "execution_count": 16,
   "id": "d3bc14be-49bc-4b42-be70-17412957cdaa",
   "metadata": {},
   "outputs": [
    {
     "name": "stderr",
     "output_type": "stream",
     "text": [
      "/home/z123010/anaconda3/lib/python3.10/site-packages/transformers/optimization.py:411: FutureWarning: This implementation of AdamW is deprecated and will be removed in a future version. Use the PyTorch implementation torch.optim.AdamW instead, or set `no_deprecation_warning=True` to disable this warning\n",
      "  warnings.warn(\n"
     ]
    }
   ],
   "source": [
    "from transformers import AdamW, get_linear_schedule_with_warmup\n",
    "\n",
    "optimizer = AdamW(\n",
    "    model.parameters(),\n",
    "    lr=1e-5,\n",
    "    eps=1e-8\n",
    ")\n",
    "\n",
    "epochs = 25\n",
    "patience = 5\n",
    "scheduler = get_linear_schedule_with_warmup(\n",
    "    optimizer,\n",
    "    num_warmup_steps=0,\n",
    "    num_training_steps=len(dataloader_train) * epochs\n",
    ")"
   ]
  },
  {
   "cell_type": "code",
   "execution_count": 17,
   "id": "27c174c9-8e92-42fa-9d81-54260c58251e",
   "metadata": {},
   "outputs": [],
   "source": [
    "import random\n",
    "\n",
    "seed_val = 17\n",
    "random.seed(seed_val) #sets the seed value for the Python built-in pseudo-random generator.\n",
    "np.random.seed(seed_val) #sets the seed value for the NumPy pseudo-random number generator.\n",
    "torch.manual_seed(seed_val) #sets the seed value for the random number generator in PyTorch on the CPU.\n",
    "torch.cuda.manual_seed_all(seed_val) #sets the seed value for the random number generator in PyTorch on the GPU."
   ]
  },
  {
   "cell_type": "code",
   "execution_count": 18,
   "id": "f3a28ec5-87fe-4bdf-b6a1-05bf8b6f6b8e",
   "metadata": {},
   "outputs": [
    {
     "name": "stdout",
     "output_type": "stream",
     "text": [
      "cuda\n"
     ]
    }
   ],
   "source": [
    "device = torch.device('cuda' if torch.cuda.is_available() else 'cpu')\n",
    "model.to(device)\n",
    "\n",
    "print(device)"
   ]
  },
  {
   "cell_type": "code",
   "execution_count": 19,
   "id": "d9c363e7-c757-4bb6-bb2c-d19a126fd165",
   "metadata": {},
   "outputs": [
    {
     "name": "stdout",
     "output_type": "stream",
     "text": [
      "\n",
      "Fold 1\n"
     ]
    },
    {
     "data": {
      "application/vnd.jupyter.widget-view+json": {
       "model_id": "26e7d047acb042209209d7ab7ae126d3",
       "version_major": 2,
       "version_minor": 0
      },
      "text/plain": [
       "  0%|          | 0/25 [00:00<?, ?it/s]"
      ]
     },
     "metadata": {},
     "output_type": "display_data"
    },
    {
     "data": {
      "application/vnd.jupyter.widget-view+json": {
       "model_id": "",
       "version_major": 2,
       "version_minor": 0
      },
      "text/plain": [
       "Epoch 1:   0%|          | 0/2391 [00:00<?, ?it/s]"
      ]
     },
     "metadata": {},
     "output_type": "display_data"
    },
    {
     "name": "stdout",
     "output_type": "stream",
     "text": [
      "\n",
      "Epoch 1\n",
      "Training loss: 0.37593885328897614\n",
      "Validation loss: 0.31941045457199635\n",
      "F1 Score (weighted): 0.9039939195509822\n"
     ]
    },
    {
     "data": {
      "application/vnd.jupyter.widget-view+json": {
       "model_id": "",
       "version_major": 2,
       "version_minor": 0
      },
      "text/plain": [
       "Epoch 2:   0%|          | 0/2391 [00:00<?, ?it/s]"
      ]
     },
     "metadata": {},
     "output_type": "display_data"
    },
    {
     "name": "stdout",
     "output_type": "stream",
     "text": [
      "\n",
      "Epoch 2\n",
      "Training loss: 0.2999867904304777\n",
      "Validation loss: 0.45416806885623373\n",
      "F1 Score (weighted): 0.9110538598995194\n",
      "\u001b[92m20.2% Training loss decreased compared to the previous epoch\u001b[0m\n",
      "\u001b[91m42.19% Validation loss increased compared to the previous epoch\u001b[0m\n",
      "\u001b[92m0.78% F1 Score increased compared to the previous epoch\u001b[0m\n"
     ]
    },
    {
     "data": {
      "application/vnd.jupyter.widget-view+json": {
       "model_id": "",
       "version_major": 2,
       "version_minor": 0
      },
      "text/plain": [
       "Epoch 3:   0%|          | 0/2391 [00:00<?, ?it/s]"
      ]
     },
     "metadata": {},
     "output_type": "display_data"
    },
    {
     "name": "stdout",
     "output_type": "stream",
     "text": [
      "\n",
      "Epoch 3\n",
      "Training loss: 0.2722863798784984\n",
      "Validation loss: 0.4464652782650288\n",
      "F1 Score (weighted): 0.9096466186147053\n",
      "\u001b[92m9.23% Training loss decreased compared to the previous epoch\u001b[0m\n",
      "\u001b[92m1.7% Validation loss decreased compared to the previous epoch\u001b[0m\n",
      "\u001b[91m0.15% F1 Score decreased compared to the previous epoch\u001b[0m\n"
     ]
    },
    {
     "data": {
      "application/vnd.jupyter.widget-view+json": {
       "model_id": "",
       "version_major": 2,
       "version_minor": 0
      },
      "text/plain": [
       "Epoch 4:   0%|          | 0/2391 [00:00<?, ?it/s]"
      ]
     },
     "metadata": {},
     "output_type": "display_data"
    },
    {
     "name": "stdout",
     "output_type": "stream",
     "text": [
      "\n",
      "Epoch 4\n",
      "Training loss: 0.2402213712370207\n",
      "Validation loss: 0.49713921206749456\n",
      "F1 Score (weighted): 0.9081636971569036\n",
      "\u001b[92m11.78% Training loss decreased compared to the previous epoch\u001b[0m\n",
      "\u001b[91m11.35% Validation loss increased compared to the previous epoch\u001b[0m\n",
      "\u001b[91m0.16% F1 Score decreased compared to the previous epoch\u001b[0m\n"
     ]
    },
    {
     "data": {
      "application/vnd.jupyter.widget-view+json": {
       "model_id": "",
       "version_major": 2,
       "version_minor": 0
      },
      "text/plain": [
       "Epoch 5:   0%|          | 0/2391 [00:00<?, ?it/s]"
      ]
     },
     "metadata": {},
     "output_type": "display_data"
    },
    {
     "name": "stdout",
     "output_type": "stream",
     "text": [
      "\n",
      "Epoch 5\n",
      "Training loss: 0.19200368484237068\n",
      "Validation loss: 0.5510301477067029\n",
      "F1 Score (weighted): 0.9086606577677915\n",
      "\u001b[92m20.07% Training loss decreased compared to the previous epoch\u001b[0m\n",
      "\u001b[91m10.84% Validation loss increased compared to the previous epoch\u001b[0m\n",
      "\u001b[92m0.05% F1 Score increased compared to the previous epoch\u001b[0m\n"
     ]
    },
    {
     "data": {
      "application/vnd.jupyter.widget-view+json": {
       "model_id": "",
       "version_major": 2,
       "version_minor": 0
      },
      "text/plain": [
       "Epoch 6:   0%|          | 0/2391 [00:00<?, ?it/s]"
      ]
     },
     "metadata": {},
     "output_type": "display_data"
    },
    {
     "name": "stdout",
     "output_type": "stream",
     "text": [
      "\n",
      "Epoch 6\n",
      "Training loss: 0.1731332144919578\n",
      "Validation loss: 0.5057340500744684\n",
      "F1 Score (weighted): 0.9181071278923016\n",
      "\u001b[92m9.83% Training loss decreased compared to the previous epoch\u001b[0m\n",
      "\u001b[92m8.22% Validation loss decreased compared to the previous epoch\u001b[0m\n",
      "\u001b[92m1.04% F1 Score increased compared to the previous epoch\u001b[0m\n",
      "\n",
      "Early stopping triggered. Training stopped.\n",
      "\n",
      "Total training time: 120.37501289049784 minutes\n",
      "Final Accuracy: 0.9181176470588235\n",
      "Final Precision: 0.9182593441224383\n"
     ]
    },
    {
     "data": {
      "image/png": "[encoded data removed]",
      "text/plain": [
       "<Figure size 800x600 with 1 Axes>"
      ]
     },
     "metadata": {},
     "output_type": "display_data"
    },
    {
     "name": "stdout",
     "output_type": "stream",
     "text": [
      "Epoch                 Training Loss        Validation Loss      F1 Score            Accuracy              Precision\n",
      "--------------------  -------------------  -------------------  ------------------  ------------------  -----------\n",
      "1                     0.37593885328897614  0.31941045457199635  0.9039939195509822  0.904                  0.904182\n",
      "2                     \u001b[92m0.2999867904304777\u001b[0m   \u001b[91m0.45416806885623373\u001b[0m  \u001b[92m0.9110538598995194\u001b[0m  \u001b[92m\u001b[92m0.9110538598995194\u001b[0m\u001b[0m     \u001b[92m\u001b[92m0.911054\u001b[0m\u001b[0m\n",
      "3                     \u001b[92m0.2722863798784984\u001b[0m   \u001b[92m0.4464652782650288\u001b[0m   \u001b[91m0.9096466186147053\u001b[0m  \u001b[91m\u001b[91m0.9096466186147053\u001b[0m\u001b[0m     \u001b[91m\u001b[91m0.909647\u001b[0m\u001b[0m\n",
      "4                     \u001b[92m0.2402213712370207\u001b[0m   \u001b[91m0.49713921206749456\u001b[0m  \u001b[91m0.9081636971569036\u001b[0m  \u001b[91m\u001b[91m0.9081636971569036\u001b[0m\u001b[0m     \u001b[91m\u001b[91m0.908164\u001b[0m\u001b[0m\n",
      "5                     \u001b[92m0.19200368484237068\u001b[0m  \u001b[91m0.5510301477067029\u001b[0m   \u001b[92m0.9086606577677915\u001b[0m  \u001b[92m\u001b[92m0.9086606577677915\u001b[0m\u001b[0m     \u001b[92m\u001b[92m0.908661\u001b[0m\u001b[0m\n",
      "6                     \u001b[92m0.1731332144919578\u001b[0m   \u001b[92m0.5057340500744684\u001b[0m   \u001b[92m0.9181071278923016\u001b[0m  \u001b[92m\u001b[92m0.9181071278923016\u001b[0m\u001b[0m     \u001b[92m\u001b[92m0.918107\u001b[0m\u001b[0m\n",
      "Total Training Time                                                                                     7222.5\n",
      "Final Precision                                                                                            0.918259\n",
      "Total Time (minutes)                                                                                     120.375\n",
      "\n",
      "Fold 2\n"
     ]
    },
    {
     "data": {
      "application/vnd.jupyter.widget-view+json": {
       "model_id": "d0fdec2519214a7887d4f64993635b85",
       "version_major": 2,
       "version_minor": 0
      },
      "text/plain": [
       "  0%|          | 0/25 [00:00<?, ?it/s]"
      ]
     },
     "metadata": {},
     "output_type": "display_data"
    },
    {
     "data": {
      "application/vnd.jupyter.widget-view+json": {
       "model_id": "",
       "version_major": 2,
       "version_minor": 0
      },
      "text/plain": [
       "Epoch 1:   0%|          | 0/2391 [00:00<?, ?it/s]"
      ]
     },
     "metadata": {},
     "output_type": "display_data"
    },
    {
     "name": "stdout",
     "output_type": "stream",
     "text": [
      "\n",
      "Epoch 1\n",
      "Training loss: 0.16105205068361186\n",
      "Validation loss: 0.08300747232729043\n",
      "F1 Score (weighted): 0.98541166778673\n"
     ]
    },
    {
     "data": {
      "application/vnd.jupyter.widget-view+json": {
       "model_id": "",
       "version_major": 2,
       "version_minor": 0
      },
      "text/plain": [
       "Epoch 2:   0%|          | 0/2391 [00:00<?, ?it/s]"
      ]
     },
     "metadata": {},
     "output_type": "display_data"
    },
    {
     "name": "stdout",
     "output_type": "stream",
     "text": [
      "\n",
      "Epoch 2\n",
      "Training loss: 0.13906255574625953\n",
      "Validation loss: 0.11624134902688509\n",
      "F1 Score (weighted): 0.9811760954135837\n",
      "\u001b[92m13.65% Training loss decreased compared to the previous epoch\u001b[0m\n",
      "\u001b[91m40.04% Validation loss increased compared to the previous epoch\u001b[0m\n",
      "\u001b[91m0.43% F1 Score decreased compared to the previous epoch\u001b[0m\n"
     ]
    },
    {
     "data": {
      "application/vnd.jupyter.widget-view+json": {
       "model_id": "",
       "version_major": 2,
       "version_minor": 0
      },
      "text/plain": [
       "Epoch 3:   0%|          | 0/2391 [00:00<?, ?it/s]"
      ]
     },
     "metadata": {},
     "output_type": "display_data"
    },
    {
     "name": "stdout",
     "output_type": "stream",
     "text": [
      "\n",
      "Epoch 3\n",
      "Training loss: 0.10615686829634077\n",
      "Validation loss: 0.10970066412624546\n",
      "F1 Score (weighted): 0.9807056430757862\n",
      "\u001b[92m23.66% Training loss decreased compared to the previous epoch\u001b[0m\n",
      "\u001b[92m5.63% Validation loss decreased compared to the previous epoch\u001b[0m\n",
      "\u001b[91m0.05% F1 Score decreased compared to the previous epoch\u001b[0m\n"
     ]
    },
    {
     "data": {
      "application/vnd.jupyter.widget-view+json": {
       "model_id": "",
       "version_major": 2,
       "version_minor": 0
      },
      "text/plain": [
       "Epoch 4:   0%|          | 0/2391 [00:00<?, ?it/s]"
      ]
     },
     "metadata": {},
     "output_type": "display_data"
    },
    {
     "name": "stdout",
     "output_type": "stream",
     "text": [
      "\n",
      "Epoch 4\n",
      "Training loss: 0.09263688500875737\n",
      "Validation loss: 0.09932924351013432\n",
      "F1 Score (weighted): 0.9854117647058823\n",
      "\u001b[92m12.74% Training loss decreased compared to the previous epoch\u001b[0m\n",
      "\u001b[92m9.45% Validation loss decreased compared to the previous epoch\u001b[0m\n",
      "\u001b[92m0.48% F1 Score increased compared to the previous epoch\u001b[0m\n"
     ]
    },
    {
     "data": {
      "application/vnd.jupyter.widget-view+json": {
       "model_id": "",
       "version_major": 2,
       "version_minor": 0
      },
      "text/plain": [
       "Epoch 5:   0%|          | 0/2391 [00:00<?, ?it/s]"
      ]
     },
     "metadata": {},
     "output_type": "display_data"
    },
    {
     "name": "stdout",
     "output_type": "stream",
     "text": [
      "\n",
      "Epoch 5\n",
      "Training loss: 0.07202251944024604\n",
      "Validation loss: 0.13404180941670074\n",
      "F1 Score (weighted): 0.9802344974812784\n",
      "\u001b[92m22.25% Training loss decreased compared to the previous epoch\u001b[0m\n",
      "\u001b[91m34.95% Validation loss increased compared to the previous epoch\u001b[0m\n",
      "\u001b[91m0.53% F1 Score decreased compared to the previous epoch\u001b[0m\n"
     ]
    },
    {
     "data": {
      "application/vnd.jupyter.widget-view+json": {
       "model_id": "",
       "version_major": 2,
       "version_minor": 0
      },
      "text/plain": [
       "Epoch 6:   0%|          | 0/2391 [00:00<?, ?it/s]"
      ]
     },
     "metadata": {},
     "output_type": "display_data"
    },
    {
     "name": "stdout",
     "output_type": "stream",
     "text": [
      "\n",
      "Epoch 6\n",
      "Training loss: 0.05240290976179704\n",
      "Validation loss: 0.13868172274569024\n",
      "F1 Score (weighted): 0.980235285363727\n",
      "\u001b[92m27.24% Training loss decreased compared to the previous epoch\u001b[0m\n",
      "\u001b[91m3.46% Validation loss increased compared to the previous epoch\u001b[0m\n",
      "\u001b[92m0.0% F1 Score increased compared to the previous epoch\u001b[0m\n",
      "\n",
      "Early stopping triggered. Training stopped.\n",
      "\n",
      "Total training time: 120.31693768898646 minutes\n",
      "Final Accuracy: 0.9802352941176471\n",
      "Final Precision: 0.9802370132238618\n"
     ]
    },
    {
     "data": {
      "image/png": "[encoded data removed]",
      "text/plain": [
       "<Figure size 800x600 with 1 Axes>"
      ]
     },
     "metadata": {},
     "output_type": "display_data"
    },
    {
     "name": "stdout",
     "output_type": "stream",
     "text": [
      "Epoch                 Training Loss        Validation Loss      F1 Score            Accuracy              Precision\n",
      "--------------------  -------------------  -------------------  ------------------  ------------------  -----------\n",
      "1                     0.16105205068361186  0.08300747232729043  0.98541166778673    0.9854117647058823     0.985422\n",
      "2                     \u001b[92m0.13906255574625953\u001b[0m  \u001b[91m0.11624134902688509\u001b[0m  \u001b[91m0.9811760954135837\u001b[0m  \u001b[91m\u001b[91m0.9811760954135837\u001b[0m\u001b[0m     \u001b[91m\u001b[91m0.981176\u001b[0m\u001b[0m\n",
      "3                     \u001b[92m0.10615686829634077\u001b[0m  \u001b[92m0.10970066412624546\u001b[0m  \u001b[91m0.9807056430757862\u001b[0m  \u001b[91m\u001b[91m0.9807056430757862\u001b[0m\u001b[0m     \u001b[91m\u001b[91m0.980706\u001b[0m\u001b[0m\n",
      "4                     \u001b[92m0.09263688500875737\u001b[0m  \u001b[92m0.09932924351013432\u001b[0m  \u001b[92m0.9854117647058823\u001b[0m  \u001b[92m\u001b[92m0.9854117647058823\u001b[0m\u001b[0m     \u001b[92m\u001b[92m0.985412\u001b[0m\u001b[0m\n",
      "5                     \u001b[92m0.07202251944024604\u001b[0m  \u001b[91m0.13404180941670074\u001b[0m  \u001b[91m0.9802344974812784\u001b[0m  \u001b[91m\u001b[91m0.9802344974812784\u001b[0m\u001b[0m     \u001b[91m\u001b[91m0.980234\u001b[0m\u001b[0m\n",
      "6                     \u001b[92m0.05240290976179704\u001b[0m  \u001b[91m0.13868172274569024\u001b[0m  \u001b[92m0.980235285363727\u001b[0m   \u001b[92m\u001b[92m0.980235285363727\u001b[0m\u001b[0m      \u001b[92m\u001b[92m0.980235\u001b[0m\u001b[0m\n",
      "Total Training Time                                                                                     7219.02\n",
      "Final Precision                                                                                            0.980237\n",
      "Total Time (minutes)                                                                                     120.317\n",
      "\n",
      "Fold 3\n"
     ]
    },
    {
     "data": {
      "application/vnd.jupyter.widget-view+json": {
       "model_id": "8e9a6a77891742f7b56ba2a143b6fff9",
       "version_major": 2,
       "version_minor": 0
      },
      "text/plain": [
       "  0%|          | 0/25 [00:00<?, ?it/s]"
      ]
     },
     "metadata": {},
     "output_type": "display_data"
    },
    {
     "data": {
      "application/vnd.jupyter.widget-view+json": {
       "model_id": "",
       "version_major": 2,
       "version_minor": 0
      },
      "text/plain": [
       "Epoch 1:   0%|          | 0/2391 [00:00<?, ?it/s]"
      ]
     },
     "metadata": {},
     "output_type": "display_data"
    },
    {
     "name": "stdout",
     "output_type": "stream",
     "text": [
      "\n",
      "Epoch 1\n",
      "Training loss: 0.061925250667562125\n",
      "Validation loss: 0.02145618532564045\n",
      "F1 Score (weighted): 0.9957650439215562\n"
     ]
    },
    {
     "data": {
      "application/vnd.jupyter.widget-view+json": {
       "model_id": "",
       "version_major": 2,
       "version_minor": 0
      },
      "text/plain": [
       "Epoch 2:   0%|          | 0/2391 [00:00<?, ?it/s]"
      ]
     },
     "metadata": {},
     "output_type": "display_data"
    },
    {
     "name": "stdout",
     "output_type": "stream",
     "text": [
      "\n",
      "Epoch 2\n",
      "Training loss: 0.04614563045745522\n",
      "Validation loss: 0.0167631580441891\n",
      "F1 Score (weighted): 0.9962357548093564\n",
      "\u001b[92m25.48% Training loss decreased compared to the previous epoch\u001b[0m\n",
      "\u001b[92m21.87% Validation loss decreased compared to the previous epoch\u001b[0m\n",
      "\u001b[92m0.05% F1 Score increased compared to the previous epoch\u001b[0m\n"
     ]
    },
    {
     "data": {
      "application/vnd.jupyter.widget-view+json": {
       "model_id": "",
       "version_major": 2,
       "version_minor": 0
      },
      "text/plain": [
       "Epoch 3:   0%|          | 0/2391 [00:00<?, ?it/s]"
      ]
     },
     "metadata": {},
     "output_type": "display_data"
    },
    {
     "name": "stdout",
     "output_type": "stream",
     "text": [
      "\n",
      "Epoch 3\n",
      "Training loss: 0.03499792918094681\n",
      "Validation loss: 0.022208828347033818\n",
      "F1 Score (weighted): 0.9952946935116954\n",
      "\u001b[92m24.16% Training loss decreased compared to the previous epoch\u001b[0m\n",
      "\u001b[91m32.49% Validation loss increased compared to the previous epoch\u001b[0m\n",
      "\u001b[91m0.09% F1 Score decreased compared to the previous epoch\u001b[0m\n"
     ]
    },
    {
     "data": {
      "application/vnd.jupyter.widget-view+json": {
       "model_id": "",
       "version_major": 2,
       "version_minor": 0
      },
      "text/plain": [
       "Epoch 4:   0%|          | 0/2391 [00:00<?, ?it/s]"
      ]
     },
     "metadata": {},
     "output_type": "display_data"
    },
    {
     "name": "stdout",
     "output_type": "stream",
     "text": [
      "\n",
      "Epoch 4\n",
      "Training loss: 0.025383766487549832\n",
      "Validation loss: 0.016256202097090573\n",
      "F1 Score (weighted): 0.9976472466230869\n",
      "\u001b[92m27.47% Training loss decreased compared to the previous epoch\u001b[0m\n",
      "\u001b[92m26.8% Validation loss decreased compared to the previous epoch\u001b[0m\n",
      "\u001b[92m0.24% F1 Score increased compared to the previous epoch\u001b[0m\n"
     ]
    },
    {
     "data": {
      "application/vnd.jupyter.widget-view+json": {
       "model_id": "",
       "version_major": 2,
       "version_minor": 0
      },
      "text/plain": [
       "Epoch 5:   0%|          | 0/2391 [00:00<?, ?it/s]"
      ]
     },
     "metadata": {},
     "output_type": "display_data"
    },
    {
     "name": "stdout",
     "output_type": "stream",
     "text": [
      "\n",
      "Epoch 5\n",
      "Training loss: 0.022830821734504635\n",
      "Validation loss: 0.02781409483178319\n",
      "F1 Score (weighted): 0.9962356496735365\n",
      "\u001b[92m10.06% Training loss decreased compared to the previous epoch\u001b[0m\n",
      "\u001b[91m71.1% Validation loss increased compared to the previous epoch\u001b[0m\n",
      "\u001b[91m0.14% F1 Score decreased compared to the previous epoch\u001b[0m\n"
     ]
    },
    {
     "data": {
      "application/vnd.jupyter.widget-view+json": {
       "model_id": "",
       "version_major": 2,
       "version_minor": 0
      },
      "text/plain": [
       "Epoch 6:   0%|          | 0/2391 [00:00<?, ?it/s]"
      ]
     },
     "metadata": {},
     "output_type": "display_data"
    },
    {
     "name": "stdout",
     "output_type": "stream",
     "text": [
      "\n",
      "Epoch 6\n",
      "Training loss: 0.022854380492357385\n",
      "Validation loss: 0.027083162621554822\n",
      "F1 Score (weighted): 0.9957649143533578\n",
      "\u001b[91m0.1% Training loss increased compared to the previous epoch\u001b[0m\n",
      "\u001b[92m2.63% Validation loss decreased compared to the previous epoch\u001b[0m\n",
      "\u001b[91m0.05% F1 Score decreased compared to the previous epoch\u001b[0m\n"
     ]
    },
    {
     "data": {
      "application/vnd.jupyter.widget-view+json": {
       "model_id": "",
       "version_major": 2,
       "version_minor": 0
      },
      "text/plain": [
       "Epoch 7:   0%|          | 0/2391 [00:00<?, ?it/s]"
      ]
     },
     "metadata": {},
     "output_type": "display_data"
    },
    {
     "name": "stdout",
     "output_type": "stream",
     "text": [
      "\n",
      "Epoch 7\n",
      "Training loss: 0.015545549547911718\n",
      "Validation loss: 0.028956512177347314\n",
      "F1 Score (weighted): 0.9962356496735365\n",
      "\u001b[92m31.98% Training loss decreased compared to the previous epoch\u001b[0m\n",
      "\u001b[91m6.92% Validation loss increased compared to the previous epoch\u001b[0m\n",
      "\u001b[92m0.05% F1 Score increased compared to the previous epoch\u001b[0m\n"
     ]
    },
    {
     "data": {
      "application/vnd.jupyter.widget-view+json": {
       "model_id": "",
       "version_major": 2,
       "version_minor": 0
      },
      "text/plain": [
       "Epoch 8:   0%|          | 0/2391 [00:00<?, ?it/s]"
      ]
     },
     "metadata": {},
     "output_type": "display_data"
    },
    {
     "name": "stdout",
     "output_type": "stream",
     "text": [
      "\n",
      "Epoch 8\n",
      "Training loss: 0.016915718319942607\n",
      "Validation loss: 0.02804702626204018\n",
      "F1 Score (weighted): 0.9967061452723216\n",
      "\u001b[91m8.81% Training loss increased compared to the previous epoch\u001b[0m\n",
      "\u001b[92m3.14% Validation loss decreased compared to the previous epoch\u001b[0m\n",
      "\u001b[92m0.05% F1 Score increased compared to the previous epoch\u001b[0m\n"
     ]
    },
    {
     "data": {
      "application/vnd.jupyter.widget-view+json": {
       "model_id": "",
       "version_major": 2,
       "version_minor": 0
      },
      "text/plain": [
       "Epoch 9:   0%|          | 0/2391 [00:00<?, ?it/s]"
      ]
     },
     "metadata": {},
     "output_type": "display_data"
    },
    {
     "name": "stdout",
     "output_type": "stream",
     "text": [
      "\n",
      "Epoch 9\n",
      "Training loss: 0.011746317477138113\n",
      "Validation loss: 0.027832677578820453\n",
      "F1 Score (weighted): 0.9967061452723216\n",
      "\u001b[92m30.56% Training loss decreased compared to the previous epoch\u001b[0m\n",
      "\u001b[92m0.76% Validation loss decreased compared to the previous epoch\u001b[0m\n",
      "\n",
      "Early stopping triggered. Training stopped.\n",
      "\n",
      "Total training time: 180.53144923448562 minutes\n",
      "Final Accuracy: 0.9967058823529412\n",
      "Final Precision: 0.9967174552824258\n"
     ]
    },
    {
     "data": {
      "image/png": "[encoded data removed]",
      "text/plain": [
       "<Figure size 800x600 with 1 Axes>"
      ]
     },
     "metadata": {},
     "output_type": "display_data"
    },
    {
     "name": "stdout",
     "output_type": "stream",
     "text": [
      "Epoch                 Training Loss         Validation Loss       F1 Score            Accuracy               Precision\n",
      "--------------------  --------------------  --------------------  ------------------  ------------------  ------------\n",
      "1                     0.061925250667562125  0.02145618532564045   0.9957650439215562  0.995764705882353       0.995776\n",
      "2                     \u001b[92m0.04614563045745522\u001b[0m   \u001b[92m0.0167631580441891\u001b[0m    \u001b[92m0.9962357548093564\u001b[0m  \u001b[92m\u001b[92m0.9962357548093564\u001b[0m\u001b[0m      \u001b[92m\u001b[92m0.996236\u001b[0m\u001b[0m\n",
      "3                     \u001b[92m0.03499792918094681\u001b[0m   \u001b[91m0.022208828347033818\u001b[0m  \u001b[91m0.9952946935116954\u001b[0m  \u001b[91m\u001b[91m0.9952946935116954\u001b[0m\u001b[0m      \u001b[91m\u001b[91m0.995295\u001b[0m\u001b[0m\n",
      "4                     \u001b[92m0.025383766487549832\u001b[0m  \u001b[92m0.016256202097090573\u001b[0m  \u001b[92m0.9976472466230869\u001b[0m  \u001b[92m\u001b[92m0.9976472466230869\u001b[0m\u001b[0m      \u001b[92m\u001b[92m0.997647\u001b[0m\u001b[0m\n",
      "5                     \u001b[92m0.022830821734504635\u001b[0m  \u001b[91m0.02781409483178319\u001b[0m   \u001b[91m0.9962356496735365\u001b[0m  \u001b[91m\u001b[91m0.9962356496735365\u001b[0m\u001b[0m      \u001b[91m\u001b[91m0.996236\u001b[0m\u001b[0m\n",
      "6                     \u001b[91m0.022854380492357385\u001b[0m  \u001b[92m0.027083162621554822\u001b[0m  \u001b[91m0.9957649143533578\u001b[0m  \u001b[91m\u001b[91m0.9957649143533578\u001b[0m\u001b[0m      \u001b[91m\u001b[91m0.995765\u001b[0m\u001b[0m\n",
      "7                     \u001b[92m0.015545549547911718\u001b[0m  \u001b[91m0.028956512177347314\u001b[0m  \u001b[92m0.9962356496735365\u001b[0m  \u001b[92m\u001b[92m0.9962356496735365\u001b[0m\u001b[0m      \u001b[92m\u001b[92m0.996236\u001b[0m\u001b[0m\n",
      "8                     \u001b[91m0.016915718319942607\u001b[0m  \u001b[92m0.02804702626204018\u001b[0m   \u001b[92m0.9967061452723216\u001b[0m  \u001b[92m\u001b[92m0.9967061452723216\u001b[0m\u001b[0m      \u001b[92m\u001b[92m0.996706\u001b[0m\u001b[0m\n",
      "9                     \u001b[92m0.011746317477138113\u001b[0m  \u001b[92m0.027832677578820453\u001b[0m  0.9967061452723216  \u001b[91m0.9967061452723216\u001b[0m      \u001b[92m0.996706\u001b[0m\n",
      "Total Training Time                                                                                       10831.9\n",
      "Final Precision                                                                                               0.996717\n",
      "Total Time (minutes)                                                                                        180.531\n",
      "\n",
      "Fold 4\n"
     ]
    },
    {
     "data": {
      "application/vnd.jupyter.widget-view+json": {
       "model_id": "d4d78faf6bfe4181a397288481f51226",
       "version_major": 2,
       "version_minor": 0
      },
      "text/plain": [
       "  0%|          | 0/25 [00:00<?, ?it/s]"
      ]
     },
     "metadata": {},
     "output_type": "display_data"
    },
    {
     "data": {
      "application/vnd.jupyter.widget-view+json": {
       "model_id": "",
       "version_major": 2,
       "version_minor": 0
      },
      "text/plain": [
       "Epoch 1:   0%|          | 0/2391 [00:00<?, ?it/s]"
      ]
     },
     "metadata": {},
     "output_type": "display_data"
    },
    {
     "name": "stdout",
     "output_type": "stream",
     "text": [
      "\n",
      "Epoch 1\n",
      "Training loss: 0.017392784303124593\n",
      "Validation loss: 0.0034020698677508783\n",
      "F1 Score (weighted): 0.999058841461444\n"
     ]
    },
    {
     "data": {
      "application/vnd.jupyter.widget-view+json": {
       "model_id": "",
       "version_major": 2,
       "version_minor": 0
      },
      "text/plain": [
       "Epoch 2:   0%|          | 0/2391 [00:00<?, ?it/s]"
      ]
     },
     "metadata": {},
     "output_type": "display_data"
    },
    {
     "name": "stdout",
     "output_type": "stream",
     "text": [
      "\n",
      "Epoch 2\n",
      "Training loss: 0.009491403703227437\n",
      "Validation loss: 0.0029938778253616703\n",
      "F1 Score (weighted): 0.9995294163520585\n",
      "\u001b[92m45.43% Training loss decreased compared to the previous epoch\u001b[0m\n",
      "\u001b[92m12.0% Validation loss decreased compared to the previous epoch\u001b[0m\n",
      "\u001b[92m0.05% F1 Score increased compared to the previous epoch\u001b[0m\n"
     ]
    },
    {
     "data": {
      "application/vnd.jupyter.widget-view+json": {
       "model_id": "",
       "version_major": 2,
       "version_minor": 0
      },
      "text/plain": [
       "Epoch 3:   0%|          | 0/2391 [00:00<?, ?it/s]"
      ]
     },
     "metadata": {},
     "output_type": "display_data"
    },
    {
     "name": "stdout",
     "output_type": "stream",
     "text": [
      "\n",
      "Epoch 3\n",
      "Training loss: 0.00976621004989067\n",
      "Validation loss: 4.5177459611789984e-05\n",
      "F1 Score (weighted): 1.0\n",
      "\u001b[91m2.9% Training loss increased compared to the previous epoch\u001b[0m\n",
      "\u001b[92m98.49% Validation loss decreased compared to the previous epoch\u001b[0m\n",
      "\u001b[92m0.05% F1 Score increased compared to the previous epoch\u001b[0m\n"
     ]
    },
    {
     "data": {
      "application/vnd.jupyter.widget-view+json": {
       "model_id": "",
       "version_major": 2,
       "version_minor": 0
      },
      "text/plain": [
       "Epoch 4:   0%|          | 0/2391 [00:00<?, ?it/s]"
      ]
     },
     "metadata": {},
     "output_type": "display_data"
    },
    {
     "name": "stdout",
     "output_type": "stream",
     "text": [
      "\n",
      "Epoch 4\n",
      "Training loss: 0.009001646349860956\n",
      "Validation loss: 0.0008935692916319434\n",
      "F1 Score (weighted): 0.9995294163520585\n",
      "\u001b[92m7.83% Training loss decreased compared to the previous epoch\u001b[0m\n",
      "\u001b[91m1877.91% Validation loss increased compared to the previous epoch\u001b[0m\n",
      "\u001b[91m0.05% F1 Score decreased compared to the previous epoch\u001b[0m\n"
     ]
    },
    {
     "data": {
      "application/vnd.jupyter.widget-view+json": {
       "model_id": "",
       "version_major": 2,
       "version_minor": 0
      },
      "text/plain": [
       "Epoch 5:   0%|          | 0/2391 [00:00<?, ?it/s]"
      ]
     },
     "metadata": {},
     "output_type": "display_data"
    },
    {
     "name": "stdout",
     "output_type": "stream",
     "text": [
      "\n",
      "Epoch 5\n",
      "Training loss: 0.006825414011062634\n",
      "Validation loss: 0.0006815727326463717\n",
      "F1 Score (weighted): 0.9995294163520585\n",
      "\u001b[92m24.18% Training loss decreased compared to the previous epoch\u001b[0m\n",
      "\u001b[92m23.72% Validation loss decreased compared to the previous epoch\u001b[0m\n"
     ]
    },
    {
     "data": {
      "application/vnd.jupyter.widget-view+json": {
       "model_id": "",
       "version_major": 2,
       "version_minor": 0
      },
      "text/plain": [
       "Epoch 6:   0%|          | 0/2391 [00:00<?, ?it/s]"
      ]
     },
     "metadata": {},
     "output_type": "display_data"
    },
    {
     "name": "stdout",
     "output_type": "stream",
     "text": [
      "\n",
      "Epoch 6\n",
      "Training loss: 0.008243146164503593\n",
      "Validation loss: 0.00019756375100790375\n",
      "F1 Score (weighted): 1.0\n",
      "\u001b[91m20.77% Training loss increased compared to the previous epoch\u001b[0m\n",
      "\u001b[92m71.01% Validation loss decreased compared to the previous epoch\u001b[0m\n",
      "\u001b[92m0.05% F1 Score increased compared to the previous epoch\u001b[0m\n"
     ]
    },
    {
     "data": {
      "application/vnd.jupyter.widget-view+json": {
       "model_id": "",
       "version_major": 2,
       "version_minor": 0
      },
      "text/plain": [
       "Epoch 7:   0%|          | 0/2391 [00:00<?, ?it/s]"
      ]
     },
     "metadata": {},
     "output_type": "display_data"
    },
    {
     "name": "stdout",
     "output_type": "stream",
     "text": [
      "\n",
      "Epoch 7\n",
      "Training loss: 0.004487808630059949\n",
      "Validation loss: 0.00030201376708999874\n",
      "F1 Score (weighted): 1.0\n",
      "\u001b[92m45.56% Training loss decreased compared to the previous epoch\u001b[0m\n",
      "\u001b[91m52.87% Validation loss increased compared to the previous epoch\u001b[0m\n"
     ]
    },
    {
     "data": {
      "application/vnd.jupyter.widget-view+json": {
       "model_id": "",
       "version_major": 2,
       "version_minor": 0
      },
      "text/plain": [
       "Epoch 8:   0%|          | 0/2391 [00:00<?, ?it/s]"
      ]
     },
     "metadata": {},
     "output_type": "display_data"
    },
    {
     "name": "stdout",
     "output_type": "stream",
     "text": [
      "\n",
      "Epoch 8\n",
      "Training loss: 0.005702544359113149\n",
      "Validation loss: 0.0003020159519005668\n",
      "F1 Score (weighted): 1.0\n",
      "\u001b[91m27.07% Training loss increased compared to the previous epoch\u001b[0m\n",
      "\u001b[91m0.0% Validation loss increased compared to the previous epoch\u001b[0m\n",
      "\n",
      "Early stopping triggered. Training stopped.\n",
      "\n",
      "Total training time: 160.50281142791113 minutes\n",
      "Final Accuracy: 1.0\n",
      "Final Precision: 1.0\n"
     ]
    },
    {
     "data": {
      "image/png": "[encoded data removed]",
      "text/plain": [
       "<Figure size 800x600 with 1 Axes>"
      ]
     },
     "metadata": {},
     "output_type": "display_data"
    },
    {
     "name": "stdout",
     "output_type": "stream",
     "text": [
      "Epoch                 Training Loss         Validation Loss         F1 Score            Accuracy              Precision\n",
      "--------------------  --------------------  ----------------------  ------------------  ------------------  -----------\n",
      "1                     0.017392784303124593  0.0034020698677508783   0.999058841461444   0.9990588235294118     0.999061\n",
      "2                     \u001b[92m0.009491403703227437\u001b[0m  \u001b[92m0.0029938778253616703\u001b[0m   \u001b[92m0.9995294163520585\u001b[0m  \u001b[92m\u001b[92m0.9995294163520585\u001b[0m\u001b[0m     \u001b[92m\u001b[92m0.999529\u001b[0m\u001b[0m\n",
      "3                     \u001b[91m0.00976621004989067\u001b[0m   \u001b[92m4.5177459611789984e-05\u001b[0m  \u001b[92m1.0\u001b[0m                 \u001b[92m\u001b[92m1.0\u001b[0m\u001b[0m                    \u001b[92m\u001b[92m1\u001b[0m\u001b[0m\n",
      "4                     \u001b[92m0.009001646349860956\u001b[0m  \u001b[91m0.0008935692916319434\u001b[0m   \u001b[91m0.9995294163520585\u001b[0m  \u001b[91m\u001b[91m0.9995294163520585\u001b[0m\u001b[0m     \u001b[91m\u001b[91m0.999529\u001b[0m\u001b[0m\n",
      "5                     \u001b[92m0.006825414011062634\u001b[0m  \u001b[92m0.0006815727326463717\u001b[0m   0.9995294163520585  \u001b[91m0.9995294163520585\u001b[0m     \u001b[92m0.999529\u001b[0m\n",
      "6                     \u001b[91m0.008243146164503593\u001b[0m  \u001b[92m0.00019756375100790375\u001b[0m  \u001b[92m1.0\u001b[0m                 \u001b[92m\u001b[92m1.0\u001b[0m\u001b[0m                    \u001b[92m\u001b[92m1\u001b[0m\u001b[0m\n",
      "7                     \u001b[92m0.004487808630059949\u001b[0m  \u001b[91m0.00030201376708999874\u001b[0m  1.0                 1.0                    1\n",
      "8                     \u001b[91m0.005702544359113149\u001b[0m  \u001b[91m0.0003020159519005668\u001b[0m   1.0                 1.0                    1\n",
      "Total Training Time                                                                                         9630.17\n",
      "Final Precision                                                                                                1\n",
      "Total Time (minutes)                                                                                         160.503\n",
      "\n",
      "Fold 5\n"
     ]
    },
    {
     "data": {
      "application/vnd.jupyter.widget-view+json": {
       "model_id": "a1a6cd6671fb4cf8ba907724dbdec690",
       "version_major": 2,
       "version_minor": 0
      },
      "text/plain": [
       "  0%|          | 0/25 [00:00<?, ?it/s]"
      ]
     },
     "metadata": {},
     "output_type": "display_data"
    },
    {
     "data": {
      "application/vnd.jupyter.widget-view+json": {
       "model_id": "",
       "version_major": 2,
       "version_minor": 0
      },
      "text/plain": [
       "Epoch 1:   0%|          | 0/2391 [00:00<?, ?it/s]"
      ]
     },
     "metadata": {},
     "output_type": "display_data"
    },
    {
     "name": "stdout",
     "output_type": "stream",
     "text": [
      "\n",
      "Epoch 1\n",
      "Training loss: 0.005707675847336876\n",
      "Validation loss: 1.6212739463331412e-06\n",
      "F1 Score (weighted): 1.0\n"
     ]
    },
    {
     "data": {
      "application/vnd.jupyter.widget-view+json": {
       "model_id": "",
       "version_major": 2,
       "version_minor": 0
      },
      "text/plain": [
       "Epoch 2:   0%|          | 0/2391 [00:00<?, ?it/s]"
      ]
     },
     "metadata": {},
     "output_type": "display_data"
    },
    {
     "name": "stdout",
     "output_type": "stream",
     "text": [
      "\n",
      "Epoch 2\n",
      "Training loss: 0.0043809888660534604\n",
      "Validation loss: 1.6203664345798438e-06\n",
      "F1 Score (weighted): 1.0\n",
      "\u001b[92m23.24% Training loss decreased compared to the previous epoch\u001b[0m\n",
      "\u001b[92m0.06% Validation loss decreased compared to the previous epoch\u001b[0m\n"
     ]
    },
    {
     "data": {
      "application/vnd.jupyter.widget-view+json": {
       "model_id": "",
       "version_major": 2,
       "version_minor": 0
      },
      "text/plain": [
       "Epoch 3:   0%|          | 0/2391 [00:00<?, ?it/s]"
      ]
     },
     "metadata": {},
     "output_type": "display_data"
    },
    {
     "name": "stdout",
     "output_type": "stream",
     "text": [
      "\n",
      "Epoch 3\n",
      "Training loss: 0.004540275042655868\n",
      "Validation loss: 1.6849607305002928e-06\n",
      "F1 Score (weighted): 1.0\n",
      "\u001b[91m3.64% Training loss increased compared to the previous epoch\u001b[0m\n",
      "\u001b[91m3.99% Validation loss increased compared to the previous epoch\u001b[0m\n"
     ]
    },
    {
     "data": {
      "application/vnd.jupyter.widget-view+json": {
       "model_id": "",
       "version_major": 2,
       "version_minor": 0
      },
      "text/plain": [
       "Epoch 4:   0%|          | 0/2391 [00:00<?, ?it/s]"
      ]
     },
     "metadata": {},
     "output_type": "display_data"
    },
    {
     "name": "stdout",
     "output_type": "stream",
     "text": [
      "\n",
      "Epoch 4\n",
      "Training loss: 0.004965296757361917\n",
      "Validation loss: 1.6205344965284956e-06\n",
      "F1 Score (weighted): 1.0\n",
      "\u001b[91m9.36% Training loss increased compared to the previous epoch\u001b[0m\n",
      "\u001b[92m3.82% Validation loss decreased compared to the previous epoch\u001b[0m\n"
     ]
    },
    {
     "data": {
      "application/vnd.jupyter.widget-view+json": {
       "model_id": "",
       "version_major": 2,
       "version_minor": 0
      },
      "text/plain": [
       "Epoch 5:   0%|          | 0/2391 [00:00<?, ?it/s]"
      ]
     },
     "metadata": {},
     "output_type": "display_data"
    },
    {
     "name": "stdout",
     "output_type": "stream",
     "text": [
      "\n",
      "Epoch 5\n",
      "Training loss: 0.0068925535695796665\n",
      "Validation loss: 1.6211731093669624e-06\n",
      "F1 Score (weighted): 1.0\n",
      "\u001b[91m38.81% Training loss increased compared to the previous epoch\u001b[0m\n",
      "\u001b[91m0.04% Validation loss increased compared to the previous epoch\u001b[0m\n"
     ]
    },
    {
     "data": {
      "application/vnd.jupyter.widget-view+json": {
       "model_id": "",
       "version_major": 2,
       "version_minor": 0
      },
      "text/plain": [
       "Epoch 6:   0%|          | 0/2391 [00:00<?, ?it/s]"
      ]
     },
     "metadata": {},
     "output_type": "display_data"
    },
    {
     "name": "stdout",
     "output_type": "stream",
     "text": [
      "\n",
      "Epoch 6\n",
      "Training loss: 0.003924320039660925\n",
      "Validation loss: 1.6204000452813672e-06\n",
      "F1 Score (weighted): 1.0\n",
      "\u001b[92m43.06% Training loss decreased compared to the previous epoch\u001b[0m\n",
      "\u001b[92m0.05% Validation loss decreased compared to the previous epoch\u001b[0m\n"
     ]
    },
    {
     "data": {
      "application/vnd.jupyter.widget-view+json": {
       "model_id": "",
       "version_major": 2,
       "version_minor": 0
      },
      "text/plain": [
       "Epoch 7:   0%|          | 0/2391 [00:00<?, ?it/s]"
      ]
     },
     "metadata": {},
     "output_type": "display_data"
    },
    {
     "name": "stdout",
     "output_type": "stream",
     "text": [
      "\n",
      "Epoch 7\n",
      "Training loss: 0.0052979006029039745\n",
      "Validation loss: 1.619996701476896e-06\n",
      "F1 Score (weighted): 1.0\n",
      "\u001b[91m35.0% Training loss increased compared to the previous epoch\u001b[0m\n",
      "\u001b[92m0.02% Validation loss decreased compared to the previous epoch\u001b[0m\n"
     ]
    },
    {
     "data": {
      "application/vnd.jupyter.widget-view+json": {
       "model_id": "",
       "version_major": 2,
       "version_minor": 0
      },
      "text/plain": [
       "Epoch 8:   0%|          | 0/2391 [00:00<?, ?it/s]"
      ]
     },
     "metadata": {},
     "output_type": "display_data"
    },
    {
     "name": "stdout",
     "output_type": "stream",
     "text": [
      "\n",
      "Epoch 8\n",
      "Training loss: 0.004899781177503069\n",
      "Validation loss: 1.6223159037774434e-06\n",
      "F1 Score (weighted): 1.0\n",
      "\u001b[92m7.51% Training loss decreased compared to the previous epoch\u001b[0m\n",
      "\u001b[91m0.14% Validation loss increased compared to the previous epoch\u001b[0m\n"
     ]
    },
    {
     "data": {
      "application/vnd.jupyter.widget-view+json": {
       "model_id": "",
       "version_major": 2,
       "version_minor": 0
      },
      "text/plain": [
       "Epoch 9:   0%|          | 0/2391 [00:00<?, ?it/s]"
      ]
     },
     "metadata": {},
     "output_type": "display_data"
    },
    {
     "name": "stdout",
     "output_type": "stream",
     "text": [
      "\n",
      "Epoch 9\n",
      "Training loss: 0.004960881357726012\n",
      "Validation loss: 1.6203328128729214e-06\n",
      "F1 Score (weighted): 1.0\n",
      "\u001b[91m1.25% Training loss increased compared to the previous epoch\u001b[0m\n",
      "\u001b[92m0.12% Validation loss decreased compared to the previous epoch\u001b[0m\n"
     ]
    },
    {
     "data": {
      "application/vnd.jupyter.widget-view+json": {
       "model_id": "",
       "version_major": 2,
       "version_minor": 0
      },
      "text/plain": [
       "Epoch 10:   0%|          | 0/2391 [00:00<?, ?it/s]"
      ]
     },
     "metadata": {},
     "output_type": "display_data"
    },
    {
     "name": "stdout",
     "output_type": "stream",
     "text": [
      "\n",
      "Epoch 10\n",
      "Training loss: 0.004838821099133559\n",
      "Validation loss: 1.6217108980877863e-06\n",
      "F1 Score (weighted): 1.0\n",
      "\u001b[92m2.46% Training loss decreased compared to the previous epoch\u001b[0m\n",
      "\u001b[91m0.09% Validation loss increased compared to the previous epoch\u001b[0m\n"
     ]
    },
    {
     "data": {
      "application/vnd.jupyter.widget-view+json": {
       "model_id": "",
       "version_major": 2,
       "version_minor": 0
      },
      "text/plain": [
       "Epoch 11:   0%|          | 0/2391 [00:00<?, ?it/s]"
      ]
     },
     "metadata": {},
     "output_type": "display_data"
    },
    {
     "name": "stdout",
     "output_type": "stream",
     "text": [
      "\n",
      "Epoch 11\n",
      "Training loss: 0.006674116041577351\n",
      "Validation loss: 1.6204000501963998e-06\n",
      "F1 Score (weighted): 1.0\n",
      "\u001b[91m37.93% Training loss increased compared to the previous epoch\u001b[0m\n",
      "\u001b[92m0.08% Validation loss decreased compared to the previous epoch\u001b[0m\n"
     ]
    },
    {
     "data": {
      "application/vnd.jupyter.widget-view+json": {
       "model_id": "",
       "version_major": 2,
       "version_minor": 0
      },
      "text/plain": [
       "Epoch 12:   0%|          | 0/2391 [00:00<?, ?it/s]"
      ]
     },
     "metadata": {},
     "output_type": "display_data"
    },
    {
     "name": "stdout",
     "output_type": "stream",
     "text": [
      "\n",
      "Epoch 12\n",
      "Training loss: 0.006086658508822165\n",
      "Validation loss: 1.6210386717964462e-06\n",
      "F1 Score (weighted): 1.0\n",
      "\u001b[92m8.8% Training loss decreased compared to the previous epoch\u001b[0m\n",
      "\u001b[91m0.04% Validation loss increased compared to the previous epoch\u001b[0m\n",
      "\n",
      "Early stopping triggered. Training stopped.\n",
      "\n",
      "Total training time: 240.81393340826034 minutes\n",
      "Final Accuracy: 1.0\n",
      "Final Precision: 1.0\n"
     ]
    },
    {
     "data": {
      "image/png": "[encoded data removed]",
      "text/plain": [
       "<Figure size 800x600 with 1 Axes>"
      ]
     },
     "metadata": {},
     "output_type": "display_data"
    },
    {
     "name": "stdout",
     "output_type": "stream",
     "text": [
      "Epoch                 Training Loss          Validation Loss         F1 Score    Accuracy      Precision\n",
      "--------------------  ---------------------  ----------------------  ----------  ----------  -----------\n",
      "1                     0.005707675847336876   1.6212739463331412e-06  1.0         1.0               1\n",
      "2                     \u001b[92m0.0043809888660534604\u001b[0m  \u001b[92m1.6203664345798438e-06\u001b[0m  1.0         1.0               1\n",
      "3                     \u001b[91m0.004540275042655868\u001b[0m   \u001b[91m1.6849607305002928e-06\u001b[0m  1.0         1.0               1\n",
      "4                     \u001b[91m0.004965296757361917\u001b[0m   \u001b[92m1.6205344965284956e-06\u001b[0m  1.0         1.0               1\n",
      "5                     \u001b[91m0.0068925535695796665\u001b[0m  \u001b[91m1.6211731093669624e-06\u001b[0m  1.0         1.0               1\n",
      "6                     \u001b[92m0.003924320039660925\u001b[0m   \u001b[92m1.6204000452813672e-06\u001b[0m  1.0         1.0               1\n",
      "7                     \u001b[91m0.0052979006029039745\u001b[0m  \u001b[92m1.619996701476896e-06\u001b[0m   1.0         1.0               1\n",
      "8                     \u001b[92m0.004899781177503069\u001b[0m   \u001b[91m1.6223159037774434e-06\u001b[0m  1.0         1.0               1\n",
      "9                     \u001b[91m0.004960881357726012\u001b[0m   \u001b[92m1.6203328128729214e-06\u001b[0m  1.0         1.0               1\n",
      "10                    \u001b[92m0.004838821099133559\u001b[0m   \u001b[91m1.6217108980877863e-06\u001b[0m  1.0         1.0               1\n",
      "11                    \u001b[91m0.006674116041577351\u001b[0m   \u001b[92m1.6204000501963998e-06\u001b[0m  1.0         1.0               1\n",
      "12                    \u001b[92m0.006086658508822165\u001b[0m   \u001b[91m1.6210386717964462e-06\u001b[0m  1.0         1.0               1\n",
      "Total Training Time                                                                            14448.8\n",
      "Final Precision                                                                                    1\n",
      "Total Time (minutes)                                                                             240.814\n",
      "\n",
      "Fold 6\n"
     ]
    },
    {
     "data": {
      "application/vnd.jupyter.widget-view+json": {
       "model_id": "bcfbda21e0c94f48b1a996bb0cfebe3a",
       "version_major": 2,
       "version_minor": 0
      },
      "text/plain": [
       "  0%|          | 0/25 [00:00<?, ?it/s]"
      ]
     },
     "metadata": {},
     "output_type": "display_data"
    },
    {
     "data": {
      "application/vnd.jupyter.widget-view+json": {
       "model_id": "",
       "version_major": 2,
       "version_minor": 0
      },
      "text/plain": [
       "Epoch 1:   0%|          | 0/2391 [00:00<?, ?it/s]"
      ]
     },
     "metadata": {},
     "output_type": "display_data"
    },
    {
     "name": "stdout",
     "output_type": "stream",
     "text": [
      "\n",
      "Epoch 1\n",
      "Training loss: 0.006349369388002399\n",
      "Validation loss: 0.0009140749587400801\n",
      "F1 Score (weighted): 0.9995294073860364\n"
     ]
    },
    {
     "data": {
      "application/vnd.jupyter.widget-view+json": {
       "model_id": "",
       "version_major": 2,
       "version_minor": 0
      },
      "text/plain": [
       "Epoch 2:   0%|          | 0/2391 [00:00<?, ?it/s]"
      ]
     },
     "metadata": {},
     "output_type": "display_data"
    },
    {
     "name": "stdout",
     "output_type": "stream",
     "text": [
      "\n",
      "Epoch 2\n",
      "Training loss: 0.005538658871898718\n",
      "Validation loss: 0.0009140744881691028\n",
      "F1 Score (weighted): 0.9995294073860364\n",
      "\u001b[92m12.77% Training loss decreased compared to the previous epoch\u001b[0m\n",
      "\u001b[92m0.0% Validation loss decreased compared to the previous epoch\u001b[0m\n"
     ]
    },
    {
     "data": {
      "application/vnd.jupyter.widget-view+json": {
       "model_id": "",
       "version_major": 2,
       "version_minor": 0
      },
      "text/plain": [
       "Epoch 3:   0%|          | 0/2391 [00:00<?, ?it/s]"
      ]
     },
     "metadata": {},
     "output_type": "display_data"
    },
    {
     "name": "stdout",
     "output_type": "stream",
     "text": [
      "\n",
      "Epoch 3\n",
      "Training loss: 0.005956708632634494\n",
      "Validation loss: 0.0009140757317961521\n",
      "F1 Score (weighted): 0.9995294073860364\n",
      "\u001b[91m7.55% Training loss increased compared to the previous epoch\u001b[0m\n",
      "\u001b[91m0.0% Validation loss increased compared to the previous epoch\u001b[0m\n"
     ]
    },
    {
     "data": {
      "application/vnd.jupyter.widget-view+json": {
       "model_id": "",
       "version_major": 2,
       "version_minor": 0
      },
      "text/plain": [
       "Epoch 4:   0%|          | 0/2391 [00:00<?, ?it/s]"
      ]
     },
     "metadata": {},
     "output_type": "display_data"
    },
    {
     "name": "stdout",
     "output_type": "stream",
     "text": [
      "\n",
      "Epoch 4\n",
      "Training loss: 0.00440786219607982\n",
      "Validation loss: 0.0009140766729018851\n",
      "F1 Score (weighted): 0.9995294073860364\n",
      "\u001b[92m26.0% Training loss decreased compared to the previous epoch\u001b[0m\n",
      "\u001b[91m0.0% Validation loss increased compared to the previous epoch\u001b[0m\n"
     ]
    },
    {
     "data": {
      "application/vnd.jupyter.widget-view+json": {
       "model_id": "",
       "version_major": 2,
       "version_minor": 0
      },
      "text/plain": [
       "Epoch 5:   0%|          | 0/2391 [00:00<?, ?it/s]"
      ]
     },
     "metadata": {},
     "output_type": "display_data"
    },
    {
     "name": "stdout",
     "output_type": "stream",
     "text": [
      "\n",
      "Epoch 5\n",
      "Training loss: 0.0045597646877701715\n",
      "Validation loss: 0.0009140738159514395\n",
      "F1 Score (weighted): 0.9995294073860364\n",
      "\u001b[91m3.45% Training loss increased compared to the previous epoch\u001b[0m\n",
      "\u001b[92m0.0% Validation loss decreased compared to the previous epoch\u001b[0m\n"
     ]
    },
    {
     "data": {
      "application/vnd.jupyter.widget-view+json": {
       "model_id": "",
       "version_major": 2,
       "version_minor": 0
      },
      "text/plain": [
       "Epoch 6:   0%|          | 0/2391 [00:00<?, ?it/s]"
      ]
     },
     "metadata": {},
     "output_type": "display_data"
    },
    {
     "name": "stdout",
     "output_type": "stream",
     "text": [
      "\n",
      "Epoch 6\n",
      "Training loss: 0.0048944190466547076\n",
      "Validation loss: 0.0009140746226186938\n",
      "F1 Score (weighted): 0.9995294073860364\n",
      "\u001b[91m7.34% Training loss increased compared to the previous epoch\u001b[0m\n",
      "\u001b[91m0.0% Validation loss increased compared to the previous epoch\u001b[0m\n"
     ]
    },
    {
     "data": {
      "application/vnd.jupyter.widget-view+json": {
       "model_id": "",
       "version_major": 2,
       "version_minor": 0
      },
      "text/plain": [
       "Epoch 7:   0%|          | 0/2391 [00:00<?, ?it/s]"
      ]
     },
     "metadata": {},
     "output_type": "display_data"
    },
    {
     "name": "stdout",
     "output_type": "stream",
     "text": [
      "\n",
      "Epoch 7\n",
      "Training loss: 0.004830933187662165\n",
      "Validation loss: 0.0009140732445428014\n",
      "F1 Score (weighted): 0.9995294073860364\n",
      "\u001b[92m1.3% Training loss decreased compared to the previous epoch\u001b[0m\n",
      "\u001b[92m0.0% Validation loss decreased compared to the previous epoch\u001b[0m\n"
     ]
    },
    {
     "data": {
      "application/vnd.jupyter.widget-view+json": {
       "model_id": "",
       "version_major": 2,
       "version_minor": 0
      },
      "text/plain": [
       "Epoch 8:   0%|          | 0/2391 [00:00<?, ?it/s]"
      ]
     },
     "metadata": {},
     "output_type": "display_data"
    },
    {
     "name": "stdout",
     "output_type": "stream",
     "text": [
      "\n",
      "Epoch 8\n",
      "Training loss: 0.005587133560522527\n",
      "Validation loss: 0.0009140750595663615\n",
      "F1 Score (weighted): 0.9995294073860364\n",
      "\u001b[91m15.65% Training loss increased compared to the previous epoch\u001b[0m\n",
      "\u001b[91m0.0% Validation loss increased compared to the previous epoch\u001b[0m\n"
     ]
    },
    {
     "data": {
      "application/vnd.jupyter.widget-view+json": {
       "model_id": "",
       "version_major": 2,
       "version_minor": 0
      },
      "text/plain": [
       "Epoch 9:   0%|          | 0/2391 [00:00<?, ?it/s]"
      ]
     },
     "metadata": {},
     "output_type": "display_data"
    },
    {
     "name": "stdout",
     "output_type": "stream",
     "text": [
      "\n",
      "Epoch 9\n",
      "Training loss: 0.005210668873982271\n",
      "Validation loss: 0.0009140733453774169\n",
      "F1 Score (weighted): 0.9995294073860364\n",
      "\u001b[92m6.74% Training loss decreased compared to the previous epoch\u001b[0m\n",
      "\u001b[92m0.0% Validation loss decreased compared to the previous epoch\u001b[0m\n"
     ]
    },
    {
     "data": {
      "application/vnd.jupyter.widget-view+json": {
       "model_id": "",
       "version_major": 2,
       "version_minor": 0
      },
      "text/plain": [
       "Epoch 10:   0%|          | 0/2391 [00:00<?, ?it/s]"
      ]
     },
     "metadata": {},
     "output_type": "display_data"
    },
    {
     "name": "stdout",
     "output_type": "stream",
     "text": [
      "\n",
      "Epoch 10\n",
      "Training loss: 0.007987073589298234\n",
      "Validation loss: 0.0009140755973462939\n",
      "F1 Score (weighted): 0.9995294073860364\n",
      "\u001b[91m53.28% Training loss increased compared to the previous epoch\u001b[0m\n",
      "\u001b[91m0.0% Validation loss increased compared to the previous epoch\u001b[0m\n"
     ]
    },
    {
     "data": {
      "application/vnd.jupyter.widget-view+json": {
       "model_id": "",
       "version_major": 2,
       "version_minor": 0
      },
      "text/plain": [
       "Epoch 11:   0%|          | 0/2391 [00:00<?, ?it/s]"
      ]
     },
     "metadata": {},
     "output_type": "display_data"
    },
    {
     "name": "stdout",
     "output_type": "stream",
     "text": [
      "\n",
      "Epoch 11\n",
      "Training loss: 0.004230588262442745\n",
      "Validation loss: 0.0009140747907224736\n",
      "F1 Score (weighted): 0.9995294073860364\n",
      "\u001b[92m47.03% Training loss decreased compared to the previous epoch\u001b[0m\n",
      "\u001b[92m0.0% Validation loss decreased compared to the previous epoch\u001b[0m\n"
     ]
    },
    {
     "data": {
      "application/vnd.jupyter.widget-view+json": {
       "model_id": "",
       "version_major": 2,
       "version_minor": 0
      },
      "text/plain": [
       "Epoch 12:   0%|          | 0/2391 [00:00<?, ?it/s]"
      ]
     },
     "metadata": {},
     "output_type": "display_data"
    },
    {
     "name": "stdout",
     "output_type": "stream",
     "text": [
      "\n",
      "Epoch 12\n",
      "Training loss: 0.0071195023794521925\n",
      "Validation loss: 0.0009140747906758342\n",
      "F1 Score (weighted): 0.9995294073860364\n",
      "\u001b[91m68.29% Training loss increased compared to the previous epoch\u001b[0m\n",
      "\u001b[92m0.0% Validation loss decreased compared to the previous epoch\u001b[0m\n",
      "\n",
      "Early stopping triggered. Training stopped.\n",
      "\n",
      "Total training time: 240.90388668775557 minutes\n",
      "Final Accuracy: 0.9995294117647059\n",
      "Final Precision: 0.9995298458866942\n"
     ]
    },
    {
     "data": {
      "image/png": "[encoded data removed]",
      "text/plain": [
       "<Figure size 800x600 with 1 Axes>"
      ]
     },
     "metadata": {},
     "output_type": "display_data"
    },
    {
     "name": "stdout",
     "output_type": "stream",
     "text": [
      "Epoch                 Training Loss          Validation Loss        F1 Score            Accuracy               Precision\n",
      "--------------------  ---------------------  ---------------------  ------------------  ------------------  ------------\n",
      "1                     0.006349369388002399   0.0009140749587400801  0.9995294073860364  0.9995294117647059      0.99953\n",
      "2                     \u001b[92m0.005538658871898718\u001b[0m   \u001b[92m0.0009140744881691028\u001b[0m  0.9995294073860364  \u001b[92m0.9995294073860364\u001b[0m      \u001b[92m0.999529\u001b[0m\n",
      "3                     \u001b[91m0.005956708632634494\u001b[0m   \u001b[91m0.0009140757317961521\u001b[0m  0.9995294073860364  \u001b[92m0.9995294073860364\u001b[0m      \u001b[92m0.999529\u001b[0m\n",
      "4                     \u001b[92m0.00440786219607982\u001b[0m    \u001b[91m0.0009140766729018851\u001b[0m  0.9995294073860364  \u001b[92m0.9995294073860364\u001b[0m      \u001b[92m0.999529\u001b[0m\n",
      "5                     \u001b[91m0.0045597646877701715\u001b[0m  \u001b[92m0.0009140738159514395\u001b[0m  0.9995294073860364  \u001b[92m0.9995294073860364\u001b[0m      \u001b[92m0.999529\u001b[0m\n",
      "6                     \u001b[91m0.0048944190466547076\u001b[0m  \u001b[91m0.0009140746226186938\u001b[0m  0.9995294073860364  \u001b[92m0.9995294073860364\u001b[0m      \u001b[92m0.999529\u001b[0m\n",
      "7                     \u001b[92m0.004830933187662165\u001b[0m   \u001b[92m0.0009140732445428014\u001b[0m  0.9995294073860364  \u001b[92m0.9995294073860364\u001b[0m      \u001b[92m0.999529\u001b[0m\n",
      "8                     \u001b[91m0.005587133560522527\u001b[0m   \u001b[91m0.0009140750595663615\u001b[0m  0.9995294073860364  \u001b[92m0.9995294073860364\u001b[0m      \u001b[92m0.999529\u001b[0m\n",
      "9                     \u001b[92m0.005210668873982271\u001b[0m   \u001b[92m0.0009140733453774169\u001b[0m  0.9995294073860364  \u001b[92m0.9995294073860364\u001b[0m      \u001b[92m0.999529\u001b[0m\n",
      "10                    \u001b[91m0.007987073589298234\u001b[0m   \u001b[91m0.0009140755973462939\u001b[0m  0.9995294073860364  \u001b[92m0.9995294073860364\u001b[0m      \u001b[92m0.999529\u001b[0m\n",
      "11                    \u001b[92m0.004230588262442745\u001b[0m   \u001b[92m0.0009140747907224736\u001b[0m  0.9995294073860364  \u001b[92m0.9995294073860364\u001b[0m      \u001b[92m0.999529\u001b[0m\n",
      "12                    \u001b[91m0.0071195023794521925\u001b[0m  \u001b[92m0.0009140747906758342\u001b[0m  0.9995294073860364  \u001b[92m0.9995294073860364\u001b[0m      \u001b[92m0.999529\u001b[0m\n",
      "Total Training Time                                                                                         14454.2\n",
      "Final Precision                                                                                                 0.99953\n",
      "Total Time (minutes)                                                                                          240.904\n",
      "\n",
      "Fold 7\n"
     ]
    },
    {
     "data": {
      "application/vnd.jupyter.widget-view+json": {
       "model_id": "3d2155bb86974cbea3a3910fdcfc9e24",
       "version_major": 2,
       "version_minor": 0
      },
      "text/plain": [
       "  0%|          | 0/25 [00:00<?, ?it/s]"
      ]
     },
     "metadata": {},
     "output_type": "display_data"
    },
    {
     "data": {
      "application/vnd.jupyter.widget-view+json": {
       "model_id": "",
       "version_major": 2,
       "version_minor": 0
      },
      "text/plain": [
       "Epoch 1:   0%|          | 0/2391 [00:00<?, ?it/s]"
      ]
     },
     "metadata": {},
     "output_type": "display_data"
    },
    {
     "name": "stdout",
     "output_type": "stream",
     "text": [
      "\n",
      "Epoch 1\n",
      "Training loss: 0.006243017794611291\n",
      "Validation loss: 7.210928964396819e-06\n",
      "F1 Score (weighted): 1.0\n"
     ]
    },
    {
     "data": {
      "application/vnd.jupyter.widget-view+json": {
       "model_id": "",
       "version_major": 2,
       "version_minor": 0
      },
      "text/plain": [
       "Epoch 2:   0%|          | 0/2391 [00:00<?, ?it/s]"
      ]
     },
     "metadata": {},
     "output_type": "display_data"
    },
    {
     "name": "stdout",
     "output_type": "stream",
     "text": [
      "\n",
      "Epoch 2\n",
      "Training loss: 0.005164845296660643\n",
      "Validation loss: 7.213584264951023e-06\n",
      "F1 Score (weighted): 1.0\n",
      "\u001b[92m17.27% Training loss decreased compared to the previous epoch\u001b[0m\n",
      "\u001b[91m0.04% Validation loss increased compared to the previous epoch\u001b[0m\n"
     ]
    },
    {
     "data": {
      "application/vnd.jupyter.widget-view+json": {
       "model_id": "",
       "version_major": 2,
       "version_minor": 0
      },
      "text/plain": [
       "Epoch 3:   0%|          | 0/2391 [00:00<?, ?it/s]"
      ]
     },
     "metadata": {},
     "output_type": "display_data"
    },
    {
     "name": "stdout",
     "output_type": "stream",
     "text": [
      "\n",
      "Epoch 3\n",
      "Training loss: 0.004661376279956956\n",
      "Validation loss: 7.212138979462407e-06\n",
      "F1 Score (weighted): 1.0\n",
      "\u001b[92m9.75% Training loss decreased compared to the previous epoch\u001b[0m\n",
      "\u001b[92m0.02% Validation loss decreased compared to the previous epoch\u001b[0m\n"
     ]
    },
    {
     "data": {
      "application/vnd.jupyter.widget-view+json": {
       "model_id": "",
       "version_major": 2,
       "version_minor": 0
      },
      "text/plain": [
       "Epoch 4:   0%|          | 0/2391 [00:00<?, ?it/s]"
      ]
     },
     "metadata": {},
     "output_type": "display_data"
    },
    {
     "name": "stdout",
     "output_type": "stream",
     "text": [
      "\n",
      "Epoch 4\n",
      "Training loss: 0.0066143636436909285\n",
      "Validation loss: 7.211265064600461e-06\n",
      "F1 Score (weighted): 1.0\n",
      "\u001b[91m41.9% Training loss increased compared to the previous epoch\u001b[0m\n",
      "\u001b[92m0.01% Validation loss decreased compared to the previous epoch\u001b[0m\n"
     ]
    },
    {
     "data": {
      "application/vnd.jupyter.widget-view+json": {
       "model_id": "",
       "version_major": 2,
       "version_minor": 0
      },
      "text/plain": [
       "Epoch 5:   0%|          | 0/2391 [00:00<?, ?it/s]"
      ]
     },
     "metadata": {},
     "output_type": "display_data"
    },
    {
     "name": "stdout",
     "output_type": "stream",
     "text": [
      "\n",
      "Epoch 5\n",
      "Training loss: 0.005574587022321233\n",
      "Validation loss: 7.212475090591311e-06\n",
      "F1 Score (weighted): 1.0\n",
      "\u001b[92m15.72% Training loss decreased compared to the previous epoch\u001b[0m\n",
      "\u001b[91m0.02% Validation loss increased compared to the previous epoch\u001b[0m\n"
     ]
    },
    {
     "data": {
      "application/vnd.jupyter.widget-view+json": {
       "model_id": "",
       "version_major": 2,
       "version_minor": 0
      },
      "text/plain": [
       "Epoch 6:   0%|          | 0/2391 [00:00<?, ?it/s]"
      ]
     },
     "metadata": {},
     "output_type": "display_data"
    },
    {
     "name": "stdout",
     "output_type": "stream",
     "text": [
      "\n",
      "Epoch 6\n",
      "Training loss: 0.004971999385396243\n",
      "Validation loss: 7.211063389920164e-06\n",
      "F1 Score (weighted): 1.0\n",
      "\u001b[92m10.81% Training loss decreased compared to the previous epoch\u001b[0m\n",
      "\u001b[92m0.02% Validation loss decreased compared to the previous epoch\u001b[0m\n",
      "\n",
      "Early stopping triggered. Training stopped.\n",
      "\n",
      "Total training time: 120.53702173233032 minutes\n",
      "Final Accuracy: 1.0\n",
      "Final Precision: 1.0\n"
     ]
    },
    {
     "data": {
      "image/png": "[encoded data removed]",
      "text/plain": [
       "<Figure size 800x600 with 1 Axes>"
      ]
     },
     "metadata": {},
     "output_type": "display_data"
    },
    {
     "name": "stdout",
     "output_type": "stream",
     "text": [
      "Epoch                 Training Loss          Validation Loss        F1 Score    Accuracy      Precision\n",
      "--------------------  ---------------------  ---------------------  ----------  ----------  -----------\n",
      "1                     0.006243017794611291   7.210928964396819e-06  1.0         1.0               1\n",
      "2                     \u001b[92m0.005164845296660643\u001b[0m   \u001b[91m7.213584264951023e-06\u001b[0m  1.0         1.0               1\n",
      "3                     \u001b[92m0.004661376279956956\u001b[0m   \u001b[92m7.212138979462407e-06\u001b[0m  1.0         1.0               1\n",
      "4                     \u001b[91m0.0066143636436909285\u001b[0m  \u001b[92m7.211265064600461e-06\u001b[0m  1.0         1.0               1\n",
      "5                     \u001b[92m0.005574587022321233\u001b[0m   \u001b[91m7.212475090591311e-06\u001b[0m  1.0         1.0               1\n",
      "6                     \u001b[92m0.004971999385396243\u001b[0m   \u001b[92m7.211063389920164e-06\u001b[0m  1.0         1.0               1\n",
      "Total Training Time                                                                            7232.22\n",
      "Final Precision                                                                                   1\n",
      "Total Time (minutes)                                                                            120.537\n",
      "\n",
      "Fold 8\n"
     ]
    },
    {
     "data": {
      "application/vnd.jupyter.widget-view+json": {
       "model_id": "0363d39e84ab4d428c41acc08b0a5c7a",
       "version_major": 2,
       "version_minor": 0
      },
      "text/plain": [
       "  0%|          | 0/25 [00:00<?, ?it/s]"
      ]
     },
     "metadata": {},
     "output_type": "display_data"
    },
    {
     "data": {
      "application/vnd.jupyter.widget-view+json": {
       "model_id": "",
       "version_major": 2,
       "version_minor": 0
      },
      "text/plain": [
       "Epoch 1:   0%|          | 0/2391 [00:00<?, ?it/s]"
      ]
     },
     "metadata": {},
     "output_type": "display_data"
    },
    {
     "name": "stdout",
     "output_type": "stream",
     "text": [
      "\n",
      "Epoch 1\n",
      "Training loss: 0.005715065097097536\n",
      "Validation loss: 4.3755580335121184e-06\n",
      "F1 Score (weighted): 1.0\n"
     ]
    },
    {
     "data": {
      "application/vnd.jupyter.widget-view+json": {
       "model_id": "",
       "version_major": 2,
       "version_minor": 0
      },
      "text/plain": [
       "Epoch 2:   0%|          | 0/2391 [00:00<?, ?it/s]"
      ]
     },
     "metadata": {},
     "output_type": "display_data"
    },
    {
     "name": "stdout",
     "output_type": "stream",
     "text": [
      "\n",
      "Epoch 2\n",
      "Training loss: 0.004960226223366621\n",
      "Validation loss: 4.376734416559902e-06\n",
      "F1 Score (weighted): 1.0\n",
      "\u001b[92m13.21% Training loss decreased compared to the previous epoch\u001b[0m\n",
      "\u001b[91m0.03% Validation loss increased compared to the previous epoch\u001b[0m\n"
     ]
    },
    {
     "data": {
      "application/vnd.jupyter.widget-view+json": {
       "model_id": "",
       "version_major": 2,
       "version_minor": 0
      },
      "text/plain": [
       "Epoch 3:   0%|          | 0/2391 [00:00<?, ?it/s]"
      ]
     },
     "metadata": {},
     "output_type": "display_data"
    },
    {
     "name": "stdout",
     "output_type": "stream",
     "text": [
      "\n",
      "Epoch 3\n",
      "Training loss: 0.004891016734488271\n",
      "Validation loss: 4.375356365242733e-06\n",
      "F1 Score (weighted): 1.0\n",
      "\u001b[92m1.4% Training loss decreased compared to the previous epoch\u001b[0m\n",
      "\u001b[92m0.03% Validation loss decreased compared to the previous epoch\u001b[0m\n"
     ]
    },
    {
     "data": {
      "application/vnd.jupyter.widget-view+json": {
       "model_id": "",
       "version_major": 2,
       "version_minor": 0
      },
      "text/plain": [
       "Epoch 4:   0%|          | 0/2391 [00:00<?, ?it/s]"
      ]
     },
     "metadata": {},
     "output_type": "display_data"
    },
    {
     "name": "stdout",
     "output_type": "stream",
     "text": [
      "\n",
      "Epoch 4\n",
      "Training loss: 0.005301027829753238\n",
      "Validation loss: 4.375457154554467e-06\n",
      "F1 Score (weighted): 1.0\n",
      "\u001b[91m8.38% Training loss increased compared to the previous epoch\u001b[0m\n",
      "\u001b[91m0.0% Validation loss increased compared to the previous epoch\u001b[0m\n"
     ]
    },
    {
     "data": {
      "application/vnd.jupyter.widget-view+json": {
       "model_id": "",
       "version_major": 2,
       "version_minor": 0
      },
      "text/plain": [
       "Epoch 5:   0%|          | 0/2391 [00:00<?, ?it/s]"
      ]
     },
     "metadata": {},
     "output_type": "display_data"
    },
    {
     "name": "stdout",
     "output_type": "stream",
     "text": [
      "\n",
      "Epoch 5\n",
      "Training loss: 0.0053012018662780755\n",
      "Validation loss: 4.378213319000679e-06\n",
      "F1 Score (weighted): 1.0\n",
      "\u001b[91m0.0% Training loss increased compared to the previous epoch\u001b[0m\n",
      "\u001b[91m0.06% Validation loss increased compared to the previous epoch\u001b[0m\n"
     ]
    },
    {
     "data": {
      "application/vnd.jupyter.widget-view+json": {
       "model_id": "",
       "version_major": 2,
       "version_minor": 0
      },
      "text/plain": [
       "Epoch 6:   0%|          | 0/2391 [00:00<?, ?it/s]"
      ]
     },
     "metadata": {},
     "output_type": "display_data"
    },
    {
     "name": "stdout",
     "output_type": "stream",
     "text": [
      "\n",
      "Epoch 6\n",
      "Training loss: 0.004875270482331573\n",
      "Validation loss: 4.377641920192711e-06\n",
      "F1 Score (weighted): 1.0\n",
      "\u001b[92m8.03% Training loss decreased compared to the previous epoch\u001b[0m\n",
      "\u001b[92m0.01% Validation loss decreased compared to the previous epoch\u001b[0m\n"
     ]
    },
    {
     "data": {
      "application/vnd.jupyter.widget-view+json": {
       "model_id": "",
       "version_major": 2,
       "version_minor": 0
      },
      "text/plain": [
       "Epoch 7:   0%|          | 0/2391 [00:00<?, ?it/s]"
      ]
     },
     "metadata": {},
     "output_type": "display_data"
    },
    {
     "name": "stdout",
     "output_type": "stream",
     "text": [
      "\n",
      "Epoch 7\n",
      "Training loss: 0.0056310926786739\n",
      "Validation loss: 4.3768352559301725e-06\n",
      "F1 Score (weighted): 1.0\n",
      "\u001b[91m15.5% Training loss increased compared to the previous epoch\u001b[0m\n",
      "\u001b[92m0.02% Validation loss decreased compared to the previous epoch\u001b[0m\n"
     ]
    },
    {
     "data": {
      "application/vnd.jupyter.widget-view+json": {
       "model_id": "",
       "version_major": 2,
       "version_minor": 0
      },
      "text/plain": [
       "Epoch 8:   0%|          | 0/2391 [00:00<?, ?it/s]"
      ]
     },
     "metadata": {},
     "output_type": "display_data"
    },
    {
     "name": "stdout",
     "output_type": "stream",
     "text": [
      "\n",
      "Epoch 8\n",
      "Training loss: 0.0037582090063735837\n",
      "Validation loss: 4.375356362357823e-06\n",
      "F1 Score (weighted): 1.0\n",
      "\u001b[92m33.26% Training loss decreased compared to the previous epoch\u001b[0m\n",
      "\u001b[92m0.03% Validation loss decreased compared to the previous epoch\u001b[0m\n"
     ]
    },
    {
     "data": {
      "application/vnd.jupyter.widget-view+json": {
       "model_id": "",
       "version_major": 2,
       "version_minor": 0
      },
      "text/plain": [
       "Epoch 9:   0%|          | 0/2391 [00:00<?, ?it/s]"
      ]
     },
     "metadata": {},
     "output_type": "display_data"
    },
    {
     "name": "stdout",
     "output_type": "stream",
     "text": [
      "\n",
      "Epoch 9\n",
      "Training loss: 0.0035718388542094063\n",
      "Validation loss: 4.375860564765301e-06\n",
      "F1 Score (weighted): 1.0\n",
      "\u001b[92m4.96% Training loss decreased compared to the previous epoch\u001b[0m\n",
      "\u001b[91m0.01% Validation loss increased compared to the previous epoch\u001b[0m\n"
     ]
    },
    {
     "data": {
      "application/vnd.jupyter.widget-view+json": {
       "model_id": "",
       "version_major": 2,
       "version_minor": 0
      },
      "text/plain": [
       "Epoch 10:   0%|          | 0/2391 [00:00<?, ?it/s]"
      ]
     },
     "metadata": {},
     "output_type": "display_data"
    },
    {
     "name": "stdout",
     "output_type": "stream",
     "text": [
      "\n",
      "Epoch 10\n",
      "Training loss: 0.005677873691839996\n",
      "Validation loss: 4.378986381376697e-06\n",
      "F1 Score (weighted): 1.0\n",
      "\u001b[91m58.96% Training loss increased compared to the previous epoch\u001b[0m\n",
      "\u001b[91m0.07% Validation loss increased compared to the previous epoch\u001b[0m\n"
     ]
    },
    {
     "data": {
      "application/vnd.jupyter.widget-view+json": {
       "model_id": "",
       "version_major": 2,
       "version_minor": 0
      },
      "text/plain": [
       "Epoch 11:   0%|          | 0/2391 [00:00<?, ?it/s]"
      ]
     },
     "metadata": {},
     "output_type": "display_data"
    },
    {
     "name": "stdout",
     "output_type": "stream",
     "text": [
      "\n",
      "Epoch 11\n",
      "Training loss: 0.004280464898487491\n",
      "Validation loss: 4.376230262982203e-06\n",
      "F1 Score (weighted): 1.0\n",
      "\u001b[92m24.61% Training loss decreased compared to the previous epoch\u001b[0m\n",
      "\u001b[92m0.06% Validation loss decreased compared to the previous epoch\u001b[0m\n"
     ]
    },
    {
     "data": {
      "application/vnd.jupyter.widget-view+json": {
       "model_id": "",
       "version_major": 2,
       "version_minor": 0
      },
      "text/plain": [
       "Epoch 12:   0%|          | 0/2391 [00:00<?, ?it/s]"
      ]
     },
     "metadata": {},
     "output_type": "display_data"
    },
    {
     "name": "stdout",
     "output_type": "stream",
     "text": [
      "\n",
      "Epoch 12\n",
      "Training loss: 0.004978691562727025\n",
      "Validation loss: 4.378112522797215e-06\n",
      "F1 Score (weighted): 1.0\n",
      "\u001b[91m16.31% Training loss increased compared to the previous epoch\u001b[0m\n",
      "\u001b[91m0.04% Validation loss increased compared to the previous epoch\u001b[0m\n"
     ]
    },
    {
     "data": {
      "application/vnd.jupyter.widget-view+json": {
       "model_id": "",
       "version_major": 2,
       "version_minor": 0
      },
      "text/plain": [
       "Epoch 13:   0%|          | 0/2391 [00:00<?, ?it/s]"
      ]
     },
     "metadata": {},
     "output_type": "display_data"
    },
    {
     "name": "stdout",
     "output_type": "stream",
     "text": [
      "\n",
      "Epoch 13\n",
      "Training loss: 0.005307474286239357\n",
      "Validation loss: 4.378583005731364e-06\n",
      "F1 Score (weighted): 1.0\n",
      "\u001b[91m6.6% Training loss increased compared to the previous epoch\u001b[0m\n",
      "\u001b[91m0.01% Validation loss increased compared to the previous epoch\u001b[0m\n",
      "\n",
      "Early stopping triggered. Training stopped.\n",
      "\n",
      "Total training time: 261.16732643445334 minutes\n",
      "Final Accuracy: 1.0\n",
      "Final Precision: 1.0\n"
     ]
    },
    {
     "data": {
      "image/png": "[encoded data removed]",
      "text/plain": [
       "<Figure size 800x600 with 1 Axes>"
      ]
     },
     "metadata": {},
     "output_type": "display_data"
    },
    {
     "name": "stdout",
     "output_type": "stream",
     "text": [
      "Epoch                 Training Loss          Validation Loss         F1 Score    Accuracy      Precision\n",
      "--------------------  ---------------------  ----------------------  ----------  ----------  -----------\n",
      "1                     0.005715065097097536   4.3755580335121184e-06  1.0         1.0               1\n",
      "2                     \u001b[92m0.004960226223366621\u001b[0m   \u001b[91m4.376734416559902e-06\u001b[0m   1.0         1.0               1\n",
      "3                     \u001b[92m0.004891016734488271\u001b[0m   \u001b[92m4.375356365242733e-06\u001b[0m   1.0         1.0               1\n",
      "4                     \u001b[91m0.005301027829753238\u001b[0m   \u001b[91m4.375457154554467e-06\u001b[0m   1.0         1.0               1\n",
      "5                     \u001b[91m0.0053012018662780755\u001b[0m  \u001b[91m4.378213319000679e-06\u001b[0m   1.0         1.0               1\n",
      "6                     \u001b[92m0.004875270482331573\u001b[0m   \u001b[92m4.377641920192711e-06\u001b[0m   1.0         1.0               1\n",
      "7                     \u001b[91m0.0056310926786739\u001b[0m     \u001b[92m4.3768352559301725e-06\u001b[0m  1.0         1.0               1\n",
      "8                     \u001b[92m0.0037582090063735837\u001b[0m  \u001b[92m4.375356362357823e-06\u001b[0m   1.0         1.0               1\n",
      "9                     \u001b[92m0.0035718388542094063\u001b[0m  \u001b[91m4.375860564765301e-06\u001b[0m   1.0         1.0               1\n",
      "10                    \u001b[91m0.005677873691839996\u001b[0m   \u001b[91m4.378986381376697e-06\u001b[0m   1.0         1.0               1\n",
      "11                    \u001b[92m0.004280464898487491\u001b[0m   \u001b[92m4.376230262982203e-06\u001b[0m   1.0         1.0               1\n",
      "12                    \u001b[91m0.004978691562727025\u001b[0m   \u001b[91m4.378112522797215e-06\u001b[0m   1.0         1.0               1\n",
      "13                    \u001b[91m0.005307474286239357\u001b[0m   \u001b[91m4.378583005731364e-06\u001b[0m   1.0         1.0               1\n",
      "Total Training Time                                                                            15670\n",
      "Final Precision                                                                                    1\n",
      "Total Time (minutes)                                                                             261.167\n",
      "\n",
      "Fold 9\n"
     ]
    },
    {
     "data": {
      "application/vnd.jupyter.widget-view+json": {
       "model_id": "5360948f0949495b87a7138ab25c4866",
       "version_major": 2,
       "version_minor": 0
      },
      "text/plain": [
       "  0%|          | 0/25 [00:00<?, ?it/s]"
      ]
     },
     "metadata": {},
     "output_type": "display_data"
    },
    {
     "data": {
      "application/vnd.jupyter.widget-view+json": {
       "model_id": "",
       "version_major": 2,
       "version_minor": 0
      },
      "text/plain": [
       "Epoch 1:   0%|          | 0/2391 [00:00<?, ?it/s]"
      ]
     },
     "metadata": {},
     "output_type": "display_data"
    },
    {
     "name": "stdout",
     "output_type": "stream",
     "text": [
      "\n",
      "Epoch 1\n",
      "Training loss: 0.0052173738399149145\n",
      "Validation loss: 1.3448053477555164e-06\n",
      "F1 Score (weighted): 1.0\n"
     ]
    },
    {
     "data": {
      "application/vnd.jupyter.widget-view+json": {
       "model_id": "",
       "version_major": 2,
       "version_minor": 0
      },
      "text/plain": [
       "Epoch 2:   0%|          | 0/2391 [00:00<?, ?it/s]"
      ]
     },
     "metadata": {},
     "output_type": "display_data"
    },
    {
     "name": "stdout",
     "output_type": "stream",
     "text": [
      "\n",
      "Epoch 2\n",
      "Training loss: 0.00458803080752882\n",
      "Validation loss: 1.346317871262125e-06\n",
      "F1 Score (weighted): 1.0\n",
      "\u001b[92m12.06% Training loss decreased compared to the previous epoch\u001b[0m\n",
      "\u001b[91m0.11% Validation loss increased compared to the previous epoch\u001b[0m\n"
     ]
    },
    {
     "data": {
      "application/vnd.jupyter.widget-view+json": {
       "model_id": "",
       "version_major": 2,
       "version_minor": 0
      },
      "text/plain": [
       "Epoch 3:   0%|          | 0/2391 [00:00<?, ?it/s]"
      ]
     },
     "metadata": {},
     "output_type": "display_data"
    },
    {
     "name": "stdout",
     "output_type": "stream",
     "text": [
      "\n",
      "Epoch 3\n",
      "Training loss: 0.007777922492778778\n",
      "Validation loss: 1.3473934413579365e-06\n",
      "F1 Score (weighted): 1.0\n",
      "\u001b[91m69.53% Training loss increased compared to the previous epoch\u001b[0m\n",
      "\u001b[91m0.08% Validation loss increased compared to the previous epoch\u001b[0m\n"
     ]
    },
    {
     "data": {
      "application/vnd.jupyter.widget-view+json": {
       "model_id": "",
       "version_major": 2,
       "version_minor": 0
      },
      "text/plain": [
       "Epoch 4:   0%|          | 0/2391 [00:00<?, ?it/s]"
      ]
     },
     "metadata": {},
     "output_type": "display_data"
    },
    {
     "name": "stdout",
     "output_type": "stream",
     "text": [
      "\n",
      "Epoch 4\n",
      "Training loss: 0.005669833834030192\n",
      "Validation loss: 1.3451414655624536e-06\n",
      "F1 Score (weighted): 1.0\n",
      "\u001b[92m27.1% Training loss decreased compared to the previous epoch\u001b[0m\n",
      "\u001b[92m0.17% Validation loss decreased compared to the previous epoch\u001b[0m\n"
     ]
    },
    {
     "data": {
      "application/vnd.jupyter.widget-view+json": {
       "model_id": "",
       "version_major": 2,
       "version_minor": 0
      },
      "text/plain": [
       "Epoch 5:   0%|          | 0/2391 [00:00<?, ?it/s]"
      ]
     },
     "metadata": {},
     "output_type": "display_data"
    },
    {
     "name": "stdout",
     "output_type": "stream",
     "text": [
      "\n",
      "Epoch 5\n",
      "Training loss: 0.00835377114546238\n",
      "Validation loss: 1.3452759060178801e-06\n",
      "F1 Score (weighted): 1.0\n",
      "\u001b[91m47.34% Training loss increased compared to the previous epoch\u001b[0m\n",
      "\u001b[91m0.01% Validation loss increased compared to the previous epoch\u001b[0m\n"
     ]
    },
    {
     "data": {
      "application/vnd.jupyter.widget-view+json": {
       "model_id": "",
       "version_major": 2,
       "version_minor": 0
      },
      "text/plain": [
       "Epoch 6:   0%|          | 0/2391 [00:00<?, ?it/s]"
      ]
     },
     "metadata": {},
     "output_type": "display_data"
    },
    {
     "name": "stdout",
     "output_type": "stream",
     "text": [
      "\n",
      "Epoch 6\n",
      "Training loss: 0.005018473692372824\n",
      "Validation loss: 1.3451414613686488e-06\n",
      "F1 Score (weighted): 1.0\n",
      "\u001b[92m39.93% Training loss decreased compared to the previous epoch\u001b[0m\n",
      "\u001b[92m0.01% Validation loss decreased compared to the previous epoch\u001b[0m\n",
      "\n",
      "Early stopping triggered. Training stopped.\n",
      "\n",
      "Total training time: 120.54678706328075 minutes\n",
      "Final Accuracy: 1.0\n",
      "Final Precision: 1.0\n"
     ]
    },
    {
     "data": {
      "image/png": "[encoded data removed]",
      "text/plain": [
       "<Figure size 800x600 with 1 Axes>"
      ]
     },
     "metadata": {},
     "output_type": "display_data"
    },
    {
     "name": "stdout",
     "output_type": "stream",
     "text": [
      "Epoch                 Training Loss          Validation Loss         F1 Score    Accuracy      Precision\n",
      "--------------------  ---------------------  ----------------------  ----------  ----------  -----------\n",
      "1                     0.0052173738399149145  1.3448053477555164e-06  1.0         1.0               1\n",
      "2                     \u001b[92m0.00458803080752882\u001b[0m    \u001b[91m1.346317871262125e-06\u001b[0m   1.0         1.0               1\n",
      "3                     \u001b[91m0.007777922492778778\u001b[0m   \u001b[91m1.3473934413579365e-06\u001b[0m  1.0         1.0               1\n",
      "4                     \u001b[92m0.005669833834030192\u001b[0m   \u001b[92m1.3451414655624536e-06\u001b[0m  1.0         1.0               1\n",
      "5                     \u001b[91m0.00835377114546238\u001b[0m    \u001b[91m1.3452759060178801e-06\u001b[0m  1.0         1.0               1\n",
      "6                     \u001b[92m0.005018473692372824\u001b[0m   \u001b[92m1.3451414613686488e-06\u001b[0m  1.0         1.0               1\n",
      "Total Training Time                                                                             7232.81\n",
      "Final Precision                                                                                    1\n",
      "Total Time (minutes)                                                                             120.547\n",
      "\n",
      "Fold 10\n"
     ]
    },
    {
     "data": {
      "application/vnd.jupyter.widget-view+json": {
       "model_id": "c5bc90d4180e4b3698cc92cb0d8e885c",
       "version_major": 2,
       "version_minor": 0
      },
      "text/plain": [
       "  0%|          | 0/25 [00:00<?, ?it/s]"
      ]
     },
     "metadata": {},
     "output_type": "display_data"
    },
    {
     "data": {
      "application/vnd.jupyter.widget-view+json": {
       "model_id": "",
       "version_major": 2,
       "version_minor": 0
      },
      "text/plain": [
       "Epoch 1:   0%|          | 0/2391 [00:00<?, ?it/s]"
      ]
     },
     "metadata": {},
     "output_type": "display_data"
    },
    {
     "name": "stdout",
     "output_type": "stream",
     "text": [
      "\n",
      "Epoch 1\n",
      "Training loss: 0.004525863596328162\n",
      "Validation loss: 1.3471234070973201e-06\n",
      "F1 Score (weighted): 1.0\n"
     ]
    },
    {
     "data": {
      "application/vnd.jupyter.widget-view+json": {
       "model_id": "",
       "version_major": 2,
       "version_minor": 0
      },
      "text/plain": [
       "Epoch 2:   0%|          | 0/2391 [00:00<?, ?it/s]"
      ]
     },
     "metadata": {},
     "output_type": "display_data"
    },
    {
     "name": "stdout",
     "output_type": "stream",
     "text": [
      "\n",
      "Epoch 2\n",
      "Training loss: 0.004034782650213963\n",
      "Validation loss: 1.3471570125098413e-06\n",
      "F1 Score (weighted): 1.0\n",
      "\u001b[92m10.85% Training loss decreased compared to the previous epoch\u001b[0m\n",
      "\u001b[91m0.0% Validation loss increased compared to the previous epoch\u001b[0m\n"
     ]
    },
    {
     "data": {
      "application/vnd.jupyter.widget-view+json": {
       "model_id": "",
       "version_major": 2,
       "version_minor": 0
      },
      "text/plain": [
       "Epoch 3:   0%|          | 0/2391 [00:00<?, ?it/s]"
      ]
     },
     "metadata": {},
     "output_type": "display_data"
    },
    {
     "name": "stdout",
     "output_type": "stream",
     "text": [
      "\n",
      "Epoch 3\n",
      "Training loss: 0.007548997817812825\n",
      "Validation loss: 1.3465856272182122e-06\n",
      "F1 Score (weighted): 1.0\n",
      "\u001b[91m87.1% Training loss increased compared to the previous epoch\u001b[0m\n",
      "\u001b[92m0.04% Validation loss decreased compared to the previous epoch\u001b[0m\n"
     ]
    },
    {
     "data": {
      "application/vnd.jupyter.widget-view+json": {
       "model_id": "",
       "version_major": 2,
       "version_minor": 0
      },
      "text/plain": [
       "Epoch 4:   0%|          | 0/2391 [00:00<?, ?it/s]"
      ]
     },
     "metadata": {},
     "output_type": "display_data"
    },
    {
     "name": "stdout",
     "output_type": "stream",
     "text": [
      "\n",
      "Epoch 4\n",
      "Training loss: 0.006493741224705326\n",
      "Validation loss: 1.3471234047466525e-06\n",
      "F1 Score (weighted): 1.0\n",
      "\u001b[92m13.98% Training loss decreased compared to the previous epoch\u001b[0m\n",
      "\u001b[91m0.04% Validation loss increased compared to the previous epoch\u001b[0m\n"
     ]
    },
    {
     "data": {
      "application/vnd.jupyter.widget-view+json": {
       "model_id": "",
       "version_major": 2,
       "version_minor": 0
      },
      "text/plain": [
       "Epoch 5:   0%|          | 0/2391 [00:00<?, ?it/s]"
      ]
     },
     "metadata": {},
     "output_type": "display_data"
    },
    {
     "name": "stdout",
     "output_type": "stream",
     "text": [
      "\n",
      "Epoch 5\n",
      "Training loss: 0.00537856968983892\n",
      "Validation loss: 1.348367038901374e-06\n",
      "F1 Score (weighted): 1.0\n",
      "\u001b[92m17.17% Training loss decreased compared to the previous epoch\u001b[0m\n",
      "\u001b[91m0.09% Validation loss increased compared to the previous epoch\u001b[0m\n"
     ]
    },
    {
     "data": {
      "application/vnd.jupyter.widget-view+json": {
       "model_id": "",
       "version_major": 2,
       "version_minor": 0
      },
      "text/plain": [
       "Epoch 6:   0%|          | 0/2391 [00:00<?, ?it/s]"
      ]
     },
     "metadata": {},
     "output_type": "display_data"
    },
    {
     "name": "stdout",
     "output_type": "stream",
     "text": [
      "\n",
      "Epoch 6\n",
      "Training loss: 0.0027524101159111984\n",
      "Validation loss: 1.3466864616200263e-06\n",
      "F1 Score (weighted): 1.0\n",
      "\u001b[92m48.83% Training loss decreased compared to the previous epoch\u001b[0m\n",
      "\u001b[92m0.12% Validation loss decreased compared to the previous epoch\u001b[0m\n"
     ]
    },
    {
     "data": {
      "application/vnd.jupyter.widget-view+json": {
       "model_id": "",
       "version_major": 2,
       "version_minor": 0
      },
      "text/plain": [
       "Epoch 7:   0%|          | 0/2391 [00:00<?, ?it/s]"
      ]
     },
     "metadata": {},
     "output_type": "display_data"
    },
    {
     "name": "stdout",
     "output_type": "stream",
     "text": [
      "\n",
      "Epoch 7\n",
      "Training loss: 0.005446143098830572\n",
      "Validation loss: 1.3462495112276999e-06\n",
      "F1 Score (weighted): 1.0\n",
      "\u001b[91m97.87% Training loss increased compared to the previous epoch\u001b[0m\n",
      "\u001b[92m0.03% Validation loss decreased compared to the previous epoch\u001b[0m\n"
     ]
    },
    {
     "data": {
      "application/vnd.jupyter.widget-view+json": {
       "model_id": "",
       "version_major": 2,
       "version_minor": 0
      },
      "text/plain": [
       "Epoch 8:   0%|          | 0/2391 [00:00<?, ?it/s]"
      ]
     },
     "metadata": {},
     "output_type": "display_data"
    },
    {
     "name": "stdout",
     "output_type": "stream",
     "text": [
      "\n",
      "Epoch 8\n",
      "Training loss: 0.004787865274522978\n",
      "Validation loss: 1.3470561809929376e-06\n",
      "F1 Score (weighted): 1.0\n",
      "\u001b[92m12.09% Training loss decreased compared to the previous epoch\u001b[0m\n",
      "\u001b[91m0.06% Validation loss increased compared to the previous epoch\u001b[0m\n"
     ]
    },
    {
     "data": {
      "application/vnd.jupyter.widget-view+json": {
       "model_id": "",
       "version_major": 2,
       "version_minor": 0
      },
      "text/plain": [
       "Epoch 9:   0%|          | 0/2391 [00:00<?, ?it/s]"
      ]
     },
     "metadata": {},
     "output_type": "display_data"
    },
    {
     "name": "stdout",
     "output_type": "stream",
     "text": [
      "\n",
      "Epoch 9\n",
      "Training loss: 0.004047038904830152\n",
      "Validation loss: 1.3479636970201763e-06\n",
      "F1 Score (weighted): 1.0\n",
      "\u001b[92m15.47% Training loss decreased compared to the previous epoch\u001b[0m\n",
      "\u001b[91m0.07% Validation loss increased compared to the previous epoch\u001b[0m\n"
     ]
    },
    {
     "data": {
      "application/vnd.jupyter.widget-view+json": {
       "model_id": "",
       "version_major": 2,
       "version_minor": 0
      },
      "text/plain": [
       "Epoch 10:   0%|          | 0/2391 [00:00<?, ?it/s]"
      ]
     },
     "metadata": {},
     "output_type": "display_data"
    },
    {
     "name": "stdout",
     "output_type": "stream",
     "text": [
      "\n",
      "Epoch 10\n",
      "Training loss: 0.004439420331111456\n",
      "Validation loss: 1.3466192300396564e-06\n",
      "F1 Score (weighted): 1.0\n",
      "\u001b[91m9.7% Training loss increased compared to the previous epoch\u001b[0m\n",
      "\u001b[92m0.1% Validation loss decreased compared to the previous epoch\u001b[0m\n"
     ]
    },
    {
     "data": {
      "application/vnd.jupyter.widget-view+json": {
       "model_id": "",
       "version_major": 2,
       "version_minor": 0
      },
      "text/plain": [
       "Epoch 11:   0%|          | 0/2391 [00:00<?, ?it/s]"
      ]
     },
     "metadata": {},
     "output_type": "display_data"
    },
    {
     "name": "stdout",
     "output_type": "stream",
     "text": [
      "\n",
      "Epoch 11\n",
      "Training loss: 0.005250995292547854\n",
      "Validation loss: 1.3471906402537058e-06\n",
      "F1 Score (weighted): 1.0\n",
      "\u001b[91m18.28% Training loss increased compared to the previous epoch\u001b[0m\n",
      "\u001b[91m0.04% Validation loss increased compared to the previous epoch\u001b[0m\n"
     ]
    },
    {
     "data": {
      "application/vnd.jupyter.widget-view+json": {
       "model_id": "",
       "version_major": 2,
       "version_minor": 0
      },
      "text/plain": [
       "Epoch 12:   0%|          | 0/2391 [00:00<?, ?it/s]"
      ]
     },
     "metadata": {},
     "output_type": "display_data"
    },
    {
     "name": "stdout",
     "output_type": "stream",
     "text": [
      "\n",
      "Epoch 12\n",
      "Training loss: 0.005482041116393875\n",
      "Validation loss: 1.3476275857309996e-06\n",
      "F1 Score (weighted): 1.0\n",
      "\u001b[91m4.4% Training loss increased compared to the previous epoch\u001b[0m\n",
      "\u001b[91m0.03% Validation loss increased compared to the previous epoch\u001b[0m\n",
      "\n",
      "Early stopping triggered. Training stopped.\n",
      "\n",
      "Total training time: 241.06335548559824 minutes\n",
      "Final Accuracy: 1.0\n",
      "Final Precision: 1.0\n"
     ]
    },
    {
     "data": {
      "image/png": "[encoded data removed]",
      "text/plain": [
       "<Figure size 800x600 with 1 Axes>"
      ]
     },
     "metadata": {},
     "output_type": "display_data"
    },
    {
     "name": "stdout",
     "output_type": "stream",
     "text": [
      "Epoch                 Training Loss          Validation Loss         F1 Score    Accuracy      Precision\n",
      "--------------------  ---------------------  ----------------------  ----------  ----------  -----------\n",
      "1                     0.004525863596328162   1.3471234070973201e-06  1.0         1.0               1\n",
      "2                     \u001b[92m0.004034782650213963\u001b[0m   \u001b[91m1.3471570125098413e-06\u001b[0m  1.0         1.0               1\n",
      "3                     \u001b[91m0.007548997817812825\u001b[0m   \u001b[92m1.3465856272182122e-06\u001b[0m  1.0         1.0               1\n",
      "4                     \u001b[92m0.006493741224705326\u001b[0m   \u001b[91m1.3471234047466525e-06\u001b[0m  1.0         1.0               1\n",
      "5                     \u001b[92m0.00537856968983892\u001b[0m    \u001b[91m1.348367038901374e-06\u001b[0m   1.0         1.0               1\n",
      "6                     \u001b[92m0.0027524101159111984\u001b[0m  \u001b[92m1.3466864616200263e-06\u001b[0m  1.0         1.0               1\n",
      "7                     \u001b[91m0.005446143098830572\u001b[0m   \u001b[92m1.3462495112276999e-06\u001b[0m  1.0         1.0               1\n",
      "8                     \u001b[92m0.004787865274522978\u001b[0m   \u001b[91m1.3470561809929376e-06\u001b[0m  1.0         1.0               1\n",
      "9                     \u001b[92m0.004047038904830152\u001b[0m   \u001b[91m1.3479636970201763e-06\u001b[0m  1.0         1.0               1\n",
      "10                    \u001b[91m0.004439420331111456\u001b[0m   \u001b[92m1.3466192300396564e-06\u001b[0m  1.0         1.0               1\n",
      "11                    \u001b[91m0.005250995292547854\u001b[0m   \u001b[91m1.3471906402537058e-06\u001b[0m  1.0         1.0               1\n",
      "12                    \u001b[91m0.005482041116393875\u001b[0m   \u001b[91m1.3476275857309996e-06\u001b[0m  1.0         1.0               1\n",
      "Total Training Time                                                                            14463.8\n",
      "Final Precision                                                                                    1\n",
      "Total Time (minutes)                                                                             241.063\n"
     ]
    }
   ],
   "source": [
    "import numpy as np\n",
    "from torch.utils.data import DataLoader, SubsetRandomSampler\n",
    "from sklearn.model_selection import KFold\n",
    "\n",
    "k = 10  # Number of folds\n",
    "kf = KFold(n_splits=k, shuffle=True, random_state=42)\n",
    "\n",
    "# Initialize lists to store the evaluation metrics for each fold\n",
    "training_loss_lists = []\n",
    "validation_loss_lists = []\n",
    "accuracy_lists = []\n",
    "precision_lists = []\n",
    "f1_score_lists = []\n",
    "\n",
    "# Convert the multilabel indicator target to numpy array\n",
    "targets = dataset_train.tensors[1].numpy()\n",
    "\n",
    "# Perform multilabel k-fold cross-validation\n",
    "for fold, (train_index, val_index) in enumerate(kf.split(targets)):\n",
    "    print(f\"\\nFold {fold+1}\")\n",
    "    train_sampler = SubsetRandomSampler(train_index)\n",
    "    val_sampler = SubsetRandomSampler(val_index)\n",
    "\n",
    "    # Create data loaders for training and validation\n",
    "    dataloader_train = DataLoader(dataset_train, batch_size=batch_size, sampler=train_sampler)\n",
    "    dataloader_val = DataLoader(dataset_train, batch_size=batch_size, sampler=val_sampler)\n",
    "\n",
    "    # train_model(trainer, dataloader_train, dataloader_val, epochs, patience)\n",
    "\n",
    "    try:\n",
    "        train_model(trainer, dataloader_train, dataloader_val, epochs, patience)\n",
    "    except Exception as e:\n",
    "        print(f\"Continue to the next fold {fold+1}: {str(e)}\")\n",
    "        continue"
   ]
  },
  {
   "cell_type": "code",
   "execution_count": 20,
   "id": "f24429e4-743b-4a11-80d6-5e2fadaabc9e",
   "metadata": {},
   "outputs": [
    {
     "name": "stdout",
     "output_type": "stream",
     "text": [
      "Class: 0\n",
      "Accuracy: 1063/1063\n",
      "\n",
      "Class: 1\n",
      "Accuracy: 1062/1062\n",
      "\n"
     ]
    }
   ],
   "source": [
    "model.load_state_dict(\n",
    "    torch.load(\n",
    "        \"Models/finetuned_bert_gpt_ft_epoch10.model\", \n",
    "        map_location = torch.device('cuda')\n",
    "    )\n",
    ")\n",
    "_, predictions, true_vals = evaluate(dataloader_val)\n",
    "accuracy_per_class(predictions, true_vals)"
   ]
  },
  {
   "cell_type": "code",
   "execution_count": 21,
   "id": "fa5f8d3d-86ce-486b-84d4-1363d26dab38",
   "metadata": {},
   "outputs": [
    {
     "name": "stdout",
     "output_type": "stream",
     "text": [
      "Class: 0\n",
      "Accuracy: 9559/9562\n",
      "\n",
      "Class: 1\n",
      "Accuracy: 9562/9563\n",
      "\n"
     ]
    }
   ],
   "source": [
    "model.load_state_dict(\n",
    "    torch.load(\n",
    "        \"Models/finetuned_bert_gpt_ft_epoch10.model\", \n",
    "        map_location = torch.device('cuda')\n",
    "    )\n",
    ")\n",
    "_, predictions, true_vals = evaluate(dataloader_train)\n",
    "accuracy_per_class(predictions, true_vals)"
   ]
  }
 ],
 "metadata": {
  "kernelspec": {
   "display_name": "Python 3 (ipykernel)",
   "language": "python",
   "name": "python3"
  },
  "language_info": {
   "codemirror_mode": {
    "name": "ipython",
    "version": 3
   },
   "file_extension": ".py",
   "mimetype": "text/x-python",
   "name": "python",
   "nbconvert_exporter": "python",
   "pygments_lexer": "ipython3",
   "version": "3.10.9"
  }
 },
 "nbformat": 4,
 "nbformat_minor": 5
}

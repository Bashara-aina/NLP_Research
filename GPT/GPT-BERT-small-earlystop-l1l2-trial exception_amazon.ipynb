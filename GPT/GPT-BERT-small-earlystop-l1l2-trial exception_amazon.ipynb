{
 "cells": [
  {
   "cell_type": "code",
   "execution_count": 1,
   "id": "c5bf24e9-d40b-45ad-9330-405d0097fe2e",
   "metadata": {
    "tags": []
   },
   "outputs": [
    {
     "name": "stderr",
     "output_type": "stream",
     "text": [
      "2023-07-12 12:35:55.753275: I tensorflow/core/util/port.cc:110] oneDNN custom operations are on. You may see slightly different numerical results due to floating-point round-off errors from different computation orders. To turn them off, set the environment variable `TF_ENABLE_ONEDNN_OPTS=0`.\n",
      "2023-07-12 12:35:55.780049: I tensorflow/core/platform/cpu_feature_guard.cc:182] This TensorFlow binary is optimized to use available CPU instructions in performance-critical operations.\n",
      "To enable the following instructions: AVX2 AVX_VNNI FMA, in other operations, rebuild TensorFlow with the appropriate compiler flags.\n",
      "2023-07-12 12:35:56.319975: W tensorflow/compiler/tf2tensorrt/utils/py_utils.cc:38] TF-TRT Warning: Could not find TensorRT\n"
     ]
    }
   ],
   "source": [
    "import torch\n",
    "import torch.nn as nn\n",
    "import pandas as pd\n",
    "from tqdm.notebook import tqdm  # For displaying progress bars\n",
    "from datasets import load_dataset  # For loading datasets\n",
    "from sklearn.model_selection import train_test_split  # For splitting the dataset\n",
    "from transformers import BertTokenizer  # For tokenizing text\n",
    "from torch.utils.data import TensorDataset  # For creating Tensor datasets\n",
    "import time  # For measuring time\n",
    "from sklearn.metrics import accuracy_score, precision_score, f1_score, recall_score  # For evaluation metrics\n",
    "from sklearn.exceptions import UndefinedMetricWarning  # For handling metric warnings\n",
    "import matplotlib.pyplot as plt  # For plotting\n",
    "from tabulate import tabulate  # For tabular data formatting\n",
    "import random  # For randomization\n",
    "import numpy as np  # For numerical operations\n",
    "from transformers import (\n",
    "    BertTokenizer,  # Tokenizer for BERT models\n",
    "    AdamW,  # Optimizer for BERT models\n",
    "    get_linear_schedule_with_warmup,  # Learning rate scheduler for BERT models\n",
    "    BertConfig,  # Configuration for BERT models\n",
    "    BertForSequenceClassification  # BERT model for sequence classification tasks\n",
    ")\n",
    "from torch.utils.data import (\n",
    "    DataLoader,  # Data loader for creating batches\n",
    "    RandomSampler,  # Sampler for random sampling of data\n",
    "    SequentialSampler  # Sampler for sequential sampling of data\n",
    ")\n",
    "from sklearn.metrics import f1_score  # For computing the F1 score\n",
    "\n",
    "# 1. Torch: PyTorch library for deep learning\n",
    "# 2. Pandas: Library for data manipulation and analysis\n",
    "# 3. tqdm: Library for displaying progress bars\n",
    "# 4. datasets: Library for working with datasets\n",
    "# 5. train_test_split: Function for splitting the dataset into training and validation sets\n",
    "# 6. BertTokenizer: Tokenizer for BERT models\n",
    "# 7. TensorDataset: Dataset class for creating PyTorch Tensor datasets\n",
    "# 8. time: Module for measuring time\n",
    "# 9. accuracy_score, precision_score, f1_score: Evaluation metrics for classification tasks\n",
    "# 10. UndefinedMetricWarning: Warning for undefined metric values\n",
    "# 11. matplotlib.pyplot: Plotting library\n",
    "# 12. tabulate: Library for formatting tabular data\n",
    "# 13. random: Module for randomization\n",
    "# 14. numpy: Library for numerical operations\n",
    "# 15. AdamW: Optimizer for BERT models\n",
    "# 16. get_linear_schedule_with_warmup: Learning rate scheduler for BERT models\n",
    "# 17. BertConfig: Configuration for BERT models\n",
    "# 18. BertForSequenceClassification: BERT model for sequence classification tasks\n",
    "# 19. DataLoader: Data loader for creating batches\n",
    "# 20. RandomSampler: Sampler for random sampling of data\n",
    "# 21. SequentialSampler: Sampler for sequential sampling of data\n",
    "# 22. f1_score: Function for computing the F1 score"
   ]
  },
  {
   "cell_type": "code",
   "execution_count": 2,
   "id": "207f2073-3da6-4185-917f-e8b3694617ed",
   "metadata": {},
   "outputs": [],
   "source": [
    "def datacleaning_amazon():\n",
    "    dataset = load_dataset(\"amazon_us_reviews\", \"Apparel_v1_00\")\n",
    "    train_data = dataset['train']\n",
    "\n",
    "    # Limit the dataset to the first 20,000 rows\n",
    "    train_data = train_data.select(range(20000))\n",
    "\n",
    "    df = train_data.to_pandas()  # Convert the dataset to a Pandas DataFrame\n",
    "    df = df[['customer_id', 'review_headline', 'review_body', 'star_rating']]  # Select specific columns\n",
    "    df.columns = ['customer_id', 'review_headline', 'review_body', 'star_rating']  # Rename the selected columns\n",
    "    df.set_index('customer_id', inplace=True)\n",
    "\n",
    "    df['sentiment'] = df['star_rating'].map({5: 'good', 4: 'good', 3: 'neutral', 2: 'bad', 1: 'bad'})\n",
    "\n",
    "    possible_labels = df.sentiment.unique()  # Get unique category labels from the DataFrame column 'category'\n",
    "\n",
    "    label_dict = {}  # Create a dictionary to map each possible label to a unique index\n",
    "    for index, possible_label in enumerate(possible_labels):\n",
    "        label_dict[possible_label] = index\n",
    "\n",
    "    df['label'] = df.sentiment.replace(label_dict)\n",
    "\n",
    "    # Split the dataset into training and validation sets\n",
    "    X_train, X_val, y_train, y_val = train_test_split(\n",
    "        df.index.values,\n",
    "        df.label.values,\n",
    "        test_size=0.15,\n",
    "        random_state=17,\n",
    "        stratify=df.label.values\n",
    "    )\n",
    "\n",
    "    df['data_type'] = ['not_set'] * df.shape[0]  # Set a new column 'data_type' for later data split\n",
    "\n",
    "    # Set the 'data_type' column of the dataframe for training and validation data\n",
    "    df.loc[X_train, 'data_type'] = 'train'\n",
    "    df.loc[X_val, 'data_type'] = 'val'\n",
    "\n",
    "    return df\n",
    "\n",
    "def f1_score_func(preds, labels):\n",
    "    preds_flat = np.argmax(preds, axis=1).flatten() #This line finds the index with the highest probability in each prediction, effectively giving the predicted class for each input.\n",
    "    labels_flat = labels.flatten()  #This line flattens the labels array into a 1D vector, as required by the f1_score function.\n",
    "    return f1_score(labels_flat, preds_flat, average='weighted') #This line computes the F1 score using the true labels and the predicted labels, with the weighted averaging scheme. The result is returned.\n",
    "\n",
    "def accuracy_per_class(preds, labels):\n",
    "    # Create a dictionary with keys and values reversed for easy lookup.\n",
    "    label_dict_inverse = {v: k for k, v in label_dict.items()}\n",
    "    \n",
    "    # Get the predicted labels and flatten them.\n",
    "    preds_flat = np.argmax(preds, axis=1).flatten()\n",
    "    \n",
    "    # Get the actual labels and flatten them.\n",
    "    labels_flat = labels.flatten()\n",
    "\n",
    "    # Iterate over the unique labels in the actual labels.\n",
    "    for label in np.unique(labels_flat):\n",
    "        # Get the predicted labels for this class.\n",
    "        y_preds = preds_flat[labels_flat==label]\n",
    "        \n",
    "        # Get the actual labels for this class.\n",
    "        y_true = labels_flat[labels_flat==label]\n",
    "        \n",
    "        # Print the class name, accuracy numerator and denominator.\n",
    "        print(f'Class: {label_dict_inverse[label]}')\n",
    "        print(f'Accuracy: {len(y_preds[y_preds==label])}/{len(y_true)}\\n')\n",
    "\n",
    "#This code evaluates the performance of a trained model on a validation dataset by computing its loss and predictions for each batch in the dataset.\n",
    "def evaluate(dataloader_val):\n",
    "\n",
    "    model.eval() # setting the model to evaluation mode to disable dropout and other regularization techniques that are useful during training but not during evaluation.\n",
    "    \n",
    "    loss_val_total = 0\n",
    "    predictions, true_vals = [], []\n",
    "    \n",
    "    for batch in dataloader_val:\n",
    "    \n",
    "        batch = tuple(b.to(device) for b in batch) # moving the input batch to the GPU for faster computation.\n",
    "   \n",
    "        #  creating a dictionary of inputs that will be passed to the model. The input IDs and attention mask are for the BERT model, and the labels are the true labels for each input.\n",
    "        inputs = {'input_ids':  \tbatch[0],\n",
    "                'attention_mask': batch[1],\n",
    "                'labels':     \tbatch[2],\n",
    "                } \n",
    "\n",
    "        with torch.no_grad():   \n",
    "            outputs = model(**inputs)\n",
    "        \n",
    "        loss = outputs[0]\n",
    "        logits = outputs[1]\n",
    "        loss_val_total += loss.item()\n",
    "\n",
    "        logits = logits.detach().cpu().numpy()\n",
    "        label_ids = inputs['labels'].cpu().numpy()\n",
    "        predictions.append(logits)\n",
    "        true_vals.append(label_ids)\n",
    "    \n",
    "    loss_val_avg = loss_val_total/len(dataloader_val)\n",
    "    \n",
    "    predictions = np.concatenate(predictions, axis=0)\n",
    "    true_vals = np.concatenate(true_vals, axis=0)\n",
    "       \t \n",
    "    return loss_val_avg, predictions, true_vals\n",
    "\n",
    "def train_model(trainer, dataloader_train, dataloader_val, epochs, patience):\n",
    "    total_training_time = 0\n",
    "    \n",
    "    training_loss_list = []\n",
    "    validation_loss_list = []\n",
    "    accuracy_list = []\n",
    "    precision_list = []\n",
    "    f1_score_list = []\n",
    "    \n",
    "    previous_results = None  # Store previous epoch results\n",
    "    best_val_loss = float('inf')\n",
    "    counter = 0\n",
    "    \n",
    "    for epoch in tqdm(range(1, epochs + 1)):\n",
    "        start_time = time.time()\n",
    "    \n",
    "        model.train()\n",
    "        loss_train_total = 0\n",
    "    \n",
    "        progress_bar = tqdm(dataloader_train,\n",
    "                            desc='Epoch {:1d}'.format(epoch),\n",
    "                            leave=False,\n",
    "                            disable=False)\n",
    "        for batch in progress_bar:\n",
    "            model.zero_grad()\n",
    "            batch = tuple(b.to(device) for b in batch)\n",
    "            inputs = {\n",
    "                'input_ids': batch[0],\n",
    "                'attention_mask': batch[1],\n",
    "                'labels': batch[2],\n",
    "            }\n",
    "            output = model(**inputs)\n",
    "            loss = output[0]\n",
    "\n",
    "            # L1 regularization\n",
    "            l1_regularization = torch.tensor(0., device=device)\n",
    "            for param in model.parameters():\n",
    "                l1_regularization += torch.norm(param, 1)\n",
    "            \n",
    "            # L2 regularization\n",
    "            l2_regularization = torch.tensor(0., device=device)\n",
    "            for param in model.parameters():\n",
    "                l2_regularization += torch.norm(param, 2)\n",
    "\n",
    "            \n",
    "            loss_train_total += loss.item()\n",
    "            loss.backward()\n",
    "            torch.nn.utils.clip_grad_norm_(model.parameters(), 1.0)\n",
    "            optimizer.step()\n",
    "            scheduler.step()\n",
    "            progress_bar.set_postfix({'training_loss': '{:.3f}'.format(loss.item() / len(batch))})\n",
    "    \n",
    "        end_time = time.time()\n",
    "        epoch_training_time = end_time - start_time\n",
    "        total_training_time += epoch_training_time\n",
    "    \n",
    "        torch.save(model.state_dict(), f'Models/finetuned_gpt_bert_amazon_ft_epoch{epoch}.model')\n",
    "    \n",
    "        tqdm.write(f'\\nEpoch {epoch}')\n",
    "    \n",
    "        loss_train_avg = loss_train_total / len(dataloader_train)\n",
    "        tqdm.write(f'Training loss: {loss_train_avg}')\n",
    "    \n",
    "        val_loss, predictions, true_vals = evaluate(dataloader_val)\n",
    "    \n",
    "        # Convert predictions to discrete labels\n",
    "        predictions = np.argmax(predictions, axis=1)\n",
    "    \n",
    "        val_f1 = f1_score(true_vals, predictions, average='weighted')\n",
    "        tqdm.write(f'Validation loss: {val_loss}')\n",
    "        tqdm.write(f'F1 Score (weighted): {val_f1}')\n",
    "    \n",
    "        val_accuracy = accuracy_score(true_vals, predictions)\n",
    "        val_precision = precision_score(true_vals, predictions, average='weighted', zero_division=1)\n",
    "    \n",
    "        # Compute and store metrics\n",
    "        training_loss_list.append(loss_train_avg)\n",
    "        validation_loss_list.append(val_loss)\n",
    "        f1_score_list.append(val_f1)\n",
    "        accuracy_list.append(val_accuracy)\n",
    "        precision_list.append(val_precision)\n",
    "    \n",
    "        # Check if there are previous results to compare with\n",
    "        if previous_results is not None:\n",
    "            if loss_train_avg > previous_results['loss_train_avg']:\n",
    "                percentage_increase = ((loss_train_avg - previous_results['loss_train_avg']) / previous_results['loss_train_avg']) * 100\n",
    "                tqdm.write('\\033[91m' + f'{round(percentage_increase, 2)}% Training loss increased compared to the previous epoch' + '\\033[0m')\n",
    "            if loss_train_avg < previous_results['loss_train_avg']:\n",
    "                percentage_decrease = ((previous_results['loss_train_avg'] - loss_train_avg) / previous_results['loss_train_avg']) * 100\n",
    "                tqdm.write('\\033[92m' + f'{round(percentage_decrease, 2)}% Training loss decreased compared to the previous epoch' + '\\033[0m')\n",
    "            if val_loss > previous_results['val_loss']:\n",
    "                percentage_increase = ((val_loss - previous_results['val_loss']) / previous_results['val_loss']) * 100\n",
    "                tqdm.write('\\033[91m' + f'{round(percentage_increase, 2)}% Validation loss increased compared to the previous epoch' + '\\033[0m')\n",
    "            if val_loss < previous_results['val_loss']:\n",
    "                percentage_decrease = ((previous_results['val_loss'] - val_loss) / previous_results['val_loss']) * 100\n",
    "                tqdm.write('\\033[92m' + f'{round(percentage_decrease, 2)}% Validation loss decreased compared to the previous epoch' + '\\033[0m')\n",
    "            if val_f1 < previous_results['val_f1']:\n",
    "                percentage_decrease = ((previous_results['val_f1'] - val_f1) / previous_results['val_f1']) * 100\n",
    "                tqdm.write('\\033[91m' + f'{round(percentage_decrease, 2)}% F1 Score decreased compared to the previous epoch' + '\\033[0m')\n",
    "            if val_f1 > previous_results['val_f1']:\n",
    "                percentage_increase = ((val_f1 - previous_results['val_f1']) / previous_results['val_f1']) * 100\n",
    "                tqdm.write('\\033[92m' + f'{round(percentage_increase, 2)}% F1 Score increased compared to the previous epoch' + '\\033[0m')\n",
    "    \n",
    "        # Store current results as previous results for the next epoch\n",
    "        previous_results = {\n",
    "            'loss_train_avg': loss_train_avg,\n",
    "            'val_loss': val_loss,\n",
    "            'val_f1': val_f1\n",
    "        }\n",
    "        \n",
    "        # Check for early stopping\n",
    "        if val_loss < best_val_loss:\n",
    "            best_val_loss = val_loss\n",
    "            counter = 0\n",
    "        else:\n",
    "            counter += 1\n",
    "            if counter >= patience:\n",
    "                tqdm.write('\\nEarly stopping triggered. Training stopped.')\n",
    "                break\n",
    "    \n",
    "    total_time_minutes = total_training_time / 60\n",
    "    tqdm.write(f'\\nTotal training time: {total_time_minutes} minutes')\n",
    "    \n",
    "    final_accuracy = accuracy_list[-1]\n",
    "    final_precision = precision_list[-1]\n",
    "    tqdm.write(f'Final Accuracy: {final_accuracy}')\n",
    "    tqdm.write(f'Final Precision: {final_precision}')\n",
    "    \n",
    "    # Create the x-axis values based on the actual number of epochs completed\n",
    "    x_values = range(1, len(training_loss_list) + 1)\n",
    "    \n",
    "    # Create the metrics subplot\n",
    "    fig, ax = plt.subplots(figsize=(8, 6))\n",
    "    \n",
    "    # Plot training loss\n",
    "    ax.plot(x_values, training_loss_list, label='Training Loss')\n",
    "    \n",
    "    # Plot validation loss\n",
    "    ax.plot(x_values, validation_loss_list, label='Validation Loss')\n",
    "    \n",
    "    # Plot F1-score\n",
    "    ax.plot(x_values, f1_score_list, label='F1 Score')\n",
    "\n",
    "    # Plot Accuracy\n",
    "    ax.plot(x_values, accuracy_list, label='Accuracy')\n",
    "    \n",
    "    # Set labels and title\n",
    "    ax.set_xlabel('Epoch')\n",
    "    ax.set_ylabel('Metric Value')\n",
    "    ax.set_title('Training Loss, Validation Loss, and F1 Score')\n",
    "    \n",
    "    # Set legend\n",
    "    ax.legend()\n",
    "    \n",
    "    # Show the combined plot\n",
    "    plt.show()\n",
    "    \n",
    "    \n",
    "    # Create the metrics table\n",
    "    metrics_table = [\n",
    "        ['Epoch', 'Training Loss', 'Validation Loss', 'F1 Score', 'Accuracy', 'Precision'],\n",
    "    ]\n",
    "    previous_results = None\n",
    "    for epoch in range(1, len(training_loss_list) + 1):\n",
    "        row = [\n",
    "            epoch,\n",
    "            training_loss_list[epoch - 1],\n",
    "            validation_loss_list[epoch - 1],\n",
    "            f1_score_list[epoch - 1],\n",
    "            accuracy_list[epoch - 1],\n",
    "            precision_list[epoch - 1]\n",
    "        ]\n",
    "    \n",
    "        # Compare with previous epoch results\n",
    "        if previous_results is not None:\n",
    "            if training_loss_list[epoch - 1] < previous_results['loss_train_avg']:\n",
    "                row[1] = '\\033[92m' + str(row[1]) + '\\033[0m'  # Highlight in green\n",
    "            if training_loss_list[epoch - 1] > previous_results['loss_train_avg']:\n",
    "                row[1] = '\\033[91m' + str(row[1]) + '\\033[0m'  # Highlight in red\n",
    "            if validation_loss_list[epoch - 1] < previous_results['val_loss']:\n",
    "                row[2] = '\\033[92m' + str(row[2]) + '\\033[0m'  # Highlight in green\n",
    "            if validation_loss_list[epoch - 1] > previous_results['val_loss']:\n",
    "                row[2] = '\\033[91m' + str(row[2]) + '\\033[0m'  # Highlight in red\n",
    "            if f1_score_list[epoch - 1] > previous_results['val_f1']:\n",
    "                row[3] = '\\033[92m' + str(row[3]) + '\\033[0m'  # Highlight in green\n",
    "            if f1_score_list[epoch - 1] < previous_results['val_f1']:\n",
    "                row[3] = '\\033[91m' + str(row[3]) + '\\033[0m'  # Highlight in red\n",
    "            if accuracy_list[epoch - 1] > previous_results['val_f1']:\n",
    "                row[4] = '\\033[92m' + str(row[3]) + '\\033[0m'  # Highlight in green\n",
    "            if accuracy_list[epoch - 1] < previous_results['val_f1']:\n",
    "                row[4] = '\\033[91m' + str(row[3]) + '\\033[0m'  # Highlight in red\n",
    "            if precision_list[epoch - 1] > previous_results['val_f1']:\n",
    "                row[5] = '\\033[92m' + str(row[3]) + '\\033[0m'  # Highlight in green\n",
    "            if precision_list[epoch - 1] < previous_results['val_f1']:\n",
    "                row[5] = '\\033[91m' + str(row[3]) + '\\033[0m'  # Highlight in red\n",
    "    \n",
    "        metrics_table.append(row)\n",
    "        previous_results = {\n",
    "            'loss_train_avg': training_loss_list[epoch - 1],\n",
    "            'val_loss': validation_loss_list[epoch - 1],\n",
    "            'val_f1': f1_score_list[epoch - 1]\n",
    "        }\n",
    "    \n",
    "    # Calculate total training time in minutes\n",
    "    total_time_minutes = total_training_time / 60\n",
    "    \n",
    "    # Calculate total precision\n",
    "    total_precision = precision_list[-1]\n",
    "    \n",
    "    # Add total training time and total precision rows to the table\n",
    "    metrics_table.append(['Total Training Time', '', '', '', '', total_training_time])\n",
    "    metrics_table.append(['Final Precision', '', '', '', '', total_precision])\n",
    "    metrics_table.append(['Total Time (minutes)', '', '', '', '', total_time_minutes])\n",
    "    \n",
    "    # Print the table\n",
    "    print(tabulate(metrics_table, headers='firstrow'))\n",
    "\n",
    "default_args = {\n",
    "    \"output_dir\": \"tmp\",\n",
    "    \"evaluation_strategy\": \"steps\",\n",
    "    \"num_train_epochs\": 1,\n",
    "    \"log_level\": \"error\",\n",
    "    \"report_to\": \"none\",\n",
    "}"
   ]
  },
  {
   "cell_type": "code",
   "execution_count": 3,
   "id": "d9785608-cd5e-4432-9d68-68d90c4a0a5a",
   "metadata": {},
   "outputs": [
    {
     "name": "stderr",
     "output_type": "stream",
     "text": [
      "Found cached dataset amazon_us_reviews (/home/z123010/.cache/huggingface/datasets/amazon_us_reviews/Apparel_v1_00/0.1.0/17b2481be59723469538adeb8fd0a68b0ba363bbbdd71090e72c325ee6c7e563)\n"
     ]
    },
    {
     "data": {
      "application/vnd.jupyter.widget-view+json": {
       "model_id": "9735901b50974d4ea287ed13cda9bae2",
       "version_major": 2,
       "version_minor": 0
      },
      "text/plain": [
       "  0%|          | 0/1 [00:00<?, ?it/s]"
      ]
     },
     "metadata": {},
     "output_type": "display_data"
    }
   ],
   "source": [
    "df = datacleaning_amazon()"
   ]
  },
  {
   "cell_type": "code",
   "execution_count": 4,
   "id": "8793b8bc-43bd-4d43-a17e-abf0174eb200",
   "metadata": {},
   "outputs": [],
   "source": [
    "# Create label_dict and assign the number of labels\n",
    "label_dict = {label: index for index, label in enumerate(df['label'].unique())}"
   ]
  },
  {
   "cell_type": "code",
   "execution_count": 5,
   "id": "2707709e-9e1b-460f-9386-6d9e999f2d90",
   "metadata": {},
   "outputs": [
    {
     "data": {
      "text/html": [
       "<div>\n",
       "<style scoped>\n",
       "    .dataframe tbody tr th:only-of-type {\n",
       "        vertical-align: middle;\n",
       "    }\n",
       "\n",
       "    .dataframe tbody tr th {\n",
       "        vertical-align: top;\n",
       "    }\n",
       "\n",
       "    .dataframe thead th {\n",
       "        text-align: right;\n",
       "    }\n",
       "</style>\n",
       "<table border=\"1\" class=\"dataframe\">\n",
       "  <thead>\n",
       "    <tr style=\"text-align: right;\">\n",
       "      <th></th>\n",
       "      <th>review_headline</th>\n",
       "      <th>review_body</th>\n",
       "      <th>star_rating</th>\n",
       "      <th>sentiment</th>\n",
       "      <th>label</th>\n",
       "      <th>data_type</th>\n",
       "    </tr>\n",
       "    <tr>\n",
       "      <th>customer_id</th>\n",
       "      <th></th>\n",
       "      <th></th>\n",
       "      <th></th>\n",
       "      <th></th>\n",
       "      <th></th>\n",
       "      <th></th>\n",
       "    </tr>\n",
       "  </thead>\n",
       "  <tbody>\n",
       "    <tr>\n",
       "      <th>1825367</th>\n",
       "      <td>Two Stars</td>\n",
       "      <td>To small</td>\n",
       "      <td>2</td>\n",
       "      <td>bad</td>\n",
       "      <td>2</td>\n",
       "      <td>train</td>\n",
       "    </tr>\n",
       "    <tr>\n",
       "      <th>120096</th>\n",
       "      <td>Four Stars</td>\n",
       "      <td>Good sweater fits nice and great special events</td>\n",
       "      <td>4</td>\n",
       "      <td>good</td>\n",
       "      <td>0</td>\n",
       "      <td>val</td>\n",
       "    </tr>\n",
       "    <tr>\n",
       "      <th>11223117</th>\n",
       "      <td>Very poor quality.</td>\n",
       "      <td>The fabric is very stiff, cheap stuff. The lac...</td>\n",
       "      <td>2</td>\n",
       "      <td>bad</td>\n",
       "      <td>2</td>\n",
       "      <td>train</td>\n",
       "    </tr>\n",
       "    <tr>\n",
       "      <th>34791446</th>\n",
       "      <td>Nice dress!</td>\n",
       "      <td>I love this this dress, the design, the color ...</td>\n",
       "      <td>4</td>\n",
       "      <td>good</td>\n",
       "      <td>0</td>\n",
       "      <td>val</td>\n",
       "    </tr>\n",
       "    <tr>\n",
       "      <th>29816062</th>\n",
       "      <td>I love America and I love tanks</td>\n",
       "      <td>I love America and I love tanks.  I can't wait...</td>\n",
       "      <td>5</td>\n",
       "      <td>good</td>\n",
       "      <td>0</td>\n",
       "      <td>train</td>\n",
       "    </tr>\n",
       "    <tr>\n",
       "      <th>21023787</th>\n",
       "      <td>Five Stars</td>\n",
       "      <td>Love it</td>\n",
       "      <td>5</td>\n",
       "      <td>good</td>\n",
       "      <td>0</td>\n",
       "      <td>train</td>\n",
       "    </tr>\n",
       "    <tr>\n",
       "      <th>26381280</th>\n",
       "      <td>Is beautiful!</td>\n",
       "      <td>Love this dress!  Fabric is soft, looks beauti...</td>\n",
       "      <td>5</td>\n",
       "      <td>good</td>\n",
       "      <td>0</td>\n",
       "      <td>train</td>\n",
       "    </tr>\n",
       "    <tr>\n",
       "      <th>115135</th>\n",
       "      <td>Do not disappoint with it!</td>\n",
       "      <td>The dress came as expected time. I will wear f...</td>\n",
       "      <td>5</td>\n",
       "      <td>good</td>\n",
       "      <td>0</td>\n",
       "      <td>val</td>\n",
       "    </tr>\n",
       "    <tr>\n",
       "      <th>32352958</th>\n",
       "      <td>But it feels nice and looks great</td>\n",
       "      <td>I am petite (5'0&amp;#34;) and wear between a 4 an...</td>\n",
       "      <td>4</td>\n",
       "      <td>good</td>\n",
       "      <td>0</td>\n",
       "      <td>train</td>\n",
       "    </tr>\n",
       "    <tr>\n",
       "      <th>122697</th>\n",
       "      <td>Four Stars</td>\n",
       "      <td>when you order a large, it's actually a x-larg...</td>\n",
       "      <td>4</td>\n",
       "      <td>good</td>\n",
       "      <td>0</td>\n",
       "      <td>train</td>\n",
       "    </tr>\n",
       "  </tbody>\n",
       "</table>\n",
       "</div>"
      ],
      "text/plain": [
       "                               review_headline   \n",
       "customer_id                                      \n",
       "1825367                              Two Stars  \\\n",
       "120096                              Four Stars   \n",
       "11223117                    Very poor quality.   \n",
       "34791446                           Nice dress!   \n",
       "29816062       I love America and I love tanks   \n",
       "21023787                            Five Stars   \n",
       "26381280                         Is beautiful!   \n",
       "115135              Do not disappoint with it!   \n",
       "32352958     But it feels nice and looks great   \n",
       "122697                              Four Stars   \n",
       "\n",
       "                                                   review_body  star_rating   \n",
       "customer_id                                                                   \n",
       "1825367                                               To small            2  \\\n",
       "120096         Good sweater fits nice and great special events            4   \n",
       "11223117     The fabric is very stiff, cheap stuff. The lac...            2   \n",
       "34791446     I love this this dress, the design, the color ...            4   \n",
       "29816062     I love America and I love tanks.  I can't wait...            5   \n",
       "21023787                                               Love it            5   \n",
       "26381280     Love this dress!  Fabric is soft, looks beauti...            5   \n",
       "115135       The dress came as expected time. I will wear f...            5   \n",
       "32352958     I am petite (5'0&#34;) and wear between a 4 an...            4   \n",
       "122697       when you order a large, it's actually a x-larg...            4   \n",
       "\n",
       "            sentiment  label data_type  \n",
       "customer_id                             \n",
       "1825367           bad      2     train  \n",
       "120096           good      0       val  \n",
       "11223117          bad      2     train  \n",
       "34791446         good      0       val  \n",
       "29816062         good      0     train  \n",
       "21023787         good      0     train  \n",
       "26381280         good      0     train  \n",
       "115135           good      0       val  \n",
       "32352958         good      0     train  \n",
       "122697           good      0     train  "
      ]
     },
     "execution_count": 5,
     "metadata": {},
     "output_type": "execute_result"
    }
   ],
   "source": [
    "df.sample(n=10, random_state=42)  # Generate 10 random rows from df"
   ]
  },
  {
   "cell_type": "code",
   "execution_count": 6,
   "id": "dc596d9c-5808-4f39-a59e-6ed36d8927dd",
   "metadata": {},
   "outputs": [
    {
     "data": {
      "text/html": [
       "<div>\n",
       "<style scoped>\n",
       "    .dataframe tbody tr th:only-of-type {\n",
       "        vertical-align: middle;\n",
       "    }\n",
       "\n",
       "    .dataframe tbody tr th {\n",
       "        vertical-align: top;\n",
       "    }\n",
       "\n",
       "    .dataframe thead th {\n",
       "        text-align: right;\n",
       "    }\n",
       "</style>\n",
       "<table border=\"1\" class=\"dataframe\">\n",
       "  <thead>\n",
       "    <tr style=\"text-align: right;\">\n",
       "      <th></th>\n",
       "      <th>review_headline</th>\n",
       "      <th>review_body</th>\n",
       "      <th>star_rating</th>\n",
       "      <th>label</th>\n",
       "      <th>data_type</th>\n",
       "    </tr>\n",
       "    <tr>\n",
       "      <th>sentiment</th>\n",
       "      <th></th>\n",
       "      <th></th>\n",
       "      <th></th>\n",
       "      <th></th>\n",
       "      <th></th>\n",
       "    </tr>\n",
       "  </thead>\n",
       "  <tbody>\n",
       "    <tr>\n",
       "      <th>bad</th>\n",
       "      <td>3514</td>\n",
       "      <td>3514</td>\n",
       "      <td>3514</td>\n",
       "      <td>3514</td>\n",
       "      <td>3514</td>\n",
       "    </tr>\n",
       "    <tr>\n",
       "      <th>good</th>\n",
       "      <td>14664</td>\n",
       "      <td>14664</td>\n",
       "      <td>14664</td>\n",
       "      <td>14664</td>\n",
       "      <td>14664</td>\n",
       "    </tr>\n",
       "    <tr>\n",
       "      <th>neutral</th>\n",
       "      <td>1822</td>\n",
       "      <td>1822</td>\n",
       "      <td>1822</td>\n",
       "      <td>1822</td>\n",
       "      <td>1822</td>\n",
       "    </tr>\n",
       "  </tbody>\n",
       "</table>\n",
       "</div>"
      ],
      "text/plain": [
       "           review_headline  review_body  star_rating  label  data_type\n",
       "sentiment                                                             \n",
       "bad                   3514         3514         3514   3514       3514\n",
       "good                 14664        14664        14664  14664      14664\n",
       "neutral               1822         1822         1822   1822       1822"
      ]
     },
     "execution_count": 6,
     "metadata": {},
     "output_type": "execute_result"
    }
   ],
   "source": [
    "df.groupby(['sentiment']).count()"
   ]
  },
  {
   "cell_type": "code",
   "execution_count": 7,
   "id": "731e5a17-8ab7-4d19-a012-05eeabab1d90",
   "metadata": {
    "tags": []
   },
   "outputs": [],
   "source": [
    "# Load BERT tokenizer\n",
    "pretrained_path = 'gpt2'  # Replace with the path to the pretrained BERT model\n",
    "tokenizer = BertTokenizer.from_pretrained(\n",
    "    'bert-base-uncased',\n",
    "    do_lower_case=True\n",
    ")\n",
    "\n",
    "encoded_data_train_headline = tokenizer.batch_encode_plus(\n",
    "    df[df.data_type=='train'].review_headline.values,\n",
    "    add_special_tokens=True,\n",
    "    return_attention_mask=True,\n",
    "    padding='longest',\n",
    "    max_length=256,\n",
    "    truncation=True,\n",
    "    return_tensors='pt'\n",
    ")\n",
    "\n",
    "encoded_data_train_body = tokenizer.batch_encode_plus(\n",
    "    df[df.data_type=='train'].review_body.values,\n",
    "    add_special_tokens=True,\n",
    "    return_attention_mask=True,\n",
    "    padding='longest',\n",
    "    max_length=256,\n",
    "    truncation=True,\n",
    "    return_tensors='pt'\n",
    ")\n",
    "\n",
    "input_ids_train_headline = encoded_data_train_headline['input_ids']\n",
    "attention_masks_train_headline = encoded_data_train_headline['attention_mask']\n",
    "\n",
    "input_ids_train_body = encoded_data_train_body['input_ids']\n",
    "attention_masks_train_body = encoded_data_train_body['attention_mask']\n",
    "\n",
    "input_ids_train = torch.cat((input_ids_train_headline, input_ids_train_body), dim=1)\n",
    "attention_masks_train = torch.cat((attention_masks_train_headline, attention_masks_train_body), dim=1)\n",
    "\n",
    "labels_train = torch.tensor(df[df.data_type=='train'].label.values)\n",
    "\n",
    "\n",
    "encoded_data_val_headline = tokenizer.batch_encode_plus(\n",
    "    df[df.data_type=='val'].review_headline.values,\n",
    "    add_special_tokens=True,\n",
    "    return_attention_mask=True,\n",
    "    padding='longest',\n",
    "    max_length=256,\n",
    "    truncation=True,\n",
    "    return_tensors='pt'\n",
    ")\n",
    "\n",
    "encoded_data_val_body = tokenizer.batch_encode_plus(\n",
    "    df[df.data_type=='val'].review_body.values,\n",
    "    add_special_tokens=True,\n",
    "    return_attention_mask=True,\n",
    "    padding='longest',\n",
    "    max_length=256,\n",
    "    truncation=True,\n",
    "    return_tensors='pt'\n",
    ")\n",
    "\n",
    "input_ids_val_headline = encoded_data_val_headline['input_ids']\n",
    "attention_masks_val_headline = encoded_data_val_headline['attention_mask']\n",
    "\n",
    "input_ids_val_body = encoded_data_val_body['input_ids']\n",
    "attention_masks_val_body = encoded_data_val_body['attention_mask']\n",
    "\n",
    "input_ids_val = torch.cat((input_ids_val_headline, input_ids_val_body), dim=1)\n",
    "attention_masks_val = torch.cat((attention_masks_val_headline, attention_masks_val_body), dim=1)\n",
    "\n",
    "labels_val = torch.tensor(df[df.data_type=='val'].label.values)"
   ]
  },
  {
   "cell_type": "code",
   "execution_count": 8,
   "id": "42125069-fd5d-49c0-8032-2be61cb2a6d3",
   "metadata": {
    "tags": []
   },
   "outputs": [
    {
     "data": {
      "text/plain": [
       "(15975, 4025)"
      ]
     },
     "execution_count": 8,
     "metadata": {},
     "output_type": "execute_result"
    }
   ],
   "source": [
    "dataset_train = TensorDataset(input_ids_train, attention_masks_train, labels_train)\n",
    "dataset_val = TensorDataset(input_ids_val, attention_masks_val, labels_val)\n",
    "len(dataset_train), len(dataset_val)"
   ]
  },
  {
   "cell_type": "code",
   "execution_count": 9,
   "id": "9a2f7e02-8423-4787-994e-d599ab86b123",
   "metadata": {},
   "outputs": [],
   "source": [
    "from transformers import BertModel, BertConfig, GPT2Model, GPT2Config\n",
    "\n",
    "num_classes = 3\n",
    "\n",
    "class SentimentModel(nn.Module):\n",
    "    def __init__(self, pretrained_bert_path, pretrained_gpt_path):\n",
    "        super(SentimentModel, self).__init__()\n",
    "\n",
    "        gpt_config = GPT2Config.from_pretrained(\n",
    "            pretrained_gpt_path,\n",
    "            hidden_dropout_prob=0.3,\n",
    "            attention_probs_dropout_prob=0.1)\n",
    "        self.gpt = GPT2Model.from_pretrained(pretrained_gpt_path, config=gpt_config)\n",
    "        \n",
    "        bert_config = BertConfig.from_pretrained(pretrained_bert_path)\n",
    "        self.bert = BertModel.from_pretrained(pretrained_bert_path, config=bert_config)\n",
    "        \n",
    "        self.dropout = nn.Dropout(0.2)\n",
    "        self.fc = nn.Linear(bert_config.hidden_size + gpt_config.hidden_size, num_classes)\n",
    "\n",
    "    def forward(self, input_ids, attention_mask, labels=None):\n",
    "        gpt_outputs = self.gpt(input_ids, attention_mask=attention_mask)[0]\n",
    "        bert_outputs = self.bert(input_ids, attention_mask=attention_mask)[0]\n",
    "        \n",
    "        gpt_last_hidden_state = self.dropout(gpt_outputs[:, -1, :])  # Use the last hidden state\n",
    "        bert_pooled_output = self.dropout(bert_outputs[:, 0, :])  # Use the [CLS] token representation\n",
    "        \n",
    "        combined_outputs = torch.cat((gpt_last_hidden_state, bert_pooled_output), dim=1)\n",
    "        \n",
    "        logits = self.fc(combined_outputs)\n",
    "        outputs = nn.functional.softmax(logits, dim=1)\n",
    "        \n",
    "        if labels is not None:\n",
    "            loss = nn.CrossEntropyLoss()(logits.view(-1, num_classes), labels.view(-1))\n",
    "            return loss, outputs, labels\n",
    "        else:\n",
    "            return outputs"
   ]
  },
  {
   "cell_type": "code",
   "execution_count": 10,
   "id": "7d131f86-ee7e-49b3-a104-a61841bb78d3",
   "metadata": {},
   "outputs": [
    {
     "name": "stderr",
     "output_type": "stream",
     "text": [
      "Some weights of the model checkpoint at bert-base-uncased were not used when initializing BertModel: ['cls.predictions.bias', 'cls.seq_relationship.weight', 'cls.predictions.transform.dense.weight', 'cls.predictions.transform.dense.bias', 'cls.predictions.transform.LayerNorm.bias', 'cls.seq_relationship.bias', 'cls.predictions.transform.LayerNorm.weight']\n",
      "- This IS expected if you are initializing BertModel from the checkpoint of a model trained on another task or with another architecture (e.g. initializing a BertForSequenceClassification model from a BertForPreTraining model).\n",
      "- This IS NOT expected if you are initializing BertModel from the checkpoint of a model that you expect to be exactly identical (initializing a BertForSequenceClassification model from a BertForSequenceClassification model).\n"
     ]
    }
   ],
   "source": [
    "# Create model instance\n",
    "model = SentimentModel('bert-base-uncased', 'gpt2')"
   ]
  },
  {
   "cell_type": "code",
   "execution_count": 11,
   "id": "60757b1f-b1d9-468b-9ad0-3d59e4a7da03",
   "metadata": {},
   "outputs": [],
   "source": [
    "# Define the regularization strength\n",
    "lambda_l1 = 0.001\n",
    "lambda_l2 = 0.001\n",
    "# Define the loss function\n",
    "criterion = nn.CrossEntropyLoss()"
   ]
  },
  {
   "cell_type": "code",
   "execution_count": 12,
   "id": "834c8c87-40a1-49c6-8e7b-307b931aec01",
   "metadata": {},
   "outputs": [
    {
     "data": {
      "text/plain": [
       "SentimentModel(\n",
       "  (gpt): GPT2Model(\n",
       "    (wte): Embedding(50257, 768)\n",
       "    (wpe): Embedding(1024, 768)\n",
       "    (drop): Dropout(p=0.1, inplace=False)\n",
       "    (h): ModuleList(\n",
       "      (0-11): 12 x GPT2Block(\n",
       "        (ln_1): LayerNorm((768,), eps=1e-05, elementwise_affine=True)\n",
       "        (attn): GPT2Attention(\n",
       "          (c_attn): Conv1D()\n",
       "          (c_proj): Conv1D()\n",
       "          (attn_dropout): Dropout(p=0.1, inplace=False)\n",
       "          (resid_dropout): Dropout(p=0.1, inplace=False)\n",
       "        )\n",
       "        (ln_2): LayerNorm((768,), eps=1e-05, elementwise_affine=True)\n",
       "        (mlp): GPT2MLP(\n",
       "          (c_fc): Conv1D()\n",
       "          (c_proj): Conv1D()\n",
       "          (act): NewGELUActivation()\n",
       "          (dropout): Dropout(p=0.1, inplace=False)\n",
       "        )\n",
       "      )\n",
       "    )\n",
       "    (ln_f): LayerNorm((768,), eps=1e-05, elementwise_affine=True)\n",
       "  )\n",
       "  (bert): BertModel(\n",
       "    (embeddings): BertEmbeddings(\n",
       "      (word_embeddings): Embedding(30522, 768, padding_idx=0)\n",
       "      (position_embeddings): Embedding(512, 768)\n",
       "      (token_type_embeddings): Embedding(2, 768)\n",
       "      (LayerNorm): LayerNorm((768,), eps=1e-12, elementwise_affine=True)\n",
       "      (dropout): Dropout(p=0.1, inplace=False)\n",
       "    )\n",
       "    (encoder): BertEncoder(\n",
       "      (layer): ModuleList(\n",
       "        (0-11): 12 x BertLayer(\n",
       "          (attention): BertAttention(\n",
       "            (self): BertSelfAttention(\n",
       "              (query): Linear(in_features=768, out_features=768, bias=True)\n",
       "              (key): Linear(in_features=768, out_features=768, bias=True)\n",
       "              (value): Linear(in_features=768, out_features=768, bias=True)\n",
       "              (dropout): Dropout(p=0.1, inplace=False)\n",
       "            )\n",
       "            (output): BertSelfOutput(\n",
       "              (dense): Linear(in_features=768, out_features=768, bias=True)\n",
       "              (LayerNorm): LayerNorm((768,), eps=1e-12, elementwise_affine=True)\n",
       "              (dropout): Dropout(p=0.1, inplace=False)\n",
       "            )\n",
       "          )\n",
       "          (intermediate): BertIntermediate(\n",
       "            (dense): Linear(in_features=768, out_features=3072, bias=True)\n",
       "            (intermediate_act_fn): GELUActivation()\n",
       "          )\n",
       "          (output): BertOutput(\n",
       "            (dense): Linear(in_features=3072, out_features=768, bias=True)\n",
       "            (LayerNorm): LayerNorm((768,), eps=1e-12, elementwise_affine=True)\n",
       "            (dropout): Dropout(p=0.1, inplace=False)\n",
       "          )\n",
       "        )\n",
       "      )\n",
       "    )\n",
       "    (pooler): BertPooler(\n",
       "      (dense): Linear(in_features=768, out_features=768, bias=True)\n",
       "      (activation): Tanh()\n",
       "    )\n",
       "  )\n",
       "  (dropout): Dropout(p=0.2, inplace=False)\n",
       "  (fc): Linear(in_features=1536, out_features=3, bias=True)\n",
       ")"
      ]
     },
     "execution_count": 12,
     "metadata": {},
     "output_type": "execute_result"
    }
   ],
   "source": [
    "# Set device (CPU or GPU)\n",
    "device = torch.device(\"cuda\" if torch.cuda.is_available() else \"cpu\")\n",
    "model.to(device)"
   ]
  },
  {
   "cell_type": "code",
   "execution_count": 13,
   "id": "c610d351-0be0-4899-bf58-2397193b5ed1",
   "metadata": {},
   "outputs": [],
   "source": [
    "from transformers import TrainingArguments, Trainer, logging\n",
    "training_args = TrainingArguments(\n",
    "    per_device_train_batch_size=1,\n",
    "    gradient_accumulation_steps=4,\n",
    "    gradient_checkpointing=True,\n",
    "    fp16=True,\n",
    "    **default_args,\n",
    ")"
   ]
  },
  {
   "cell_type": "code",
   "execution_count": 14,
   "id": "7feb2f9d-26d7-41ed-b138-f2a59173c99a",
   "metadata": {},
   "outputs": [],
   "source": [
    "trainer = Trainer(\n",
    "    model=model,\n",
    "    args=training_args,\n",
    "    train_dataset=dataset_train,\n",
    "    eval_dataset=dataset_val,\n",
    ")"
   ]
  },
  {
   "cell_type": "code",
   "execution_count": 15,
   "id": "cfb9e671-0f31-4a58-bf72-8c13ac04e6a0",
   "metadata": {},
   "outputs": [],
   "source": [
    "from torch.utils.data import DataLoader, RandomSampler, SequentialSampler\n",
    "# Set the batch size and create data loaders for training and validation sets\n",
    "\n",
    "batch_size = 8 #32\n",
    "\n",
    "dataloader_train = DataLoader(\n",
    "    dataset_train,\n",
    "    sampler=RandomSampler(dataset_train),\n",
    "    batch_size=batch_size\n",
    ")\n",
    "\n",
    "dataloader_val = DataLoader(\n",
    "    dataset_val,\n",
    "    sampler=RandomSampler(dataset_val),\n",
    "    batch_size=batch_size\n",
    ")"
   ]
  },
  {
   "cell_type": "code",
   "execution_count": 16,
   "id": "d3bc14be-49bc-4b42-be70-17412957cdaa",
   "metadata": {},
   "outputs": [
    {
     "name": "stderr",
     "output_type": "stream",
     "text": [
      "/home/z123010/anaconda3/lib/python3.10/site-packages/transformers/optimization.py:411: FutureWarning: This implementation of AdamW is deprecated and will be removed in a future version. Use the PyTorch implementation torch.optim.AdamW instead, or set `no_deprecation_warning=True` to disable this warning\n",
      "  warnings.warn(\n"
     ]
    }
   ],
   "source": [
    "from transformers import AdamW, get_linear_schedule_with_warmup\n",
    "\n",
    "optimizer = AdamW(\n",
    "    model.parameters(),\n",
    "    lr=1e-5,\n",
    "    eps=1e-8\n",
    ")\n",
    "\n",
    "epochs = 25\n",
    "patience = 5\n",
    "scheduler = get_linear_schedule_with_warmup(\n",
    "    optimizer,\n",
    "    num_warmup_steps=0,\n",
    "    num_training_steps=len(dataloader_train) * epochs\n",
    ")"
   ]
  },
  {
   "cell_type": "code",
   "execution_count": 17,
   "id": "27c174c9-8e92-42fa-9d81-54260c58251e",
   "metadata": {},
   "outputs": [],
   "source": [
    "import random\n",
    "\n",
    "seed_val = 17\n",
    "random.seed(seed_val) #sets the seed value for the Python built-in pseudo-random generator.\n",
    "np.random.seed(seed_val) #sets the seed value for the NumPy pseudo-random number generator.\n",
    "torch.manual_seed(seed_val) #sets the seed value for the random number generator in PyTorch on the CPU.\n",
    "torch.cuda.manual_seed_all(seed_val) #sets the seed value for the random number generator in PyTorch on the GPU."
   ]
  },
  {
   "cell_type": "code",
   "execution_count": 18,
   "id": "f3a28ec5-87fe-4bdf-b6a1-05bf8b6f6b8e",
   "metadata": {},
   "outputs": [
    {
     "name": "stdout",
     "output_type": "stream",
     "text": [
      "cuda\n"
     ]
    }
   ],
   "source": [
    "device = torch.device('cuda' if torch.cuda.is_available() else 'cpu')\n",
    "model.to(device)\n",
    "\n",
    "print(device)"
   ]
  },
  {
   "cell_type": "code",
   "execution_count": null,
   "id": "d9c363e7-c757-4bb6-bb2c-d19a126fd165",
   "metadata": {},
   "outputs": [
    {
     "name": "stdout",
     "output_type": "stream",
     "text": [
      "\n",
      "Fold 1\n"
     ]
    },
    {
     "data": {
      "application/vnd.jupyter.widget-view+json": {
       "model_id": "8e2917aa3ee643c3be7856a7da0599ee",
       "version_major": 2,
       "version_minor": 0
      },
      "text/plain": [
       "  0%|          | 0/25 [00:00<?, ?it/s]"
      ]
     },
     "metadata": {},
     "output_type": "display_data"
    },
    {
     "data": {
      "application/vnd.jupyter.widget-view+json": {
       "model_id": "",
       "version_major": 2,
       "version_minor": 0
      },
      "text/plain": [
       "Epoch 1:   0%|          | 0/1798 [00:00<?, ?it/s]"
      ]
     },
     "metadata": {},
     "output_type": "display_data"
    },
    {
     "name": "stdout",
     "output_type": "stream",
     "text": [
      "\n",
      "Epoch 1\n",
      "Training loss: 0.340816298548976\n",
      "Validation loss: 0.23079741980240215\n",
      "F1 Score (weighted): 0.9128968335474179\n"
     ]
    },
    {
     "data": {
      "application/vnd.jupyter.widget-view+json": {
       "model_id": "",
       "version_major": 2,
       "version_minor": 0
      },
      "text/plain": [
       "Epoch 2:   0%|          | 0/1798 [00:00<?, ?it/s]"
      ]
     },
     "metadata": {},
     "output_type": "display_data"
    },
    {
     "name": "stdout",
     "output_type": "stream",
     "text": [
      "\n",
      "Epoch 2\n",
      "Training loss: 0.22353804428693042\n",
      "Validation loss: 0.38235858919651944\n",
      "F1 Score (weighted): 0.9078705386253427\n",
      "\u001b[92m34.41% Training loss decreased compared to the previous epoch\u001b[0m\n",
      "\u001b[91m65.67% Validation loss increased compared to the previous epoch\u001b[0m\n",
      "\u001b[91m0.55% F1 Score decreased compared to the previous epoch\u001b[0m\n"
     ]
    },
    {
     "data": {
      "application/vnd.jupyter.widget-view+json": {
       "model_id": "",
       "version_major": 2,
       "version_minor": 0
      },
      "text/plain": [
       "Epoch 3:   0%|          | 0/1798 [00:00<?, ?it/s]"
      ]
     },
     "metadata": {},
     "output_type": "display_data"
    },
    {
     "name": "stdout",
     "output_type": "stream",
     "text": [
      "\n",
      "Epoch 3\n",
      "Training loss: 0.16052100970465655\n",
      "Validation loss: 0.3940758546060533\n",
      "F1 Score (weighted): 0.910034924874205\n",
      "\u001b[92m28.19% Training loss decreased compared to the previous epoch\u001b[0m\n",
      "\u001b[91m3.06% Validation loss increased compared to the previous epoch\u001b[0m\n",
      "\u001b[92m0.24% F1 Score increased compared to the previous epoch\u001b[0m\n"
     ]
    },
    {
     "data": {
      "application/vnd.jupyter.widget-view+json": {
       "model_id": "",
       "version_major": 2,
       "version_minor": 0
      },
      "text/plain": [
       "Epoch 4:   0%|          | 0/1798 [00:00<?, ?it/s]"
      ]
     },
     "metadata": {},
     "output_type": "display_data"
    },
    {
     "name": "stdout",
     "output_type": "stream",
     "text": [
      "\n",
      "Epoch 4\n",
      "Training loss: 0.10945657080488921\n",
      "Validation loss: 0.51591134470611\n",
      "F1 Score (weighted): 0.8993224144428901\n",
      "\u001b[92m31.81% Training loss decreased compared to the previous epoch\u001b[0m\n",
      "\u001b[91m30.92% Validation loss increased compared to the previous epoch\u001b[0m\n",
      "\u001b[91m1.18% F1 Score decreased compared to the previous epoch\u001b[0m\n"
     ]
    },
    {
     "data": {
      "application/vnd.jupyter.widget-view+json": {
       "model_id": "",
       "version_major": 2,
       "version_minor": 0
      },
      "text/plain": [
       "Epoch 5:   0%|          | 0/1798 [00:00<?, ?it/s]"
      ]
     },
     "metadata": {},
     "output_type": "display_data"
    },
    {
     "name": "stdout",
     "output_type": "stream",
     "text": [
      "\n",
      "Epoch 5\n",
      "Training loss: 0.06788991418067515\n",
      "Validation loss: 0.6387632939046671\n",
      "F1 Score (weighted): 0.9083575856067718\n",
      "\u001b[92m37.98% Training loss decreased compared to the previous epoch\u001b[0m\n",
      "\u001b[91m23.81% Validation loss increased compared to the previous epoch\u001b[0m\n",
      "\u001b[92m1.0% F1 Score increased compared to the previous epoch\u001b[0m\n"
     ]
    },
    {
     "data": {
      "application/vnd.jupyter.widget-view+json": {
       "model_id": "",
       "version_major": 2,
       "version_minor": 0
      },
      "text/plain": [
       "Epoch 6:   0%|          | 0/1798 [00:00<?, ?it/s]"
      ]
     },
     "metadata": {},
     "output_type": "display_data"
    },
    {
     "name": "stdout",
     "output_type": "stream",
     "text": [
      "\n",
      "Epoch 6\n",
      "Training loss: 0.054478194134291794\n",
      "Validation loss: 0.6675483866411923\n",
      "F1 Score (weighted): 0.9047124004211448\n",
      "\u001b[92m19.76% Training loss decreased compared to the previous epoch\u001b[0m\n",
      "\u001b[91m4.51% Validation loss increased compared to the previous epoch\u001b[0m\n",
      "\u001b[91m0.4% F1 Score decreased compared to the previous epoch\u001b[0m\n",
      "\n",
      "Early stopping triggered. Training stopped.\n",
      "\n",
      "Total training time: 104.53212396303813 minutes\n",
      "Final Accuracy: 0.9005006257822278\n",
      "Final Precision: 0.9114942545120114\n"
     ]
    },
    {
     "data": {
      "image/png": "[encoded data removed]",
      "text/plain": [
       "<Figure size 800x600 with 1 Axes>"
      ]
     },
     "metadata": {},
     "output_type": "display_data"
    },
    {
     "name": "stdout",
     "output_type": "stream",
     "text": [
      "Epoch                 Training Loss         Validation Loss      F1 Score            Accuracy              Precision\n",
      "--------------------  --------------------  -------------------  ------------------  ------------------  -----------\n",
      "1                     0.340816298548976     0.23079741980240215  0.9128968335474179  0.9192740926157698     0.913644\n",
      "2                     \u001b[92m0.22353804428693042\u001b[0m   \u001b[91m0.38235858919651944\u001b[0m  \u001b[91m0.9078705386253427\u001b[0m  \u001b[91m\u001b[91m0.9078705386253427\u001b[0m\u001b[0m     \u001b[91m\u001b[91m0.907871\u001b[0m\u001b[0m\n",
      "3                     \u001b[92m0.16052100970465655\u001b[0m   \u001b[91m0.3940758546060533\u001b[0m   \u001b[92m0.910034924874205\u001b[0m   \u001b[92m\u001b[92m0.910034924874205\u001b[0m\u001b[0m      \u001b[91m\u001b[92m0.910035\u001b[0m\u001b[0m\n",
      "4                     \u001b[92m0.10945657080488921\u001b[0m   \u001b[91m0.51591134470611\u001b[0m     \u001b[91m0.8993224144428901\u001b[0m  \u001b[91m\u001b[91m0.8993224144428901\u001b[0m\u001b[0m     \u001b[91m\u001b[91m0.899322\u001b[0m\u001b[0m\n",
      "5                     \u001b[92m0.06788991418067515\u001b[0m   \u001b[91m0.6387632939046671\u001b[0m   \u001b[92m0.9083575856067718\u001b[0m  \u001b[92m\u001b[92m0.9083575856067718\u001b[0m\u001b[0m     \u001b[92m\u001b[92m0.908358\u001b[0m\u001b[0m\n",
      "6                     \u001b[92m0.054478194134291794\u001b[0m  \u001b[91m0.6675483866411923\u001b[0m   \u001b[91m0.9047124004211448\u001b[0m  \u001b[91m\u001b[91m0.9047124004211448\u001b[0m\u001b[0m     \u001b[92m\u001b[91m0.904712\u001b[0m\u001b[0m\n",
      "Total Training Time                                                                                      6271.93\n",
      "Final Precision                                                                                             0.911494\n",
      "Total Time (minutes)                                                                                      104.532\n",
      "\n",
      "Fold 2\n"
     ]
    },
    {
     "data": {
      "application/vnd.jupyter.widget-view+json": {
       "model_id": "25bf9d491266429d986d142d7dbca55e",
       "version_major": 2,
       "version_minor": 0
      },
      "text/plain": [
       "  0%|          | 0/25 [00:00<?, ?it/s]"
      ]
     },
     "metadata": {},
     "output_type": "display_data"
    },
    {
     "data": {
      "application/vnd.jupyter.widget-view+json": {
       "model_id": "",
       "version_major": 2,
       "version_minor": 0
      },
      "text/plain": [
       "Epoch 1:   0%|          | 0/1798 [00:00<?, ?it/s]"
      ]
     },
     "metadata": {},
     "output_type": "display_data"
    },
    {
     "name": "stdout",
     "output_type": "stream",
     "text": [
      "\n",
      "Epoch 1\n",
      "Training loss: 0.09713092846692241\n",
      "Validation loss: 0.038050413491000655\n",
      "F1 Score (weighted): 0.9918192941888407\n"
     ]
    },
    {
     "data": {
      "application/vnd.jupyter.widget-view+json": {
       "model_id": "",
       "version_major": 2,
       "version_minor": 0
      },
      "text/plain": [
       "Epoch 2:   0%|          | 0/1798 [00:00<?, ?it/s]"
      ]
     },
     "metadata": {},
     "output_type": "display_data"
    },
    {
     "name": "stdout",
     "output_type": "stream",
     "text": [
      "\n",
      "Epoch 2\n",
      "Training loss: 0.06264587996735763\n",
      "Validation loss: 0.046544151443522426\n",
      "F1 Score (weighted): 0.9893448649838951\n",
      "\u001b[92m35.5% Training loss decreased compared to the previous epoch\u001b[0m\n",
      "\u001b[91m22.32% Validation loss increased compared to the previous epoch\u001b[0m\n",
      "\u001b[91m0.25% F1 Score decreased compared to the previous epoch\u001b[0m\n"
     ]
    },
    {
     "data": {
      "application/vnd.jupyter.widget-view+json": {
       "model_id": "",
       "version_major": 2,
       "version_minor": 0
      },
      "text/plain": [
       "Epoch 3:   0%|          | 0/1798 [00:00<?, ?it/s]"
      ]
     },
     "metadata": {},
     "output_type": "display_data"
    },
    {
     "name": "stdout",
     "output_type": "stream",
     "text": [
      "\n",
      "Epoch 3\n",
      "Training loss: 0.0405264111480357\n",
      "Validation loss: 0.03534129262790884\n",
      "F1 Score (weighted): 0.9931505411767088\n",
      "\u001b[92m35.31% Training loss decreased compared to the previous epoch\u001b[0m\n",
      "\u001b[92m24.07% Validation loss decreased compared to the previous epoch\u001b[0m\n",
      "\u001b[92m0.38% F1 Score increased compared to the previous epoch\u001b[0m\n"
     ]
    },
    {
     "data": {
      "application/vnd.jupyter.widget-view+json": {
       "model_id": "",
       "version_major": 2,
       "version_minor": 0
      },
      "text/plain": [
       "Epoch 4:   0%|          | 0/1798 [00:00<?, ?it/s]"
      ]
     },
     "metadata": {},
     "output_type": "display_data"
    },
    {
     "name": "stdout",
     "output_type": "stream",
     "text": [
      "\n",
      "Epoch 4\n",
      "Training loss: 0.030971910058327886\n",
      "Validation loss: 0.055897509326950964\n",
      "F1 Score (weighted): 0.9919119532607368\n",
      "\u001b[92m23.58% Training loss decreased compared to the previous epoch\u001b[0m\n",
      "\u001b[91m58.16% Validation loss increased compared to the previous epoch\u001b[0m\n",
      "\u001b[91m0.12% F1 Score decreased compared to the previous epoch\u001b[0m\n"
     ]
    },
    {
     "data": {
      "application/vnd.jupyter.widget-view+json": {
       "model_id": "",
       "version_major": 2,
       "version_minor": 0
      },
      "text/plain": [
       "Epoch 5:   0%|          | 0/1798 [00:00<?, ?it/s]"
      ]
     },
     "metadata": {},
     "output_type": "display_data"
    },
    {
     "name": "stdout",
     "output_type": "stream",
     "text": [
      "\n",
      "Epoch 5\n",
      "Training loss: 0.024639630702694496\n",
      "Validation loss: 0.06945428423285648\n",
      "F1 Score (weighted): 0.9880025898467785\n",
      "\u001b[92m20.45% Training loss decreased compared to the previous epoch\u001b[0m\n",
      "\u001b[91m24.25% Validation loss increased compared to the previous epoch\u001b[0m\n",
      "\u001b[91m0.39% F1 Score decreased compared to the previous epoch\u001b[0m\n"
     ]
    },
    {
     "data": {
      "application/vnd.jupyter.widget-view+json": {
       "model_id": "",
       "version_major": 2,
       "version_minor": 0
      },
      "text/plain": [
       "Epoch 6:   0%|          | 0/1798 [00:00<?, ?it/s]"
      ]
     },
     "metadata": {},
     "output_type": "display_data"
    },
    {
     "name": "stdout",
     "output_type": "stream",
     "text": [
      "\n",
      "Epoch 6\n",
      "Training loss: 0.017670430181267276\n",
      "Validation loss: 0.0924949705041945\n",
      "F1 Score (weighted): 0.9868977824039832\n",
      "\u001b[92m28.28% Training loss decreased compared to the previous epoch\u001b[0m\n",
      "\u001b[91m33.17% Validation loss increased compared to the previous epoch\u001b[0m\n",
      "\u001b[91m0.11% F1 Score decreased compared to the previous epoch\u001b[0m\n"
     ]
    },
    {
     "data": {
      "application/vnd.jupyter.widget-view+json": {
       "model_id": "",
       "version_major": 2,
       "version_minor": 0
      },
      "text/plain": [
       "Epoch 7:   0%|          | 0/1798 [00:00<?, ?it/s]"
      ]
     },
     "metadata": {},
     "output_type": "display_data"
    },
    {
     "name": "stdout",
     "output_type": "stream",
     "text": [
      "\n",
      "Epoch 7\n",
      "Training loss: 0.013591700337032208\n",
      "Validation loss: 0.048824872459670134\n",
      "F1 Score (weighted): 0.9925535898973353\n",
      "\u001b[92m23.08% Training loss decreased compared to the previous epoch\u001b[0m\n",
      "\u001b[92m47.21% Validation loss decreased compared to the previous epoch\u001b[0m\n",
      "\u001b[92m0.57% F1 Score increased compared to the previous epoch\u001b[0m\n"
     ]
    },
    {
     "data": {
      "application/vnd.jupyter.widget-view+json": {
       "model_id": "",
       "version_major": 2,
       "version_minor": 0
      },
      "text/plain": [
       "Epoch 8:   0%|          | 0/1798 [00:00<?, ?it/s]"
      ]
     },
     "metadata": {},
     "output_type": "display_data"
    },
    {
     "name": "stdout",
     "output_type": "stream",
     "text": [
      "\n",
      "Epoch 8\n",
      "Training loss: 0.008873839243111855\n",
      "Validation loss: 0.07928890734330253\n",
      "F1 Score (weighted): 0.9867957633654972\n",
      "\u001b[92m34.71% Training loss decreased compared to the previous epoch\u001b[0m\n",
      "\u001b[91m62.39% Validation loss increased compared to the previous epoch\u001b[0m\n",
      "\u001b[91m0.58% F1 Score decreased compared to the previous epoch\u001b[0m\n",
      "\n",
      "Early stopping triggered. Training stopped.\n",
      "\n",
      "Total training time: 139.43685499429702 minutes\n",
      "Final Accuracy: 0.9868585732165206\n",
      "Final Precision: 0.9867620675101578\n"
     ]
    },
    {
     "data": {
      "image/png": "[encoded data removed]",
      "text/plain": [
       "<Figure size 800x600 with 1 Axes>"
      ]
     },
     "metadata": {},
     "output_type": "display_data"
    },
    {
     "name": "stdout",
     "output_type": "stream",
     "text": [
      "Epoch                 Training Loss         Validation Loss       F1 Score            Accuracy              Precision\n",
      "--------------------  --------------------  --------------------  ------------------  ------------------  -----------\n",
      "1                     0.09713092846692241   0.038050413491000655  0.9918192941888407  0.9918648310387985     0.991811\n",
      "2                     \u001b[92m0.06264587996735763\u001b[0m   \u001b[91m0.046544151443522426\u001b[0m  \u001b[91m0.9893448649838951\u001b[0m  \u001b[91m\u001b[91m0.9893448649838951\u001b[0m\u001b[0m     \u001b[91m\u001b[91m0.989345\u001b[0m\u001b[0m\n",
      "3                     \u001b[92m0.0405264111480357\u001b[0m    \u001b[92m0.03534129262790884\u001b[0m   \u001b[92m0.9931505411767088\u001b[0m  \u001b[92m\u001b[92m0.9931505411767088\u001b[0m\u001b[0m     \u001b[92m\u001b[92m0.993151\u001b[0m\u001b[0m\n",
      "4                     \u001b[92m0.030971910058327886\u001b[0m  \u001b[91m0.055897509326950964\u001b[0m  \u001b[91m0.9919119532607368\u001b[0m  \u001b[91m\u001b[91m0.9919119532607368\u001b[0m\u001b[0m     \u001b[91m\u001b[91m0.991912\u001b[0m\u001b[0m\n",
      "5                     \u001b[92m0.024639630702694496\u001b[0m  \u001b[91m0.06945428423285648\u001b[0m   \u001b[91m0.9880025898467785\u001b[0m  \u001b[91m\u001b[91m0.9880025898467785\u001b[0m\u001b[0m     \u001b[91m\u001b[91m0.988003\u001b[0m\u001b[0m\n",
      "6                     \u001b[92m0.017670430181267276\u001b[0m  \u001b[91m0.0924949705041945\u001b[0m    \u001b[91m0.9868977824039832\u001b[0m  \u001b[91m\u001b[91m0.9868977824039832\u001b[0m\u001b[0m     \u001b[91m\u001b[91m0.986898\u001b[0m\u001b[0m\n",
      "7                     \u001b[92m0.013591700337032208\u001b[0m  \u001b[92m0.048824872459670134\u001b[0m  \u001b[92m0.9925535898973353\u001b[0m  \u001b[92m\u001b[92m0.9925535898973353\u001b[0m\u001b[0m     \u001b[92m\u001b[92m0.992554\u001b[0m\u001b[0m\n",
      "8                     \u001b[92m0.008873839243111855\u001b[0m  \u001b[91m0.07928890734330253\u001b[0m   \u001b[91m0.9867957633654972\u001b[0m  \u001b[91m\u001b[91m0.9867957633654972\u001b[0m\u001b[0m     \u001b[91m\u001b[91m0.986796\u001b[0m\u001b[0m\n",
      "Total Training Time                                                                                       8366.21\n",
      "Final Precision                                                                                              0.986762\n",
      "Total Time (minutes)                                                                                       139.437\n",
      "\n",
      "Fold 3\n"
     ]
    },
    {
     "data": {
      "application/vnd.jupyter.widget-view+json": {
       "model_id": "66ec338e8c0b4e84bbcd24c741bdd668",
       "version_major": 2,
       "version_minor": 0
      },
      "text/plain": [
       "  0%|          | 0/25 [00:00<?, ?it/s]"
      ]
     },
     "metadata": {},
     "output_type": "display_data"
    },
    {
     "data": {
      "application/vnd.jupyter.widget-view+json": {
       "model_id": "",
       "version_major": 2,
       "version_minor": 0
      },
      "text/plain": [
       "Epoch 1:   0%|          | 0/1798 [00:00<?, ?it/s]"
      ]
     },
     "metadata": {},
     "output_type": "display_data"
    },
    {
     "name": "stdout",
     "output_type": "stream",
     "text": [
      "\n",
      "Epoch 1\n",
      "Training loss: 0.01780692769176761\n",
      "Validation loss: 0.003740018135321179\n",
      "F1 Score (weighted): 0.9981253015247005\n"
     ]
    },
    {
     "data": {
      "application/vnd.jupyter.widget-view+json": {
       "model_id": "",
       "version_major": 2,
       "version_minor": 0
      },
      "text/plain": [
       "Epoch 2:   0%|          | 0/1798 [00:00<?, ?it/s]"
      ]
     },
     "metadata": {},
     "output_type": "display_data"
    },
    {
     "name": "stdout",
     "output_type": "stream",
     "text": [
      "\n",
      "Epoch 2\n",
      "Training loss: 0.010389798974454828\n",
      "Validation loss: 0.004541308180837405\n",
      "F1 Score (weighted): 0.9987514589527736\n",
      "\u001b[92m41.65% Training loss decreased compared to the previous epoch\u001b[0m\n",
      "\u001b[91m21.42% Validation loss increased compared to the previous epoch\u001b[0m\n",
      "\u001b[92m0.06% F1 Score increased compared to the previous epoch\u001b[0m\n"
     ]
    },
    {
     "data": {
      "application/vnd.jupyter.widget-view+json": {
       "model_id": "",
       "version_major": 2,
       "version_minor": 0
      },
      "text/plain": [
       "Epoch 3:   0%|          | 0/1798 [00:00<?, ?it/s]"
      ]
     },
     "metadata": {},
     "output_type": "display_data"
    },
    {
     "name": "stdout",
     "output_type": "stream",
     "text": [
      "\n",
      "Epoch 3\n",
      "Training loss: 0.0062885116266485205\n",
      "Validation loss: 0.001133344059924184\n",
      "F1 Score (weighted): 0.9993750090597125\n",
      "\u001b[92m39.47% Training loss decreased compared to the previous epoch\u001b[0m\n",
      "\u001b[92m75.04% Validation loss decreased compared to the previous epoch\u001b[0m\n",
      "\u001b[92m0.06% F1 Score increased compared to the previous epoch\u001b[0m\n"
     ]
    },
    {
     "data": {
      "application/vnd.jupyter.widget-view+json": {
       "model_id": "",
       "version_major": 2,
       "version_minor": 0
      },
      "text/plain": [
       "Epoch 4:   0%|          | 0/1798 [00:00<?, ?it/s]"
      ]
     },
     "metadata": {},
     "output_type": "display_data"
    },
    {
     "name": "stdout",
     "output_type": "stream",
     "text": [
      "\n",
      "Epoch 4\n",
      "Training loss: 0.006734098795977484\n",
      "Validation loss: 0.0033518531708148203\n",
      "F1 Score (weighted): 0.9987514589527736\n",
      "\u001b[91m7.09% Training loss increased compared to the previous epoch\u001b[0m\n",
      "\u001b[91m195.75% Validation loss increased compared to the previous epoch\u001b[0m\n",
      "\u001b[91m0.06% F1 Score decreased compared to the previous epoch\u001b[0m\n"
     ]
    },
    {
     "data": {
      "application/vnd.jupyter.widget-view+json": {
       "model_id": "",
       "version_major": 2,
       "version_minor": 0
      },
      "text/plain": [
       "Epoch 5:   0%|          | 0/1798 [00:00<?, ?it/s]"
      ]
     },
     "metadata": {},
     "output_type": "display_data"
    },
    {
     "name": "stdout",
     "output_type": "stream",
     "text": [
      "\n",
      "Epoch 5\n",
      "Training loss: 0.006050817895516161\n",
      "Validation loss: 0.002187065110177855\n",
      "F1 Score (weighted): 0.9993750090597125\n",
      "\u001b[92m10.15% Training loss decreased compared to the previous epoch\u001b[0m\n",
      "\u001b[92m34.75% Validation loss decreased compared to the previous epoch\u001b[0m\n",
      "\u001b[92m0.06% F1 Score increased compared to the previous epoch\u001b[0m\n"
     ]
    },
    {
     "data": {
      "application/vnd.jupyter.widget-view+json": {
       "model_id": "",
       "version_major": 2,
       "version_minor": 0
      },
      "text/plain": [
       "Epoch 6:   0%|          | 0/1798 [00:00<?, ?it/s]"
      ]
     },
     "metadata": {},
     "output_type": "display_data"
    },
    {
     "name": "stdout",
     "output_type": "stream",
     "text": [
      "\n",
      "Epoch 6\n",
      "Training loss: 0.005133015948998733\n",
      "Validation loss: 0.002762803964080831\n",
      "F1 Score (weighted): 0.9987514589527736\n",
      "\u001b[92m15.17% Training loss decreased compared to the previous epoch\u001b[0m\n",
      "\u001b[91m26.32% Validation loss increased compared to the previous epoch\u001b[0m\n",
      "\u001b[91m0.06% F1 Score decreased compared to the previous epoch\u001b[0m\n"
     ]
    },
    {
     "data": {
      "application/vnd.jupyter.widget-view+json": {
       "model_id": "",
       "version_major": 2,
       "version_minor": 0
      },
      "text/plain": [
       "Epoch 7:   0%|          | 0/1798 [00:00<?, ?it/s]"
      ]
     },
     "metadata": {},
     "output_type": "display_data"
    },
    {
     "name": "stdout",
     "output_type": "stream",
     "text": [
      "\n",
      "Epoch 7\n",
      "Training loss: 0.0032551435298579677\n",
      "Validation loss: 0.0024743289869650197\n",
      "F1 Score (weighted): 0.9987514589527736\n",
      "\u001b[92m36.58% Training loss decreased compared to the previous epoch\u001b[0m\n",
      "\u001b[92m10.44% Validation loss decreased compared to the previous epoch\u001b[0m\n"
     ]
    },
    {
     "data": {
      "application/vnd.jupyter.widget-view+json": {
       "model_id": "3b83bd7426544a16a8d21828f0a37e80",
       "version_major": 2,
       "version_minor": 0
      },
      "text/plain": [
       "Epoch 8:   0%|          | 0/1798 [00:00<?, ?it/s]"
      ]
     },
     "metadata": {},
     "output_type": "display_data"
    },
    {
     "name": "stdout",
     "output_type": "stream",
     "text": [
      "\n",
      "Epoch 8\n",
      "Training loss: 0.0019811878761333192\n",
      "Validation loss: 0.004152295600656544\n",
      "F1 Score (weighted): 0.9987514589527736\n",
      "\u001b[92m39.14% Training loss decreased compared to the previous epoch\u001b[0m\n",
      "\u001b[91m67.82% Validation loss increased compared to the previous epoch\u001b[0m\n",
      "\n",
      "Early stopping triggered. Training stopped.\n",
      "\n",
      "Total training time: 139.3564819097519 minutes\n",
      "Final Accuracy: 0.9987484355444305\n",
      "Final Precision: 0.9987631598321431\n"
     ]
    },
    {
     "data": {
      "image/png": "[encoded data removed]",
      "text/plain": [
       "<Figure size 800x600 with 1 Axes>"
      ]
     },
     "metadata": {},
     "output_type": "display_data"
    },
    {
     "name": "stdout",
     "output_type": "stream",
     "text": [
      "Epoch                 Training Loss          Validation Loss        F1 Score            Accuracy              Precision\n",
      "--------------------  ---------------------  ---------------------  ------------------  ------------------  -----------\n",
      "1                     0.01780692769176761    0.003740018135321179   0.9981253015247005  0.9981226533166458     0.99813\n",
      "2                     \u001b[92m0.010389798974454828\u001b[0m   \u001b[91m0.004541308180837405\u001b[0m   \u001b[92m0.9987514589527736\u001b[0m  \u001b[92m\u001b[92m0.9987514589527736\u001b[0m\u001b[0m     \u001b[92m\u001b[92m0.998751\u001b[0m\u001b[0m\n",
      "3                     \u001b[92m0.0062885116266485205\u001b[0m  \u001b[92m0.001133344059924184\u001b[0m   \u001b[92m0.9993750090597125\u001b[0m  \u001b[92m\u001b[92m0.9993750090597125\u001b[0m\u001b[0m     \u001b[92m\u001b[92m0.999375\u001b[0m\u001b[0m\n",
      "4                     \u001b[91m0.006734098795977484\u001b[0m   \u001b[91m0.0033518531708148203\u001b[0m  \u001b[91m0.9987514589527736\u001b[0m  \u001b[91m\u001b[91m0.9987514589527736\u001b[0m\u001b[0m     \u001b[91m\u001b[91m0.998751\u001b[0m\u001b[0m\n",
      "5                     \u001b[92m0.006050817895516161\u001b[0m   \u001b[92m0.002187065110177855\u001b[0m   \u001b[92m0.9993750090597125\u001b[0m  \u001b[92m\u001b[92m0.9993750090597125\u001b[0m\u001b[0m     \u001b[92m\u001b[92m0.999375\u001b[0m\u001b[0m\n",
      "6                     \u001b[92m0.005133015948998733\u001b[0m   \u001b[91m0.002762803964080831\u001b[0m   \u001b[91m0.9987514589527736\u001b[0m  \u001b[91m\u001b[91m0.9987514589527736\u001b[0m\u001b[0m     \u001b[91m\u001b[91m0.998751\u001b[0m\u001b[0m\n",
      "7                     \u001b[92m0.0032551435298579677\u001b[0m  \u001b[92m0.0024743289869650197\u001b[0m  0.9987514589527736  \u001b[91m0.9987514589527736\u001b[0m     \u001b[92m0.998751\u001b[0m\n",
      "8                     \u001b[92m0.0019811878761333192\u001b[0m  \u001b[91m0.004152295600656544\u001b[0m   0.9987514589527736  \u001b[91m0.9987514589527736\u001b[0m     \u001b[92m0.998751\u001b[0m\n",
      "Total Training Time                                                                                         8361.39\n",
      "Final Precision                                                                                                0.998763\n",
      "Total Time (minutes)                                                                                         139.356\n",
      "\n",
      "Fold 4\n"
     ]
    },
    {
     "data": {
      "application/vnd.jupyter.widget-view+json": {
       "model_id": "2bf15329e2284230a59c41652b5972be",
       "version_major": 2,
       "version_minor": 0
      },
      "text/plain": [
       "  0%|          | 0/25 [00:00<?, ?it/s]"
      ]
     },
     "metadata": {},
     "output_type": "display_data"
    },
    {
     "data": {
      "application/vnd.jupyter.widget-view+json": {
       "model_id": "6394ca1b4216458a86fb9433c350906b",
       "version_major": 2,
       "version_minor": 0
      },
      "text/plain": [
       "Epoch 1:   0%|          | 0/1798 [00:00<?, ?it/s]"
      ]
     },
     "metadata": {},
     "output_type": "display_data"
    },
    {
     "name": "stdout",
     "output_type": "stream",
     "text": [
      "\n",
      "Epoch 1\n",
      "Training loss: 0.002183270299227312\n",
      "Validation loss: 6.642902002340634e-06\n",
      "F1 Score (weighted): 1.0\n"
     ]
    },
    {
     "data": {
      "application/vnd.jupyter.widget-view+json": {
       "model_id": "f09d156a00344a708c5d131489da432c",
       "version_major": 2,
       "version_minor": 0
      },
      "text/plain": [
       "Epoch 2:   0%|          | 0/1798 [00:00<?, ?it/s]"
      ]
     },
     "metadata": {},
     "output_type": "display_data"
    },
    {
     "name": "stdout",
     "output_type": "stream",
     "text": [
      "\n",
      "Epoch 2\n",
      "Training loss: 0.0015698741305724263\n",
      "Validation loss: 6.2125437122517725e-06\n",
      "F1 Score (weighted): 1.0\n",
      "\u001b[92m28.1% Training loss decreased compared to the previous epoch\u001b[0m\n",
      "\u001b[92m6.48% Validation loss decreased compared to the previous epoch\u001b[0m\n"
     ]
    },
    {
     "data": {
      "application/vnd.jupyter.widget-view+json": {
       "model_id": "4fc7cdac25f04b2a8c9daa763f650473",
       "version_major": 2,
       "version_minor": 0
      },
      "text/plain": [
       "Epoch 3:   0%|          | 0/1798 [00:00<?, ?it/s]"
      ]
     },
     "metadata": {},
     "output_type": "display_data"
    },
    {
     "name": "stdout",
     "output_type": "stream",
     "text": [
      "\n",
      "Epoch 3\n",
      "Training loss: 0.0006648926793077187\n",
      "Validation loss: 7.024324897599854e-06\n",
      "F1 Score (weighted): 1.0\n",
      "\u001b[92m57.65% Training loss decreased compared to the previous epoch\u001b[0m\n",
      "\u001b[91m13.07% Validation loss increased compared to the previous epoch\u001b[0m\n"
     ]
    },
    {
     "data": {
      "application/vnd.jupyter.widget-view+json": {
       "model_id": "961e6063c8034f2b8b4710360dd338a6",
       "version_major": 2,
       "version_minor": 0
      },
      "text/plain": [
       "Epoch 4:   0%|          | 0/1798 [00:00<?, ?it/s]"
      ]
     },
     "metadata": {},
     "output_type": "display_data"
    },
    {
     "name": "stdout",
     "output_type": "stream",
     "text": [
      "\n",
      "Epoch 4\n",
      "Training loss: 0.0017082740622257767\n",
      "Validation loss: 6.3096218423197566e-06\n",
      "F1 Score (weighted): 1.0\n",
      "\u001b[91m156.92% Training loss increased compared to the previous epoch\u001b[0m\n",
      "\u001b[92m10.17% Validation loss decreased compared to the previous epoch\u001b[0m\n"
     ]
    },
    {
     "data": {
      "application/vnd.jupyter.widget-view+json": {
       "model_id": "474e3df0251144d6a95fb68f2dee3c8c",
       "version_major": 2,
       "version_minor": 0
      },
      "text/plain": [
       "Epoch 5:   0%|          | 0/1798 [00:00<?, ?it/s]"
      ]
     },
     "metadata": {},
     "output_type": "display_data"
    },
    {
     "name": "stdout",
     "output_type": "stream",
     "text": [
      "\n",
      "Epoch 5\n",
      "Training loss: 0.0014343714200637727\n",
      "Validation loss: 6.355954888022097e-06\n",
      "F1 Score (weighted): 1.0\n",
      "\u001b[92m16.03% Training loss decreased compared to the previous epoch\u001b[0m\n",
      "\u001b[91m0.73% Validation loss increased compared to the previous epoch\u001b[0m\n"
     ]
    },
    {
     "data": {
      "application/vnd.jupyter.widget-view+json": {
       "model_id": "e48db4b9e66141f1a389d4f30a613057",
       "version_major": 2,
       "version_minor": 0
      },
      "text/plain": [
       "Epoch 6:   0%|          | 0/1798 [00:00<?, ?it/s]"
      ]
     },
     "metadata": {},
     "output_type": "display_data"
    },
    {
     "name": "stdout",
     "output_type": "stream",
     "text": [
      "\n",
      "Epoch 6\n",
      "Training loss: 0.0004730742099816965\n",
      "Validation loss: 6.2536997342022e-06\n",
      "F1 Score (weighted): 1.0\n",
      "\u001b[92m67.02% Training loss decreased compared to the previous epoch\u001b[0m\n",
      "\u001b[92m1.61% Validation loss decreased compared to the previous epoch\u001b[0m\n"
     ]
    },
    {
     "data": {
      "application/vnd.jupyter.widget-view+json": {
       "model_id": "fbadc361777749ba831960ee4ad95ca2",
       "version_major": 2,
       "version_minor": 0
      },
      "text/plain": [
       "Epoch 7:   0%|          | 0/1798 [00:00<?, ?it/s]"
      ]
     },
     "metadata": {},
     "output_type": "display_data"
    },
    {
     "name": "stdout",
     "output_type": "stream",
     "text": [
      "\n",
      "Epoch 7\n",
      "Training loss: 0.0011443847216476312\n",
      "Validation loss: 6.2528802121164515e-06\n",
      "F1 Score (weighted): 1.0\n",
      "\u001b[91m141.9% Training loss increased compared to the previous epoch\u001b[0m\n",
      "\u001b[92m0.01% Validation loss decreased compared to the previous epoch\u001b[0m\n",
      "\n",
      "Early stopping triggered. Training stopped.\n",
      "\n",
      "Total training time: 121.89547904729844 minutes\n",
      "Final Accuracy: 1.0\n",
      "Final Precision: 1.0\n"
     ]
    },
    {
     "data": {
      "image/png": "[encoded data removed]",
      "text/plain": [
       "<Figure size 800x600 with 1 Axes>"
      ]
     },
     "metadata": {},
     "output_type": "display_data"
    },
    {
     "name": "stdout",
     "output_type": "stream",
     "text": [
      "Epoch                 Training Loss          Validation Loss         F1 Score    Accuracy      Precision\n",
      "--------------------  ---------------------  ----------------------  ----------  ----------  -----------\n",
      "1                     0.002183270299227312   6.642902002340634e-06   1.0         1.0               1\n",
      "2                     \u001b[92m0.0015698741305724263\u001b[0m  \u001b[92m6.2125437122517725e-06\u001b[0m  1.0         1.0               1\n",
      "3                     \u001b[92m0.0006648926793077187\u001b[0m  \u001b[91m7.024324897599854e-06\u001b[0m   1.0         1.0               1\n",
      "4                     \u001b[91m0.0017082740622257767\u001b[0m  \u001b[92m6.3096218423197566e-06\u001b[0m  1.0         1.0               1\n",
      "5                     \u001b[92m0.0014343714200637727\u001b[0m  \u001b[91m6.355954888022097e-06\u001b[0m   1.0         1.0               1\n",
      "6                     \u001b[92m0.0004730742099816965\u001b[0m  \u001b[92m6.2536997342022e-06\u001b[0m     1.0         1.0               1\n",
      "7                     \u001b[91m0.0011443847216476312\u001b[0m  \u001b[92m6.2528802121164515e-06\u001b[0m  1.0         1.0               1\n",
      "Total Training Time                                                                             7313.73\n",
      "Final Precision                                                                                    1\n",
      "Total Time (minutes)                                                                             121.895\n",
      "\n",
      "Fold 5\n"
     ]
    },
    {
     "data": {
      "application/vnd.jupyter.widget-view+json": {
       "model_id": "174c64d114a24f5ca3a56fc51a648b16",
       "version_major": 2,
       "version_minor": 0
      },
      "text/plain": [
       "  0%|          | 0/25 [00:00<?, ?it/s]"
      ]
     },
     "metadata": {},
     "output_type": "display_data"
    },
    {
     "data": {
      "application/vnd.jupyter.widget-view+json": {
       "model_id": "820931bea94c4f65a6d726e3f3401d7a",
       "version_major": 2,
       "version_minor": 0
      },
      "text/plain": [
       "Epoch 1:   0%|          | 0/1798 [00:00<?, ?it/s]"
      ]
     },
     "metadata": {},
     "output_type": "display_data"
    },
    {
     "name": "stdout",
     "output_type": "stream",
     "text": [
      "\n",
      "Epoch 1\n",
      "Training loss: 0.0008431763172832293\n",
      "Validation loss: 4.819678480629363e-05\n",
      "F1 Score (weighted): 1.0\n"
     ]
    },
    {
     "data": {
      "application/vnd.jupyter.widget-view+json": {
       "model_id": "6756d7c0380f4abbb6d456110f7a0c99",
       "version_major": 2,
       "version_minor": 0
      },
      "text/plain": [
       "Epoch 2:   0%|          | 0/1798 [00:00<?, ?it/s]"
      ]
     },
     "metadata": {},
     "output_type": "display_data"
    },
    {
     "name": "stdout",
     "output_type": "stream",
     "text": [
      "\n",
      "Epoch 2\n",
      "Training loss: 0.0005123901483627658\n",
      "Validation loss: 4.819864761003601e-05\n",
      "F1 Score (weighted): 1.0\n",
      "\u001b[92m39.23% Training loss decreased compared to the previous epoch\u001b[0m\n",
      "\u001b[91m0.0% Validation loss increased compared to the previous epoch\u001b[0m\n"
     ]
    },
    {
     "data": {
      "application/vnd.jupyter.widget-view+json": {
       "model_id": "84b8957b0ddb47d3894f845262b81904",
       "version_major": 2,
       "version_minor": 0
      },
      "text/plain": [
       "Epoch 3:   0%|          | 0/1798 [00:00<?, ?it/s]"
      ]
     },
     "metadata": {},
     "output_type": "display_data"
    },
    {
     "name": "stdout",
     "output_type": "stream",
     "text": [
      "\n",
      "Epoch 3\n",
      "Training loss: 0.00026684526748806055\n",
      "Validation loss: 4.8196635918031914e-05\n",
      "F1 Score (weighted): 1.0\n",
      "\u001b[92m47.92% Training loss decreased compared to the previous epoch\u001b[0m\n",
      "\u001b[92m0.0% Validation loss decreased compared to the previous epoch\u001b[0m\n"
     ]
    },
    {
     "data": {
      "application/vnd.jupyter.widget-view+json": {
       "model_id": "65c7f07432db46268d9105e2edaccc46",
       "version_major": 2,
       "version_minor": 0
      },
      "text/plain": [
       "Epoch 4:   0%|          | 0/1798 [00:00<?, ?it/s]"
      ]
     },
     "metadata": {},
     "output_type": "display_data"
    },
    {
     "name": "stdout",
     "output_type": "stream",
     "text": [
      "\n",
      "Epoch 4\n",
      "Training loss: 0.0016997575102619825\n",
      "Validation loss: 4.819526981975741e-05\n",
      "F1 Score (weighted): 1.0\n",
      "\u001b[91m536.98% Training loss increased compared to the previous epoch\u001b[0m\n",
      "\u001b[92m0.0% Validation loss decreased compared to the previous epoch\u001b[0m\n"
     ]
    },
    {
     "data": {
      "application/vnd.jupyter.widget-view+json": {
       "model_id": "35410462508a47339b2ff8f42e0c921a",
       "version_major": 2,
       "version_minor": 0
      },
      "text/plain": [
       "Epoch 5:   0%|          | 0/1798 [00:00<?, ?it/s]"
      ]
     },
     "metadata": {},
     "output_type": "display_data"
    },
    {
     "name": "stdout",
     "output_type": "stream",
     "text": [
      "\n",
      "Epoch 5\n",
      "Training loss: 0.0015547395630519673\n",
      "Validation loss: 4.819651173079364e-05\n",
      "F1 Score (weighted): 1.0\n",
      "\u001b[92m8.53% Training loss decreased compared to the previous epoch\u001b[0m\n",
      "\u001b[91m0.0% Validation loss increased compared to the previous epoch\u001b[0m\n"
     ]
    },
    {
     "data": {
      "application/vnd.jupyter.widget-view+json": {
       "model_id": "7aa24277d7694b29b328c074ffd163ef",
       "version_major": 2,
       "version_minor": 0
      },
      "text/plain": [
       "Epoch 6:   0%|          | 0/1798 [00:00<?, ?it/s]"
      ]
     },
     "metadata": {},
     "output_type": "display_data"
    },
    {
     "name": "stdout",
     "output_type": "stream",
     "text": [
      "\n",
      "Epoch 6\n",
      "Training loss: 0.0005010932326980804\n",
      "Validation loss: 4.819484766741766e-05\n",
      "F1 Score (weighted): 1.0\n",
      "\u001b[92m67.77% Training loss decreased compared to the previous epoch\u001b[0m\n",
      "\u001b[92m0.0% Validation loss decreased compared to the previous epoch\u001b[0m\n"
     ]
    },
    {
     "data": {
      "application/vnd.jupyter.widget-view+json": {
       "model_id": "37be86c6e19447fbb53fa9be3c4d0360",
       "version_major": 2,
       "version_minor": 0
      },
      "text/plain": [
       "Epoch 7:   0%|          | 0/1798 [00:00<?, ?it/s]"
      ]
     },
     "metadata": {},
     "output_type": "display_data"
    },
    {
     "name": "stdout",
     "output_type": "stream",
     "text": [
      "\n",
      "Epoch 7\n",
      "Training loss: 0.000874804493680906\n",
      "Validation loss: 4.820142897756341e-05\n",
      "F1 Score (weighted): 1.0\n",
      "\u001b[91m74.58% Training loss increased compared to the previous epoch\u001b[0m\n",
      "\u001b[91m0.01% Validation loss increased compared to the previous epoch\u001b[0m\n"
     ]
    },
    {
     "data": {
      "application/vnd.jupyter.widget-view+json": {
       "model_id": "5a37bcf88b0d483d83b3b8a645078083",
       "version_major": 2,
       "version_minor": 0
      },
      "text/plain": [
       "Epoch 8:   0%|          | 0/1798 [00:00<?, ?it/s]"
      ]
     },
     "metadata": {},
     "output_type": "display_data"
    },
    {
     "name": "stdout",
     "output_type": "stream",
     "text": [
      "\n",
      "Epoch 8\n",
      "Training loss: 0.002296317935835288\n",
      "Validation loss: 4.821622931899583e-05\n",
      "F1 Score (weighted): 1.0\n",
      "\u001b[91m162.49% Training loss increased compared to the previous epoch\u001b[0m\n",
      "\u001b[91m0.03% Validation loss increased compared to the previous epoch\u001b[0m\n"
     ]
    },
    {
     "data": {
      "application/vnd.jupyter.widget-view+json": {
       "model_id": "925d9584c62a42ca944dfb0a96bd130a",
       "version_major": 2,
       "version_minor": 0
      },
      "text/plain": [
       "Epoch 9:   0%|          | 0/1798 [00:00<?, ?it/s]"
      ]
     },
     "metadata": {},
     "output_type": "display_data"
    },
    {
     "name": "stdout",
     "output_type": "stream",
     "text": [
      "\n",
      "Epoch 9\n",
      "Training loss: 0.0005443402786692969\n",
      "Validation loss: 4.819643712451693e-05\n",
      "F1 Score (weighted): 1.0\n",
      "\u001b[92m76.3% Training loss decreased compared to the previous epoch\u001b[0m\n",
      "\u001b[92m0.04% Validation loss decreased compared to the previous epoch\u001b[0m\n"
     ]
    },
    {
     "data": {
      "application/vnd.jupyter.widget-view+json": {
       "model_id": "da9df0ce6d984803992f1f0d0d52240b",
       "version_major": 2,
       "version_minor": 0
      },
      "text/plain": [
       "Epoch 10:   0%|          | 0/1798 [00:00<?, ?it/s]"
      ]
     },
     "metadata": {},
     "output_type": "display_data"
    },
    {
     "name": "stdout",
     "output_type": "stream",
     "text": [
      "\n",
      "Epoch 10\n",
      "Training loss: 0.0002692874391439877\n",
      "Validation loss: 4.820674363031685e-05\n",
      "F1 Score (weighted): 1.0\n",
      "\u001b[92m50.53% Training loss decreased compared to the previous epoch\u001b[0m\n",
      "\u001b[91m0.02% Validation loss increased compared to the previous epoch\u001b[0m\n"
     ]
    },
    {
     "data": {
      "application/vnd.jupyter.widget-view+json": {
       "model_id": "eda8e822571d43b588e8232eff3b816e",
       "version_major": 2,
       "version_minor": 0
      },
      "text/plain": [
       "Epoch 11:   0%|          | 0/1798 [00:00<?, ?it/s]"
      ]
     },
     "metadata": {},
     "output_type": "display_data"
    },
    {
     "name": "stdout",
     "output_type": "stream",
     "text": [
      "\n",
      "Epoch 11\n",
      "Training loss: 0.0007244176067835033\n",
      "Validation loss: 4.8198946059585525e-05\n",
      "F1 Score (weighted): 1.0\n",
      "\u001b[91m169.01% Training loss increased compared to the previous epoch\u001b[0m\n",
      "\u001b[92m0.02% Validation loss decreased compared to the previous epoch\u001b[0m\n",
      "\n",
      "Early stopping triggered. Training stopped.\n",
      "\n",
      "Total training time: 191.78576175371805 minutes\n",
      "Final Accuracy: 1.0\n",
      "Final Precision: 1.0\n"
     ]
    },
    {
     "data": {
      "image/png": "[encoded data removed]",
      "text/plain": [
       "<Figure size 800x600 with 1 Axes>"
      ]
     },
     "metadata": {},
     "output_type": "display_data"
    },
    {
     "name": "stdout",
     "output_type": "stream",
     "text": [
      "Epoch                 Training Loss           Validation Loss         F1 Score    Accuracy      Precision\n",
      "--------------------  ----------------------  ----------------------  ----------  ----------  -----------\n",
      "1                     0.0008431763172832293   4.819678480629363e-05   1.0         1.0               1\n",
      "2                     \u001b[92m0.0005123901483627658\u001b[0m   \u001b[91m4.819864761003601e-05\u001b[0m   1.0         1.0               1\n",
      "3                     \u001b[92m0.00026684526748806055\u001b[0m  \u001b[92m4.8196635918031914e-05\u001b[0m  1.0         1.0               1\n",
      "4                     \u001b[91m0.0016997575102619825\u001b[0m   \u001b[92m4.819526981975741e-05\u001b[0m   1.0         1.0               1\n",
      "5                     \u001b[92m0.0015547395630519673\u001b[0m   \u001b[91m4.819651173079364e-05\u001b[0m   1.0         1.0               1\n",
      "6                     \u001b[92m0.0005010932326980804\u001b[0m   \u001b[92m4.819484766741766e-05\u001b[0m   1.0         1.0               1\n",
      "7                     \u001b[91m0.000874804493680906\u001b[0m    \u001b[91m4.820142897756341e-05\u001b[0m   1.0         1.0               1\n",
      "8                     \u001b[91m0.002296317935835288\u001b[0m    \u001b[91m4.821622931899583e-05\u001b[0m   1.0         1.0               1\n",
      "9                     \u001b[92m0.0005443402786692969\u001b[0m   \u001b[92m4.819643712451693e-05\u001b[0m   1.0         1.0               1\n",
      "10                    \u001b[92m0.0002692874391439877\u001b[0m   \u001b[91m4.820674363031685e-05\u001b[0m   1.0         1.0               1\n",
      "11                    \u001b[91m0.0007244176067835033\u001b[0m   \u001b[92m4.8198946059585525e-05\u001b[0m  1.0         1.0               1\n",
      "Total Training Time                                                                             11507.1\n",
      "Final Precision                                                                                     1\n",
      "Total Time (minutes)                                                                              191.786\n",
      "\n",
      "Fold 6\n"
     ]
    },
    {
     "data": {
      "application/vnd.jupyter.widget-view+json": {
       "model_id": "ebb0c69c9c6044ab9ab3a8f47ff9c630",
       "version_major": 2,
       "version_minor": 0
      },
      "text/plain": [
       "  0%|          | 0/25 [00:00<?, ?it/s]"
      ]
     },
     "metadata": {},
     "output_type": "display_data"
    },
    {
     "data": {
      "application/vnd.jupyter.widget-view+json": {
       "model_id": "73c9e66c191a40ebacfa1197ca7f1afd",
       "version_major": 2,
       "version_minor": 0
      },
      "text/plain": [
       "Epoch 1:   0%|          | 0/1798 [00:00<?, ?it/s]"
      ]
     },
     "metadata": {},
     "output_type": "display_data"
    },
    {
     "name": "stdout",
     "output_type": "stream",
     "text": [
      "\n",
      "Epoch 1\n",
      "Training loss: 0.00026443192905317166\n",
      "Validation loss: 0.0017689454416893113\n",
      "F1 Score (weighted): 0.9993729353562039\n"
     ]
    },
    {
     "data": {
      "application/vnd.jupyter.widget-view+json": {
       "model_id": "9f8f87e0bdbf440394087a9447c087c7",
       "version_major": 2,
       "version_minor": 0
      },
      "text/plain": [
       "Epoch 2:   0%|          | 0/1798 [00:00<?, ?it/s]"
      ]
     },
     "metadata": {},
     "output_type": "display_data"
    },
    {
     "name": "stdout",
     "output_type": "stream",
     "text": [
      "\n",
      "Epoch 2\n",
      "Training loss: 0.0007036695711492581\n",
      "Validation loss: 0.001768944503177181\n",
      "F1 Score (weighted): 0.9993729353562039\n",
      "\u001b[91m166.11% Training loss increased compared to the previous epoch\u001b[0m\n",
      "\u001b[92m0.0% Validation loss decreased compared to the previous epoch\u001b[0m\n"
     ]
    },
    {
     "data": {
      "application/vnd.jupyter.widget-view+json": {
       "model_id": "0c5873447bac4e628c2abed2152fc102",
       "version_major": 2,
       "version_minor": 0
      },
      "text/plain": [
       "Epoch 3:   0%|          | 0/1798 [00:00<?, ?it/s]"
      ]
     },
     "metadata": {},
     "output_type": "display_data"
    },
    {
     "name": "stdout",
     "output_type": "stream",
     "text": [
      "\n",
      "Epoch 3\n",
      "Training loss: 3.508981749365053e-05\n",
      "Validation loss: 0.0017689533093741261\n",
      "F1 Score (weighted): 0.9993729353562039\n",
      "\u001b[92m95.01% Training loss decreased compared to the previous epoch\u001b[0m\n",
      "\u001b[91m0.0% Validation loss increased compared to the previous epoch\u001b[0m\n"
     ]
    },
    {
     "data": {
      "application/vnd.jupyter.widget-view+json": {
       "model_id": "0f138f956c564b6da142228b632ab0c0",
       "version_major": 2,
       "version_minor": 0
      },
      "text/plain": [
       "Epoch 4:   0%|          | 0/1798 [00:00<?, ?it/s]"
      ]
     },
     "metadata": {},
     "output_type": "display_data"
    },
    {
     "name": "stdout",
     "output_type": "stream",
     "text": [
      "\n",
      "Epoch 4\n",
      "Training loss: 2.962692913107241e-05\n",
      "Validation loss: 0.0017689530856492297\n",
      "F1 Score (weighted): 0.9993729353562039\n",
      "\u001b[92m15.57% Training loss decreased compared to the previous epoch\u001b[0m\n",
      "\u001b[92m0.0% Validation loss decreased compared to the previous epoch\u001b[0m\n"
     ]
    },
    {
     "data": {
      "application/vnd.jupyter.widget-view+json": {
       "model_id": "f79261c6568541e7a99e9ecbe1b2b59f",
       "version_major": 2,
       "version_minor": 0
      },
      "text/plain": [
       "Epoch 5:   0%|          | 0/1798 [00:00<?, ?it/s]"
      ]
     },
     "metadata": {},
     "output_type": "display_data"
    },
    {
     "name": "stdout",
     "output_type": "stream",
     "text": [
      "\n",
      "Epoch 5\n",
      "Training loss: 0.0005086499270845953\n",
      "Validation loss: 0.0017689536076889566\n",
      "F1 Score (weighted): 0.9993729353562039\n",
      "\u001b[91m1616.85% Training loss increased compared to the previous epoch\u001b[0m\n",
      "\u001b[91m0.0% Validation loss increased compared to the previous epoch\u001b[0m\n"
     ]
    },
    {
     "data": {
      "application/vnd.jupyter.widget-view+json": {
       "model_id": "db57ce8d7c5e4c4887a32fc0b20bd69f",
       "version_major": 2,
       "version_minor": 0
      },
      "text/plain": [
       "Epoch 6:   0%|          | 0/1798 [00:00<?, ?it/s]"
      ]
     },
     "metadata": {},
     "output_type": "display_data"
    },
    {
     "name": "stdout",
     "output_type": "stream",
     "text": [
      "\n",
      "Epoch 6\n",
      "Training loss: 0.0006529001489289426\n",
      "Validation loss: 0.0017689429084404651\n",
      "F1 Score (weighted): 0.9993729353562039\n",
      "\u001b[91m28.36% Training loss increased compared to the previous epoch\u001b[0m\n",
      "\u001b[92m0.0% Validation loss decreased compared to the previous epoch\u001b[0m\n"
     ]
    },
    {
     "data": {
      "application/vnd.jupyter.widget-view+json": {
       "model_id": "e7a9d1c9bc4449b3aea3ffcdd8a38498",
       "version_major": 2,
       "version_minor": 0
      },
      "text/plain": [
       "Epoch 7:   0%|          | 0/1798 [00:00<?, ?it/s]"
      ]
     },
     "metadata": {},
     "output_type": "display_data"
    },
    {
     "name": "stdout",
     "output_type": "stream",
     "text": [
      "\n",
      "Epoch 7\n",
      "Training loss: 0.0004921538663194124\n",
      "Validation loss: 0.0017689432513353154\n",
      "F1 Score (weighted): 0.9993729353562039\n",
      "\u001b[92m24.62% Training loss decreased compared to the previous epoch\u001b[0m\n",
      "\u001b[91m0.0% Validation loss increased compared to the previous epoch\u001b[0m\n"
     ]
    },
    {
     "data": {
      "application/vnd.jupyter.widget-view+json": {
       "model_id": "ce045cf519534b0693c9f1759b8c6653",
       "version_major": 2,
       "version_minor": 0
      },
      "text/plain": [
       "Epoch 8:   0%|          | 0/1798 [00:00<?, ?it/s]"
      ]
     },
     "metadata": {},
     "output_type": "display_data"
    },
    {
     "name": "stdout",
     "output_type": "stream",
     "text": [
      "\n",
      "Epoch 8\n",
      "Training loss: 0.0007722567358589259\n",
      "Validation loss: 0.001768940062511888\n",
      "F1 Score (weighted): 0.9993729353562039\n",
      "\u001b[91m56.91% Training loss increased compared to the previous epoch\u001b[0m\n",
      "\u001b[92m0.0% Validation loss decreased compared to the previous epoch\u001b[0m\n"
     ]
    },
    {
     "data": {
      "application/vnd.jupyter.widget-view+json": {
       "model_id": "5b73b2aa9e7a4d7db7c58b23e07a8593",
       "version_major": 2,
       "version_minor": 0
      },
      "text/plain": [
       "Epoch 9:   0%|          | 0/1798 [00:00<?, ?it/s]"
      ]
     },
     "metadata": {},
     "output_type": "display_data"
    },
    {
     "name": "stdout",
     "output_type": "stream",
     "text": [
      "\n",
      "Epoch 9\n",
      "Training loss: 0.000555990981378451\n",
      "Validation loss: 0.0017689427151370296\n",
      "F1 Score (weighted): 0.9993729353562039\n",
      "\u001b[92m28.0% Training loss decreased compared to the previous epoch\u001b[0m\n",
      "\u001b[91m0.0% Validation loss increased compared to the previous epoch\u001b[0m\n"
     ]
    },
    {
     "data": {
      "application/vnd.jupyter.widget-view+json": {
       "model_id": "e0997de268ca415cbb946b39e4760147",
       "version_major": 2,
       "version_minor": 0
      },
      "text/plain": [
       "Epoch 10:   0%|          | 0/1798 [00:00<?, ?it/s]"
      ]
     },
     "metadata": {},
     "output_type": "display_data"
    },
    {
     "name": "stdout",
     "output_type": "stream",
     "text": [
      "\n",
      "Epoch 10\n",
      "Training loss: 0.0011162485553127272\n",
      "Validation loss: 0.001768953340772157\n",
      "F1 Score (weighted): 0.9993729353562039\n",
      "\u001b[91m100.77% Training loss increased compared to the previous epoch\u001b[0m\n",
      "\u001b[91m0.0% Validation loss increased compared to the previous epoch\u001b[0m\n"
     ]
    },
    {
     "data": {
      "application/vnd.jupyter.widget-view+json": {
       "model_id": "aa14a365028147878a5bf1be9ad86a44",
       "version_major": 2,
       "version_minor": 0
      },
      "text/plain": [
       "Epoch 11:   0%|          | 0/1798 [00:00<?, ?it/s]"
      ]
     },
     "metadata": {},
     "output_type": "display_data"
    },
    {
     "name": "stdout",
     "output_type": "stream",
     "text": [
      "\n",
      "Epoch 11\n",
      "Training loss: 0.0001599893051284537\n",
      "Validation loss: 0.0017689412394145164\n",
      "F1 Score (weighted): 0.9993729353562039\n",
      "\u001b[92m85.67% Training loss decreased compared to the previous epoch\u001b[0m\n",
      "\u001b[92m0.0% Validation loss decreased compared to the previous epoch\u001b[0m\n"
     ]
    },
    {
     "data": {
      "application/vnd.jupyter.widget-view+json": {
       "model_id": "345cb74adc0141979f53250df12377ed",
       "version_major": 2,
       "version_minor": 0
      },
      "text/plain": [
       "Epoch 12:   0%|          | 0/1798 [00:00<?, ?it/s]"
      ]
     },
     "metadata": {},
     "output_type": "display_data"
    },
    {
     "name": "stdout",
     "output_type": "stream",
     "text": [
      "\n",
      "Epoch 12\n",
      "Training loss: 0.00038652395971122894\n",
      "Validation loss: 0.0017689425658184632\n",
      "F1 Score (weighted): 0.9993729353562039\n",
      "\u001b[91m141.59% Training loss increased compared to the previous epoch\u001b[0m\n",
      "\u001b[91m0.0% Validation loss increased compared to the previous epoch\u001b[0m\n"
     ]
    },
    {
     "data": {
      "application/vnd.jupyter.widget-view+json": {
       "model_id": "0a5ef42a9f314c348d2ea0e170187a85",
       "version_major": 2,
       "version_minor": 0
      },
      "text/plain": [
       "Epoch 13:   0%|          | 0/1798 [00:00<?, ?it/s]"
      ]
     },
     "metadata": {},
     "output_type": "display_data"
    },
    {
     "name": "stdout",
     "output_type": "stream",
     "text": [
      "\n",
      "Epoch 13\n",
      "Training loss: 0.0006429461672089147\n",
      "Validation loss: 0.0017689388254501636\n",
      "F1 Score (weighted): 0.9993729353562039\n",
      "\u001b[91m66.34% Training loss increased compared to the previous epoch\u001b[0m\n",
      "\u001b[92m0.0% Validation loss decreased compared to the previous epoch\u001b[0m\n"
     ]
    },
    {
     "data": {
      "application/vnd.jupyter.widget-view+json": {
       "model_id": "c4a0d96743f94a5eb7e50a974d4bda09",
       "version_major": 2,
       "version_minor": 0
      },
      "text/plain": [
       "Epoch 14:   0%|          | 0/1798 [00:00<?, ?it/s]"
      ]
     },
     "metadata": {},
     "output_type": "display_data"
    },
    {
     "name": "stdout",
     "output_type": "stream",
     "text": [
      "\n",
      "Epoch 14\n",
      "Training loss: 0.0009254230366091125\n",
      "Validation loss: 0.0017689380957978075\n",
      "F1 Score (weighted): 0.9993729353562039\n",
      "\u001b[91m43.93% Training loss increased compared to the previous epoch\u001b[0m\n",
      "\u001b[92m0.0% Validation loss decreased compared to the previous epoch\u001b[0m\n"
     ]
    },
    {
     "data": {
      "application/vnd.jupyter.widget-view+json": {
       "model_id": "c9ffbeabda3d490eac3b03e986264bef",
       "version_major": 2,
       "version_minor": 0
      },
      "text/plain": [
       "Epoch 15:   0%|          | 0/1798 [00:00<?, ?it/s]"
      ]
     },
     "metadata": {},
     "output_type": "display_data"
    },
    {
     "name": "stdout",
     "output_type": "stream",
     "text": [
      "\n",
      "Epoch 15\n",
      "Training loss: 0.0009393546462692595\n",
      "Validation loss: 0.0017689461865984413\n",
      "F1 Score (weighted): 0.9993729353562039\n",
      "\u001b[91m1.51% Training loss increased compared to the previous epoch\u001b[0m\n",
      "\u001b[91m0.0% Validation loss increased compared to the previous epoch\u001b[0m\n"
     ]
    },
    {
     "data": {
      "application/vnd.jupyter.widget-view+json": {
       "model_id": "6bff892f8ed34d5cb5c7e1ccf73db08b",
       "version_major": 2,
       "version_minor": 0
      },
      "text/plain": [
       "Epoch 16:   0%|          | 0/1798 [00:00<?, ?it/s]"
      ]
     },
     "metadata": {},
     "output_type": "display_data"
    },
    {
     "name": "stdout",
     "output_type": "stream",
     "text": [
      "\n",
      "Epoch 16\n",
      "Training loss: 8.271905576029823e-05\n",
      "Validation loss: 0.0017689476471409193\n",
      "F1 Score (weighted): 0.9993729353562039\n",
      "\u001b[92m91.19% Training loss decreased compared to the previous epoch\u001b[0m\n",
      "\u001b[91m0.0% Validation loss increased compared to the previous epoch\u001b[0m\n"
     ]
    },
    {
     "data": {
      "application/vnd.jupyter.widget-view+json": {
       "model_id": "c55f0b4ce8cf451fb53ae340cadc273b",
       "version_major": 2,
       "version_minor": 0
      },
      "text/plain": [
       "Epoch 17:   0%|          | 0/1798 [00:00<?, ?it/s]"
      ]
     },
     "metadata": {},
     "output_type": "display_data"
    },
    {
     "name": "stdout",
     "output_type": "stream",
     "text": [
      "\n",
      "Epoch 17\n",
      "Training loss: 0.0008599362565599235\n",
      "Validation loss: 0.0017689396750728292\n",
      "F1 Score (weighted): 0.9993729353562039\n",
      "\u001b[91m939.59% Training loss increased compared to the previous epoch\u001b[0m\n",
      "\u001b[92m0.0% Validation loss decreased compared to the previous epoch\u001b[0m\n"
     ]
    },
    {
     "data": {
      "application/vnd.jupyter.widget-view+json": {
       "model_id": "2260788bc99b4b8c8e305157ed217c60",
       "version_major": 2,
       "version_minor": 0
      },
      "text/plain": [
       "Epoch 18:   0%|          | 0/1798 [00:00<?, ?it/s]"
      ]
     },
     "metadata": {},
     "output_type": "display_data"
    },
    {
     "name": "stdout",
     "output_type": "stream",
     "text": [
      "\n",
      "Epoch 18\n",
      "Training loss: 0.0001302374256951108\n",
      "Validation loss: 0.0017689406582775292\n",
      "F1 Score (weighted): 0.9993729353562039\n",
      "\u001b[92m84.85% Training loss decreased compared to the previous epoch\u001b[0m\n",
      "\u001b[91m0.0% Validation loss increased compared to the previous epoch\u001b[0m\n"
     ]
    },
    {
     "data": {
      "application/vnd.jupyter.widget-view+json": {
       "model_id": "448b2c9cca9d4044a0bdc68fe17d67ce",
       "version_major": 2,
       "version_minor": 0
      },
      "text/plain": [
       "Epoch 19:   0%|          | 0/1798 [00:00<?, ?it/s]"
      ]
     },
     "metadata": {},
     "output_type": "display_data"
    },
    {
     "name": "stdout",
     "output_type": "stream",
     "text": [
      "\n",
      "Epoch 19\n",
      "Training loss: 0.0012582419226874575\n",
      "Validation loss: 0.0017689466037924717\n",
      "F1 Score (weighted): 0.9993729353562039\n",
      "\u001b[91m866.11% Training loss increased compared to the previous epoch\u001b[0m\n",
      "\u001b[91m0.0% Validation loss increased compared to the previous epoch\u001b[0m\n",
      "\n",
      "Early stopping triggered. Training stopped.\n",
      "\n",
      "Total training time: 331.45798532565436 minutes\n",
      "Final Accuracy: 0.9993738259236068\n",
      "Final Precision: 0.9993743694774925\n"
     ]
    },
    {
     "data": {
      "image/png": "[encoded data removed]",
      "text/plain": [
       "<Figure size 800x600 with 1 Axes>"
      ]
     },
     "metadata": {},
     "output_type": "display_data"
    },
    {
     "name": "stdout",
     "output_type": "stream",
     "text": [
      "Epoch                 Training Loss           Validation Loss        F1 Score            Accuracy               Precision\n",
      "--------------------  ----------------------  ---------------------  ------------------  ------------------  ------------\n",
      "1                     0.00026443192905317166  0.0017689454416893113  0.9993729353562039  0.9993738259236068      0.999374\n",
      "2                     \u001b[91m0.0007036695711492581\u001b[0m   \u001b[92m0.001768944503177181\u001b[0m   0.9993729353562039  \u001b[92m0.9993729353562039\u001b[0m      \u001b[92m0.999373\u001b[0m\n",
      "3                     \u001b[92m3.508981749365053e-05\u001b[0m   \u001b[91m0.0017689533093741261\u001b[0m  0.9993729353562039  \u001b[92m0.9993729353562039\u001b[0m      \u001b[92m0.999373\u001b[0m\n",
      "4                     \u001b[92m2.962692913107241e-05\u001b[0m   \u001b[92m0.0017689530856492297\u001b[0m  0.9993729353562039  \u001b[92m0.9993729353562039\u001b[0m      \u001b[92m0.999373\u001b[0m\n",
      "5                     \u001b[91m0.0005086499270845953\u001b[0m   \u001b[91m0.0017689536076889566\u001b[0m  0.9993729353562039  \u001b[92m0.9993729353562039\u001b[0m      \u001b[92m0.999373\u001b[0m\n",
      "6                     \u001b[91m0.0006529001489289426\u001b[0m   \u001b[92m0.0017689429084404651\u001b[0m  0.9993729353562039  \u001b[92m0.9993729353562039\u001b[0m      \u001b[92m0.999373\u001b[0m\n",
      "7                     \u001b[92m0.0004921538663194124\u001b[0m   \u001b[91m0.0017689432513353154\u001b[0m  0.9993729353562039  \u001b[92m0.9993729353562039\u001b[0m      \u001b[92m0.999373\u001b[0m\n",
      "8                     \u001b[91m0.0007722567358589259\u001b[0m   \u001b[92m0.001768940062511888\u001b[0m   0.9993729353562039  \u001b[92m0.9993729353562039\u001b[0m      \u001b[92m0.999373\u001b[0m\n",
      "9                     \u001b[92m0.000555990981378451\u001b[0m    \u001b[91m0.0017689427151370296\u001b[0m  0.9993729353562039  \u001b[92m0.9993729353562039\u001b[0m      \u001b[92m0.999373\u001b[0m\n",
      "10                    \u001b[91m0.0011162485553127272\u001b[0m   \u001b[91m0.001768953340772157\u001b[0m   0.9993729353562039  \u001b[92m0.9993729353562039\u001b[0m      \u001b[92m0.999373\u001b[0m\n",
      "11                    \u001b[92m0.0001599893051284537\u001b[0m   \u001b[92m0.0017689412394145164\u001b[0m  0.9993729353562039  \u001b[92m0.9993729353562039\u001b[0m      \u001b[92m0.999373\u001b[0m\n",
      "12                    \u001b[91m0.00038652395971122894\u001b[0m  \u001b[91m0.0017689425658184632\u001b[0m  0.9993729353562039  \u001b[92m0.9993729353562039\u001b[0m      \u001b[92m0.999373\u001b[0m\n",
      "13                    \u001b[91m0.0006429461672089147\u001b[0m   \u001b[92m0.0017689388254501636\u001b[0m  0.9993729353562039  \u001b[92m0.9993729353562039\u001b[0m      \u001b[92m0.999373\u001b[0m\n",
      "14                    \u001b[91m0.0009254230366091125\u001b[0m   \u001b[92m0.0017689380957978075\u001b[0m  0.9993729353562039  \u001b[92m0.9993729353562039\u001b[0m      \u001b[92m0.999373\u001b[0m\n",
      "15                    \u001b[91m0.0009393546462692595\u001b[0m   \u001b[91m0.0017689461865984413\u001b[0m  0.9993729353562039  \u001b[92m0.9993729353562039\u001b[0m      \u001b[92m0.999373\u001b[0m\n",
      "16                    \u001b[92m8.271905576029823e-05\u001b[0m   \u001b[91m0.0017689476471409193\u001b[0m  0.9993729353562039  \u001b[92m0.9993729353562039\u001b[0m      \u001b[92m0.999373\u001b[0m\n",
      "17                    \u001b[91m0.0008599362565599235\u001b[0m   \u001b[92m0.0017689396750728292\u001b[0m  0.9993729353562039  \u001b[92m0.9993729353562039\u001b[0m      \u001b[92m0.999373\u001b[0m\n",
      "18                    \u001b[92m0.0001302374256951108\u001b[0m   \u001b[91m0.0017689406582775292\u001b[0m  0.9993729353562039  \u001b[92m0.9993729353562039\u001b[0m      \u001b[92m0.999373\u001b[0m\n",
      "19                    \u001b[91m0.0012582419226874575\u001b[0m   \u001b[91m0.0017689466037924717\u001b[0m  0.9993729353562039  \u001b[92m0.9993729353562039\u001b[0m      \u001b[92m0.999373\u001b[0m\n",
      "Total Training Time                                                                                          19887.5\n",
      "Final Precision                                                                                                  0.999374\n",
      "Total Time (minutes)                                                                                           331.458\n",
      "\n",
      "Fold 7\n"
     ]
    },
    {
     "data": {
      "application/vnd.jupyter.widget-view+json": {
       "model_id": "58e88f501b92476d952b23a085ef2567",
       "version_major": 2,
       "version_minor": 0
      },
      "text/plain": [
       "  0%|          | 0/25 [00:00<?, ?it/s]"
      ]
     },
     "metadata": {},
     "output_type": "display_data"
    },
    {
     "data": {
      "application/vnd.jupyter.widget-view+json": {
       "model_id": "c2012d69dcba436eba7cd744f25d356a",
       "version_major": 2,
       "version_minor": 0
      },
      "text/plain": [
       "Epoch 1:   0%|          | 0/1798 [00:00<?, ?it/s]"
      ]
     },
     "metadata": {},
     "output_type": "display_data"
    },
    {
     "name": "stdout",
     "output_type": "stream",
     "text": [
      "\n",
      "Epoch 1\n",
      "Training loss: 0.0005095982022419789\n",
      "Validation loss: 5.258999476325243e-06\n",
      "F1 Score (weighted): 1.0\n"
     ]
    },
    {
     "data": {
      "application/vnd.jupyter.widget-view+json": {
       "model_id": "0d46d4381df64afba0d10d7c291d7e03",
       "version_major": 2,
       "version_minor": 0
      },
      "text/plain": [
       "Epoch 2:   0%|          | 0/1798 [00:00<?, ?it/s]"
      ]
     },
     "metadata": {},
     "output_type": "display_data"
    },
    {
     "name": "stdout",
     "output_type": "stream",
     "text": [
      "\n",
      "Epoch 2\n",
      "Training loss: 0.0005630220857447775\n",
      "Validation loss: 5.253545690493411e-06\n",
      "F1 Score (weighted): 1.0\n",
      "\u001b[91m10.48% Training loss increased compared to the previous epoch\u001b[0m\n",
      "\u001b[92m0.1% Validation loss decreased compared to the previous epoch\u001b[0m\n"
     ]
    },
    {
     "data": {
      "application/vnd.jupyter.widget-view+json": {
       "model_id": "5b6ac794d30342ac92c0fb8be62ecbb7",
       "version_major": 2,
       "version_minor": 0
      },
      "text/plain": [
       "Epoch 3:   0%|          | 0/1798 [00:00<?, ?it/s]"
      ]
     },
     "metadata": {},
     "output_type": "display_data"
    },
    {
     "name": "stdout",
     "output_type": "stream",
     "text": [
      "\n",
      "Epoch 3\n",
      "Training loss: 0.0007094649387911813\n",
      "Validation loss: 5.2516234239874394e-06\n",
      "F1 Score (weighted): 1.0\n",
      "\u001b[91m26.01% Training loss increased compared to the previous epoch\u001b[0m\n",
      "\u001b[92m0.04% Validation loss decreased compared to the previous epoch\u001b[0m\n"
     ]
    },
    {
     "data": {
      "application/vnd.jupyter.widget-view+json": {
       "model_id": "63a4922983ad442fa1d1e6d9528e6797",
       "version_major": 2,
       "version_minor": 0
      },
      "text/plain": [
       "Epoch 4:   0%|          | 0/1798 [00:00<?, ?it/s]"
      ]
     },
     "metadata": {},
     "output_type": "display_data"
    },
    {
     "name": "stdout",
     "output_type": "stream",
     "text": [
      "\n",
      "Epoch 4\n",
      "Training loss: 0.000920469064909767\n",
      "Validation loss: 5.2542162492841275e-06\n",
      "F1 Score (weighted): 1.0\n",
      "\u001b[91m29.74% Training loss increased compared to the previous epoch\u001b[0m\n",
      "\u001b[91m0.05% Validation loss increased compared to the previous epoch\u001b[0m\n"
     ]
    },
    {
     "data": {
      "application/vnd.jupyter.widget-view+json": {
       "model_id": "359d16801cd24efd9ccc143e75a24457",
       "version_major": 2,
       "version_minor": 0
      },
      "text/plain": [
       "Epoch 5:   0%|          | 0/1798 [00:00<?, ?it/s]"
      ]
     },
     "metadata": {},
     "output_type": "display_data"
    },
    {
     "name": "stdout",
     "output_type": "stream",
     "text": [
      "\n",
      "Epoch 5\n",
      "Training loss: 0.0007842910991688135\n",
      "Validation loss: 5.273661788294248e-06\n",
      "F1 Score (weighted): 1.0\n",
      "\u001b[92m14.79% Training loss decreased compared to the previous epoch\u001b[0m\n",
      "\u001b[91m0.37% Validation loss increased compared to the previous epoch\u001b[0m\n"
     ]
    },
    {
     "data": {
      "application/vnd.jupyter.widget-view+json": {
       "model_id": "ad97e723506745e986859a485f04d637",
       "version_major": 2,
       "version_minor": 0
      },
      "text/plain": [
       "Epoch 6:   0%|          | 0/1798 [00:00<?, ?it/s]"
      ]
     },
     "metadata": {},
     "output_type": "display_data"
    },
    {
     "name": "stdout",
     "output_type": "stream",
     "text": [
      "\n",
      "Epoch 6\n",
      "Training loss: 0.0005659432171325719\n",
      "Validation loss: 5.292927981486173e-06\n",
      "F1 Score (weighted): 1.0\n",
      "\u001b[92m27.84% Training loss decreased compared to the previous epoch\u001b[0m\n",
      "\u001b[91m0.37% Validation loss increased compared to the previous epoch\u001b[0m\n"
     ]
    },
    {
     "data": {
      "application/vnd.jupyter.widget-view+json": {
       "model_id": "22477d9dab414433a02a5ddd15457c0a",
       "version_major": 2,
       "version_minor": 0
      },
      "text/plain": [
       "Epoch 7:   0%|          | 0/1798 [00:00<?, ?it/s]"
      ]
     },
     "metadata": {},
     "output_type": "display_data"
    },
    {
     "name": "stdout",
     "output_type": "stream",
     "text": [
      "\n",
      "Epoch 7\n",
      "Training loss: 0.0005007012977517086\n",
      "Validation loss: 5.264453220377163e-06\n",
      "F1 Score (weighted): 1.0\n",
      "\u001b[92m11.53% Training loss decreased compared to the previous epoch\u001b[0m\n",
      "\u001b[92m0.54% Validation loss decreased compared to the previous epoch\u001b[0m\n"
     ]
    },
    {
     "data": {
      "application/vnd.jupyter.widget-view+json": {
       "model_id": "98b3e798420b44ef9a5147c024160b0d",
       "version_major": 2,
       "version_minor": 0
      },
      "text/plain": [
       "Epoch 8:   0%|          | 0/1798 [00:00<?, ?it/s]"
      ]
     },
     "metadata": {},
     "output_type": "display_data"
    },
    {
     "name": "stdout",
     "output_type": "stream",
     "text": [
      "\n",
      "Epoch 8\n",
      "Training loss: 0.00022266523307620724\n",
      "Validation loss: 5.251981070841793e-06\n",
      "F1 Score (weighted): 1.0\n",
      "\u001b[92m55.53% Training loss decreased compared to the previous epoch\u001b[0m\n",
      "\u001b[92m0.24% Validation loss decreased compared to the previous epoch\u001b[0m\n",
      "\n",
      "Early stopping triggered. Training stopped.\n",
      "\n",
      "Total training time: 139.533837334315 minutes\n",
      "Final Accuracy: 1.0\n",
      "Final Precision: 1.0\n"
     ]
    },
    {
     "data": {
      "image/png": "[encoded data removed]",
      "text/plain": [
       "<Figure size 800x600 with 1 Axes>"
      ]
     },
     "metadata": {},
     "output_type": "display_data"
    },
    {
     "name": "stdout",
     "output_type": "stream",
     "text": [
      "Epoch                 Training Loss           Validation Loss         F1 Score    Accuracy      Precision\n",
      "--------------------  ----------------------  ----------------------  ----------  ----------  -----------\n",
      "1                     0.0005095982022419789   5.258999476325243e-06   1.0         1.0               1\n",
      "2                     \u001b[91m0.0005630220857447775\u001b[0m   \u001b[92m5.253545690493411e-06\u001b[0m   1.0         1.0               1\n",
      "3                     \u001b[91m0.0007094649387911813\u001b[0m   \u001b[92m5.2516234239874394e-06\u001b[0m  1.0         1.0               1\n",
      "4                     \u001b[91m0.000920469064909767\u001b[0m    \u001b[91m5.2542162492841275e-06\u001b[0m  1.0         1.0               1\n",
      "5                     \u001b[92m0.0007842910991688135\u001b[0m   \u001b[91m5.273661788294248e-06\u001b[0m   1.0         1.0               1\n",
      "6                     \u001b[92m0.0005659432171325719\u001b[0m   \u001b[91m5.292927981486173e-06\u001b[0m   1.0         1.0               1\n",
      "7                     \u001b[92m0.0005007012977517086\u001b[0m   \u001b[92m5.264453220377163e-06\u001b[0m   1.0         1.0               1\n",
      "8                     \u001b[92m0.00022266523307620724\u001b[0m  \u001b[92m5.251981070841793e-06\u001b[0m   1.0         1.0               1\n",
      "Total Training Time                                                                              8372.03\n",
      "Final Precision                                                                                     1\n",
      "Total Time (minutes)                                                                              139.534\n",
      "\n",
      "Fold 8\n"
     ]
    },
    {
     "data": {
      "application/vnd.jupyter.widget-view+json": {
       "model_id": "b4d2524ba60d4e2db22cfedbe4bf78f9",
       "version_major": 2,
       "version_minor": 0
      },
      "text/plain": [
       "  0%|          | 0/25 [00:00<?, ?it/s]"
      ]
     },
     "metadata": {},
     "output_type": "display_data"
    },
    {
     "data": {
      "application/vnd.jupyter.widget-view+json": {
       "model_id": "a163820e7d4141178524c4dbb46d6286",
       "version_major": 2,
       "version_minor": 0
      },
      "text/plain": [
       "Epoch 1:   0%|          | 0/1798 [00:00<?, ?it/s]"
      ]
     },
     "metadata": {},
     "output_type": "display_data"
    },
    {
     "name": "stdout",
     "output_type": "stream",
     "text": [
      "\n",
      "Epoch 1\n",
      "Training loss: 0.0008484517684329114\n",
      "Validation loss: 4.679344597775526e-06\n",
      "F1 Score (weighted): 1.0\n"
     ]
    },
    {
     "data": {
      "application/vnd.jupyter.widget-view+json": {
       "model_id": "c6c2acf0bb8942ea9843b566bce56c51",
       "version_major": 2,
       "version_minor": 0
      },
      "text/plain": [
       "Epoch 2:   0%|          | 0/1798 [00:00<?, ?it/s]"
      ]
     },
     "metadata": {},
     "output_type": "display_data"
    },
    {
     "name": "stdout",
     "output_type": "stream",
     "text": [
      "\n",
      "Epoch 2\n",
      "Training loss: 0.0021436405344537686\n",
      "Validation loss: 4.687122893756168e-06\n",
      "F1 Score (weighted): 1.0\n",
      "\u001b[91m152.65% Training loss increased compared to the previous epoch\u001b[0m\n",
      "\u001b[91m0.17% Validation loss increased compared to the previous epoch\u001b[0m\n"
     ]
    },
    {
     "data": {
      "application/vnd.jupyter.widget-view+json": {
       "model_id": "f4e704cb847146b1b27dc8f4ccf4066c",
       "version_major": 2,
       "version_minor": 0
      },
      "text/plain": [
       "Epoch 3:   0%|          | 0/1798 [00:00<?, ?it/s]"
      ]
     },
     "metadata": {},
     "output_type": "display_data"
    },
    {
     "name": "stdout",
     "output_type": "stream",
     "text": [
      "\n",
      "Epoch 3\n",
      "Training loss: 0.001850842647286742\n",
      "Validation loss: 4.673801384171838e-06\n",
      "F1 Score (weighted): 1.0\n",
      "\u001b[92m13.66% Training loss decreased compared to the previous epoch\u001b[0m\n",
      "\u001b[92m0.28% Validation loss decreased compared to the previous epoch\u001b[0m\n"
     ]
    },
    {
     "data": {
      "application/vnd.jupyter.widget-view+json": {
       "model_id": "faefd05cab564d95a4adc1bda68a89da",
       "version_major": 2,
       "version_minor": 0
      },
      "text/plain": [
       "Epoch 4:   0%|          | 0/1798 [00:00<?, ?it/s]"
      ]
     },
     "metadata": {},
     "output_type": "display_data"
    },
    {
     "name": "stdout",
     "output_type": "stream",
     "text": [
      "\n",
      "Epoch 4\n",
      "Training loss: 0.0004749632945646928\n",
      "Validation loss: 4.6739354974079105e-06\n",
      "F1 Score (weighted): 1.0\n",
      "\u001b[92m74.34% Training loss decreased compared to the previous epoch\u001b[0m\n",
      "\u001b[91m0.0% Validation loss increased compared to the previous epoch\u001b[0m\n"
     ]
    },
    {
     "data": {
      "application/vnd.jupyter.widget-view+json": {
       "model_id": "",
       "version_major": 2,
       "version_minor": 0
      },
      "text/plain": [
       "Epoch 5:   0%|          | 0/1798 [00:00<?, ?it/s]"
      ]
     },
     "metadata": {},
     "output_type": "display_data"
    },
    {
     "name": "stdout",
     "output_type": "stream",
     "text": [
      "\n",
      "Epoch 5\n",
      "Training loss: 0.0009258439031029281\n",
      "Validation loss: 4.684977187423556e-06\n",
      "F1 Score (weighted): 1.0\n",
      "\u001b[91m94.93% Training loss increased compared to the previous epoch\u001b[0m\n",
      "\u001b[91m0.24% Validation loss increased compared to the previous epoch\u001b[0m\n"
     ]
    },
    {
     "data": {
      "application/vnd.jupyter.widget-view+json": {
       "model_id": "",
       "version_major": 2,
       "version_minor": 0
      },
      "text/plain": [
       "Epoch 6:   0%|          | 0/1798 [00:00<?, ?it/s]"
      ]
     },
     "metadata": {},
     "output_type": "display_data"
    },
    {
     "name": "stdout",
     "output_type": "stream",
     "text": [
      "\n",
      "Epoch 6\n",
      "Training loss: 0.0009800053442425652\n",
      "Validation loss: 4.679389315640492e-06\n",
      "F1 Score (weighted): 1.0\n",
      "\u001b[91m5.85% Training loss increased compared to the previous epoch\u001b[0m\n",
      "\u001b[92m0.12% Validation loss decreased compared to the previous epoch\u001b[0m\n"
     ]
    },
    {
     "data": {
      "application/vnd.jupyter.widget-view+json": {
       "model_id": "",
       "version_major": 2,
       "version_minor": 0
      },
      "text/plain": [
       "Epoch 7:   0%|          | 0/1798 [00:00<?, ?it/s]"
      ]
     },
     "metadata": {},
     "output_type": "display_data"
    },
    {
     "name": "stdout",
     "output_type": "stream",
     "text": [
      "\n",
      "Epoch 7\n",
      "Training loss: 0.0005226247411057536\n",
      "Validation loss: 4.6789422958681825e-06\n",
      "F1 Score (weighted): 1.0\n",
      "\u001b[92m46.67% Training loss decreased compared to the previous epoch\u001b[0m\n",
      "\u001b[92m0.01% Validation loss decreased compared to the previous epoch\u001b[0m\n"
     ]
    },
    {
     "data": {
      "application/vnd.jupyter.widget-view+json": {
       "model_id": "",
       "version_major": 2,
       "version_minor": 0
      },
      "text/plain": [
       "Epoch 8:   0%|          | 0/1798 [00:00<?, ?it/s]"
      ]
     },
     "metadata": {},
     "output_type": "display_data"
    },
    {
     "name": "stdout",
     "output_type": "stream",
     "text": [
      "\n",
      "Epoch 8\n",
      "Training loss: 0.0011955833260590277\n",
      "Validation loss: 4.676438896922263e-06\n",
      "F1 Score (weighted): 1.0\n",
      "\u001b[91m128.77% Training loss increased compared to the previous epoch\u001b[0m\n",
      "\u001b[92m0.05% Validation loss decreased compared to the previous epoch\u001b[0m\n",
      "\n",
      "Early stopping triggered. Training stopped.\n",
      "\n",
      "Total training time: 139.4408993045489 minutes\n",
      "Final Accuracy: 1.0\n",
      "Final Precision: 1.0\n"
     ]
    },
    {
     "data": {
      "image/png": "[encoded data removed]",
      "text/plain": [
       "<Figure size 800x600 with 1 Axes>"
      ]
     },
     "metadata": {},
     "output_type": "display_data"
    },
    {
     "name": "stdout",
     "output_type": "stream",
     "text": [
      "Epoch                 Training Loss          Validation Loss         F1 Score    Accuracy      Precision\n",
      "--------------------  ---------------------  ----------------------  ----------  ----------  -----------\n",
      "1                     0.0008484517684329114  4.679344597775526e-06   1.0         1.0               1\n",
      "2                     \u001b[91m0.0021436405344537686\u001b[0m  \u001b[91m4.687122893756168e-06\u001b[0m   1.0         1.0               1\n",
      "3                     \u001b[92m0.001850842647286742\u001b[0m   \u001b[92m4.673801384171838e-06\u001b[0m   1.0         1.0               1\n",
      "4                     \u001b[92m0.0004749632945646928\u001b[0m  \u001b[91m4.6739354974079105e-06\u001b[0m  1.0         1.0               1\n",
      "5                     \u001b[91m0.0009258439031029281\u001b[0m  \u001b[91m4.684977187423556e-06\u001b[0m   1.0         1.0               1\n",
      "6                     \u001b[91m0.0009800053442425652\u001b[0m  \u001b[92m4.679389315640492e-06\u001b[0m   1.0         1.0               1\n",
      "7                     \u001b[92m0.0005226247411057536\u001b[0m  \u001b[92m4.6789422958681825e-06\u001b[0m  1.0         1.0               1\n",
      "8                     \u001b[91m0.0011955833260590277\u001b[0m  \u001b[92m4.676438896922263e-06\u001b[0m   1.0         1.0               1\n",
      "Total Training Time                                                                             8366.45\n",
      "Final Precision                                                                                    1\n",
      "Total Time (minutes)                                                                             139.441\n",
      "\n",
      "Fold 9\n"
     ]
    },
    {
     "data": {
      "application/vnd.jupyter.widget-view+json": {
       "model_id": "f223e6fd887a441786b89cf95b43e538",
       "version_major": 2,
       "version_minor": 0
      },
      "text/plain": [
       "  0%|          | 0/25 [00:00<?, ?it/s]"
      ]
     },
     "metadata": {},
     "output_type": "display_data"
    },
    {
     "data": {
      "application/vnd.jupyter.widget-view+json": {
       "model_id": "",
       "version_major": 2,
       "version_minor": 0
      },
      "text/plain": [
       "Epoch 1:   0%|          | 0/1798 [00:00<?, ?it/s]"
      ]
     },
     "metadata": {},
     "output_type": "display_data"
    },
    {
     "name": "stdout",
     "output_type": "stream",
     "text": [
      "\n",
      "Epoch 1\n",
      "Training loss: 0.0005180821207250802\n",
      "Validation loss: 4.6225548817346864e-06\n",
      "F1 Score (weighted): 1.0\n"
     ]
    },
    {
     "data": {
      "application/vnd.jupyter.widget-view+json": {
       "model_id": "",
       "version_major": 2,
       "version_minor": 0
      },
      "text/plain": [
       "Epoch 2:   0%|          | 0/1798 [00:00<?, ?it/s]"
      ]
     },
     "metadata": {},
     "output_type": "display_data"
    },
    {
     "name": "stdout",
     "output_type": "stream",
     "text": [
      "\n",
      "Epoch 2\n",
      "Training loss: 0.0005867792462030718\n",
      "Validation loss: 4.619962096228392e-06\n",
      "F1 Score (weighted): 1.0\n",
      "\u001b[91m13.26% Training loss increased compared to the previous epoch\u001b[0m\n",
      "\u001b[92m0.06% Validation loss decreased compared to the previous epoch\u001b[0m\n"
     ]
    },
    {
     "data": {
      "application/vnd.jupyter.widget-view+json": {
       "model_id": "",
       "version_major": 2,
       "version_minor": 0
      },
      "text/plain": [
       "Epoch 3:   0%|          | 0/1798 [00:00<?, ?it/s]"
      ]
     },
     "metadata": {},
     "output_type": "display_data"
    },
    {
     "name": "stdout",
     "output_type": "stream",
     "text": [
      "\n",
      "Epoch 3\n",
      "Training loss: 0.0012059190166994463\n",
      "Validation loss: 4.62403006764589e-06\n",
      "F1 Score (weighted): 1.0\n",
      "\u001b[91m105.51% Training loss increased compared to the previous epoch\u001b[0m\n",
      "\u001b[91m0.09% Validation loss increased compared to the previous epoch\u001b[0m\n"
     ]
    },
    {
     "data": {
      "application/vnd.jupyter.widget-view+json": {
       "model_id": "",
       "version_major": 2,
       "version_minor": 0
      },
      "text/plain": [
       "Epoch 4:   0%|          | 0/1798 [00:00<?, ?it/s]"
      ]
     },
     "metadata": {},
     "output_type": "display_data"
    },
    {
     "name": "stdout",
     "output_type": "stream",
     "text": [
      "\n",
      "Epoch 4\n",
      "Training loss: 0.00045884439660265087\n",
      "Validation loss: 4.620945559281609e-06\n",
      "F1 Score (weighted): 1.0\n",
      "\u001b[92m61.95% Training loss decreased compared to the previous epoch\u001b[0m\n",
      "\u001b[92m0.07% Validation loss decreased compared to the previous epoch\u001b[0m\n"
     ]
    },
    {
     "data": {
      "application/vnd.jupyter.widget-view+json": {
       "model_id": "",
       "version_major": 2,
       "version_minor": 0
      },
      "text/plain": [
       "Epoch 5:   0%|          | 0/1798 [00:00<?, ?it/s]"
      ]
     },
     "metadata": {},
     "output_type": "display_data"
    },
    {
     "name": "stdout",
     "output_type": "stream",
     "text": [
      "\n",
      "Epoch 5\n",
      "Training loss: 0.0004461583361723652\n",
      "Validation loss: 4.624566524285001e-06\n",
      "F1 Score (weighted): 1.0\n",
      "\u001b[92m2.76% Training loss decreased compared to the previous epoch\u001b[0m\n",
      "\u001b[91m0.08% Validation loss increased compared to the previous epoch\u001b[0m\n"
     ]
    },
    {
     "data": {
      "application/vnd.jupyter.widget-view+json": {
       "model_id": "",
       "version_major": 2,
       "version_minor": 0
      },
      "text/plain": [
       "Epoch 6:   0%|          | 0/1798 [00:00<?, ?it/s]"
      ]
     },
     "metadata": {},
     "output_type": "display_data"
    },
    {
     "name": "stdout",
     "output_type": "stream",
     "text": [
      "\n",
      "Epoch 6\n",
      "Training loss: 0.0008171022400191738\n",
      "Validation loss: 4.62362774584335e-06\n",
      "F1 Score (weighted): 1.0\n",
      "\u001b[91m83.14% Training loss increased compared to the previous epoch\u001b[0m\n",
      "\u001b[92m0.02% Validation loss decreased compared to the previous epoch\u001b[0m\n"
     ]
    },
    {
     "data": {
      "application/vnd.jupyter.widget-view+json": {
       "model_id": "d4b5c665d3e14217ad853cb0d90ec71e",
       "version_major": 2,
       "version_minor": 0
      },
      "text/plain": [
       "Epoch 7:   0%|          | 0/1798 [00:00<?, ?it/s]"
      ]
     },
     "metadata": {},
     "output_type": "display_data"
    }
   ],
   "source": [
    "from torch.utils.data import DataLoader, SubsetRandomSampler\n",
    "from sklearn.model_selection import KFold\n",
    "\n",
    "k = 10  # Number of folds\n",
    "kf = KFold(n_splits=k, shuffle=True, random_state=42)\n",
    "\n",
    "# Initialize lists to store the evaluation metrics for each fold\n",
    "training_loss_lists = []\n",
    "validation_loss_lists = []\n",
    "accuracy_lists = []\n",
    "precision_lists = []\n",
    "f1_score_lists = []\n",
    "\n",
    "# Convert the multilabel indicator target to numpy array\n",
    "targets = dataset_train.tensors[1].numpy()\n",
    "\n",
    "# Perform multilabel k-fold cross-validation\n",
    "for fold, (train_index, val_index) in enumerate(kf.split(targets)):\n",
    "    print(f\"\\nFold {fold+1}\")\n",
    "    train_sampler = SubsetRandomSampler(train_index)\n",
    "    val_sampler = SubsetRandomSampler(val_index)\n",
    "\n",
    "    # Create data loaders for training and validation\n",
    "    dataloader_train = DataLoader(dataset_train, batch_size=batch_size, sampler=train_sampler)\n",
    "    dataloader_val = DataLoader(dataset_train, batch_size=batch_size, sampler=val_sampler)\n",
    "\n",
    "    # train_model(trainer, dataloader_train, dataloader_val, epochs, patience)\n",
    "\n",
    "    try:\n",
    "        train_model(trainer, dataloader_train, dataloader_val, epochs, patience)\n",
    "    except Exception as e:\n",
    "        print(f\"Continue to the next fold {fold+1}: {str(e)}\")\n",
    "        continue"
   ]
  },
  {
   "cell_type": "code",
   "execution_count": null,
   "id": "f24429e4-743b-4a11-80d6-5e2fadaabc9e",
   "metadata": {},
   "outputs": [],
   "source": [
    "model.load_state_dict(\n",
    "    torch.load(\n",
    "        \"Models/finetuned_bert_gpt_ft_epoch10.model\", \n",
    "        map_location = torch.device('cuda')\n",
    "    )\n",
    ")\n",
    "_, predictions, true_vals = evaluate(dataloader_val)\n",
    "accuracy_per_class(predictions, true_vals)"
   ]
  },
  {
   "cell_type": "code",
   "execution_count": null,
   "id": "fa5f8d3d-86ce-486b-84d4-1363d26dab38",
   "metadata": {},
   "outputs": [],
   "source": [
    "model.load_state_dict(\n",
    "    torch.load(\n",
    "        \"Models/finetuned_bert_gpt_ft_epoch10.model\", \n",
    "        map_location = torch.device('cuda')\n",
    "    )\n",
    ")\n",
    "_, predictions, true_vals = evaluate(dataloader_train)\n",
    "accuracy_per_class(predictions, true_vals)"
   ]
  }
 ],
 "metadata": {
  "kernelspec": {
   "display_name": "Python 3 (ipykernel)",
   "language": "python",
   "name": "python3"
  },
  "language_info": {
   "codemirror_mode": {
    "name": "ipython",
    "version": 3
   },
   "file_extension": ".py",
   "mimetype": "text/x-python",
   "name": "python",
   "nbconvert_exporter": "python",
   "pygments_lexer": "ipython3",
   "version": "3.10.9"
  }
 },
 "nbformat": 4,
 "nbformat_minor": 5
}

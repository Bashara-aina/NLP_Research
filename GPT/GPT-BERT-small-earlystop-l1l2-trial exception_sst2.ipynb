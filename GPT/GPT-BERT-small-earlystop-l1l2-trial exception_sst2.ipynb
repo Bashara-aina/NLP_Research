{
 "cells": [
  {
   "cell_type": "code",
   "execution_count": 1,
   "id": "c5bf24e9-d40b-45ad-9330-405d0097fe2e",
   "metadata": {
    "tags": []
   },
   "outputs": [
    {
     "name": "stderr",
     "output_type": "stream",
     "text": [
      "2023-07-10 18:46:16.297628: I tensorflow/core/util/port.cc:110] oneDNN custom operations are on. You may see slightly different numerical results due to floating-point round-off errors from different computation orders. To turn them off, set the environment variable `TF_ENABLE_ONEDNN_OPTS=0`.\n",
      "2023-07-10 18:46:18.577959: I tensorflow/core/platform/cpu_feature_guard.cc:182] This TensorFlow binary is optimized to use available CPU instructions in performance-critical operations.\n",
      "To enable the following instructions: AVX2 AVX_VNNI FMA, in other operations, rebuild TensorFlow with the appropriate compiler flags.\n",
      "2023-07-10 18:46:20.946805: W tensorflow/compiler/tf2tensorrt/utils/py_utils.cc:38] TF-TRT Warning: Could not find TensorRT\n"
     ]
    }
   ],
   "source": [
    "import torch\n",
    "import torch.nn as nn\n",
    "import pandas as pd\n",
    "from tqdm.notebook import tqdm  # For displaying progress bars\n",
    "from datasets import load_dataset  # For loading datasets\n",
    "from sklearn.model_selection import train_test_split  # For splitting the dataset\n",
    "from transformers import BertTokenizer  # For tokenizing text\n",
    "from torch.utils.data import TensorDataset  # For creating Tensor datasets\n",
    "import time  # For measuring time\n",
    "from sklearn.metrics import accuracy_score, precision_score, f1_score, recall_score  # For evaluation metrics\n",
    "from sklearn.exceptions import UndefinedMetricWarning  # For handling metric warnings\n",
    "import matplotlib.pyplot as plt  # For plotting\n",
    "from tabulate import tabulate  # For tabular data formatting\n",
    "import random  # For randomization\n",
    "import numpy as np  # For numerical operations\n",
    "from transformers import (\n",
    "    BertTokenizer,  # Tokenizer for BERT models\n",
    "    AdamW,  # Optimizer for BERT models\n",
    "    get_linear_schedule_with_warmup,  # Learning rate scheduler for BERT models\n",
    "    BertConfig,  # Configuration for BERT models\n",
    "    BertForSequenceClassification  # BERT model for sequence classification tasks\n",
    ")\n",
    "from torch.utils.data import (\n",
    "    DataLoader,  # Data loader for creating batches\n",
    "    RandomSampler,  # Sampler for random sampling of data\n",
    "    SequentialSampler  # Sampler for sequential sampling of data\n",
    ")\n",
    "from sklearn.metrics import f1_score  # For computing the F1 score\n",
    "\n",
    "# 1. Torch: PyTorch library for deep learning\n",
    "# 2. Pandas: Library for data manipulation and analysis\n",
    "# 3. tqdm: Library for displaying progress bars\n",
    "# 4. datasets: Library for working with datasets\n",
    "# 5. train_test_split: Function for splitting the dataset into training and validation sets\n",
    "# 6. BertTokenizer: Tokenizer for BERT models\n",
    "# 7. TensorDataset: Dataset class for creating PyTorch Tensor datasets\n",
    "# 8. time: Module for measuring time\n",
    "# 9. accuracy_score, precision_score, f1_score: Evaluation metrics for classification tasks\n",
    "# 10. UndefinedMetricWarning: Warning for undefined metric values\n",
    "# 11. matplotlib.pyplot: Plotting library\n",
    "# 12. tabulate: Library for formatting tabular data\n",
    "# 13. random: Module for randomization\n",
    "# 14. numpy: Library for numerical operations\n",
    "# 15. AdamW: Optimizer for BERT models\n",
    "# 16. get_linear_schedule_with_warmup: Learning rate scheduler for BERT models\n",
    "# 17. BertConfig: Configuration for BERT models\n",
    "# 18. BertForSequenceClassification: BERT model for sequence classification tasks\n",
    "# 19. DataLoader: Data loader for creating batches\n",
    "# 20. RandomSampler: Sampler for random sampling of data\n",
    "# 21. SequentialSampler: Sampler for sequential sampling of data\n",
    "# 22. f1_score: Function for computing the F1 score"
   ]
  },
  {
   "cell_type": "code",
   "execution_count": 2,
   "id": "207f2073-3da6-4185-917f-e8b3694617ed",
   "metadata": {},
   "outputs": [],
   "source": [
    "def datacleaning_imdb():\n",
    "    dataset = load_dataset(\"sst2\")\n",
    "    train_data = dataset['train']\n",
    "\n",
    "    df = train_data.to_pandas()  # Convert the dataset to a Pandas DataFrame\n",
    "\n",
    "    df['sentiment'] = df['label'].map({0: 'bad', 1: 'good'})\n",
    "\n",
    "    possible_labels = df.sentiment.unique()  # Get unique category labels from the DataFrame column 'category'\n",
    "\n",
    "    label_dict = {}  # Create a dictionary to map each possible label to a unique index\n",
    "    for index, possible_label in enumerate(possible_labels):\n",
    "        label_dict[possible_label] = index\n",
    "\n",
    "    df['label'] = df.sentiment.replace(label_dict)\n",
    "\n",
    "    # Split the dataset into training and validation sets\n",
    "    X_train, X_val, y_train, y_val = train_test_split(\n",
    "        df.index.values,\n",
    "        df.label.values,\n",
    "        test_size=0.15,\n",
    "        random_state=17,\n",
    "        stratify=df.label.values\n",
    "    )\n",
    "\n",
    "    df['data_type'] = ['not_set'] * df.shape[0]  # Set a new column 'data_type' for later data split\n",
    "\n",
    "    # Set the 'data_type' column of the dataframe for training and validation data\n",
    "    df.loc[X_train, 'data_type'] = 'train'\n",
    "    df.loc[X_val, 'data_type'] = 'val'\n",
    "\n",
    "    return df\n",
    "\n",
    "def f1_score_func(preds, labels):\n",
    "    preds_flat = np.argmax(preds, axis=1).flatten() #This line finds the index with the highest probability in each prediction, effectively giving the predicted class for each input.\n",
    "    labels_flat = labels.flatten()  #This line flattens the labels array into a 1D vector, as required by the f1_score function.\n",
    "    return f1_score(labels_flat, preds_flat, average='weighted') #This line computes the F1 score using the true labels and the predicted labels, with the weighted averaging scheme. The result is returned.\n",
    "\n",
    "def accuracy_per_class(preds, labels):\n",
    "    # Create a dictionary with keys and values reversed for easy lookup.\n",
    "    label_dict_inverse = {v: k for k, v in label_dict.items()}\n",
    "    \n",
    "    # Get the predicted labels and flatten them.\n",
    "    preds_flat = np.argmax(preds, axis=1).flatten()\n",
    "    \n",
    "    # Get the actual labels and flatten them.\n",
    "    labels_flat = labels.flatten()\n",
    "\n",
    "    # Iterate over the unique labels in the actual labels.\n",
    "    for label in np.unique(labels_flat):\n",
    "        # Get the predicted labels for this class.\n",
    "        y_preds = preds_flat[labels_flat==label]\n",
    "        \n",
    "        # Get the actual labels for this class.\n",
    "        y_true = labels_flat[labels_flat==label]\n",
    "        \n",
    "        # Print the class name, accuracy numerator and denominator.\n",
    "        print(f'Class: {label_dict_inverse[label]}')\n",
    "        print(f'Accuracy: {len(y_preds[y_preds==label])}/{len(y_true)}\\n')\n",
    "\n",
    "#This code evaluates the performance of a trained model on a validation dataset by computing its loss and predictions for each batch in the dataset.\n",
    "def evaluate(dataloader_val):\n",
    "\n",
    "    model.eval() # setting the model to evaluation mode to disable dropout and other regularization techniques that are useful during training but not during evaluation.\n",
    "    \n",
    "    loss_val_total = 0\n",
    "    predictions, true_vals = [], []\n",
    "    \n",
    "    for batch in dataloader_val:\n",
    "    \n",
    "        batch = tuple(b.to(device) for b in batch) # moving the input batch to the GPU for faster computation.\n",
    "   \n",
    "        #  creating a dictionary of inputs that will be passed to the model. The input IDs and attention mask are for the BERT model, and the labels are the true labels for each input.\n",
    "        inputs = {'input_ids':  \tbatch[0],\n",
    "                'attention_mask': batch[1],\n",
    "                'labels':     \tbatch[2],\n",
    "                } \n",
    "\n",
    "        with torch.no_grad():   \n",
    "            outputs = model(**inputs)\n",
    "        \n",
    "        loss = outputs[0]\n",
    "        logits = outputs[1]\n",
    "        loss_val_total += loss.item()\n",
    "\n",
    "        logits = logits.detach().cpu().numpy()\n",
    "        label_ids = inputs['labels'].cpu().numpy()\n",
    "        predictions.append(logits)\n",
    "        true_vals.append(label_ids)\n",
    "    \n",
    "    loss_val_avg = loss_val_total/len(dataloader_val)\n",
    "    \n",
    "    predictions = np.concatenate(predictions, axis=0)\n",
    "    true_vals = np.concatenate(true_vals, axis=0)\n",
    "       \t \n",
    "    return loss_val_avg, predictions, true_vals\n",
    "\n",
    "def train_model(trainer, dataloader_train, dataloader_val, epochs, patience):\n",
    "    total_training_time = 0\n",
    "    \n",
    "    training_loss_list = []\n",
    "    validation_loss_list = []\n",
    "    accuracy_list = []\n",
    "    precision_list = []\n",
    "    f1_score_list = []\n",
    "    \n",
    "    previous_results = None  # Store previous epoch results\n",
    "    best_val_loss = float('inf')\n",
    "    counter = 0\n",
    "    \n",
    "    for epoch in tqdm(range(1, epochs + 1)):\n",
    "        start_time = time.time()\n",
    "    \n",
    "        model.train()\n",
    "        loss_train_total = 0\n",
    "    \n",
    "        progress_bar = tqdm(dataloader_train,\n",
    "                            desc='Epoch {:1d}'.format(epoch),\n",
    "                            leave=False,\n",
    "                            disable=False)\n",
    "        for batch in progress_bar:\n",
    "            model.zero_grad()\n",
    "            batch = tuple(b.to(device) for b in batch)\n",
    "            inputs = {\n",
    "                'input_ids': batch[0],\n",
    "                'attention_mask': batch[1],\n",
    "                'labels': batch[2],\n",
    "            }\n",
    "            output = model(**inputs)\n",
    "            loss = output[0]\n",
    "\n",
    "            # L1 regularization\n",
    "            l1_regularization = torch.tensor(0., device=device)\n",
    "            for param in model.parameters():\n",
    "                l1_regularization += torch.norm(param, 1)\n",
    "            \n",
    "            # L2 regularization\n",
    "            l2_regularization = torch.tensor(0., device=device)\n",
    "            for param in model.parameters():\n",
    "                l2_regularization += torch.norm(param, 2)\n",
    "\n",
    "            \n",
    "            loss_train_total += loss.item()\n",
    "            loss.backward()\n",
    "            torch.nn.utils.clip_grad_norm_(model.parameters(), 1.0)\n",
    "            optimizer.step()\n",
    "            scheduler.step()\n",
    "            progress_bar.set_postfix({'training_loss': '{:.3f}'.format(loss.item() / len(batch))})\n",
    "    \n",
    "        end_time = time.time()\n",
    "        epoch_training_time = end_time - start_time\n",
    "        total_training_time += epoch_training_time\n",
    "    \n",
    "        torch.save(model.state_dict(), f'Models/finetuned_bert_gpt_ft_epoch{epoch}.model')\n",
    "    \n",
    "        tqdm.write(f'\\nEpoch {epoch}')\n",
    "    \n",
    "        loss_train_avg = loss_train_total / len(dataloader_train)\n",
    "        tqdm.write(f'Training loss: {loss_train_avg}')\n",
    "    \n",
    "        val_loss, predictions, true_vals = evaluate(dataloader_val)\n",
    "    \n",
    "        # Convert predictions to discrete labels\n",
    "        predictions = np.argmax(predictions, axis=1)\n",
    "    \n",
    "        val_f1 = f1_score(true_vals, predictions, average='weighted')\n",
    "        tqdm.write(f'Validation loss: {val_loss}')\n",
    "        tqdm.write(f'F1 Score (weighted): {val_f1}')\n",
    "    \n",
    "        val_accuracy = accuracy_score(true_vals, predictions)\n",
    "        val_precision = precision_score(true_vals, predictions, average='weighted', zero_division=1)\n",
    "    \n",
    "        # Compute and store metrics\n",
    "        training_loss_list.append(loss_train_avg)\n",
    "        validation_loss_list.append(val_loss)\n",
    "        f1_score_list.append(val_f1)\n",
    "        accuracy_list.append(val_accuracy)\n",
    "        precision_list.append(val_precision)\n",
    "    \n",
    "        # Check if there are previous results to compare with\n",
    "        if previous_results is not None:\n",
    "            if loss_train_avg > previous_results['loss_train_avg']:\n",
    "                percentage_increase = ((loss_train_avg - previous_results['loss_train_avg']) / previous_results['loss_train_avg']) * 100\n",
    "                tqdm.write('\\033[91m' + f'{round(percentage_increase, 2)}% Training loss increased compared to the previous epoch' + '\\033[0m')\n",
    "            if loss_train_avg < previous_results['loss_train_avg']:\n",
    "                percentage_decrease = ((previous_results['loss_train_avg'] - loss_train_avg) / previous_results['loss_train_avg']) * 100\n",
    "                tqdm.write('\\033[92m' + f'{round(percentage_decrease, 2)}% Training loss decreased compared to the previous epoch' + '\\033[0m')\n",
    "            if val_loss > previous_results['val_loss']:\n",
    "                percentage_increase = ((val_loss - previous_results['val_loss']) / previous_results['val_loss']) * 100\n",
    "                tqdm.write('\\033[91m' + f'{round(percentage_increase, 2)}% Validation loss increased compared to the previous epoch' + '\\033[0m')\n",
    "            if val_loss < previous_results['val_loss']:\n",
    "                percentage_decrease = ((previous_results['val_loss'] - val_loss) / previous_results['val_loss']) * 100\n",
    "                tqdm.write('\\033[92m' + f'{round(percentage_decrease, 2)}% Validation loss decreased compared to the previous epoch' + '\\033[0m')\n",
    "            if val_f1 < previous_results['val_f1']:\n",
    "                percentage_decrease = ((previous_results['val_f1'] - val_f1) / previous_results['val_f1']) * 100\n",
    "                tqdm.write('\\033[91m' + f'{round(percentage_decrease, 2)}% F1 Score decreased compared to the previous epoch' + '\\033[0m')\n",
    "            if val_f1 > previous_results['val_f1']:\n",
    "                percentage_increase = ((val_f1 - previous_results['val_f1']) / previous_results['val_f1']) * 100\n",
    "                tqdm.write('\\033[92m' + f'{round(percentage_increase, 2)}% F1 Score increased compared to the previous epoch' + '\\033[0m')\n",
    "    \n",
    "        # Store current results as previous results for the next epoch\n",
    "        previous_results = {\n",
    "            'loss_train_avg': loss_train_avg,\n",
    "            'val_loss': val_loss,\n",
    "            'val_f1': val_f1\n",
    "        }\n",
    "        \n",
    "        # Check for early stopping\n",
    "        if val_loss < best_val_loss:\n",
    "            best_val_loss = val_loss\n",
    "            counter = 0\n",
    "        else:\n",
    "            counter += 1\n",
    "            if counter >= patience:\n",
    "                tqdm.write('\\nEarly stopping triggered. Training stopped.')\n",
    "                break\n",
    "    \n",
    "    total_time_minutes = total_training_time / 60\n",
    "    tqdm.write(f'\\nTotal training time: {total_time_minutes} minutes')\n",
    "    \n",
    "    final_accuracy = accuracy_list[-1]\n",
    "    final_precision = precision_list[-1]\n",
    "    tqdm.write(f'Final Accuracy: {final_accuracy}')\n",
    "    tqdm.write(f'Final Precision: {final_precision}')\n",
    "    \n",
    "    # Create the x-axis values based on the actual number of epochs completed\n",
    "    x_values = range(1, len(training_loss_list) + 1)\n",
    "    \n",
    "    # Create the metrics subplot\n",
    "    fig, ax = plt.subplots(figsize=(8, 6))\n",
    "    \n",
    "    # Plot training loss\n",
    "    ax.plot(x_values, training_loss_list, label='Training Loss')\n",
    "    \n",
    "    # Plot validation loss\n",
    "    ax.plot(x_values, validation_loss_list, label='Validation Loss')\n",
    "    \n",
    "    # Plot F1-score\n",
    "    ax.plot(x_values, f1_score_list, label='F1 Score')\n",
    "\n",
    "    # Plot Accuracy\n",
    "    ax.plot(x_values, accuracy_list, label='Accuracy')\n",
    "    \n",
    "    # Set labels and title\n",
    "    ax.set_xlabel('Epoch')\n",
    "    ax.set_ylabel('Metric Value')\n",
    "    ax.set_title('Training Loss, Validation Loss, and F1 Score')\n",
    "    \n",
    "    # Set legend\n",
    "    ax.legend()\n",
    "    \n",
    "    # Show the combined plot\n",
    "    plt.show()\n",
    "    \n",
    "    \n",
    "    # Create the metrics table\n",
    "    metrics_table = [\n",
    "        ['Epoch', 'Training Loss', 'Validation Loss', 'F1 Score', 'Accuracy', 'Precision'],\n",
    "    ]\n",
    "    previous_results = None\n",
    "    for epoch in range(1, len(training_loss_list) + 1):\n",
    "        row = [\n",
    "            epoch,\n",
    "            training_loss_list[epoch - 1],\n",
    "            validation_loss_list[epoch - 1],\n",
    "            f1_score_list[epoch - 1],\n",
    "            accuracy_list[epoch - 1],\n",
    "            precision_list[epoch - 1]\n",
    "        ]\n",
    "    \n",
    "        # Compare with previous epoch results\n",
    "        if previous_results is not None:\n",
    "            if training_loss_list[epoch - 1] < previous_results['loss_train_avg']:\n",
    "                row[1] = '\\033[92m' + str(row[1]) + '\\033[0m'  # Highlight in green\n",
    "            if training_loss_list[epoch - 1] > previous_results['loss_train_avg']:\n",
    "                row[1] = '\\033[91m' + str(row[1]) + '\\033[0m'  # Highlight in red\n",
    "            if validation_loss_list[epoch - 1] < previous_results['val_loss']:\n",
    "                row[2] = '\\033[92m' + str(row[2]) + '\\033[0m'  # Highlight in green\n",
    "            if validation_loss_list[epoch - 1] > previous_results['val_loss']:\n",
    "                row[2] = '\\033[91m' + str(row[2]) + '\\033[0m'  # Highlight in red\n",
    "            if f1_score_list[epoch - 1] > previous_results['val_f1']:\n",
    "                row[3] = '\\033[92m' + str(row[3]) + '\\033[0m'  # Highlight in green\n",
    "            if f1_score_list[epoch - 1] < previous_results['val_f1']:\n",
    "                row[3] = '\\033[91m' + str(row[3]) + '\\033[0m'  # Highlight in red\n",
    "            if accuracy_list[epoch - 1] > previous_results['val_f1']:\n",
    "                row[4] = '\\033[92m' + str(row[3]) + '\\033[0m'  # Highlight in green\n",
    "            if accuracy_list[epoch - 1] < previous_results['val_f1']:\n",
    "                row[4] = '\\033[91m' + str(row[3]) + '\\033[0m'  # Highlight in red\n",
    "            if precision_list[epoch - 1] > previous_results['val_f1']:\n",
    "                row[5] = '\\033[92m' + str(row[3]) + '\\033[0m'  # Highlight in green\n",
    "            if precision_list[epoch - 1] < previous_results['val_f1']:\n",
    "                row[5] = '\\033[91m' + str(row[3]) + '\\033[0m'  # Highlight in red\n",
    "    \n",
    "        metrics_table.append(row)\n",
    "        previous_results = {\n",
    "            'loss_train_avg': training_loss_list[epoch - 1],\n",
    "            'val_loss': validation_loss_list[epoch - 1],\n",
    "            'val_f1': f1_score_list[epoch - 1]\n",
    "        }\n",
    "    \n",
    "    # Calculate total training time in minutes\n",
    "    total_time_minutes = total_training_time / 60\n",
    "    \n",
    "    # Calculate total precision\n",
    "    total_precision = precision_list[-1]\n",
    "    \n",
    "    # Add total training time and total precision rows to the table\n",
    "    metrics_table.append(['Total Training Time', '', '', '', '', total_training_time])\n",
    "    metrics_table.append(['Final Precision', '', '', '', '', total_precision])\n",
    "    metrics_table.append(['Total Time (minutes)', '', '', '', '', total_time_minutes])\n",
    "    \n",
    "    # Print the table\n",
    "    print(tabulate(metrics_table, headers='firstrow'))\n",
    "\n",
    "default_args = {\n",
    "    \"output_dir\": \"tmp\",\n",
    "    \"evaluation_strategy\": \"steps\",\n",
    "    \"num_train_epochs\": 1,\n",
    "    \"log_level\": \"error\",\n",
    "    \"report_to\": \"none\",\n",
    "}"
   ]
  },
  {
   "cell_type": "code",
   "execution_count": 3,
   "id": "d9785608-cd5e-4432-9d68-68d90c4a0a5a",
   "metadata": {},
   "outputs": [
    {
     "name": "stderr",
     "output_type": "stream",
     "text": [
      "Found cached dataset sst2 (/home/z123010/.cache/huggingface/datasets/sst2/default/2.0.0/9896208a8d85db057ac50c72282bcb8fe755accc671a57dd8059d4e130961ed5)\n"
     ]
    },
    {
     "data": {
      "application/vnd.jupyter.widget-view+json": {
       "model_id": "464f27937a3445ab84ca486cd40319e9",
       "version_major": 2,
       "version_minor": 0
      },
      "text/plain": [
       "  0%|          | 0/3 [00:00<?, ?it/s]"
      ]
     },
     "metadata": {},
     "output_type": "display_data"
    }
   ],
   "source": [
    "df = datacleaning_imdb()"
   ]
  },
  {
   "cell_type": "code",
   "execution_count": 4,
   "id": "8793b8bc-43bd-4d43-a17e-abf0174eb200",
   "metadata": {},
   "outputs": [],
   "source": [
    "# Create label_dict and assign the number of labels\n",
    "label_dict = {label: index for index, label in enumerate(df['label'].unique())}"
   ]
  },
  {
   "cell_type": "code",
   "execution_count": 5,
   "id": "2707709e-9e1b-460f-9386-6d9e999f2d90",
   "metadata": {},
   "outputs": [
    {
     "data": {
      "text/html": [
       "<div>\n",
       "<style scoped>\n",
       "    .dataframe tbody tr th:only-of-type {\n",
       "        vertical-align: middle;\n",
       "    }\n",
       "\n",
       "    .dataframe tbody tr th {\n",
       "        vertical-align: top;\n",
       "    }\n",
       "\n",
       "    .dataframe thead th {\n",
       "        text-align: right;\n",
       "    }\n",
       "</style>\n",
       "<table border=\"1\" class=\"dataframe\">\n",
       "  <thead>\n",
       "    <tr style=\"text-align: right;\">\n",
       "      <th></th>\n",
       "      <th>idx</th>\n",
       "      <th>sentence</th>\n",
       "      <th>label</th>\n",
       "      <th>sentiment</th>\n",
       "      <th>data_type</th>\n",
       "    </tr>\n",
       "  </thead>\n",
       "  <tbody>\n",
       "    <tr>\n",
       "      <th>66730</th>\n",
       "      <td>66730</td>\n",
       "      <td>with outtakes in which most of the characters ...</td>\n",
       "      <td>0</td>\n",
       "      <td>bad</td>\n",
       "      <td>train</td>\n",
       "    </tr>\n",
       "    <tr>\n",
       "      <th>29890</th>\n",
       "      <td>29890</td>\n",
       "      <td>enigma is well-made</td>\n",
       "      <td>1</td>\n",
       "      <td>good</td>\n",
       "      <td>train</td>\n",
       "    </tr>\n",
       "    <tr>\n",
       "      <th>45801</th>\n",
       "      <td>45801</td>\n",
       "      <td>is ) so stoked to make an important film about...</td>\n",
       "      <td>0</td>\n",
       "      <td>bad</td>\n",
       "      <td>train</td>\n",
       "    </tr>\n",
       "    <tr>\n",
       "      <th>29352</th>\n",
       "      <td>29352</td>\n",
       "      <td>the closest thing to the experience of space t...</td>\n",
       "      <td>1</td>\n",
       "      <td>good</td>\n",
       "      <td>train</td>\n",
       "    </tr>\n",
       "    <tr>\n",
       "      <th>19858</th>\n",
       "      <td>19858</td>\n",
       "      <td>lose their luster</td>\n",
       "      <td>0</td>\n",
       "      <td>bad</td>\n",
       "      <td>train</td>\n",
       "    </tr>\n",
       "    <tr>\n",
       "      <th>15364</th>\n",
       "      <td>15364</td>\n",
       "      <td>reopens an interesting controversy and</td>\n",
       "      <td>1</td>\n",
       "      <td>good</td>\n",
       "      <td>train</td>\n",
       "    </tr>\n",
       "    <tr>\n",
       "      <th>30026</th>\n",
       "      <td>30026</td>\n",
       "      <td>competent , unpretentious entertainment</td>\n",
       "      <td>1</td>\n",
       "      <td>good</td>\n",
       "      <td>train</td>\n",
       "    </tr>\n",
       "    <tr>\n",
       "      <th>38039</th>\n",
       "      <td>38039</td>\n",
       "      <td>an effective portrait of a life in stasis</td>\n",
       "      <td>1</td>\n",
       "      <td>good</td>\n",
       "      <td>train</td>\n",
       "    </tr>\n",
       "    <tr>\n",
       "      <th>14261</th>\n",
       "      <td>14261</td>\n",
       "      <td>transcendent performance</td>\n",
       "      <td>1</td>\n",
       "      <td>good</td>\n",
       "      <td>train</td>\n",
       "    </tr>\n",
       "    <tr>\n",
       "      <th>11661</th>\n",
       "      <td>11661</td>\n",
       "      <td>so vivid</td>\n",
       "      <td>1</td>\n",
       "      <td>good</td>\n",
       "      <td>train</td>\n",
       "    </tr>\n",
       "  </tbody>\n",
       "</table>\n",
       "</div>"
      ],
      "text/plain": [
       "         idx                                           sentence  label   \n",
       "66730  66730  with outtakes in which most of the characters ...      0  \\\n",
       "29890  29890                               enigma is well-made       1   \n",
       "45801  45801  is ) so stoked to make an important film about...      0   \n",
       "29352  29352  the closest thing to the experience of space t...      1   \n",
       "19858  19858                                 lose their luster       0   \n",
       "15364  15364            reopens an interesting controversy and       1   \n",
       "30026  30026           competent , unpretentious entertainment       1   \n",
       "38039  38039         an effective portrait of a life in stasis       1   \n",
       "14261  14261                          transcendent performance       1   \n",
       "11661  11661                                          so vivid       1   \n",
       "\n",
       "      sentiment data_type  \n",
       "66730       bad     train  \n",
       "29890      good     train  \n",
       "45801       bad     train  \n",
       "29352      good     train  \n",
       "19858       bad     train  \n",
       "15364      good     train  \n",
       "30026      good     train  \n",
       "38039      good     train  \n",
       "14261      good     train  \n",
       "11661      good     train  "
      ]
     },
     "execution_count": 5,
     "metadata": {},
     "output_type": "execute_result"
    }
   ],
   "source": [
    "df.sample(n=10, random_state=42)  # Generate 10 random rows from df"
   ]
  },
  {
   "cell_type": "code",
   "execution_count": 6,
   "id": "dc596d9c-5808-4f39-a59e-6ed36d8927dd",
   "metadata": {},
   "outputs": [
    {
     "data": {
      "text/html": [
       "<div>\n",
       "<style scoped>\n",
       "    .dataframe tbody tr th:only-of-type {\n",
       "        vertical-align: middle;\n",
       "    }\n",
       "\n",
       "    .dataframe tbody tr th {\n",
       "        vertical-align: top;\n",
       "    }\n",
       "\n",
       "    .dataframe thead th {\n",
       "        text-align: right;\n",
       "    }\n",
       "</style>\n",
       "<table border=\"1\" class=\"dataframe\">\n",
       "  <thead>\n",
       "    <tr style=\"text-align: right;\">\n",
       "      <th></th>\n",
       "      <th>idx</th>\n",
       "      <th>sentence</th>\n",
       "      <th>label</th>\n",
       "      <th>data_type</th>\n",
       "    </tr>\n",
       "    <tr>\n",
       "      <th>sentiment</th>\n",
       "      <th></th>\n",
       "      <th></th>\n",
       "      <th></th>\n",
       "      <th></th>\n",
       "    </tr>\n",
       "  </thead>\n",
       "  <tbody>\n",
       "    <tr>\n",
       "      <th>bad</th>\n",
       "      <td>29780</td>\n",
       "      <td>29780</td>\n",
       "      <td>29780</td>\n",
       "      <td>29780</td>\n",
       "    </tr>\n",
       "    <tr>\n",
       "      <th>good</th>\n",
       "      <td>37569</td>\n",
       "      <td>37569</td>\n",
       "      <td>37569</td>\n",
       "      <td>37569</td>\n",
       "    </tr>\n",
       "  </tbody>\n",
       "</table>\n",
       "</div>"
      ],
      "text/plain": [
       "             idx  sentence  label  data_type\n",
       "sentiment                                   \n",
       "bad        29780     29780  29780      29780\n",
       "good       37569     37569  37569      37569"
      ]
     },
     "execution_count": 6,
     "metadata": {},
     "output_type": "execute_result"
    }
   ],
   "source": [
    "df.groupby(['sentiment']).count()"
   ]
  },
  {
   "cell_type": "code",
   "execution_count": 7,
   "id": "731e5a17-8ab7-4d19-a012-05eeabab1d90",
   "metadata": {
    "tags": []
   },
   "outputs": [],
   "source": [
    "# Load BERT tokenizer\n",
    "pretrained_path = 'bert-base-uncased'  # Replace with the path to the pretrained BERT model\n",
    "tokenizer = BertTokenizer.from_pretrained(\n",
    "    'bert-base-uncased',\n",
    "    do_lower_case=True\n",
    ")\n",
    "\n",
    "encoded_data_train_text = tokenizer.batch_encode_plus(\n",
    "    df[df.data_type=='train'].sentence.values,\n",
    "    add_special_tokens=True,\n",
    "    return_attention_mask=True,\n",
    "    padding='longest',\n",
    "    max_length=256,\n",
    "    truncation=True,\n",
    "    return_tensors='pt'\n",
    ")\n",
    "\n",
    "input_ids_train = encoded_data_train_text['input_ids']\n",
    "attention_masks_train = encoded_data_train_text['attention_mask']\n",
    "\n",
    "labels_train = torch.tensor(df[df.data_type=='train'].label.values)\n",
    "\n",
    "encoded_data_val_text = tokenizer.batch_encode_plus(\n",
    "    df[df.data_type=='val'].sentence.values,\n",
    "    add_special_tokens=True,\n",
    "    return_attention_mask=True,\n",
    "    padding='longest',\n",
    "    max_length=256,\n",
    "    truncation=True,\n",
    "    return_tensors='pt'\n",
    ")\n",
    "\n",
    "input_ids_val = encoded_data_val_text['input_ids']\n",
    "attention_masks_val = encoded_data_val_text['attention_mask']\n",
    "\n",
    "labels_val = torch.tensor(df[df.data_type=='val'].label.values)"
   ]
  },
  {
   "cell_type": "code",
   "execution_count": 8,
   "id": "42125069-fd5d-49c0-8032-2be61cb2a6d3",
   "metadata": {
    "tags": []
   },
   "outputs": [
    {
     "data": {
      "text/plain": [
       "(57246, 10103)"
      ]
     },
     "execution_count": 8,
     "metadata": {},
     "output_type": "execute_result"
    }
   ],
   "source": [
    "dataset_train = TensorDataset(input_ids_train, attention_masks_train, labels_train)\n",
    "dataset_val = TensorDataset(input_ids_val, attention_masks_val, labels_val)\n",
    "len(dataset_train), len(dataset_val)"
   ]
  },
  {
   "cell_type": "code",
   "execution_count": 9,
   "id": "9a2f7e02-8423-4787-994e-d599ab86b123",
   "metadata": {},
   "outputs": [],
   "source": [
    "from transformers import BertModel, BertConfig, GPT2Model, GPT2Config\n",
    "\n",
    "num_classes = 2\n",
    "\n",
    "class SentimentModel(nn.Module):\n",
    "    def __init__(self, pretrained_bert_path, pretrained_gpt_path):\n",
    "        super(SentimentModel, self).__init__()\n",
    "\n",
    "        gpt_config = GPT2Config.from_pretrained(\n",
    "            pretrained_gpt_path,\n",
    "            hidden_dropout_prob=0.3,\n",
    "            attention_probs_dropout_prob=0.1)\n",
    "        self.gpt = GPT2Model.from_pretrained(pretrained_gpt_path, config=gpt_config)\n",
    "        \n",
    "        bert_config = BertConfig.from_pretrained(pretrained_bert_path)\n",
    "        self.bert = BertModel.from_pretrained(pretrained_bert_path, config=bert_config)\n",
    "        \n",
    "        self.dropout = nn.Dropout(0.2)\n",
    "        self.fc = nn.Linear(bert_config.hidden_size + gpt_config.hidden_size, num_classes)\n",
    "\n",
    "    def forward(self, input_ids, attention_mask, labels=None):\n",
    "        gpt_outputs = self.gpt(input_ids, attention_mask=attention_mask)[0]\n",
    "        bert_outputs = self.bert(input_ids, attention_mask=attention_mask)[0]\n",
    "        \n",
    "        gpt_last_hidden_state = self.dropout(gpt_outputs[:, -1, :])  # Use the last hidden state\n",
    "        bert_pooled_output = self.dropout(bert_outputs[:, 0, :])  # Use the [CLS] token representation\n",
    "        \n",
    "        combined_outputs = torch.cat((gpt_last_hidden_state, bert_pooled_output), dim=1)\n",
    "        \n",
    "        logits = self.fc(combined_outputs)\n",
    "        outputs = nn.functional.softmax(logits, dim=1)\n",
    "        \n",
    "        if labels is not None:\n",
    "            loss = nn.CrossEntropyLoss()(logits.view(-1, num_classes), labels.view(-1))\n",
    "            return loss, outputs, labels\n",
    "        else:\n",
    "            return outputs"
   ]
  },
  {
   "cell_type": "code",
   "execution_count": 10,
   "id": "7d131f86-ee7e-49b3-a104-a61841bb78d3",
   "metadata": {},
   "outputs": [
    {
     "name": "stderr",
     "output_type": "stream",
     "text": [
      "Some weights of the model checkpoint at bert-base-uncased were not used when initializing BertModel: ['cls.predictions.transform.dense.weight', 'cls.predictions.transform.LayerNorm.bias', 'cls.seq_relationship.weight', 'cls.seq_relationship.bias', 'cls.predictions.bias', 'cls.predictions.transform.dense.bias', 'cls.predictions.transform.LayerNorm.weight']\n",
      "- This IS expected if you are initializing BertModel from the checkpoint of a model trained on another task or with another architecture (e.g. initializing a BertForSequenceClassification model from a BertForPreTraining model).\n",
      "- This IS NOT expected if you are initializing BertModel from the checkpoint of a model that you expect to be exactly identical (initializing a BertForSequenceClassification model from a BertForSequenceClassification model).\n"
     ]
    }
   ],
   "source": [
    "# Create model instance\n",
    "model = SentimentModel('bert-base-uncased', 'gpt2')"
   ]
  },
  {
   "cell_type": "code",
   "execution_count": 11,
   "id": "60757b1f-b1d9-468b-9ad0-3d59e4a7da03",
   "metadata": {},
   "outputs": [],
   "source": [
    "# Define the regularization strength\n",
    "lambda_l1 = 0.001\n",
    "lambda_l2 = 0.001\n",
    "# Define the loss function\n",
    "criterion = nn.CrossEntropyLoss()"
   ]
  },
  {
   "cell_type": "code",
   "execution_count": 12,
   "id": "834c8c87-40a1-49c6-8e7b-307b931aec01",
   "metadata": {},
   "outputs": [
    {
     "data": {
      "text/plain": [
       "SentimentModel(\n",
       "  (gpt): GPT2Model(\n",
       "    (wte): Embedding(50257, 768)\n",
       "    (wpe): Embedding(1024, 768)\n",
       "    (drop): Dropout(p=0.1, inplace=False)\n",
       "    (h): ModuleList(\n",
       "      (0-11): 12 x GPT2Block(\n",
       "        (ln_1): LayerNorm((768,), eps=1e-05, elementwise_affine=True)\n",
       "        (attn): GPT2Attention(\n",
       "          (c_attn): Conv1D()\n",
       "          (c_proj): Conv1D()\n",
       "          (attn_dropout): Dropout(p=0.1, inplace=False)\n",
       "          (resid_dropout): Dropout(p=0.1, inplace=False)\n",
       "        )\n",
       "        (ln_2): LayerNorm((768,), eps=1e-05, elementwise_affine=True)\n",
       "        (mlp): GPT2MLP(\n",
       "          (c_fc): Conv1D()\n",
       "          (c_proj): Conv1D()\n",
       "          (act): NewGELUActivation()\n",
       "          (dropout): Dropout(p=0.1, inplace=False)\n",
       "        )\n",
       "      )\n",
       "    )\n",
       "    (ln_f): LayerNorm((768,), eps=1e-05, elementwise_affine=True)\n",
       "  )\n",
       "  (bert): BertModel(\n",
       "    (embeddings): BertEmbeddings(\n",
       "      (word_embeddings): Embedding(30522, 768, padding_idx=0)\n",
       "      (position_embeddings): Embedding(512, 768)\n",
       "      (token_type_embeddings): Embedding(2, 768)\n",
       "      (LayerNorm): LayerNorm((768,), eps=1e-12, elementwise_affine=True)\n",
       "      (dropout): Dropout(p=0.1, inplace=False)\n",
       "    )\n",
       "    (encoder): BertEncoder(\n",
       "      (layer): ModuleList(\n",
       "        (0-11): 12 x BertLayer(\n",
       "          (attention): BertAttention(\n",
       "            (self): BertSelfAttention(\n",
       "              (query): Linear(in_features=768, out_features=768, bias=True)\n",
       "              (key): Linear(in_features=768, out_features=768, bias=True)\n",
       "              (value): Linear(in_features=768, out_features=768, bias=True)\n",
       "              (dropout): Dropout(p=0.1, inplace=False)\n",
       "            )\n",
       "            (output): BertSelfOutput(\n",
       "              (dense): Linear(in_features=768, out_features=768, bias=True)\n",
       "              (LayerNorm): LayerNorm((768,), eps=1e-12, elementwise_affine=True)\n",
       "              (dropout): Dropout(p=0.1, inplace=False)\n",
       "            )\n",
       "          )\n",
       "          (intermediate): BertIntermediate(\n",
       "            (dense): Linear(in_features=768, out_features=3072, bias=True)\n",
       "            (intermediate_act_fn): GELUActivation()\n",
       "          )\n",
       "          (output): BertOutput(\n",
       "            (dense): Linear(in_features=3072, out_features=768, bias=True)\n",
       "            (LayerNorm): LayerNorm((768,), eps=1e-12, elementwise_affine=True)\n",
       "            (dropout): Dropout(p=0.1, inplace=False)\n",
       "          )\n",
       "        )\n",
       "      )\n",
       "    )\n",
       "    (pooler): BertPooler(\n",
       "      (dense): Linear(in_features=768, out_features=768, bias=True)\n",
       "      (activation): Tanh()\n",
       "    )\n",
       "  )\n",
       "  (dropout): Dropout(p=0.2, inplace=False)\n",
       "  (fc): Linear(in_features=1536, out_features=2, bias=True)\n",
       ")"
      ]
     },
     "execution_count": 12,
     "metadata": {},
     "output_type": "execute_result"
    }
   ],
   "source": [
    "# Set device (CPU or GPU)\n",
    "device = torch.device(\"cuda\" if torch.cuda.is_available() else \"cpu\")\n",
    "model.to(device)"
   ]
  },
  {
   "cell_type": "code",
   "execution_count": 13,
   "id": "c610d351-0be0-4899-bf58-2397193b5ed1",
   "metadata": {},
   "outputs": [],
   "source": [
    "from transformers import TrainingArguments, Trainer, logging\n",
    "training_args = TrainingArguments(\n",
    "    per_device_train_batch_size=1,\n",
    "    gradient_accumulation_steps=4,\n",
    "    gradient_checkpointing=True,\n",
    "    fp16=True,\n",
    "    **default_args,\n",
    ")"
   ]
  },
  {
   "cell_type": "code",
   "execution_count": 14,
   "id": "7feb2f9d-26d7-41ed-b138-f2a59173c99a",
   "metadata": {},
   "outputs": [],
   "source": [
    "trainer = Trainer(\n",
    "    model=model,\n",
    "    args=training_args,\n",
    "    train_dataset=dataset_train,\n",
    "    eval_dataset=dataset_val,\n",
    ")"
   ]
  },
  {
   "cell_type": "code",
   "execution_count": 15,
   "id": "cfb9e671-0f31-4a58-bf72-8c13ac04e6a0",
   "metadata": {},
   "outputs": [],
   "source": [
    "from torch.utils.data import DataLoader, RandomSampler, SequentialSampler\n",
    "# Set the batch size and create data loaders for training and validation sets\n",
    "\n",
    "batch_size = 8 #32\n",
    "\n",
    "dataloader_train = DataLoader(\n",
    "    dataset_train,\n",
    "    sampler=RandomSampler(dataset_train),\n",
    "    batch_size=batch_size\n",
    ")\n",
    "\n",
    "dataloader_val = DataLoader(\n",
    "    dataset_val,\n",
    "    sampler=RandomSampler(dataset_val),\n",
    "    batch_size=batch_size\n",
    ")"
   ]
  },
  {
   "cell_type": "code",
   "execution_count": 16,
   "id": "d3bc14be-49bc-4b42-be70-17412957cdaa",
   "metadata": {},
   "outputs": [
    {
     "name": "stderr",
     "output_type": "stream",
     "text": [
      "/home/z123010/anaconda3/lib/python3.10/site-packages/transformers/optimization.py:411: FutureWarning: This implementation of AdamW is deprecated and will be removed in a future version. Use the PyTorch implementation torch.optim.AdamW instead, or set `no_deprecation_warning=True` to disable this warning\n",
      "  warnings.warn(\n"
     ]
    }
   ],
   "source": [
    "from transformers import AdamW, get_linear_schedule_with_warmup\n",
    "\n",
    "optimizer = AdamW(\n",
    "    model.parameters(),\n",
    "    lr=1e-5,\n",
    "    eps=1e-8\n",
    ")\n",
    "\n",
    "epochs = 25\n",
    "patience = 5\n",
    "scheduler = get_linear_schedule_with_warmup(\n",
    "    optimizer,\n",
    "    num_warmup_steps=0,\n",
    "    num_training_steps=len(dataloader_train) * epochs\n",
    ")"
   ]
  },
  {
   "cell_type": "code",
   "execution_count": 17,
   "id": "27c174c9-8e92-42fa-9d81-54260c58251e",
   "metadata": {},
   "outputs": [],
   "source": [
    "import random\n",
    "\n",
    "seed_val = 17\n",
    "random.seed(seed_val) #sets the seed value for the Python built-in pseudo-random generator.\n",
    "np.random.seed(seed_val) #sets the seed value for the NumPy pseudo-random number generator.\n",
    "torch.manual_seed(seed_val) #sets the seed value for the random number generator in PyTorch on the CPU.\n",
    "torch.cuda.manual_seed_all(seed_val) #sets the seed value for the random number generator in PyTorch on the GPU."
   ]
  },
  {
   "cell_type": "code",
   "execution_count": 18,
   "id": "f3a28ec5-87fe-4bdf-b6a1-05bf8b6f6b8e",
   "metadata": {},
   "outputs": [
    {
     "name": "stdout",
     "output_type": "stream",
     "text": [
      "cuda\n"
     ]
    }
   ],
   "source": [
    "device = torch.device('cuda' if torch.cuda.is_available() else 'cpu')\n",
    "model.to(device)\n",
    "\n",
    "print(device)"
   ]
  },
  {
   "cell_type": "code",
   "execution_count": 19,
   "id": "d9c363e7-c757-4bb6-bb2c-d19a126fd165",
   "metadata": {},
   "outputs": [
    {
     "name": "stdout",
     "output_type": "stream",
     "text": [
      "\n",
      "Fold 1\n"
     ]
    },
    {
     "data": {
      "application/vnd.jupyter.widget-view+json": {
       "model_id": "a78b0b9bc1124acfa51b4454709e2bf3",
       "version_major": 2,
       "version_minor": 0
      },
      "text/plain": [
       "  0%|          | 0/25 [00:00<?, ?it/s]"
      ]
     },
     "metadata": {},
     "output_type": "display_data"
    },
    {
     "data": {
      "application/vnd.jupyter.widget-view+json": {
       "model_id": "",
       "version_major": 2,
       "version_minor": 0
      },
      "text/plain": [
       "Epoch 1:   0%|          | 0/6441 [00:00<?, ?it/s]"
      ]
     },
     "metadata": {},
     "output_type": "display_data"
    },
    {
     "name": "stdout",
     "output_type": "stream",
     "text": [
      "\n",
      "Epoch 1\n",
      "Training loss: 0.2911232434162247\n",
      "Validation loss: 0.2201896571606598\n",
      "F1 Score (weighted): 0.9463308784127752\n"
     ]
    },
    {
     "data": {
      "application/vnd.jupyter.widget-view+json": {
       "model_id": "",
       "version_major": 2,
       "version_minor": 0
      },
      "text/plain": [
       "Epoch 2:   0%|          | 0/6441 [00:00<?, ?it/s]"
      ]
     },
     "metadata": {},
     "output_type": "display_data"
    },
    {
     "name": "stdout",
     "output_type": "stream",
     "text": [
      "\n",
      "Epoch 2\n",
      "Training loss: 0.17023169246298145\n",
      "Validation loss: 0.20105829936955918\n",
      "F1 Score (weighted): 0.9514152962081902\n",
      "\u001b[92m41.53% Training loss decreased compared to the previous epoch\u001b[0m\n",
      "\u001b[92m8.69% Validation loss decreased compared to the previous epoch\u001b[0m\n",
      "\u001b[92m0.54% F1 Score increased compared to the previous epoch\u001b[0m\n"
     ]
    },
    {
     "data": {
      "application/vnd.jupyter.widget-view+json": {
       "model_id": "",
       "version_major": 2,
       "version_minor": 0
      },
      "text/plain": [
       "Epoch 3:   0%|          | 0/6441 [00:00<?, ?it/s]"
      ]
     },
     "metadata": {},
     "output_type": "display_data"
    },
    {
     "name": "stdout",
     "output_type": "stream",
     "text": [
      "\n",
      "Epoch 3\n",
      "Training loss: 0.11753806577447466\n",
      "Validation loss: 0.2633244227279586\n",
      "F1 Score (weighted): 0.9484431093505377\n",
      "\u001b[92m30.95% Training loss decreased compared to the previous epoch\u001b[0m\n",
      "\u001b[91m30.97% Validation loss increased compared to the previous epoch\u001b[0m\n",
      "\u001b[91m0.31% F1 Score decreased compared to the previous epoch\u001b[0m\n"
     ]
    },
    {
     "data": {
      "application/vnd.jupyter.widget-view+json": {
       "model_id": "",
       "version_major": 2,
       "version_minor": 0
      },
      "text/plain": [
       "Epoch 4:   0%|          | 0/6441 [00:00<?, ?it/s]"
      ]
     },
     "metadata": {},
     "output_type": "display_data"
    },
    {
     "name": "stdout",
     "output_type": "stream",
     "text": [
      "\n",
      "Epoch 4\n",
      "Training loss: 0.08409473377878547\n",
      "Validation loss: 0.3198774276184423\n",
      "F1 Score (weighted): 0.9499789834743766\n",
      "\u001b[92m28.45% Training loss decreased compared to the previous epoch\u001b[0m\n",
      "\u001b[91m21.48% Validation loss increased compared to the previous epoch\u001b[0m\n",
      "\u001b[92m0.16% F1 Score increased compared to the previous epoch\u001b[0m\n"
     ]
    },
    {
     "data": {
      "application/vnd.jupyter.widget-view+json": {
       "model_id": "",
       "version_major": 2,
       "version_minor": 0
      },
      "text/plain": [
       "Epoch 5:   0%|          | 0/6441 [00:00<?, ?it/s]"
      ]
     },
     "metadata": {},
     "output_type": "display_data"
    },
    {
     "name": "stdout",
     "output_type": "stream",
     "text": [
      "\n",
      "Epoch 5\n",
      "Training loss: 0.06270483159223977\n",
      "Validation loss: 0.324973735028509\n",
      "F1 Score (weighted): 0.9457392175621978\n",
      "\u001b[92m25.44% Training loss decreased compared to the previous epoch\u001b[0m\n",
      "\u001b[91m1.59% Validation loss increased compared to the previous epoch\u001b[0m\n",
      "\u001b[91m0.45% F1 Score decreased compared to the previous epoch\u001b[0m\n"
     ]
    },
    {
     "data": {
      "application/vnd.jupyter.widget-view+json": {
       "model_id": "",
       "version_major": 2,
       "version_minor": 0
      },
      "text/plain": [
       "Epoch 6:   0%|          | 0/6441 [00:00<?, ?it/s]"
      ]
     },
     "metadata": {},
     "output_type": "display_data"
    },
    {
     "name": "stdout",
     "output_type": "stream",
     "text": [
      "\n",
      "Epoch 6\n",
      "Training loss: 0.04729338933347368\n",
      "Validation loss: 0.3748401251790832\n",
      "F1 Score (weighted): 0.9475558444196204\n",
      "\u001b[92m24.58% Training loss decreased compared to the previous epoch\u001b[0m\n",
      "\u001b[91m15.34% Validation loss increased compared to the previous epoch\u001b[0m\n",
      "\u001b[92m0.19% F1 Score increased compared to the previous epoch\u001b[0m\n"
     ]
    },
    {
     "data": {
      "application/vnd.jupyter.widget-view+json": {
       "model_id": "",
       "version_major": 2,
       "version_minor": 0
      },
      "text/plain": [
       "Epoch 7:   0%|          | 0/6441 [00:00<?, ?it/s]"
      ]
     },
     "metadata": {},
     "output_type": "display_data"
    },
    {
     "name": "stdout",
     "output_type": "stream",
     "text": [
      "\n",
      "Epoch 7\n",
      "Training loss: 0.039367151627350494\n",
      "Validation loss: 0.35559332125030374\n",
      "F1 Score (weighted): 0.9470820557917798\n",
      "\u001b[92m16.76% Training loss decreased compared to the previous epoch\u001b[0m\n",
      "\u001b[92m5.13% Validation loss decreased compared to the previous epoch\u001b[0m\n",
      "\u001b[91m0.05% F1 Score decreased compared to the previous epoch\u001b[0m\n",
      "\n",
      "Early stopping triggered. Training stopped.\n",
      "\n",
      "Total training time: 140.17828956047694 minutes\n",
      "Final Accuracy: 0.9470742358078602\n",
      "Final Precision: 0.9470927428769078\n"
     ]
    },
    {
     "data": {
      "image/png": "[encoded data removed]",
      "text/plain": [
       "<Figure size 800x600 with 1 Axes>"
      ]
     },
     "metadata": {},
     "output_type": "display_data"
    },
    {
     "name": "stdout",
     "output_type": "stream",
     "text": [
      "Epoch                 Training Loss         Validation Loss      F1 Score            Accuracy              Precision\n",
      "--------------------  --------------------  -------------------  ------------------  ------------------  -----------\n",
      "1                     0.2911232434162247    0.2201896571606598   0.9463308784127752  0.9463755458515284     0.946367\n",
      "2                     \u001b[92m0.17023169246298145\u001b[0m   \u001b[92m0.20105829936955918\u001b[0m  \u001b[92m0.9514152962081902\u001b[0m  \u001b[92m\u001b[92m0.9514152962081902\u001b[0m\u001b[0m     \u001b[92m\u001b[92m0.951415\u001b[0m\u001b[0m\n",
      "3                     \u001b[92m0.11753806577447466\u001b[0m   \u001b[91m0.2633244227279586\u001b[0m   \u001b[91m0.9484431093505377\u001b[0m  \u001b[91m\u001b[91m0.9484431093505377\u001b[0m\u001b[0m     \u001b[91m\u001b[91m0.948443\u001b[0m\u001b[0m\n",
      "4                     \u001b[92m0.08409473377878547\u001b[0m   \u001b[91m0.3198774276184423\u001b[0m   \u001b[92m0.9499789834743766\u001b[0m  \u001b[92m\u001b[92m0.9499789834743766\u001b[0m\u001b[0m     \u001b[92m\u001b[92m0.949979\u001b[0m\u001b[0m\n",
      "5                     \u001b[92m0.06270483159223977\u001b[0m   \u001b[91m0.324973735028509\u001b[0m    \u001b[91m0.9457392175621978\u001b[0m  \u001b[91m\u001b[91m0.9457392175621978\u001b[0m\u001b[0m     \u001b[91m\u001b[91m0.945739\u001b[0m\u001b[0m\n",
      "6                     \u001b[92m0.04729338933347368\u001b[0m   \u001b[91m0.3748401251790832\u001b[0m   \u001b[92m0.9475558444196204\u001b[0m  \u001b[92m\u001b[92m0.9475558444196204\u001b[0m\u001b[0m     \u001b[92m\u001b[92m0.947556\u001b[0m\u001b[0m\n",
      "7                     \u001b[92m0.039367151627350494\u001b[0m  \u001b[92m0.35559332125030374\u001b[0m  \u001b[91m0.9470820557917798\u001b[0m  \u001b[91m\u001b[91m0.9470820557917798\u001b[0m\u001b[0m     \u001b[91m\u001b[91m0.947082\u001b[0m\u001b[0m\n",
      "Total Training Time                                                                                      8410.7\n",
      "Final Precision                                                                                             0.947093\n",
      "Total Time (minutes)                                                                                      140.178\n",
      "\n",
      "Fold 2\n"
     ]
    },
    {
     "data": {
      "application/vnd.jupyter.widget-view+json": {
       "model_id": "8882f19758aa47748820b3bf89120fe6",
       "version_major": 2,
       "version_minor": 0
      },
      "text/plain": [
       "  0%|          | 0/25 [00:00<?, ?it/s]"
      ]
     },
     "metadata": {},
     "output_type": "display_data"
    },
    {
     "data": {
      "application/vnd.jupyter.widget-view+json": {
       "model_id": "",
       "version_major": 2,
       "version_minor": 0
      },
      "text/plain": [
       "Epoch 1:   0%|          | 0/6441 [00:00<?, ?it/s]"
      ]
     },
     "metadata": {},
     "output_type": "display_data"
    },
    {
     "name": "stdout",
     "output_type": "stream",
     "text": [
      "\n",
      "Epoch 1\n",
      "Training loss: 0.06079270365274461\n",
      "Validation loss: 0.015534142532426777\n",
      "F1 Score (weighted): 0.9956334592910762\n"
     ]
    },
    {
     "data": {
      "application/vnd.jupyter.widget-view+json": {
       "model_id": "",
       "version_major": 2,
       "version_minor": 0
      },
      "text/plain": [
       "Epoch 2:   0%|          | 0/6441 [00:00<?, ?it/s]"
      ]
     },
     "metadata": {},
     "output_type": "display_data"
    },
    {
     "name": "stdout",
     "output_type": "stream",
     "text": [
      "\n",
      "Epoch 2\n",
      "Training loss: 0.036907338753145016\n",
      "Validation loss: 0.02705232424961762\n",
      "F1 Score (weighted): 0.9942356876590445\n",
      "\u001b[92m39.29% Training loss decreased compared to the previous epoch\u001b[0m\n",
      "\u001b[91m74.15% Validation loss increased compared to the previous epoch\u001b[0m\n",
      "\u001b[91m0.14% F1 Score decreased compared to the previous epoch\u001b[0m\n"
     ]
    },
    {
     "data": {
      "application/vnd.jupyter.widget-view+json": {
       "model_id": "",
       "version_major": 2,
       "version_minor": 0
      },
      "text/plain": [
       "Epoch 3:   0%|          | 0/6441 [00:00<?, ?it/s]"
      ]
     },
     "metadata": {},
     "output_type": "display_data"
    },
    {
     "name": "stdout",
     "output_type": "stream",
     "text": [
      "\n",
      "Epoch 3\n",
      "Training loss: 0.025800070877492493\n",
      "Validation loss: 0.04043604602478473\n",
      "F1 Score (weighted): 0.9928391678205903\n",
      "\u001b[92m30.1% Training loss decreased compared to the previous epoch\u001b[0m\n",
      "\u001b[91m49.47% Validation loss increased compared to the previous epoch\u001b[0m\n",
      "\u001b[91m0.14% F1 Score decreased compared to the previous epoch\u001b[0m\n"
     ]
    },
    {
     "data": {
      "application/vnd.jupyter.widget-view+json": {
       "model_id": "",
       "version_major": 2,
       "version_minor": 0
      },
      "text/plain": [
       "Epoch 4:   0%|          | 0/6441 [00:00<?, ?it/s]"
      ]
     },
     "metadata": {},
     "output_type": "display_data"
    },
    {
     "name": "stdout",
     "output_type": "stream",
     "text": [
      "\n",
      "Epoch 4\n",
      "Training loss: 0.018285424166034795\n",
      "Validation loss: 0.0433217800999188\n",
      "F1 Score (weighted): 0.9924895499806508\n",
      "\u001b[92m29.13% Training loss decreased compared to the previous epoch\u001b[0m\n",
      "\u001b[91m7.14% Validation loss increased compared to the previous epoch\u001b[0m\n",
      "\u001b[91m0.04% F1 Score decreased compared to the previous epoch\u001b[0m\n"
     ]
    },
    {
     "data": {
      "application/vnd.jupyter.widget-view+json": {
       "model_id": "",
       "version_major": 2,
       "version_minor": 0
      },
      "text/plain": [
       "Epoch 5:   0%|          | 0/6441 [00:00<?, ?it/s]"
      ]
     },
     "metadata": {},
     "output_type": "display_data"
    },
    {
     "name": "stdout",
     "output_type": "stream",
     "text": [
      "\n",
      "Epoch 5\n",
      "Training loss: 0.015085766006601092\n",
      "Validation loss: 0.05077398906759396\n",
      "F1 Score (weighted): 0.9926643627262562\n",
      "\u001b[92m17.5% Training loss decreased compared to the previous epoch\u001b[0m\n",
      "\u001b[91m17.2% Validation loss increased compared to the previous epoch\u001b[0m\n",
      "\u001b[92m0.02% F1 Score increased compared to the previous epoch\u001b[0m\n"
     ]
    },
    {
     "data": {
      "application/vnd.jupyter.widget-view+json": {
       "model_id": "",
       "version_major": 2,
       "version_minor": 0
      },
      "text/plain": [
       "Epoch 6:   0%|          | 0/6441 [00:00<?, ?it/s]"
      ]
     },
     "metadata": {},
     "output_type": "display_data"
    },
    {
     "name": "stdout",
     "output_type": "stream",
     "text": [
      "\n",
      "Epoch 6\n",
      "Training loss: 0.013505485170435823\n",
      "Validation loss: 0.07279888318009535\n",
      "F1 Score (weighted): 0.9910903907924109\n",
      "\u001b[92m10.48% Training loss decreased compared to the previous epoch\u001b[0m\n",
      "\u001b[91m43.38% Validation loss increased compared to the previous epoch\u001b[0m\n",
      "\u001b[91m0.16% F1 Score decreased compared to the previous epoch\u001b[0m\n",
      "\n",
      "Early stopping triggered. Training stopped.\n",
      "\n",
      "Total training time: 120.04790380795797 minutes\n",
      "Final Accuracy: 0.9910917030567685\n",
      "Final Precision: 0.9910920844377491\n"
     ]
    },
    {
     "data": {
      "image/png": "[encoded data removed]",
      "text/plain": [
       "<Figure size 800x600 with 1 Axes>"
      ]
     },
     "metadata": {},
     "output_type": "display_data"
    },
    {
     "name": "stdout",
     "output_type": "stream",
     "text": [
      "Epoch                 Training Loss         Validation Loss       F1 Score            Accuracy              Precision\n",
      "--------------------  --------------------  --------------------  ------------------  ------------------  -----------\n",
      "1                     0.06079270365274461   0.015534142532426777  0.9956334592910762  0.9956331877729258     0.995634\n",
      "2                     \u001b[92m0.036907338753145016\u001b[0m  \u001b[91m0.02705232424961762\u001b[0m   \u001b[91m0.9942356876590445\u001b[0m  \u001b[91m\u001b[91m0.9942356876590445\u001b[0m\u001b[0m     \u001b[91m\u001b[91m0.994236\u001b[0m\u001b[0m\n",
      "3                     \u001b[92m0.025800070877492493\u001b[0m  \u001b[91m0.04043604602478473\u001b[0m   \u001b[91m0.9928391678205903\u001b[0m  \u001b[91m\u001b[91m0.9928391678205903\u001b[0m\u001b[0m     \u001b[91m\u001b[91m0.992839\u001b[0m\u001b[0m\n",
      "4                     \u001b[92m0.018285424166034795\u001b[0m  \u001b[91m0.0433217800999188\u001b[0m    \u001b[91m0.9924895499806508\u001b[0m  \u001b[91m\u001b[91m0.9924895499806508\u001b[0m\u001b[0m     \u001b[91m\u001b[91m0.99249\u001b[0m\u001b[0m\n",
      "5                     \u001b[92m0.015085766006601092\u001b[0m  \u001b[91m0.05077398906759396\u001b[0m   \u001b[92m0.9926643627262562\u001b[0m  \u001b[92m\u001b[92m0.9926643627262562\u001b[0m\u001b[0m     \u001b[92m\u001b[92m0.992664\u001b[0m\u001b[0m\n",
      "6                     \u001b[92m0.013505485170435823\u001b[0m  \u001b[91m0.07279888318009535\u001b[0m   \u001b[91m0.9910903907924109\u001b[0m  \u001b[91m\u001b[91m0.9910903907924109\u001b[0m\u001b[0m     \u001b[91m\u001b[91m0.99109\u001b[0m\u001b[0m\n",
      "Total Training Time                                                                                       7202.87\n",
      "Final Precision                                                                                              0.991092\n",
      "Total Time (minutes)                                                                                       120.048\n",
      "\n",
      "Fold 3\n"
     ]
    },
    {
     "data": {
      "application/vnd.jupyter.widget-view+json": {
       "model_id": "5f3d22e0e0774499b202bd08b038fc75",
       "version_major": 2,
       "version_minor": 0
      },
      "text/plain": [
       "  0%|          | 0/25 [00:00<?, ?it/s]"
      ]
     },
     "metadata": {},
     "output_type": "display_data"
    },
    {
     "data": {
      "application/vnd.jupyter.widget-view+json": {
       "model_id": "",
       "version_major": 2,
       "version_minor": 0
      },
      "text/plain": [
       "Epoch 1:   0%|          | 0/6441 [00:00<?, ?it/s]"
      ]
     },
     "metadata": {},
     "output_type": "display_data"
    },
    {
     "name": "stdout",
     "output_type": "stream",
     "text": [
      "\n",
      "Epoch 1\n",
      "Training loss: 0.015364977024763988\n",
      "Validation loss: 0.0045870494750069254\n",
      "F1 Score (weighted): 0.9991266553782947\n"
     ]
    },
    {
     "data": {
      "application/vnd.jupyter.widget-view+json": {
       "model_id": "",
       "version_major": 2,
       "version_minor": 0
      },
      "text/plain": [
       "Epoch 2:   0%|          | 0/6441 [00:00<?, ?it/s]"
      ]
     },
     "metadata": {},
     "output_type": "display_data"
    },
    {
     "name": "stdout",
     "output_type": "stream",
     "text": [
      "\n",
      "Epoch 2\n",
      "Training loss: 0.009271880722965186\n",
      "Validation loss: 0.007521709432451227\n",
      "F1 Score (weighted): 0.9984279154157246\n",
      "\u001b[92m39.66% Training loss decreased compared to the previous epoch\u001b[0m\n",
      "\u001b[91m63.98% Validation loss increased compared to the previous epoch\u001b[0m\n",
      "\u001b[91m0.07% F1 Score decreased compared to the previous epoch\u001b[0m\n"
     ]
    },
    {
     "data": {
      "application/vnd.jupyter.widget-view+json": {
       "model_id": "",
       "version_major": 2,
       "version_minor": 0
      },
      "text/plain": [
       "Epoch 3:   0%|          | 0/6441 [00:00<?, ?it/s]"
      ]
     },
     "metadata": {},
     "output_type": "display_data"
    },
    {
     "name": "stdout",
     "output_type": "stream",
     "text": [
      "\n",
      "Epoch 3\n",
      "Training loss: 0.007403825047244645\n",
      "Validation loss: 0.014207505958070825\n",
      "F1 Score (weighted): 0.9973799661348842\n",
      "\u001b[92m20.15% Training loss decreased compared to the previous epoch\u001b[0m\n",
      "\u001b[91m88.89% Validation loss increased compared to the previous epoch\u001b[0m\n",
      "\u001b[91m0.1% F1 Score decreased compared to the previous epoch\u001b[0m\n"
     ]
    },
    {
     "data": {
      "application/vnd.jupyter.widget-view+json": {
       "model_id": "",
       "version_major": 2,
       "version_minor": 0
      },
      "text/plain": [
       "Epoch 4:   0%|          | 0/6441 [00:00<?, ?it/s]"
      ]
     },
     "metadata": {},
     "output_type": "display_data"
    },
    {
     "name": "stdout",
     "output_type": "stream",
     "text": [
      "\n",
      "Epoch 4\n",
      "Training loss: 0.006477377583327816\n",
      "Validation loss: 0.009616382718545907\n",
      "F1 Score (weighted): 0.9984278507510402\n",
      "\u001b[92m12.51% Training loss decreased compared to the previous epoch\u001b[0m\n",
      "\u001b[92m32.31% Validation loss decreased compared to the previous epoch\u001b[0m\n",
      "\u001b[92m0.11% F1 Score increased compared to the previous epoch\u001b[0m\n"
     ]
    },
    {
     "data": {
      "application/vnd.jupyter.widget-view+json": {
       "model_id": "",
       "version_major": 2,
       "version_minor": 0
      },
      "text/plain": [
       "Epoch 5:   0%|          | 0/6441 [00:00<?, ?it/s]"
      ]
     },
     "metadata": {},
     "output_type": "display_data"
    },
    {
     "name": "stdout",
     "output_type": "stream",
     "text": [
      "\n",
      "Epoch 5\n",
      "Training loss: 0.005978263893512117\n",
      "Validation loss: 0.01206392210676882\n",
      "F1 Score (weighted): 0.9979040155516996\n",
      "\u001b[92m7.71% Training loss decreased compared to the previous epoch\u001b[0m\n",
      "\u001b[91m25.45% Validation loss increased compared to the previous epoch\u001b[0m\n",
      "\u001b[91m0.05% F1 Score decreased compared to the previous epoch\u001b[0m\n"
     ]
    },
    {
     "data": {
      "application/vnd.jupyter.widget-view+json": {
       "model_id": "",
       "version_major": 2,
       "version_minor": 0
      },
      "text/plain": [
       "Epoch 6:   0%|          | 0/6441 [00:00<?, ?it/s]"
      ]
     },
     "metadata": {},
     "output_type": "display_data"
    },
    {
     "name": "stdout",
     "output_type": "stream",
     "text": [
      "\n",
      "Epoch 6\n",
      "Training loss: 0.004776619712205644\n",
      "Validation loss: 0.0119109461728819\n",
      "F1 Score (weighted): 0.9979041004400478\n",
      "\u001b[92m20.1% Training loss decreased compared to the previous epoch\u001b[0m\n",
      "\u001b[92m1.27% Validation loss decreased compared to the previous epoch\u001b[0m\n",
      "\u001b[92m0.0% F1 Score increased compared to the previous epoch\u001b[0m\n",
      "\n",
      "Early stopping triggered. Training stopped.\n",
      "\n",
      "Total training time: 119.96113007068634 minutes\n",
      "Final Accuracy: 0.9979039301310043\n",
      "Final Precision: 0.9979052578252828\n"
     ]
    },
    {
     "data": {
      "image/png": "[encoded data removed]",
      "text/plain": [
       "<Figure size 800x600 with 1 Axes>"
      ]
     },
     "metadata": {},
     "output_type": "display_data"
    },
    {
     "name": "stdout",
     "output_type": "stream",
     "text": [
      "Epoch                 Training Loss         Validation Loss        F1 Score            Accuracy              Precision\n",
      "--------------------  --------------------  ---------------------  ------------------  ------------------  -----------\n",
      "1                     0.015364977024763988  0.0045870494750069254  0.9991266553782947  0.9991266375545852     0.999127\n",
      "2                     \u001b[92m0.009271880722965186\u001b[0m  \u001b[91m0.007521709432451227\u001b[0m   \u001b[91m0.9984279154157246\u001b[0m  \u001b[91m\u001b[91m0.9984279154157246\u001b[0m\u001b[0m     \u001b[91m\u001b[91m0.998428\u001b[0m\u001b[0m\n",
      "3                     \u001b[92m0.007403825047244645\u001b[0m  \u001b[91m0.014207505958070825\u001b[0m   \u001b[91m0.9973799661348842\u001b[0m  \u001b[91m\u001b[91m0.9973799661348842\u001b[0m\u001b[0m     \u001b[91m\u001b[91m0.99738\u001b[0m\u001b[0m\n",
      "4                     \u001b[92m0.006477377583327816\u001b[0m  \u001b[92m0.009616382718545907\u001b[0m   \u001b[92m0.9984278507510402\u001b[0m  \u001b[92m\u001b[92m0.9984278507510402\u001b[0m\u001b[0m     \u001b[92m\u001b[92m0.998428\u001b[0m\u001b[0m\n",
      "5                     \u001b[92m0.005978263893512117\u001b[0m  \u001b[91m0.01206392210676882\u001b[0m    \u001b[91m0.9979040155516996\u001b[0m  \u001b[91m\u001b[91m0.9979040155516996\u001b[0m\u001b[0m     \u001b[91m\u001b[91m0.997904\u001b[0m\u001b[0m\n",
      "6                     \u001b[92m0.004776619712205644\u001b[0m  \u001b[92m0.0119109461728819\u001b[0m     \u001b[92m0.9979041004400478\u001b[0m  \u001b[91m\u001b[92m0.9979041004400478\u001b[0m\u001b[0m     \u001b[92m\u001b[92m0.997904\u001b[0m\u001b[0m\n",
      "Total Training Time                                                                                        7197.67\n",
      "Final Precision                                                                                               0.997905\n",
      "Total Time (minutes)                                                                                        119.961\n",
      "\n",
      "Fold 4\n"
     ]
    },
    {
     "data": {
      "application/vnd.jupyter.widget-view+json": {
       "model_id": "45747c2ef9bf4f668008e3216cffb437",
       "version_major": 2,
       "version_minor": 0
      },
      "text/plain": [
       "  0%|          | 0/25 [00:00<?, ?it/s]"
      ]
     },
     "metadata": {},
     "output_type": "display_data"
    },
    {
     "data": {
      "application/vnd.jupyter.widget-view+json": {
       "model_id": "",
       "version_major": 2,
       "version_minor": 0
      },
      "text/plain": [
       "Epoch 1:   0%|          | 0/6441 [00:00<?, ?it/s]"
      ]
     },
     "metadata": {},
     "output_type": "display_data"
    },
    {
     "name": "stdout",
     "output_type": "stream",
     "text": [
      "\n",
      "Epoch 1\n",
      "Training loss: 0.004539790123034987\n",
      "Validation loss: 0.0009035822551920177\n",
      "F1 Score (weighted): 0.9998253242778005\n"
     ]
    },
    {
     "data": {
      "application/vnd.jupyter.widget-view+json": {
       "model_id": "7394e7cbcfa04dd8812f75378393f574",
       "version_major": 2,
       "version_minor": 0
      },
      "text/plain": [
       "Epoch 2:   0%|          | 0/6441 [00:00<?, ?it/s]"
      ]
     },
     "metadata": {},
     "output_type": "display_data"
    },
    {
     "name": "stdout",
     "output_type": "stream",
     "text": [
      "\n",
      "Epoch 2\n",
      "Training loss: 0.004134895060866511\n",
      "Validation loss: 0.0015221451307841983\n",
      "F1 Score (weighted): 0.9998253242778005\n",
      "\u001b[92m8.92% Training loss decreased compared to the previous epoch\u001b[0m\n",
      "\u001b[91m68.46% Validation loss increased compared to the previous epoch\u001b[0m\n"
     ]
    },
    {
     "data": {
      "application/vnd.jupyter.widget-view+json": {
       "model_id": "d2457fafea6f4358a718021c41f9d772",
       "version_major": 2,
       "version_minor": 0
      },
      "text/plain": [
       "Epoch 3:   0%|          | 0/6441 [00:00<?, ?it/s]"
      ]
     },
     "metadata": {},
     "output_type": "display_data"
    },
    {
     "name": "stdout",
     "output_type": "stream",
     "text": [
      "\n",
      "Epoch 3\n",
      "Training loss: 0.002655165478878692\n",
      "Validation loss: 2.708129231073322e-06\n",
      "F1 Score (weighted): 1.0\n",
      "\u001b[92m35.79% Training loss decreased compared to the previous epoch\u001b[0m\n",
      "\u001b[92m99.82% Validation loss decreased compared to the previous epoch\u001b[0m\n",
      "\u001b[92m0.02% F1 Score increased compared to the previous epoch\u001b[0m\n"
     ]
    },
    {
     "data": {
      "application/vnd.jupyter.widget-view+json": {
       "model_id": "604f3a3dc2be4eeba8722c69da67844b",
       "version_major": 2,
       "version_minor": 0
      },
      "text/plain": [
       "Epoch 4:   0%|          | 0/6441 [00:00<?, ?it/s]"
      ]
     },
     "metadata": {},
     "output_type": "display_data"
    },
    {
     "name": "stdout",
     "output_type": "stream",
     "text": [
      "\n",
      "Epoch 4\n",
      "Training loss: 0.0022212625233667288\n",
      "Validation loss: 8.508716540512084e-05\n",
      "F1 Score (weighted): 1.0\n",
      "\u001b[92m16.34% Training loss decreased compared to the previous epoch\u001b[0m\n",
      "\u001b[91m3041.92% Validation loss increased compared to the previous epoch\u001b[0m\n"
     ]
    },
    {
     "data": {
      "application/vnd.jupyter.widget-view+json": {
       "model_id": "e0e8983777524d99a1992c1f512dfdd1",
       "version_major": 2,
       "version_minor": 0
      },
      "text/plain": [
       "Epoch 5:   0%|          | 0/6441 [00:00<?, ?it/s]"
      ]
     },
     "metadata": {},
     "output_type": "display_data"
    },
    {
     "name": "stdout",
     "output_type": "stream",
     "text": [
      "\n",
      "Epoch 5\n",
      "Training loss: 0.001589747294304425\n",
      "Validation loss: 0.0007145773888692083\n",
      "F1 Score (weighted): 0.9998253242778005\n",
      "\u001b[92m28.43% Training loss decreased compared to the previous epoch\u001b[0m\n",
      "\u001b[91m739.82% Validation loss increased compared to the previous epoch\u001b[0m\n",
      "\u001b[91m0.02% F1 Score decreased compared to the previous epoch\u001b[0m\n"
     ]
    },
    {
     "data": {
      "application/vnd.jupyter.widget-view+json": {
       "model_id": "5fd87176a1304dcb8d0c6de39bc6d442",
       "version_major": 2,
       "version_minor": 0
      },
      "text/plain": [
       "Epoch 6:   0%|          | 0/6441 [00:00<?, ?it/s]"
      ]
     },
     "metadata": {},
     "output_type": "display_data"
    },
    {
     "name": "stdout",
     "output_type": "stream",
     "text": [
      "\n",
      "Epoch 6\n",
      "Training loss: 0.0007089903145817698\n",
      "Validation loss: 1.3673858281141272e-06\n",
      "F1 Score (weighted): 1.0\n",
      "\u001b[92m55.4% Training loss decreased compared to the previous epoch\u001b[0m\n",
      "\u001b[92m99.81% Validation loss decreased compared to the previous epoch\u001b[0m\n",
      "\u001b[92m0.02% F1 Score increased compared to the previous epoch\u001b[0m\n"
     ]
    },
    {
     "data": {
      "application/vnd.jupyter.widget-view+json": {
       "model_id": "bfaac8c7efef4c02a97f5c5c28e66494",
       "version_major": 2,
       "version_minor": 0
      },
      "text/plain": [
       "Epoch 7:   0%|          | 0/6441 [00:00<?, ?it/s]"
      ]
     },
     "metadata": {},
     "output_type": "display_data"
    },
    {
     "name": "stdout",
     "output_type": "stream",
     "text": [
      "\n",
      "Epoch 7\n",
      "Training loss: 0.0010691189232454078\n",
      "Validation loss: 1.532963981551868e-06\n",
      "F1 Score (weighted): 1.0\n",
      "\u001b[91m50.79% Training loss increased compared to the previous epoch\u001b[0m\n",
      "\u001b[91m12.11% Validation loss increased compared to the previous epoch\u001b[0m\n"
     ]
    },
    {
     "data": {
      "application/vnd.jupyter.widget-view+json": {
       "model_id": "ad5bab3479c8484795b98844f31e230e",
       "version_major": 2,
       "version_minor": 0
      },
      "text/plain": [
       "Epoch 8:   0%|          | 0/6441 [00:00<?, ?it/s]"
      ]
     },
     "metadata": {},
     "output_type": "display_data"
    },
    {
     "name": "stdout",
     "output_type": "stream",
     "text": [
      "\n",
      "Epoch 8\n",
      "Training loss: 0.0006569758435845147\n",
      "Validation loss: 1.3091088946030698e-06\n",
      "F1 Score (weighted): 1.0\n",
      "\u001b[92m38.55% Training loss decreased compared to the previous epoch\u001b[0m\n",
      "\u001b[92m14.6% Validation loss decreased compared to the previous epoch\u001b[0m\n"
     ]
    },
    {
     "data": {
      "application/vnd.jupyter.widget-view+json": {
       "model_id": "fb95354efe3a48bc8ffdfc4440471983",
       "version_major": 2,
       "version_minor": 0
      },
      "text/plain": [
       "Epoch 9:   0%|          | 0/6441 [00:00<?, ?it/s]"
      ]
     },
     "metadata": {},
     "output_type": "display_data"
    },
    {
     "name": "stdout",
     "output_type": "stream",
     "text": [
      "\n",
      "Epoch 9\n",
      "Training loss: 0.0007613102187715103\n",
      "Validation loss: 1.2949951936266772e-06\n",
      "F1 Score (weighted): 1.0\n",
      "\u001b[91m15.88% Training loss increased compared to the previous epoch\u001b[0m\n",
      "\u001b[92m1.08% Validation loss decreased compared to the previous epoch\u001b[0m\n"
     ]
    },
    {
     "data": {
      "application/vnd.jupyter.widget-view+json": {
       "model_id": "4aa7126605a64ac9adb6faa5ad03e967",
       "version_major": 2,
       "version_minor": 0
      },
      "text/plain": [
       "Epoch 10:   0%|          | 0/6441 [00:00<?, ?it/s]"
      ]
     },
     "metadata": {},
     "output_type": "display_data"
    },
    {
     "name": "stdout",
     "output_type": "stream",
     "text": [
      "\n",
      "Epoch 10\n",
      "Training loss: 0.0011055928256443403\n",
      "Validation loss: 1.295020166226705e-06\n",
      "F1 Score (weighted): 1.0\n",
      "\u001b[91m45.22% Training loss increased compared to the previous epoch\u001b[0m\n",
      "\u001b[91m0.0% Validation loss increased compared to the previous epoch\u001b[0m\n"
     ]
    },
    {
     "data": {
      "application/vnd.jupyter.widget-view+json": {
       "model_id": "b6362281d969485a934fd026b6511dff",
       "version_major": 2,
       "version_minor": 0
      },
      "text/plain": [
       "Epoch 11:   0%|          | 0/6441 [00:00<?, ?it/s]"
      ]
     },
     "metadata": {},
     "output_type": "display_data"
    },
    {
     "name": "stdout",
     "output_type": "stream",
     "text": [
      "\n",
      "Epoch 11\n",
      "Training loss: 0.000491604595601888\n",
      "Validation loss: 1.2948952954463225e-06\n",
      "F1 Score (weighted): 1.0\n",
      "\u001b[92m55.53% Training loss decreased compared to the previous epoch\u001b[0m\n",
      "\u001b[92m0.01% Validation loss decreased compared to the previous epoch\u001b[0m\n"
     ]
    },
    {
     "data": {
      "application/vnd.jupyter.widget-view+json": {
       "model_id": "88acd86aecfe453a948c2ab6712c7336",
       "version_major": 2,
       "version_minor": 0
      },
      "text/plain": [
       "Epoch 12:   0%|          | 0/6441 [00:00<?, ?it/s]"
      ]
     },
     "metadata": {},
     "output_type": "display_data"
    },
    {
     "name": "stdout",
     "output_type": "stream",
     "text": [
      "\n",
      "Epoch 12\n",
      "Training loss: 0.0005366818870791975\n",
      "Validation loss: 1.2950076825862645e-06\n",
      "F1 Score (weighted): 1.0\n",
      "\u001b[91m9.17% Training loss increased compared to the previous epoch\u001b[0m\n",
      "\u001b[91m0.01% Validation loss increased compared to the previous epoch\u001b[0m\n"
     ]
    },
    {
     "data": {
      "application/vnd.jupyter.widget-view+json": {
       "model_id": "e3d3d088b9664b11bb99785601c0bd97",
       "version_major": 2,
       "version_minor": 0
      },
      "text/plain": [
       "Epoch 13:   0%|          | 0/6441 [00:00<?, ?it/s]"
      ]
     },
     "metadata": {},
     "output_type": "display_data"
    },
    {
     "name": "stdout",
     "output_type": "stream",
     "text": [
      "\n",
      "Epoch 13\n",
      "Training loss: 0.00057991691606898\n",
      "Validation loss: 1.2949827062548951e-06\n",
      "F1 Score (weighted): 1.0\n",
      "\u001b[91m8.06% Training loss increased compared to the previous epoch\u001b[0m\n",
      "\u001b[92m0.0% Validation loss decreased compared to the previous epoch\u001b[0m\n"
     ]
    },
    {
     "data": {
      "application/vnd.jupyter.widget-view+json": {
       "model_id": "8eeb062c38704003907963b274ed9375",
       "version_major": 2,
       "version_minor": 0
      },
      "text/plain": [
       "Epoch 14:   0%|          | 0/6441 [00:00<?, ?it/s]"
      ]
     },
     "metadata": {},
     "output_type": "display_data"
    },
    {
     "name": "stdout",
     "output_type": "stream",
     "text": [
      "\n",
      "Epoch 14\n",
      "Training loss: 0.0009400623416524596\n",
      "Validation loss: 1.2950451409702692e-06\n",
      "F1 Score (weighted): 1.0\n",
      "\u001b[91m62.1% Training loss increased compared to the previous epoch\u001b[0m\n",
      "\u001b[91m0.0% Validation loss increased compared to the previous epoch\u001b[0m\n"
     ]
    },
    {
     "data": {
      "application/vnd.jupyter.widget-view+json": {
       "model_id": "1084c7e01e6c45f2ba0df0648b585449",
       "version_major": 2,
       "version_minor": 0
      },
      "text/plain": [
       "Epoch 15:   0%|          | 0/6441 [00:00<?, ?it/s]"
      ]
     },
     "metadata": {},
     "output_type": "display_data"
    },
    {
     "name": "stdout",
     "output_type": "stream",
     "text": [
      "\n",
      "Epoch 15\n",
      "Training loss: 0.0011594597180623588\n",
      "Validation loss: 1.294982703396846e-06\n",
      "F1 Score (weighted): 1.0\n",
      "\u001b[91m23.34% Training loss increased compared to the previous epoch\u001b[0m\n",
      "\u001b[92m0.0% Validation loss decreased compared to the previous epoch\u001b[0m\n"
     ]
    },
    {
     "data": {
      "application/vnd.jupyter.widget-view+json": {
       "model_id": "cba11de7da0d46e19a088b893a765c45",
       "version_major": 2,
       "version_minor": 0
      },
      "text/plain": [
       "Epoch 16:   0%|          | 0/6441 [00:00<?, ?it/s]"
      ]
     },
     "metadata": {},
     "output_type": "display_data"
    },
    {
     "name": "stdout",
     "output_type": "stream",
     "text": [
      "\n",
      "Epoch 16\n",
      "Training loss: 0.00027348457783104885\n",
      "Validation loss: 1.2950451433519768e-06\n",
      "F1 Score (weighted): 1.0\n",
      "\u001b[92m76.41% Training loss decreased compared to the previous epoch\u001b[0m\n",
      "\u001b[91m0.0% Validation loss increased compared to the previous epoch\u001b[0m\n",
      "\n",
      "Early stopping triggered. Training stopped.\n",
      "\n",
      "Total training time: 319.64317266146344 minutes\n",
      "Final Accuracy: 1.0\n",
      "Final Precision: 1.0\n"
     ]
    },
    {
     "data": {
      "image/png": "[encoded data removed]",
      "text/plain": [
       "<Figure size 800x600 with 1 Axes>"
      ]
     },
     "metadata": {},
     "output_type": "display_data"
    },
    {
     "name": "stdout",
     "output_type": "stream",
     "text": [
      "Epoch                 Training Loss           Validation Loss         F1 Score            Accuracy               Precision\n",
      "--------------------  ----------------------  ----------------------  ------------------  ------------------  ------------\n",
      "1                     0.004539790123034987    0.0009035822551920177   0.9998253242778005  0.999825327510917       0.999825\n",
      "2                     \u001b[92m0.004134895060866511\u001b[0m    \u001b[91m0.0015221451307841983\u001b[0m   0.9998253242778005  \u001b[92m0.9998253242778005\u001b[0m      \u001b[92m0.999825\u001b[0m\n",
      "3                     \u001b[92m0.002655165478878692\u001b[0m    \u001b[92m2.708129231073322e-06\u001b[0m   \u001b[92m1.0\u001b[0m                 \u001b[92m\u001b[92m1.0\u001b[0m\u001b[0m                     \u001b[92m\u001b[92m1\u001b[0m\u001b[0m\n",
      "4                     \u001b[92m0.0022212625233667288\u001b[0m   \u001b[91m8.508716540512084e-05\u001b[0m   1.0                 1.0                     1\n",
      "5                     \u001b[92m0.001589747294304425\u001b[0m    \u001b[91m0.0007145773888692083\u001b[0m   \u001b[91m0.9998253242778005\u001b[0m  \u001b[91m\u001b[91m0.9998253242778005\u001b[0m\u001b[0m      \u001b[91m\u001b[91m0.999825\u001b[0m\u001b[0m\n",
      "6                     \u001b[92m0.0007089903145817698\u001b[0m   \u001b[92m1.3673858281141272e-06\u001b[0m  \u001b[92m1.0\u001b[0m                 \u001b[92m\u001b[92m1.0\u001b[0m\u001b[0m                     \u001b[92m\u001b[92m1\u001b[0m\u001b[0m\n",
      "7                     \u001b[91m0.0010691189232454078\u001b[0m   \u001b[91m1.532963981551868e-06\u001b[0m   1.0                 1.0                     1\n",
      "8                     \u001b[92m0.0006569758435845147\u001b[0m   \u001b[92m1.3091088946030698e-06\u001b[0m  1.0                 1.0                     1\n",
      "9                     \u001b[91m0.0007613102187715103\u001b[0m   \u001b[92m1.2949951936266772e-06\u001b[0m  1.0                 1.0                     1\n",
      "10                    \u001b[91m0.0011055928256443403\u001b[0m   \u001b[91m1.295020166226705e-06\u001b[0m   1.0                 1.0                     1\n",
      "11                    \u001b[92m0.000491604595601888\u001b[0m    \u001b[92m1.2948952954463225e-06\u001b[0m  1.0                 1.0                     1\n",
      "12                    \u001b[91m0.0005366818870791975\u001b[0m   \u001b[91m1.2950076825862645e-06\u001b[0m  1.0                 1.0                     1\n",
      "13                    \u001b[91m0.00057991691606898\u001b[0m     \u001b[92m1.2949827062548951e-06\u001b[0m  1.0                 1.0                     1\n",
      "14                    \u001b[91m0.0009400623416524596\u001b[0m   \u001b[91m1.2950451409702692e-06\u001b[0m  1.0                 1.0                     1\n",
      "15                    \u001b[91m0.0011594597180623588\u001b[0m   \u001b[92m1.294982703396846e-06\u001b[0m   1.0                 1.0                     1\n",
      "16                    \u001b[92m0.00027348457783104885\u001b[0m  \u001b[91m1.2950451433519768e-06\u001b[0m  1.0                 1.0                     1\n",
      "Total Training Time                                                                                           19178.6\n",
      "Final Precision                                                                                                   1\n",
      "Total Time (minutes)                                                                                            319.643\n",
      "\n",
      "Fold 5\n"
     ]
    },
    {
     "data": {
      "application/vnd.jupyter.widget-view+json": {
       "model_id": "5719a0fadb6b4a42baa352b336f411e9",
       "version_major": 2,
       "version_minor": 0
      },
      "text/plain": [
       "  0%|          | 0/25 [00:00<?, ?it/s]"
      ]
     },
     "metadata": {},
     "output_type": "display_data"
    },
    {
     "data": {
      "application/vnd.jupyter.widget-view+json": {
       "model_id": "c69d9b2e134244f4acd64853932156f4",
       "version_major": 2,
       "version_minor": 0
      },
      "text/plain": [
       "Epoch 1:   0%|          | 0/6441 [00:00<?, ?it/s]"
      ]
     },
     "metadata": {},
     "output_type": "display_data"
    },
    {
     "name": "stdout",
     "output_type": "stream",
     "text": [
      "\n",
      "Epoch 1\n",
      "Training loss: 0.0013295976431326431\n",
      "Validation loss: 1.0850534992264506e-06\n",
      "F1 Score (weighted): 1.0\n"
     ]
    },
    {
     "data": {
      "application/vnd.jupyter.widget-view+json": {
       "model_id": "ce54a7e948ac4f8a9cfe9e08050f2751",
       "version_major": 2,
       "version_minor": 0
      },
      "text/plain": [
       "Epoch 2:   0%|          | 0/6441 [00:00<?, ?it/s]"
      ]
     },
     "metadata": {},
     "output_type": "display_data"
    },
    {
     "name": "stdout",
     "output_type": "stream",
     "text": [
      "\n",
      "Epoch 2\n",
      "Training loss: 0.0009328206290774617\n",
      "Validation loss: 1.085115935926581e-06\n",
      "F1 Score (weighted): 1.0\n",
      "\u001b[92m29.84% Training loss decreased compared to the previous epoch\u001b[0m\n",
      "\u001b[91m0.01% Validation loss increased compared to the previous epoch\u001b[0m\n"
     ]
    },
    {
     "data": {
      "application/vnd.jupyter.widget-view+json": {
       "model_id": "8cea7c7c69414cab810875236033892e",
       "version_major": 2,
       "version_minor": 0
      },
      "text/plain": [
       "Epoch 3:   0%|          | 0/6441 [00:00<?, ?it/s]"
      ]
     },
     "metadata": {},
     "output_type": "display_data"
    },
    {
     "name": "stdout",
     "output_type": "stream",
     "text": [
      "\n",
      "Epoch 3\n",
      "Training loss: 0.0008866702953281423\n",
      "Validation loss: 1.0850160397309825e-06\n",
      "F1 Score (weighted): 1.0\n",
      "\u001b[92m4.95% Training loss decreased compared to the previous epoch\u001b[0m\n",
      "\u001b[92m0.01% Validation loss decreased compared to the previous epoch\u001b[0m\n"
     ]
    },
    {
     "data": {
      "application/vnd.jupyter.widget-view+json": {
       "model_id": "d71fb1d38c44439cb6f8647cbc98627d",
       "version_major": 2,
       "version_minor": 0
      },
      "text/plain": [
       "Epoch 4:   0%|          | 0/6441 [00:00<?, ?it/s]"
      ]
     },
     "metadata": {},
     "output_type": "display_data"
    },
    {
     "name": "stdout",
     "output_type": "stream",
     "text": [
      "\n",
      "Epoch 4\n",
      "Training loss: 0.0012187588748598045\n",
      "Validation loss: 1.085028525356179e-06\n",
      "F1 Score (weighted): 1.0\n",
      "\u001b[91m37.45% Training loss increased compared to the previous epoch\u001b[0m\n",
      "\u001b[91m0.0% Validation loss increased compared to the previous epoch\u001b[0m\n"
     ]
    },
    {
     "data": {
      "application/vnd.jupyter.widget-view+json": {
       "model_id": "b1cb2861f6fa4d189659b71d7d12dd0f",
       "version_major": 2,
       "version_minor": 0
      },
      "text/plain": [
       "Epoch 5:   0%|          | 0/6441 [00:00<?, ?it/s]"
      ]
     },
     "metadata": {},
     "output_type": "display_data"
    },
    {
     "name": "stdout",
     "output_type": "stream",
     "text": [
      "\n",
      "Epoch 5\n",
      "Training loss: 0.0010100748372343753\n",
      "Validation loss: 1.0850534998615727e-06\n",
      "F1 Score (weighted): 1.0\n",
      "\u001b[92m17.12% Training loss decreased compared to the previous epoch\u001b[0m\n",
      "\u001b[91m0.0% Validation loss increased compared to the previous epoch\u001b[0m\n"
     ]
    },
    {
     "data": {
      "application/vnd.jupyter.widget-view+json": {
       "model_id": "fd215c746f244376934ea1b657ffc85b",
       "version_major": 2,
       "version_minor": 0
      },
      "text/plain": [
       "Epoch 6:   0%|          | 0/6441 [00:00<?, ?it/s]"
      ]
     },
     "metadata": {},
     "output_type": "display_data"
    },
    {
     "name": "stdout",
     "output_type": "stream",
     "text": [
      "\n",
      "Epoch 6\n",
      "Training loss: 0.0003927037216714601\n",
      "Validation loss: 1.085103449904433e-06\n",
      "F1 Score (weighted): 1.0\n",
      "\u001b[92m61.12% Training loss decreased compared to the previous epoch\u001b[0m\n",
      "\u001b[91m0.0% Validation loss increased compared to the previous epoch\u001b[0m\n"
     ]
    },
    {
     "data": {
      "application/vnd.jupyter.widget-view+json": {
       "model_id": "b25570f42dfc4b32bad0cde7f5ca1066",
       "version_major": 2,
       "version_minor": 0
      },
      "text/plain": [
       "Epoch 7:   0%|          | 0/6441 [00:00<?, ?it/s]"
      ]
     },
     "metadata": {},
     "output_type": "display_data"
    },
    {
     "name": "stdout",
     "output_type": "stream",
     "text": [
      "\n",
      "Epoch 7\n",
      "Training loss: 0.0016425402536037444\n",
      "Validation loss: 1.085115936244142e-06\n",
      "F1 Score (weighted): 1.0\n",
      "\u001b[91m318.26% Training loss increased compared to the previous epoch\u001b[0m\n",
      "\u001b[91m0.0% Validation loss increased compared to the previous epoch\u001b[0m\n"
     ]
    },
    {
     "data": {
      "application/vnd.jupyter.widget-view+json": {
       "model_id": "c4796aed6f0d42ebbd31db971d74cf18",
       "version_major": 2,
       "version_minor": 0
      },
      "text/plain": [
       "Epoch 8:   0%|          | 0/6441 [00:00<?, ?it/s]"
      ]
     },
     "metadata": {},
     "output_type": "display_data"
    },
    {
     "name": "stdout",
     "output_type": "stream",
     "text": [
      "\n",
      "Epoch 8\n",
      "Training loss: 0.0005263454575106102\n",
      "Validation loss: 1.0850784754784298e-06\n",
      "F1 Score (weighted): 1.0\n",
      "\u001b[92m67.96% Training loss decreased compared to the previous epoch\u001b[0m\n",
      "\u001b[92m0.0% Validation loss decreased compared to the previous epoch\u001b[0m\n",
      "\n",
      "Early stopping triggered. Training stopped.\n",
      "\n",
      "Total training time: 159.9203269481659 minutes\n",
      "Final Accuracy: 1.0\n",
      "Final Precision: 1.0\n"
     ]
    },
    {
     "data": {
      "image/png": "[encoded data removed]",
      "text/plain": [
       "<Figure size 800x600 with 1 Axes>"
      ]
     },
     "metadata": {},
     "output_type": "display_data"
    },
    {
     "name": "stdout",
     "output_type": "stream",
     "text": [
      "Epoch                 Training Loss          Validation Loss         F1 Score    Accuracy      Precision\n",
      "--------------------  ---------------------  ----------------------  ----------  ----------  -----------\n",
      "1                     0.0013295976431326431  1.0850534992264506e-06  1.0         1.0                1\n",
      "2                     \u001b[92m0.0009328206290774617\u001b[0m  \u001b[91m1.085115935926581e-06\u001b[0m   1.0         1.0                1\n",
      "3                     \u001b[92m0.0008866702953281423\u001b[0m  \u001b[92m1.0850160397309825e-06\u001b[0m  1.0         1.0                1\n",
      "4                     \u001b[91m0.0012187588748598045\u001b[0m  \u001b[91m1.085028525356179e-06\u001b[0m   1.0         1.0                1\n",
      "5                     \u001b[92m0.0010100748372343753\u001b[0m  \u001b[91m1.0850534998615727e-06\u001b[0m  1.0         1.0                1\n",
      "6                     \u001b[92m0.0003927037216714601\u001b[0m  \u001b[91m1.085103449904433e-06\u001b[0m   1.0         1.0                1\n",
      "7                     \u001b[91m0.0016425402536037444\u001b[0m  \u001b[91m1.085115936244142e-06\u001b[0m   1.0         1.0                1\n",
      "8                     \u001b[92m0.0005263454575106102\u001b[0m  \u001b[92m1.0850784754784298e-06\u001b[0m  1.0         1.0                1\n",
      "Total Training Time                                                                              9595.22\n",
      "Final Precision                                                                                     1\n",
      "Total Time (minutes)                                                                              159.92\n",
      "\n",
      "Fold 6\n"
     ]
    },
    {
     "data": {
      "application/vnd.jupyter.widget-view+json": {
       "model_id": "2cf863f45cea47f2ad858468d228ba1c",
       "version_major": 2,
       "version_minor": 0
      },
      "text/plain": [
       "  0%|          | 0/25 [00:00<?, ?it/s]"
      ]
     },
     "metadata": {},
     "output_type": "display_data"
    },
    {
     "data": {
      "application/vnd.jupyter.widget-view+json": {
       "model_id": "f5915d2b971f4e7d86e32efe5ba587fa",
       "version_major": 2,
       "version_minor": 0
      },
      "text/plain": [
       "Epoch 1:   0%|          | 0/6441 [00:00<?, ?it/s]"
      ]
     },
     "metadata": {},
     "output_type": "display_data"
    },
    {
     "name": "stdout",
     "output_type": "stream",
     "text": [
      "\n",
      "Epoch 1\n",
      "Training loss: 0.001045230375014885\n",
      "Validation loss: 0.00014186352425046644\n",
      "F1 Score (weighted): 0.9998253234104315\n"
     ]
    },
    {
     "data": {
      "application/vnd.jupyter.widget-view+json": {
       "model_id": "e2d00ae4e661438dbd7a6aa3c2c2ee38",
       "version_major": 2,
       "version_minor": 0
      },
      "text/plain": [
       "Epoch 2:   0%|          | 0/6441 [00:00<?, ?it/s]"
      ]
     },
     "metadata": {},
     "output_type": "display_data"
    },
    {
     "name": "stdout",
     "output_type": "stream",
     "text": [
      "\n",
      "Epoch 2\n",
      "Training loss: 0.0010700886094755539\n",
      "Validation loss: 0.00014186358668311766\n",
      "F1 Score (weighted): 0.9998253234104315\n",
      "\u001b[91m2.38% Training loss increased compared to the previous epoch\u001b[0m\n",
      "\u001b[91m0.0% Validation loss increased compared to the previous epoch\u001b[0m\n"
     ]
    },
    {
     "data": {
      "application/vnd.jupyter.widget-view+json": {
       "model_id": "",
       "version_major": 2,
       "version_minor": 0
      },
      "text/plain": [
       "Epoch 3:   0%|          | 0/6441 [00:00<?, ?it/s]"
      ]
     },
     "metadata": {},
     "output_type": "display_data"
    },
    {
     "name": "stdout",
     "output_type": "stream",
     "text": [
      "\n",
      "Epoch 3\n",
      "Training loss: 0.00078434335259922\n",
      "Validation loss: 0.00014186363663316052\n",
      "F1 Score (weighted): 0.9998253234104315\n",
      "\u001b[92m26.7% Training loss decreased compared to the previous epoch\u001b[0m\n",
      "\u001b[91m0.0% Validation loss increased compared to the previous epoch\u001b[0m\n"
     ]
    },
    {
     "data": {
      "application/vnd.jupyter.widget-view+json": {
       "model_id": "",
       "version_major": 2,
       "version_minor": 0
      },
      "text/plain": [
       "Epoch 4:   0%|          | 0/6441 [00:00<?, ?it/s]"
      ]
     },
     "metadata": {},
     "output_type": "display_data"
    },
    {
     "name": "stdout",
     "output_type": "stream",
     "text": [
      "\n",
      "Epoch 4\n",
      "Training loss: 0.0010716128384028823\n",
      "Validation loss: 0.00014186353673918784\n",
      "F1 Score (weighted): 0.9998253234104315\n",
      "\u001b[91m36.63% Training loss increased compared to the previous epoch\u001b[0m\n",
      "\u001b[92m0.0% Validation loss decreased compared to the previous epoch\u001b[0m\n"
     ]
    },
    {
     "data": {
      "application/vnd.jupyter.widget-view+json": {
       "model_id": "",
       "version_major": 2,
       "version_minor": 0
      },
      "text/plain": [
       "Epoch 5:   0%|          | 0/6441 [00:00<?, ?it/s]"
      ]
     },
     "metadata": {},
     "output_type": "display_data"
    },
    {
     "name": "stdout",
     "output_type": "stream",
     "text": [
      "\n",
      "Epoch 5\n",
      "Training loss: 0.0010982645802664094\n",
      "Validation loss: 0.0001418635117627771\n",
      "F1 Score (weighted): 0.9998253234104315\n",
      "\u001b[91m2.49% Training loss increased compared to the previous epoch\u001b[0m\n",
      "\u001b[92m0.0% Validation loss decreased compared to the previous epoch\u001b[0m\n"
     ]
    },
    {
     "data": {
      "application/vnd.jupyter.widget-view+json": {
       "model_id": "",
       "version_major": 2,
       "version_minor": 0
      },
      "text/plain": [
       "Epoch 6:   0%|          | 0/6441 [00:00<?, ?it/s]"
      ]
     },
     "metadata": {},
     "output_type": "display_data"
    },
    {
     "name": "stdout",
     "output_type": "stream",
     "text": [
      "\n",
      "Epoch 6\n",
      "Training loss: 0.001266317422877471\n",
      "Validation loss: 0.00014186348678914498\n",
      "F1 Score (weighted): 0.9998253234104315\n",
      "\u001b[91m15.3% Training loss increased compared to the previous epoch\u001b[0m\n",
      "\u001b[92m0.0% Validation loss decreased compared to the previous epoch\u001b[0m\n"
     ]
    },
    {
     "data": {
      "application/vnd.jupyter.widget-view+json": {
       "model_id": "",
       "version_major": 2,
       "version_minor": 0
      },
      "text/plain": [
       "Epoch 7:   0%|          | 0/6441 [00:00<?, ?it/s]"
      ]
     },
     "metadata": {},
     "output_type": "display_data"
    },
    {
     "name": "stdout",
     "output_type": "stream",
     "text": [
      "\n",
      "Epoch 7\n",
      "Training loss: 0.0008735137773331355\n",
      "Validation loss: 0.00014186352425102217\n",
      "F1 Score (weighted): 0.9998253234104315\n",
      "\u001b[92m31.02% Training loss decreased compared to the previous epoch\u001b[0m\n",
      "\u001b[91m0.0% Validation loss increased compared to the previous epoch\u001b[0m\n"
     ]
    },
    {
     "data": {
      "application/vnd.jupyter.widget-view+json": {
       "model_id": "",
       "version_major": 2,
       "version_minor": 0
      },
      "text/plain": [
       "Epoch 8:   0%|          | 0/6441 [00:00<?, ?it/s]"
      ]
     },
     "metadata": {},
     "output_type": "display_data"
    },
    {
     "name": "stdout",
     "output_type": "stream",
     "text": [
      "\n",
      "Epoch 8\n",
      "Training loss: 0.0010676541962685688\n",
      "Validation loss: 0.00014186356171099396\n",
      "F1 Score (weighted): 0.9998253234104315\n",
      "\u001b[91m22.23% Training loss increased compared to the previous epoch\u001b[0m\n",
      "\u001b[91m0.0% Validation loss increased compared to the previous epoch\u001b[0m\n"
     ]
    },
    {
     "data": {
      "application/vnd.jupyter.widget-view+json": {
       "model_id": "",
       "version_major": 2,
       "version_minor": 0
      },
      "text/plain": [
       "Epoch 9:   0%|          | 0/6441 [00:00<?, ?it/s]"
      ]
     },
     "metadata": {},
     "output_type": "display_data"
    },
    {
     "name": "stdout",
     "output_type": "stream",
     "text": [
      "\n",
      "Epoch 9\n",
      "Training loss: 0.001299921772653505\n",
      "Validation loss: 0.00014186376150433785\n",
      "F1 Score (weighted): 0.9998253234104315\n",
      "\u001b[91m21.75% Training loss increased compared to the previous epoch\u001b[0m\n",
      "\u001b[91m0.0% Validation loss increased compared to the previous epoch\u001b[0m\n"
     ]
    },
    {
     "data": {
      "application/vnd.jupyter.widget-view+json": {
       "model_id": "",
       "version_major": 2,
       "version_minor": 0
      },
      "text/plain": [
       "Epoch 10:   0%|          | 0/6441 [00:00<?, ?it/s]"
      ]
     },
     "metadata": {},
     "output_type": "display_data"
    },
    {
     "name": "stdout",
     "output_type": "stream",
     "text": [
      "\n",
      "Epoch 10\n",
      "Training loss: 0.0009660954323656561\n",
      "Validation loss: 0.00014186342435387387\n",
      "F1 Score (weighted): 0.9998253234104315\n",
      "\u001b[92m25.68% Training loss decreased compared to the previous epoch\u001b[0m\n",
      "\u001b[92m0.0% Validation loss decreased compared to the previous epoch\u001b[0m\n"
     ]
    },
    {
     "data": {
      "application/vnd.jupyter.widget-view+json": {
       "model_id": "",
       "version_major": 2,
       "version_minor": 0
      },
      "text/plain": [
       "Epoch 11:   0%|          | 0/6441 [00:00<?, ?it/s]"
      ]
     },
     "metadata": {},
     "output_type": "display_data"
    },
    {
     "name": "stdout",
     "output_type": "stream",
     "text": [
      "\n",
      "Epoch 11\n",
      "Training loss: 0.0005776159345008985\n",
      "Validation loss: 0.0001418635741972543\n",
      "F1 Score (weighted): 0.9998253234104315\n",
      "\u001b[92m40.21% Training loss decreased compared to the previous epoch\u001b[0m\n",
      "\u001b[91m0.0% Validation loss increased compared to the previous epoch\u001b[0m\n"
     ]
    },
    {
     "data": {
      "application/vnd.jupyter.widget-view+json": {
       "model_id": "",
       "version_major": 2,
       "version_minor": 0
      },
      "text/plain": [
       "Epoch 12:   0%|          | 0/6441 [00:00<?, ?it/s]"
      ]
     },
     "metadata": {},
     "output_type": "display_data"
    },
    {
     "name": "stdout",
     "output_type": "stream",
     "text": [
      "\n",
      "Epoch 12\n",
      "Training loss: 0.000601781425381588\n",
      "Validation loss: 0.00014186347430328162\n",
      "F1 Score (weighted): 0.9998253234104315\n",
      "\u001b[91m4.18% Training loss increased compared to the previous epoch\u001b[0m\n",
      "\u001b[92m0.0% Validation loss decreased compared to the previous epoch\u001b[0m\n"
     ]
    },
    {
     "data": {
      "application/vnd.jupyter.widget-view+json": {
       "model_id": "",
       "version_major": 2,
       "version_minor": 0
      },
      "text/plain": [
       "Epoch 13:   0%|          | 0/6441 [00:00<?, ?it/s]"
      ]
     },
     "metadata": {},
     "output_type": "display_data"
    },
    {
     "name": "stdout",
     "output_type": "stream",
     "text": [
      "\n",
      "Epoch 13\n",
      "Training loss: 0.00027443820123507906\n",
      "Validation loss: 0.00014186353674244283\n",
      "F1 Score (weighted): 0.9998253234104315\n",
      "\u001b[92m54.4% Training loss decreased compared to the previous epoch\u001b[0m\n",
      "\u001b[91m0.0% Validation loss increased compared to the previous epoch\u001b[0m\n"
     ]
    },
    {
     "data": {
      "application/vnd.jupyter.widget-view+json": {
       "model_id": "",
       "version_major": 2,
       "version_minor": 0
      },
      "text/plain": [
       "Epoch 14:   0%|          | 0/6441 [00:00<?, ?it/s]"
      ]
     },
     "metadata": {},
     "output_type": "display_data"
    },
    {
     "name": "stdout",
     "output_type": "stream",
     "text": [
      "\n",
      "Epoch 14\n",
      "Training loss: 0.0005590987254092248\n",
      "Validation loss: 0.0001418636116613544\n",
      "F1 Score (weighted): 0.9998253234104315\n",
      "\u001b[91m103.72% Training loss increased compared to the previous epoch\u001b[0m\n",
      "\u001b[91m0.0% Validation loss increased compared to the previous epoch\u001b[0m\n"
     ]
    },
    {
     "data": {
      "application/vnd.jupyter.widget-view+json": {
       "model_id": "",
       "version_major": 2,
       "version_minor": 0
      },
      "text/plain": [
       "Epoch 15:   0%|          | 0/6441 [00:00<?, ?it/s]"
      ]
     },
     "metadata": {},
     "output_type": "display_data"
    },
    {
     "name": "stdout",
     "output_type": "stream",
     "text": [
      "\n",
      "Epoch 15\n",
      "Training loss: 0.0009838763604070844\n",
      "Validation loss: 0.00014186349927556408\n",
      "F1 Score (weighted): 0.9998253234104315\n",
      "\u001b[91m75.98% Training loss increased compared to the previous epoch\u001b[0m\n",
      "\u001b[92m0.0% Validation loss decreased compared to the previous epoch\u001b[0m\n",
      "\n",
      "Early stopping triggered. Training stopped.\n",
      "\n",
      "Total training time: 300.07968322436017 minutes\n",
      "Final Accuracy: 0.999825327510917\n",
      "Final Precision: 0.999825381405545\n"
     ]
    },
    {
     "data": {
      "image/png": "[encoded data removed]",
      "text/plain": [
       "<Figure size 800x600 with 1 Axes>"
      ]
     },
     "metadata": {},
     "output_type": "display_data"
    },
    {
     "name": "stdout",
     "output_type": "stream",
     "text": [
      "Epoch                 Training Loss           Validation Loss         F1 Score            Accuracy               Precision\n",
      "--------------------  ----------------------  ----------------------  ------------------  ------------------  ------------\n",
      "1                     0.001045230375014885    0.00014186352425046644  0.9998253234104315  0.999825327510917       0.999825\n",
      "2                     \u001b[91m0.0010700886094755539\u001b[0m   \u001b[91m0.00014186358668311766\u001b[0m  0.9998253234104315  \u001b[92m0.9998253234104315\u001b[0m      \u001b[92m0.999825\u001b[0m\n",
      "3                     \u001b[92m0.00078434335259922\u001b[0m     \u001b[91m0.00014186363663316052\u001b[0m  0.9998253234104315  \u001b[92m0.9998253234104315\u001b[0m      \u001b[92m0.999825\u001b[0m\n",
      "4                     \u001b[91m0.0010716128384028823\u001b[0m   \u001b[92m0.00014186353673918784\u001b[0m  0.9998253234104315  \u001b[92m0.9998253234104315\u001b[0m      \u001b[92m0.999825\u001b[0m\n",
      "5                     \u001b[91m0.0010982645802664094\u001b[0m   \u001b[92m0.0001418635117627771\u001b[0m   0.9998253234104315  \u001b[92m0.9998253234104315\u001b[0m      \u001b[92m0.999825\u001b[0m\n",
      "6                     \u001b[91m0.001266317422877471\u001b[0m    \u001b[92m0.00014186348678914498\u001b[0m  0.9998253234104315  \u001b[92m0.9998253234104315\u001b[0m      \u001b[92m0.999825\u001b[0m\n",
      "7                     \u001b[92m0.0008735137773331355\u001b[0m   \u001b[91m0.00014186352425102217\u001b[0m  0.9998253234104315  \u001b[92m0.9998253234104315\u001b[0m      \u001b[92m0.999825\u001b[0m\n",
      "8                     \u001b[91m0.0010676541962685688\u001b[0m   \u001b[91m0.00014186356171099396\u001b[0m  0.9998253234104315  \u001b[92m0.9998253234104315\u001b[0m      \u001b[92m0.999825\u001b[0m\n",
      "9                     \u001b[91m0.001299921772653505\u001b[0m    \u001b[91m0.00014186376150433785\u001b[0m  0.9998253234104315  \u001b[92m0.9998253234104315\u001b[0m      \u001b[92m0.999825\u001b[0m\n",
      "10                    \u001b[92m0.0009660954323656561\u001b[0m   \u001b[92m0.00014186342435387387\u001b[0m  0.9998253234104315  \u001b[92m0.9998253234104315\u001b[0m      \u001b[92m0.999825\u001b[0m\n",
      "11                    \u001b[92m0.0005776159345008985\u001b[0m   \u001b[91m0.0001418635741972543\u001b[0m   0.9998253234104315  \u001b[92m0.9998253234104315\u001b[0m      \u001b[92m0.999825\u001b[0m\n",
      "12                    \u001b[91m0.000601781425381588\u001b[0m    \u001b[92m0.00014186347430328162\u001b[0m  0.9998253234104315  \u001b[92m0.9998253234104315\u001b[0m      \u001b[92m0.999825\u001b[0m\n",
      "13                    \u001b[92m0.00027443820123507906\u001b[0m  \u001b[91m0.00014186353674244283\u001b[0m  0.9998253234104315  \u001b[92m0.9998253234104315\u001b[0m      \u001b[92m0.999825\u001b[0m\n",
      "14                    \u001b[91m0.0005590987254092248\u001b[0m   \u001b[91m0.0001418636116613544\u001b[0m   0.9998253234104315  \u001b[92m0.9998253234104315\u001b[0m      \u001b[92m0.999825\u001b[0m\n",
      "15                    \u001b[91m0.0009838763604070844\u001b[0m   \u001b[92m0.00014186349927556408\u001b[0m  0.9998253234104315  \u001b[92m0.9998253234104315\u001b[0m      \u001b[92m0.999825\u001b[0m\n",
      "Total Training Time                                                                                           18004.8\n",
      "Final Precision                                                                                                   0.999825\n",
      "Total Time (minutes)                                                                                            300.08\n",
      "\n",
      "Fold 7\n"
     ]
    },
    {
     "data": {
      "application/vnd.jupyter.widget-view+json": {
       "model_id": "f9ba0f1f49e344da814b263dce295d67",
       "version_major": 2,
       "version_minor": 0
      },
      "text/plain": [
       "  0%|          | 0/25 [00:00<?, ?it/s]"
      ]
     },
     "metadata": {},
     "output_type": "display_data"
    },
    {
     "data": {
      "application/vnd.jupyter.widget-view+json": {
       "model_id": "",
       "version_major": 2,
       "version_minor": 0
      },
      "text/plain": [
       "Epoch 1:   0%|          | 0/6441 [00:00<?, ?it/s]"
      ]
     },
     "metadata": {},
     "output_type": "display_data"
    },
    {
     "name": "stdout",
     "output_type": "stream",
     "text": [
      "\n",
      "Epoch 1\n",
      "Training loss: 0.0007321085465004058\n",
      "Validation loss: 1.077607195382284e-06\n",
      "F1 Score (weighted): 1.0\n"
     ]
    },
    {
     "data": {
      "application/vnd.jupyter.widget-view+json": {
       "model_id": "",
       "version_major": 2,
       "version_minor": 0
      },
      "text/plain": [
       "Epoch 2:   0%|          | 0/6441 [00:00<?, ?it/s]"
      ]
     },
     "metadata": {},
     "output_type": "display_data"
    },
    {
     "name": "stdout",
     "output_type": "stream",
     "text": [
      "\n",
      "Epoch 2\n",
      "Training loss: 0.0011454438845872959\n",
      "Validation loss: 1.0776488213574522e-06\n",
      "F1 Score (weighted): 1.0\n",
      "\u001b[91m56.46% Training loss increased compared to the previous epoch\u001b[0m\n",
      "\u001b[91m0.0% Validation loss increased compared to the previous epoch\u001b[0m\n"
     ]
    },
    {
     "data": {
      "application/vnd.jupyter.widget-view+json": {
       "model_id": "",
       "version_major": 2,
       "version_minor": 0
      },
      "text/plain": [
       "Epoch 3:   0%|          | 0/6441 [00:00<?, ?it/s]"
      ]
     },
     "metadata": {},
     "output_type": "display_data"
    },
    {
     "name": "stdout",
     "output_type": "stream",
     "text": [
      "\n",
      "Epoch 3\n",
      "Training loss: 0.0011245885807166446\n",
      "Validation loss: 1.0776904432837177e-06\n",
      "F1 Score (weighted): 1.0\n",
      "\u001b[92m1.82% Training loss decreased compared to the previous epoch\u001b[0m\n",
      "\u001b[91m0.0% Validation loss increased compared to the previous epoch\u001b[0m\n"
     ]
    },
    {
     "data": {
      "application/vnd.jupyter.widget-view+json": {
       "model_id": "",
       "version_major": 2,
       "version_minor": 0
      },
      "text/plain": [
       "Epoch 4:   0%|          | 0/6441 [00:00<?, ?it/s]"
      ]
     },
     "metadata": {},
     "output_type": "display_data"
    },
    {
     "name": "stdout",
     "output_type": "stream",
     "text": [
      "\n",
      "Epoch 4\n",
      "Training loss: 0.001514805520310718\n",
      "Validation loss: 1.0775655745674817e-06\n",
      "F1 Score (weighted): 1.0\n",
      "\u001b[91m34.7% Training loss increased compared to the previous epoch\u001b[0m\n",
      "\u001b[92m0.01% Validation loss decreased compared to the previous epoch\u001b[0m\n"
     ]
    },
    {
     "data": {
      "application/vnd.jupyter.widget-view+json": {
       "model_id": "",
       "version_major": 2,
       "version_minor": 0
      },
      "text/plain": [
       "Epoch 5:   0%|          | 0/6441 [00:00<?, ?it/s]"
      ]
     },
     "metadata": {},
     "output_type": "display_data"
    },
    {
     "name": "stdout",
     "output_type": "stream",
     "text": [
      "\n",
      "Epoch 5\n",
      "Training loss: 0.000782690057350371\n",
      "Validation loss: 1.0775447620959343e-06\n",
      "F1 Score (weighted): 1.0\n",
      "\u001b[92m48.33% Training loss decreased compared to the previous epoch\u001b[0m\n",
      "\u001b[92m0.0% Validation loss decreased compared to the previous epoch\u001b[0m\n"
     ]
    },
    {
     "data": {
      "application/vnd.jupyter.widget-view+json": {
       "model_id": "",
       "version_major": 2,
       "version_minor": 0
      },
      "text/plain": [
       "Epoch 6:   0%|          | 0/6441 [00:00<?, ?it/s]"
      ]
     },
     "metadata": {},
     "output_type": "display_data"
    },
    {
     "name": "stdout",
     "output_type": "stream",
     "text": [
      "\n",
      "Epoch 6\n",
      "Training loss: 0.0006497705633195476\n",
      "Validation loss: 1.0776280109500512e-06\n",
      "F1 Score (weighted): 1.0\n",
      "\u001b[92m16.98% Training loss decreased compared to the previous epoch\u001b[0m\n",
      "\u001b[91m0.01% Validation loss increased compared to the previous epoch\u001b[0m\n"
     ]
    },
    {
     "data": {
      "application/vnd.jupyter.widget-view+json": {
       "model_id": "",
       "version_major": 2,
       "version_minor": 0
      },
      "text/plain": [
       "Epoch 7:   0%|          | 0/6441 [00:00<?, ?it/s]"
      ]
     },
     "metadata": {},
     "output_type": "display_data"
    },
    {
     "name": "stdout",
     "output_type": "stream",
     "text": [
      "\n",
      "Epoch 7\n",
      "Training loss: 0.0010360443961181767\n",
      "Validation loss: 1.0777320706879105e-06\n",
      "F1 Score (weighted): 1.0\n",
      "\u001b[91m59.45% Training loss increased compared to the previous epoch\u001b[0m\n",
      "\u001b[91m0.01% Validation loss increased compared to the previous epoch\u001b[0m\n"
     ]
    },
    {
     "data": {
      "application/vnd.jupyter.widget-view+json": {
       "model_id": "",
       "version_major": 2,
       "version_minor": 0
      },
      "text/plain": [
       "Epoch 8:   0%|          | 0/6441 [00:00<?, ?it/s]"
      ]
     },
     "metadata": {},
     "output_type": "display_data"
    },
    {
     "name": "stdout",
     "output_type": "stream",
     "text": [
      "\n",
      "Epoch 8\n",
      "Training loss: 0.0007607218917982764\n",
      "Validation loss: 1.0778153138259296e-06\n",
      "F1 Score (weighted): 1.0\n",
      "\u001b[92m26.57% Training loss decreased compared to the previous epoch\u001b[0m\n",
      "\u001b[91m0.01% Validation loss increased compared to the previous epoch\u001b[0m\n"
     ]
    },
    {
     "data": {
      "application/vnd.jupyter.widget-view+json": {
       "model_id": "",
       "version_major": 2,
       "version_minor": 0
      },
      "text/plain": [
       "Epoch 9:   0%|          | 0/6441 [00:00<?, ?it/s]"
      ]
     },
     "metadata": {},
     "output_type": "display_data"
    },
    {
     "name": "stdout",
     "output_type": "stream",
     "text": [
      "\n",
      "Epoch 9\n",
      "Training loss: 0.0006555556510323988\n",
      "Validation loss: 1.0776696319236337e-06\n",
      "F1 Score (weighted): 1.0\n",
      "\u001b[92m13.82% Training loss decreased compared to the previous epoch\u001b[0m\n",
      "\u001b[92m0.01% Validation loss decreased compared to the previous epoch\u001b[0m\n"
     ]
    },
    {
     "data": {
      "application/vnd.jupyter.widget-view+json": {
       "model_id": "",
       "version_major": 2,
       "version_minor": 0
      },
      "text/plain": [
       "Epoch 10:   0%|          | 0/6441 [00:00<?, ?it/s]"
      ]
     },
     "metadata": {},
     "output_type": "display_data"
    },
    {
     "name": "stdout",
     "output_type": "stream",
     "text": [
      "\n",
      "Epoch 10\n",
      "Training loss: 0.0010852054414946662\n",
      "Validation loss: 1.0777112533735578e-06\n",
      "F1 Score (weighted): 1.0\n",
      "\u001b[91m65.54% Training loss increased compared to the previous epoch\u001b[0m\n",
      "\u001b[91m0.0% Validation loss increased compared to the previous epoch\u001b[0m\n",
      "\n",
      "Early stopping triggered. Training stopped.\n",
      "\n",
      "Total training time: 200.046076242129 minutes\n",
      "Final Accuracy: 1.0\n",
      "Final Precision: 1.0\n"
     ]
    },
    {
     "data": {
      "image/png": "[encoded data removed]",
      "text/plain": [
       "<Figure size 800x600 with 1 Axes>"
      ]
     },
     "metadata": {},
     "output_type": "display_data"
    },
    {
     "name": "stdout",
     "output_type": "stream",
     "text": [
      "Epoch                 Training Loss          Validation Loss         F1 Score    Accuracy      Precision\n",
      "--------------------  ---------------------  ----------------------  ----------  ----------  -----------\n",
      "1                     0.0007321085465004058  1.077607195382284e-06   1.0         1.0               1\n",
      "2                     \u001b[91m0.0011454438845872959\u001b[0m  \u001b[91m1.0776488213574522e-06\u001b[0m  1.0         1.0               1\n",
      "3                     \u001b[92m0.0011245885807166446\u001b[0m  \u001b[91m1.0776904432837177e-06\u001b[0m  1.0         1.0               1\n",
      "4                     \u001b[91m0.001514805520310718\u001b[0m   \u001b[92m1.0775655745674817e-06\u001b[0m  1.0         1.0               1\n",
      "5                     \u001b[92m0.000782690057350371\u001b[0m   \u001b[92m1.0775447620959343e-06\u001b[0m  1.0         1.0               1\n",
      "6                     \u001b[92m0.0006497705633195476\u001b[0m  \u001b[91m1.0776280109500512e-06\u001b[0m  1.0         1.0               1\n",
      "7                     \u001b[91m0.0010360443961181767\u001b[0m  \u001b[91m1.0777320706879105e-06\u001b[0m  1.0         1.0               1\n",
      "8                     \u001b[92m0.0007607218917982764\u001b[0m  \u001b[91m1.0778153138259296e-06\u001b[0m  1.0         1.0               1\n",
      "9                     \u001b[92m0.0006555556510323988\u001b[0m  \u001b[92m1.0776696319236337e-06\u001b[0m  1.0         1.0               1\n",
      "10                    \u001b[91m0.0010852054414946662\u001b[0m  \u001b[91m1.0777112533735578e-06\u001b[0m  1.0         1.0               1\n",
      "Total Training Time                                                                            12002.8\n",
      "Final Precision                                                                                    1\n",
      "Total Time (minutes)                                                                             200.046\n",
      "\n",
      "Fold 8\n"
     ]
    },
    {
     "data": {
      "application/vnd.jupyter.widget-view+json": {
       "model_id": "289202d82198443c950e031b1db59493",
       "version_major": 2,
       "version_minor": 0
      },
      "text/plain": [
       "  0%|          | 0/25 [00:00<?, ?it/s]"
      ]
     },
     "metadata": {},
     "output_type": "display_data"
    },
    {
     "data": {
      "application/vnd.jupyter.widget-view+json": {
       "model_id": "",
       "version_major": 2,
       "version_minor": 0
      },
      "text/plain": [
       "Epoch 1:   0%|          | 0/6441 [00:00<?, ?it/s]"
      ]
     },
     "metadata": {},
     "output_type": "display_data"
    },
    {
     "name": "stdout",
     "output_type": "stream",
     "text": [
      "\n",
      "Epoch 1\n",
      "Training loss: 0.0008272623707496977\n",
      "Validation loss: 0.00022724329028207138\n",
      "F1 Score (weighted): 0.9998253002905921\n"
     ]
    },
    {
     "data": {
      "application/vnd.jupyter.widget-view+json": {
       "model_id": "",
       "version_major": 2,
       "version_minor": 0
      },
      "text/plain": [
       "Epoch 2:   0%|          | 0/6441 [00:00<?, ?it/s]"
      ]
     },
     "metadata": {},
     "output_type": "display_data"
    },
    {
     "name": "stdout",
     "output_type": "stream",
     "text": [
      "\n",
      "Epoch 2\n",
      "Training loss: 0.001548726904143921\n",
      "Validation loss: 0.00022724331109287574\n",
      "F1 Score (weighted): 0.9998253002905921\n",
      "\u001b[91m87.21% Training loss increased compared to the previous epoch\u001b[0m\n",
      "\u001b[91m0.0% Validation loss increased compared to the previous epoch\u001b[0m\n"
     ]
    },
    {
     "data": {
      "application/vnd.jupyter.widget-view+json": {
       "model_id": "",
       "version_major": 2,
       "version_minor": 0
      },
      "text/plain": [
       "Epoch 3:   0%|          | 0/6441 [00:00<?, ?it/s]"
      ]
     },
     "metadata": {},
     "output_type": "display_data"
    },
    {
     "name": "stdout",
     "output_type": "stream",
     "text": [
      "\n",
      "Epoch 3\n",
      "Training loss: 0.0005912048563497766\n",
      "Validation loss: 0.00022724339433958631\n",
      "F1 Score (weighted): 0.9998253002905921\n",
      "\u001b[92m61.83% Training loss decreased compared to the previous epoch\u001b[0m\n",
      "\u001b[91m0.0% Validation loss increased compared to the previous epoch\u001b[0m\n"
     ]
    },
    {
     "data": {
      "application/vnd.jupyter.widget-view+json": {
       "model_id": "",
       "version_major": 2,
       "version_minor": 0
      },
      "text/plain": [
       "Epoch 4:   0%|          | 0/6441 [00:00<?, ?it/s]"
      ]
     },
     "metadata": {},
     "output_type": "display_data"
    },
    {
     "name": "stdout",
     "output_type": "stream",
     "text": [
      "\n",
      "Epoch 4\n",
      "Training loss: 0.0011208787084926002\n",
      "Validation loss: 0.00022724337352751173\n",
      "F1 Score (weighted): 0.9998253002905921\n",
      "\u001b[91m89.59% Training loss increased compared to the previous epoch\u001b[0m\n",
      "\u001b[92m0.0% Validation loss decreased compared to the previous epoch\u001b[0m\n"
     ]
    },
    {
     "data": {
      "application/vnd.jupyter.widget-view+json": {
       "model_id": "",
       "version_major": 2,
       "version_minor": 0
      },
      "text/plain": [
       "Epoch 5:   0%|          | 0/6441 [00:00<?, ?it/s]"
      ]
     },
     "metadata": {},
     "output_type": "display_data"
    },
    {
     "name": "stdout",
     "output_type": "stream",
     "text": [
      "\n",
      "Epoch 5\n",
      "Training loss: 0.0009423226120387734\n",
      "Validation loss: 0.00022724329027587893\n",
      "F1 Score (weighted): 0.9998253002905921\n",
      "\u001b[92m15.93% Training loss decreased compared to the previous epoch\u001b[0m\n",
      "\u001b[92m0.0% Validation loss decreased compared to the previous epoch\u001b[0m\n"
     ]
    },
    {
     "data": {
      "application/vnd.jupyter.widget-view+json": {
       "model_id": "",
       "version_major": 2,
       "version_minor": 0
      },
      "text/plain": [
       "Epoch 6:   0%|          | 0/6441 [00:00<?, ?it/s]"
      ]
     },
     "metadata": {},
     "output_type": "display_data"
    },
    {
     "name": "stdout",
     "output_type": "stream",
     "text": [
      "\n",
      "Epoch 6\n",
      "Training loss: 0.000839007155323012\n",
      "Validation loss: 0.0002272434775844709\n",
      "F1 Score (weighted): 0.9998253002905921\n",
      "\u001b[92m10.96% Training loss decreased compared to the previous epoch\u001b[0m\n",
      "\u001b[91m0.0% Validation loss increased compared to the previous epoch\u001b[0m\n"
     ]
    },
    {
     "data": {
      "application/vnd.jupyter.widget-view+json": {
       "model_id": "",
       "version_major": 2,
       "version_minor": 0
      },
      "text/plain": [
       "Epoch 7:   0%|          | 0/6441 [00:00<?, ?it/s]"
      ]
     },
     "metadata": {},
     "output_type": "display_data"
    },
    {
     "name": "stdout",
     "output_type": "stream",
     "text": [
      "\n",
      "Epoch 7\n",
      "Training loss: 0.000597328036288604\n",
      "Validation loss: 0.00022724329028429432\n",
      "F1 Score (weighted): 0.9998253002905921\n",
      "\u001b[92m28.81% Training loss decreased compared to the previous epoch\u001b[0m\n",
      "\u001b[92m0.0% Validation loss decreased compared to the previous epoch\u001b[0m\n"
     ]
    },
    {
     "data": {
      "application/vnd.jupyter.widget-view+json": {
       "model_id": "",
       "version_major": 2,
       "version_minor": 0
      },
      "text/plain": [
       "Epoch 8:   0%|          | 0/6441 [00:00<?, ?it/s]"
      ]
     },
     "metadata": {},
     "output_type": "display_data"
    },
    {
     "name": "stdout",
     "output_type": "stream",
     "text": [
      "\n",
      "Epoch 8\n",
      "Training loss: 0.00040227490158245213\n",
      "Validation loss: 0.00022724320703432872\n",
      "F1 Score (weighted): 0.9998253002905921\n",
      "\u001b[92m32.65% Training loss decreased compared to the previous epoch\u001b[0m\n",
      "\u001b[92m0.0% Validation loss decreased compared to the previous epoch\u001b[0m\n"
     ]
    },
    {
     "data": {
      "application/vnd.jupyter.widget-view+json": {
       "model_id": "",
       "version_major": 2,
       "version_minor": 0
      },
      "text/plain": [
       "Epoch 9:   0%|          | 0/6441 [00:00<?, ?it/s]"
      ]
     },
     "metadata": {},
     "output_type": "display_data"
    },
    {
     "name": "stdout",
     "output_type": "stream",
     "text": [
      "\n",
      "Epoch 9\n",
      "Training loss: 0.0009918949376892343\n",
      "Validation loss: 0.00022724347758836105\n",
      "F1 Score (weighted): 0.9998253002905921\n",
      "\u001b[91m146.57% Training loss increased compared to the previous epoch\u001b[0m\n",
      "\u001b[91m0.0% Validation loss increased compared to the previous epoch\u001b[0m\n"
     ]
    },
    {
     "data": {
      "application/vnd.jupyter.widget-view+json": {
       "model_id": "",
       "version_major": 2,
       "version_minor": 0
      },
      "text/plain": [
       "Epoch 10:   0%|          | 0/6441 [00:00<?, ?it/s]"
      ]
     },
     "metadata": {},
     "output_type": "display_data"
    },
    {
     "name": "stdout",
     "output_type": "stream",
     "text": [
      "\n",
      "Epoch 10\n",
      "Training loss: 0.00040009534845184295\n",
      "Validation loss: 0.00022724339434006266\n",
      "F1 Score (weighted): 0.9998253002905921\n",
      "\u001b[92m59.66% Training loss decreased compared to the previous epoch\u001b[0m\n",
      "\u001b[92m0.0% Validation loss decreased compared to the previous epoch\u001b[0m\n"
     ]
    },
    {
     "data": {
      "application/vnd.jupyter.widget-view+json": {
       "model_id": "",
       "version_major": 2,
       "version_minor": 0
      },
      "text/plain": [
       "Epoch 11:   0%|          | 0/6441 [00:00<?, ?it/s]"
      ]
     },
     "metadata": {},
     "output_type": "display_data"
    },
    {
     "name": "stdout",
     "output_type": "stream",
     "text": [
      "\n",
      "Epoch 11\n",
      "Training loss: 0.0012311993799408924\n",
      "Validation loss: 0.00022724333190653813\n",
      "F1 Score (weighted): 0.9998253002905921\n",
      "\u001b[91m207.73% Training loss increased compared to the previous epoch\u001b[0m\n",
      "\u001b[92m0.0% Validation loss decreased compared to the previous epoch\u001b[0m\n"
     ]
    },
    {
     "data": {
      "application/vnd.jupyter.widget-view+json": {
       "model_id": "",
       "version_major": 2,
       "version_minor": 0
      },
      "text/plain": [
       "Epoch 12:   0%|          | 0/6441 [00:00<?, ?it/s]"
      ]
     },
     "metadata": {},
     "output_type": "display_data"
    },
    {
     "name": "stdout",
     "output_type": "stream",
     "text": [
      "\n",
      "Epoch 12\n",
      "Training loss: 0.00045200956244328825\n",
      "Validation loss: 0.00022724329027937212\n",
      "F1 Score (weighted): 0.9998253002905921\n",
      "\u001b[92m63.29% Training loss decreased compared to the previous epoch\u001b[0m\n",
      "\u001b[92m0.0% Validation loss decreased compared to the previous epoch\u001b[0m\n"
     ]
    },
    {
     "data": {
      "application/vnd.jupyter.widget-view+json": {
       "model_id": "",
       "version_major": 2,
       "version_minor": 0
      },
      "text/plain": [
       "Epoch 13:   0%|          | 0/6441 [00:00<?, ?it/s]"
      ]
     },
     "metadata": {},
     "output_type": "display_data"
    },
    {
     "name": "stdout",
     "output_type": "stream",
     "text": [
      "\n",
      "Epoch 13\n",
      "Training loss: 0.0016533149612211013\n",
      "Validation loss: 0.00022724339433744276\n",
      "F1 Score (weighted): 0.9998253002905921\n",
      "\u001b[91m265.77% Training loss increased compared to the previous epoch\u001b[0m\n",
      "\u001b[91m0.0% Validation loss increased compared to the previous epoch\u001b[0m\n",
      "\n",
      "Early stopping triggered. Training stopped.\n",
      "\n",
      "Total training time: 260.5714585185051 minutes\n",
      "Final Accuracy: 0.9998252969951084\n",
      "Final Precision: 0.999825365318536\n"
     ]
    },
    {
     "data": {
      "image/png": "[encoded data removed]",
      "text/plain": [
       "<Figure size 800x600 with 1 Axes>"
      ]
     },
     "metadata": {},
     "output_type": "display_data"
    },
    {
     "name": "stdout",
     "output_type": "stream",
     "text": [
      "Epoch                 Training Loss           Validation Loss         F1 Score            Accuracy               Precision\n",
      "--------------------  ----------------------  ----------------------  ------------------  ------------------  ------------\n",
      "1                     0.0008272623707496977   0.00022724329028207138  0.9998253002905921  0.9998252969951084      0.999825\n",
      "2                     \u001b[91m0.001548726904143921\u001b[0m    \u001b[91m0.00022724331109287574\u001b[0m  0.9998253002905921  \u001b[91m0.9998253002905921\u001b[0m      \u001b[92m0.999825\u001b[0m\n",
      "3                     \u001b[92m0.0005912048563497766\u001b[0m   \u001b[91m0.00022724339433958631\u001b[0m  0.9998253002905921  \u001b[91m0.9998253002905921\u001b[0m      \u001b[92m0.999825\u001b[0m\n",
      "4                     \u001b[91m0.0011208787084926002\u001b[0m   \u001b[92m0.00022724337352751173\u001b[0m  0.9998253002905921  \u001b[91m0.9998253002905921\u001b[0m      \u001b[92m0.999825\u001b[0m\n",
      "5                     \u001b[92m0.0009423226120387734\u001b[0m   \u001b[92m0.00022724329027587893\u001b[0m  0.9998253002905921  \u001b[91m0.9998253002905921\u001b[0m      \u001b[92m0.999825\u001b[0m\n",
      "6                     \u001b[92m0.000839007155323012\u001b[0m    \u001b[91m0.0002272434775844709\u001b[0m   0.9998253002905921  \u001b[91m0.9998253002905921\u001b[0m      \u001b[92m0.999825\u001b[0m\n",
      "7                     \u001b[92m0.000597328036288604\u001b[0m    \u001b[92m0.00022724329028429432\u001b[0m  0.9998253002905921  \u001b[91m0.9998253002905921\u001b[0m      \u001b[92m0.999825\u001b[0m\n",
      "8                     \u001b[92m0.00040227490158245213\u001b[0m  \u001b[92m0.00022724320703432872\u001b[0m  0.9998253002905921  \u001b[91m0.9998253002905921\u001b[0m      \u001b[92m0.999825\u001b[0m\n",
      "9                     \u001b[91m0.0009918949376892343\u001b[0m   \u001b[91m0.00022724347758836105\u001b[0m  0.9998253002905921  \u001b[91m0.9998253002905921\u001b[0m      \u001b[92m0.999825\u001b[0m\n",
      "10                    \u001b[92m0.00040009534845184295\u001b[0m  \u001b[92m0.00022724339434006266\u001b[0m  0.9998253002905921  \u001b[91m0.9998253002905921\u001b[0m      \u001b[92m0.999825\u001b[0m\n",
      "11                    \u001b[91m0.0012311993799408924\u001b[0m   \u001b[92m0.00022724333190653813\u001b[0m  0.9998253002905921  \u001b[91m0.9998253002905921\u001b[0m      \u001b[92m0.999825\u001b[0m\n",
      "12                    \u001b[92m0.00045200956244328825\u001b[0m  \u001b[92m0.00022724329027937212\u001b[0m  0.9998253002905921  \u001b[91m0.9998253002905921\u001b[0m      \u001b[92m0.999825\u001b[0m\n",
      "13                    \u001b[91m0.0016533149612211013\u001b[0m   \u001b[91m0.00022724339433744276\u001b[0m  0.9998253002905921  \u001b[91m0.9998253002905921\u001b[0m      \u001b[92m0.999825\u001b[0m\n",
      "Total Training Time                                                                                           15634.3\n",
      "Final Precision                                                                                                   0.999825\n",
      "Total Time (minutes)                                                                                            260.571\n",
      "\n",
      "Fold 9\n"
     ]
    },
    {
     "data": {
      "application/vnd.jupyter.widget-view+json": {
       "model_id": "3bd34b94c9eb4424a9739a2d090a0b1c",
       "version_major": 2,
       "version_minor": 0
      },
      "text/plain": [
       "  0%|          | 0/25 [00:00<?, ?it/s]"
      ]
     },
     "metadata": {},
     "output_type": "display_data"
    },
    {
     "data": {
      "application/vnd.jupyter.widget-view+json": {
       "model_id": "",
       "version_major": 2,
       "version_minor": 0
      },
      "text/plain": [
       "Epoch 1:   0%|          | 0/6441 [00:00<?, ?it/s]"
      ]
     },
     "metadata": {},
     "output_type": "display_data"
    },
    {
     "name": "stdout",
     "output_type": "stream",
     "text": [
      "\n",
      "Epoch 1\n",
      "Training loss: 0.0017038628892146613\n",
      "Validation loss: 1.0719672378062107e-06\n",
      "F1 Score (weighted): 1.0\n"
     ]
    },
    {
     "data": {
      "application/vnd.jupyter.widget-view+json": {
       "model_id": "",
       "version_major": 2,
       "version_minor": 0
      },
      "text/plain": [
       "Epoch 2:   0%|          | 0/6441 [00:00<?, ?it/s]"
      ]
     },
     "metadata": {},
     "output_type": "display_data"
    },
    {
     "name": "stdout",
     "output_type": "stream",
     "text": [
      "\n",
      "Epoch 2\n",
      "Training loss: 0.0018894129193308617\n",
      "Validation loss: 1.0720088613996716e-06\n",
      "F1 Score (weighted): 1.0\n",
      "\u001b[91m10.89% Training loss increased compared to the previous epoch\u001b[0m\n",
      "\u001b[91m0.0% Validation loss increased compared to the previous epoch\u001b[0m\n"
     ]
    },
    {
     "data": {
      "application/vnd.jupyter.widget-view+json": {
       "model_id": "",
       "version_major": 2,
       "version_minor": 0
      },
      "text/plain": [
       "Epoch 3:   0%|          | 0/6441 [00:00<?, ?it/s]"
      ]
     },
     "metadata": {},
     "output_type": "display_data"
    },
    {
     "name": "stdout",
     "output_type": "stream",
     "text": [
      "\n",
      "Epoch 3\n",
      "Training loss: 0.001129337786240401\n",
      "Validation loss: 1.0721129184382624e-06\n",
      "F1 Score (weighted): 1.0\n",
      "\u001b[92m40.23% Training loss decreased compared to the previous epoch\u001b[0m\n",
      "\u001b[91m0.01% Validation loss increased compared to the previous epoch\u001b[0m\n"
     ]
    },
    {
     "data": {
      "application/vnd.jupyter.widget-view+json": {
       "model_id": "",
       "version_major": 2,
       "version_minor": 0
      },
      "text/plain": [
       "Epoch 4:   0%|          | 0/6441 [00:00<?, ?it/s]"
      ]
     },
     "metadata": {},
     "output_type": "display_data"
    },
    {
     "name": "stdout",
     "output_type": "stream",
     "text": [
      "\n",
      "Epoch 4\n",
      "Training loss: 0.0008487453222954842\n",
      "Validation loss: 1.0721129220902138e-06\n",
      "F1 Score (weighted): 1.0\n",
      "\u001b[92m24.85% Training loss decreased compared to the previous epoch\u001b[0m\n",
      "\u001b[91m0.0% Validation loss increased compared to the previous epoch\u001b[0m\n"
     ]
    },
    {
     "data": {
      "application/vnd.jupyter.widget-view+json": {
       "model_id": "",
       "version_major": 2,
       "version_minor": 0
      },
      "text/plain": [
       "Epoch 5:   0%|          | 0/6441 [00:00<?, ?it/s]"
      ]
     },
     "metadata": {},
     "output_type": "display_data"
    },
    {
     "name": "stdout",
     "output_type": "stream",
     "text": [
      "\n",
      "Epoch 5\n",
      "Training loss: 0.0006118794740197912\n",
      "Validation loss: 1.0721961706267698e-06\n",
      "F1 Score (weighted): 1.0\n",
      "\u001b[92m27.91% Training loss decreased compared to the previous epoch\u001b[0m\n",
      "\u001b[91m0.01% Validation loss increased compared to the previous epoch\u001b[0m\n"
     ]
    },
    {
     "data": {
      "application/vnd.jupyter.widget-view+json": {
       "model_id": "",
       "version_major": 2,
       "version_minor": 0
      },
      "text/plain": [
       "Epoch 6:   0%|          | 0/6441 [00:00<?, ?it/s]"
      ]
     },
     "metadata": {},
     "output_type": "display_data"
    },
    {
     "name": "stdout",
     "output_type": "stream",
     "text": [
      "\n",
      "Epoch 6\n",
      "Training loss: 0.001254257296083091\n",
      "Validation loss: 1.0720504883275227e-06\n",
      "F1 Score (weighted): 1.0\n",
      "\u001b[91m104.98% Training loss increased compared to the previous epoch\u001b[0m\n",
      "\u001b[92m0.01% Validation loss decreased compared to the previous epoch\u001b[0m\n",
      "\n",
      "Early stopping triggered. Training stopped.\n",
      "\n",
      "Total training time: 120.02109599113464 minutes\n",
      "Final Accuracy: 1.0\n",
      "Final Precision: 1.0\n"
     ]
    },
    {
     "data": {
      "image/png": "[encoded data removed]",
      "text/plain": [
       "<Figure size 800x600 with 1 Axes>"
      ]
     },
     "metadata": {},
     "output_type": "display_data"
    },
    {
     "name": "stdout",
     "output_type": "stream",
     "text": [
      "Epoch                 Training Loss          Validation Loss         F1 Score    Accuracy      Precision\n",
      "--------------------  ---------------------  ----------------------  ----------  ----------  -----------\n",
      "1                     0.0017038628892146613  1.0719672378062107e-06  1.0         1.0               1\n",
      "2                     \u001b[91m0.0018894129193308617\u001b[0m  \u001b[91m1.0720088613996716e-06\u001b[0m  1.0         1.0               1\n",
      "3                     \u001b[92m0.001129337786240401\u001b[0m   \u001b[91m1.0721129184382624e-06\u001b[0m  1.0         1.0               1\n",
      "4                     \u001b[92m0.0008487453222954842\u001b[0m  \u001b[91m1.0721129220902138e-06\u001b[0m  1.0         1.0               1\n",
      "5                     \u001b[92m0.0006118794740197912\u001b[0m  \u001b[91m1.0721961706267698e-06\u001b[0m  1.0         1.0               1\n",
      "6                     \u001b[91m0.001254257296083091\u001b[0m   \u001b[92m1.0720504883275227e-06\u001b[0m  1.0         1.0               1\n",
      "Total Training Time                                                                             7201.27\n",
      "Final Precision                                                                                    1\n",
      "Total Time (minutes)                                                                             120.021\n",
      "\n",
      "Fold 10\n"
     ]
    },
    {
     "data": {
      "application/vnd.jupyter.widget-view+json": {
       "model_id": "3ebaae56758a4bb2846b70d990e57c28",
       "version_major": 2,
       "version_minor": 0
      },
      "text/plain": [
       "  0%|          | 0/25 [00:00<?, ?it/s]"
      ]
     },
     "metadata": {},
     "output_type": "display_data"
    },
    {
     "data": {
      "application/vnd.jupyter.widget-view+json": {
       "model_id": "",
       "version_major": 2,
       "version_minor": 0
      },
      "text/plain": [
       "Epoch 1:   0%|          | 0/6441 [00:00<?, ?it/s]"
      ]
     },
     "metadata": {},
     "output_type": "display_data"
    },
    {
     "name": "stdout",
     "output_type": "stream",
     "text": [
      "\n",
      "Epoch 1\n",
      "Training loss: 0.0011589614878340989\n",
      "Validation loss: 5.6920900253193875e-05\n",
      "F1 Score (weighted): 1.0\n"
     ]
    },
    {
     "data": {
      "application/vnd.jupyter.widget-view+json": {
       "model_id": "",
       "version_major": 2,
       "version_minor": 0
      },
      "text/plain": [
       "Epoch 2:   0%|          | 0/6441 [00:00<?, ?it/s]"
      ]
     },
     "metadata": {},
     "output_type": "display_data"
    },
    {
     "name": "stdout",
     "output_type": "stream",
     "text": [
      "\n",
      "Epoch 2\n",
      "Training loss: 0.001165879817690228\n",
      "Validation loss: 5.6920983496728844e-05\n",
      "F1 Score (weighted): 1.0\n",
      "\u001b[91m0.6% Training loss increased compared to the previous epoch\u001b[0m\n",
      "\u001b[91m0.0% Validation loss increased compared to the previous epoch\u001b[0m\n"
     ]
    },
    {
     "data": {
      "application/vnd.jupyter.widget-view+json": {
       "model_id": "",
       "version_major": 2,
       "version_minor": 0
      },
      "text/plain": [
       "Epoch 3:   0%|          | 0/6441 [00:00<?, ?it/s]"
      ]
     },
     "metadata": {},
     "output_type": "display_data"
    },
    {
     "name": "stdout",
     "output_type": "stream",
     "text": [
      "\n",
      "Epoch 3\n",
      "Training loss: 0.0012942963176324608\n",
      "Validation loss: 5.692079619440869e-05\n",
      "F1 Score (weighted): 1.0\n",
      "\u001b[91m11.01% Training loss increased compared to the previous epoch\u001b[0m\n",
      "\u001b[92m0.0% Validation loss decreased compared to the previous epoch\u001b[0m\n"
     ]
    },
    {
     "data": {
      "application/vnd.jupyter.widget-view+json": {
       "model_id": "",
       "version_major": 2,
       "version_minor": 0
      },
      "text/plain": [
       "Epoch 4:   0%|          | 0/6441 [00:00<?, ?it/s]"
      ]
     },
     "metadata": {},
     "output_type": "display_data"
    },
    {
     "name": "stdout",
     "output_type": "stream",
     "text": [
      "\n",
      "Epoch 4\n",
      "Training loss: 0.00023485413347261848\n",
      "Validation loss: 5.69208794392933e-05\n",
      "F1 Score (weighted): 1.0\n",
      "\u001b[92m81.85% Training loss decreased compared to the previous epoch\u001b[0m\n",
      "\u001b[91m0.0% Validation loss increased compared to the previous epoch\u001b[0m\n"
     ]
    },
    {
     "data": {
      "application/vnd.jupyter.widget-view+json": {
       "model_id": "",
       "version_major": 2,
       "version_minor": 0
      },
      "text/plain": [
       "Epoch 5:   0%|          | 0/6441 [00:00<?, ?it/s]"
      ]
     },
     "metadata": {},
     "output_type": "display_data"
    },
    {
     "name": "stdout",
     "output_type": "stream",
     "text": [
      "\n",
      "Epoch 5\n",
      "Training loss: 0.000624949893510888\n",
      "Validation loss: 5.692087944143684e-05\n",
      "F1 Score (weighted): 1.0\n",
      "\u001b[91m166.1% Training loss increased compared to the previous epoch\u001b[0m\n",
      "\u001b[91m0.0% Validation loss increased compared to the previous epoch\u001b[0m\n"
     ]
    },
    {
     "data": {
      "application/vnd.jupyter.widget-view+json": {
       "model_id": "",
       "version_major": 2,
       "version_minor": 0
      },
      "text/plain": [
       "Epoch 6:   0%|          | 0/6441 [00:00<?, ?it/s]"
      ]
     },
     "metadata": {},
     "output_type": "display_data"
    },
    {
     "name": "stdout",
     "output_type": "stream",
     "text": [
      "\n",
      "Epoch 6\n",
      "Training loss: 0.0006274169419736761\n",
      "Validation loss: 5.692079619337662e-05\n",
      "F1 Score (weighted): 1.0\n",
      "\u001b[91m0.39% Training loss increased compared to the previous epoch\u001b[0m\n",
      "\u001b[92m0.0% Validation loss decreased compared to the previous epoch\u001b[0m\n"
     ]
    },
    {
     "data": {
      "application/vnd.jupyter.widget-view+json": {
       "model_id": "",
       "version_major": 2,
       "version_minor": 0
      },
      "text/plain": [
       "Epoch 7:   0%|          | 0/6441 [00:00<?, ?it/s]"
      ]
     },
     "metadata": {},
     "output_type": "display_data"
    },
    {
     "name": "stdout",
     "output_type": "stream",
     "text": [
      "\n",
      "Epoch 7\n",
      "Training loss: 0.0009934384368182998\n",
      "Validation loss: 5.692079619623467e-05\n",
      "F1 Score (weighted): 1.0\n",
      "\u001b[91m58.34% Training loss increased compared to the previous epoch\u001b[0m\n",
      "\u001b[91m0.0% Validation loss increased compared to the previous epoch\u001b[0m\n"
     ]
    },
    {
     "data": {
      "application/vnd.jupyter.widget-view+json": {
       "model_id": "",
       "version_major": 2,
       "version_minor": 0
      },
      "text/plain": [
       "Epoch 8:   0%|          | 0/6441 [00:00<?, ?it/s]"
      ]
     },
     "metadata": {},
     "output_type": "display_data"
    },
    {
     "name": "stdout",
     "output_type": "stream",
     "text": [
      "\n",
      "Epoch 8\n",
      "Training loss: 0.001352535559361236\n",
      "Validation loss: 5.692079619155065e-05\n",
      "F1 Score (weighted): 1.0\n",
      "\u001b[91m36.15% Training loss increased compared to the previous epoch\u001b[0m\n",
      "\u001b[92m0.0% Validation loss decreased compared to the previous epoch\u001b[0m\n"
     ]
    },
    {
     "data": {
      "application/vnd.jupyter.widget-view+json": {
       "model_id": "",
       "version_major": 2,
       "version_minor": 0
      },
      "text/plain": [
       "Epoch 9:   0%|          | 0/6441 [00:00<?, ?it/s]"
      ]
     },
     "metadata": {},
     "output_type": "display_data"
    },
    {
     "name": "stdout",
     "output_type": "stream",
     "text": [
      "\n",
      "Epoch 9\n",
      "Training loss: 0.0008514843046357687\n",
      "Validation loss: 5.6920879438340616e-05\n",
      "F1 Score (weighted): 1.0\n",
      "\u001b[92m37.05% Training loss decreased compared to the previous epoch\u001b[0m\n",
      "\u001b[91m0.0% Validation loss increased compared to the previous epoch\u001b[0m\n"
     ]
    },
    {
     "data": {
      "application/vnd.jupyter.widget-view+json": {
       "model_id": "",
       "version_major": 2,
       "version_minor": 0
      },
      "text/plain": [
       "Epoch 10:   0%|          | 0/6441 [00:00<?, ?it/s]"
      ]
     },
     "metadata": {},
     "output_type": "display_data"
    },
    {
     "name": "stdout",
     "output_type": "stream",
     "text": [
      "\n",
      "Epoch 10\n",
      "Training loss: 0.00024542953088169876\n",
      "Validation loss: 5.692096268354278e-05\n",
      "F1 Score (weighted): 1.0\n",
      "\u001b[92m71.18% Training loss decreased compared to the previous epoch\u001b[0m\n",
      "\u001b[91m0.0% Validation loss increased compared to the previous epoch\u001b[0m\n"
     ]
    },
    {
     "data": {
      "application/vnd.jupyter.widget-view+json": {
       "model_id": "",
       "version_major": 2,
       "version_minor": 0
      },
      "text/plain": [
       "Epoch 11:   0%|          | 0/6441 [00:00<?, ?it/s]"
      ]
     },
     "metadata": {},
     "output_type": "display_data"
    },
    {
     "name": "stdout",
     "output_type": "stream",
     "text": [
      "\n",
      "Epoch 11\n",
      "Training loss: 0.0009375946604975324\n",
      "Validation loss: 5.6920817001005366e-05\n",
      "F1 Score (weighted): 1.0\n",
      "\u001b[91m282.02% Training loss increased compared to the previous epoch\u001b[0m\n",
      "\u001b[92m0.0% Validation loss decreased compared to the previous epoch\u001b[0m\n"
     ]
    },
    {
     "data": {
      "application/vnd.jupyter.widget-view+json": {
       "model_id": "",
       "version_major": 2,
       "version_minor": 0
      },
      "text/plain": [
       "Epoch 12:   0%|          | 0/6441 [00:00<?, ?it/s]"
      ]
     },
     "metadata": {},
     "output_type": "display_data"
    },
    {
     "name": "stdout",
     "output_type": "stream",
     "text": [
      "\n",
      "Epoch 12\n",
      "Training loss: 0.0009589076348589756\n",
      "Validation loss: 5.6920858626980534e-05\n",
      "F1 Score (weighted): 1.0\n",
      "\u001b[91m2.27% Training loss increased compared to the previous epoch\u001b[0m\n",
      "\u001b[91m0.0% Validation loss increased compared to the previous epoch\u001b[0m\n"
     ]
    },
    {
     "data": {
      "application/vnd.jupyter.widget-view+json": {
       "model_id": "",
       "version_major": 2,
       "version_minor": 0
      },
      "text/plain": [
       "Epoch 13:   0%|          | 0/6441 [00:00<?, ?it/s]"
      ]
     },
     "metadata": {},
     "output_type": "display_data"
    },
    {
     "name": "stdout",
     "output_type": "stream",
     "text": [
      "\n",
      "Epoch 13\n",
      "Training loss: 0.0011849606591912648\n",
      "Validation loss: 5.6920941871468186e-05\n",
      "F1 Score (weighted): 1.0\n",
      "\u001b[91m23.57% Training loss increased compared to the previous epoch\u001b[0m\n",
      "\u001b[91m0.0% Validation loss increased compared to the previous epoch\u001b[0m\n",
      "\n",
      "Early stopping triggered. Training stopped.\n",
      "\n",
      "Total training time: 260.0162259221077 minutes\n",
      "Final Accuracy: 1.0\n",
      "Final Precision: 1.0\n"
     ]
    },
    {
     "data": {
      "image/png": "[encoded data removed]",
      "text/plain": [
       "<Figure size 800x600 with 1 Axes>"
      ]
     },
     "metadata": {},
     "output_type": "display_data"
    },
    {
     "name": "stdout",
     "output_type": "stream",
     "text": [
      "Epoch                 Training Loss           Validation Loss         F1 Score    Accuracy      Precision\n",
      "--------------------  ----------------------  ----------------------  ----------  ----------  -----------\n",
      "1                     0.0011589614878340989   5.6920900253193875e-05  1.0         1.0               1\n",
      "2                     \u001b[91m0.001165879817690228\u001b[0m    \u001b[91m5.6920983496728844e-05\u001b[0m  1.0         1.0               1\n",
      "3                     \u001b[91m0.0012942963176324608\u001b[0m   \u001b[92m5.692079619440869e-05\u001b[0m   1.0         1.0               1\n",
      "4                     \u001b[92m0.00023485413347261848\u001b[0m  \u001b[91m5.69208794392933e-05\u001b[0m    1.0         1.0               1\n",
      "5                     \u001b[91m0.000624949893510888\u001b[0m    \u001b[91m5.692087944143684e-05\u001b[0m   1.0         1.0               1\n",
      "6                     \u001b[91m0.0006274169419736761\u001b[0m   \u001b[92m5.692079619337662e-05\u001b[0m   1.0         1.0               1\n",
      "7                     \u001b[91m0.0009934384368182998\u001b[0m   \u001b[91m5.692079619623467e-05\u001b[0m   1.0         1.0               1\n",
      "8                     \u001b[91m0.001352535559361236\u001b[0m    \u001b[92m5.692079619155065e-05\u001b[0m   1.0         1.0               1\n",
      "9                     \u001b[92m0.0008514843046357687\u001b[0m   \u001b[91m5.6920879438340616e-05\u001b[0m  1.0         1.0               1\n",
      "10                    \u001b[92m0.00024542953088169876\u001b[0m  \u001b[91m5.692096268354278e-05\u001b[0m   1.0         1.0               1\n",
      "11                    \u001b[91m0.0009375946604975324\u001b[0m   \u001b[92m5.6920817001005366e-05\u001b[0m  1.0         1.0               1\n",
      "12                    \u001b[91m0.0009589076348589756\u001b[0m   \u001b[91m5.6920858626980534e-05\u001b[0m  1.0         1.0               1\n",
      "13                    \u001b[91m0.0011849606591912648\u001b[0m   \u001b[91m5.6920941871468186e-05\u001b[0m  1.0         1.0               1\n",
      "Total Training Time                                                                             15601\n",
      "Final Precision                                                                                     1\n",
      "Total Time (minutes)                                                                              260.016\n"
     ]
    }
   ],
   "source": [
    "from torch.utils.data import DataLoader, SubsetRandomSampler\n",
    "from sklearn.model_selection import KFold\n",
    "\n",
    "k = 10  # Number of folds\n",
    "kf = KFold(n_splits=k, shuffle=True, random_state=42)\n",
    "\n",
    "# Initialize lists to store the evaluation metrics for each fold\n",
    "training_loss_lists = []\n",
    "validation_loss_lists = []\n",
    "accuracy_lists = []\n",
    "precision_lists = []\n",
    "f1_score_lists = []\n",
    "\n",
    "# Convert the multilabel indicator target to numpy array\n",
    "targets = dataset_train.tensors[1].numpy()\n",
    "\n",
    "# Perform multilabel k-fold cross-validation\n",
    "for fold, (train_index, val_index) in enumerate(kf.split(targets)):\n",
    "    print(f\"\\nFold {fold+1}\")\n",
    "    train_sampler = SubsetRandomSampler(train_index)\n",
    "    val_sampler = SubsetRandomSampler(val_index)\n",
    "\n",
    "    # Create data loaders for training and validation\n",
    "    dataloader_train = DataLoader(dataset_train, batch_size=batch_size, sampler=train_sampler)\n",
    "    dataloader_val = DataLoader(dataset_train, batch_size=batch_size, sampler=val_sampler)\n",
    "\n",
    "    # train_model(trainer, dataloader_train, dataloader_val, epochs, patience)\n",
    "\n",
    "    try:\n",
    "        train_model(trainer, dataloader_train, dataloader_val, epochs, patience)\n",
    "    except Exception as e:\n",
    "        print(f\"Continue to the next fold {fold+1}: {str(e)}\")\n",
    "        continue"
   ]
  },
  {
   "cell_type": "code",
   "execution_count": 20,
   "id": "f24429e4-743b-4a11-80d6-5e2fadaabc9e",
   "metadata": {},
   "outputs": [
    {
     "name": "stdout",
     "output_type": "stream",
     "text": [
      "Class: 0\n",
      "Accuracy: 2532/2532\n",
      "\n",
      "Class: 1\n",
      "Accuracy: 3192/3192\n",
      "\n"
     ]
    }
   ],
   "source": [
    "model.load_state_dict(\n",
    "    torch.load(\n",
    "        \"Models/finetuned_bert_gpt_ft_epoch10.model\", \n",
    "        map_location = torch.device('cuda')\n",
    "    )\n",
    ")\n",
    "_, predictions, true_vals = evaluate(dataloader_val)\n",
    "accuracy_per_class(predictions, true_vals)"
   ]
  },
  {
   "cell_type": "code",
   "execution_count": 21,
   "id": "fa5f8d3d-86ce-486b-84d4-1363d26dab38",
   "metadata": {},
   "outputs": [
    {
     "name": "stdout",
     "output_type": "stream",
     "text": [
      "Class: 0\n",
      "Accuracy: 22780/22781\n",
      "\n",
      "Class: 1\n",
      "Accuracy: 28740/28741\n",
      "\n"
     ]
    }
   ],
   "source": [
    "model.load_state_dict(\n",
    "    torch.load(\n",
    "        \"Models/finetuned_bert_gpt_ft_epoch10.model\", \n",
    "        map_location = torch.device('cuda')\n",
    "    )\n",
    ")\n",
    "_, predictions, true_vals = evaluate(dataloader_train)\n",
    "accuracy_per_class(predictions, true_vals)"
   ]
  }
 ],
 "metadata": {
  "kernelspec": {
   "display_name": "Python 3 (ipykernel)",
   "language": "python",
   "name": "python3"
  },
  "language_info": {
   "codemirror_mode": {
    "name": "ipython",
    "version": 3
   },
   "file_extension": ".py",
   "mimetype": "text/x-python",
   "name": "python",
   "nbconvert_exporter": "python",
   "pygments_lexer": "ipython3",
   "version": "3.10.9"
  }
 },
 "nbformat": 4,
 "nbformat_minor": 5
}

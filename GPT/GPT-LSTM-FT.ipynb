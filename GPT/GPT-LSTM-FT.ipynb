{
 "cells": [
  {
   "cell_type": "code",
   "execution_count": 1,
   "id": "c5bf24e9-d40b-45ad-9330-405d0097fe2e",
   "metadata": {
    "tags": []
   },
   "outputs": [
    {
     "name": "stderr",
     "output_type": "stream",
     "text": [
      "2023-07-31 17:26:19.429256: I tensorflow/core/util/port.cc:110] oneDNN custom operations are on. You may see slightly different numerical results due to floating-point round-off errors from different computation orders. To turn them off, set the environment variable `TF_ENABLE_ONEDNN_OPTS=0`.\n",
      "2023-07-31 17:26:19.850270: I tensorflow/core/platform/cpu_feature_guard.cc:182] This TensorFlow binary is optimized to use available CPU instructions in performance-critical operations.\n",
      "To enable the following instructions: AVX2 AVX_VNNI FMA, in other operations, rebuild TensorFlow with the appropriate compiler flags.\n",
      "2023-07-31 17:26:21.835282: W tensorflow/compiler/tf2tensorrt/utils/py_utils.cc:38] TF-TRT Warning: Could not find TensorRT\n"
     ]
    }
   ],
   "source": [
    "import torch\n",
    "import torch.nn as nn\n",
    "import pandas as pd\n",
    "from tqdm.notebook import tqdm  # For displaying progress bars\n",
    "from datasets import load_dataset  # For loading datasets\n",
    "from sklearn.model_selection import train_test_split  # For splitting the dataset\n",
    "from transformers import BertTokenizer  # For tokenizing text\n",
    "from torch.utils.data import TensorDataset  # For creating Tensor datasets\n",
    "import time  # For measuring time\n",
    "from sklearn.metrics import accuracy_score, precision_score, f1_score  # For evaluation metrics\n",
    "from sklearn.exceptions import UndefinedMetricWarning  # For handling metric warnings\n",
    "import matplotlib.pyplot as plt  # For plotting\n",
    "from tabulate import tabulate  # For tabular data formatting\n",
    "import random  # For randomization\n",
    "import numpy as np  # For numerical operations\n",
    "from transformers import (\n",
    "    BertTokenizer,  # Tokenizer for BERT models\n",
    "    AdamW,  # Optimizer for BERT models\n",
    "    get_linear_schedule_with_warmup,  # Learning rate scheduler for BERT models\n",
    "    BertConfig,  # Configuration for BERT models\n",
    "    BertForSequenceClassification  # BERT model for sequence classification tasks\n",
    ")\n",
    "from torch.utils.data import (\n",
    "    DataLoader,  # Data loader for creating batches\n",
    "    RandomSampler,  # Sampler for random sampling of data\n",
    "    SequentialSampler  # Sampler for sequential sampling of data\n",
    ")\n",
    "from sklearn.metrics import f1_score  # For computing the F1 score\n",
    "import pandas as pd\n",
    "import seaborn as sns\n",
    "from datasets import load_dataset\n",
    "from sklearn.model_selection import train_test_split\n",
    "import nltk\n",
    "from nltk.tokenize import word_tokenize\n",
    "# 1. Torch: PyTorch library for deep learning\n",
    "# 2. Pandas: Library for data manipulation and analysis\n",
    "# 3. tqdm: Library for displaying progress bars\n",
    "# 4. datasets: Library for working with datasets\n",
    "# 5. train_test_split: Function for splitting the dataset into training and validation sets\n",
    "# 6. BertTokenizer: Tokenizer for BERT models\n",
    "# 7. TensorDataset: Dataset class for creating PyTorch Tensor datasets\n",
    "# 8. time: Module for measuring time\n",
    "# 9. accuracy_score, precision_score, f1_score: Evaluation metrics for classification tasks\n",
    "# 10. UndefinedMetricWarning: Warning for undefined metric values\n",
    "# 11. matplotlib.pyplot: Plotting library\n",
    "# 12. tabulate: Library for formatting tabular data\n",
    "# 13. random: Module for randomization\n",
    "# 14. numpy: Library for numerical operations\n",
    "# 15. AdamW: Optimizer for BERT models\n",
    "# 16. get_linear_schedule_with_warmup: Learning rate scheduler for BERT models\n",
    "# 17. BertConfig: Configuration for BERT models\n",
    "# 18. BertForSequenceClassification: BERT model for sequence classification tasks\n",
    "# 19. DataLoader: Data loader for creating batches\n",
    "# 20. RandomSampler: Sampler for random sampling of data\n",
    "# 21. SequentialSampler: Sampler for sequential sampling of data\n",
    "# 22. f1_score: Function for computing the F1 score"
   ]
  },
  {
   "cell_type": "code",
   "execution_count": 2,
   "id": "207f2073-3da6-4185-917f-e8b3694617ed",
   "metadata": {},
   "outputs": [],
   "source": [
    "def count_words(text):\n",
    "    words = word_tokenize(text)\n",
    "    return len(words)\n",
    "\n",
    "def datacleaning_amazon():\n",
    "    dataset = load_dataset(\"amazon_us_reviews\", \"Apparel_v1_00\")\n",
    "    train_data = dataset['train']\n",
    "\n",
    "    train_data = train_data.select(range(50000))\n",
    "\n",
    "    # Filter rows with review_body length less than or equal to 256 words\n",
    "    train_data = train_data.filter(lambda example: count_words(example['review_body']) <= 256)\n",
    "\n",
    "    # Limit the dataset to the first 10,000 rows\n",
    "    train_data = train_data.select(range(10000))\n",
    "\n",
    "    df = train_data.to_pandas()  # Convert the dataset to a Pandas DataFrame\n",
    "    df = df[['customer_id', 'review_headline', 'review_body', 'star_rating']]  # Select specific columns\n",
    "    df.columns = ['customer_id', 'review_headline', 'review_body', 'star_rating']  # Rename the selected columns\n",
    "    df.set_index('customer_id', inplace=True)\n",
    "\n",
    "    df['sentiment'] = df['star_rating'].map({5: 'good', 4: 'good', 3: 'neutral', 2: 'bad', 1: 'bad'})\n",
    "\n",
    "    possible_labels = df.sentiment.unique()  # Get unique category labels from the DataFrame column 'category'\n",
    "\n",
    "    label_dict = {}  # Create a dictionary to map each possible label to a unique index\n",
    "    for index, possible_label in enumerate(possible_labels):\n",
    "        label_dict[possible_label] = index\n",
    "\n",
    "    df['label'] = df.sentiment.replace(label_dict)\n",
    "\n",
    "    # Split the dataset into training and validation sets\n",
    "    X_train, X_val, y_train, y_val = train_test_split(\n",
    "        df.index.values,\n",
    "        df.label.values,\n",
    "        test_size=0.15,\n",
    "        random_state=17,\n",
    "        stratify=df.label.values\n",
    "    )\n",
    "\n",
    "    df['data_type'] = ['not_set'] * df.shape[0]  # Set a new column 'data_type' for later data split\n",
    "\n",
    "    # Set the 'data_type' column of the dataframe for training and validation data\n",
    "    df.loc[X_train, 'data_type'] = 'train'\n",
    "    df.loc[X_val, 'data_type'] = 'val'\n",
    "\n",
    "    return df\n",
    "\n",
    "def f1_score_func(preds, labels):\n",
    "    preds_flat = np.argmax(preds, axis=1).flatten() #This line finds the index with the highest probability in each prediction, effectively giving the predicted class for each input.\n",
    "    labels_flat = labels.flatten()  #This line flattens the labels array into a 1D vector, as required by the f1_score function.\n",
    "    return f1_score(labels_flat, preds_flat, average='weighted') #This line computes the F1 score using the true labels and the predicted labels, with the weighted averaging scheme. The result is returned.\n",
    "\n",
    "def accuracy_per_class(preds, labels, label_dict):\n",
    "    # Create a dictionary with keys and values reversed for easy lookup.\n",
    "    label_dict_inverse = {v: k for k, v in label_dict.items()}\n",
    "    \n",
    "    # Get the predicted labels and flatten them.\n",
    "    preds_flat = np.argmax(preds, axis=1).flatten()\n",
    "    \n",
    "    # Get the actual labels and flatten them.\n",
    "    labels_flat = labels.flatten()\n",
    "\n",
    "    # Initialize the confusion matrix.\n",
    "    num_classes = len(label_dict)\n",
    "    confusion_mat = confusion_matrix(labels_flat, preds_flat, labels=list(range(num_classes)))\n",
    "    \n",
    "    # Calculate accuracy and F1 score per class\n",
    "    accuracies = {}\n",
    "    f1_scores = {}\n",
    "    for label in range(num_classes):\n",
    "        # Calculate accuracy for this class\n",
    "        num_correct = confusion_mat[label, label]\n",
    "        num_instances = np.sum(confusion_mat[label, :])\n",
    "        accuracy = num_correct / num_instances * 100\n",
    "        accuracies[label] = accuracy\n",
    "        \n",
    "        # Calculate F1 score for this class\n",
    "        f1 = f1_score(labels_flat, preds_flat, labels=[label], average='weighted')\n",
    "        f1_scores[label] = f1\n",
    "\n",
    "        # Print the class name, accuracy numerator, and denominator.\n",
    "        class_name = label_dict_inverse[label]\n",
    "        print(f'Class: {class_name}')\n",
    "        print(f'Accuracy: {num_correct}/{num_instances} ({accuracy:.2f}%)')\n",
    "        print(f'F1 Score: {f1:.2f}\\n')\n",
    "\n",
    "    # Calculate total accuracy and F1 score\n",
    "    total_accuracy = accuracy_score(labels_flat, preds_flat) * 100\n",
    "    total_f1_score = f1_score(labels_flat, preds_flat, average='weighted')\n",
    "\n",
    "    # Print the total accuracy and F1 score\n",
    "    print(f'Total Accuracy: {total_accuracy:.2f}%')\n",
    "    print(f'Total F1 Score: {total_f1_score:.2f}')\n",
    "\n",
    "\n",
    "#This code evaluates the performance of a trained model on a validation dataset by computing its loss and predictions for each batch in the dataset.\n",
    "def evaluate(dataloader_val):\n",
    "\n",
    "    model.eval() # setting the model to evaluation mode to disable dropout and other regularization techniques that are useful during training but not during evaluation.\n",
    "    \n",
    "    loss_val_total = 0\n",
    "    predictions, true_vals = [], []\n",
    "    \n",
    "    for batch in dataloader_val:\n",
    "    \n",
    "        batch = tuple(b.to(device) for b in batch) # moving the input batch to the GPU for faster computation.\n",
    "   \n",
    "        #  creating a dictionary of inputs that will be passed to the model. The input IDs and attention mask are for the BERT model, and the labels are the true labels for each input.\n",
    "        inputs = {'input_ids':  \tbatch[0],\n",
    "                'attention_mask': batch[1],\n",
    "                'labels':     \tbatch[2],\n",
    "                } \n",
    "\n",
    "        with torch.no_grad():   \n",
    "            outputs = model(**inputs)\n",
    "        \n",
    "        loss = outputs[0]\n",
    "        logits = outputs[1]\n",
    "        loss_val_total += loss.item()\n",
    "\n",
    "        logits = logits.detach().cpu().numpy()\n",
    "        label_ids = inputs['labels'].cpu().numpy()\n",
    "        predictions.append(logits)\n",
    "        true_vals.append(label_ids)\n",
    "    \n",
    "    loss_val_avg = loss_val_total/len(dataloader_val)\n",
    "    \n",
    "    predictions = np.concatenate(predictions, axis=0)\n",
    "    true_vals = np.concatenate(true_vals, axis=0)\n",
    "       \t \n",
    "    return loss_val_avg, predictions, true_vals\n",
    "\n",
    "def train_model(trainer, dataloader_train, dataloader_val, epochs, patience):\n",
    "    total_training_time = 0\n",
    "    \n",
    "    training_loss_list = []\n",
    "    validation_loss_list = []\n",
    "    accuracy_list = []\n",
    "    precision_list = []\n",
    "    f1_score_list = []\n",
    "    \n",
    "    previous_results = None  # Store previous epoch results\n",
    "    best_val_loss = float('inf')\n",
    "    counter = 0\n",
    "    \n",
    "    for epoch in tqdm(range(1, epochs + 1)):\n",
    "        start_time = time.time()\n",
    "    \n",
    "        model.train()\n",
    "        loss_train_total = 0\n",
    "    \n",
    "        progress_bar = tqdm(dataloader_train,\n",
    "                            desc='Epoch {:1d}'.format(epoch),\n",
    "                            leave=False,\n",
    "                            disable=False)\n",
    "        for batch in progress_bar:\n",
    "            model.zero_grad()\n",
    "            batch = tuple(b.to(device) for b in batch)\n",
    "            inputs = {\n",
    "                'input_ids': batch[0],\n",
    "                'attention_mask': batch[1],\n",
    "                'labels': batch[2],\n",
    "            }\n",
    "            output = model(**inputs)\n",
    "            loss = output[0]\n",
    "            loss_train_total += loss.item()\n",
    "            loss.backward()\n",
    "            torch.nn.utils.clip_grad_norm_(model.parameters(), 1.0)\n",
    "            optimizer.step()\n",
    "            scheduler.step()\n",
    "            progress_bar.set_postfix({'training_loss': '{:.3f}'.format(loss.item() / len(batch))})\n",
    "    \n",
    "        end_time = time.time()\n",
    "        epoch_training_time = end_time - start_time\n",
    "        total_training_time += epoch_training_time\n",
    "    \n",
    "        torch.save(model.state_dict(), f'Models/finetuned_gpt_amazon_ft_epoch{epoch}.model')\n",
    "    \n",
    "        tqdm.write(f'\\nEpoch {epoch}')\n",
    "    \n",
    "        loss_train_avg = loss_train_total / len(dataloader_train)\n",
    "        tqdm.write(f'Training loss: {loss_train_avg}')\n",
    "    \n",
    "        val_loss, predictions, true_vals = evaluate(dataloader_val)\n",
    "    \n",
    "        # Convert predictions to discrete labels\n",
    "        predictions = np.argmax(predictions, axis=1)\n",
    "    \n",
    "        val_f1 = f1_score(true_vals, predictions, average='weighted')\n",
    "        tqdm.write(f'Validation loss: {val_loss}')\n",
    "        tqdm.write(f'F1 Score (weighted): {val_f1}')\n",
    "    \n",
    "        val_accuracy = accuracy_score(true_vals, predictions)\n",
    "        val_precision = precision_score(true_vals, predictions, average='weighted', zero_division=1)\n",
    "    \n",
    "        # Compute and store metrics\n",
    "        training_loss_list.append(loss_train_avg)\n",
    "        validation_loss_list.append(val_loss)\n",
    "        f1_score_list.append(val_f1)\n",
    "        accuracy_list.append(val_accuracy)\n",
    "        precision_list.append(val_precision)\n",
    "    \n",
    "        # Check if there are previous results to compare with\n",
    "        if previous_results is not None:\n",
    "            if loss_train_avg > previous_results['loss_train_avg']:\n",
    "                percentage_increase = ((loss_train_avg - previous_results['loss_train_avg']) / previous_results['loss_train_avg']) * 100\n",
    "                tqdm.write('\\033[91m' + f'{round(percentage_increase, 2)}% Training loss increased compared to the previous epoch' + '\\033[0m')\n",
    "            if loss_train_avg < previous_results['loss_train_avg']:\n",
    "                percentage_decrease = ((previous_results['loss_train_avg'] - loss_train_avg) / previous_results['loss_train_avg']) * 100\n",
    "                tqdm.write('\\033[92m' + f'{round(percentage_decrease, 2)}% Training loss decreased compared to the previous epoch' + '\\033[0m')\n",
    "            if val_loss > previous_results['val_loss']:\n",
    "                percentage_increase = ((val_loss - previous_results['val_loss']) / previous_results['val_loss']) * 100\n",
    "                tqdm.write('\\033[91m' + f'{round(percentage_increase, 2)}% Validation loss increased compared to the previous epoch' + '\\033[0m')\n",
    "            if val_loss < previous_results['val_loss']:\n",
    "                percentage_decrease = ((previous_results['val_loss'] - val_loss) / previous_results['val_loss']) * 100\n",
    "                tqdm.write('\\033[92m' + f'{round(percentage_decrease, 2)}% Validation loss decreased compared to the previous epoch' + '\\033[0m')\n",
    "            if val_f1 < previous_results['val_f1']:\n",
    "                percentage_decrease = ((previous_results['val_f1'] - val_f1) / previous_results['val_f1']) * 100\n",
    "                tqdm.write('\\033[91m' + f'{round(percentage_decrease, 2)}% F1 Score decreased compared to the previous epoch' + '\\033[0m')\n",
    "            if val_f1 > previous_results['val_f1']:\n",
    "                percentage_increase = ((val_f1 - previous_results['val_f1']) / previous_results['val_f1']) * 100\n",
    "                tqdm.write('\\033[92m' + f'{round(percentage_increase, 2)}% F1 Score increased compared to the previous epoch' + '\\033[0m')\n",
    "    \n",
    "        # Store current results as previous results for the next epoch\n",
    "        previous_results = {\n",
    "            'loss_train_avg': loss_train_avg,\n",
    "            'val_loss': val_loss,\n",
    "            'val_f1': val_f1\n",
    "        }\n",
    "        \n",
    "        # Check for early stopping\n",
    "        if val_loss < best_val_loss:\n",
    "            best_val_loss = val_loss\n",
    "            counter = 0\n",
    "        else:\n",
    "            counter += 1\n",
    "            if counter >= patience:\n",
    "                tqdm.write('\\nEarly stopping triggered. Training stopped.')\n",
    "                break\n",
    "    \n",
    "    total_time_minutes = total_training_time / 60\n",
    "    tqdm.write(f'\\nTotal training time: {total_time_minutes} minutes')\n",
    "    \n",
    "    final_accuracy = accuracy_list[-1]\n",
    "    final_precision = precision_list[-1]\n",
    "    tqdm.write(f'Final Accuracy: {final_accuracy}')\n",
    "    tqdm.write(f'Final Precision: {final_precision}')\n",
    "    \n",
    "    # Create the x-axis values based on the actual number of epochs completed\n",
    "    x_values = range(1, len(training_loss_list) + 1)\n",
    "    \n",
    "    # Create the metrics subplot\n",
    "    fig, ax = plt.subplots(figsize=(8, 6))\n",
    "    \n",
    "    # Plot training loss\n",
    "    ax.plot(x_values, training_loss_list, label='Training Loss')\n",
    "    \n",
    "    # Plot validation loss\n",
    "    ax.plot(x_values, validation_loss_list, label='Validation Loss')\n",
    "    \n",
    "    # Plot F1-score\n",
    "    ax.plot(x_values, f1_score_list, label='F1 Score')\n",
    "\n",
    "    # Plot Accuracy\n",
    "    ax.plot(x_values, accuracy_list, label='Accuracy')\n",
    "    \n",
    "    # Set labels and title\n",
    "    ax.set_xlabel('Epoch')\n",
    "    ax.set_ylabel('Metric Value')\n",
    "    ax.set_title('Training Loss, Validation Loss, and F1 Score')\n",
    "    \n",
    "    # Set legend\n",
    "    ax.legend()\n",
    "    \n",
    "    # Show the combined plot\n",
    "    plt.show()\n",
    "    \n",
    "    \n",
    "    # Create the metrics table\n",
    "    metrics_table = [\n",
    "        ['Epoch', 'Training Loss', 'Validation Loss', 'F1 Score', 'Accuracy', 'Precision'],\n",
    "    ]\n",
    "    previous_results = None\n",
    "    for epoch in range(1, len(training_loss_list) + 1):\n",
    "        row = [\n",
    "            epoch,\n",
    "            training_loss_list[epoch - 1],\n",
    "            validation_loss_list[epoch - 1],\n",
    "            f1_score_list[epoch - 1],\n",
    "            accuracy_list[epoch - 1],\n",
    "            precision_list[epoch - 1]\n",
    "        ]\n",
    "    \n",
    "        # Compare with previous epoch results\n",
    "        if previous_results is not None:\n",
    "            if training_loss_list[epoch - 1] < previous_results['loss_train_avg']:\n",
    "                row[1] = '\\033[92m' + str(row[1]) + '\\033[0m'  # Highlight in green\n",
    "            if training_loss_list[epoch - 1] > previous_results['loss_train_avg']:\n",
    "                row[1] = '\\033[91m' + str(row[1]) + '\\033[0m'  # Highlight in red\n",
    "            if validation_loss_list[epoch - 1] < previous_results['val_loss']:\n",
    "                row[2] = '\\033[92m' + str(row[2]) + '\\033[0m'  # Highlight in green\n",
    "            if validation_loss_list[epoch - 1] > previous_results['val_loss']:\n",
    "                row[2] = '\\033[91m' + str(row[2]) + '\\033[0m'  # Highlight in red\n",
    "            if f1_score_list[epoch - 1] > previous_results['val_f1']:\n",
    "                row[3] = '\\033[92m' + str(row[3]) + '\\033[0m'  # Highlight in green\n",
    "            if f1_score_list[epoch - 1] < previous_results['val_f1']:\n",
    "                row[3] = '\\033[91m' + str(row[3]) + '\\033[0m'  # Highlight in red\n",
    "            if accuracy_list[epoch - 1] > previous_results['val_f1']:\n",
    "                row[4] = '\\033[92m' + str(row[3]) + '\\033[0m'  # Highlight in green\n",
    "            if accuracy_list[epoch - 1] < previous_results['val_f1']:\n",
    "                row[4] = '\\033[91m' + str(row[3]) + '\\033[0m'  # Highlight in red\n",
    "            if precision_list[epoch - 1] > previous_results['val_f1']:\n",
    "                row[5] = '\\033[92m' + str(row[3]) + '\\033[0m'  # Highlight in green\n",
    "            if precision_list[epoch - 1] < previous_results['val_f1']:\n",
    "                row[5] = '\\033[91m' + str(row[3]) + '\\033[0m'  # Highlight in red\n",
    "    \n",
    "        metrics_table.append(row)\n",
    "        previous_results = {\n",
    "            'loss_train_avg': training_loss_list[epoch - 1],\n",
    "            'val_loss': validation_loss_list[epoch - 1],\n",
    "            'val_f1': f1_score_list[epoch - 1]\n",
    "        }\n",
    "    \n",
    "    # Calculate total training time in minutes\n",
    "    total_time_minutes = total_training_time / 60\n",
    "    \n",
    "    # Calculate total precision\n",
    "    total_precision = precision_list[-1]\n",
    "    \n",
    "    # Add total training time and total precision rows to the table\n",
    "    metrics_table.append(['Total Training Time', '', '', '', '', total_training_time])\n",
    "    metrics_table.append(['Final Precision', '', '', '', '', total_precision])\n",
    "    metrics_table.append(['Total Time (minutes)', '', '', '', '', total_time_minutes])\n",
    "    \n",
    "    # Print the table\n",
    "    print(tabulate(metrics_table, headers='firstrow'))\n",
    "\n",
    "    return training_loss_list, validation_loss_list, accuracy_list, precision_list, f1_score_list\n",
    "\n",
    "default_args = {\n",
    "    \"output_dir\": \"tmp\",\n",
    "    \"evaluation_strategy\": \"steps\",\n",
    "    \"num_train_epochs\": 1,\n",
    "    \"log_level\": \"error\",\n",
    "    \"report_to\": \"none\",\n",
    "}"
   ]
  },
  {
   "cell_type": "code",
   "execution_count": 3,
   "id": "d9785608-cd5e-4432-9d68-68d90c4a0a5a",
   "metadata": {},
   "outputs": [
    {
     "name": "stderr",
     "output_type": "stream",
     "text": [
      "Found cached dataset amazon_us_reviews (/home/z123010/.cache/huggingface/datasets/amazon_us_reviews/Apparel_v1_00/0.1.0/17b2481be59723469538adeb8fd0a68b0ba363bbbdd71090e72c325ee6c7e563)\n"
     ]
    },
    {
     "data": {
      "application/vnd.jupyter.widget-view+json": {
       "model_id": "9c96e1a3b0d542c7876a1d79e718eda8",
       "version_major": 2,
       "version_minor": 0
      },
      "text/plain": [
       "  0%|          | 0/1 [00:00<?, ?it/s]"
      ]
     },
     "metadata": {},
     "output_type": "display_data"
    },
    {
     "name": "stderr",
     "output_type": "stream",
     "text": [
      "Loading cached processed dataset at /home/z123010/.cache/huggingface/datasets/amazon_us_reviews/Apparel_v1_00/0.1.0/17b2481be59723469538adeb8fd0a68b0ba363bbbdd71090e72c325ee6c7e563/cache-39524de3311549b5.arrow\n"
     ]
    }
   ],
   "source": [
    "df = datacleaning_amazon()"
   ]
  },
  {
   "cell_type": "code",
   "execution_count": 4,
   "id": "8793b8bc-43bd-4d43-a17e-abf0174eb200",
   "metadata": {},
   "outputs": [],
   "source": [
    "# Create label_dict and assign the number of labels\n",
    "label_dict = {label: index for index, label in enumerate(df['label'].unique())}"
   ]
  },
  {
   "cell_type": "code",
   "execution_count": 5,
   "id": "2707709e-9e1b-460f-9386-6d9e999f2d90",
   "metadata": {},
   "outputs": [
    {
     "data": {
      "text/html": [
       "<div>\n",
       "<style scoped>\n",
       "    .dataframe tbody tr th:only-of-type {\n",
       "        vertical-align: middle;\n",
       "    }\n",
       "\n",
       "    .dataframe tbody tr th {\n",
       "        vertical-align: top;\n",
       "    }\n",
       "\n",
       "    .dataframe thead th {\n",
       "        text-align: right;\n",
       "    }\n",
       "</style>\n",
       "<table border=\"1\" class=\"dataframe\">\n",
       "  <thead>\n",
       "    <tr style=\"text-align: right;\">\n",
       "      <th></th>\n",
       "      <th>review_headline</th>\n",
       "      <th>review_body</th>\n",
       "      <th>star_rating</th>\n",
       "      <th>sentiment</th>\n",
       "      <th>label</th>\n",
       "      <th>data_type</th>\n",
       "    </tr>\n",
       "    <tr>\n",
       "      <th>customer_id</th>\n",
       "      <th></th>\n",
       "      <th></th>\n",
       "      <th></th>\n",
       "      <th></th>\n",
       "      <th></th>\n",
       "      <th></th>\n",
       "    </tr>\n",
       "  </thead>\n",
       "  <tbody>\n",
       "    <tr>\n",
       "      <th>50867430</th>\n",
       "      <td>Absolutely must</td>\n",
       "      <td>Fits great! Feels comfortable! An overall grea...</td>\n",
       "      <td>5</td>\n",
       "      <td>good</td>\n",
       "      <td>0</td>\n",
       "      <td>train</td>\n",
       "    </tr>\n",
       "    <tr>\n",
       "      <th>14094716</th>\n",
       "      <td>Five Stars</td>\n",
       "      <td>Item is ok</td>\n",
       "      <td>5</td>\n",
       "      <td>good</td>\n",
       "      <td>0</td>\n",
       "      <td>val</td>\n",
       "    </tr>\n",
       "    <tr>\n",
       "      <th>36322626</th>\n",
       "      <td>Two Stars</td>\n",
       "      <td>This shirt runs extremely small.  I generally ...</td>\n",
       "      <td>2</td>\n",
       "      <td>bad</td>\n",
       "      <td>2</td>\n",
       "      <td>train</td>\n",
       "    </tr>\n",
       "    <tr>\n",
       "      <th>16521558</th>\n",
       "      <td>Five Stars</td>\n",
       "      <td>Love it</td>\n",
       "      <td>5</td>\n",
       "      <td>good</td>\n",
       "      <td>0</td>\n",
       "      <td>train</td>\n",
       "    </tr>\n",
       "    <tr>\n",
       "      <th>28567406</th>\n",
       "      <td>Five Stars</td>\n",
       "      <td>Great for computer backups.</td>\n",
       "      <td>5</td>\n",
       "      <td>good</td>\n",
       "      <td>0</td>\n",
       "      <td>train</td>\n",
       "    </tr>\n",
       "    <tr>\n",
       "      <th>28796755</th>\n",
       "      <td>Five Stars</td>\n",
       "      <td>Great fit, very comfortable!</td>\n",
       "      <td>5</td>\n",
       "      <td>good</td>\n",
       "      <td>0</td>\n",
       "      <td>train</td>\n",
       "    </tr>\n",
       "    <tr>\n",
       "      <th>159429</th>\n",
       "      <td>Runs Very Small</td>\n",
       "      <td>The product looks like the picture and the fab...</td>\n",
       "      <td>4</td>\n",
       "      <td>good</td>\n",
       "      <td>0</td>\n",
       "      <td>train</td>\n",
       "    </tr>\n",
       "    <tr>\n",
       "      <th>117231</th>\n",
       "      <td>Five Stars</td>\n",
       "      <td>I luv it,</td>\n",
       "      <td>5</td>\n",
       "      <td>good</td>\n",
       "      <td>0</td>\n",
       "      <td>train</td>\n",
       "    </tr>\n",
       "    <tr>\n",
       "      <th>1965478</th>\n",
       "      <td>Ugh.</td>\n",
       "      <td>I bought this design and one other, both XXL, ...</td>\n",
       "      <td>1</td>\n",
       "      <td>bad</td>\n",
       "      <td>2</td>\n",
       "      <td>val</td>\n",
       "    </tr>\n",
       "    <tr>\n",
       "      <th>126265</th>\n",
       "      <td>Five Stars</td>\n",
       "      <td>the belt is great and the service is super great.</td>\n",
       "      <td>5</td>\n",
       "      <td>good</td>\n",
       "      <td>0</td>\n",
       "      <td>train</td>\n",
       "    </tr>\n",
       "  </tbody>\n",
       "</table>\n",
       "</div>"
      ],
      "text/plain": [
       "             review_headline   \n",
       "customer_id                    \n",
       "50867430     Absolutely must  \\\n",
       "14094716          Five Stars   \n",
       "36322626           Two Stars   \n",
       "16521558          Five Stars   \n",
       "28567406          Five Stars   \n",
       "28796755          Five Stars   \n",
       "159429       Runs Very Small   \n",
       "117231            Five Stars   \n",
       "1965478                 Ugh.   \n",
       "126265            Five Stars   \n",
       "\n",
       "                                                   review_body  star_rating   \n",
       "customer_id                                                                   \n",
       "50867430     Fits great! Feels comfortable! An overall grea...            5  \\\n",
       "14094716                                            Item is ok            5   \n",
       "36322626     This shirt runs extremely small.  I generally ...            2   \n",
       "16521558                                               Love it            5   \n",
       "28567406                           Great for computer backups.            5   \n",
       "28796755                          Great fit, very comfortable!            5   \n",
       "159429       The product looks like the picture and the fab...            4   \n",
       "117231                                               I luv it,            5   \n",
       "1965478      I bought this design and one other, both XXL, ...            1   \n",
       "126265       the belt is great and the service is super great.            5   \n",
       "\n",
       "            sentiment  label data_type  \n",
       "customer_id                             \n",
       "50867430         good      0     train  \n",
       "14094716         good      0       val  \n",
       "36322626          bad      2     train  \n",
       "16521558         good      0     train  \n",
       "28567406         good      0     train  \n",
       "28796755         good      0     train  \n",
       "159429           good      0     train  \n",
       "117231           good      0     train  \n",
       "1965478           bad      2       val  \n",
       "126265           good      0     train  "
      ]
     },
     "execution_count": 5,
     "metadata": {},
     "output_type": "execute_result"
    }
   ],
   "source": [
    "df.sample(n=10, random_state=42)  # Generate 10 random rows from df"
   ]
  },
  {
   "cell_type": "code",
   "execution_count": 6,
   "id": "80ba7636-26d9-4b92-853f-817294dfff86",
   "metadata": {},
   "outputs": [
    {
     "name": "stderr",
     "output_type": "stream",
     "text": [
      "[nltk_data] Downloading package punkt to /home/z123010/nltk_data...\n",
      "[nltk_data]   Package punkt is already up-to-date!\n"
     ]
    },
    {
     "data": {
      "image/png": "[encoded data removed]",
      "text/plain": [
       "<Figure size 1000x600 with 1 Axes>"
      ]
     },
     "metadata": {},
     "output_type": "display_data"
    }
   ],
   "source": [
    "import pandas as pd\n",
    "import matplotlib.pyplot as plt\n",
    "import nltk\n",
    "from nltk.tokenize import word_tokenize\n",
    "\n",
    "# Download the punkt tokenizer (if not already downloaded)\n",
    "nltk.download('punkt')\n",
    "\n",
    "# Function to count the number of words in a given text\n",
    "def count_words(text):\n",
    "    words = word_tokenize(text)\n",
    "    return len(words)\n",
    "\n",
    "# Apply the count_words function to each row of the review_body column\n",
    "df['word_count'] = df['review_body'].apply(count_words)\n",
    "\n",
    "# Group by the word_count and count how many rows have reviews of that length\n",
    "word_count_df = df['word_count'].value_counts().reset_index()\n",
    "word_count_df.columns = ['Complexity (Number of Words)', 'Number of Rows']\n",
    "\n",
    "# Sort the DataFrame by the complexity (number of words) in ascending order\n",
    "word_count_df.sort_values(by='Complexity (Number of Words)', inplace=True)\n",
    "\n",
    "# Create a bar plot to visualize the complexity and the number of rows\n",
    "plt.figure(figsize=(10, 6))\n",
    "plt.bar(word_count_df['Complexity (Number of Words)'], word_count_df['Number of Rows'])\n",
    "plt.xlabel('Complexity (Number of Words)')\n",
    "plt.ylabel('Number of Rows')\n",
    "plt.title('Complexity of Reviews')\n",
    "plt.xticks(rotation=90)\n",
    "plt.show()\n"
   ]
  },
  {
   "cell_type": "code",
   "execution_count": 7,
   "id": "dc596d9c-5808-4f39-a59e-6ed36d8927dd",
   "metadata": {},
   "outputs": [
    {
     "data": {
      "text/html": [
       "<div>\n",
       "<style scoped>\n",
       "    .dataframe tbody tr th:only-of-type {\n",
       "        vertical-align: middle;\n",
       "    }\n",
       "\n",
       "    .dataframe tbody tr th {\n",
       "        vertical-align: top;\n",
       "    }\n",
       "\n",
       "    .dataframe thead th {\n",
       "        text-align: right;\n",
       "    }\n",
       "</style>\n",
       "<table border=\"1\" class=\"dataframe\">\n",
       "  <thead>\n",
       "    <tr style=\"text-align: right;\">\n",
       "      <th></th>\n",
       "      <th></th>\n",
       "      <th></th>\n",
       "      <th>review_headline</th>\n",
       "      <th>review_body</th>\n",
       "      <th>sentiment</th>\n",
       "      <th>word_count</th>\n",
       "    </tr>\n",
       "    <tr>\n",
       "      <th>star_rating</th>\n",
       "      <th>label</th>\n",
       "      <th>data_type</th>\n",
       "      <th></th>\n",
       "      <th></th>\n",
       "      <th></th>\n",
       "      <th></th>\n",
       "    </tr>\n",
       "  </thead>\n",
       "  <tbody>\n",
       "    <tr>\n",
       "      <th rowspan=\"2\" valign=\"top\">1</th>\n",
       "      <th rowspan=\"2\" valign=\"top\">2</th>\n",
       "      <th>train</th>\n",
       "      <td>907</td>\n",
       "      <td>907</td>\n",
       "      <td>907</td>\n",
       "      <td>907</td>\n",
       "    </tr>\n",
       "    <tr>\n",
       "      <th>val</th>\n",
       "      <td>190</td>\n",
       "      <td>190</td>\n",
       "      <td>190</td>\n",
       "      <td>190</td>\n",
       "    </tr>\n",
       "    <tr>\n",
       "      <th rowspan=\"2\" valign=\"top\">2</th>\n",
       "      <th rowspan=\"2\" valign=\"top\">2</th>\n",
       "      <th>train</th>\n",
       "      <td>490</td>\n",
       "      <td>490</td>\n",
       "      <td>490</td>\n",
       "      <td>490</td>\n",
       "    </tr>\n",
       "    <tr>\n",
       "      <th>val</th>\n",
       "      <td>83</td>\n",
       "      <td>83</td>\n",
       "      <td>83</td>\n",
       "      <td>83</td>\n",
       "    </tr>\n",
       "    <tr>\n",
       "      <th rowspan=\"2\" valign=\"top\">3</th>\n",
       "      <th rowspan=\"2\" valign=\"top\">1</th>\n",
       "      <th>train</th>\n",
       "      <td>683</td>\n",
       "      <td>683</td>\n",
       "      <td>683</td>\n",
       "      <td>683</td>\n",
       "    </tr>\n",
       "    <tr>\n",
       "      <th>val</th>\n",
       "      <td>135</td>\n",
       "      <td>135</td>\n",
       "      <td>135</td>\n",
       "      <td>135</td>\n",
       "    </tr>\n",
       "    <tr>\n",
       "      <th rowspan=\"2\" valign=\"top\">4</th>\n",
       "      <th rowspan=\"2\" valign=\"top\">0</th>\n",
       "      <th>train</th>\n",
       "      <td>1330</td>\n",
       "      <td>1330</td>\n",
       "      <td>1330</td>\n",
       "      <td>1330</td>\n",
       "    </tr>\n",
       "    <tr>\n",
       "      <th>val</th>\n",
       "      <td>261</td>\n",
       "      <td>261</td>\n",
       "      <td>261</td>\n",
       "      <td>261</td>\n",
       "    </tr>\n",
       "    <tr>\n",
       "      <th rowspan=\"2\" valign=\"top\">5</th>\n",
       "      <th rowspan=\"2\" valign=\"top\">0</th>\n",
       "      <th>train</th>\n",
       "      <td>4665</td>\n",
       "      <td>4665</td>\n",
       "      <td>4665</td>\n",
       "      <td>4665</td>\n",
       "    </tr>\n",
       "    <tr>\n",
       "      <th>val</th>\n",
       "      <td>1256</td>\n",
       "      <td>1256</td>\n",
       "      <td>1256</td>\n",
       "      <td>1256</td>\n",
       "    </tr>\n",
       "  </tbody>\n",
       "</table>\n",
       "</div>"
      ],
      "text/plain": [
       "                             review_headline  review_body  sentiment   \n",
       "star_rating label data_type                                            \n",
       "1           2     train                  907          907        907  \\\n",
       "                  val                    190          190        190   \n",
       "2           2     train                  490          490        490   \n",
       "                  val                     83           83         83   \n",
       "3           1     train                  683          683        683   \n",
       "                  val                    135          135        135   \n",
       "4           0     train                 1330         1330       1330   \n",
       "                  val                    261          261        261   \n",
       "5           0     train                 4665         4665       4665   \n",
       "                  val                   1256         1256       1256   \n",
       "\n",
       "                             word_count  \n",
       "star_rating label data_type              \n",
       "1           2     train             907  \n",
       "                  val               190  \n",
       "2           2     train             490  \n",
       "                  val                83  \n",
       "3           1     train             683  \n",
       "                  val               135  \n",
       "4           0     train            1330  \n",
       "                  val               261  \n",
       "5           0     train            4665  \n",
       "                  val              1256  "
      ]
     },
     "execution_count": 7,
     "metadata": {},
     "output_type": "execute_result"
    }
   ],
   "source": [
    "df.groupby(['star_rating', 'label', 'data_type']).count()"
   ]
  },
  {
   "cell_type": "code",
   "execution_count": 8,
   "id": "a91aed0c-196a-4068-afa8-bf5076123dd5",
   "metadata": {},
   "outputs": [
    {
     "data": {
      "image/png": "[encoded data removed]",
      "text/plain": [
       "<Figure size 1000x600 with 1 Axes>"
      ]
     },
     "metadata": {},
     "output_type": "display_data"
    }
   ],
   "source": [
    "import matplotlib.pyplot as plt\n",
    "import seaborn as sns\n",
    "\n",
    "# Assuming you have the data already grouped as mentioned in your initial code\n",
    "grouped_data = df.groupby(['label']).count()\n",
    "\n",
    "# Reset the index to access the 'label' and 'data_type' columns\n",
    "grouped_data.reset_index(inplace=True)\n",
    "\n",
    "# Map numeric labels to text labels\n",
    "label_mapping = {0: 'good', 1: 'neutral', 2: 'bad'}\n",
    "grouped_data['label'] = grouped_data['label'].map(label_mapping)\n",
    "\n",
    "# Create a bar plot using seaborn\n",
    "plt.figure(figsize=(10, 6))\n",
    "sns.barplot(x='label', y='data_type', data=grouped_data)\n",
    "plt.xlabel('Label')\n",
    "plt.ylabel('Count')\n",
    "plt.title('Distribution of Dataset by Label')\n",
    "\n",
    "# Add count numbers as annotations to each bar\n",
    "for index, row in grouped_data.iterrows():\n",
    "    count = row['data_type']\n",
    "    plt.text(index, count, str(count), ha='center', va='bottom', fontsize=12)\n",
    "\n",
    "plt.xticks(rotation=45)\n",
    "plt.show()\n"
   ]
  },
  {
   "cell_type": "code",
   "execution_count": 9,
   "id": "731e5a17-8ab7-4d19-a012-05eeabab1d90",
   "metadata": {
    "tags": []
   },
   "outputs": [],
   "source": [
    "# Load BERT tokenizer\n",
    "pretrained_path = 'gpt2'  # Replace with the path to the pretrained BERT model\n",
    "tokenizer = BertTokenizer.from_pretrained(\n",
    "    'bert-base-uncased',\n",
    "    do_lower_case=True\n",
    ")\n",
    "\n",
    "encoded_data_train_headline = tokenizer.batch_encode_plus(\n",
    "    df[df.data_type=='train'].review_headline.values,\n",
    "    add_special_tokens=True,\n",
    "    return_attention_mask=True,\n",
    "    padding='longest',\n",
    "    max_length=256,\n",
    "    truncation=True,\n",
    "    return_tensors='pt'\n",
    ")\n",
    "\n",
    "encoded_data_train_body = tokenizer.batch_encode_plus(\n",
    "    df[df.data_type=='train'].review_body.values,\n",
    "    add_special_tokens=True,\n",
    "    return_attention_mask=True,\n",
    "    padding='longest',\n",
    "    max_length=256,\n",
    "    truncation=True,\n",
    "    return_tensors='pt'\n",
    ")\n",
    "\n",
    "input_ids_train_headline = encoded_data_train_headline['input_ids']\n",
    "attention_masks_train_headline = encoded_data_train_headline['attention_mask']\n",
    "\n",
    "input_ids_train_body = encoded_data_train_body['input_ids']\n",
    "attention_masks_train_body = encoded_data_train_body['attention_mask']\n",
    "\n",
    "input_ids_train = torch.cat((input_ids_train_headline, input_ids_train_body), dim=1)\n",
    "attention_masks_train = torch.cat((attention_masks_train_headline, attention_masks_train_body), dim=1)\n",
    "\n",
    "labels_train = torch.tensor(df[df.data_type=='train'].label.values)\n",
    "\n",
    "\n",
    "encoded_data_val_headline = tokenizer.batch_encode_plus(\n",
    "    df[df.data_type=='val'].review_headline.values,\n",
    "    add_special_tokens=True,\n",
    "    return_attention_mask=True,\n",
    "    padding='longest',\n",
    "    max_length=256,\n",
    "    truncation=True,\n",
    "    return_tensors='pt'\n",
    ")\n",
    "\n",
    "encoded_data_val_body = tokenizer.batch_encode_plus(\n",
    "    df[df.data_type=='val'].review_body.values,\n",
    "    add_special_tokens=True,\n",
    "    return_attention_mask=True,\n",
    "    padding='longest',\n",
    "    max_length=256,\n",
    "    truncation=True,\n",
    "    return_tensors='pt'\n",
    ")\n",
    "\n",
    "input_ids_val_headline = encoded_data_val_headline['input_ids']\n",
    "attention_masks_val_headline = encoded_data_val_headline['attention_mask']\n",
    "\n",
    "input_ids_val_body = encoded_data_val_body['input_ids']\n",
    "attention_masks_val_body = encoded_data_val_body['attention_mask']\n",
    "\n",
    "input_ids_val = torch.cat((input_ids_val_headline, input_ids_val_body), dim=1)\n",
    "attention_masks_val = torch.cat((attention_masks_val_headline, attention_masks_val_body), dim=1)\n",
    "\n",
    "labels_val = torch.tensor(df[df.data_type=='val'].label.values)"
   ]
  },
  {
   "cell_type": "code",
   "execution_count": 10,
   "id": "42125069-fd5d-49c0-8032-2be61cb2a6d3",
   "metadata": {
    "tags": []
   },
   "outputs": [
    {
     "data": {
      "text/plain": [
       "(8075, 1925)"
      ]
     },
     "execution_count": 10,
     "metadata": {},
     "output_type": "execute_result"
    }
   ],
   "source": [
    "dataset_train = TensorDataset(input_ids_train, attention_masks_train, labels_train)\n",
    "dataset_val = TensorDataset(input_ids_val, attention_masks_val, labels_val)\n",
    "len(dataset_train), len(dataset_val)"
   ]
  },
  {
   "cell_type": "code",
   "execution_count": 11,
   "id": "54a4dca4-fe30-45ba-a67b-234f19d836b7",
   "metadata": {},
   "outputs": [],
   "source": [
    "from transformers import GPT2Model, GPT2Config\n",
    "\n",
    "num_classes = 3\n",
    "\n",
    "class SentimentModel(nn.Module):\n",
    "    def __init__(self, pretrained_gpt_path, num_classes, lstm_hidden_size):\n",
    "        super(SentimentModel, self).__init__()\n",
    "\n",
    "        gpt_config = GPT2Config.from_pretrained(            \n",
    "            pretrained_gpt_path,\n",
    "            hidden_dropout_prob=0.3,\n",
    "            attention_probs_dropout_prob=0.3)\n",
    "        self.gpt = GPT2Model.from_pretrained(pretrained_gpt_path, config=gpt_config)\n",
    "\n",
    "        self.dropout = nn.Dropout(0.2)\n",
    "        self.lstm = nn.LSTM(gpt_config.hidden_size, lstm_hidden_size, batch_first=True)\n",
    "        self.fc = nn.Linear(lstm_hidden_size, num_classes)\n",
    "\n",
    "    def forward(self, input_ids, attention_mask, labels=None):\n",
    "        gpt_outputs = self.gpt(input_ids, attention_mask=attention_mask)[0]\n",
    "        gpt_last_hidden_state = self.dropout(gpt_outputs[:, -1, :])  # Use the last hidden state\n",
    "        \n",
    "        output = torch.cat((gpt_last_hidden_state,), dim=1)\n",
    "\n",
    "        # Pass the pooled output through the LSTM layer\n",
    "        lstm_output, _ = self.lstm(output.unsqueeze(0))\n",
    "        lstm_output = lstm_output.squeeze(0)\n",
    "\n",
    "        logits = self.fc(lstm_output)\n",
    "        outputs = nn.functional.softmax(logits, dim=1)\n",
    "\n",
    "        if labels is not None:\n",
    "            loss = nn.CrossEntropyLoss()(logits.view(-1, num_classes), labels.view(-1))\n",
    "            return loss, outputs, labels\n",
    "        else:\n",
    "            return outputs"
   ]
  },
  {
   "cell_type": "code",
   "execution_count": 12,
   "id": "7d131f86-ee7e-49b3-a104-a61841bb78d3",
   "metadata": {},
   "outputs": [],
   "source": [
    "# Create model instance\n",
    "pretrained_path = \"gpt2\"\n",
    "lstm_hidden_size = 256\n",
    "model = SentimentModel(pretrained_path, num_classes, lstm_hidden_size)"
   ]
  },
  {
   "cell_type": "code",
   "execution_count": 13,
   "id": "834c8c87-40a1-49c6-8e7b-307b931aec01",
   "metadata": {},
   "outputs": [
    {
     "data": {
      "text/plain": [
       "SentimentModel(\n",
       "  (gpt): GPT2Model(\n",
       "    (wte): Embedding(50257, 768)\n",
       "    (wpe): Embedding(1024, 768)\n",
       "    (drop): Dropout(p=0.1, inplace=False)\n",
       "    (h): ModuleList(\n",
       "      (0-11): 12 x GPT2Block(\n",
       "        (ln_1): LayerNorm((768,), eps=1e-05, elementwise_affine=True)\n",
       "        (attn): GPT2Attention(\n",
       "          (c_attn): Conv1D()\n",
       "          (c_proj): Conv1D()\n",
       "          (attn_dropout): Dropout(p=0.1, inplace=False)\n",
       "          (resid_dropout): Dropout(p=0.1, inplace=False)\n",
       "        )\n",
       "        (ln_2): LayerNorm((768,), eps=1e-05, elementwise_affine=True)\n",
       "        (mlp): GPT2MLP(\n",
       "          (c_fc): Conv1D()\n",
       "          (c_proj): Conv1D()\n",
       "          (act): NewGELUActivation()\n",
       "          (dropout): Dropout(p=0.1, inplace=False)\n",
       "        )\n",
       "      )\n",
       "    )\n",
       "    (ln_f): LayerNorm((768,), eps=1e-05, elementwise_affine=True)\n",
       "  )\n",
       "  (dropout): Dropout(p=0.2, inplace=False)\n",
       "  (lstm): LSTM(768, 256, batch_first=True)\n",
       "  (fc): Linear(in_features=256, out_features=3, bias=True)\n",
       ")"
      ]
     },
     "execution_count": 13,
     "metadata": {},
     "output_type": "execute_result"
    }
   ],
   "source": [
    "# Set device (CPU or GPU)\n",
    "device = torch.device(\"cuda\" if torch.cuda.is_available() else \"cpu\")\n",
    "model.to(device)"
   ]
  },
  {
   "cell_type": "code",
   "execution_count": 14,
   "id": "3a61bc17-71e9-47d3-be45-ec4969db79a1",
   "metadata": {},
   "outputs": [
    {
     "name": "stdout",
     "output_type": "stream",
     "text": [
      "Total Params: 125491203\n",
      "Trainable Params: 125491203\n",
      "Non-trainable Params: 0\n"
     ]
    }
   ],
   "source": [
    "# Count total params, trainable params, and non-trainable params\n",
    "total_params = sum(p.numel() for p in model.parameters())\n",
    "trainable_params = sum(p.numel() for p in model.parameters() if p.requires_grad)\n",
    "non_trainable_params = total_params - trainable_params\n",
    "\n",
    "# Print the results\n",
    "print(f\"Total Params: {total_params}\")\n",
    "print(f\"Trainable Params: {trainable_params}\")\n",
    "print(f\"Non-trainable Params: {non_trainable_params}\")"
   ]
  },
  {
   "cell_type": "code",
   "execution_count": 15,
   "id": "c610d351-0be0-4899-bf58-2397193b5ed1",
   "metadata": {},
   "outputs": [],
   "source": [
    "from transformers import TrainingArguments, Trainer, logging\n",
    "training_args = TrainingArguments(\n",
    "    per_device_train_batch_size=1,\n",
    "    gradient_accumulation_steps=4,\n",
    "    gradient_checkpointing=True,\n",
    "    fp16=True,\n",
    "    **default_args,\n",
    ")"
   ]
  },
  {
   "cell_type": "code",
   "execution_count": 16,
   "id": "7feb2f9d-26d7-41ed-b138-f2a59173c99a",
   "metadata": {},
   "outputs": [],
   "source": [
    "trainer = Trainer(\n",
    "    model=model,\n",
    "    args=training_args,\n",
    "    train_dataset=dataset_train,\n",
    "    eval_dataset=dataset_val,\n",
    ")"
   ]
  },
  {
   "cell_type": "code",
   "execution_count": 17,
   "id": "cfb9e671-0f31-4a58-bf72-8c13ac04e6a0",
   "metadata": {},
   "outputs": [],
   "source": [
    "from torch.utils.data import DataLoader, RandomSampler, SequentialSampler\n",
    "# Set the batch size and create data loaders for training and validation sets\n",
    "\n",
    "batch_size = 8 #32\n",
    "\n",
    "dataloader_train = DataLoader(\n",
    "    dataset_train,\n",
    "    sampler=RandomSampler(dataset_train),\n",
    "    batch_size=batch_size\n",
    ")\n",
    "\n",
    "dataloader_val = DataLoader(\n",
    "    dataset_val,\n",
    "    sampler=RandomSampler(dataset_val),\n",
    "    batch_size=batch_size\n",
    ")"
   ]
  },
  {
   "cell_type": "code",
   "execution_count": 18,
   "id": "d3bc14be-49bc-4b42-be70-17412957cdaa",
   "metadata": {},
   "outputs": [
    {
     "name": "stderr",
     "output_type": "stream",
     "text": [
      "/home/z123010/anaconda3/lib/python3.10/site-packages/transformers/optimization.py:411: FutureWarning: This implementation of AdamW is deprecated and will be removed in a future version. Use the PyTorch implementation torch.optim.AdamW instead, or set `no_deprecation_warning=True` to disable this warning\n",
      "  warnings.warn(\n"
     ]
    }
   ],
   "source": [
    "from transformers import AdamW, get_linear_schedule_with_warmup\n",
    "\n",
    "# Define the optimizer\n",
    "optimizer = AdamW(\n",
    "    model.parameters(),\n",
    "    lr=1e-5,\n",
    "    eps=1e-8,\n",
    "    weight_decay=0.01\n",
    "\n",
    ")\n",
    "\n",
    "\n",
    "epochs = 10\n",
    "patience = 3\n",
    "scheduler = get_linear_schedule_with_warmup(\n",
    "    optimizer,\n",
    "    num_warmup_steps=0,\n",
    "    num_training_steps=len(dataloader_train) * epochs\n",
    ")"
   ]
  },
  {
   "cell_type": "code",
   "execution_count": 19,
   "id": "27c174c9-8e92-42fa-9d81-54260c58251e",
   "metadata": {},
   "outputs": [],
   "source": [
    "import random\n",
    "\n",
    "seed_val = 17\n",
    "random.seed(seed_val) #sets the seed value for the Python built-in pseudo-random generator.\n",
    "np.random.seed(seed_val) #sets the seed value for the NumPy pseudo-random number generator.\n",
    "torch.manual_seed(seed_val) #sets the seed value for the random number generator in PyTorch on the CPU.\n",
    "torch.cuda.manual_seed_all(seed_val) #sets the seed value for the random number generator in PyTorch on the GPU."
   ]
  },
  {
   "cell_type": "code",
   "execution_count": 20,
   "id": "f3a28ec5-87fe-4bdf-b6a1-05bf8b6f6b8e",
   "metadata": {},
   "outputs": [
    {
     "name": "stdout",
     "output_type": "stream",
     "text": [
      "cuda\n"
     ]
    }
   ],
   "source": [
    "device = torch.device('cuda' if torch.cuda.is_available() else 'cpu')\n",
    "model.to(device)\n",
    "\n",
    "print(device)"
   ]
  },
  {
   "cell_type": "code",
   "execution_count": 21,
   "id": "092f1c4d-d96b-4ab6-8c15-fdc3caf7a7f6",
   "metadata": {},
   "outputs": [
    {
     "name": "stdout",
     "output_type": "stream",
     "text": [
      "\n",
      "Fold 1\n"
     ]
    },
    {
     "data": {
      "application/vnd.jupyter.widget-view+json": {
       "model_id": "e383f18901b54a21ad626bb24abbe965",
       "version_major": 2,
       "version_minor": 0
      },
      "text/plain": [
       "  0%|          | 0/10 [00:00<?, ?it/s]"
      ]
     },
     "metadata": {},
     "output_type": "display_data"
    },
    {
     "data": {
      "application/vnd.jupyter.widget-view+json": {
       "model_id": "",
       "version_major": 2,
       "version_minor": 0
      },
      "text/plain": [
       "Epoch 1:   0%|          | 0/808 [00:00<?, ?it/s]"
      ]
     },
     "metadata": {},
     "output_type": "display_data"
    },
    {
     "name": "stdout",
     "output_type": "stream",
     "text": [
      "\n",
      "Epoch 1\n",
      "Training loss: 0.6396813016513935\n",
      "Validation loss: 0.49433454137184835\n",
      "F1 Score (weighted): 0.7827674578696512\n"
     ]
    },
    {
     "data": {
      "application/vnd.jupyter.widget-view+json": {
       "model_id": "",
       "version_major": 2,
       "version_minor": 0
      },
      "text/plain": [
       "Epoch 2:   0%|          | 0/808 [00:00<?, ?it/s]"
      ]
     },
     "metadata": {},
     "output_type": "display_data"
    },
    {
     "name": "stdout",
     "output_type": "stream",
     "text": [
      "\n",
      "Epoch 2\n",
      "Training loss: 0.45151214636770065\n",
      "Validation loss: 0.39653364102365357\n",
      "F1 Score (weighted): 0.8490816558345499\n",
      "\u001b[92m29.42% Training loss decreased compared to the previous epoch\u001b[0m\n",
      "\u001b[92m19.78% Validation loss decreased compared to the previous epoch\u001b[0m\n",
      "\u001b[92m8.47% F1 Score increased compared to the previous epoch\u001b[0m\n"
     ]
    },
    {
     "data": {
      "application/vnd.jupyter.widget-view+json": {
       "model_id": "",
       "version_major": 2,
       "version_minor": 0
      },
      "text/plain": [
       "Epoch 3:   0%|          | 0/808 [00:00<?, ?it/s]"
      ]
     },
     "metadata": {},
     "output_type": "display_data"
    },
    {
     "name": "stdout",
     "output_type": "stream",
     "text": [
      "\n",
      "Epoch 3\n",
      "Training loss: 0.3829441157695238\n",
      "Validation loss: 0.40026913906475253\n",
      "F1 Score (weighted): 0.8543417948514399\n",
      "\u001b[92m15.19% Training loss decreased compared to the previous epoch\u001b[0m\n",
      "\u001b[91m0.94% Validation loss increased compared to the previous epoch\u001b[0m\n",
      "\u001b[92m0.62% F1 Score increased compared to the previous epoch\u001b[0m\n"
     ]
    },
    {
     "data": {
      "application/vnd.jupyter.widget-view+json": {
       "model_id": "",
       "version_major": 2,
       "version_minor": 0
      },
      "text/plain": [
       "Epoch 4:   0%|          | 0/808 [00:00<?, ?it/s]"
      ]
     },
     "metadata": {},
     "output_type": "display_data"
    },
    {
     "name": "stdout",
     "output_type": "stream",
     "text": [
      "\n",
      "Epoch 4\n",
      "Training loss: 0.34071735369438066\n",
      "Validation loss: 0.4370878263293664\n",
      "F1 Score (weighted): 0.8583789178164449\n",
      "\u001b[92m11.03% Training loss decreased compared to the previous epoch\u001b[0m\n",
      "\u001b[91m9.2% Validation loss increased compared to the previous epoch\u001b[0m\n",
      "\u001b[92m0.47% F1 Score increased compared to the previous epoch\u001b[0m\n"
     ]
    },
    {
     "data": {
      "application/vnd.jupyter.widget-view+json": {
       "model_id": "",
       "version_major": 2,
       "version_minor": 0
      },
      "text/plain": [
       "Epoch 5:   0%|          | 0/808 [00:00<?, ?it/s]"
      ]
     },
     "metadata": {},
     "output_type": "display_data"
    },
    {
     "name": "stdout",
     "output_type": "stream",
     "text": [
      "\n",
      "Epoch 5\n",
      "Training loss: 0.31220342434878173\n",
      "Validation loss: 0.41017478242249106\n",
      "F1 Score (weighted): 0.8614120845451734\n",
      "\u001b[92m8.37% Training loss decreased compared to the previous epoch\u001b[0m\n",
      "\u001b[92m6.16% Validation loss decreased compared to the previous epoch\u001b[0m\n",
      "\u001b[92m0.35% F1 Score increased compared to the previous epoch\u001b[0m\n",
      "\n",
      "Early stopping triggered. Training stopped.\n",
      "\n",
      "Total training time: 20.96947441895803 minutes\n",
      "Final Accuracy: 0.8730650154798761\n",
      "Final Precision: 0.8742528879570943\n"
     ]
    },
    {
     "data": {
      "image/png": "[encoded data removed]",
      "text/plain": [
       "<Figure size 800x600 with 1 Axes>"
      ]
     },
     "metadata": {},
     "output_type": "display_data"
    },
    {
     "name": "stdout",
     "output_type": "stream",
     "text": [
      "Epoch                 Training Loss        Validation Loss      F1 Score            Accuracy              Precision\n",
      "--------------------  -------------------  -------------------  ------------------  ------------------  -----------\n",
      "1                     0.6396813016513935   0.49433454137184835  0.7827674578696512  0.8030959752321981     0.86245\n",
      "2                     \u001b[92m0.45151214636770065\u001b[0m  \u001b[92m0.39653364102365357\u001b[0m  \u001b[92m0.8490816558345499\u001b[0m  \u001b[92m\u001b[92m0.8490816558345499\u001b[0m\u001b[0m     \u001b[92m\u001b[92m0.849082\u001b[0m\u001b[0m\n",
      "3                     \u001b[92m0.3829441157695238\u001b[0m   \u001b[91m0.40026913906475253\u001b[0m  \u001b[92m0.8543417948514399\u001b[0m  \u001b[92m\u001b[92m0.8543417948514399\u001b[0m\u001b[0m     \u001b[92m\u001b[92m0.854342\u001b[0m\u001b[0m\n",
      "4                     \u001b[92m0.34071735369438066\u001b[0m  \u001b[91m0.4370878263293664\u001b[0m   \u001b[92m0.8583789178164449\u001b[0m  \u001b[92m\u001b[92m0.8583789178164449\u001b[0m\u001b[0m     \u001b[92m\u001b[92m0.858379\u001b[0m\u001b[0m\n",
      "5                     \u001b[92m0.31220342434878173\u001b[0m  \u001b[92m0.41017478242249106\u001b[0m  \u001b[92m0.8614120845451734\u001b[0m  \u001b[92m\u001b[92m0.8614120845451734\u001b[0m\u001b[0m     \u001b[92m\u001b[92m0.861412\u001b[0m\u001b[0m\n",
      "Total Training Time                                                                                     1258.17\n",
      "Final Precision                                                                                            0.874253\n",
      "Total Time (minutes)                                                                                      20.9695\n",
      "\n",
      "Fold 2\n"
     ]
    },
    {
     "data": {
      "application/vnd.jupyter.widget-view+json": {
       "model_id": "76455935e73a4cd6b812f659e18a6cb2",
       "version_major": 2,
       "version_minor": 0
      },
      "text/plain": [
       "  0%|          | 0/10 [00:00<?, ?it/s]"
      ]
     },
     "metadata": {},
     "output_type": "display_data"
    },
    {
     "data": {
      "application/vnd.jupyter.widget-view+json": {
       "model_id": "",
       "version_major": 2,
       "version_minor": 0
      },
      "text/plain": [
       "Epoch 1:   0%|          | 0/808 [00:00<?, ?it/s]"
      ]
     },
     "metadata": {},
     "output_type": "display_data"
    },
    {
     "name": "stdout",
     "output_type": "stream",
     "text": [
      "\n",
      "Epoch 1\n",
      "Training loss: 0.31763986294102475\n",
      "Validation loss: 0.2556482607401944\n",
      "F1 Score (weighted): 0.911859853551992\n"
     ]
    },
    {
     "data": {
      "application/vnd.jupyter.widget-view+json": {
       "model_id": "",
       "version_major": 2,
       "version_minor": 0
      },
      "text/plain": [
       "Epoch 2:   0%|          | 0/808 [00:00<?, ?it/s]"
      ]
     },
     "metadata": {},
     "output_type": "display_data"
    },
    {
     "name": "stdout",
     "output_type": "stream",
     "text": [
      "\n",
      "Epoch 2\n",
      "Training loss: 0.30181710126159694\n",
      "Validation loss: 0.2594616191973449\n",
      "F1 Score (weighted): 0.9096337439451255\n",
      "\u001b[92m4.98% Training loss decreased compared to the previous epoch\u001b[0m\n",
      "\u001b[91m1.49% Validation loss increased compared to the previous epoch\u001b[0m\n",
      "\u001b[91m0.24% F1 Score decreased compared to the previous epoch\u001b[0m\n"
     ]
    },
    {
     "data": {
      "application/vnd.jupyter.widget-view+json": {
       "model_id": "",
       "version_major": 2,
       "version_minor": 0
      },
      "text/plain": [
       "Epoch 3:   0%|          | 0/808 [00:00<?, ?it/s]"
      ]
     },
     "metadata": {},
     "output_type": "display_data"
    },
    {
     "name": "stdout",
     "output_type": "stream",
     "text": [
      "\n",
      "Epoch 3\n",
      "Training loss: 0.2784837196767791\n",
      "Validation loss: 0.25814208632685465\n",
      "F1 Score (weighted): 0.908166349325028\n",
      "\u001b[92m7.73% Training loss decreased compared to the previous epoch\u001b[0m\n",
      "\u001b[92m0.51% Validation loss decreased compared to the previous epoch\u001b[0m\n",
      "\u001b[91m0.16% F1 Score decreased compared to the previous epoch\u001b[0m\n"
     ]
    },
    {
     "data": {
      "application/vnd.jupyter.widget-view+json": {
       "model_id": "",
       "version_major": 2,
       "version_minor": 0
      },
      "text/plain": [
       "Epoch 4:   0%|          | 0/808 [00:00<?, ?it/s]"
      ]
     },
     "metadata": {},
     "output_type": "display_data"
    },
    {
     "name": "stdout",
     "output_type": "stream",
     "text": [
      "\n",
      "Epoch 4\n",
      "Training loss: 0.2560891807695971\n",
      "Validation loss: 0.25656264958013364\n",
      "F1 Score (weighted): 0.9157020731572076\n",
      "\u001b[92m8.04% Training loss decreased compared to the previous epoch\u001b[0m\n",
      "\u001b[92m0.61% Validation loss decreased compared to the previous epoch\u001b[0m\n",
      "\u001b[92m0.83% F1 Score increased compared to the previous epoch\u001b[0m\n",
      "\n",
      "Early stopping triggered. Training stopped.\n",
      "\n",
      "Total training time: 16.755095632870994 minutes\n",
      "Final Accuracy: 0.9195046439628483\n",
      "Final Precision: 0.917965016519249\n"
     ]
    },
    {
     "data": {
      "image/png": "[encoded data removed]",
      "text/plain": [
       "<Figure size 800x600 with 1 Axes>"
      ]
     },
     "metadata": {},
     "output_type": "display_data"
    },
    {
     "name": "stdout",
     "output_type": "stream",
     "text": [
      "Epoch                 Training Loss        Validation Loss      F1 Score            Accuracy              Precision\n",
      "--------------------  -------------------  -------------------  ------------------  ------------------  -----------\n",
      "1                     0.31763986294102475  0.2556482607401944   0.911859853551992   0.9170278637770898     0.916298\n",
      "2                     \u001b[92m0.30181710126159694\u001b[0m  \u001b[91m0.2594616191973449\u001b[0m   \u001b[91m0.9096337439451255\u001b[0m  \u001b[92m\u001b[91m0.9096337439451255\u001b[0m\u001b[0m     \u001b[91m\u001b[91m0.909634\u001b[0m\u001b[0m\n",
      "3                     \u001b[92m0.2784837196767791\u001b[0m   \u001b[92m0.25814208632685465\u001b[0m  \u001b[91m0.908166349325028\u001b[0m   \u001b[92m\u001b[91m0.908166349325028\u001b[0m\u001b[0m      \u001b[91m\u001b[91m0.908166\u001b[0m\u001b[0m\n",
      "4                     \u001b[92m0.2560891807695971\u001b[0m   \u001b[92m0.25656264958013364\u001b[0m  \u001b[92m0.9157020731572076\u001b[0m  \u001b[92m\u001b[92m0.9157020731572076\u001b[0m\u001b[0m     \u001b[92m\u001b[92m0.915702\u001b[0m\u001b[0m\n",
      "Total Training Time                                                                                     1005.31\n",
      "Final Precision                                                                                            0.917965\n",
      "Total Time (minutes)                                                                                      16.7551\n",
      "\n",
      "Fold 3\n"
     ]
    },
    {
     "data": {
      "application/vnd.jupyter.widget-view+json": {
       "model_id": "a3dd5997470e43909215036531e4bbdc",
       "version_major": 2,
       "version_minor": 0
      },
      "text/plain": [
       "  0%|          | 0/10 [00:00<?, ?it/s]"
      ]
     },
     "metadata": {},
     "output_type": "display_data"
    },
    {
     "data": {
      "application/vnd.jupyter.widget-view+json": {
       "model_id": "",
       "version_major": 2,
       "version_minor": 0
      },
      "text/plain": [
       "Epoch 1:   0%|          | 0/808 [00:00<?, ?it/s]"
      ]
     },
     "metadata": {},
     "output_type": "display_data"
    },
    {
     "name": "stdout",
     "output_type": "stream",
     "text": [
      "\n",
      "Epoch 1\n",
      "Training loss: 0.2647563943669366\n",
      "Validation loss: 0.16920065851928207\n",
      "F1 Score (weighted): 0.9441880535528445\n"
     ]
    },
    {
     "data": {
      "application/vnd.jupyter.widget-view+json": {
       "model_id": "",
       "version_major": 2,
       "version_minor": 0
      },
      "text/plain": [
       "Epoch 2:   0%|          | 0/808 [00:00<?, ?it/s]"
      ]
     },
     "metadata": {},
     "output_type": "display_data"
    },
    {
     "name": "stdout",
     "output_type": "stream",
     "text": [
      "\n",
      "Epoch 2\n",
      "Training loss: 0.25245136075530955\n",
      "Validation loss: 0.16818777781030586\n",
      "F1 Score (weighted): 0.9481372033666077\n",
      "\u001b[92m4.65% Training loss decreased compared to the previous epoch\u001b[0m\n",
      "\u001b[92m0.6% Validation loss decreased compared to the previous epoch\u001b[0m\n",
      "\u001b[92m0.42% F1 Score increased compared to the previous epoch\u001b[0m\n"
     ]
    },
    {
     "data": {
      "application/vnd.jupyter.widget-view+json": {
       "model_id": "",
       "version_major": 2,
       "version_minor": 0
      },
      "text/plain": [
       "Epoch 3:   0%|          | 0/808 [00:00<?, ?it/s]"
      ]
     },
     "metadata": {},
     "output_type": "display_data"
    },
    {
     "name": "stdout",
     "output_type": "stream",
     "text": [
      "\n",
      "Epoch 3\n",
      "Training loss: 0.24662876370222317\n",
      "Validation loss: 0.17226098811871712\n",
      "F1 Score (weighted): 0.9424616688749695\n",
      "\u001b[92m2.31% Training loss decreased compared to the previous epoch\u001b[0m\n",
      "\u001b[91m2.42% Validation loss increased compared to the previous epoch\u001b[0m\n",
      "\u001b[91m0.6% F1 Score decreased compared to the previous epoch\u001b[0m\n"
     ]
    },
    {
     "data": {
      "application/vnd.jupyter.widget-view+json": {
       "model_id": "",
       "version_major": 2,
       "version_minor": 0
      },
      "text/plain": [
       "Epoch 4:   0%|          | 0/808 [00:00<?, ?it/s]"
      ]
     },
     "metadata": {},
     "output_type": "display_data"
    },
    {
     "name": "stdout",
     "output_type": "stream",
     "text": [
      "\n",
      "Epoch 4\n",
      "Training loss: 0.2398560107135246\n",
      "Validation loss: 0.16549462440313015\n",
      "F1 Score (weighted): 0.947738517649985\n",
      "\u001b[92m2.75% Training loss decreased compared to the previous epoch\u001b[0m\n",
      "\u001b[92m3.93% Validation loss decreased compared to the previous epoch\u001b[0m\n",
      "\u001b[92m0.56% F1 Score increased compared to the previous epoch\u001b[0m\n"
     ]
    },
    {
     "data": {
      "application/vnd.jupyter.widget-view+json": {
       "model_id": "",
       "version_major": 2,
       "version_minor": 0
      },
      "text/plain": [
       "Epoch 5:   0%|          | 0/808 [00:00<?, ?it/s]"
      ]
     },
     "metadata": {},
     "output_type": "display_data"
    },
    {
     "name": "stdout",
     "output_type": "stream",
     "text": [
      "\n",
      "Epoch 5\n",
      "Training loss: 0.2323410139352286\n",
      "Validation loss: 0.16207171530960737\n",
      "F1 Score (weighted): 0.9471684255805112\n",
      "\u001b[92m3.13% Training loss decreased compared to the previous epoch\u001b[0m\n",
      "\u001b[92m2.07% Validation loss decreased compared to the previous epoch\u001b[0m\n",
      "\u001b[91m0.06% F1 Score decreased compared to the previous epoch\u001b[0m\n"
     ]
    },
    {
     "data": {
      "application/vnd.jupyter.widget-view+json": {
       "model_id": "",
       "version_major": 2,
       "version_minor": 0
      },
      "text/plain": [
       "Epoch 6:   0%|          | 0/808 [00:00<?, ?it/s]"
      ]
     },
     "metadata": {},
     "output_type": "display_data"
    },
    {
     "name": "stdout",
     "output_type": "stream",
     "text": [
      "\n",
      "Epoch 6\n",
      "Training loss: 0.23012770388862072\n",
      "Validation loss: 0.16450499804427682\n",
      "F1 Score (weighted): 0.9492526043051687\n",
      "\u001b[92m0.95% Training loss decreased compared to the previous epoch\u001b[0m\n",
      "\u001b[91m1.5% Validation loss increased compared to the previous epoch\u001b[0m\n",
      "\u001b[92m0.22% F1 Score increased compared to the previous epoch\u001b[0m\n"
     ]
    },
    {
     "data": {
      "application/vnd.jupyter.widget-view+json": {
       "model_id": "",
       "version_major": 2,
       "version_minor": 0
      },
      "text/plain": [
       "Epoch 7:   0%|          | 0/808 [00:00<?, ?it/s]"
      ]
     },
     "metadata": {},
     "output_type": "display_data"
    },
    {
     "name": "stdout",
     "output_type": "stream",
     "text": [
      "\n",
      "Epoch 7\n",
      "Training loss: 0.23324345891066542\n",
      "Validation loss: 0.16218914304477264\n",
      "F1 Score (weighted): 0.947892519986015\n",
      "\u001b[91m1.35% Training loss increased compared to the previous epoch\u001b[0m\n",
      "\u001b[92m1.41% Validation loss decreased compared to the previous epoch\u001b[0m\n",
      "\u001b[91m0.14% F1 Score decreased compared to the previous epoch\u001b[0m\n"
     ]
    },
    {
     "data": {
      "application/vnd.jupyter.widget-view+json": {
       "model_id": "",
       "version_major": 2,
       "version_minor": 0
      },
      "text/plain": [
       "Epoch 8:   0%|          | 0/808 [00:00<?, ?it/s]"
      ]
     },
     "metadata": {},
     "output_type": "display_data"
    },
    {
     "name": "stdout",
     "output_type": "stream",
     "text": [
      "\n",
      "Epoch 8\n",
      "Training loss: 0.23518114896764342\n",
      "Validation loss: 0.1652495087802152\n",
      "F1 Score (weighted): 0.9478853864200621\n",
      "\u001b[91m0.83% Training loss increased compared to the previous epoch\u001b[0m\n",
      "\u001b[91m1.89% Validation loss increased compared to the previous epoch\u001b[0m\n",
      "\u001b[91m0.0% F1 Score decreased compared to the previous epoch\u001b[0m\n",
      "\n",
      "Early stopping triggered. Training stopped.\n",
      "\n",
      "Total training time: 33.55444048643112 minutes\n",
      "Final Accuracy: 0.9504643962848297\n",
      "Final Precision: 0.9480120299397872\n"
     ]
    },
    {
     "data": {
      "image/png": "[encoded data removed]",
      "text/plain": [
       "<Figure size 800x600 with 1 Axes>"
      ]
     },
     "metadata": {},
     "output_type": "display_data"
    },
    {
     "name": "stdout",
     "output_type": "stream",
     "text": [
      "Epoch                 Training Loss        Validation Loss      F1 Score            Accuracy              Precision\n",
      "--------------------  -------------------  -------------------  ------------------  ------------------  -----------\n",
      "1                     0.2647563943669366   0.16920065851928207  0.9441880535528445  0.9473684210526315     0.945489\n",
      "2                     \u001b[92m0.25245136075530955\u001b[0m  \u001b[92m0.16818777781030586\u001b[0m  \u001b[92m0.9481372033666077\u001b[0m  \u001b[92m\u001b[92m0.9481372033666077\u001b[0m\u001b[0m     \u001b[92m\u001b[92m0.948137\u001b[0m\u001b[0m\n",
      "3                     \u001b[92m0.24662876370222317\u001b[0m  \u001b[91m0.17226098811871712\u001b[0m  \u001b[91m0.9424616688749695\u001b[0m  \u001b[91m\u001b[91m0.9424616688749695\u001b[0m\u001b[0m     \u001b[91m\u001b[91m0.942462\u001b[0m\u001b[0m\n",
      "4                     \u001b[92m0.2398560107135246\u001b[0m   \u001b[92m0.16549462440313015\u001b[0m  \u001b[92m0.947738517649985\u001b[0m   \u001b[92m\u001b[92m0.947738517649985\u001b[0m\u001b[0m      \u001b[92m\u001b[92m0.947739\u001b[0m\u001b[0m\n",
      "5                     \u001b[92m0.2323410139352286\u001b[0m   \u001b[92m0.16207171530960737\u001b[0m  \u001b[91m0.9471684255805112\u001b[0m  \u001b[92m\u001b[91m0.9471684255805112\u001b[0m\u001b[0m     \u001b[91m\u001b[91m0.947168\u001b[0m\u001b[0m\n",
      "6                     \u001b[92m0.23012770388862072\u001b[0m  \u001b[91m0.16450499804427682\u001b[0m  \u001b[92m0.9492526043051687\u001b[0m  \u001b[92m\u001b[92m0.9492526043051687\u001b[0m\u001b[0m     \u001b[92m\u001b[92m0.949253\u001b[0m\u001b[0m\n",
      "7                     \u001b[91m0.23324345891066542\u001b[0m  \u001b[92m0.16218914304477264\u001b[0m  \u001b[91m0.947892519986015\u001b[0m   \u001b[92m\u001b[91m0.947892519986015\u001b[0m\u001b[0m      \u001b[91m\u001b[91m0.947893\u001b[0m\u001b[0m\n",
      "8                     \u001b[91m0.23518114896764342\u001b[0m  \u001b[91m0.1652495087802152\u001b[0m   \u001b[91m0.9478853864200621\u001b[0m  \u001b[92m\u001b[91m0.9478853864200621\u001b[0m\u001b[0m     \u001b[92m\u001b[91m0.947885\u001b[0m\u001b[0m\n",
      "Total Training Time                                                                                     2013.27\n",
      "Final Precision                                                                                            0.948012\n",
      "Total Time (minutes)                                                                                      33.5544\n",
      "\n",
      "Fold 4\n"
     ]
    },
    {
     "data": {
      "application/vnd.jupyter.widget-view+json": {
       "model_id": "bff290bf49594078b6e41aca9aacf053",
       "version_major": 2,
       "version_minor": 0
      },
      "text/plain": [
       "  0%|          | 0/10 [00:00<?, ?it/s]"
      ]
     },
     "metadata": {},
     "output_type": "display_data"
    },
    {
     "data": {
      "application/vnd.jupyter.widget-view+json": {
       "model_id": "",
       "version_major": 2,
       "version_minor": 0
      },
      "text/plain": [
       "Epoch 1:   0%|          | 0/808 [00:00<?, ?it/s]"
      ]
     },
     "metadata": {},
     "output_type": "display_data"
    },
    {
     "name": "stdout",
     "output_type": "stream",
     "text": [
      "\n",
      "Epoch 1\n",
      "Training loss: 0.23207271763493564\n",
      "Validation loss: 0.15421391812863178\n",
      "F1 Score (weighted): 0.9470813389364416\n"
     ]
    },
    {
     "data": {
      "application/vnd.jupyter.widget-view+json": {
       "model_id": "",
       "version_major": 2,
       "version_minor": 0
      },
      "text/plain": [
       "Epoch 2:   0%|          | 0/808 [00:00<?, ?it/s]"
      ]
     },
     "metadata": {},
     "output_type": "display_data"
    },
    {
     "name": "stdout",
     "output_type": "stream",
     "text": [
      "\n",
      "Epoch 2\n",
      "Training loss: 0.23222673942864006\n",
      "Validation loss: 0.1516238408898566\n",
      "F1 Score (weighted): 0.9471563331441777\n",
      "\u001b[91m0.07% Training loss increased compared to the previous epoch\u001b[0m\n",
      "\u001b[92m1.68% Validation loss decreased compared to the previous epoch\u001b[0m\n",
      "\u001b[92m0.01% F1 Score increased compared to the previous epoch\u001b[0m\n"
     ]
    },
    {
     "data": {
      "application/vnd.jupyter.widget-view+json": {
       "model_id": "",
       "version_major": 2,
       "version_minor": 0
      },
      "text/plain": [
       "Epoch 3:   0%|          | 0/808 [00:00<?, ?it/s]"
      ]
     },
     "metadata": {},
     "output_type": "display_data"
    },
    {
     "name": "stdout",
     "output_type": "stream",
     "text": [
      "\n",
      "Epoch 3\n",
      "Training loss: 0.22888580643621476\n",
      "Validation loss: 0.15551150438034594\n",
      "F1 Score (weighted): 0.9458126989759528\n",
      "\u001b[92m1.44% Training loss decreased compared to the previous epoch\u001b[0m\n",
      "\u001b[91m2.56% Validation loss increased compared to the previous epoch\u001b[0m\n",
      "\u001b[91m0.14% F1 Score decreased compared to the previous epoch\u001b[0m\n"
     ]
    },
    {
     "data": {
      "application/vnd.jupyter.widget-view+json": {
       "model_id": "",
       "version_major": 2,
       "version_minor": 0
      },
      "text/plain": [
       "Epoch 4:   0%|          | 0/808 [00:00<?, ?it/s]"
      ]
     },
     "metadata": {},
     "output_type": "display_data"
    },
    {
     "name": "stdout",
     "output_type": "stream",
     "text": [
      "\n",
      "Epoch 4\n",
      "Training loss: 0.23101623805693933\n",
      "Validation loss: 0.15150591801612243\n",
      "F1 Score (weighted): 0.9450372269965875\n",
      "\u001b[91m0.93% Training loss increased compared to the previous epoch\u001b[0m\n",
      "\u001b[92m2.58% Validation loss decreased compared to the previous epoch\u001b[0m\n",
      "\u001b[91m0.08% F1 Score decreased compared to the previous epoch\u001b[0m\n"
     ]
    },
    {
     "data": {
      "application/vnd.jupyter.widget-view+json": {
       "model_id": "",
       "version_major": 2,
       "version_minor": 0
      },
      "text/plain": [
       "Epoch 5:   0%|          | 0/808 [00:00<?, ?it/s]"
      ]
     },
     "metadata": {},
     "output_type": "display_data"
    },
    {
     "name": "stdout",
     "output_type": "stream",
     "text": [
      "\n",
      "Epoch 5\n",
      "Training loss: 0.22758454129348812\n",
      "Validation loss: 0.15603846912779432\n",
      "F1 Score (weighted): 0.9443002046998772\n",
      "\u001b[92m1.49% Training loss decreased compared to the previous epoch\u001b[0m\n",
      "\u001b[91m2.99% Validation loss increased compared to the previous epoch\u001b[0m\n",
      "\u001b[91m0.08% F1 Score decreased compared to the previous epoch\u001b[0m\n"
     ]
    },
    {
     "data": {
      "application/vnd.jupyter.widget-view+json": {
       "model_id": "",
       "version_major": 2,
       "version_minor": 0
      },
      "text/plain": [
       "Epoch 6:   0%|          | 0/808 [00:00<?, ?it/s]"
      ]
     },
     "metadata": {},
     "output_type": "display_data"
    },
    {
     "name": "stdout",
     "output_type": "stream",
     "text": [
      "\n",
      "Epoch 6\n",
      "Training loss: 0.23337136040958067\n",
      "Validation loss: 0.1560319906773765\n",
      "F1 Score (weighted): 0.9436016256731248\n",
      "\u001b[91m2.54% Training loss increased compared to the previous epoch\u001b[0m\n",
      "\u001b[92m0.0% Validation loss decreased compared to the previous epoch\u001b[0m\n",
      "\u001b[91m0.07% F1 Score decreased compared to the previous epoch\u001b[0m\n"
     ]
    },
    {
     "data": {
      "application/vnd.jupyter.widget-view+json": {
       "model_id": "",
       "version_major": 2,
       "version_minor": 0
      },
      "text/plain": [
       "Epoch 7:   0%|          | 0/808 [00:00<?, ?it/s]"
      ]
     },
     "metadata": {},
     "output_type": "display_data"
    },
    {
     "name": "stdout",
     "output_type": "stream",
     "text": [
      "\n",
      "Epoch 7\n",
      "Training loss: 0.22779080761846682\n",
      "Validation loss: 0.15512614048980544\n",
      "F1 Score (weighted): 0.9443704439711714\n",
      "\u001b[92m2.39% Training loss decreased compared to the previous epoch\u001b[0m\n",
      "\u001b[92m0.58% Validation loss decreased compared to the previous epoch\u001b[0m\n",
      "\u001b[92m0.08% F1 Score increased compared to the previous epoch\u001b[0m\n",
      "\n",
      "Early stopping triggered. Training stopped.\n",
      "\n",
      "Total training time: 29.344970258076987 minutes\n",
      "Final Accuracy: 0.9467492260061919\n",
      "Final Precision: 0.9442370618929224\n"
     ]
    },
    {
     "data": {
      "image/png": "[encoded data removed]",
      "text/plain": [
       "<Figure size 800x600 with 1 Axes>"
      ]
     },
     "metadata": {},
     "output_type": "display_data"
    },
    {
     "name": "stdout",
     "output_type": "stream",
     "text": [
      "Epoch                 Training Loss        Validation Loss      F1 Score            Accuracy              Precision\n",
      "--------------------  -------------------  -------------------  ------------------  ------------------  -----------\n",
      "1                     0.23207271763493564  0.15421391812863178  0.9470813389364416  0.9492260061919504     0.946989\n",
      "2                     \u001b[91m0.23222673942864006\u001b[0m  \u001b[92m0.1516238408898566\u001b[0m   \u001b[92m0.9471563331441777\u001b[0m  \u001b[92m\u001b[92m0.9471563331441777\u001b[0m\u001b[0m     \u001b[91m\u001b[92m0.947156\u001b[0m\u001b[0m\n",
      "3                     \u001b[92m0.22888580643621476\u001b[0m  \u001b[91m0.15551150438034594\u001b[0m  \u001b[91m0.9458126989759528\u001b[0m  \u001b[92m\u001b[91m0.9458126989759528\u001b[0m\u001b[0m     \u001b[91m\u001b[91m0.945813\u001b[0m\u001b[0m\n",
      "4                     \u001b[91m0.23101623805693933\u001b[0m  \u001b[92m0.15150591801612243\u001b[0m  \u001b[91m0.9450372269965875\u001b[0m  \u001b[92m\u001b[91m0.9450372269965875\u001b[0m\u001b[0m     \u001b[91m\u001b[91m0.945037\u001b[0m\u001b[0m\n",
      "5                     \u001b[92m0.22758454129348812\u001b[0m  \u001b[91m0.15603846912779432\u001b[0m  \u001b[91m0.9443002046998772\u001b[0m  \u001b[92m\u001b[91m0.9443002046998772\u001b[0m\u001b[0m     \u001b[91m\u001b[91m0.9443\u001b[0m\u001b[0m\n",
      "6                     \u001b[91m0.23337136040958067\u001b[0m  \u001b[92m0.1560319906773765\u001b[0m   \u001b[91m0.9436016256731248\u001b[0m  \u001b[92m\u001b[91m0.9436016256731248\u001b[0m\u001b[0m     \u001b[91m\u001b[91m0.943602\u001b[0m\u001b[0m\n",
      "7                     \u001b[92m0.22779080761846682\u001b[0m  \u001b[92m0.15512614048980544\u001b[0m  \u001b[92m0.9443704439711714\u001b[0m  \u001b[92m\u001b[92m0.9443704439711714\u001b[0m\u001b[0m     \u001b[92m\u001b[92m0.94437\u001b[0m\u001b[0m\n",
      "Total Training Time                                                                                     1760.7\n",
      "Final Precision                                                                                            0.944237\n",
      "Total Time (minutes)                                                                                      29.345\n",
      "\n",
      "Fold 5\n"
     ]
    },
    {
     "data": {
      "application/vnd.jupyter.widget-view+json": {
       "model_id": "f0cb31ef28e244b997f40c20a0ec97e2",
       "version_major": 2,
       "version_minor": 0
      },
      "text/plain": [
       "  0%|          | 0/10 [00:00<?, ?it/s]"
      ]
     },
     "metadata": {},
     "output_type": "display_data"
    },
    {
     "data": {
      "application/vnd.jupyter.widget-view+json": {
       "model_id": "",
       "version_major": 2,
       "version_minor": 0
      },
      "text/plain": [
       "Epoch 1:   0%|          | 0/808 [00:00<?, ?it/s]"
      ]
     },
     "metadata": {},
     "output_type": "display_data"
    },
    {
     "name": "stdout",
     "output_type": "stream",
     "text": [
      "\n",
      "Epoch 1\n",
      "Training loss: 0.228908228568357\n",
      "Validation loss: 0.18783799718401514\n",
      "F1 Score (weighted): 0.9363417905293909\n"
     ]
    },
    {
     "data": {
      "application/vnd.jupyter.widget-view+json": {
       "model_id": "",
       "version_major": 2,
       "version_minor": 0
      },
      "text/plain": [
       "Epoch 2:   0%|          | 0/808 [00:00<?, ?it/s]"
      ]
     },
     "metadata": {},
     "output_type": "display_data"
    },
    {
     "name": "stdout",
     "output_type": "stream",
     "text": [
      "\n",
      "Epoch 2\n",
      "Training loss: 0.22861927661913364\n",
      "Validation loss: 0.18903799159314003\n",
      "F1 Score (weighted): 0.9357528520308592\n",
      "\u001b[92m0.13% Training loss decreased compared to the previous epoch\u001b[0m\n",
      "\u001b[91m0.64% Validation loss increased compared to the previous epoch\u001b[0m\n",
      "\u001b[91m0.06% F1 Score decreased compared to the previous epoch\u001b[0m\n"
     ]
    },
    {
     "data": {
      "application/vnd.jupyter.widget-view+json": {
       "model_id": "",
       "version_major": 2,
       "version_minor": 0
      },
      "text/plain": [
       "Epoch 3:   0%|          | 0/808 [00:00<?, ?it/s]"
      ]
     },
     "metadata": {},
     "output_type": "display_data"
    },
    {
     "name": "stdout",
     "output_type": "stream",
     "text": [
      "\n",
      "Epoch 3\n",
      "Training loss: 0.22800015765305673\n",
      "Validation loss: 0.1870604576047344\n",
      "F1 Score (weighted): 0.9375477249225812\n",
      "\u001b[92m0.27% Training loss decreased compared to the previous epoch\u001b[0m\n",
      "\u001b[92m1.05% Validation loss decreased compared to the previous epoch\u001b[0m\n",
      "\u001b[92m0.19% F1 Score increased compared to the previous epoch\u001b[0m\n"
     ]
    },
    {
     "data": {
      "application/vnd.jupyter.widget-view+json": {
       "model_id": "",
       "version_major": 2,
       "version_minor": 0
      },
      "text/plain": [
       "Epoch 4:   0%|          | 0/808 [00:00<?, ?it/s]"
      ]
     },
     "metadata": {},
     "output_type": "display_data"
    },
    {
     "name": "stdout",
     "output_type": "stream",
     "text": [
      "\n",
      "Epoch 4\n",
      "Training loss: 0.22822094448936622\n",
      "Validation loss: 0.1845243766438216\n",
      "F1 Score (weighted): 0.9384659761470147\n",
      "\u001b[91m0.1% Training loss increased compared to the previous epoch\u001b[0m\n",
      "\u001b[92m1.36% Validation loss decreased compared to the previous epoch\u001b[0m\n",
      "\u001b[92m0.1% F1 Score increased compared to the previous epoch\u001b[0m\n"
     ]
    },
    {
     "data": {
      "application/vnd.jupyter.widget-view+json": {
       "model_id": "",
       "version_major": 2,
       "version_minor": 0
      },
      "text/plain": [
       "Epoch 5:   0%|          | 0/808 [00:00<?, ?it/s]"
      ]
     },
     "metadata": {},
     "output_type": "display_data"
    },
    {
     "name": "stdout",
     "output_type": "stream",
     "text": [
      "\n",
      "Epoch 5\n",
      "Training loss: 0.22273616955009298\n",
      "Validation loss: 0.18492728224517502\n",
      "F1 Score (weighted): 0.9374366866505746\n",
      "\u001b[92m2.4% Training loss decreased compared to the previous epoch\u001b[0m\n",
      "\u001b[91m0.22% Validation loss increased compared to the previous epoch\u001b[0m\n",
      "\u001b[91m0.11% F1 Score decreased compared to the previous epoch\u001b[0m\n"
     ]
    },
    {
     "data": {
      "application/vnd.jupyter.widget-view+json": {
       "model_id": "",
       "version_major": 2,
       "version_minor": 0
      },
      "text/plain": [
       "Epoch 6:   0%|          | 0/808 [00:00<?, ?it/s]"
      ]
     },
     "metadata": {},
     "output_type": "display_data"
    },
    {
     "name": "stdout",
     "output_type": "stream",
     "text": [
      "\n",
      "Epoch 6\n",
      "Training loss: 0.22415123874463352\n",
      "Validation loss: 0.1859513771706399\n",
      "F1 Score (weighted): 0.9392402531624541\n",
      "\u001b[91m0.64% Training loss increased compared to the previous epoch\u001b[0m\n",
      "\u001b[91m0.55% Validation loss increased compared to the previous epoch\u001b[0m\n",
      "\u001b[92m0.19% F1 Score increased compared to the previous epoch\u001b[0m\n"
     ]
    },
    {
     "data": {
      "application/vnd.jupyter.widget-view+json": {
       "model_id": "",
       "version_major": 2,
       "version_minor": 0
      },
      "text/plain": [
       "Epoch 7:   0%|          | 0/808 [00:00<?, ?it/s]"
      ]
     },
     "metadata": {},
     "output_type": "display_data"
    },
    {
     "name": "stdout",
     "output_type": "stream",
     "text": [
      "\n",
      "Epoch 7\n",
      "Training loss: 0.22436217071389375\n",
      "Validation loss: 0.1864571754940518\n",
      "F1 Score (weighted): 0.9385195518546499\n",
      "\u001b[91m0.09% Training loss increased compared to the previous epoch\u001b[0m\n",
      "\u001b[91m0.27% Validation loss increased compared to the previous epoch\u001b[0m\n",
      "\u001b[91m0.08% F1 Score decreased compared to the previous epoch\u001b[0m\n",
      "\n",
      "Early stopping triggered. Training stopped.\n",
      "\n",
      "Total training time: 29.349145523707072 minutes\n",
      "Final Accuracy: 0.9411764705882353\n",
      "Final Precision: 0.9397157927498485\n"
     ]
    },
    {
     "data": {
      "image/png": "[encoded data removed]",
      "text/plain": [
       "<Figure size 800x600 with 1 Axes>"
      ]
     },
     "metadata": {},
     "output_type": "display_data"
    },
    {
     "name": "stdout",
     "output_type": "stream",
     "text": [
      "Epoch                 Training Loss        Validation Loss      F1 Score            Accuracy              Precision\n",
      "--------------------  -------------------  -------------------  ------------------  ------------------  -----------\n",
      "1                     0.228908228568357    0.18783799718401514  0.9363417905293909  0.9386996904024768     0.936868\n",
      "2                     \u001b[92m0.22861927661913364\u001b[0m  \u001b[91m0.18903799159314003\u001b[0m  \u001b[91m0.9357528520308592\u001b[0m  \u001b[92m\u001b[91m0.9357528520308592\u001b[0m\u001b[0m     \u001b[91m\u001b[91m0.935753\u001b[0m\u001b[0m\n",
      "3                     \u001b[92m0.22800015765305673\u001b[0m  \u001b[92m0.1870604576047344\u001b[0m   \u001b[92m0.9375477249225812\u001b[0m  \u001b[92m\u001b[92m0.9375477249225812\u001b[0m\u001b[0m     \u001b[92m\u001b[92m0.937548\u001b[0m\u001b[0m\n",
      "4                     \u001b[91m0.22822094448936622\u001b[0m  \u001b[92m0.1845243766438216\u001b[0m   \u001b[92m0.9384659761470147\u001b[0m  \u001b[92m\u001b[92m0.9384659761470147\u001b[0m\u001b[0m     \u001b[92m\u001b[92m0.938466\u001b[0m\u001b[0m\n",
      "5                     \u001b[92m0.22273616955009298\u001b[0m  \u001b[91m0.18492728224517502\u001b[0m  \u001b[91m0.9374366866505746\u001b[0m  \u001b[92m\u001b[91m0.9374366866505746\u001b[0m\u001b[0m     \u001b[91m\u001b[91m0.937437\u001b[0m\u001b[0m\n",
      "6                     \u001b[91m0.22415123874463352\u001b[0m  \u001b[91m0.1859513771706399\u001b[0m   \u001b[92m0.9392402531624541\u001b[0m  \u001b[92m\u001b[92m0.9392402531624541\u001b[0m\u001b[0m     \u001b[92m\u001b[92m0.93924\u001b[0m\u001b[0m\n",
      "7                     \u001b[91m0.22436217071389375\u001b[0m  \u001b[91m0.1864571754940518\u001b[0m   \u001b[91m0.9385195518546499\u001b[0m  \u001b[92m\u001b[91m0.9385195518546499\u001b[0m\u001b[0m     \u001b[92m\u001b[91m0.93852\u001b[0m\u001b[0m\n",
      "Total Training Time                                                                                     1760.95\n",
      "Final Precision                                                                                            0.939716\n",
      "Total Time (minutes)                                                                                      29.3491\n"
     ]
    }
   ],
   "source": [
    "from torch.utils.data import DataLoader, SubsetRandomSampler\n",
    "from sklearn.model_selection import KFold\n",
    "\n",
    "k = 5  # Number of folds\n",
    "kf = KFold(n_splits=k, shuffle=True, random_state=42)\n",
    "\n",
    "# Convert the multilabel indicator target to numpy array\n",
    "targets = dataset_train.tensors[1].numpy()\n",
    "\n",
    "# Initialize lists to store the evaluation metrics for each fold\n",
    "training_loss_lists = []\n",
    "validation_loss_lists = []\n",
    "accuracy_lists = []\n",
    "precision_lists = []\n",
    "f1_score_lists = []\n",
    "\n",
    "# Perform multilabel k-fold cross-validation\n",
    "for fold, (train_index, val_index) in enumerate(kf.split(targets)):\n",
    "    print(f\"\\nFold {fold+1}\")\n",
    "    train_sampler = SubsetRandomSampler(train_index)\n",
    "    val_sampler = SubsetRandomSampler(val_index)\n",
    "\n",
    "    # Create data loaders for training and validation\n",
    "    dataloader_train = DataLoader(dataset_train, batch_size=batch_size, sampler=train_sampler)\n",
    "    dataloader_vals = DataLoader(dataset_train, batch_size=batch_size, sampler=val_sampler)\n",
    "\n",
    "    # Initialize metrics lists for this fold\n",
    "    fold_training_loss_list = []\n",
    "    fold_validation_loss_list = []\n",
    "    fold_accuracy_list = []\n",
    "    fold_precision_list = []\n",
    "    fold_f1_score_list = []\n",
    "\n",
    "    try:\n",
    "        fold_training_loss_list, fold_validation_loss_list, fold_accuracy_list, fold_precision_list, fold_f1_score_list = \\\n",
    "        train_model(trainer, dataloader_train, dataloader_vals, epochs, patience)\n",
    "    except Exception as e:\n",
    "        print(f\"Continue to the next fold {fold+1}: {str(e)}\")\n",
    "        continue"
   ]
  },
  {
   "cell_type": "code",
   "execution_count": 22,
   "id": "f5b4893a-2317-45a9-a4ad-3c79387cfb8f",
   "metadata": {},
   "outputs": [
    {
     "data": {
      "application/vnd.jupyter.widget-view+json": {
       "model_id": "39696cab5dd845db88a04e0d8c9fbf95",
       "version_major": 2,
       "version_minor": 0
      },
      "text/plain": [
       "  0%|          | 0/10 [00:00<?, ?it/s]"
      ]
     },
     "metadata": {},
     "output_type": "display_data"
    },
    {
     "data": {
      "application/vnd.jupyter.widget-view+json": {
       "model_id": "",
       "version_major": 2,
       "version_minor": 0
      },
      "text/plain": [
       "Epoch 1:   0%|          | 0/808 [00:00<?, ?it/s]"
      ]
     },
     "metadata": {},
     "output_type": "display_data"
    },
    {
     "name": "stdout",
     "output_type": "stream",
     "text": [
      "\n",
      "Epoch 1\n",
      "Training loss: 0.2267736110278396\n",
      "Validation loss: 0.355431347240064\n",
      "F1 Score (weighted): 0.8907805901316341\n"
     ]
    },
    {
     "data": {
      "application/vnd.jupyter.widget-view+json": {
       "model_id": "",
       "version_major": 2,
       "version_minor": 0
      },
      "text/plain": [
       "Epoch 2:   0%|          | 0/808 [00:00<?, ?it/s]"
      ]
     },
     "metadata": {},
     "output_type": "display_data"
    },
    {
     "name": "stdout",
     "output_type": "stream",
     "text": [
      "\n",
      "Epoch 2\n",
      "Training loss: 0.22620157434865557\n",
      "Validation loss: 0.3546186327118875\n",
      "F1 Score (weighted): 0.8892297658481869\n",
      "\u001b[92m0.25% Training loss decreased compared to the previous epoch\u001b[0m\n",
      "\u001b[92m0.23% Validation loss decreased compared to the previous epoch\u001b[0m\n",
      "\u001b[91m0.17% F1 Score decreased compared to the previous epoch\u001b[0m\n"
     ]
    },
    {
     "data": {
      "application/vnd.jupyter.widget-view+json": {
       "model_id": "",
       "version_major": 2,
       "version_minor": 0
      },
      "text/plain": [
       "Epoch 3:   0%|          | 0/808 [00:00<?, ?it/s]"
      ]
     },
     "metadata": {},
     "output_type": "display_data"
    },
    {
     "name": "stdout",
     "output_type": "stream",
     "text": [
      "\n",
      "Epoch 3\n",
      "Training loss: 0.22676960465015317\n",
      "Validation loss: 0.3550369518758783\n",
      "F1 Score (weighted): 0.8907073511532132\n",
      "\u001b[91m0.25% Training loss increased compared to the previous epoch\u001b[0m\n",
      "\u001b[91m0.12% Validation loss increased compared to the previous epoch\u001b[0m\n",
      "\u001b[92m0.17% F1 Score increased compared to the previous epoch\u001b[0m\n"
     ]
    },
    {
     "data": {
      "application/vnd.jupyter.widget-view+json": {
       "model_id": "",
       "version_major": 2,
       "version_minor": 0
      },
      "text/plain": [
       "Epoch 4:   0%|          | 0/808 [00:00<?, ?it/s]"
      ]
     },
     "metadata": {},
     "output_type": "display_data"
    },
    {
     "name": "stdout",
     "output_type": "stream",
     "text": [
      "\n",
      "Epoch 4\n",
      "Training loss: 0.23033962129657895\n",
      "Validation loss: 0.3494490566557173\n",
      "F1 Score (weighted): 0.8911566264794571\n",
      "\u001b[91m1.57% Training loss increased compared to the previous epoch\u001b[0m\n",
      "\u001b[92m1.57% Validation loss decreased compared to the previous epoch\u001b[0m\n",
      "\u001b[92m0.05% F1 Score increased compared to the previous epoch\u001b[0m\n"
     ]
    },
    {
     "data": {
      "application/vnd.jupyter.widget-view+json": {
       "model_id": "",
       "version_major": 2,
       "version_minor": 0
      },
      "text/plain": [
       "Epoch 5:   0%|          | 0/808 [00:00<?, ?it/s]"
      ]
     },
     "metadata": {},
     "output_type": "display_data"
    },
    {
     "name": "stdout",
     "output_type": "stream",
     "text": [
      "\n",
      "Epoch 5\n",
      "Training loss: 0.22211876794889496\n",
      "Validation loss: 0.3552388733820951\n",
      "F1 Score (weighted): 0.8902596002631936\n",
      "\u001b[92m3.57% Training loss decreased compared to the previous epoch\u001b[0m\n",
      "\u001b[91m1.66% Validation loss increased compared to the previous epoch\u001b[0m\n",
      "\u001b[91m0.1% F1 Score decreased compared to the previous epoch\u001b[0m\n"
     ]
    },
    {
     "data": {
      "application/vnd.jupyter.widget-view+json": {
       "model_id": "",
       "version_major": 2,
       "version_minor": 0
      },
      "text/plain": [
       "Epoch 6:   0%|          | 0/808 [00:00<?, ?it/s]"
      ]
     },
     "metadata": {},
     "output_type": "display_data"
    },
    {
     "name": "stdout",
     "output_type": "stream",
     "text": [
      "\n",
      "Epoch 6\n",
      "Training loss: 0.2265480903442949\n",
      "Validation loss: 0.35622885098673124\n",
      "F1 Score (weighted): 0.8897867698351555\n",
      "\u001b[91m1.99% Training loss increased compared to the previous epoch\u001b[0m\n",
      "\u001b[91m0.28% Validation loss increased compared to the previous epoch\u001b[0m\n",
      "\u001b[91m0.05% F1 Score decreased compared to the previous epoch\u001b[0m\n"
     ]
    },
    {
     "data": {
      "application/vnd.jupyter.widget-view+json": {
       "model_id": "",
       "version_major": 2,
       "version_minor": 0
      },
      "text/plain": [
       "Epoch 7:   0%|          | 0/808 [00:00<?, ?it/s]"
      ]
     },
     "metadata": {},
     "output_type": "display_data"
    },
    {
     "name": "stdout",
     "output_type": "stream",
     "text": [
      "\n",
      "Epoch 7\n",
      "Training loss: 0.2250873488616106\n",
      "Validation loss: 0.35518738040526654\n",
      "F1 Score (weighted): 0.8898227493431852\n",
      "\u001b[92m0.64% Training loss decreased compared to the previous epoch\u001b[0m\n",
      "\u001b[92m0.29% Validation loss decreased compared to the previous epoch\u001b[0m\n",
      "\u001b[92m0.0% F1 Score increased compared to the previous epoch\u001b[0m\n",
      "\n",
      "Early stopping triggered. Training stopped.\n",
      "\n",
      "Total training time: 29.362566328048707 minutes\n",
      "Final Accuracy: 0.8924675324675325\n",
      "Final Precision: 0.88867552000668\n"
     ]
    },
    {
     "data": {
      "image/png": "[encoded data removed]",
      "text/plain": [
       "<Figure size 800x600 with 1 Axes>"
      ]
     },
     "metadata": {},
     "output_type": "display_data"
    },
    {
     "name": "stdout",
     "output_type": "stream",
     "text": [
      "Epoch                 Training Loss        Validation Loss      F1 Score            Accuracy              Precision\n",
      "--------------------  -------------------  -------------------  ------------------  ------------------  -----------\n",
      "1                     0.2267736110278396   0.355431347240064    0.8907805901316341  0.8940259740259741     0.889302\n",
      "2                     \u001b[92m0.22620157434865557\u001b[0m  \u001b[92m0.3546186327118875\u001b[0m   \u001b[91m0.8892297658481869\u001b[0m  \u001b[92m\u001b[91m0.8892297658481869\u001b[0m\u001b[0m     \u001b[91m\u001b[91m0.88923\u001b[0m\u001b[0m\n",
      "3                     \u001b[91m0.22676960465015317\u001b[0m  \u001b[91m0.3550369518758783\u001b[0m   \u001b[92m0.8907073511532132\u001b[0m  \u001b[92m\u001b[92m0.8907073511532132\u001b[0m\u001b[0m     \u001b[92m\u001b[92m0.890707\u001b[0m\u001b[0m\n",
      "4                     \u001b[91m0.23033962129657895\u001b[0m  \u001b[92m0.3494490566557173\u001b[0m   \u001b[92m0.8911566264794571\u001b[0m  \u001b[92m\u001b[92m0.8911566264794571\u001b[0m\u001b[0m     \u001b[91m\u001b[92m0.891157\u001b[0m\u001b[0m\n",
      "5                     \u001b[92m0.22211876794889496\u001b[0m  \u001b[91m0.3552388733820951\u001b[0m   \u001b[91m0.8902596002631936\u001b[0m  \u001b[92m\u001b[91m0.8902596002631936\u001b[0m\u001b[0m     \u001b[91m\u001b[91m0.89026\u001b[0m\u001b[0m\n",
      "6                     \u001b[91m0.2265480903442949\u001b[0m   \u001b[91m0.35622885098673124\u001b[0m  \u001b[91m0.8897867698351555\u001b[0m  \u001b[92m\u001b[91m0.8897867698351555\u001b[0m\u001b[0m     \u001b[91m\u001b[91m0.889787\u001b[0m\u001b[0m\n",
      "7                     \u001b[92m0.2250873488616106\u001b[0m   \u001b[92m0.35518738040526654\u001b[0m  \u001b[92m0.8898227493431852\u001b[0m  \u001b[92m\u001b[92m0.8898227493431852\u001b[0m\u001b[0m     \u001b[91m\u001b[92m0.889823\u001b[0m\u001b[0m\n",
      "Total Training Time                                                                                     1761.75\n",
      "Final Precision                                                                                            0.888676\n",
      "Total Time (minutes)                                                                                      29.3626\n"
     ]
    },
    {
     "data": {
      "text/plain": [
       "([0.2267736110278396,\n",
       "  0.22620157434865557,\n",
       "  0.22676960465015317,\n",
       "  0.23033962129657895,\n",
       "  0.22211876794889496,\n",
       "  0.2265480903442949,\n",
       "  0.2250873488616106],\n",
       " [0.355431347240064,\n",
       "  0.3546186327118875,\n",
       "  0.3550369518758783,\n",
       "  0.3494490566557173,\n",
       "  0.3552388733820951,\n",
       "  0.35622885098673124,\n",
       "  0.35518738040526654],\n",
       " [0.8940259740259741,\n",
       "  0.892987012987013,\n",
       "  0.8935064935064935,\n",
       "  0.8940259740259741,\n",
       "  0.892987012987013,\n",
       "  0.8924675324675325,\n",
       "  0.8924675324675325],\n",
       " [0.8893023973818676,\n",
       "  0.8875158239532287,\n",
       "  0.8892982411628642,\n",
       "  0.8899235131543988,\n",
       "  0.8888168114288831,\n",
       "  0.8882572823242679,\n",
       "  0.88867552000668],\n",
       " [0.8907805901316341,\n",
       "  0.8892297658481869,\n",
       "  0.8907073511532132,\n",
       "  0.8911566264794571,\n",
       "  0.8902596002631936,\n",
       "  0.8897867698351555,\n",
       "  0.8898227493431852])"
      ]
     },
     "execution_count": 22,
     "metadata": {},
     "output_type": "execute_result"
    }
   ],
   "source": [
    "train_model(trainer, dataloader_train, dataloader_val, epochs, patience)"
   ]
  }
 ],
 "metadata": {
  "kernelspec": {
   "display_name": "Python 3 (ipykernel)",
   "language": "python",
   "name": "python3"
  },
  "language_info": {
   "codemirror_mode": {
    "name": "ipython",
    "version": 3
   },
   "file_extension": ".py",
   "mimetype": "text/x-python",
   "name": "python",
   "nbconvert_exporter": "python",
   "pygments_lexer": "ipython3",
   "version": "3.10.9"
  }
 },
 "nbformat": 4,
 "nbformat_minor": 5
}

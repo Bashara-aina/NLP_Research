{
 "cells": [
  {
   "cell_type": "code",
   "execution_count": 1,
   "id": "c5bf24e9-d40b-45ad-9330-405d0097fe2e",
   "metadata": {
    "tags": []
   },
   "outputs": [
    {
     "name": "stderr",
     "output_type": "stream",
     "text": [
      "2023-07-14 15:24:25.001312: I tensorflow/core/util/port.cc:110] oneDNN custom operations are on. You may see slightly different numerical results due to floating-point round-off errors from different computation orders. To turn them off, set the environment variable `TF_ENABLE_ONEDNN_OPTS=0`.\n",
      "2023-07-14 15:24:25.028680: I tensorflow/core/platform/cpu_feature_guard.cc:182] This TensorFlow binary is optimized to use available CPU instructions in performance-critical operations.\n",
      "To enable the following instructions: AVX2 AVX_VNNI FMA, in other operations, rebuild TensorFlow with the appropriate compiler flags.\n",
      "2023-07-14 15:24:25.680443: W tensorflow/compiler/tf2tensorrt/utils/py_utils.cc:38] TF-TRT Warning: Could not find TensorRT\n"
     ]
    }
   ],
   "source": [
    "import torch\n",
    "import torch.nn as nn\n",
    "import pandas as pd\n",
    "from tqdm.notebook import tqdm  # For displaying progress bars\n",
    "from datasets import load_dataset  # For loading datasets\n",
    "from sklearn.model_selection import train_test_split  # For splitting the dataset\n",
    "from transformers import BertTokenizer  # For tokenizing text\n",
    "from torch.utils.data import TensorDataset  # For creating Tensor datasets\n",
    "import time  # For measuring time\n",
    "from sklearn.metrics import accuracy_score, precision_score, f1_score, recall_score  # For evaluation metrics\n",
    "from torch.utils.data import DataLoader, RandomSampler, SequentialSampler\n",
    "from sklearn.exceptions import UndefinedMetricWarning  # For handling metric warnings\n",
    "import seaborn as sns\n",
    "import matplotlib.pyplot as plt  # For plotting\n",
    "from tabulate import tabulate  # For tabular data formatting\n",
    "import random  # For randomization\n",
    "import numpy as np  # For numerical operations\n",
    "from transformers import (\n",
    "    BertTokenizer,  # Tokenizer for BERT models\n",
    "    AdamW,  # Optimizer for BERT models\n",
    "    get_linear_schedule_with_warmup,  # Learning rate scheduler for BERT models\n",
    "    BertConfig,  # Configuration for BERT models\n",
    "    BertForSequenceClassification  # BERT model for sequence classification tasks\n",
    ")\n",
    "from torch.utils.data import (\n",
    "    DataLoader,  # Data loader for creating batches\n",
    "    RandomSampler,  # Sampler for random sampling of data\n",
    "    SequentialSampler  # Sampler for sequential sampling of data\n",
    ")\n",
    "from sklearn.metrics import f1_score  # For computing the F1 score\n",
    "\n",
    "# 1. Torch: PyTorch library for deep learning\n",
    "# 2. Pandas: Library for data manipulation and analysis\n",
    "# 3. tqdm: Library for displaying progress bars\n",
    "# 4. datasets: Library for working with datasets\n",
    "# 5. train_test_split: Function for splitting the dataset into training and validation sets\n",
    "# 6. BertTokenizer: Tokenizer for BERT models\n",
    "# 7. TensorDataset: Dataset class for creating PyTorch Tensor datasets\n",
    "# 8. time: Module for measuring time\n",
    "# 9. accuracy_score, precision_score, f1_score: Evaluation metrics for classification tasks\n",
    "# 10. UndefinedMetricWarning: Warning for undefined metric values\n",
    "# 11. matplotlib.pyplot: Plotting library\n",
    "# 12. tabulate: Library for formatting tabular data\n",
    "# 13. random: Module for randomization\n",
    "# 14. numpy: Library for numerical operations\n",
    "# 15. AdamW: Optimizer for BERT models\n",
    "# 16. get_linear_schedule_with_warmup: Learning rate scheduler for BERT models\n",
    "# 17. BertConfig: Configuration for BERT models\n",
    "# 18. BertForSequenceClassification: BERT model for sequence classification tasks\n",
    "# 19. DataLoader: Data loader for creating batches\n",
    "# 20. RandomSampler: Sampler for random sampling of data\n",
    "# 21. SequentialSampler: Sampler for sequential sampling of data\n",
    "# 22. f1_score: Function for computing the F1 score"
   ]
  },
  {
   "cell_type": "code",
   "execution_count": 2,
   "id": "207f2073-3da6-4185-917f-e8b3694617ed",
   "metadata": {},
   "outputs": [],
   "source": [
    "def data_sst2():\n",
    "    dataset = load_dataset(\"sst2\")\n",
    "    train_data = dataset['train']\n",
    "    validation_data = dataset['validation']\n",
    "\n",
    "    df_train = train_data.to_pandas()  # Convert the training dataset to a Pandas DataFrame\n",
    "    df_val = validation_data.to_pandas()  # Convert the validation dataset to a Pandas DataFrame\n",
    "\n",
    "    df_train['sentiment'] = df_train['label'].map({0: 'bad', 1: 'good'})\n",
    "    df_val['sentiment'] = df_val['label'].map({0: 'bad', 1: 'good'})\n",
    "\n",
    "    possible_labels = df_train.sentiment.unique()  # Get unique category labels from the training DataFrame column 'category'\n",
    "\n",
    "    label_dict = {}  # Create a dictionary to map each possible label to a unique index\n",
    "    for index, possible_label in enumerate(possible_labels):\n",
    "        label_dict[possible_label] = index\n",
    "\n",
    "    df_train['label'] = df_train.sentiment.replace(label_dict)\n",
    "    df_val['label'] = df_val.sentiment.replace(label_dict)\n",
    "\n",
    "    df_train['data_type'] = 'train'  # Set the 'data_type' column to 'train' for training data\n",
    "    df_val['data_type'] = 'val'  # Set the 'data_type' column to 'val' for validation data\n",
    "\n",
    "    df = pd.concat([df_train, df_val], ignore_index=True)  # Merge the training and validation dataframes\n",
    "\n",
    "    return df\n",
    "\n",
    "def f1_score_func(preds, labels):\n",
    "    preds_flat = np.argmax(preds, axis=1).flatten() #This line finds the index with the highest probability in each prediction, effectively giving the predicted class for each input.\n",
    "    labels_flat = labels.flatten()  #This line flattens the labels array into a 1D vector, as required by the f1_score function.\n",
    "    return f1_score(labels_flat, preds_flat, average='weighted') #This line computes the F1 score using the true labels and the predicted labels, with the weighted averaging scheme. The result is returned.\n",
    "\n",
    "def accuracy_per_class(preds, labels, label_dict):\n",
    "    # Create a dictionary with keys and values reversed for easy lookup.\n",
    "    label_dict_inverse = {v: k for k, v in label_dict.items()}\n",
    "    \n",
    "    # Get the predicted labels and flatten them.\n",
    "    preds_flat = np.argmax(preds, axis=1).flatten()\n",
    "    \n",
    "    # Get the actual labels and flatten them.\n",
    "    labels_flat = labels.flatten()\n",
    "\n",
    "    # Initialize the confusion matrix.\n",
    "    confusion_matrix = np.zeros((len(label_dict), len(label_dict)), dtype=int)\n",
    "\n",
    "    # Iterate over the unique labels in the actual labels.\n",
    "    for label in np.unique(labels_flat):\n",
    "        # Get the predicted labels for this class.\n",
    "        y_preds = preds_flat[labels_flat==label]\n",
    "        \n",
    "        # Get the actual labels for this class.\n",
    "        y_true = labels_flat[labels_flat==label]\n",
    "        \n",
    "        # Count the number of correct predictions for this class.\n",
    "        num_correct = len(y_preds[y_preds==label])\n",
    "        \n",
    "        # Count the number of instances for this class.\n",
    "        num_instances = len(y_true)\n",
    "        \n",
    "        # Calculate the accuracy percentage.\n",
    "        accuracy = num_correct / num_instances * 100\n",
    "        \n",
    "        # Update the confusion matrix.\n",
    "        confusion_matrix[label, label] = num_correct\n",
    "        confusion_matrix[label, :] += np.bincount(y_preds, minlength=len(label_dict))\n",
    "        \n",
    "        # Print the class name, accuracy numerator and denominator.\n",
    "        class_name = label_dict_inverse[label]\n",
    "        print(f'Class: {class_name}')\n",
    "        print(f'Accuracy: {num_correct}/{num_instances} ({accuracy:.2f}%)\\n')\n",
    "\n",
    "    # Plot the confusion matrix\n",
    "    plt.figure(figsize=(10, 8))\n",
    "    sns.heatmap(confusion_matrix, annot=True, fmt=\"d\", cmap=\"Blues\")\n",
    "    plt.xlabel(\"Predicted Labels\")\n",
    "    plt.ylabel(\"True Labels\")\n",
    "    plt.title(\"Confusion Matrix - Accuracy Percentage\")\n",
    "    plt.show()\n",
    "\n",
    "#This code evaluates the performance of a trained model on a validation dataset by computing its loss and predictions for each batch in the dataset.\n",
    "def evaluate(dataloader_val):\n",
    "\n",
    "    model.eval() # setting the model to evaluation mode to disable dropout and other regularization techniques that are useful during training but not during evaluation.\n",
    "    \n",
    "    loss_val_total = 0\n",
    "    predictions, true_vals = [], []\n",
    "    \n",
    "    for batch in dataloader_val:\n",
    "    \n",
    "        batch = tuple(b.to(device) for b in batch) # moving the input batch to the GPU for faster computation.\n",
    "   \n",
    "        #  creating a dictionary of inputs that will be passed to the model. The input IDs and attention mask are for the BERT model, and the labels are the true labels for each input.\n",
    "        inputs = {'input_ids':  \tbatch[0],\n",
    "                'attention_mask': batch[1],\n",
    "                'labels':     \tbatch[2],\n",
    "                } \n",
    "\n",
    "        with torch.no_grad():   \n",
    "            outputs = model(**inputs)\n",
    "        \n",
    "        loss = outputs[0]\n",
    "        logits = outputs[1]\n",
    "        loss_val_total += loss.item()\n",
    "\n",
    "        logits = logits.detach().cpu().numpy()\n",
    "        label_ids = inputs['labels'].cpu().numpy()\n",
    "        predictions.append(logits)\n",
    "        true_vals.append(label_ids)\n",
    "    \n",
    "    loss_val_avg = loss_val_total/len(dataloader_val)\n",
    "    \n",
    "    predictions = np.concatenate(predictions, axis=0)\n",
    "    true_vals = np.concatenate(true_vals, axis=0)\n",
    "       \t \n",
    "    return loss_val_avg, predictions, true_vals\n",
    "\n",
    "def train_model(trainer, dataloader_train, dataloader_val, epochs, patience):\n",
    "    total_training_time = 0\n",
    "    \n",
    "    training_loss_list = []\n",
    "    validation_loss_list = []\n",
    "    accuracy_list = []\n",
    "    precision_list = []\n",
    "    f1_score_list = []\n",
    "    \n",
    "    previous_results = None  # Store previous epoch results\n",
    "    best_val_loss = float('inf')\n",
    "    counter = 0\n",
    "    \n",
    "    for epoch in tqdm(range(1, epochs + 1)):\n",
    "        start_time = time.time()\n",
    "    \n",
    "        model.train()\n",
    "        loss_train_total = 0\n",
    "    \n",
    "        progress_bar = tqdm(dataloader_train,\n",
    "                            desc='Epoch {:1d}'.format(epoch),\n",
    "                            leave=False,\n",
    "                            disable=False)\n",
    "        for batch in progress_bar:\n",
    "            model.zero_grad()\n",
    "            batch = tuple(b.to(device) for b in batch)\n",
    "            inputs = {\n",
    "                'input_ids': batch[0],\n",
    "                'attention_mask': batch[1],\n",
    "                'labels': batch[2],\n",
    "            }\n",
    "            output = model(**inputs)\n",
    "            loss = output[0]\n",
    "\n",
    "            # L1 regularization\n",
    "            l1_regularization = torch.tensor(0., device=device)\n",
    "            for param in model.parameters():\n",
    "                l1_regularization += torch.norm(param, 1)\n",
    "            \n",
    "            # L2 regularization\n",
    "            l2_regularization = torch.tensor(0., device=device)\n",
    "            for param in model.parameters():\n",
    "                l2_regularization += torch.norm(param, 2)\n",
    "\n",
    "            \n",
    "            loss_train_total += loss.item()\n",
    "            loss.backward()\n",
    "            torch.nn.utils.clip_grad_norm_(model.parameters(), 1.0)\n",
    "            optimizer.step()\n",
    "            scheduler.step()\n",
    "            progress_bar.set_postfix({'training_loss': '{:.3f}'.format(loss.item() / len(batch))})\n",
    "    \n",
    "        end_time = time.time()\n",
    "        epoch_training_time = end_time - start_time\n",
    "        total_training_time += epoch_training_time\n",
    "    \n",
    "        torch.save(model.state_dict(), f'Models/finetuned_gpt_bert_sst2_ft_epoch{epoch}.model')\n",
    "    \n",
    "        tqdm.write(f'\\nEpoch {epoch}')\n",
    "    \n",
    "        loss_train_avg = loss_train_total / len(dataloader_train)\n",
    "        tqdm.write(f'Training loss: {loss_train_avg}')\n",
    "    \n",
    "        val_loss, predictions, true_vals = evaluate(dataloader_val)\n",
    "    \n",
    "        # Convert predictions to discrete labels\n",
    "        predictions = np.argmax(predictions, axis=1)\n",
    "    \n",
    "        val_f1 = f1_score(true_vals, predictions, average='weighted')\n",
    "        tqdm.write(f'Validation loss: {val_loss}')\n",
    "        tqdm.write(f'F1 Score (weighted): {val_f1}')\n",
    "    \n",
    "        val_accuracy = accuracy_score(true_vals, predictions)\n",
    "        val_precision = precision_score(true_vals, predictions, average='weighted', zero_division=1)\n",
    "    \n",
    "        # Compute and store metrics\n",
    "        training_loss_list.append(loss_train_avg)\n",
    "        validation_loss_list.append(val_loss)\n",
    "        f1_score_list.append(val_f1)\n",
    "        accuracy_list.append(val_accuracy)\n",
    "        precision_list.append(val_precision)\n",
    "    \n",
    "        # Check if there are previous results to compare with\n",
    "        if previous_results is not None:\n",
    "            if loss_train_avg > previous_results['loss_train_avg']:\n",
    "                percentage_increase = ((loss_train_avg - previous_results['loss_train_avg']) / previous_results['loss_train_avg']) * 100\n",
    "                tqdm.write('\\033[91m' + f'{round(percentage_increase, 2)}% Training loss increased compared to the previous epoch' + '\\033[0m')\n",
    "            if loss_train_avg < previous_results['loss_train_avg']:\n",
    "                percentage_decrease = ((previous_results['loss_train_avg'] - loss_train_avg) / previous_results['loss_train_avg']) * 100\n",
    "                tqdm.write('\\033[92m' + f'{round(percentage_decrease, 2)}% Training loss decreased compared to the previous epoch' + '\\033[0m')\n",
    "            if val_loss > previous_results['val_loss']:\n",
    "                percentage_increase = ((val_loss - previous_results['val_loss']) / previous_results['val_loss']) * 100\n",
    "                tqdm.write('\\033[91m' + f'{round(percentage_increase, 2)}% Validation loss increased compared to the previous epoch' + '\\033[0m')\n",
    "            if val_loss < previous_results['val_loss']:\n",
    "                percentage_decrease = ((previous_results['val_loss'] - val_loss) / previous_results['val_loss']) * 100\n",
    "                tqdm.write('\\033[92m' + f'{round(percentage_decrease, 2)}% Validation loss decreased compared to the previous epoch' + '\\033[0m')\n",
    "            if val_f1 < previous_results['val_f1']:\n",
    "                percentage_decrease = ((previous_results['val_f1'] - val_f1) / previous_results['val_f1']) * 100\n",
    "                tqdm.write('\\033[91m' + f'{round(percentage_decrease, 2)}% F1 Score decreased compared to the previous epoch' + '\\033[0m')\n",
    "            if val_f1 > previous_results['val_f1']:\n",
    "                percentage_increase = ((val_f1 - previous_results['val_f1']) / previous_results['val_f1']) * 100\n",
    "                tqdm.write('\\033[92m' + f'{round(percentage_increase, 2)}% F1 Score increased compared to the previous epoch' + '\\033[0m')\n",
    "    \n",
    "        # Store current results as previous results for the next epoch\n",
    "        previous_results = {\n",
    "            'loss_train_avg': loss_train_avg,\n",
    "            'val_loss': val_loss,\n",
    "            'val_f1': val_f1\n",
    "        }\n",
    "        \n",
    "        # Check for early stopping\n",
    "        if val_loss < best_val_loss:\n",
    "            best_val_loss = val_loss\n",
    "            counter = 0\n",
    "        else:\n",
    "            counter += 1\n",
    "            if counter >= patience:\n",
    "                tqdm.write('\\nEarly stopping triggered. Training stopped.')\n",
    "                break\n",
    "    \n",
    "    total_time_minutes = total_training_time / 60\n",
    "    tqdm.write(f'\\nTotal training time: {total_time_minutes} minutes')\n",
    "    \n",
    "    final_accuracy = accuracy_list[-1]\n",
    "    final_precision = precision_list[-1]\n",
    "    tqdm.write(f'Final Accuracy: {final_accuracy}')\n",
    "    tqdm.write(f'Final Precision: {final_precision}')\n",
    "    \n",
    "    # Create the x-axis values based on the actual number of epochs completed\n",
    "    x_values = range(1, len(training_loss_list) + 1)\n",
    "    \n",
    "    # Create the metrics subplot\n",
    "    fig, ax = plt.subplots(figsize=(8, 6))\n",
    "    \n",
    "    # Plot training loss\n",
    "    ax.plot(x_values, training_loss_list, label='Training Loss')\n",
    "    \n",
    "    # Plot validation loss\n",
    "    ax.plot(x_values, validation_loss_list, label='Validation Loss')\n",
    "    \n",
    "    # Plot F1-score\n",
    "    ax.plot(x_values, f1_score_list, label='F1 Score')\n",
    "\n",
    "    # Plot Accuracy\n",
    "    ax.plot(x_values, accuracy_list, label='Accuracy')\n",
    "    \n",
    "    # Set labels and title\n",
    "    ax.set_xlabel('Epoch')\n",
    "    ax.set_ylabel('Metric Value')\n",
    "    ax.set_title('Training Loss, Validation Loss, and F1 Score')\n",
    "    \n",
    "    # Set legend\n",
    "    ax.legend()\n",
    "    \n",
    "    # Show the combined plot\n",
    "    plt.show()\n",
    "    \n",
    "    \n",
    "    # Create the metrics table\n",
    "    metrics_table = [\n",
    "        ['Epoch', 'Training Loss', 'Validation Loss', 'F1 Score', 'Accuracy', 'Precision'],\n",
    "    ]\n",
    "    previous_results = None\n",
    "    for epoch in range(1, len(training_loss_list) + 1):\n",
    "        row = [\n",
    "            epoch,\n",
    "            training_loss_list[epoch - 1],\n",
    "            validation_loss_list[epoch - 1],\n",
    "            f1_score_list[epoch - 1],\n",
    "            accuracy_list[epoch - 1],\n",
    "            precision_list[epoch - 1]\n",
    "        ]\n",
    "    \n",
    "        # Compare with previous epoch results\n",
    "        if previous_results is not None:\n",
    "            if training_loss_list[epoch - 1] < previous_results['loss_train_avg']:\n",
    "                row[1] = '\\033[92m' + str(row[1]) + '\\033[0m'  # Highlight in green\n",
    "            if training_loss_list[epoch - 1] > previous_results['loss_train_avg']:\n",
    "                row[1] = '\\033[91m' + str(row[1]) + '\\033[0m'  # Highlight in red\n",
    "            if validation_loss_list[epoch - 1] < previous_results['val_loss']:\n",
    "                row[2] = '\\033[92m' + str(row[2]) + '\\033[0m'  # Highlight in green\n",
    "            if validation_loss_list[epoch - 1] > previous_results['val_loss']:\n",
    "                row[2] = '\\033[91m' + str(row[2]) + '\\033[0m'  # Highlight in red\n",
    "            if f1_score_list[epoch - 1] > previous_results['val_f1']:\n",
    "                row[3] = '\\033[92m' + str(row[3]) + '\\033[0m'  # Highlight in green\n",
    "            if f1_score_list[epoch - 1] < previous_results['val_f1']:\n",
    "                row[3] = '\\033[91m' + str(row[3]) + '\\033[0m'  # Highlight in red\n",
    "            if accuracy_list[epoch - 1] > previous_results['val_f1']:\n",
    "                row[4] = '\\033[92m' + str(row[3]) + '\\033[0m'  # Highlight in green\n",
    "            if accuracy_list[epoch - 1] < previous_results['val_f1']:\n",
    "                row[4] = '\\033[91m' + str(row[3]) + '\\033[0m'  # Highlight in red\n",
    "            if precision_list[epoch - 1] > previous_results['val_f1']:\n",
    "                row[5] = '\\033[92m' + str(row[3]) + '\\033[0m'  # Highlight in green\n",
    "            if precision_list[epoch - 1] < previous_results['val_f1']:\n",
    "                row[5] = '\\033[91m' + str(row[3]) + '\\033[0m'  # Highlight in red\n",
    "    \n",
    "        metrics_table.append(row)\n",
    "        previous_results = {\n",
    "            'loss_train_avg': training_loss_list[epoch - 1],\n",
    "            'val_loss': validation_loss_list[epoch - 1],\n",
    "            'val_f1': f1_score_list[epoch - 1]\n",
    "        }\n",
    "    \n",
    "    # Calculate total training time in minutes\n",
    "    total_time_minutes = total_training_time / 60\n",
    "    \n",
    "    # Calculate total precision\n",
    "    total_precision = precision_list[-1]\n",
    "    \n",
    "    # Add total training time and total precision rows to the table\n",
    "    metrics_table.append(['Total Training Time', '', '', '', '', total_training_time])\n",
    "    metrics_table.append(['Final Precision', '', '', '', '', total_precision])\n",
    "    metrics_table.append(['Total Time (minutes)', '', '', '', '', total_time_minutes])\n",
    "    \n",
    "    # Print the table\n",
    "    print(tabulate(metrics_table, headers='firstrow'))\n",
    "\n",
    "default_args = {\n",
    "    \"output_dir\": \"tmp\",\n",
    "    \"evaluation_strategy\": \"steps\",\n",
    "    \"num_train_epochs\": 1,\n",
    "    \"log_level\": \"error\",\n",
    "    \"report_to\": \"none\",\n",
    "}"
   ]
  },
  {
   "cell_type": "code",
   "execution_count": 3,
   "id": "d9785608-cd5e-4432-9d68-68d90c4a0a5a",
   "metadata": {},
   "outputs": [
    {
     "name": "stderr",
     "output_type": "stream",
     "text": [
      "Found cached dataset sst2 (/home/z123010/.cache/huggingface/datasets/sst2/default/2.0.0/9896208a8d85db057ac50c72282bcb8fe755accc671a57dd8059d4e130961ed5)\n"
     ]
    },
    {
     "data": {
      "application/vnd.jupyter.widget-view+json": {
       "model_id": "ccf0defc16ff4c449dc9b72a5be5a187",
       "version_major": 2,
       "version_minor": 0
      },
      "text/plain": [
       "  0%|          | 0/3 [00:00<?, ?it/s]"
      ]
     },
     "metadata": {},
     "output_type": "display_data"
    }
   ],
   "source": [
    "df = data_sst2()"
   ]
  },
  {
   "cell_type": "code",
   "execution_count": 4,
   "id": "8793b8bc-43bd-4d43-a17e-abf0174eb200",
   "metadata": {},
   "outputs": [],
   "source": [
    "# Create label_dict and assign the number of labels\n",
    "label_dict = {label: index for index, label in enumerate(df['label'].unique())}"
   ]
  },
  {
   "cell_type": "code",
   "execution_count": 5,
   "id": "2707709e-9e1b-460f-9386-6d9e999f2d90",
   "metadata": {},
   "outputs": [
    {
     "data": {
      "text/html": [
       "<div>\n",
       "<style scoped>\n",
       "    .dataframe tbody tr th:only-of-type {\n",
       "        vertical-align: middle;\n",
       "    }\n",
       "\n",
       "    .dataframe tbody tr th {\n",
       "        vertical-align: top;\n",
       "    }\n",
       "\n",
       "    .dataframe thead th {\n",
       "        text-align: right;\n",
       "    }\n",
       "</style>\n",
       "<table border=\"1\" class=\"dataframe\">\n",
       "  <thead>\n",
       "    <tr style=\"text-align: right;\">\n",
       "      <th></th>\n",
       "      <th>idx</th>\n",
       "      <th>sentence</th>\n",
       "      <th>label</th>\n",
       "      <th>sentiment</th>\n",
       "      <th>data_type</th>\n",
       "    </tr>\n",
       "  </thead>\n",
       "  <tbody>\n",
       "    <tr>\n",
       "      <th>1990</th>\n",
       "      <td>1990</td>\n",
       "      <td>the best script</td>\n",
       "      <td>1</td>\n",
       "      <td>good</td>\n",
       "      <td>train</td>\n",
       "    </tr>\n",
       "    <tr>\n",
       "      <th>26513</th>\n",
       "      <td>26513</td>\n",
       "      <td>vividly back</td>\n",
       "      <td>1</td>\n",
       "      <td>good</td>\n",
       "      <td>train</td>\n",
       "    </tr>\n",
       "    <tr>\n",
       "      <th>54185</th>\n",
       "      <td>54185</td>\n",
       "      <td>than most third-rate horror sequels</td>\n",
       "      <td>0</td>\n",
       "      <td>bad</td>\n",
       "      <td>train</td>\n",
       "    </tr>\n",
       "    <tr>\n",
       "      <th>48479</th>\n",
       "      <td>48479</td>\n",
       "      <td>, byler reveals the ways in which a sultry eve...</td>\n",
       "      <td>1</td>\n",
       "      <td>good</td>\n",
       "      <td>train</td>\n",
       "    </tr>\n",
       "    <tr>\n",
       "      <th>14682</th>\n",
       "      <td>14682</td>\n",
       "      <td>is funny , charming and quirky</td>\n",
       "      <td>1</td>\n",
       "      <td>good</td>\n",
       "      <td>train</td>\n",
       "    </tr>\n",
       "    <tr>\n",
       "      <th>24245</th>\n",
       "      <td>24245</td>\n",
       "      <td>a whole lot of fun and funny in the middle , t...</td>\n",
       "      <td>1</td>\n",
       "      <td>good</td>\n",
       "      <td>train</td>\n",
       "    </tr>\n",
       "    <tr>\n",
       "      <th>60561</th>\n",
       "      <td>60561</td>\n",
       "      <td>the most screwy thing here is how so many tale...</td>\n",
       "      <td>0</td>\n",
       "      <td>bad</td>\n",
       "      <td>train</td>\n",
       "    </tr>\n",
       "    <tr>\n",
       "      <th>42157</th>\n",
       "      <td>42157</td>\n",
       "      <td>dreary , humorless soap opera</td>\n",
       "      <td>0</td>\n",
       "      <td>bad</td>\n",
       "      <td>train</td>\n",
       "    </tr>\n",
       "    <tr>\n",
       "      <th>19912</th>\n",
       "      <td>19912</td>\n",
       "      <td>will take you places you have n't been , and a...</td>\n",
       "      <td>1</td>\n",
       "      <td>good</td>\n",
       "      <td>train</td>\n",
       "    </tr>\n",
       "    <tr>\n",
       "      <th>50295</th>\n",
       "      <td>50295</td>\n",
       "      <td>interesting and at times captivating</td>\n",
       "      <td>1</td>\n",
       "      <td>good</td>\n",
       "      <td>train</td>\n",
       "    </tr>\n",
       "  </tbody>\n",
       "</table>\n",
       "</div>"
      ],
      "text/plain": [
       "         idx                                           sentence  label   \n",
       "1990    1990                                   the best script       1  \\\n",
       "26513  26513                                      vividly back       1   \n",
       "54185  54185               than most third-rate horror sequels       0   \n",
       "48479  48479  , byler reveals the ways in which a sultry eve...      1   \n",
       "14682  14682                    is funny , charming and quirky       1   \n",
       "24245  24245  a whole lot of fun and funny in the middle , t...      1   \n",
       "60561  60561  the most screwy thing here is how so many tale...      0   \n",
       "42157  42157                     dreary , humorless soap opera       0   \n",
       "19912  19912  will take you places you have n't been , and a...      1   \n",
       "50295  50295              interesting and at times captivating       1   \n",
       "\n",
       "      sentiment data_type  \n",
       "1990       good     train  \n",
       "26513      good     train  \n",
       "54185       bad     train  \n",
       "48479      good     train  \n",
       "14682      good     train  \n",
       "24245      good     train  \n",
       "60561       bad     train  \n",
       "42157       bad     train  \n",
       "19912      good     train  \n",
       "50295      good     train  "
      ]
     },
     "execution_count": 5,
     "metadata": {},
     "output_type": "execute_result"
    }
   ],
   "source": [
    "df.sample(n=10, random_state=42)  # Generate 10 random rows from df"
   ]
  },
  {
   "cell_type": "code",
   "execution_count": 6,
   "id": "dc596d9c-5808-4f39-a59e-6ed36d8927dd",
   "metadata": {},
   "outputs": [
    {
     "data": {
      "text/html": [
       "<div>\n",
       "<style scoped>\n",
       "    .dataframe tbody tr th:only-of-type {\n",
       "        vertical-align: middle;\n",
       "    }\n",
       "\n",
       "    .dataframe tbody tr th {\n",
       "        vertical-align: top;\n",
       "    }\n",
       "\n",
       "    .dataframe thead th {\n",
       "        text-align: right;\n",
       "    }\n",
       "</style>\n",
       "<table border=\"1\" class=\"dataframe\">\n",
       "  <thead>\n",
       "    <tr style=\"text-align: right;\">\n",
       "      <th></th>\n",
       "      <th>idx</th>\n",
       "      <th>sentence</th>\n",
       "      <th>label</th>\n",
       "      <th>data_type</th>\n",
       "    </tr>\n",
       "    <tr>\n",
       "      <th>sentiment</th>\n",
       "      <th></th>\n",
       "      <th></th>\n",
       "      <th></th>\n",
       "      <th></th>\n",
       "    </tr>\n",
       "  </thead>\n",
       "  <tbody>\n",
       "    <tr>\n",
       "      <th>bad</th>\n",
       "      <td>30208</td>\n",
       "      <td>30208</td>\n",
       "      <td>30208</td>\n",
       "      <td>30208</td>\n",
       "    </tr>\n",
       "    <tr>\n",
       "      <th>good</th>\n",
       "      <td>38013</td>\n",
       "      <td>38013</td>\n",
       "      <td>38013</td>\n",
       "      <td>38013</td>\n",
       "    </tr>\n",
       "  </tbody>\n",
       "</table>\n",
       "</div>"
      ],
      "text/plain": [
       "             idx  sentence  label  data_type\n",
       "sentiment                                   \n",
       "bad        30208     30208  30208      30208\n",
       "good       38013     38013  38013      38013"
      ]
     },
     "execution_count": 6,
     "metadata": {},
     "output_type": "execute_result"
    }
   ],
   "source": [
    "df.groupby(['sentiment']).count()"
   ]
  },
  {
   "cell_type": "code",
   "execution_count": 7,
   "id": "731e5a17-8ab7-4d19-a012-05eeabab1d90",
   "metadata": {
    "tags": []
   },
   "outputs": [],
   "source": [
    "# Load BERT tokenizer\n",
    "pretrained_path = 'bert-base-uncased'  # Replace with the path to the pretrained BERT model\n",
    "tokenizer = BertTokenizer.from_pretrained(\n",
    "    'bert-base-uncased',\n",
    "    do_lower_case=True\n",
    ")\n",
    "\n",
    "encoded_data_train_text = tokenizer.batch_encode_plus(\n",
    "    df[df.data_type=='train'].sentence.values,\n",
    "    add_special_tokens=True,\n",
    "    return_attention_mask=True,\n",
    "    padding='longest',\n",
    "    max_length=256,\n",
    "    truncation=True,\n",
    "    return_tensors='pt'\n",
    ")\n",
    "\n",
    "input_ids_train = encoded_data_train_text['input_ids']\n",
    "attention_masks_train = encoded_data_train_text['attention_mask']\n",
    "\n",
    "labels_train = torch.tensor(df[df.data_type=='train'].label.values)\n",
    "\n",
    "encoded_data_val_text = tokenizer.batch_encode_plus(\n",
    "    df[df.data_type=='val'].sentence.values,\n",
    "    add_special_tokens=True,\n",
    "    return_attention_mask=True,\n",
    "    padding='longest',\n",
    "    max_length=256,\n",
    "    truncation=True,\n",
    "    return_tensors='pt'\n",
    ")\n",
    "\n",
    "input_ids_val = encoded_data_val_text['input_ids']\n",
    "attention_masks_val = encoded_data_val_text['attention_mask']\n",
    "\n",
    "labels_val = torch.tensor(df[df.data_type=='val'].label.values)"
   ]
  },
  {
   "cell_type": "code",
   "execution_count": 8,
   "id": "42125069-fd5d-49c0-8032-2be61cb2a6d3",
   "metadata": {
    "tags": []
   },
   "outputs": [
    {
     "data": {
      "text/plain": [
       "(67349, 872)"
      ]
     },
     "execution_count": 8,
     "metadata": {},
     "output_type": "execute_result"
    }
   ],
   "source": [
    "dataset_train = TensorDataset(input_ids_train, attention_masks_train, labels_train)\n",
    "dataset_val = TensorDataset(input_ids_val, attention_masks_val, labels_val)\n",
    "len(dataset_train), len(dataset_val)"
   ]
  },
  {
   "cell_type": "code",
   "execution_count": 9,
   "id": "9a2f7e02-8423-4787-994e-d599ab86b123",
   "metadata": {},
   "outputs": [],
   "source": [
    "from transformers import BertModel, BertConfig, GPT2Model, GPT2Config\n",
    "\n",
    "num_classes = 2\n",
    "\n",
    "class SentimentModel(nn.Module):\n",
    "    def __init__(self, pretrained_bert_path, pretrained_gpt_path):\n",
    "        super(SentimentModel, self).__init__()\n",
    "\n",
    "        gpt_config = GPT2Config.from_pretrained(\n",
    "            pretrained_gpt_path,\n",
    "            hidden_dropout_prob=0.3,\n",
    "            attention_probs_dropout_prob=0.1,\n",
    "            num_hidden_layers=6  # Set the number of GPT layers to 6\n",
    "        )\n",
    "        self.gpt = GPT2Model.from_pretrained(pretrained_gpt_path, config=gpt_config)\n",
    "        \n",
    "        bert_config = BertConfig.from_pretrained(pretrained_bert_path)\n",
    "        bert_config.num_hidden_layers = 6  # Set the number of BERT layers to 6\n",
    "        self.bert = BertModel.from_pretrained(pretrained_bert_path, config=bert_config)\n",
    "        \n",
    "        self.dropout = nn.Dropout(0.2)\n",
    "        self.fc = nn.Linear(bert_config.hidden_size + gpt_config.hidden_size, num_classes)\n",
    "\n",
    "    def forward(self, input_ids, attention_mask, labels=None):\n",
    "        gpt_outputs = self.gpt(input_ids, attention_mask=attention_mask)[0]\n",
    "        bert_outputs = self.bert(input_ids, attention_mask=attention_mask)[0]\n",
    "        \n",
    "        gpt_last_hidden_state = self.dropout(gpt_outputs[:, -1, :])  # Use the last hidden state\n",
    "        bert_pooled_output = self.dropout(bert_outputs[:, 0, :])  # Use the [CLS] token representation\n",
    "        \n",
    "        combined_outputs = torch.cat((gpt_last_hidden_state, bert_pooled_output), dim=1)\n",
    "        \n",
    "        logits = self.fc(combined_outputs)\n",
    "        outputs = nn.functional.softmax(logits, dim=1)\n",
    "        \n",
    "        if labels is not None:\n",
    "            loss = nn.CrossEntropyLoss()(logits.view(-1, num_classes), labels.view(-1))\n",
    "            return loss, outputs, labels\n",
    "        else:\n",
    "            return outputs\n"
   ]
  },
  {
   "cell_type": "code",
   "execution_count": 10,
   "id": "7d131f86-ee7e-49b3-a104-a61841bb78d3",
   "metadata": {},
   "outputs": [
    {
     "name": "stderr",
     "output_type": "stream",
     "text": [
      "Some weights of the model checkpoint at gpt2 were not used when initializing GPT2Model: ['h.6.mlp.c_fc.bias', 'h.8.ln_1.bias', 'h.10.ln_1.weight', 'h.8.ln_1.weight', 'h.7.ln_1.weight', 'h.10.attn.c_proj.bias', 'h.9.mlp.c_proj.weight', 'h.8.mlp.c_fc.bias', 'h.8.mlp.c_proj.bias', 'h.7.mlp.c_fc.weight', 'h.10.mlp.c_proj.bias', 'h.10.mlp.c_fc.weight', 'h.8.attn.c_proj.weight', 'h.6.mlp.c_fc.weight', 'h.11.mlp.c_fc.weight', 'h.6.ln_2.weight', 'h.6.attn.c_attn.weight', 'h.10.mlp.c_proj.weight', 'h.10.ln_1.bias', 'h.10.attn.c_proj.weight', 'h.11.attn.c_attn.bias', 'h.10.mlp.c_fc.bias', 'h.6.mlp.c_proj.bias', 'h.9.mlp.c_fc.weight', 'h.6.attn.c_attn.bias', 'h.11.ln_2.weight', 'h.9.ln_2.weight', 'h.6.ln_2.bias', 'h.11.mlp.c_proj.weight', 'h.9.attn.c_proj.weight', 'h.8.mlp.c_proj.weight', 'h.11.attn.c_proj.bias', 'h.9.attn.c_attn.bias', 'h.11.mlp.c_proj.bias', 'h.7.attn.c_proj.bias', 'h.8.attn.c_proj.bias', 'h.9.attn.c_proj.bias', 'h.7.attn.c_attn.bias', 'h.7.ln_2.bias', 'h.8.ln_2.bias', 'h.9.ln_2.bias', 'h.6.attn.c_proj.bias', 'h.6.ln_1.bias', 'h.6.ln_1.weight', 'h.10.ln_2.bias', 'h.6.attn.c_proj.weight', 'h.7.mlp.c_fc.bias', 'h.9.ln_1.bias', 'h.11.mlp.c_fc.bias', 'h.10.ln_2.weight', 'h.7.ln_2.weight', 'h.10.attn.c_attn.bias', 'h.6.mlp.c_proj.weight', 'h.9.mlp.c_fc.bias', 'h.7.attn.c_proj.weight', 'h.11.ln_2.bias', 'h.8.attn.c_attn.bias', 'h.7.attn.c_attn.weight', 'h.9.ln_1.weight', 'h.11.attn.c_proj.weight', 'h.8.ln_2.weight', 'h.9.mlp.c_proj.bias', 'h.9.attn.c_attn.weight', 'h.11.ln_1.weight', 'h.7.mlp.c_proj.weight', 'h.7.mlp.c_proj.bias', 'h.11.attn.c_attn.weight', 'h.10.attn.c_attn.weight', 'h.8.mlp.c_fc.weight', 'h.7.ln_1.bias', 'h.11.ln_1.bias', 'h.8.attn.c_attn.weight']\n",
      "- This IS expected if you are initializing GPT2Model from the checkpoint of a model trained on another task or with another architecture (e.g. initializing a BertForSequenceClassification model from a BertForPreTraining model).\n",
      "- This IS NOT expected if you are initializing GPT2Model from the checkpoint of a model that you expect to be exactly identical (initializing a BertForSequenceClassification model from a BertForSequenceClassification model).\n",
      "Some weights of the model checkpoint at bert-base-uncased were not used when initializing BertModel: ['bert.encoder.layer.11.attention.self.value.weight', 'bert.encoder.layer.8.output.dense.bias', 'bert.encoder.layer.10.output.dense.weight', 'bert.encoder.layer.8.attention.output.LayerNorm.bias', 'bert.encoder.layer.10.intermediate.dense.bias', 'bert.encoder.layer.10.intermediate.dense.weight', 'bert.encoder.layer.8.intermediate.dense.bias', 'bert.encoder.layer.8.output.LayerNorm.bias', 'bert.encoder.layer.7.intermediate.dense.bias', 'bert.encoder.layer.6.attention.output.dense.weight', 'bert.encoder.layer.6.attention.output.LayerNorm.weight', 'bert.encoder.layer.8.attention.self.value.weight', 'bert.encoder.layer.9.attention.self.key.bias', 'bert.encoder.layer.9.intermediate.dense.weight', 'bert.encoder.layer.8.attention.self.key.bias', 'bert.encoder.layer.11.attention.self.key.weight', 'bert.encoder.layer.8.output.dense.weight', 'bert.encoder.layer.8.attention.self.key.weight', 'bert.encoder.layer.8.output.LayerNorm.weight', 'cls.predictions.transform.LayerNorm.weight', 'bert.encoder.layer.11.attention.self.query.weight', 'bert.encoder.layer.6.output.LayerNorm.bias', 'bert.encoder.layer.9.output.LayerNorm.weight', 'bert.encoder.layer.7.output.dense.weight', 'bert.encoder.layer.11.attention.output.dense.weight', 'bert.encoder.layer.8.attention.output.dense.weight', 'bert.encoder.layer.11.attention.output.LayerNorm.bias', 'bert.encoder.layer.6.attention.self.value.weight', 'bert.encoder.layer.7.attention.self.value.bias', 'bert.encoder.layer.6.attention.self.query.weight', 'bert.encoder.layer.7.attention.self.query.weight', 'bert.encoder.layer.6.output.LayerNorm.weight', 'bert.encoder.layer.11.output.LayerNorm.bias', 'bert.encoder.layer.6.attention.self.key.weight', 'bert.encoder.layer.11.attention.output.dense.bias', 'bert.encoder.layer.11.attention.self.query.bias', 'bert.encoder.layer.11.intermediate.dense.bias', 'bert.encoder.layer.9.attention.output.dense.bias', 'bert.encoder.layer.9.attention.self.query.bias', 'bert.encoder.layer.9.output.dense.bias', 'bert.encoder.layer.7.attention.output.dense.weight', 'bert.encoder.layer.10.attention.output.dense.bias', 'bert.encoder.layer.7.attention.self.key.bias', 'bert.encoder.layer.9.attention.self.query.weight', 'bert.encoder.layer.6.output.dense.weight', 'bert.encoder.layer.9.intermediate.dense.bias', 'bert.encoder.layer.9.output.dense.weight', 'bert.encoder.layer.7.attention.output.LayerNorm.weight', 'cls.seq_relationship.bias', 'bert.encoder.layer.6.output.dense.bias', 'bert.encoder.layer.11.intermediate.dense.weight', 'bert.encoder.layer.9.attention.self.key.weight', 'bert.encoder.layer.10.attention.output.LayerNorm.weight', 'bert.encoder.layer.7.output.LayerNorm.bias', 'bert.encoder.layer.7.output.dense.bias', 'bert.encoder.layer.11.output.dense.weight', 'bert.encoder.layer.10.attention.self.query.weight', 'bert.encoder.layer.10.output.LayerNorm.bias', 'bert.encoder.layer.6.attention.output.LayerNorm.bias', 'bert.encoder.layer.7.intermediate.dense.weight', 'bert.encoder.layer.8.intermediate.dense.weight', 'bert.encoder.layer.10.attention.output.dense.weight', 'bert.encoder.layer.6.attention.self.query.bias', 'bert.encoder.layer.6.attention.self.value.bias', 'bert.encoder.layer.9.attention.output.LayerNorm.weight', 'bert.encoder.layer.8.attention.self.query.weight', 'bert.encoder.layer.10.attention.self.value.weight', 'bert.encoder.layer.11.attention.self.value.bias', 'bert.encoder.layer.11.attention.output.LayerNorm.weight', 'cls.predictions.transform.dense.weight', 'bert.encoder.layer.9.attention.output.dense.weight', 'bert.encoder.layer.10.attention.self.key.weight', 'bert.encoder.layer.7.attention.self.query.bias', 'bert.encoder.layer.8.attention.output.LayerNorm.weight', 'bert.encoder.layer.7.attention.self.key.weight', 'cls.seq_relationship.weight', 'bert.encoder.layer.10.output.LayerNorm.weight', 'bert.encoder.layer.7.attention.output.dense.bias', 'bert.encoder.layer.6.intermediate.dense.weight', 'bert.encoder.layer.8.attention.self.query.bias', 'cls.predictions.transform.dense.bias', 'bert.encoder.layer.6.intermediate.dense.bias', 'bert.encoder.layer.10.attention.self.key.bias', 'bert.encoder.layer.7.attention.output.LayerNorm.bias', 'bert.encoder.layer.11.output.LayerNorm.weight', 'bert.encoder.layer.9.attention.self.value.weight', 'bert.encoder.layer.11.attention.self.key.bias', 'bert.encoder.layer.8.attention.output.dense.bias', 'bert.encoder.layer.10.output.dense.bias', 'bert.encoder.layer.9.attention.output.LayerNorm.bias', 'bert.encoder.layer.6.attention.self.key.bias', 'bert.encoder.layer.10.attention.self.value.bias', 'bert.encoder.layer.10.attention.output.LayerNorm.bias', 'bert.encoder.layer.11.output.dense.bias', 'bert.encoder.layer.9.output.LayerNorm.bias', 'bert.encoder.layer.7.output.LayerNorm.weight', 'bert.encoder.layer.6.attention.output.dense.bias', 'bert.encoder.layer.8.attention.self.value.bias', 'cls.predictions.bias', 'cls.predictions.transform.LayerNorm.bias', 'bert.encoder.layer.9.attention.self.value.bias', 'bert.encoder.layer.10.attention.self.query.bias', 'bert.encoder.layer.7.attention.self.value.weight']\n",
      "- This IS expected if you are initializing BertModel from the checkpoint of a model trained on another task or with another architecture (e.g. initializing a BertForSequenceClassification model from a BertForPreTraining model).\n",
      "- This IS NOT expected if you are initializing BertModel from the checkpoint of a model that you expect to be exactly identical (initializing a BertForSequenceClassification model from a BertForSequenceClassification model).\n"
     ]
    }
   ],
   "source": [
    "# Create model instance\n",
    "model = SentimentModel('bert-base-uncased', 'gpt2')"
   ]
  },
  {
   "cell_type": "code",
   "execution_count": 11,
   "id": "60757b1f-b1d9-468b-9ad0-3d59e4a7da03",
   "metadata": {},
   "outputs": [],
   "source": [
    "# Define the regularization strength\n",
    "lambda_l1 = 0.001\n",
    "lambda_l2 = 0.001\n",
    "# Define the loss function\n",
    "criterion = nn.CrossEntropyLoss()"
   ]
  },
  {
   "cell_type": "code",
   "execution_count": 12,
   "id": "834c8c87-40a1-49c6-8e7b-307b931aec01",
   "metadata": {},
   "outputs": [
    {
     "data": {
      "text/plain": [
       "SentimentModel(\n",
       "  (gpt): GPT2Model(\n",
       "    (wte): Embedding(50257, 768)\n",
       "    (wpe): Embedding(1024, 768)\n",
       "    (drop): Dropout(p=0.1, inplace=False)\n",
       "    (h): ModuleList(\n",
       "      (0-5): 6 x GPT2Block(\n",
       "        (ln_1): LayerNorm((768,), eps=1e-05, elementwise_affine=True)\n",
       "        (attn): GPT2Attention(\n",
       "          (c_attn): Conv1D()\n",
       "          (c_proj): Conv1D()\n",
       "          (attn_dropout): Dropout(p=0.1, inplace=False)\n",
       "          (resid_dropout): Dropout(p=0.1, inplace=False)\n",
       "        )\n",
       "        (ln_2): LayerNorm((768,), eps=1e-05, elementwise_affine=True)\n",
       "        (mlp): GPT2MLP(\n",
       "          (c_fc): Conv1D()\n",
       "          (c_proj): Conv1D()\n",
       "          (act): NewGELUActivation()\n",
       "          (dropout): Dropout(p=0.1, inplace=False)\n",
       "        )\n",
       "      )\n",
       "    )\n",
       "    (ln_f): LayerNorm((768,), eps=1e-05, elementwise_affine=True)\n",
       "  )\n",
       "  (bert): BertModel(\n",
       "    (embeddings): BertEmbeddings(\n",
       "      (word_embeddings): Embedding(30522, 768, padding_idx=0)\n",
       "      (position_embeddings): Embedding(512, 768)\n",
       "      (token_type_embeddings): Embedding(2, 768)\n",
       "      (LayerNorm): LayerNorm((768,), eps=1e-12, elementwise_affine=True)\n",
       "      (dropout): Dropout(p=0.1, inplace=False)\n",
       "    )\n",
       "    (encoder): BertEncoder(\n",
       "      (layer): ModuleList(\n",
       "        (0-5): 6 x BertLayer(\n",
       "          (attention): BertAttention(\n",
       "            (self): BertSelfAttention(\n",
       "              (query): Linear(in_features=768, out_features=768, bias=True)\n",
       "              (key): Linear(in_features=768, out_features=768, bias=True)\n",
       "              (value): Linear(in_features=768, out_features=768, bias=True)\n",
       "              (dropout): Dropout(p=0.1, inplace=False)\n",
       "            )\n",
       "            (output): BertSelfOutput(\n",
       "              (dense): Linear(in_features=768, out_features=768, bias=True)\n",
       "              (LayerNorm): LayerNorm((768,), eps=1e-12, elementwise_affine=True)\n",
       "              (dropout): Dropout(p=0.1, inplace=False)\n",
       "            )\n",
       "          )\n",
       "          (intermediate): BertIntermediate(\n",
       "            (dense): Linear(in_features=768, out_features=3072, bias=True)\n",
       "            (intermediate_act_fn): GELUActivation()\n",
       "          )\n",
       "          (output): BertOutput(\n",
       "            (dense): Linear(in_features=3072, out_features=768, bias=True)\n",
       "            (LayerNorm): LayerNorm((768,), eps=1e-12, elementwise_affine=True)\n",
       "            (dropout): Dropout(p=0.1, inplace=False)\n",
       "          )\n",
       "        )\n",
       "      )\n",
       "    )\n",
       "    (pooler): BertPooler(\n",
       "      (dense): Linear(in_features=768, out_features=768, bias=True)\n",
       "      (activation): Tanh()\n",
       "    )\n",
       "  )\n",
       "  (dropout): Dropout(p=0.2, inplace=False)\n",
       "  (fc): Linear(in_features=1536, out_features=2, bias=True)\n",
       ")"
      ]
     },
     "execution_count": 12,
     "metadata": {},
     "output_type": "execute_result"
    }
   ],
   "source": [
    "# Set device (CPU or GPU)\n",
    "device = torch.device(\"cuda\" if torch.cuda.is_available() else \"cpu\")\n",
    "model.to(device)"
   ]
  },
  {
   "cell_type": "code",
   "execution_count": 13,
   "id": "c610d351-0be0-4899-bf58-2397193b5ed1",
   "metadata": {},
   "outputs": [],
   "source": [
    "from transformers import TrainingArguments, Trainer, logging\n",
    "training_args = TrainingArguments(\n",
    "    per_device_train_batch_size=1,\n",
    "    gradient_accumulation_steps=4,\n",
    "    gradient_checkpointing=True,\n",
    "    fp16=True,\n",
    "    **default_args,\n",
    ")"
   ]
  },
  {
   "cell_type": "code",
   "execution_count": 14,
   "id": "37a7f148-24ee-4333-bdd4-4db25ad2a333",
   "metadata": {},
   "outputs": [],
   "source": [
    "trainer = Trainer(\n",
    "model=model,\n",
    "args=training_args,\n",
    "train_dataset=dataset_train,\n",
    ")"
   ]
  },
  {
   "cell_type": "code",
   "execution_count": 15,
   "id": "cfb9e671-0f31-4a58-bf72-8c13ac04e6a0",
   "metadata": {},
   "outputs": [],
   "source": [
    "batch_size = 8 #32\n",
    "\n",
    "dataloader_val = DataLoader(\n",
    "    dataset_val,\n",
    "    sampler=RandomSampler(dataset_val),\n",
    "    batch_size=1\n",
    ")"
   ]
  },
  {
   "cell_type": "code",
   "execution_count": 16,
   "id": "d3bc14be-49bc-4b42-be70-17412957cdaa",
   "metadata": {},
   "outputs": [
    {
     "name": "stderr",
     "output_type": "stream",
     "text": [
      "/home/z123010/anaconda3/lib/python3.10/site-packages/transformers/optimization.py:411: FutureWarning: This implementation of AdamW is deprecated and will be removed in a future version. Use the PyTorch implementation torch.optim.AdamW instead, or set `no_deprecation_warning=True` to disable this warning\n",
      "  warnings.warn(\n"
     ]
    }
   ],
   "source": [
    "from transformers import AdamW, get_linear_schedule_with_warmup\n",
    "\n",
    "optimizer = AdamW(\n",
    "    model.parameters(),\n",
    "    lr=1e-5,\n",
    "    eps=1e-8\n",
    ")\n",
    "\n",
    "epochs = 50\n",
    "patience = 10\n",
    "scheduler = get_linear_schedule_with_warmup(\n",
    "    optimizer,\n",
    "    num_warmup_steps=0,\n",
    "    num_training_steps=len(dataloader_train) * epochs\n",
    ")"
   ]
  },
  {
   "cell_type": "code",
   "execution_count": 17,
   "id": "27c174c9-8e92-42fa-9d81-54260c58251e",
   "metadata": {},
   "outputs": [],
   "source": [
    "import random\n",
    "\n",
    "seed_val = 17\n",
    "random.seed(seed_val) #sets the seed value for the Python built-in pseudo-random generator.\n",
    "np.random.seed(seed_val) #sets the seed value for the NumPy pseudo-random number generator.\n",
    "torch.manual_seed(seed_val) #sets the seed value for the random number generator in PyTorch on the CPU.\n",
    "torch.cuda.manual_seed_all(seed_val) #sets the seed value for the random number generator in PyTorch on the GPU."
   ]
  },
  {
   "cell_type": "code",
   "execution_count": 18,
   "id": "f3a28ec5-87fe-4bdf-b6a1-05bf8b6f6b8e",
   "metadata": {},
   "outputs": [
    {
     "name": "stdout",
     "output_type": "stream",
     "text": [
      "cuda\n"
     ]
    }
   ],
   "source": [
    "device = torch.device('cuda' if torch.cuda.is_available() else 'cpu')\n",
    "model.to(device)\n",
    "\n",
    "print(device)"
   ]
  },
  {
   "cell_type": "code",
   "execution_count": 19,
   "id": "d9c363e7-c757-4bb6-bb2c-d19a126fd165",
   "metadata": {},
   "outputs": [
    {
     "name": "stdout",
     "output_type": "stream",
     "text": [
      "\n",
      "Fold 1\n"
     ]
    },
    {
     "data": {
      "application/vnd.jupyter.widget-view+json": {
       "model_id": "4aad67b47d574d0c9a1c3dfbfd708e6b",
       "version_major": 2,
       "version_minor": 0
      },
      "text/plain": [
       "  0%|          | 0/50 [00:00<?, ?it/s]"
      ]
     },
     "metadata": {},
     "output_type": "display_data"
    },
    {
     "data": {
      "application/vnd.jupyter.widget-view+json": {
       "model_id": "",
       "version_major": 2,
       "version_minor": 0
      },
      "text/plain": [
       "Epoch 1:   0%|          | 0/7577 [00:00<?, ?it/s]"
      ]
     },
     "metadata": {},
     "output_type": "display_data"
    },
    {
     "name": "stdout",
     "output_type": "stream",
     "text": [
      "\n",
      "Epoch 1\n",
      "Training loss: 0.3104116148345023\n",
      "Validation loss: 0.2163239945784751\n",
      "F1 Score (weighted): 0.9375502474760874\n"
     ]
    },
    {
     "data": {
      "application/vnd.jupyter.widget-view+json": {
       "model_id": "",
       "version_major": 2,
       "version_minor": 0
      },
      "text/plain": [
       "Epoch 2:   0%|          | 0/7577 [00:00<?, ?it/s]"
      ]
     },
     "metadata": {},
     "output_type": "display_data"
    },
    {
     "name": "stdout",
     "output_type": "stream",
     "text": [
      "\n",
      "Epoch 2\n",
      "Training loss: 0.1904553214118857\n",
      "Validation loss: 0.2059934710660831\n",
      "F1 Score (weighted): 0.949833863750143\n",
      "\u001b[92m38.64% Training loss decreased compared to the previous epoch\u001b[0m\n",
      "\u001b[92m4.78% Validation loss decreased compared to the previous epoch\u001b[0m\n",
      "\u001b[92m1.31% F1 Score increased compared to the previous epoch\u001b[0m\n"
     ]
    },
    {
     "data": {
      "application/vnd.jupyter.widget-view+json": {
       "model_id": "",
       "version_major": 2,
       "version_minor": 0
      },
      "text/plain": [
       "Epoch 3:   0%|          | 0/7577 [00:00<?, ?it/s]"
      ]
     },
     "metadata": {},
     "output_type": "display_data"
    },
    {
     "name": "stdout",
     "output_type": "stream",
     "text": [
      "\n",
      "Epoch 3\n",
      "Training loss: 0.13692209716857842\n",
      "Validation loss: 0.2296808772046757\n",
      "F1 Score (weighted): 0.9505968844789128\n",
      "\u001b[92m28.11% Training loss decreased compared to the previous epoch\u001b[0m\n",
      "\u001b[91m11.5% Validation loss increased compared to the previous epoch\u001b[0m\n",
      "\u001b[92m0.08% F1 Score increased compared to the previous epoch\u001b[0m\n"
     ]
    },
    {
     "data": {
      "application/vnd.jupyter.widget-view+json": {
       "model_id": "",
       "version_major": 2,
       "version_minor": 0
      },
      "text/plain": [
       "Epoch 4:   0%|          | 0/7577 [00:00<?, ?it/s]"
      ]
     },
     "metadata": {},
     "output_type": "display_data"
    },
    {
     "name": "stdout",
     "output_type": "stream",
     "text": [
      "\n",
      "Epoch 4\n",
      "Training loss: 0.10290485386805308\n",
      "Validation loss: 0.25595748644038413\n",
      "F1 Score (weighted): 0.9505861214145218\n",
      "\u001b[92m24.84% Training loss decreased compared to the previous epoch\u001b[0m\n",
      "\u001b[91m11.44% Validation loss increased compared to the previous epoch\u001b[0m\n",
      "\u001b[91m0.0% F1 Score decreased compared to the previous epoch\u001b[0m\n"
     ]
    },
    {
     "data": {
      "application/vnd.jupyter.widget-view+json": {
       "model_id": "",
       "version_major": 2,
       "version_minor": 0
      },
      "text/plain": [
       "Epoch 5:   0%|          | 0/7577 [00:00<?, ?it/s]"
      ]
     },
     "metadata": {},
     "output_type": "display_data"
    },
    {
     "name": "stdout",
     "output_type": "stream",
     "text": [
      "\n",
      "Epoch 5\n",
      "Training loss: 0.07904462039139305\n",
      "Validation loss: 0.30895021993361477\n",
      "F1 Score (weighted): 0.949828123035827\n",
      "\u001b[92m23.19% Training loss decreased compared to the previous epoch\u001b[0m\n",
      "\u001b[91m20.7% Validation loss increased compared to the previous epoch\u001b[0m\n",
      "\u001b[91m0.08% F1 Score decreased compared to the previous epoch\u001b[0m\n"
     ]
    },
    {
     "data": {
      "application/vnd.jupyter.widget-view+json": {
       "model_id": "",
       "version_major": 2,
       "version_minor": 0
      },
      "text/plain": [
       "Epoch 6:   0%|          | 0/7577 [00:00<?, ?it/s]"
      ]
     },
     "metadata": {},
     "output_type": "display_data"
    },
    {
     "name": "stdout",
     "output_type": "stream",
     "text": [
      "\n",
      "Epoch 6\n",
      "Training loss: 0.06169082302529286\n",
      "Validation loss: 0.34655956579619274\n",
      "F1 Score (weighted): 0.9500275784322815\n",
      "\u001b[92m21.95% Training loss decreased compared to the previous epoch\u001b[0m\n",
      "\u001b[91m12.17% Validation loss increased compared to the previous epoch\u001b[0m\n",
      "\u001b[92m0.02% F1 Score increased compared to the previous epoch\u001b[0m\n"
     ]
    },
    {
     "data": {
      "application/vnd.jupyter.widget-view+json": {
       "model_id": "",
       "version_major": 2,
       "version_minor": 0
      },
      "text/plain": [
       "Epoch 7:   0%|          | 0/7577 [00:00<?, ?it/s]"
      ]
     },
     "metadata": {},
     "output_type": "display_data"
    },
    {
     "name": "stdout",
     "output_type": "stream",
     "text": [
      "\n",
      "Epoch 7\n",
      "Training loss: 0.050123340232816976\n",
      "Validation loss: 0.3960207746477618\n",
      "F1 Score (weighted): 0.9481524877445235\n",
      "\u001b[92m18.75% Training loss decreased compared to the previous epoch\u001b[0m\n",
      "\u001b[91m14.27% Validation loss increased compared to the previous epoch\u001b[0m\n",
      "\u001b[91m0.2% F1 Score decreased compared to the previous epoch\u001b[0m\n"
     ]
    },
    {
     "data": {
      "application/vnd.jupyter.widget-view+json": {
       "model_id": "",
       "version_major": 2,
       "version_minor": 0
      },
      "text/plain": [
       "Epoch 8:   0%|          | 0/7577 [00:00<?, ?it/s]"
      ]
     },
     "metadata": {},
     "output_type": "display_data"
    },
    {
     "name": "stdout",
     "output_type": "stream",
     "text": [
      "\n",
      "Epoch 8\n",
      "Training loss: 0.04208238223988608\n",
      "Validation loss: 0.378369717626459\n",
      "F1 Score (weighted): 0.9495031847949296\n",
      "\u001b[92m16.04% Training loss decreased compared to the previous epoch\u001b[0m\n",
      "\u001b[92m4.46% Validation loss decreased compared to the previous epoch\u001b[0m\n",
      "\u001b[92m0.14% F1 Score increased compared to the previous epoch\u001b[0m\n"
     ]
    },
    {
     "data": {
      "application/vnd.jupyter.widget-view+json": {
       "model_id": "",
       "version_major": 2,
       "version_minor": 0
      },
      "text/plain": [
       "Epoch 9:   0%|          | 0/7577 [00:00<?, ?it/s]"
      ]
     },
     "metadata": {},
     "output_type": "display_data"
    },
    {
     "name": "stdout",
     "output_type": "stream",
     "text": [
      "\n",
      "Epoch 9\n",
      "Training loss: 0.03476714596231995\n",
      "Validation loss: 0.42542610733421293\n",
      "F1 Score (weighted): 0.9480586754348618\n",
      "\u001b[92m17.38% Training loss decreased compared to the previous epoch\u001b[0m\n",
      "\u001b[91m12.44% Validation loss increased compared to the previous epoch\u001b[0m\n",
      "\u001b[91m0.15% F1 Score decreased compared to the previous epoch\u001b[0m\n"
     ]
    },
    {
     "data": {
      "application/vnd.jupyter.widget-view+json": {
       "model_id": "",
       "version_major": 2,
       "version_minor": 0
      },
      "text/plain": [
       "Epoch 10:   0%|          | 0/7577 [00:00<?, ?it/s]"
      ]
     },
     "metadata": {},
     "output_type": "display_data"
    },
    {
     "name": "stdout",
     "output_type": "stream",
     "text": [
      "\n",
      "Epoch 10\n",
      "Training loss: 0.028685200987588148\n",
      "Validation loss: 0.479752210344995\n",
      "F1 Score (weighted): 0.9468634363655422\n",
      "\u001b[92m17.49% Training loss decreased compared to the previous epoch\u001b[0m\n",
      "\u001b[91m12.77% Validation loss increased compared to the previous epoch\u001b[0m\n",
      "\u001b[91m0.13% F1 Score decreased compared to the previous epoch\u001b[0m\n"
     ]
    },
    {
     "data": {
      "application/vnd.jupyter.widget-view+json": {
       "model_id": "",
       "version_major": 2,
       "version_minor": 0
      },
      "text/plain": [
       "Epoch 11:   0%|          | 0/7577 [00:00<?, ?it/s]"
      ]
     },
     "metadata": {},
     "output_type": "display_data"
    },
    {
     "name": "stdout",
     "output_type": "stream",
     "text": [
      "\n",
      "Epoch 11\n",
      "Training loss: 0.025851170371575576\n",
      "Validation loss: 0.4768535523882421\n",
      "F1 Score (weighted): 0.9460100678043893\n",
      "\u001b[92m9.88% Training loss decreased compared to the previous epoch\u001b[0m\n",
      "\u001b[92m0.6% Validation loss decreased compared to the previous epoch\u001b[0m\n",
      "\u001b[91m0.09% F1 Score decreased compared to the previous epoch\u001b[0m\n"
     ]
    },
    {
     "data": {
      "application/vnd.jupyter.widget-view+json": {
       "model_id": "",
       "version_major": 2,
       "version_minor": 0
      },
      "text/plain": [
       "Epoch 12:   0%|          | 0/7577 [00:00<?, ?it/s]"
      ]
     },
     "metadata": {},
     "output_type": "display_data"
    },
    {
     "name": "stdout",
     "output_type": "stream",
     "text": [
      "\n",
      "Epoch 12\n",
      "Training loss: 0.022330817550441227\n",
      "Validation loss: 0.47730435259192705\n",
      "F1 Score (weighted): 0.9464370792507513\n",
      "\u001b[92m13.62% Training loss decreased compared to the previous epoch\u001b[0m\n",
      "\u001b[91m0.09% Validation loss increased compared to the previous epoch\u001b[0m\n",
      "\u001b[92m0.05% F1 Score increased compared to the previous epoch\u001b[0m\n",
      "\n",
      "Early stopping triggered. Training stopped.\n",
      "\n",
      "Total training time: 156.28316930532455 minutes\n",
      "Final Accuracy: 0.9463994060876021\n",
      "Final Precision: 0.9465326153155026\n"
     ]
    },
    {
     "data": {
      "image/png": "[encoded data removed]",
      "text/plain": [
       "<Figure size 800x600 with 1 Axes>"
      ]
     },
     "metadata": {},
     "output_type": "display_data"
    },
    {
     "name": "stdout",
     "output_type": "stream",
     "text": [
      "Epoch                 Training Loss         Validation Loss      F1 Score            Accuracy              Precision\n",
      "--------------------  --------------------  -------------------  ------------------  ------------------  -----------\n",
      "1                     0.3104116148345023    0.2163239945784751   0.9375502474760874  0.9374907201187824     0.937719\n",
      "2                     \u001b[92m0.1904553214118857\u001b[0m    \u001b[92m0.2059934710660831\u001b[0m   \u001b[92m0.949833863750143\u001b[0m   \u001b[92m\u001b[92m0.949833863750143\u001b[0m\u001b[0m      \u001b[92m\u001b[92m0.949834\u001b[0m\u001b[0m\n",
      "3                     \u001b[92m0.13692209716857842\u001b[0m   \u001b[91m0.2296808772046757\u001b[0m   \u001b[92m0.9505968844789128\u001b[0m  \u001b[92m\u001b[92m0.9505968844789128\u001b[0m\u001b[0m     \u001b[92m\u001b[92m0.950597\u001b[0m\u001b[0m\n",
      "4                     \u001b[92m0.10290485386805308\u001b[0m   \u001b[91m0.25595748644038413\u001b[0m  \u001b[91m0.9505861214145218\u001b[0m  \u001b[91m\u001b[91m0.9505861214145218\u001b[0m\u001b[0m     \u001b[92m\u001b[91m0.950586\u001b[0m\u001b[0m\n",
      "5                     \u001b[92m0.07904462039139305\u001b[0m   \u001b[91m0.30895021993361477\u001b[0m  \u001b[91m0.949828123035827\u001b[0m   \u001b[91m\u001b[91m0.949828123035827\u001b[0m\u001b[0m      \u001b[91m\u001b[91m0.949828\u001b[0m\u001b[0m\n",
      "6                     \u001b[92m0.06169082302529286\u001b[0m   \u001b[91m0.34655956579619274\u001b[0m  \u001b[92m0.9500275784322815\u001b[0m  \u001b[92m\u001b[92m0.9500275784322815\u001b[0m\u001b[0m     \u001b[92m\u001b[92m0.950028\u001b[0m\u001b[0m\n",
      "7                     \u001b[92m0.050123340232816976\u001b[0m  \u001b[91m0.3960207746477618\u001b[0m   \u001b[91m0.9481524877445235\u001b[0m  \u001b[91m\u001b[91m0.9481524877445235\u001b[0m\u001b[0m     \u001b[91m\u001b[91m0.948152\u001b[0m\u001b[0m\n",
      "8                     \u001b[92m0.04208238223988608\u001b[0m   \u001b[92m0.378369717626459\u001b[0m    \u001b[92m0.9495031847949296\u001b[0m  \u001b[92m\u001b[92m0.9495031847949296\u001b[0m\u001b[0m     \u001b[92m\u001b[92m0.949503\u001b[0m\u001b[0m\n",
      "9                     \u001b[92m0.03476714596231995\u001b[0m   \u001b[91m0.42542610733421293\u001b[0m  \u001b[91m0.9480586754348618\u001b[0m  \u001b[91m\u001b[91m0.9480586754348618\u001b[0m\u001b[0m     \u001b[91m\u001b[91m0.948059\u001b[0m\u001b[0m\n",
      "10                    \u001b[92m0.028685200987588148\u001b[0m  \u001b[91m0.479752210344995\u001b[0m    \u001b[91m0.9468634363655422\u001b[0m  \u001b[91m\u001b[91m0.9468634363655422\u001b[0m\u001b[0m     \u001b[91m\u001b[91m0.946863\u001b[0m\u001b[0m\n",
      "11                    \u001b[92m0.025851170371575576\u001b[0m  \u001b[92m0.4768535523882421\u001b[0m   \u001b[91m0.9460100678043893\u001b[0m  \u001b[91m\u001b[91m0.9460100678043893\u001b[0m\u001b[0m     \u001b[91m\u001b[91m0.94601\u001b[0m\u001b[0m\n",
      "12                    \u001b[92m0.022330817550441227\u001b[0m  \u001b[91m0.47730435259192705\u001b[0m  \u001b[92m0.9464370792507513\u001b[0m  \u001b[92m\u001b[92m0.9464370792507513\u001b[0m\u001b[0m     \u001b[92m\u001b[92m0.946437\u001b[0m\u001b[0m\n",
      "Total Training Time                                                                                      9376.99\n",
      "Final Precision                                                                                             0.946533\n",
      "Total Time (minutes)                                                                                      156.283\n",
      "\n",
      "Fold 2\n"
     ]
    },
    {
     "data": {
      "application/vnd.jupyter.widget-view+json": {
       "model_id": "3fa65f4ac66547979c7e46ade7e7e73f",
       "version_major": 2,
       "version_minor": 0
      },
      "text/plain": [
       "  0%|          | 0/50 [00:00<?, ?it/s]"
      ]
     },
     "metadata": {},
     "output_type": "display_data"
    },
    {
     "data": {
      "application/vnd.jupyter.widget-view+json": {
       "model_id": "",
       "version_major": 2,
       "version_minor": 0
      },
      "text/plain": [
       "Epoch 1:   0%|          | 0/7577 [00:00<?, ?it/s]"
      ]
     },
     "metadata": {},
     "output_type": "display_data"
    },
    {
     "name": "stdout",
     "output_type": "stream",
     "text": [
      "\n",
      "Epoch 1\n",
      "Training loss: 0.05210946563912635\n",
      "Validation loss: 0.013066854728630527\n",
      "F1 Score (weighted): 0.9965847092383866\n"
     ]
    },
    {
     "data": {
      "application/vnd.jupyter.widget-view+json": {
       "model_id": "",
       "version_major": 2,
       "version_minor": 0
      },
      "text/plain": [
       "Epoch 2:   0%|          | 0/7577 [00:00<?, ?it/s]"
      ]
     },
     "metadata": {},
     "output_type": "display_data"
    },
    {
     "name": "stdout",
     "output_type": "stream",
     "text": [
      "\n",
      "Epoch 2\n",
      "Training loss: 0.02930541390675637\n",
      "Validation loss: 0.027387702465611712\n",
      "F1 Score (weighted): 0.9943566536946911\n",
      "\u001b[92m43.76% Training loss decreased compared to the previous epoch\u001b[0m\n",
      "\u001b[91m109.6% Validation loss increased compared to the previous epoch\u001b[0m\n",
      "\u001b[91m0.22% F1 Score decreased compared to the previous epoch\u001b[0m\n"
     ]
    },
    {
     "data": {
      "application/vnd.jupyter.widget-view+json": {
       "model_id": "",
       "version_major": 2,
       "version_minor": 0
      },
      "text/plain": [
       "Epoch 3:   0%|          | 0/7577 [00:00<?, ?it/s]"
      ]
     },
     "metadata": {},
     "output_type": "display_data"
    },
    {
     "name": "stdout",
     "output_type": "stream",
     "text": [
      "\n",
      "Epoch 3\n",
      "Training loss: 0.02212623057917823\n",
      "Validation loss: 0.03749218390707171\n",
      "F1 Score (weighted): 0.9933192792610684\n",
      "\u001b[92m24.5% Training loss decreased compared to the previous epoch\u001b[0m\n",
      "\u001b[91m36.89% Validation loss increased compared to the previous epoch\u001b[0m\n",
      "\u001b[91m0.1% F1 Score decreased compared to the previous epoch\u001b[0m\n"
     ]
    },
    {
     "data": {
      "application/vnd.jupyter.widget-view+json": {
       "model_id": "",
       "version_major": 2,
       "version_minor": 0
      },
      "text/plain": [
       "Epoch 4:   0%|          | 0/7577 [00:00<?, ?it/s]"
      ]
     },
     "metadata": {},
     "output_type": "display_data"
    },
    {
     "name": "stdout",
     "output_type": "stream",
     "text": [
      "\n",
      "Epoch 4\n",
      "Training loss: 0.015233884520093662\n",
      "Validation loss: 0.03448764662807133\n",
      "F1 Score (weighted): 0.9945062160794271\n",
      "\u001b[92m31.15% Training loss decreased compared to the previous epoch\u001b[0m\n",
      "\u001b[92m8.01% Validation loss decreased compared to the previous epoch\u001b[0m\n",
      "\u001b[92m0.12% F1 Score increased compared to the previous epoch\u001b[0m\n"
     ]
    },
    {
     "data": {
      "application/vnd.jupyter.widget-view+json": {
       "model_id": "",
       "version_major": 2,
       "version_minor": 0
      },
      "text/plain": [
       "Epoch 5:   0%|          | 0/7577 [00:00<?, ?it/s]"
      ]
     },
     "metadata": {},
     "output_type": "display_data"
    },
    {
     "name": "stdout",
     "output_type": "stream",
     "text": [
      "\n",
      "Epoch 5\n",
      "Training loss: 0.014446745394973124\n",
      "Validation loss: 0.040577087620261194\n",
      "F1 Score (weighted): 0.9943574435200783\n",
      "\u001b[92m5.17% Training loss decreased compared to the previous epoch\u001b[0m\n",
      "\u001b[91m17.66% Validation loss increased compared to the previous epoch\u001b[0m\n",
      "\u001b[91m0.01% F1 Score decreased compared to the previous epoch\u001b[0m\n"
     ]
    },
    {
     "data": {
      "application/vnd.jupyter.widget-view+json": {
       "model_id": "",
       "version_major": 2,
       "version_minor": 0
      },
      "text/plain": [
       "Epoch 6:   0%|          | 0/7577 [00:00<?, ?it/s]"
      ]
     },
     "metadata": {},
     "output_type": "display_data"
    },
    {
     "name": "stdout",
     "output_type": "stream",
     "text": [
      "\n",
      "Epoch 6\n",
      "Training loss: 0.011095218979066221\n",
      "Validation loss: 0.049410855061986746\n",
      "F1 Score (weighted): 0.9925766010273603\n",
      "\u001b[92m23.2% Training loss decreased compared to the previous epoch\u001b[0m\n",
      "\u001b[91m21.77% Validation loss increased compared to the previous epoch\u001b[0m\n",
      "\u001b[91m0.18% F1 Score decreased compared to the previous epoch\u001b[0m\n"
     ]
    },
    {
     "data": {
      "application/vnd.jupyter.widget-view+json": {
       "model_id": "",
       "version_major": 2,
       "version_minor": 0
      },
      "text/plain": [
       "Epoch 7:   0%|          | 0/7577 [00:00<?, ?it/s]"
      ]
     },
     "metadata": {},
     "output_type": "display_data"
    },
    {
     "name": "stdout",
     "output_type": "stream",
     "text": [
      "\n",
      "Epoch 7\n",
      "Training loss: 0.009502196512707528\n",
      "Validation loss: 0.05866964431935487\n",
      "F1 Score (weighted): 0.9915348307011909\n",
      "\u001b[92m14.36% Training loss decreased compared to the previous epoch\u001b[0m\n",
      "\u001b[91m18.74% Validation loss increased compared to the previous epoch\u001b[0m\n",
      "\u001b[91m0.1% F1 Score decreased compared to the previous epoch\u001b[0m\n"
     ]
    },
    {
     "data": {
      "application/vnd.jupyter.widget-view+json": {
       "model_id": "",
       "version_major": 2,
       "version_minor": 0
      },
      "text/plain": [
       "Epoch 8:   0%|          | 0/7577 [00:00<?, ?it/s]"
      ]
     },
     "metadata": {},
     "output_type": "display_data"
    },
    {
     "name": "stdout",
     "output_type": "stream",
     "text": [
      "\n",
      "Epoch 8\n",
      "Training loss: 0.009678478352502334\n",
      "Validation loss: 0.043771714218731626\n",
      "F1 Score (weighted): 0.9937645556690821\n",
      "\u001b[91m1.86% Training loss increased compared to the previous epoch\u001b[0m\n",
      "\u001b[92m25.39% Validation loss decreased compared to the previous epoch\u001b[0m\n",
      "\u001b[92m0.22% F1 Score increased compared to the previous epoch\u001b[0m\n"
     ]
    },
    {
     "data": {
      "application/vnd.jupyter.widget-view+json": {
       "model_id": "",
       "version_major": 2,
       "version_minor": 0
      },
      "text/plain": [
       "Epoch 9:   0%|          | 0/7577 [00:00<?, ?it/s]"
      ]
     },
     "metadata": {},
     "output_type": "display_data"
    },
    {
     "name": "stdout",
     "output_type": "stream",
     "text": [
      "\n",
      "Epoch 9\n",
      "Training loss: 0.006899472263458672\n",
      "Validation loss: 0.05953820624466082\n",
      "F1 Score (weighted): 0.9925758399834199\n",
      "\u001b[92m28.71% Training loss decreased compared to the previous epoch\u001b[0m\n",
      "\u001b[91m36.02% Validation loss increased compared to the previous epoch\u001b[0m\n",
      "\u001b[91m0.12% F1 Score decreased compared to the previous epoch\u001b[0m\n"
     ]
    },
    {
     "data": {
      "application/vnd.jupyter.widget-view+json": {
       "model_id": "",
       "version_major": 2,
       "version_minor": 0
      },
      "text/plain": [
       "Epoch 10:   0%|          | 0/7577 [00:00<?, ?it/s]"
      ]
     },
     "metadata": {},
     "output_type": "display_data"
    },
    {
     "name": "stdout",
     "output_type": "stream",
     "text": [
      "\n",
      "Epoch 10\n",
      "Training loss: 0.00799834832832661\n",
      "Validation loss: 0.05675167297191568\n",
      "F1 Score (weighted): 0.9919799378538708\n",
      "\u001b[91m15.93% Training loss increased compared to the previous epoch\u001b[0m\n",
      "\u001b[92m4.68% Validation loss decreased compared to the previous epoch\u001b[0m\n",
      "\u001b[91m0.06% F1 Score decreased compared to the previous epoch\u001b[0m\n"
     ]
    },
    {
     "data": {
      "application/vnd.jupyter.widget-view+json": {
       "model_id": "",
       "version_major": 2,
       "version_minor": 0
      },
      "text/plain": [
       "Epoch 11:   0%|          | 0/7577 [00:00<?, ?it/s]"
      ]
     },
     "metadata": {},
     "output_type": "display_data"
    },
    {
     "name": "stdout",
     "output_type": "stream",
     "text": [
      "\n",
      "Epoch 11\n",
      "Training loss: 0.005723472628143159\n",
      "Validation loss: 0.0635622322671747\n",
      "F1 Score (weighted): 0.9910888198376342\n",
      "\u001b[92m28.44% Training loss decreased compared to the previous epoch\u001b[0m\n",
      "\u001b[91m12.0% Validation loss increased compared to the previous epoch\u001b[0m\n",
      "\u001b[91m0.09% F1 Score decreased compared to the previous epoch\u001b[0m\n",
      "\n",
      "Early stopping triggered. Training stopped.\n",
      "\n",
      "Total training time: 142.70273809035618 minutes\n",
      "Final Accuracy: 0.9910913140311804\n",
      "Final Precision: 0.9910976693783404\n"
     ]
    },
    {
     "data": {
      "image/png": "[encoded data removed]",
      "text/plain": [
       "<Figure size 800x600 with 1 Axes>"
      ]
     },
     "metadata": {},
     "output_type": "display_data"
    },
    {
     "name": "stdout",
     "output_type": "stream",
     "text": [
      "Epoch                 Training Loss         Validation Loss       F1 Score            Accuracy              Precision\n",
      "--------------------  --------------------  --------------------  ------------------  ------------------  -----------\n",
      "1                     0.05210946563912635   0.013066854728630527  0.9965847092383866  0.9965850037119525     0.996586\n",
      "2                     \u001b[92m0.02930541390675637\u001b[0m   \u001b[91m0.027387702465611712\u001b[0m  \u001b[91m0.9943566536946911\u001b[0m  \u001b[91m\u001b[91m0.9943566536946911\u001b[0m\u001b[0m     \u001b[91m\u001b[91m0.994357\u001b[0m\u001b[0m\n",
      "3                     \u001b[92m0.02212623057917823\u001b[0m   \u001b[91m0.03749218390707171\u001b[0m   \u001b[91m0.9933192792610684\u001b[0m  \u001b[91m\u001b[91m0.9933192792610684\u001b[0m\u001b[0m     \u001b[91m\u001b[91m0.993319\u001b[0m\u001b[0m\n",
      "4                     \u001b[92m0.015233884520093662\u001b[0m  \u001b[92m0.03448764662807133\u001b[0m   \u001b[92m0.9945062160794271\u001b[0m  \u001b[92m\u001b[92m0.9945062160794271\u001b[0m\u001b[0m     \u001b[92m\u001b[92m0.994506\u001b[0m\u001b[0m\n",
      "5                     \u001b[92m0.014446745394973124\u001b[0m  \u001b[91m0.040577087620261194\u001b[0m  \u001b[91m0.9943574435200783\u001b[0m  \u001b[91m\u001b[91m0.9943574435200783\u001b[0m\u001b[0m     \u001b[91m\u001b[91m0.994357\u001b[0m\u001b[0m\n",
      "6                     \u001b[92m0.011095218979066221\u001b[0m  \u001b[91m0.049410855061986746\u001b[0m  \u001b[91m0.9925766010273603\u001b[0m  \u001b[91m\u001b[91m0.9925766010273603\u001b[0m\u001b[0m     \u001b[91m\u001b[91m0.992577\u001b[0m\u001b[0m\n",
      "7                     \u001b[92m0.009502196512707528\u001b[0m  \u001b[91m0.05866964431935487\u001b[0m   \u001b[91m0.9915348307011909\u001b[0m  \u001b[91m\u001b[91m0.9915348307011909\u001b[0m\u001b[0m     \u001b[91m\u001b[91m0.991535\u001b[0m\u001b[0m\n",
      "8                     \u001b[91m0.009678478352502334\u001b[0m  \u001b[92m0.043771714218731626\u001b[0m  \u001b[92m0.9937645556690821\u001b[0m  \u001b[92m\u001b[92m0.9937645556690821\u001b[0m\u001b[0m     \u001b[92m\u001b[92m0.993765\u001b[0m\u001b[0m\n",
      "9                     \u001b[92m0.006899472263458672\u001b[0m  \u001b[91m0.05953820624466082\u001b[0m   \u001b[91m0.9925758399834199\u001b[0m  \u001b[91m\u001b[91m0.9925758399834199\u001b[0m\u001b[0m     \u001b[91m\u001b[91m0.992576\u001b[0m\u001b[0m\n",
      "10                    \u001b[91m0.00799834832832661\u001b[0m   \u001b[92m0.05675167297191568\u001b[0m   \u001b[91m0.9919799378538708\u001b[0m  \u001b[91m\u001b[91m0.9919799378538708\u001b[0m\u001b[0m     \u001b[91m\u001b[91m0.99198\u001b[0m\u001b[0m\n",
      "11                    \u001b[92m0.005723472628143159\u001b[0m  \u001b[91m0.0635622322671747\u001b[0m    \u001b[91m0.9910888198376342\u001b[0m  \u001b[91m\u001b[91m0.9910888198376342\u001b[0m\u001b[0m     \u001b[91m\u001b[91m0.991089\u001b[0m\u001b[0m\n",
      "Total Training Time                                                                                       8562.16\n",
      "Final Precision                                                                                              0.991098\n",
      "Total Time (minutes)                                                                                       142.703\n",
      "\n",
      "Fold 3\n"
     ]
    },
    {
     "data": {
      "application/vnd.jupyter.widget-view+json": {
       "model_id": "44241e53d935446c89ef37a3ead4d11f",
       "version_major": 2,
       "version_minor": 0
      },
      "text/plain": [
       "  0%|          | 0/50 [00:00<?, ?it/s]"
      ]
     },
     "metadata": {},
     "output_type": "display_data"
    },
    {
     "data": {
      "application/vnd.jupyter.widget-view+json": {
       "model_id": "9c0df31ace9c428ca4752768e9906d1d",
       "version_major": 2,
       "version_minor": 0
      },
      "text/plain": [
       "Epoch 1:   0%|          | 0/7577 [00:00<?, ?it/s]"
      ]
     },
     "metadata": {},
     "output_type": "display_data"
    },
    {
     "name": "stdout",
     "output_type": "stream",
     "text": [
      "\n",
      "Epoch 1\n",
      "Training loss: 0.011999629534561039\n",
      "Validation loss: 0.001762355659288855\n",
      "F1 Score (weighted): 0.9995545564954404\n"
     ]
    },
    {
     "data": {
      "application/vnd.jupyter.widget-view+json": {
       "model_id": "9e2cfd07df3247d3a78dd5313270c310",
       "version_major": 2,
       "version_minor": 0
      },
      "text/plain": [
       "Epoch 2:   0%|          | 0/7577 [00:00<?, ?it/s]"
      ]
     },
     "metadata": {},
     "output_type": "display_data"
    },
    {
     "name": "stdout",
     "output_type": "stream",
     "text": [
      "\n",
      "Epoch 2\n",
      "Training loss: 0.006126708018610533\n",
      "Validation loss: 0.005823733007299846\n",
      "F1 Score (weighted): 0.9991090203062714\n",
      "\u001b[92m48.94% Training loss decreased compared to the previous epoch\u001b[0m\n",
      "\u001b[91m230.45% Validation loss increased compared to the previous epoch\u001b[0m\n",
      "\u001b[91m0.04% F1 Score decreased compared to the previous epoch\u001b[0m\n"
     ]
    },
    {
     "data": {
      "application/vnd.jupyter.widget-view+json": {
       "model_id": "b8c2ef1f4e244da5b7ddf68813d1e9e5",
       "version_major": 2,
       "version_minor": 0
      },
      "text/plain": [
       "Epoch 3:   0%|          | 0/7577 [00:00<?, ?it/s]"
      ]
     },
     "metadata": {},
     "output_type": "display_data"
    },
    {
     "name": "stdout",
     "output_type": "stream",
     "text": [
      "\n",
      "Epoch 3\n",
      "Training loss: 0.0064574287504368015\n",
      "Validation loss: 0.007447863730593856\n",
      "F1 Score (weighted): 0.9988120766731071\n",
      "\u001b[91m5.4% Training loss increased compared to the previous epoch\u001b[0m\n",
      "\u001b[91m27.89% Validation loss increased compared to the previous epoch\u001b[0m\n",
      "\u001b[91m0.03% F1 Score decreased compared to the previous epoch\u001b[0m\n"
     ]
    },
    {
     "data": {
      "application/vnd.jupyter.widget-view+json": {
       "model_id": "e4b0caf6859443e58d99105a544feea6",
       "version_major": 2,
       "version_minor": 0
      },
      "text/plain": [
       "Epoch 4:   0%|          | 0/7577 [00:00<?, ?it/s]"
      ]
     },
     "metadata": {},
     "output_type": "display_data"
    },
    {
     "name": "stdout",
     "output_type": "stream",
     "text": [
      "\n",
      "Epoch 4\n",
      "Training loss: 0.005366503620135967\n",
      "Validation loss: 0.004888846964252592\n",
      "F1 Score (weighted): 0.9991090575048305\n",
      "\u001b[92m16.89% Training loss decreased compared to the previous epoch\u001b[0m\n",
      "\u001b[92m34.36% Validation loss decreased compared to the previous epoch\u001b[0m\n",
      "\u001b[92m0.03% F1 Score increased compared to the previous epoch\u001b[0m\n"
     ]
    },
    {
     "data": {
      "application/vnd.jupyter.widget-view+json": {
       "model_id": "1dab195e3c274adca49a22dee735f789",
       "version_major": 2,
       "version_minor": 0
      },
      "text/plain": [
       "Epoch 5:   0%|          | 0/7577 [00:00<?, ?it/s]"
      ]
     },
     "metadata": {},
     "output_type": "display_data"
    },
    {
     "name": "stdout",
     "output_type": "stream",
     "text": [
      "\n",
      "Epoch 5\n",
      "Training loss: 0.00445714142742921\n",
      "Validation loss: 0.004238613550113598\n",
      "F1 Score (weighted): 0.9991090575048305\n",
      "\u001b[92m16.95% Training loss decreased compared to the previous epoch\u001b[0m\n",
      "\u001b[92m13.3% Validation loss decreased compared to the previous epoch\u001b[0m\n"
     ]
    },
    {
     "data": {
      "application/vnd.jupyter.widget-view+json": {
       "model_id": "e274ced503ed4ac7a3d1b8dec0819dc8",
       "version_major": 2,
       "version_minor": 0
      },
      "text/plain": [
       "Epoch 6:   0%|          | 0/7577 [00:00<?, ?it/s]"
      ]
     },
     "metadata": {},
     "output_type": "display_data"
    },
    {
     "name": "stdout",
     "output_type": "stream",
     "text": [
      "\n",
      "Epoch 6\n",
      "Training loss: 0.004251394618458054\n",
      "Validation loss: 0.00536732359407548\n",
      "F1 Score (weighted): 0.9992576248115097\n",
      "\u001b[92m4.62% Training loss decreased compared to the previous epoch\u001b[0m\n",
      "\u001b[91m26.63% Validation loss increased compared to the previous epoch\u001b[0m\n",
      "\u001b[92m0.01% F1 Score increased compared to the previous epoch\u001b[0m\n"
     ]
    },
    {
     "data": {
      "application/vnd.jupyter.widget-view+json": {
       "model_id": "7afc4b7b00cd442cb8dc9b899a00c641",
       "version_major": 2,
       "version_minor": 0
      },
      "text/plain": [
       "Epoch 7:   0%|          | 0/7577 [00:00<?, ?it/s]"
      ]
     },
     "metadata": {},
     "output_type": "display_data"
    },
    {
     "name": "stdout",
     "output_type": "stream",
     "text": [
      "\n",
      "Epoch 7\n",
      "Training loss: 0.004400200364411809\n",
      "Validation loss: 0.007494149947553031\n",
      "F1 Score (weighted): 0.9988121752041574\n",
      "\u001b[91m3.5% Training loss increased compared to the previous epoch\u001b[0m\n",
      "\u001b[91m39.63% Validation loss increased compared to the previous epoch\u001b[0m\n",
      "\u001b[91m0.04% F1 Score decreased compared to the previous epoch\u001b[0m\n"
     ]
    },
    {
     "data": {
      "application/vnd.jupyter.widget-view+json": {
       "model_id": "ad443f7b1f1e40bf98a6b548b122e15c",
       "version_major": 2,
       "version_minor": 0
      },
      "text/plain": [
       "Epoch 8:   0%|          | 0/7577 [00:00<?, ?it/s]"
      ]
     },
     "metadata": {},
     "output_type": "display_data"
    },
    {
     "name": "stdout",
     "output_type": "stream",
     "text": [
      "\n",
      "Epoch 8\n",
      "Training loss: 0.0033206065354174723\n",
      "Validation loss: 0.008138614640665372\n",
      "F1 Score (weighted): 0.9986636694863211\n",
      "\u001b[92m24.54% Training loss decreased compared to the previous epoch\u001b[0m\n",
      "\u001b[91m8.6% Validation loss increased compared to the previous epoch\u001b[0m\n",
      "\u001b[91m0.01% F1 Score decreased compared to the previous epoch\u001b[0m\n"
     ]
    },
    {
     "data": {
      "application/vnd.jupyter.widget-view+json": {
       "model_id": "fc851a3f14cc4b72abc871831c767b82",
       "version_major": 2,
       "version_minor": 0
      },
      "text/plain": [
       "Epoch 9:   0%|          | 0/7577 [00:00<?, ?it/s]"
      ]
     },
     "metadata": {},
     "output_type": "display_data"
    },
    {
     "name": "stdout",
     "output_type": "stream",
     "text": [
      "\n",
      "Epoch 9\n",
      "Training loss: 0.0030180263192866033\n",
      "Validation loss: 0.0043758154616241425\n",
      "F1 Score (weighted): 0.9989605454140656\n",
      "\u001b[92m9.11% Training loss decreased compared to the previous epoch\u001b[0m\n",
      "\u001b[92m46.23% Validation loss decreased compared to the previous epoch\u001b[0m\n",
      "\u001b[92m0.03% F1 Score increased compared to the previous epoch\u001b[0m\n"
     ]
    },
    {
     "data": {
      "application/vnd.jupyter.widget-view+json": {
       "model_id": "84e40471142e4c09aecb13b3e272b3b4",
       "version_major": 2,
       "version_minor": 0
      },
      "text/plain": [
       "Epoch 10:   0%|          | 0/7577 [00:00<?, ?it/s]"
      ]
     },
     "metadata": {},
     "output_type": "display_data"
    },
    {
     "name": "stdout",
     "output_type": "stream",
     "text": [
      "\n",
      "Epoch 10\n",
      "Training loss: 0.0027024752719922935\n",
      "Validation loss: 0.007363198936865614\n",
      "F1 Score (weighted): 0.9988120766731071\n",
      "\u001b[92m10.46% Training loss decreased compared to the previous epoch\u001b[0m\n",
      "\u001b[91m68.27% Validation loss increased compared to the previous epoch\u001b[0m\n",
      "\u001b[91m0.01% F1 Score decreased compared to the previous epoch\u001b[0m\n"
     ]
    },
    {
     "data": {
      "application/vnd.jupyter.widget-view+json": {
       "model_id": "f38ae2f8ee5740e19fded978f707d5b6",
       "version_major": 2,
       "version_minor": 0
      },
      "text/plain": [
       "Epoch 11:   0%|          | 0/7577 [00:00<?, ?it/s]"
      ]
     },
     "metadata": {},
     "output_type": "display_data"
    },
    {
     "name": "stdout",
     "output_type": "stream",
     "text": [
      "\n",
      "Epoch 11\n",
      "Training loss: 0.0029971725016332933\n",
      "Validation loss: 0.008149685439918553\n",
      "F1 Score (weighted): 0.9986636140626168\n",
      "\u001b[91m10.9% Training loss increased compared to the previous epoch\u001b[0m\n",
      "\u001b[91m10.68% Validation loss increased compared to the previous epoch\u001b[0m\n",
      "\u001b[91m0.01% F1 Score decreased compared to the previous epoch\u001b[0m\n",
      "\n",
      "Early stopping triggered. Training stopped.\n",
      "\n",
      "Total training time: 142.5885240594546 minutes\n",
      "Final Accuracy: 0.9986636971046771\n",
      "Final Precision: 0.9986639349119809\n"
     ]
    },
    {
     "data": {
      "image/png": "[encoded data removed]",
      "text/plain": [
       "<Figure size 800x600 with 1 Axes>"
      ]
     },
     "metadata": {},
     "output_type": "display_data"
    },
    {
     "name": "stdout",
     "output_type": "stream",
     "text": [
      "Epoch                 Training Loss          Validation Loss        F1 Score            Accuracy              Precision\n",
      "--------------------  ---------------------  ---------------------  ------------------  ------------------  -----------\n",
      "1                     0.011999629534561039   0.001762355659288855   0.9995545564954404  0.999554565701559      0.999555\n",
      "2                     \u001b[92m0.006126708018610533\u001b[0m   \u001b[91m0.005823733007299846\u001b[0m   \u001b[91m0.9991090203062714\u001b[0m  \u001b[91m\u001b[91m0.9991090203062714\u001b[0m\u001b[0m     \u001b[91m\u001b[91m0.999109\u001b[0m\u001b[0m\n",
      "3                     \u001b[91m0.0064574287504368015\u001b[0m  \u001b[91m0.007447863730593856\u001b[0m   \u001b[91m0.9988120766731071\u001b[0m  \u001b[91m\u001b[91m0.9988120766731071\u001b[0m\u001b[0m     \u001b[91m\u001b[91m0.998812\u001b[0m\u001b[0m\n",
      "4                     \u001b[92m0.005366503620135967\u001b[0m   \u001b[92m0.004888846964252592\u001b[0m   \u001b[92m0.9991090575048305\u001b[0m  \u001b[92m\u001b[92m0.9991090575048305\u001b[0m\u001b[0m     \u001b[92m\u001b[92m0.999109\u001b[0m\u001b[0m\n",
      "5                     \u001b[92m0.00445714142742921\u001b[0m    \u001b[92m0.004238613550113598\u001b[0m   0.9991090575048305  \u001b[92m0.9991090575048305\u001b[0m     \u001b[92m0.999109\u001b[0m\n",
      "6                     \u001b[92m0.004251394618458054\u001b[0m   \u001b[91m0.00536732359407548\u001b[0m    \u001b[92m0.9992576248115097\u001b[0m  \u001b[92m\u001b[92m0.9992576248115097\u001b[0m\u001b[0m     \u001b[92m\u001b[92m0.999258\u001b[0m\u001b[0m\n",
      "7                     \u001b[91m0.004400200364411809\u001b[0m   \u001b[91m0.007494149947553031\u001b[0m   \u001b[91m0.9988121752041574\u001b[0m  \u001b[91m\u001b[91m0.9988121752041574\u001b[0m\u001b[0m     \u001b[91m\u001b[91m0.998812\u001b[0m\u001b[0m\n",
      "8                     \u001b[92m0.0033206065354174723\u001b[0m  \u001b[91m0.008138614640665372\u001b[0m   \u001b[91m0.9986636694863211\u001b[0m  \u001b[91m\u001b[91m0.9986636694863211\u001b[0m\u001b[0m     \u001b[91m\u001b[91m0.998664\u001b[0m\u001b[0m\n",
      "9                     \u001b[92m0.0030180263192866033\u001b[0m  \u001b[92m0.0043758154616241425\u001b[0m  \u001b[92m0.9989605454140656\u001b[0m  \u001b[92m\u001b[92m0.9989605454140656\u001b[0m\u001b[0m     \u001b[92m\u001b[92m0.998961\u001b[0m\u001b[0m\n",
      "10                    \u001b[92m0.0027024752719922935\u001b[0m  \u001b[91m0.007363198936865614\u001b[0m   \u001b[91m0.9988120766731071\u001b[0m  \u001b[91m\u001b[91m0.9988120766731071\u001b[0m\u001b[0m     \u001b[91m\u001b[91m0.998812\u001b[0m\u001b[0m\n",
      "11                    \u001b[91m0.0029971725016332933\u001b[0m  \u001b[91m0.008149685439918553\u001b[0m   \u001b[91m0.9986636140626168\u001b[0m  \u001b[91m\u001b[91m0.9986636140626168\u001b[0m\u001b[0m     \u001b[91m\u001b[91m0.998664\u001b[0m\u001b[0m\n",
      "Total Training Time                                                                                         8555.31\n",
      "Final Precision                                                                                                0.998664\n",
      "Total Time (minutes)                                                                                         142.589\n",
      "\n",
      "Fold 4\n"
     ]
    },
    {
     "data": {
      "application/vnd.jupyter.widget-view+json": {
       "model_id": "057cf2a4998243e4b25661b16ba00696",
       "version_major": 2,
       "version_minor": 0
      },
      "text/plain": [
       "  0%|          | 0/50 [00:00<?, ?it/s]"
      ]
     },
     "metadata": {},
     "output_type": "display_data"
    },
    {
     "data": {
      "application/vnd.jupyter.widget-view+json": {
       "model_id": "f39cfc3299bb43ac89c00536ee4beec0",
       "version_major": 2,
       "version_minor": 0
      },
      "text/plain": [
       "Epoch 1:   0%|          | 0/7577 [00:00<?, ?it/s]"
      ]
     },
     "metadata": {},
     "output_type": "display_data"
    },
    {
     "name": "stdout",
     "output_type": "stream",
     "text": [
      "\n",
      "Epoch 1\n",
      "Training loss: 0.0035199479904041175\n",
      "Validation loss: 9.52590063678786e-05\n",
      "F1 Score (weighted): 1.0\n"
     ]
    },
    {
     "data": {
      "application/vnd.jupyter.widget-view+json": {
       "model_id": "0ce257eb04d14e718b55c213d4630a40",
       "version_major": 2,
       "version_minor": 0
      },
      "text/plain": [
       "Epoch 2:   0%|          | 0/7577 [00:00<?, ?it/s]"
      ]
     },
     "metadata": {},
     "output_type": "display_data"
    },
    {
     "name": "stdout",
     "output_type": "stream",
     "text": [
      "\n",
      "Epoch 2\n",
      "Training loss: 0.0016126407039298214\n",
      "Validation loss: 0.0011633041325089218\n",
      "F1 Score (weighted): 0.9998515193194423\n",
      "\u001b[92m54.19% Training loss decreased compared to the previous epoch\u001b[0m\n",
      "\u001b[91m1121.2% Validation loss increased compared to the previous epoch\u001b[0m\n",
      "\u001b[91m0.01% F1 Score decreased compared to the previous epoch\u001b[0m\n"
     ]
    },
    {
     "data": {
      "application/vnd.jupyter.widget-view+json": {
       "model_id": "98676ee136e34c44ab3f6c76cab55638",
       "version_major": 2,
       "version_minor": 0
      },
      "text/plain": [
       "Epoch 3:   0%|          | 0/7577 [00:00<?, ?it/s]"
      ]
     },
     "metadata": {},
     "output_type": "display_data"
    },
    {
     "name": "stdout",
     "output_type": "stream",
     "text": [
      "\n",
      "Epoch 3\n",
      "Training loss: 0.001351284181337471\n",
      "Validation loss: 0.0021368535982418347\n",
      "F1 Score (weighted): 0.9998515193194423\n",
      "\u001b[92m16.21% Training loss decreased compared to the previous epoch\u001b[0m\n",
      "\u001b[91m83.69% Validation loss increased compared to the previous epoch\u001b[0m\n"
     ]
    },
    {
     "data": {
      "application/vnd.jupyter.widget-view+json": {
       "model_id": "61a0dcb94e5e4feaacbe7a82af600d26",
       "version_major": 2,
       "version_minor": 0
      },
      "text/plain": [
       "Epoch 4:   0%|          | 0/7577 [00:00<?, ?it/s]"
      ]
     },
     "metadata": {},
     "output_type": "display_data"
    },
    {
     "name": "stdout",
     "output_type": "stream",
     "text": [
      "\n",
      "Epoch 4\n",
      "Training loss: 0.002178299110351193\n",
      "Validation loss: 5.988271542051765e-05\n",
      "F1 Score (weighted): 1.0\n",
      "\u001b[91m61.2% Training loss increased compared to the previous epoch\u001b[0m\n",
      "\u001b[92m97.2% Validation loss decreased compared to the previous epoch\u001b[0m\n",
      "\u001b[92m0.01% F1 Score increased compared to the previous epoch\u001b[0m\n"
     ]
    },
    {
     "data": {
      "application/vnd.jupyter.widget-view+json": {
       "model_id": "71b5be4703c94c2c85fd1f1aaf7aaeb4",
       "version_major": 2,
       "version_minor": 0
      },
      "text/plain": [
       "Epoch 5:   0%|          | 0/7577 [00:00<?, ?it/s]"
      ]
     },
     "metadata": {},
     "output_type": "display_data"
    },
    {
     "name": "stdout",
     "output_type": "stream",
     "text": [
      "\n",
      "Epoch 5\n",
      "Training loss: 0.002044550697421531\n",
      "Validation loss: 2.121530291807384e-05\n",
      "F1 Score (weighted): 1.0\n",
      "\u001b[92m6.14% Training loss decreased compared to the previous epoch\u001b[0m\n",
      "\u001b[92m64.57% Validation loss decreased compared to the previous epoch\u001b[0m\n"
     ]
    },
    {
     "data": {
      "application/vnd.jupyter.widget-view+json": {
       "model_id": "eed2b772a811411da0a371241a04dc74",
       "version_major": 2,
       "version_minor": 0
      },
      "text/plain": [
       "Epoch 6:   0%|          | 0/7577 [00:00<?, ?it/s]"
      ]
     },
     "metadata": {},
     "output_type": "display_data"
    },
    {
     "name": "stdout",
     "output_type": "stream",
     "text": [
      "\n",
      "Epoch 6\n",
      "Training loss: 0.0006960039648563293\n",
      "Validation loss: 2.8059797552729764e-05\n",
      "F1 Score (weighted): 1.0\n",
      "\u001b[92m65.96% Training loss decreased compared to the previous epoch\u001b[0m\n",
      "\u001b[91m32.26% Validation loss increased compared to the previous epoch\u001b[0m\n"
     ]
    },
    {
     "data": {
      "application/vnd.jupyter.widget-view+json": {
       "model_id": "7da26452be3f4f59a380140cc8a6a74a",
       "version_major": 2,
       "version_minor": 0
      },
      "text/plain": [
       "Epoch 7:   0%|          | 0/7577 [00:00<?, ?it/s]"
      ]
     },
     "metadata": {},
     "output_type": "display_data"
    },
    {
     "name": "stdout",
     "output_type": "stream",
     "text": [
      "\n",
      "Epoch 7\n",
      "Training loss: 0.001117306254164978\n",
      "Validation loss: 3.660360112564048e-05\n",
      "F1 Score (weighted): 1.0\n",
      "\u001b[91m60.53% Training loss increased compared to the previous epoch\u001b[0m\n",
      "\u001b[91m30.45% Validation loss increased compared to the previous epoch\u001b[0m\n"
     ]
    },
    {
     "data": {
      "application/vnd.jupyter.widget-view+json": {
       "model_id": "8e64e70d02554004a37ccd32ed8400ef",
       "version_major": 2,
       "version_minor": 0
      },
      "text/plain": [
       "Epoch 8:   0%|          | 0/7577 [00:00<?, ?it/s]"
      ]
     },
     "metadata": {},
     "output_type": "display_data"
    },
    {
     "name": "stdout",
     "output_type": "stream",
     "text": [
      "\n",
      "Epoch 8\n",
      "Training loss: 0.0016639960840612888\n",
      "Validation loss: 5.8540423852832916e-05\n",
      "F1 Score (weighted): 1.0\n",
      "\u001b[91m48.93% Training loss increased compared to the previous epoch\u001b[0m\n",
      "\u001b[91m59.93% Validation loss increased compared to the previous epoch\u001b[0m\n"
     ]
    },
    {
     "data": {
      "application/vnd.jupyter.widget-view+json": {
       "model_id": "2d703f29c0e54b0e960d532ec617b1d4",
       "version_major": 2,
       "version_minor": 0
      },
      "text/plain": [
       "Epoch 9:   0%|          | 0/7577 [00:00<?, ?it/s]"
      ]
     },
     "metadata": {},
     "output_type": "display_data"
    },
    {
     "name": "stdout",
     "output_type": "stream",
     "text": [
      "\n",
      "Epoch 9\n",
      "Training loss: 0.001067560568772301\n",
      "Validation loss: 3.461086470254852e-05\n",
      "F1 Score (weighted): 1.0\n",
      "\u001b[92m35.84% Training loss decreased compared to the previous epoch\u001b[0m\n",
      "\u001b[92m40.88% Validation loss decreased compared to the previous epoch\u001b[0m\n"
     ]
    },
    {
     "data": {
      "application/vnd.jupyter.widget-view+json": {
       "model_id": "b51d7e66fe814f4baad83abc3e22c838",
       "version_major": 2,
       "version_minor": 0
      },
      "text/plain": [
       "Epoch 10:   0%|          | 0/7577 [00:00<?, ?it/s]"
      ]
     },
     "metadata": {},
     "output_type": "display_data"
    },
    {
     "name": "stdout",
     "output_type": "stream",
     "text": [
      "\n",
      "Epoch 10\n",
      "Training loss: 0.0007979295442236584\n",
      "Validation loss: 1.3103207768598636e-05\n",
      "F1 Score (weighted): 1.0\n",
      "\u001b[92m25.26% Training loss decreased compared to the previous epoch\u001b[0m\n",
      "\u001b[92m62.14% Validation loss decreased compared to the previous epoch\u001b[0m\n"
     ]
    },
    {
     "data": {
      "application/vnd.jupyter.widget-view+json": {
       "model_id": "80d576d412764ade98e288b5730a94ff",
       "version_major": 2,
       "version_minor": 0
      },
      "text/plain": [
       "Epoch 11:   0%|          | 0/7577 [00:00<?, ?it/s]"
      ]
     },
     "metadata": {},
     "output_type": "display_data"
    },
    {
     "name": "stdout",
     "output_type": "stream",
     "text": [
      "\n",
      "Epoch 11\n",
      "Training loss: 0.0013947979310845618\n",
      "Validation loss: 2.708482953425245e-05\n",
      "F1 Score (weighted): 1.0\n",
      "\u001b[91m74.8% Training loss increased compared to the previous epoch\u001b[0m\n",
      "\u001b[91m106.7% Validation loss increased compared to the previous epoch\u001b[0m\n"
     ]
    },
    {
     "data": {
      "application/vnd.jupyter.widget-view+json": {
       "model_id": "557e2770b81d43b58495ba07ccf78062",
       "version_major": 2,
       "version_minor": 0
      },
      "text/plain": [
       "Epoch 12:   0%|          | 0/7577 [00:00<?, ?it/s]"
      ]
     },
     "metadata": {},
     "output_type": "display_data"
    },
    {
     "name": "stdout",
     "output_type": "stream",
     "text": [
      "\n",
      "Epoch 12\n",
      "Training loss: 0.000415208162603311\n",
      "Validation loss: 2.1677743445353412e-05\n",
      "F1 Score (weighted): 1.0\n",
      "\u001b[92m70.23% Training loss decreased compared to the previous epoch\u001b[0m\n",
      "\u001b[92m19.96% Validation loss decreased compared to the previous epoch\u001b[0m\n"
     ]
    },
    {
     "data": {
      "application/vnd.jupyter.widget-view+json": {
       "model_id": "af65c797591a47e0baf5cdacc355c92a",
       "version_major": 2,
       "version_minor": 0
      },
      "text/plain": [
       "Epoch 13:   0%|          | 0/7577 [00:00<?, ?it/s]"
      ]
     },
     "metadata": {},
     "output_type": "display_data"
    },
    {
     "name": "stdout",
     "output_type": "stream",
     "text": [
      "\n",
      "Epoch 13\n",
      "Training loss: 0.0008640089617347763\n",
      "Validation loss: 2.0152956889747028e-05\n",
      "F1 Score (weighted): 1.0\n",
      "\u001b[91m108.09% Training loss increased compared to the previous epoch\u001b[0m\n",
      "\u001b[92m7.03% Validation loss decreased compared to the previous epoch\u001b[0m\n"
     ]
    },
    {
     "data": {
      "application/vnd.jupyter.widget-view+json": {
       "model_id": "6ec6c8eac63e489884fdeec3eaf81362",
       "version_major": 2,
       "version_minor": 0
      },
      "text/plain": [
       "Epoch 14:   0%|          | 0/7577 [00:00<?, ?it/s]"
      ]
     },
     "metadata": {},
     "output_type": "display_data"
    },
    {
     "name": "stdout",
     "output_type": "stream",
     "text": [
      "\n",
      "Epoch 14\n",
      "Training loss: 0.0006552255278314949\n",
      "Validation loss: 3.970101768085104e-05\n",
      "F1 Score (weighted): 1.0\n",
      "\u001b[92m24.16% Training loss decreased compared to the previous epoch\u001b[0m\n",
      "\u001b[91m97.0% Validation loss increased compared to the previous epoch\u001b[0m\n"
     ]
    },
    {
     "data": {
      "application/vnd.jupyter.widget-view+json": {
       "model_id": "24a3783654804bb590afe8c6e59f9ad8",
       "version_major": 2,
       "version_minor": 0
      },
      "text/plain": [
       "Epoch 15:   0%|          | 0/7577 [00:00<?, ?it/s]"
      ]
     },
     "metadata": {},
     "output_type": "display_data"
    },
    {
     "name": "stdout",
     "output_type": "stream",
     "text": [
      "\n",
      "Epoch 15\n",
      "Training loss: 0.0004164449135262292\n",
      "Validation loss: 1.950809545932634e-05\n",
      "F1 Score (weighted): 1.0\n",
      "\u001b[92m36.44% Training loss decreased compared to the previous epoch\u001b[0m\n",
      "\u001b[92m50.86% Validation loss decreased compared to the previous epoch\u001b[0m\n"
     ]
    },
    {
     "data": {
      "application/vnd.jupyter.widget-view+json": {
       "model_id": "e48abf490a7d432581ccb2f45e94a90c",
       "version_major": 2,
       "version_minor": 0
      },
      "text/plain": [
       "Epoch 16:   0%|          | 0/7577 [00:00<?, ?it/s]"
      ]
     },
     "metadata": {},
     "output_type": "display_data"
    },
    {
     "name": "stdout",
     "output_type": "stream",
     "text": [
      "\n",
      "Epoch 16\n",
      "Training loss: 0.0003775077269369834\n",
      "Validation loss: 2.0174941468975635e-05\n",
      "F1 Score (weighted): 1.0\n",
      "\u001b[92m9.35% Training loss decreased compared to the previous epoch\u001b[0m\n",
      "\u001b[91m3.42% Validation loss increased compared to the previous epoch\u001b[0m\n"
     ]
    },
    {
     "data": {
      "application/vnd.jupyter.widget-view+json": {
       "model_id": "38d92769a7e24b4c817e0ff645d54bb7",
       "version_major": 2,
       "version_minor": 0
      },
      "text/plain": [
       "Epoch 17:   0%|          | 0/7577 [00:00<?, ?it/s]"
      ]
     },
     "metadata": {},
     "output_type": "display_data"
    },
    {
     "name": "stdout",
     "output_type": "stream",
     "text": [
      "\n",
      "Epoch 17\n",
      "Training loss: 0.00028596866215432063\n",
      "Validation loss: 1.5033875866543325e-05\n",
      "F1 Score (weighted): 1.0\n",
      "\u001b[92m24.25% Training loss decreased compared to the previous epoch\u001b[0m\n",
      "\u001b[92m25.48% Validation loss decreased compared to the previous epoch\u001b[0m\n"
     ]
    },
    {
     "data": {
      "application/vnd.jupyter.widget-view+json": {
       "model_id": "3ac1924ca7014d53895ea6cf83b9a628",
       "version_major": 2,
       "version_minor": 0
      },
      "text/plain": [
       "Epoch 18:   0%|          | 0/7577 [00:00<?, ?it/s]"
      ]
     },
     "metadata": {},
     "output_type": "display_data"
    },
    {
     "name": "stdout",
     "output_type": "stream",
     "text": [
      "\n",
      "Epoch 18\n",
      "Training loss: 0.0004134373274673378\n",
      "Validation loss: 2.092396241073591e-05\n",
      "F1 Score (weighted): 1.0\n",
      "\u001b[91m44.57% Training loss increased compared to the previous epoch\u001b[0m\n",
      "\u001b[91m39.18% Validation loss increased compared to the previous epoch\u001b[0m\n"
     ]
    },
    {
     "data": {
      "application/vnd.jupyter.widget-view+json": {
       "model_id": "88e9a22fe0b142a7974d993e3f228b23",
       "version_major": 2,
       "version_minor": 0
      },
      "text/plain": [
       "Epoch 19:   0%|          | 0/7577 [00:00<?, ?it/s]"
      ]
     },
     "metadata": {},
     "output_type": "display_data"
    },
    {
     "name": "stdout",
     "output_type": "stream",
     "text": [
      "\n",
      "Epoch 19\n",
      "Training loss: 0.0007645652661630058\n",
      "Validation loss: 1.765931916422069e-05\n",
      "F1 Score (weighted): 1.0\n",
      "\u001b[91m84.93% Training loss increased compared to the previous epoch\u001b[0m\n",
      "\u001b[92m15.6% Validation loss decreased compared to the previous epoch\u001b[0m\n"
     ]
    },
    {
     "data": {
      "application/vnd.jupyter.widget-view+json": {
       "model_id": "1ad58db6e28548f8a037a76a0466f39a",
       "version_major": 2,
       "version_minor": 0
      },
      "text/plain": [
       "Epoch 20:   0%|          | 0/7577 [00:00<?, ?it/s]"
      ]
     },
     "metadata": {},
     "output_type": "display_data"
    },
    {
     "name": "stdout",
     "output_type": "stream",
     "text": [
      "\n",
      "Epoch 20\n",
      "Training loss: 0.00027377261807475916\n",
      "Validation loss: 2.1229612254586056e-05\n",
      "F1 Score (weighted): 1.0\n",
      "\u001b[92m64.19% Training loss decreased compared to the previous epoch\u001b[0m\n",
      "\u001b[91m20.22% Validation loss increased compared to the previous epoch\u001b[0m\n",
      "\n",
      "Early stopping triggered. Training stopped.\n",
      "\n",
      "Total training time: 259.30121465524036 minutes\n",
      "Final Accuracy: 1.0\n",
      "Final Precision: 1.0\n"
     ]
    },
    {
     "data": {
      "image/png": "[encoded data removed]",
      "text/plain": [
       "<Figure size 800x600 with 1 Axes>"
      ]
     },
     "metadata": {},
     "output_type": "display_data"
    },
    {
     "name": "stdout",
     "output_type": "stream",
     "text": [
      "Epoch                 Training Loss           Validation Loss         F1 Score            Accuracy               Precision\n",
      "--------------------  ----------------------  ----------------------  ------------------  ------------------  ------------\n",
      "1                     0.0035199479904041175   9.52590063678786e-05    1.0                 1.0                     1\n",
      "2                     \u001b[92m0.0016126407039298214\u001b[0m   \u001b[91m0.0011633041325089218\u001b[0m   \u001b[91m0.9998515193194423\u001b[0m  \u001b[91m\u001b[91m0.9998515193194423\u001b[0m\u001b[0m      \u001b[91m\u001b[91m0.999852\u001b[0m\u001b[0m\n",
      "3                     \u001b[92m0.001351284181337471\u001b[0m    \u001b[91m0.0021368535982418347\u001b[0m   0.9998515193194423  \u001b[92m0.9998515193194423\u001b[0m      \u001b[92m0.999852\u001b[0m\n",
      "4                     \u001b[91m0.002178299110351193\u001b[0m    \u001b[92m5.988271542051765e-05\u001b[0m   \u001b[92m1.0\u001b[0m                 \u001b[92m\u001b[92m1.0\u001b[0m\u001b[0m                     \u001b[92m\u001b[92m1\u001b[0m\u001b[0m\n",
      "5                     \u001b[92m0.002044550697421531\u001b[0m    \u001b[92m2.121530291807384e-05\u001b[0m   1.0                 1.0                     1\n",
      "6                     \u001b[92m0.0006960039648563293\u001b[0m   \u001b[91m2.8059797552729764e-05\u001b[0m  1.0                 1.0                     1\n",
      "7                     \u001b[91m0.001117306254164978\u001b[0m    \u001b[91m3.660360112564048e-05\u001b[0m   1.0                 1.0                     1\n",
      "8                     \u001b[91m0.0016639960840612888\u001b[0m   \u001b[91m5.8540423852832916e-05\u001b[0m  1.0                 1.0                     1\n",
      "9                     \u001b[92m0.001067560568772301\u001b[0m    \u001b[92m3.461086470254852e-05\u001b[0m   1.0                 1.0                     1\n",
      "10                    \u001b[92m0.0007979295442236584\u001b[0m   \u001b[92m1.3103207768598636e-05\u001b[0m  1.0                 1.0                     1\n",
      "11                    \u001b[91m0.0013947979310845618\u001b[0m   \u001b[91m2.708482953425245e-05\u001b[0m   1.0                 1.0                     1\n",
      "12                    \u001b[92m0.000415208162603311\u001b[0m    \u001b[92m2.1677743445353412e-05\u001b[0m  1.0                 1.0                     1\n",
      "13                    \u001b[91m0.0008640089617347763\u001b[0m   \u001b[92m2.0152956889747028e-05\u001b[0m  1.0                 1.0                     1\n",
      "14                    \u001b[92m0.0006552255278314949\u001b[0m   \u001b[91m3.970101768085104e-05\u001b[0m   1.0                 1.0                     1\n",
      "15                    \u001b[92m0.0004164449135262292\u001b[0m   \u001b[92m1.950809545932634e-05\u001b[0m   1.0                 1.0                     1\n",
      "16                    \u001b[92m0.0003775077269369834\u001b[0m   \u001b[91m2.0174941468975635e-05\u001b[0m  1.0                 1.0                     1\n",
      "17                    \u001b[92m0.00028596866215432063\u001b[0m  \u001b[92m1.5033875866543325e-05\u001b[0m  1.0                 1.0                     1\n",
      "18                    \u001b[91m0.0004134373274673378\u001b[0m   \u001b[91m2.092396241073591e-05\u001b[0m   1.0                 1.0                     1\n",
      "19                    \u001b[91m0.0007645652661630058\u001b[0m   \u001b[92m1.765931916422069e-05\u001b[0m   1.0                 1.0                     1\n",
      "20                    \u001b[92m0.00027377261807475916\u001b[0m  \u001b[91m2.1229612254586056e-05\u001b[0m  1.0                 1.0                     1\n",
      "Total Training Time                                                                                           15558.1\n",
      "Final Precision                                                                                                   1\n",
      "Total Time (minutes)                                                                                            259.301\n",
      "\n",
      "Fold 5\n"
     ]
    },
    {
     "data": {
      "application/vnd.jupyter.widget-view+json": {
       "model_id": "d485bd7dc66b4273a97b1af440c6460e",
       "version_major": 2,
       "version_minor": 0
      },
      "text/plain": [
       "  0%|          | 0/50 [00:00<?, ?it/s]"
      ]
     },
     "metadata": {},
     "output_type": "display_data"
    },
    {
     "data": {
      "application/vnd.jupyter.widget-view+json": {
       "model_id": "43251f2caf5a4bdcbc7e13dcb3a5dc71",
       "version_major": 2,
       "version_minor": 0
      },
      "text/plain": [
       "Epoch 1:   0%|          | 0/7577 [00:00<?, ?it/s]"
      ]
     },
     "metadata": {},
     "output_type": "display_data"
    },
    {
     "name": "stdout",
     "output_type": "stream",
     "text": [
      "\n",
      "Epoch 1\n",
      "Training loss: 0.0011189633515254044\n",
      "Validation loss: 0.0004326543240531236\n",
      "F1 Score (weighted): 0.9995545586307448\n"
     ]
    },
    {
     "data": {
      "application/vnd.jupyter.widget-view+json": {
       "model_id": "105e2267d8944a35bfc20fe9b0e12ca6",
       "version_major": 2,
       "version_minor": 0
      },
      "text/plain": [
       "Epoch 2:   0%|          | 0/7577 [00:00<?, ?it/s]"
      ]
     },
     "metadata": {},
     "output_type": "display_data"
    },
    {
     "name": "stdout",
     "output_type": "stream",
     "text": [
      "\n",
      "Epoch 2\n",
      "Training loss: 0.0003956959065774836\n",
      "Validation loss: 0.00043315547482994794\n",
      "F1 Score (weighted): 0.9995545586307448\n",
      "\u001b[92m64.64% Training loss decreased compared to the previous epoch\u001b[0m\n",
      "\u001b[91m0.12% Validation loss increased compared to the previous epoch\u001b[0m\n"
     ]
    },
    {
     "data": {
      "application/vnd.jupyter.widget-view+json": {
       "model_id": "d257f76c1e14469ba2e5f7a3e9632f2b",
       "version_major": 2,
       "version_minor": 0
      },
      "text/plain": [
       "Epoch 3:   0%|          | 0/7577 [00:00<?, ?it/s]"
      ]
     },
     "metadata": {},
     "output_type": "display_data"
    },
    {
     "name": "stdout",
     "output_type": "stream",
     "text": [
      "\n",
      "Epoch 3\n",
      "Training loss: 0.000633802535097988\n",
      "Validation loss: 0.00043315548241442623\n",
      "F1 Score (weighted): 0.9995545586307448\n",
      "\u001b[91m60.17% Training loss increased compared to the previous epoch\u001b[0m\n",
      "\u001b[91m0.0% Validation loss increased compared to the previous epoch\u001b[0m\n"
     ]
    },
    {
     "data": {
      "application/vnd.jupyter.widget-view+json": {
       "model_id": "3079869f68b14df8bea2a7bf714ef88b",
       "version_major": 2,
       "version_minor": 0
      },
      "text/plain": [
       "Epoch 4:   0%|          | 0/7577 [00:00<?, ?it/s]"
      ]
     },
     "metadata": {},
     "output_type": "display_data"
    },
    {
     "name": "stdout",
     "output_type": "stream",
     "text": [
      "\n",
      "Epoch 4\n",
      "Training loss: 0.00019173992093818293\n",
      "Validation loss: 0.00043315547482986353\n",
      "F1 Score (weighted): 0.9995545586307448\n",
      "\u001b[92m69.75% Training loss decreased compared to the previous epoch\u001b[0m\n",
      "\u001b[92m0.0% Validation loss decreased compared to the previous epoch\u001b[0m\n"
     ]
    },
    {
     "data": {
      "application/vnd.jupyter.widget-view+json": {
       "model_id": "c7e1280f64054b3f9cf38fbf090f2657",
       "version_major": 2,
       "version_minor": 0
      },
      "text/plain": [
       "Epoch 5:   0%|          | 0/7577 [00:00<?, ?it/s]"
      ]
     },
     "metadata": {},
     "output_type": "display_data"
    },
    {
     "name": "stdout",
     "output_type": "stream",
     "text": [
      "\n",
      "Epoch 5\n",
      "Training loss: 0.00039687909178121153\n",
      "Validation loss: 0.00043315547735792734\n",
      "F1 Score (weighted): 0.9995545586307448\n",
      "\u001b[91m106.99% Training loss increased compared to the previous epoch\u001b[0m\n",
      "\u001b[91m0.0% Validation loss increased compared to the previous epoch\u001b[0m\n"
     ]
    },
    {
     "data": {
      "application/vnd.jupyter.widget-view+json": {
       "model_id": "0d03c920f52b45ab9a5fabc04f7190ac",
       "version_major": 2,
       "version_minor": 0
      },
      "text/plain": [
       "Epoch 6:   0%|          | 0/7577 [00:00<?, ?it/s]"
      ]
     },
     "metadata": {},
     "output_type": "display_data"
    },
    {
     "name": "stdout",
     "output_type": "stream",
     "text": [
      "\n",
      "Epoch 6\n",
      "Training loss: 0.0007905719083682677\n",
      "Validation loss: 0.00043315547735797797\n",
      "F1 Score (weighted): 0.9995545586307448\n",
      "\u001b[91m99.2% Training loss increased compared to the previous epoch\u001b[0m\n",
      "\u001b[91m0.0% Validation loss increased compared to the previous epoch\u001b[0m\n"
     ]
    },
    {
     "data": {
      "application/vnd.jupyter.widget-view+json": {
       "model_id": "cda71905565943279accb086e8fffe33",
       "version_major": 2,
       "version_minor": 0
      },
      "text/plain": [
       "Epoch 7:   0%|          | 0/7577 [00:00<?, ?it/s]"
      ]
     },
     "metadata": {},
     "output_type": "display_data"
    },
    {
     "name": "stdout",
     "output_type": "stream",
     "text": [
      "\n",
      "Epoch 7\n",
      "Training loss: 0.00036911294073433516\n",
      "Validation loss: 0.00043315547482982976\n",
      "F1 Score (weighted): 0.9995545586307448\n",
      "\u001b[92m53.31% Training loss decreased compared to the previous epoch\u001b[0m\n",
      "\u001b[92m0.0% Validation loss decreased compared to the previous epoch\u001b[0m\n"
     ]
    },
    {
     "data": {
      "application/vnd.jupyter.widget-view+json": {
       "model_id": "506c2ea90f1f4233b75a310c37449de1",
       "version_major": 2,
       "version_minor": 0
      },
      "text/plain": [
       "Epoch 8:   0%|          | 0/7577 [00:00<?, ?it/s]"
      ]
     },
     "metadata": {},
     "output_type": "display_data"
    },
    {
     "name": "stdout",
     "output_type": "stream",
     "text": [
      "\n",
      "Epoch 8\n",
      "Training loss: 0.0006088639099090154\n",
      "Validation loss: 0.0004331554798862274\n",
      "F1 Score (weighted): 0.9995545586307448\n",
      "\u001b[91m64.95% Training loss increased compared to the previous epoch\u001b[0m\n",
      "\u001b[91m0.0% Validation loss increased compared to the previous epoch\u001b[0m\n"
     ]
    },
    {
     "data": {
      "application/vnd.jupyter.widget-view+json": {
       "model_id": "f6848f7a0e7a48a5a59c0ce45af8412a",
       "version_major": 2,
       "version_minor": 0
      },
      "text/plain": [
       "Epoch 9:   0%|          | 0/7577 [00:00<?, ?it/s]"
      ]
     },
     "metadata": {},
     "output_type": "display_data"
    },
    {
     "name": "stdout",
     "output_type": "stream",
     "text": [
      "\n",
      "Epoch 9\n",
      "Training loss: 0.00034484446603171796\n",
      "Validation loss: 0.00043315547735823113\n",
      "F1 Score (weighted): 0.9995545586307448\n",
      "\u001b[92m43.36% Training loss decreased compared to the previous epoch\u001b[0m\n",
      "\u001b[92m0.0% Validation loss decreased compared to the previous epoch\u001b[0m\n"
     ]
    },
    {
     "data": {
      "application/vnd.jupyter.widget-view+json": {
       "model_id": "c417c8eea99843a4b1ed168ab826aaed",
       "version_major": 2,
       "version_minor": 0
      },
      "text/plain": [
       "Epoch 10:   0%|          | 0/7577 [00:00<?, ?it/s]"
      ]
     },
     "metadata": {},
     "output_type": "display_data"
    },
    {
     "name": "stdout",
     "output_type": "stream",
     "text": [
      "\n",
      "Epoch 10\n",
      "Training loss: 0.000230703186064657\n",
      "Validation loss: 0.00043315547735831554\n",
      "F1 Score (weighted): 0.9995545586307448\n",
      "\u001b[92m33.1% Training loss decreased compared to the previous epoch\u001b[0m\n",
      "\u001b[91m0.0% Validation loss increased compared to the previous epoch\u001b[0m\n"
     ]
    },
    {
     "data": {
      "application/vnd.jupyter.widget-view+json": {
       "model_id": "bec8594213f74831984b3e04c38ccc00",
       "version_major": 2,
       "version_minor": 0
      },
      "text/plain": [
       "Epoch 11:   0%|          | 0/7577 [00:00<?, ?it/s]"
      ]
     },
     "metadata": {},
     "output_type": "display_data"
    },
    {
     "name": "stdout",
     "output_type": "stream",
     "text": [
      "\n",
      "Epoch 11\n",
      "Training loss: 0.0003680636027072088\n",
      "Validation loss: 0.000433155474829931\n",
      "F1 Score (weighted): 0.9995545586307448\n",
      "\u001b[91m59.54% Training loss increased compared to the previous epoch\u001b[0m\n",
      "\u001b[92m0.0% Validation loss decreased compared to the previous epoch\u001b[0m\n",
      "\n",
      "Early stopping triggered. Training stopped.\n",
      "\n",
      "Total training time: 142.66111061175664 minutes\n",
      "Final Accuracy: 0.999554565701559\n",
      "Final Precision: 0.9995545961308615\n"
     ]
    },
    {
     "data": {
      "image/png": "[encoded data removed]",
      "text/plain": [
       "<Figure size 800x600 with 1 Axes>"
      ]
     },
     "metadata": {},
     "output_type": "display_data"
    },
    {
     "name": "stdout",
     "output_type": "stream",
     "text": [
      "Epoch                 Training Loss           Validation Loss         F1 Score            Accuracy              Precision\n",
      "--------------------  ----------------------  ----------------------  ------------------  ------------------  -----------\n",
      "1                     0.0011189633515254044   0.0004326543240531236   0.9995545586307448  0.999554565701559      0.999555\n",
      "2                     \u001b[92m0.0003956959065774836\u001b[0m   \u001b[91m0.00043315547482994794\u001b[0m  0.9995545586307448  \u001b[92m0.9995545586307448\u001b[0m     \u001b[92m0.999555\u001b[0m\n",
      "3                     \u001b[91m0.000633802535097988\u001b[0m    \u001b[91m0.00043315548241442623\u001b[0m  0.9995545586307448  \u001b[92m0.9995545586307448\u001b[0m     \u001b[92m0.999555\u001b[0m\n",
      "4                     \u001b[92m0.00019173992093818293\u001b[0m  \u001b[92m0.00043315547482986353\u001b[0m  0.9995545586307448  \u001b[92m0.9995545586307448\u001b[0m     \u001b[92m0.999555\u001b[0m\n",
      "5                     \u001b[91m0.00039687909178121153\u001b[0m  \u001b[91m0.00043315547735792734\u001b[0m  0.9995545586307448  \u001b[92m0.9995545586307448\u001b[0m     \u001b[92m0.999555\u001b[0m\n",
      "6                     \u001b[91m0.0007905719083682677\u001b[0m   \u001b[91m0.00043315547735797797\u001b[0m  0.9995545586307448  \u001b[92m0.9995545586307448\u001b[0m     \u001b[92m0.999555\u001b[0m\n",
      "7                     \u001b[92m0.00036911294073433516\u001b[0m  \u001b[92m0.00043315547482982976\u001b[0m  0.9995545586307448  \u001b[92m0.9995545586307448\u001b[0m     \u001b[92m0.999555\u001b[0m\n",
      "8                     \u001b[91m0.0006088639099090154\u001b[0m   \u001b[91m0.0004331554798862274\u001b[0m   0.9995545586307448  \u001b[92m0.9995545586307448\u001b[0m     \u001b[92m0.999555\u001b[0m\n",
      "9                     \u001b[92m0.00034484446603171796\u001b[0m  \u001b[92m0.00043315547735823113\u001b[0m  0.9995545586307448  \u001b[92m0.9995545586307448\u001b[0m     \u001b[92m0.999555\u001b[0m\n",
      "10                    \u001b[92m0.000230703186064657\u001b[0m    \u001b[91m0.00043315547735831554\u001b[0m  0.9995545586307448  \u001b[92m0.9995545586307448\u001b[0m     \u001b[92m0.999555\u001b[0m\n",
      "11                    \u001b[91m0.0003680636027072088\u001b[0m   \u001b[92m0.000433155474829931\u001b[0m    0.9995545586307448  \u001b[92m0.9995545586307448\u001b[0m     \u001b[92m0.999555\u001b[0m\n",
      "Total Training Time                                                                                           8559.67\n",
      "Final Precision                                                                                                  0.999555\n",
      "Total Time (minutes)                                                                                           142.661\n",
      "\n",
      "Fold 6\n"
     ]
    },
    {
     "data": {
      "application/vnd.jupyter.widget-view+json": {
       "model_id": "3c1a394aefaf4bcf8dc0489180d0dbef",
       "version_major": 2,
       "version_minor": 0
      },
      "text/plain": [
       "  0%|          | 0/50 [00:00<?, ?it/s]"
      ]
     },
     "metadata": {},
     "output_type": "display_data"
    },
    {
     "data": {
      "application/vnd.jupyter.widget-view+json": {
       "model_id": "6037f462111a493dbffd58171764bb2b",
       "version_major": 2,
       "version_minor": 0
      },
      "text/plain": [
       "Epoch 1:   0%|          | 0/7577 [00:00<?, ?it/s]"
      ]
     },
     "metadata": {},
     "output_type": "display_data"
    },
    {
     "name": "stdout",
     "output_type": "stream",
     "text": [
      "\n",
      "Epoch 1\n",
      "Training loss: 0.0005251361058079844\n",
      "Validation loss: 2.5197724782087236e-07\n",
      "F1 Score (weighted): 1.0\n"
     ]
    },
    {
     "data": {
      "application/vnd.jupyter.widget-view+json": {
       "model_id": "00d83cfab7614cc79a3d30146d3abdb2",
       "version_major": 2,
       "version_minor": 0
      },
      "text/plain": [
       "Epoch 2:   0%|          | 0/7577 [00:00<?, ?it/s]"
      ]
     },
     "metadata": {},
     "output_type": "display_data"
    },
    {
     "name": "stdout",
     "output_type": "stream",
     "text": [
      "\n",
      "Epoch 2\n",
      "Training loss: 0.0005135328799341443\n",
      "Validation loss: 2.5197471953766805e-07\n",
      "F1 Score (weighted): 1.0\n",
      "\u001b[92m2.21% Training loss decreased compared to the previous epoch\u001b[0m\n",
      "\u001b[92m0.0% Validation loss decreased compared to the previous epoch\u001b[0m\n"
     ]
    },
    {
     "data": {
      "application/vnd.jupyter.widget-view+json": {
       "model_id": "658b8fe37dec4ac19b7eaa9a52d49bf3",
       "version_major": 2,
       "version_minor": 0
      },
      "text/plain": [
       "Epoch 3:   0%|          | 0/7577 [00:00<?, ?it/s]"
      ]
     },
     "metadata": {},
     "output_type": "display_data"
    },
    {
     "name": "stdout",
     "output_type": "stream",
     "text": [
      "\n",
      "Epoch 3\n",
      "Training loss: 0.0002434614798883367\n",
      "Validation loss: 2.519772476014649e-07\n",
      "F1 Score (weighted): 1.0\n",
      "\u001b[92m52.59% Training loss decreased compared to the previous epoch\u001b[0m\n",
      "\u001b[91m0.0% Validation loss increased compared to the previous epoch\u001b[0m\n"
     ]
    },
    {
     "data": {
      "application/vnd.jupyter.widget-view+json": {
       "model_id": "b684733219e14ca99a7156c3b8a2bd30",
       "version_major": 2,
       "version_minor": 0
      },
      "text/plain": [
       "Epoch 4:   0%|          | 0/7577 [00:00<?, ?it/s]"
      ]
     },
     "metadata": {},
     "output_type": "display_data"
    },
    {
     "name": "stdout",
     "output_type": "stream",
     "text": [
      "\n",
      "Epoch 4\n",
      "Training loss: 0.00031223119174582587\n",
      "Validation loss: 2.5197724783774987e-07\n",
      "F1 Score (weighted): 1.0\n",
      "\u001b[91m28.25% Training loss increased compared to the previous epoch\u001b[0m\n",
      "\u001b[91m0.0% Validation loss increased compared to the previous epoch\u001b[0m\n"
     ]
    },
    {
     "data": {
      "application/vnd.jupyter.widget-view+json": {
       "model_id": "770c6a4dcb07473a8c4d19f69a4e9014",
       "version_major": 2,
       "version_minor": 0
      },
      "text/plain": [
       "Epoch 5:   0%|          | 0/7577 [00:00<?, ?it/s]"
      ]
     },
     "metadata": {},
     "output_type": "display_data"
    },
    {
     "name": "stdout",
     "output_type": "stream",
     "text": [
      "\n",
      "Epoch 5\n",
      "Training loss: 0.0005541641585308886\n",
      "Validation loss: 2.519772476520974e-07\n",
      "F1 Score (weighted): 1.0\n",
      "\u001b[91m77.49% Training loss increased compared to the previous epoch\u001b[0m\n",
      "\u001b[92m0.0% Validation loss decreased compared to the previous epoch\u001b[0m\n"
     ]
    },
    {
     "data": {
      "application/vnd.jupyter.widget-view+json": {
       "model_id": "b8f24a0f3e404b0c81a64d0a608b03e2",
       "version_major": 2,
       "version_minor": 0
      },
      "text/plain": [
       "Epoch 6:   0%|          | 0/7577 [00:00<?, ?it/s]"
      ]
     },
     "metadata": {},
     "output_type": "display_data"
    },
    {
     "name": "stdout",
     "output_type": "stream",
     "text": [
      "\n",
      "Epoch 6\n",
      "Training loss: 0.0004968637311756201\n",
      "Validation loss: 2.5197471913260805e-07\n",
      "F1 Score (weighted): 1.0\n",
      "\u001b[92m10.34% Training loss decreased compared to the previous epoch\u001b[0m\n",
      "\u001b[92m0.0% Validation loss decreased compared to the previous epoch\u001b[0m\n"
     ]
    },
    {
     "data": {
      "application/vnd.jupyter.widget-view+json": {
       "model_id": "7b3af06cfdea4f0e8bd0da27ef35c024",
       "version_major": 2,
       "version_minor": 0
      },
      "text/plain": [
       "Epoch 7:   0%|          | 0/7577 [00:00<?, ?it/s]"
      ]
     },
     "metadata": {},
     "output_type": "display_data"
    },
    {
     "name": "stdout",
     "output_type": "stream",
     "text": [
      "\n",
      "Epoch 7\n",
      "Training loss: 0.0002827706957708412\n",
      "Validation loss: 2.5197471950391305e-07\n",
      "F1 Score (weighted): 1.0\n",
      "\u001b[92m43.09% Training loss decreased compared to the previous epoch\u001b[0m\n",
      "\u001b[91m0.0% Validation loss increased compared to the previous epoch\u001b[0m\n"
     ]
    },
    {
     "data": {
      "application/vnd.jupyter.widget-view+json": {
       "model_id": "cd2dfc0d92704cfe8d34b344befe2f3b",
       "version_major": 2,
       "version_minor": 0
      },
      "text/plain": [
       "Epoch 8:   0%|          | 0/7577 [00:00<?, ?it/s]"
      ]
     },
     "metadata": {},
     "output_type": "display_data"
    },
    {
     "name": "stdout",
     "output_type": "stream",
     "text": [
      "\n",
      "Epoch 8\n",
      "Training loss: 0.0004160482650819073\n",
      "Validation loss: 2.5197471936889303e-07\n",
      "F1 Score (weighted): 1.0\n",
      "\u001b[91m47.13% Training loss increased compared to the previous epoch\u001b[0m\n",
      "\u001b[92m0.0% Validation loss decreased compared to the previous epoch\u001b[0m\n"
     ]
    },
    {
     "data": {
      "application/vnd.jupyter.widget-view+json": {
       "model_id": "8cd75aa68c784461872cd9d98f52f264",
       "version_major": 2,
       "version_minor": 0
      },
      "text/plain": [
       "Epoch 9:   0%|          | 0/7577 [00:00<?, ?it/s]"
      ]
     },
     "metadata": {},
     "output_type": "display_data"
    },
    {
     "name": "stdout",
     "output_type": "stream",
     "text": [
      "\n",
      "Epoch 9\n",
      "Training loss: 0.00037650879579996364\n",
      "Validation loss: 2.5197471955454555e-07\n",
      "F1 Score (weighted): 1.0\n",
      "\u001b[92m9.5% Training loss decreased compared to the previous epoch\u001b[0m\n",
      "\u001b[91m0.0% Validation loss increased compared to the previous epoch\u001b[0m\n"
     ]
    },
    {
     "data": {
      "application/vnd.jupyter.widget-view+json": {
       "model_id": "c4fbe599c6f6492385f2ae7ec669c85f",
       "version_major": 2,
       "version_minor": 0
      },
      "text/plain": [
       "Epoch 10:   0%|          | 0/7577 [00:00<?, ?it/s]"
      ]
     },
     "metadata": {},
     "output_type": "display_data"
    },
    {
     "name": "stdout",
     "output_type": "stream",
     "text": [
      "\n",
      "Epoch 10\n",
      "Training loss: 0.0003943541104394678\n",
      "Validation loss: 2.5197977578340424e-07\n",
      "F1 Score (weighted): 1.0\n",
      "\u001b[91m4.74% Training loss increased compared to the previous epoch\u001b[0m\n",
      "\u001b[91m0.0% Validation loss increased compared to the previous epoch\u001b[0m\n"
     ]
    },
    {
     "data": {
      "application/vnd.jupyter.widget-view+json": {
       "model_id": "f7f3845022bb4b28b94ae1e97e89c656",
       "version_major": 2,
       "version_minor": 0
      },
      "text/plain": [
       "Epoch 11:   0%|          | 0/7577 [00:00<?, ?it/s]"
      ]
     },
     "metadata": {},
     "output_type": "display_data"
    },
    {
     "name": "stdout",
     "output_type": "stream",
     "text": [
      "\n",
      "Epoch 11\n",
      "Training loss: 0.000858381783786233\n",
      "Validation loss: 2.519772476352199e-07\n",
      "F1 Score (weighted): 1.0\n",
      "\u001b[91m117.67% Training loss increased compared to the previous epoch\u001b[0m\n",
      "\u001b[92m0.0% Validation loss decreased compared to the previous epoch\u001b[0m\n"
     ]
    },
    {
     "data": {
      "application/vnd.jupyter.widget-view+json": {
       "model_id": "329fbde04ad14e078faafc1fec28ea25",
       "version_major": 2,
       "version_minor": 0
      },
      "text/plain": [
       "Epoch 12:   0%|          | 0/7577 [00:00<?, ?it/s]"
      ]
     },
     "metadata": {},
     "output_type": "display_data"
    },
    {
     "name": "stdout",
     "output_type": "stream",
     "text": [
      "\n",
      "Epoch 12\n",
      "Training loss: 0.00046186967322082843\n",
      "Validation loss: 2.5197471965581057e-07\n",
      "F1 Score (weighted): 1.0\n",
      "\u001b[92m46.19% Training loss decreased compared to the previous epoch\u001b[0m\n",
      "\u001b[92m0.0% Validation loss decreased compared to the previous epoch\u001b[0m\n"
     ]
    },
    {
     "data": {
      "application/vnd.jupyter.widget-view+json": {
       "model_id": "00ce84cdaf5d41c7acaae8b3df2ca4fc",
       "version_major": 2,
       "version_minor": 0
      },
      "text/plain": [
       "Epoch 13:   0%|          | 0/7577 [00:00<?, ?it/s]"
      ]
     },
     "metadata": {},
     "output_type": "display_data"
    },
    {
     "name": "stdout",
     "output_type": "stream",
     "text": [
      "\n",
      "Epoch 13\n",
      "Training loss: 0.0007686605090680917\n",
      "Validation loss: 2.519797758171592e-07\n",
      "F1 Score (weighted): 1.0\n",
      "\u001b[91m66.42% Training loss increased compared to the previous epoch\u001b[0m\n",
      "\u001b[91m0.0% Validation loss increased compared to the previous epoch\u001b[0m\n"
     ]
    },
    {
     "data": {
      "application/vnd.jupyter.widget-view+json": {
       "model_id": "f982461c5e064a5d8ecda88d34f8bba5",
       "version_major": 2,
       "version_minor": 0
      },
      "text/plain": [
       "Epoch 14:   0%|          | 0/7577 [00:00<?, ?it/s]"
      ]
     },
     "metadata": {},
     "output_type": "display_data"
    },
    {
     "name": "stdout",
     "output_type": "stream",
     "text": [
      "\n",
      "Epoch 14\n",
      "Training loss: 0.0005133508517447063\n",
      "Validation loss: 2.5197471950391305e-07\n",
      "F1 Score (weighted): 1.0\n",
      "\u001b[92m33.21% Training loss decreased compared to the previous epoch\u001b[0m\n",
      "\u001b[92m0.0% Validation loss decreased compared to the previous epoch\u001b[0m\n"
     ]
    },
    {
     "data": {
      "application/vnd.jupyter.widget-view+json": {
       "model_id": "1730629b97024d56b6793108d5d99897",
       "version_major": 2,
       "version_minor": 0
      },
      "text/plain": [
       "Epoch 15:   0%|          | 0/7577 [00:00<?, ?it/s]"
      ]
     },
     "metadata": {},
     "output_type": "display_data"
    },
    {
     "name": "stdout",
     "output_type": "stream",
     "text": [
      "\n",
      "Epoch 15\n",
      "Training loss: 0.00047227631118832016\n",
      "Validation loss: 2.5197471952079055e-07\n",
      "F1 Score (weighted): 1.0\n",
      "\u001b[92m8.0% Training loss decreased compared to the previous epoch\u001b[0m\n",
      "\u001b[91m0.0% Validation loss increased compared to the previous epoch\u001b[0m\n"
     ]
    },
    {
     "data": {
      "application/vnd.jupyter.widget-view+json": {
       "model_id": "76c6a35217cf428f9077349afacc4dfc",
       "version_major": 2,
       "version_minor": 0
      },
      "text/plain": [
       "Epoch 16:   0%|          | 0/7577 [00:00<?, ?it/s]"
      ]
     },
     "metadata": {},
     "output_type": "display_data"
    },
    {
     "name": "stdout",
     "output_type": "stream",
     "text": [
      "\n",
      "Epoch 16\n",
      "Training loss: 0.00048803211756003284\n",
      "Validation loss: 2.519747193520156e-07\n",
      "F1 Score (weighted): 1.0\n",
      "\u001b[91m3.34% Training loss increased compared to the previous epoch\u001b[0m\n",
      "\u001b[92m0.0% Validation loss decreased compared to the previous epoch\u001b[0m\n",
      "\n",
      "Early stopping triggered. Training stopped.\n",
      "\n",
      "Total training time: 207.5020532210668 minutes\n",
      "Final Accuracy: 1.0\n",
      "Final Precision: 1.0\n"
     ]
    },
    {
     "data": {
      "image/png": "[encoded data removed]",
      "text/plain": [
       "<Figure size 800x600 with 1 Axes>"
      ]
     },
     "metadata": {},
     "output_type": "display_data"
    },
    {
     "name": "stdout",
     "output_type": "stream",
     "text": [
      "Epoch                 Training Loss           Validation Loss         F1 Score    Accuracy      Precision\n",
      "--------------------  ----------------------  ----------------------  ----------  ----------  -----------\n",
      "1                     0.0005251361058079844   2.5197724782087236e-07  1.0         1.0               1\n",
      "2                     \u001b[92m0.0005135328799341443\u001b[0m   \u001b[92m2.5197471953766805e-07\u001b[0m  1.0         1.0               1\n",
      "3                     \u001b[92m0.0002434614798883367\u001b[0m   \u001b[91m2.519772476014649e-07\u001b[0m   1.0         1.0               1\n",
      "4                     \u001b[91m0.00031223119174582587\u001b[0m  \u001b[91m2.5197724783774987e-07\u001b[0m  1.0         1.0               1\n",
      "5                     \u001b[91m0.0005541641585308886\u001b[0m   \u001b[92m2.519772476520974e-07\u001b[0m   1.0         1.0               1\n",
      "6                     \u001b[92m0.0004968637311756201\u001b[0m   \u001b[92m2.5197471913260805e-07\u001b[0m  1.0         1.0               1\n",
      "7                     \u001b[92m0.0002827706957708412\u001b[0m   \u001b[91m2.5197471950391305e-07\u001b[0m  1.0         1.0               1\n",
      "8                     \u001b[91m0.0004160482650819073\u001b[0m   \u001b[92m2.5197471936889303e-07\u001b[0m  1.0         1.0               1\n",
      "9                     \u001b[92m0.00037650879579996364\u001b[0m  \u001b[91m2.5197471955454555e-07\u001b[0m  1.0         1.0               1\n",
      "10                    \u001b[91m0.0003943541104394678\u001b[0m   \u001b[91m2.5197977578340424e-07\u001b[0m  1.0         1.0               1\n",
      "11                    \u001b[91m0.000858381783786233\u001b[0m    \u001b[92m2.519772476352199e-07\u001b[0m   1.0         1.0               1\n",
      "12                    \u001b[92m0.00046186967322082843\u001b[0m  \u001b[92m2.5197471965581057e-07\u001b[0m  1.0         1.0               1\n",
      "13                    \u001b[91m0.0007686605090680917\u001b[0m   \u001b[91m2.519797758171592e-07\u001b[0m   1.0         1.0               1\n",
      "14                    \u001b[92m0.0005133508517447063\u001b[0m   \u001b[92m2.5197471950391305e-07\u001b[0m  1.0         1.0               1\n",
      "15                    \u001b[92m0.00047227631118832016\u001b[0m  \u001b[91m2.5197471952079055e-07\u001b[0m  1.0         1.0               1\n",
      "16                    \u001b[91m0.00048803211756003284\u001b[0m  \u001b[92m2.519747193520156e-07\u001b[0m   1.0         1.0               1\n",
      "Total Training Time                                                                             12450.1\n",
      "Final Precision                                                                                     1\n",
      "Total Time (minutes)                                                                              207.502\n",
      "\n",
      "Fold 7\n"
     ]
    },
    {
     "data": {
      "application/vnd.jupyter.widget-view+json": {
       "model_id": "44d7dbd374fd46a681640a169f20877a",
       "version_major": 2,
       "version_minor": 0
      },
      "text/plain": [
       "  0%|          | 0/50 [00:00<?, ?it/s]"
      ]
     },
     "metadata": {},
     "output_type": "display_data"
    },
    {
     "data": {
      "application/vnd.jupyter.widget-view+json": {
       "model_id": "8564b9207cd945cbb909439004751d27",
       "version_major": 2,
       "version_minor": 0
      },
      "text/plain": [
       "Epoch 1:   0%|          | 0/7577 [00:00<?, ?it/s]"
      ]
     },
     "metadata": {},
     "output_type": "display_data"
    },
    {
     "name": "stdout",
     "output_type": "stream",
     "text": [
      "\n",
      "Epoch 1\n",
      "Training loss: 0.0006604545544784249\n",
      "Validation loss: 0.00017966276957056266\n",
      "F1 Score (weighted): 1.0\n"
     ]
    },
    {
     "data": {
      "application/vnd.jupyter.widget-view+json": {
       "model_id": "159ebdfdbbfd4e8ea46eff4f38835599",
       "version_major": 2,
       "version_minor": 0
      },
      "text/plain": [
       "Epoch 2:   0%|          | 0/7577 [00:00<?, ?it/s]"
      ]
     },
     "metadata": {},
     "output_type": "display_data"
    },
    {
     "name": "stdout",
     "output_type": "stream",
     "text": [
      "\n",
      "Epoch 2\n",
      "Training loss: 0.0007549772264579159\n",
      "Validation loss: 0.0001796627695705289\n",
      "F1 Score (weighted): 1.0\n",
      "\u001b[91m14.31% Training loss increased compared to the previous epoch\u001b[0m\n",
      "\u001b[92m0.0% Validation loss decreased compared to the previous epoch\u001b[0m\n"
     ]
    },
    {
     "data": {
      "application/vnd.jupyter.widget-view+json": {
       "model_id": "32d9927df71e46a8849193d2cdc169c0",
       "version_major": 2,
       "version_minor": 0
      },
      "text/plain": [
       "Epoch 3:   0%|          | 0/7577 [00:00<?, ?it/s]"
      ]
     },
     "metadata": {},
     "output_type": "display_data"
    },
    {
     "name": "stdout",
     "output_type": "stream",
     "text": [
      "\n",
      "Epoch 3\n",
      "Training loss: 0.001057239720385213\n",
      "Validation loss: 0.0001796627695704614\n",
      "F1 Score (weighted): 1.0\n",
      "\u001b[91m40.04% Training loss increased compared to the previous epoch\u001b[0m\n",
      "\u001b[92m0.0% Validation loss decreased compared to the previous epoch\u001b[0m\n"
     ]
    },
    {
     "data": {
      "application/vnd.jupyter.widget-view+json": {
       "model_id": "16797516de6a4d58b338215201de4231",
       "version_major": 2,
       "version_minor": 0
      },
      "text/plain": [
       "Epoch 4:   0%|          | 0/7577 [00:00<?, ?it/s]"
      ]
     },
     "metadata": {},
     "output_type": "display_data"
    },
    {
     "name": "stdout",
     "output_type": "stream",
     "text": [
      "\n",
      "Epoch 4\n",
      "Training loss: 0.0006757438219446337\n",
      "Validation loss: 0.0001796627771550072\n",
      "F1 Score (weighted): 1.0\n",
      "\u001b[92m36.08% Training loss decreased compared to the previous epoch\u001b[0m\n",
      "\u001b[91m0.0% Validation loss increased compared to the previous epoch\u001b[0m\n"
     ]
    },
    {
     "data": {
      "application/vnd.jupyter.widget-view+json": {
       "model_id": "c10d6552b615418c8f5e48c35eb4a777",
       "version_major": 2,
       "version_minor": 0
      },
      "text/plain": [
       "Epoch 5:   0%|          | 0/7577 [00:00<?, ?it/s]"
      ]
     },
     "metadata": {},
     "output_type": "display_data"
    },
    {
     "name": "stdout",
     "output_type": "stream",
     "text": [
      "\n",
      "Epoch 5\n",
      "Training loss: 0.00025693542519920865\n",
      "Validation loss: 0.0001796627695707652\n",
      "F1 Score (weighted): 1.0\n",
      "\u001b[92m61.98% Training loss decreased compared to the previous epoch\u001b[0m\n",
      "\u001b[92m0.0% Validation loss decreased compared to the previous epoch\u001b[0m\n"
     ]
    },
    {
     "data": {
      "application/vnd.jupyter.widget-view+json": {
       "model_id": "aa518bdb6bab470782565fbca7617e5e",
       "version_major": 2,
       "version_minor": 0
      },
      "text/plain": [
       "Epoch 6:   0%|          | 0/7577 [00:00<?, ?it/s]"
      ]
     },
     "metadata": {},
     "output_type": "display_data"
    },
    {
     "name": "stdout",
     "output_type": "stream",
     "text": [
      "\n",
      "Epoch 6\n",
      "Training loss: 0.0004429417039937289\n",
      "Validation loss: 0.00017966276957066392\n",
      "F1 Score (weighted): 1.0\n",
      "\u001b[91m72.39% Training loss increased compared to the previous epoch\u001b[0m\n",
      "\u001b[92m0.0% Validation loss decreased compared to the previous epoch\u001b[0m\n"
     ]
    },
    {
     "data": {
      "application/vnd.jupyter.widget-view+json": {
       "model_id": "1eb27d882ffe4c989e53db184e28f1dd",
       "version_major": 2,
       "version_minor": 0
      },
      "text/plain": [
       "Epoch 7:   0%|          | 0/7577 [00:00<?, ?it/s]"
      ]
     },
     "metadata": {},
     "output_type": "display_data"
    },
    {
     "name": "stdout",
     "output_type": "stream",
     "text": [
      "\n",
      "Epoch 7\n",
      "Training loss: 0.0008433007507789878\n",
      "Validation loss: 0.00017966276957049514\n",
      "F1 Score (weighted): 1.0\n",
      "\u001b[91m90.39% Training loss increased compared to the previous epoch\u001b[0m\n",
      "\u001b[92m0.0% Validation loss decreased compared to the previous epoch\u001b[0m\n"
     ]
    },
    {
     "data": {
      "application/vnd.jupyter.widget-view+json": {
       "model_id": "fdebfd2968c34ec0b7971c5b6a500b7d",
       "version_major": 2,
       "version_minor": 0
      },
      "text/plain": [
       "Epoch 8:   0%|          | 0/7577 [00:00<?, ?it/s]"
      ]
     },
     "metadata": {},
     "output_type": "display_data"
    },
    {
     "name": "stdout",
     "output_type": "stream",
     "text": [
      "\n",
      "Epoch 8\n",
      "Training loss: 0.0008819477623178297\n",
      "Validation loss: 0.0001796627695704614\n",
      "F1 Score (weighted): 1.0\n",
      "\u001b[91m4.58% Training loss increased compared to the previous epoch\u001b[0m\n",
      "\u001b[92m0.0% Validation loss decreased compared to the previous epoch\u001b[0m\n"
     ]
    },
    {
     "data": {
      "application/vnd.jupyter.widget-view+json": {
       "model_id": "b261e84ae9b340c687337b072d6e2dee",
       "version_major": 2,
       "version_minor": 0
      },
      "text/plain": [
       "Epoch 9:   0%|          | 0/7577 [00:00<?, ?it/s]"
      ]
     },
     "metadata": {},
     "output_type": "display_data"
    },
    {
     "name": "stdout",
     "output_type": "stream",
     "text": [
      "\n",
      "Epoch 9\n",
      "Training loss: 0.000808298590332648\n",
      "Validation loss: 0.00017966277209862646\n",
      "F1 Score (weighted): 1.0\n",
      "\u001b[92m8.35% Training loss decreased compared to the previous epoch\u001b[0m\n",
      "\u001b[91m0.0% Validation loss increased compared to the previous epoch\u001b[0m\n"
     ]
    },
    {
     "data": {
      "application/vnd.jupyter.widget-view+json": {
       "model_id": "082277998cf04792b50eaa124decf425",
       "version_major": 2,
       "version_minor": 0
      },
      "text/plain": [
       "Epoch 10:   0%|          | 0/7577 [00:00<?, ?it/s]"
      ]
     },
     "metadata": {},
     "output_type": "display_data"
    },
    {
     "name": "stdout",
     "output_type": "stream",
     "text": [
      "\n",
      "Epoch 10\n",
      "Training loss: 0.0008410301405804336\n",
      "Validation loss: 0.00017966276957020823\n",
      "F1 Score (weighted): 1.0\n",
      "\u001b[91m4.05% Training loss increased compared to the previous epoch\u001b[0m\n",
      "\u001b[92m0.0% Validation loss decreased compared to the previous epoch\u001b[0m\n"
     ]
    },
    {
     "data": {
      "application/vnd.jupyter.widget-view+json": {
       "model_id": "e4aabca04b374e10aabf5f3f35dcab8b",
       "version_major": 2,
       "version_minor": 0
      },
      "text/plain": [
       "Epoch 11:   0%|          | 0/7577 [00:00<?, ?it/s]"
      ]
     },
     "metadata": {},
     "output_type": "display_data"
    },
    {
     "name": "stdout",
     "output_type": "stream",
     "text": [
      "\n",
      "Epoch 11\n",
      "Training loss: 0.00017877161787439278\n",
      "Validation loss: 0.00017966276957057955\n",
      "F1 Score (weighted): 1.0\n",
      "\u001b[92m78.74% Training loss decreased compared to the previous epoch\u001b[0m\n",
      "\u001b[91m0.0% Validation loss increased compared to the previous epoch\u001b[0m\n"
     ]
    },
    {
     "data": {
      "application/vnd.jupyter.widget-view+json": {
       "model_id": "f33e509b57f04c4880b58cd8c7ed0758",
       "version_major": 2,
       "version_minor": 0
      },
      "text/plain": [
       "Epoch 12:   0%|          | 0/7577 [00:00<?, ?it/s]"
      ]
     },
     "metadata": {},
     "output_type": "display_data"
    },
    {
     "name": "stdout",
     "output_type": "stream",
     "text": [
      "\n",
      "Epoch 12\n",
      "Training loss: 0.0006389258921106258\n",
      "Validation loss: 0.00017966276957084957\n",
      "F1 Score (weighted): 1.0\n",
      "\u001b[91m257.4% Training loss increased compared to the previous epoch\u001b[0m\n",
      "\u001b[91m0.0% Validation loss increased compared to the previous epoch\u001b[0m\n"
     ]
    },
    {
     "data": {
      "application/vnd.jupyter.widget-view+json": {
       "model_id": "574745dae28e44578a68ed4d3f010ae7",
       "version_major": 2,
       "version_minor": 0
      },
      "text/plain": [
       "Epoch 13:   0%|          | 0/7577 [00:00<?, ?it/s]"
      ]
     },
     "metadata": {},
     "output_type": "display_data"
    },
    {
     "name": "stdout",
     "output_type": "stream",
     "text": [
      "\n",
      "Epoch 13\n",
      "Training loss: 0.00044843497504631\n",
      "Validation loss: 0.00017966276957057955\n",
      "F1 Score (weighted): 1.0\n",
      "\u001b[92m29.81% Training loss decreased compared to the previous epoch\u001b[0m\n",
      "\u001b[92m0.0% Validation loss decreased compared to the previous epoch\u001b[0m\n"
     ]
    },
    {
     "data": {
      "application/vnd.jupyter.widget-view+json": {
       "model_id": "2a4c8f4c43464746946e8eea10d625ce",
       "version_major": 2,
       "version_minor": 0
      },
      "text/plain": [
       "Epoch 14:   0%|          | 0/7577 [00:00<?, ?it/s]"
      ]
     },
     "metadata": {},
     "output_type": "display_data"
    },
    {
     "name": "stdout",
     "output_type": "stream",
     "text": [
      "\n",
      "Epoch 14\n",
      "Training loss: 0.00013003334980155656\n",
      "Validation loss: 0.0001796627695703095\n",
      "F1 Score (weighted): 1.0\n",
      "\u001b[92m71.0% Training loss decreased compared to the previous epoch\u001b[0m\n",
      "\u001b[92m0.0% Validation loss decreased compared to the previous epoch\u001b[0m\n"
     ]
    },
    {
     "data": {
      "application/vnd.jupyter.widget-view+json": {
       "model_id": "f1f8e428f6ac4a5d870e75b209ac74ac",
       "version_major": 2,
       "version_minor": 0
      },
      "text/plain": [
       "Epoch 15:   0%|          | 0/7577 [00:00<?, ?it/s]"
      ]
     },
     "metadata": {},
     "output_type": "display_data"
    },
    {
     "name": "stdout",
     "output_type": "stream",
     "text": [
      "\n",
      "Epoch 15\n",
      "Training loss: 0.0003939551486072298\n",
      "Validation loss: 0.0001796627695706808\n",
      "F1 Score (weighted): 1.0\n",
      "\u001b[91m202.96% Training loss increased compared to the previous epoch\u001b[0m\n",
      "\u001b[91m0.0% Validation loss increased compared to the previous epoch\u001b[0m\n"
     ]
    },
    {
     "data": {
      "application/vnd.jupyter.widget-view+json": {
       "model_id": "65c14854189a42b080bb9be6d99de25c",
       "version_major": 2,
       "version_minor": 0
      },
      "text/plain": [
       "Epoch 16:   0%|          | 0/7577 [00:00<?, ?it/s]"
      ]
     },
     "metadata": {},
     "output_type": "display_data"
    },
    {
     "name": "stdout",
     "output_type": "stream",
     "text": [
      "\n",
      "Epoch 16\n",
      "Training loss: 0.0003382887349239585\n",
      "Validation loss: 0.00017966276957079893\n",
      "F1 Score (weighted): 1.0\n",
      "\u001b[92m14.13% Training loss decreased compared to the previous epoch\u001b[0m\n",
      "\u001b[91m0.0% Validation loss increased compared to the previous epoch\u001b[0m\n"
     ]
    },
    {
     "data": {
      "application/vnd.jupyter.widget-view+json": {
       "model_id": "a38ace2a22804b53ae01c163666c3e27",
       "version_major": 2,
       "version_minor": 0
      },
      "text/plain": [
       "Epoch 17:   0%|          | 0/7577 [00:00<?, ?it/s]"
      ]
     },
     "metadata": {},
     "output_type": "display_data"
    },
    {
     "name": "stdout",
     "output_type": "stream",
     "text": [
      "\n",
      "Epoch 17\n",
      "Training loss: 0.0004570823620653058\n",
      "Validation loss: 0.00017966276957069767\n",
      "F1 Score (weighted): 1.0\n",
      "\u001b[91m35.12% Training loss increased compared to the previous epoch\u001b[0m\n",
      "\u001b[92m0.0% Validation loss decreased compared to the previous epoch\u001b[0m\n"
     ]
    },
    {
     "data": {
      "application/vnd.jupyter.widget-view+json": {
       "model_id": "4e469f453a8f49b4a3672912118385d8",
       "version_major": 2,
       "version_minor": 0
      },
      "text/plain": [
       "Epoch 18:   0%|          | 0/7577 [00:00<?, ?it/s]"
      ]
     },
     "metadata": {},
     "output_type": "display_data"
    },
    {
     "name": "stdout",
     "output_type": "stream",
     "text": [
      "\n",
      "Epoch 18\n",
      "Training loss: 0.00048277663232422345\n",
      "Validation loss: 0.00017966277209876147\n",
      "F1 Score (weighted): 1.0\n",
      "\u001b[91m5.62% Training loss increased compared to the previous epoch\u001b[0m\n",
      "\u001b[91m0.0% Validation loss increased compared to the previous epoch\u001b[0m\n"
     ]
    },
    {
     "data": {
      "application/vnd.jupyter.widget-view+json": {
       "model_id": "72a326b441bd4cef9f1164e8f396e7c7",
       "version_major": 2,
       "version_minor": 0
      },
      "text/plain": [
       "Epoch 19:   0%|          | 0/7577 [00:00<?, ?it/s]"
      ]
     },
     "metadata": {},
     "output_type": "display_data"
    },
    {
     "name": "stdout",
     "output_type": "stream",
     "text": [
      "\n",
      "Epoch 19\n",
      "Training loss: 0.00025515633652202014\n",
      "Validation loss: 0.0001796627695705964\n",
      "F1 Score (weighted): 1.0\n",
      "\u001b[92m47.15% Training loss decreased compared to the previous epoch\u001b[0m\n",
      "\u001b[92m0.0% Validation loss decreased compared to the previous epoch\u001b[0m\n"
     ]
    },
    {
     "data": {
      "application/vnd.jupyter.widget-view+json": {
       "model_id": "30a6581b9ae54bbbb2ec31e59fbf687c",
       "version_major": 2,
       "version_minor": 0
      },
      "text/plain": [
       "Epoch 20:   0%|          | 0/7577 [00:00<?, ?it/s]"
      ]
     },
     "metadata": {},
     "output_type": "display_data"
    },
    {
     "name": "stdout",
     "output_type": "stream",
     "text": [
      "\n",
      "Epoch 20\n",
      "Training loss: 0.0004845017853163499\n",
      "Validation loss: 0.00017966276957047828\n",
      "F1 Score (weighted): 1.0\n",
      "\u001b[91m89.88% Training loss increased compared to the previous epoch\u001b[0m\n",
      "\u001b[92m0.0% Validation loss decreased compared to the previous epoch\u001b[0m\n",
      "\n",
      "Early stopping triggered. Training stopped.\n",
      "\n",
      "Total training time: 259.46725117762884 minutes\n",
      "Final Accuracy: 1.0\n",
      "Final Precision: 1.0\n"
     ]
    },
    {
     "data": {
      "image/png": "[encoded data removed]",
      "text/plain": [
       "<Figure size 800x600 with 1 Axes>"
      ]
     },
     "metadata": {},
     "output_type": "display_data"
    },
    {
     "name": "stdout",
     "output_type": "stream",
     "text": [
      "Epoch                 Training Loss           Validation Loss         F1 Score    Accuracy      Precision\n",
      "--------------------  ----------------------  ----------------------  ----------  ----------  -----------\n",
      "1                     0.0006604545544784249   0.00017966276957056266  1.0         1.0               1\n",
      "2                     \u001b[91m0.0007549772264579159\u001b[0m   \u001b[92m0.0001796627695705289\u001b[0m   1.0         1.0               1\n",
      "3                     \u001b[91m0.001057239720385213\u001b[0m    \u001b[92m0.0001796627695704614\u001b[0m   1.0         1.0               1\n",
      "4                     \u001b[92m0.0006757438219446337\u001b[0m   \u001b[91m0.0001796627771550072\u001b[0m   1.0         1.0               1\n",
      "5                     \u001b[92m0.00025693542519920865\u001b[0m  \u001b[92m0.0001796627695707652\u001b[0m   1.0         1.0               1\n",
      "6                     \u001b[91m0.0004429417039937289\u001b[0m   \u001b[92m0.00017966276957066392\u001b[0m  1.0         1.0               1\n",
      "7                     \u001b[91m0.0008433007507789878\u001b[0m   \u001b[92m0.00017966276957049514\u001b[0m  1.0         1.0               1\n",
      "8                     \u001b[91m0.0008819477623178297\u001b[0m   \u001b[92m0.0001796627695704614\u001b[0m   1.0         1.0               1\n",
      "9                     \u001b[92m0.000808298590332648\u001b[0m    \u001b[91m0.00017966277209862646\u001b[0m  1.0         1.0               1\n",
      "10                    \u001b[91m0.0008410301405804336\u001b[0m   \u001b[92m0.00017966276957020823\u001b[0m  1.0         1.0               1\n",
      "11                    \u001b[92m0.00017877161787439278\u001b[0m  \u001b[91m0.00017966276957057955\u001b[0m  1.0         1.0               1\n",
      "12                    \u001b[91m0.0006389258921106258\u001b[0m   \u001b[91m0.00017966276957084957\u001b[0m  1.0         1.0               1\n",
      "13                    \u001b[92m0.00044843497504631\u001b[0m     \u001b[92m0.00017966276957057955\u001b[0m  1.0         1.0               1\n",
      "14                    \u001b[92m0.00013003334980155656\u001b[0m  \u001b[92m0.0001796627695703095\u001b[0m   1.0         1.0               1\n",
      "15                    \u001b[91m0.0003939551486072298\u001b[0m   \u001b[91m0.0001796627695706808\u001b[0m   1.0         1.0               1\n",
      "16                    \u001b[92m0.0003382887349239585\u001b[0m   \u001b[91m0.00017966276957079893\u001b[0m  1.0         1.0               1\n",
      "17                    \u001b[91m0.0004570823620653058\u001b[0m   \u001b[92m0.00017966276957069767\u001b[0m  1.0         1.0               1\n",
      "18                    \u001b[91m0.00048277663232422345\u001b[0m  \u001b[91m0.00017966277209876147\u001b[0m  1.0         1.0               1\n",
      "19                    \u001b[92m0.00025515633652202014\u001b[0m  \u001b[92m0.0001796627695705964\u001b[0m   1.0         1.0               1\n",
      "20                    \u001b[91m0.0004845017853163499\u001b[0m   \u001b[92m0.00017966276957047828\u001b[0m  1.0         1.0               1\n",
      "Total Training Time                                                                             15568\n",
      "Final Precision                                                                                     1\n",
      "Total Time (minutes)                                                                              259.467\n",
      "\n",
      "Fold 8\n"
     ]
    },
    {
     "data": {
      "application/vnd.jupyter.widget-view+json": {
       "model_id": "8418f47e224347e0aafe4184558d5d3b",
       "version_major": 2,
       "version_minor": 0
      },
      "text/plain": [
       "  0%|          | 0/50 [00:00<?, ?it/s]"
      ]
     },
     "metadata": {},
     "output_type": "display_data"
    },
    {
     "data": {
      "application/vnd.jupyter.widget-view+json": {
       "model_id": "cf7ad26485014efd87e9beaba3fa23e5",
       "version_major": 2,
       "version_minor": 0
      },
      "text/plain": [
       "Epoch 1:   0%|          | 0/7577 [00:00<?, ?it/s]"
      ]
     },
     "metadata": {},
     "output_type": "display_data"
    },
    {
     "name": "stdout",
     "output_type": "stream",
     "text": [
      "\n",
      "Epoch 1\n",
      "Training loss: 0.0007153405121550738\n",
      "Validation loss: 4.8775641742037027e-05\n",
      "F1 Score (weighted): 1.0\n"
     ]
    },
    {
     "data": {
      "application/vnd.jupyter.widget-view+json": {
       "model_id": "3ea82f7af14c44fa816c13f0d63c2a2f",
       "version_major": 2,
       "version_minor": 0
      },
      "text/plain": [
       "Epoch 2:   0%|          | 0/7577 [00:00<?, ?it/s]"
      ]
     },
     "metadata": {},
     "output_type": "display_data"
    },
    {
     "name": "stdout",
     "output_type": "stream",
     "text": [
      "\n",
      "Epoch 2\n",
      "Training loss: 0.0008589194322632314\n",
      "Validation loss: 4.877564427052276e-05\n",
      "F1 Score (weighted): 1.0\n",
      "\u001b[91m20.07% Training loss increased compared to the previous epoch\u001b[0m\n",
      "\u001b[91m0.0% Validation loss increased compared to the previous epoch\u001b[0m\n"
     ]
    },
    {
     "data": {
      "application/vnd.jupyter.widget-view+json": {
       "model_id": "7fcf341d5b1142c1a8ed0b0588ee684c",
       "version_major": 2,
       "version_minor": 0
      },
      "text/plain": [
       "Epoch 3:   0%|          | 0/7577 [00:00<?, ?it/s]"
      ]
     },
     "metadata": {},
     "output_type": "display_data"
    },
    {
     "name": "stdout",
     "output_type": "stream",
     "text": [
      "\n",
      "Epoch 3\n",
      "Training loss: 0.0001411342152700867\n",
      "Validation loss: 4.8775641742256435e-05\n",
      "F1 Score (weighted): 1.0\n",
      "\u001b[92m83.57% Training loss decreased compared to the previous epoch\u001b[0m\n",
      "\u001b[92m0.0% Validation loss decreased compared to the previous epoch\u001b[0m\n"
     ]
    },
    {
     "data": {
      "application/vnd.jupyter.widget-view+json": {
       "model_id": "8e51bf9b5b84472e942b31566a6038ab",
       "version_major": 2,
       "version_minor": 0
      },
      "text/plain": [
       "Epoch 4:   0%|          | 0/7577 [00:00<?, ?it/s]"
      ]
     },
     "metadata": {},
     "output_type": "display_data"
    },
    {
     "name": "stdout",
     "output_type": "stream",
     "text": [
      "\n",
      "Epoch 4\n",
      "Training loss: 0.0004731894262942159\n",
      "Validation loss: 4.8775641742053906e-05\n",
      "F1 Score (weighted): 1.0\n",
      "\u001b[91m235.28% Training loss increased compared to the previous epoch\u001b[0m\n",
      "\u001b[92m0.0% Validation loss decreased compared to the previous epoch\u001b[0m\n"
     ]
    },
    {
     "data": {
      "application/vnd.jupyter.widget-view+json": {
       "model_id": "acc52a4600c24816930d8aea837a09a9",
       "version_major": 2,
       "version_minor": 0
      },
      "text/plain": [
       "Epoch 5:   0%|          | 0/7577 [00:00<?, ?it/s]"
      ]
     },
     "metadata": {},
     "output_type": "display_data"
    },
    {
     "name": "stdout",
     "output_type": "stream",
     "text": [
      "\n",
      "Epoch 5\n",
      "Training loss: 0.0008485759118950244\n",
      "Validation loss: 4.877564174217205e-05\n",
      "F1 Score (weighted): 1.0\n",
      "\u001b[91m79.33% Training loss increased compared to the previous epoch\u001b[0m\n",
      "\u001b[91m0.0% Validation loss increased compared to the previous epoch\u001b[0m\n"
     ]
    },
    {
     "data": {
      "application/vnd.jupyter.widget-view+json": {
       "model_id": "9e108f6520b9420e8c65fbee2df3a232",
       "version_major": 2,
       "version_minor": 0
      },
      "text/plain": [
       "Epoch 6:   0%|          | 0/7577 [00:00<?, ?it/s]"
      ]
     },
     "metadata": {},
     "output_type": "display_data"
    },
    {
     "name": "stdout",
     "output_type": "stream",
     "text": [
      "\n",
      "Epoch 6\n",
      "Training loss: 0.0006464431067112973\n",
      "Validation loss: 4.877564174218892e-05\n",
      "F1 Score (weighted): 1.0\n",
      "\u001b[92m23.82% Training loss decreased compared to the previous epoch\u001b[0m\n",
      "\u001b[91m0.0% Validation loss increased compared to the previous epoch\u001b[0m\n"
     ]
    },
    {
     "data": {
      "application/vnd.jupyter.widget-view+json": {
       "model_id": "810fd770a94a4d72a7f8330b4bd5be6b",
       "version_major": 2,
       "version_minor": 0
      },
      "text/plain": [
       "Epoch 7:   0%|          | 0/7577 [00:00<?, ?it/s]"
      ]
     },
     "metadata": {},
     "output_type": "display_data"
    },
    {
     "name": "stdout",
     "output_type": "stream",
     "text": [
      "\n",
      "Epoch 7\n",
      "Training loss: 0.0005488277494593589\n",
      "Validation loss: 4.877564174232395e-05\n",
      "F1 Score (weighted): 1.0\n",
      "\u001b[92m15.1% Training loss decreased compared to the previous epoch\u001b[0m\n",
      "\u001b[91m0.0% Validation loss increased compared to the previous epoch\u001b[0m\n"
     ]
    },
    {
     "data": {
      "application/vnd.jupyter.widget-view+json": {
       "model_id": "e65acff5ac2e42d7baddcd2efe25e935",
       "version_major": 2,
       "version_minor": 0
      },
      "text/plain": [
       "Epoch 8:   0%|          | 0/7577 [00:00<?, ?it/s]"
      ]
     },
     "metadata": {},
     "output_type": "display_data"
    },
    {
     "name": "stdout",
     "output_type": "stream",
     "text": [
      "\n",
      "Epoch 8\n",
      "Training loss: 0.00035026685395723225\n",
      "Validation loss: 4.877564427053964e-05\n",
      "F1 Score (weighted): 1.0\n",
      "\u001b[92m36.18% Training loss decreased compared to the previous epoch\u001b[0m\n",
      "\u001b[91m0.0% Validation loss increased compared to the previous epoch\u001b[0m\n"
     ]
    },
    {
     "data": {
      "application/vnd.jupyter.widget-view+json": {
       "model_id": "21846589ebe949c3b85195e926f85512",
       "version_major": 2,
       "version_minor": 0
      },
      "text/plain": [
       "Epoch 9:   0%|          | 0/7577 [00:00<?, ?it/s]"
      ]
     },
     "metadata": {},
     "output_type": "display_data"
    },
    {
     "name": "stdout",
     "output_type": "stream",
     "text": [
      "\n",
      "Epoch 9\n",
      "Training loss: 0.00047149654447962026\n",
      "Validation loss: 4.8775641742256435e-05\n",
      "F1 Score (weighted): 1.0\n",
      "\u001b[91m34.61% Training loss increased compared to the previous epoch\u001b[0m\n",
      "\u001b[92m0.0% Validation loss decreased compared to the previous epoch\u001b[0m\n"
     ]
    },
    {
     "data": {
      "application/vnd.jupyter.widget-view+json": {
       "model_id": "8bf57e740cf24eceacbbaf380c0acc4f",
       "version_major": 2,
       "version_minor": 0
      },
      "text/plain": [
       "Epoch 10:   0%|          | 0/7577 [00:00<?, ?it/s]"
      ]
     },
     "metadata": {},
     "output_type": "display_data"
    },
    {
     "name": "stdout",
     "output_type": "stream",
     "text": [
      "\n",
      "Epoch 10\n",
      "Training loss: 0.0006000907875876336\n",
      "Validation loss: 4.8775649326616604e-05\n",
      "F1 Score (weighted): 1.0\n",
      "\u001b[91m27.27% Training loss increased compared to the previous epoch\u001b[0m\n",
      "\u001b[91m0.0% Validation loss increased compared to the previous epoch\u001b[0m\n"
     ]
    },
    {
     "data": {
      "application/vnd.jupyter.widget-view+json": {
       "model_id": "f5aaab70455249248f021032569f1f78",
       "version_major": 2,
       "version_minor": 0
      },
      "text/plain": [
       "Epoch 11:   0%|          | 0/7577 [00:00<?, ?it/s]"
      ]
     },
     "metadata": {},
     "output_type": "display_data"
    },
    {
     "name": "stdout",
     "output_type": "stream",
     "text": [
      "\n",
      "Epoch 11\n",
      "Training loss: 0.0003770775136530763\n",
      "Validation loss: 4.877564427043838e-05\n",
      "F1 Score (weighted): 1.0\n",
      "\u001b[92m37.16% Training loss decreased compared to the previous epoch\u001b[0m\n",
      "\u001b[92m0.0% Validation loss decreased compared to the previous epoch\u001b[0m\n",
      "\n",
      "Early stopping triggered. Training stopped.\n",
      "\n",
      "Total training time: 142.8036679784457 minutes\n",
      "Final Accuracy: 1.0\n",
      "Final Precision: 1.0\n"
     ]
    },
    {
     "data": {
      "image/png": "[encoded data removed]",
      "text/plain": [
       "<Figure size 800x600 with 1 Axes>"
      ]
     },
     "metadata": {},
     "output_type": "display_data"
    },
    {
     "name": "stdout",
     "output_type": "stream",
     "text": [
      "Epoch                 Training Loss           Validation Loss         F1 Score    Accuracy      Precision\n",
      "--------------------  ----------------------  ----------------------  ----------  ----------  -----------\n",
      "1                     0.0007153405121550738   4.8775641742037027e-05  1.0         1.0               1\n",
      "2                     \u001b[91m0.0008589194322632314\u001b[0m   \u001b[91m4.877564427052276e-05\u001b[0m   1.0         1.0               1\n",
      "3                     \u001b[92m0.0001411342152700867\u001b[0m   \u001b[92m4.8775641742256435e-05\u001b[0m  1.0         1.0               1\n",
      "4                     \u001b[91m0.0004731894262942159\u001b[0m   \u001b[92m4.8775641742053906e-05\u001b[0m  1.0         1.0               1\n",
      "5                     \u001b[91m0.0008485759118950244\u001b[0m   \u001b[91m4.877564174217205e-05\u001b[0m   1.0         1.0               1\n",
      "6                     \u001b[92m0.0006464431067112973\u001b[0m   \u001b[91m4.877564174218892e-05\u001b[0m   1.0         1.0               1\n",
      "7                     \u001b[92m0.0005488277494593589\u001b[0m   \u001b[91m4.877564174232395e-05\u001b[0m   1.0         1.0               1\n",
      "8                     \u001b[92m0.00035026685395723225\u001b[0m  \u001b[91m4.877564427053964e-05\u001b[0m   1.0         1.0               1\n",
      "9                     \u001b[91m0.00047149654447962026\u001b[0m  \u001b[92m4.8775641742256435e-05\u001b[0m  1.0         1.0               1\n",
      "10                    \u001b[91m0.0006000907875876336\u001b[0m   \u001b[91m4.8775649326616604e-05\u001b[0m  1.0         1.0               1\n",
      "11                    \u001b[92m0.0003770775136530763\u001b[0m   \u001b[92m4.877564427043838e-05\u001b[0m   1.0         1.0               1\n",
      "Total Training Time                                                                              8568.22\n",
      "Final Precision                                                                                     1\n",
      "Total Time (minutes)                                                                              142.804\n",
      "\n",
      "Fold 9\n"
     ]
    },
    {
     "data": {
      "application/vnd.jupyter.widget-view+json": {
       "model_id": "c901140ad8004c24b64da090648a8347",
       "version_major": 2,
       "version_minor": 0
      },
      "text/plain": [
       "  0%|          | 0/50 [00:00<?, ?it/s]"
      ]
     },
     "metadata": {},
     "output_type": "display_data"
    },
    {
     "data": {
      "application/vnd.jupyter.widget-view+json": {
       "model_id": "226cf54a538848ee84b81c46c58761de",
       "version_major": 2,
       "version_minor": 0
      },
      "text/plain": [
       "Epoch 1:   0%|          | 0/7577 [00:00<?, ?it/s]"
      ]
     },
     "metadata": {},
     "output_type": "display_data"
    },
    {
     "name": "stdout",
     "output_type": "stream",
     "text": [
      "\n",
      "Epoch 1\n",
      "Training loss: 0.0004438017826298444\n",
      "Validation loss: 0.00010064730060038784\n",
      "F1 Score (weighted): 1.0\n"
     ]
    },
    {
     "data": {
      "application/vnd.jupyter.widget-view+json": {
       "model_id": "d24e62d1db654bb0b20c48dab5aba3a0",
       "version_major": 2,
       "version_minor": 0
      },
      "text/plain": [
       "Epoch 2:   0%|          | 0/7577 [00:00<?, ?it/s]"
      ]
     },
     "metadata": {},
     "output_type": "display_data"
    },
    {
     "name": "stdout",
     "output_type": "stream",
     "text": [
      "\n",
      "Epoch 2\n",
      "Training loss: 0.000571738600914862\n",
      "Validation loss: 0.00010064730565668421\n",
      "F1 Score (weighted): 1.0\n",
      "\u001b[91m28.83% Training loss increased compared to the previous epoch\u001b[0m\n",
      "\u001b[91m0.0% Validation loss increased compared to the previous epoch\u001b[0m\n"
     ]
    },
    {
     "data": {
      "application/vnd.jupyter.widget-view+json": {
       "model_id": "d0e19ccd97ef4192b15e79c50f6ffa91",
       "version_major": 2,
       "version_minor": 0
      },
      "text/plain": [
       "Epoch 3:   0%|          | 0/7577 [00:00<?, ?it/s]"
      ]
     },
     "metadata": {},
     "output_type": "display_data"
    },
    {
     "name": "stdout",
     "output_type": "stream",
     "text": [
      "\n",
      "Epoch 3\n",
      "Training loss: 0.0006358525832670762\n",
      "Validation loss: 0.00010064730312850227\n",
      "F1 Score (weighted): 1.0\n",
      "\u001b[91m11.21% Training loss increased compared to the previous epoch\u001b[0m\n",
      "\u001b[92m0.0% Validation loss decreased compared to the previous epoch\u001b[0m\n"
     ]
    },
    {
     "data": {
      "application/vnd.jupyter.widget-view+json": {
       "model_id": "",
       "version_major": 2,
       "version_minor": 0
      },
      "text/plain": [
       "Epoch 4:   0%|          | 0/7577 [00:00<?, ?it/s]"
      ]
     },
     "metadata": {},
     "output_type": "display_data"
    },
    {
     "name": "stdout",
     "output_type": "stream",
     "text": [
      "\n",
      "Epoch 4\n",
      "Training loss: 0.0005322355047336278\n",
      "Validation loss: 0.00010064730060023595\n",
      "F1 Score (weighted): 1.0\n",
      "\u001b[92m16.3% Training loss decreased compared to the previous epoch\u001b[0m\n",
      "\u001b[92m0.0% Validation loss decreased compared to the previous epoch\u001b[0m\n"
     ]
    },
    {
     "data": {
      "application/vnd.jupyter.widget-view+json": {
       "model_id": "",
       "version_major": 2,
       "version_minor": 0
      },
      "text/plain": [
       "Epoch 5:   0%|          | 0/7577 [00:00<?, ?it/s]"
      ]
     },
     "metadata": {},
     "output_type": "display_data"
    },
    {
     "name": "stdout",
     "output_type": "stream",
     "text": [
      "\n",
      "Epoch 5\n",
      "Training loss: 0.0006132520149711364\n",
      "Validation loss: 0.0001006473081846805\n",
      "F1 Score (weighted): 1.0\n",
      "\u001b[91m15.22% Training loss increased compared to the previous epoch\u001b[0m\n",
      "\u001b[91m0.0% Validation loss increased compared to the previous epoch\u001b[0m\n"
     ]
    },
    {
     "data": {
      "application/vnd.jupyter.widget-view+json": {
       "model_id": "",
       "version_major": 2,
       "version_minor": 0
      },
      "text/plain": [
       "Epoch 6:   0%|          | 0/7577 [00:00<?, ?it/s]"
      ]
     },
     "metadata": {},
     "output_type": "display_data"
    },
    {
     "name": "stdout",
     "output_type": "stream",
     "text": [
      "\n",
      "Epoch 6\n",
      "Training loss: 0.0003706259498271788\n",
      "Validation loss: 0.00010064730312851914\n",
      "F1 Score (weighted): 1.0\n",
      "\u001b[92m39.56% Training loss decreased compared to the previous epoch\u001b[0m\n",
      "\u001b[92m0.0% Validation loss decreased compared to the previous epoch\u001b[0m\n"
     ]
    },
    {
     "data": {
      "application/vnd.jupyter.widget-view+json": {
       "model_id": "",
       "version_major": 2,
       "version_minor": 0
      },
      "text/plain": [
       "Epoch 7:   0%|          | 0/7577 [00:00<?, ?it/s]"
      ]
     },
     "metadata": {},
     "output_type": "display_data"
    },
    {
     "name": "stdout",
     "output_type": "stream",
     "text": [
      "\n",
      "Epoch 7\n",
      "Training loss: 0.0006802252717790318\n",
      "Validation loss: 0.00010064730818471425\n",
      "F1 Score (weighted): 1.0\n",
      "\u001b[91m83.53% Training loss increased compared to the previous epoch\u001b[0m\n",
      "\u001b[91m0.0% Validation loss increased compared to the previous epoch\u001b[0m\n"
     ]
    },
    {
     "data": {
      "application/vnd.jupyter.widget-view+json": {
       "model_id": "",
       "version_major": 2,
       "version_minor": 0
      },
      "text/plain": [
       "Epoch 8:   0%|          | 0/7577 [00:00<?, ?it/s]"
      ]
     },
     "metadata": {},
     "output_type": "display_data"
    },
    {
     "name": "stdout",
     "output_type": "stream",
     "text": [
      "\n",
      "Epoch 8\n",
      "Training loss: 0.0005672515259040995\n",
      "Validation loss: 0.00010064730565681923\n",
      "F1 Score (weighted): 1.0\n",
      "\u001b[92m16.61% Training loss decreased compared to the previous epoch\u001b[0m\n",
      "\u001b[92m0.0% Validation loss decreased compared to the previous epoch\u001b[0m\n"
     ]
    },
    {
     "data": {
      "application/vnd.jupyter.widget-view+json": {
       "model_id": "",
       "version_major": 2,
       "version_minor": 0
      },
      "text/plain": [
       "Epoch 9:   0%|          | 0/7577 [00:00<?, ?it/s]"
      ]
     },
     "metadata": {},
     "output_type": "display_data"
    },
    {
     "name": "stdout",
     "output_type": "stream",
     "text": [
      "\n",
      "Epoch 9\n",
      "Training loss: 0.0006589744225337439\n",
      "Validation loss: 0.00010064730565665045\n",
      "F1 Score (weighted): 1.0\n",
      "\u001b[91m16.17% Training loss increased compared to the previous epoch\u001b[0m\n",
      "\u001b[92m0.0% Validation loss decreased compared to the previous epoch\u001b[0m\n"
     ]
    },
    {
     "data": {
      "application/vnd.jupyter.widget-view+json": {
       "model_id": "",
       "version_major": 2,
       "version_minor": 0
      },
      "text/plain": [
       "Epoch 10:   0%|          | 0/7577 [00:00<?, ?it/s]"
      ]
     },
     "metadata": {},
     "output_type": "display_data"
    },
    {
     "name": "stdout",
     "output_type": "stream",
     "text": [
      "\n",
      "Epoch 10\n",
      "Training loss: 0.00042815337686914463\n",
      "Validation loss: 0.00010064730060013468\n",
      "F1 Score (weighted): 1.0\n",
      "\u001b[92m35.03% Training loss decreased compared to the previous epoch\u001b[0m\n",
      "\u001b[92m0.0% Validation loss decreased compared to the previous epoch\u001b[0m\n"
     ]
    },
    {
     "data": {
      "application/vnd.jupyter.widget-view+json": {
       "model_id": "",
       "version_major": 2,
       "version_minor": 0
      },
      "text/plain": [
       "Epoch 11:   0%|          | 0/7577 [00:00<?, ?it/s]"
      ]
     },
     "metadata": {},
     "output_type": "display_data"
    },
    {
     "name": "stdout",
     "output_type": "stream",
     "text": [
      "\n",
      "Epoch 11\n",
      "Training loss: 0.0003798505579924724\n",
      "Validation loss: 0.00010064730565703863\n",
      "F1 Score (weighted): 1.0\n",
      "\u001b[92m11.28% Training loss decreased compared to the previous epoch\u001b[0m\n",
      "\u001b[91m0.0% Validation loss increased compared to the previous epoch\u001b[0m\n"
     ]
    },
    {
     "data": {
      "application/vnd.jupyter.widget-view+json": {
       "model_id": "",
       "version_major": 2,
       "version_minor": 0
      },
      "text/plain": [
       "Epoch 12:   0%|          | 0/7577 [00:00<?, ?it/s]"
      ]
     },
     "metadata": {},
     "output_type": "display_data"
    },
    {
     "name": "stdout",
     "output_type": "stream",
     "text": [
      "\n",
      "Epoch 12\n",
      "Training loss: 0.0007258367375979221\n",
      "Validation loss: 0.00010064730565649855\n",
      "F1 Score (weighted): 1.0\n",
      "\u001b[91m91.08% Training loss increased compared to the previous epoch\u001b[0m\n",
      "\u001b[92m0.0% Validation loss decreased compared to the previous epoch\u001b[0m\n"
     ]
    },
    {
     "data": {
      "application/vnd.jupyter.widget-view+json": {
       "model_id": "",
       "version_major": 2,
       "version_minor": 0
      },
      "text/plain": [
       "Epoch 13:   0%|          | 0/7577 [00:00<?, ?it/s]"
      ]
     },
     "metadata": {},
     "output_type": "display_data"
    },
    {
     "name": "stdout",
     "output_type": "stream",
     "text": [
      "\n",
      "Epoch 13\n",
      "Training loss: 0.0005079790899867743\n",
      "Validation loss: 0.00010064730312821535\n",
      "F1 Score (weighted): 1.0\n",
      "\u001b[92m30.01% Training loss decreased compared to the previous epoch\u001b[0m\n",
      "\u001b[92m0.0% Validation loss decreased compared to the previous epoch\u001b[0m\n"
     ]
    },
    {
     "data": {
      "application/vnd.jupyter.widget-view+json": {
       "model_id": "",
       "version_major": 2,
       "version_minor": 0
      },
      "text/plain": [
       "Epoch 14:   0%|          | 0/7577 [00:00<?, ?it/s]"
      ]
     },
     "metadata": {},
     "output_type": "display_data"
    },
    {
     "name": "stdout",
     "output_type": "stream",
     "text": [
      "\n",
      "Epoch 14\n",
      "Training loss: 0.000395556596353869\n",
      "Validation loss: 0.00010064730060042159\n",
      "F1 Score (weighted): 1.0\n",
      "\u001b[92m22.13% Training loss decreased compared to the previous epoch\u001b[0m\n",
      "\u001b[92m0.0% Validation loss decreased compared to the previous epoch\u001b[0m\n"
     ]
    },
    {
     "data": {
      "application/vnd.jupyter.widget-view+json": {
       "model_id": "",
       "version_major": 2,
       "version_minor": 0
      },
      "text/plain": [
       "Epoch 15:   0%|          | 0/7577 [00:00<?, ?it/s]"
      ]
     },
     "metadata": {},
     "output_type": "display_data"
    },
    {
     "name": "stdout",
     "output_type": "stream",
     "text": [
      "\n",
      "Epoch 15\n",
      "Training loss: 0.0007015678020420278\n",
      "Validation loss: 0.00010064730312863729\n",
      "F1 Score (weighted): 1.0\n",
      "\u001b[91m77.36% Training loss increased compared to the previous epoch\u001b[0m\n",
      "\u001b[91m0.0% Validation loss increased compared to the previous epoch\u001b[0m\n"
     ]
    },
    {
     "data": {
      "application/vnd.jupyter.widget-view+json": {
       "model_id": "",
       "version_major": 2,
       "version_minor": 0
      },
      "text/plain": [
       "Epoch 16:   0%|          | 0/7577 [00:00<?, ?it/s]"
      ]
     },
     "metadata": {},
     "output_type": "display_data"
    },
    {
     "name": "stdout",
     "output_type": "stream",
     "text": [
      "\n",
      "Epoch 16\n",
      "Training loss: 0.0003315071471479174\n",
      "Validation loss: 0.00010064730312850227\n",
      "F1 Score (weighted): 1.0\n",
      "\u001b[92m52.75% Training loss decreased compared to the previous epoch\u001b[0m\n",
      "\u001b[92m0.0% Validation loss decreased compared to the previous epoch\u001b[0m\n"
     ]
    },
    {
     "data": {
      "application/vnd.jupyter.widget-view+json": {
       "model_id": "",
       "version_major": 2,
       "version_minor": 0
      },
      "text/plain": [
       "Epoch 17:   0%|          | 0/7577 [00:00<?, ?it/s]"
      ]
     },
     "metadata": {},
     "output_type": "display_data"
    },
    {
     "name": "stdout",
     "output_type": "stream",
     "text": [
      "\n",
      "Epoch 17\n",
      "Training loss: 0.00039130029044392653\n",
      "Validation loss: 0.00010064730060030345\n",
      "F1 Score (weighted): 1.0\n",
      "\u001b[91m18.04% Training loss increased compared to the previous epoch\u001b[0m\n",
      "\u001b[92m0.0% Validation loss decreased compared to the previous epoch\u001b[0m\n"
     ]
    },
    {
     "data": {
      "application/vnd.jupyter.widget-view+json": {
       "model_id": "",
       "version_major": 2,
       "version_minor": 0
      },
      "text/plain": [
       "Epoch 18:   0%|          | 0/7577 [00:00<?, ?it/s]"
      ]
     },
     "metadata": {},
     "output_type": "display_data"
    },
    {
     "name": "stdout",
     "output_type": "stream",
     "text": [
      "\n",
      "Epoch 18\n",
      "Training loss: 0.0007748755889608242\n",
      "Validation loss: 0.00010064730060043848\n",
      "F1 Score (weighted): 1.0\n",
      "\u001b[91m98.03% Training loss increased compared to the previous epoch\u001b[0m\n",
      "\u001b[91m0.0% Validation loss increased compared to the previous epoch\u001b[0m\n"
     ]
    },
    {
     "data": {
      "application/vnd.jupyter.widget-view+json": {
       "model_id": "",
       "version_major": 2,
       "version_minor": 0
      },
      "text/plain": [
       "Epoch 19:   0%|          | 0/7577 [00:00<?, ?it/s]"
      ]
     },
     "metadata": {},
     "output_type": "display_data"
    },
    {
     "name": "stdout",
     "output_type": "stream",
     "text": [
      "\n",
      "Epoch 19\n",
      "Training loss: 0.0003558997914249023\n",
      "Validation loss: 0.0001006473031285529\n",
      "F1 Score (weighted): 1.0\n",
      "\u001b[92m54.07% Training loss decreased compared to the previous epoch\u001b[0m\n",
      "\u001b[91m0.0% Validation loss increased compared to the previous epoch\u001b[0m\n"
     ]
    },
    {
     "data": {
      "application/vnd.jupyter.widget-view+json": {
       "model_id": "",
       "version_major": 2,
       "version_minor": 0
      },
      "text/plain": [
       "Epoch 20:   0%|          | 0/7577 [00:00<?, ?it/s]"
      ]
     },
     "metadata": {},
     "output_type": "display_data"
    },
    {
     "name": "stdout",
     "output_type": "stream",
     "text": [
      "\n",
      "Epoch 20\n",
      "Training loss: 0.0004274540245268507\n",
      "Validation loss: 0.00010064730818493366\n",
      "F1 Score (weighted): 1.0\n",
      "\u001b[91m20.11% Training loss increased compared to the previous epoch\u001b[0m\n",
      "\u001b[91m0.0% Validation loss increased compared to the previous epoch\u001b[0m\n",
      "\n",
      "Early stopping triggered. Training stopped.\n",
      "\n",
      "Total training time: 260.21837748289107 minutes\n",
      "Final Accuracy: 1.0\n",
      "Final Precision: 1.0\n"
     ]
    },
    {
     "data": {
      "image/png": "[encoded data removed]",
      "text/plain": [
       "<Figure size 800x600 with 1 Axes>"
      ]
     },
     "metadata": {},
     "output_type": "display_data"
    },
    {
     "name": "stdout",
     "output_type": "stream",
     "text": [
      "Epoch                 Training Loss           Validation Loss         F1 Score    Accuracy      Precision\n",
      "--------------------  ----------------------  ----------------------  ----------  ----------  -----------\n",
      "1                     0.0004438017826298444   0.00010064730060038784  1.0         1.0               1\n",
      "2                     \u001b[91m0.000571738600914862\u001b[0m    \u001b[91m0.00010064730565668421\u001b[0m  1.0         1.0               1\n",
      "3                     \u001b[91m0.0006358525832670762\u001b[0m   \u001b[92m0.00010064730312850227\u001b[0m  1.0         1.0               1\n",
      "4                     \u001b[92m0.0005322355047336278\u001b[0m   \u001b[92m0.00010064730060023595\u001b[0m  1.0         1.0               1\n",
      "5                     \u001b[91m0.0006132520149711364\u001b[0m   \u001b[91m0.0001006473081846805\u001b[0m   1.0         1.0               1\n",
      "6                     \u001b[92m0.0003706259498271788\u001b[0m   \u001b[92m0.00010064730312851914\u001b[0m  1.0         1.0               1\n",
      "7                     \u001b[91m0.0006802252717790318\u001b[0m   \u001b[91m0.00010064730818471425\u001b[0m  1.0         1.0               1\n",
      "8                     \u001b[92m0.0005672515259040995\u001b[0m   \u001b[92m0.00010064730565681923\u001b[0m  1.0         1.0               1\n",
      "9                     \u001b[91m0.0006589744225337439\u001b[0m   \u001b[92m0.00010064730565665045\u001b[0m  1.0         1.0               1\n",
      "10                    \u001b[92m0.00042815337686914463\u001b[0m  \u001b[92m0.00010064730060013468\u001b[0m  1.0         1.0               1\n",
      "11                    \u001b[92m0.0003798505579924724\u001b[0m   \u001b[91m0.00010064730565703863\u001b[0m  1.0         1.0               1\n",
      "12                    \u001b[91m0.0007258367375979221\u001b[0m   \u001b[92m0.00010064730565649855\u001b[0m  1.0         1.0               1\n",
      "13                    \u001b[92m0.0005079790899867743\u001b[0m   \u001b[92m0.00010064730312821535\u001b[0m  1.0         1.0               1\n",
      "14                    \u001b[92m0.000395556596353869\u001b[0m    \u001b[92m0.00010064730060042159\u001b[0m  1.0         1.0               1\n",
      "15                    \u001b[91m0.0007015678020420278\u001b[0m   \u001b[91m0.00010064730312863729\u001b[0m  1.0         1.0               1\n",
      "16                    \u001b[92m0.0003315071471479174\u001b[0m   \u001b[92m0.00010064730312850227\u001b[0m  1.0         1.0               1\n",
      "17                    \u001b[91m0.00039130029044392653\u001b[0m  \u001b[92m0.00010064730060030345\u001b[0m  1.0         1.0               1\n",
      "18                    \u001b[91m0.0007748755889608242\u001b[0m   \u001b[91m0.00010064730060043848\u001b[0m  1.0         1.0               1\n",
      "19                    \u001b[92m0.0003558997914249023\u001b[0m   \u001b[91m0.0001006473031285529\u001b[0m   1.0         1.0               1\n",
      "20                    \u001b[91m0.0004274540245268507\u001b[0m   \u001b[91m0.00010064730818493366\u001b[0m  1.0         1.0               1\n",
      "Total Training Time                                                                             15613.1\n",
      "Final Precision                                                                                     1\n",
      "Total Time (minutes)                                                                              260.218\n",
      "\n",
      "Fold 10\n"
     ]
    },
    {
     "data": {
      "application/vnd.jupyter.widget-view+json": {
       "model_id": "411cc14ccb7a4d51a71d01a5daef166e",
       "version_major": 2,
       "version_minor": 0
      },
      "text/plain": [
       "  0%|          | 0/50 [00:00<?, ?it/s]"
      ]
     },
     "metadata": {},
     "output_type": "display_data"
    },
    {
     "data": {
      "application/vnd.jupyter.widget-view+json": {
       "model_id": "",
       "version_major": 2,
       "version_minor": 0
      },
      "text/plain": [
       "Epoch 1:   0%|          | 0/7577 [00:00<?, ?it/s]"
      ]
     },
     "metadata": {},
     "output_type": "display_data"
    },
    {
     "name": "stdout",
     "output_type": "stream",
     "text": [
      "\n",
      "Epoch 1\n",
      "Training loss: 0.0007181679614054801\n",
      "Validation loss: 0.0001898640891865071\n",
      "F1 Score (weighted): 0.9998515020102231\n"
     ]
    },
    {
     "data": {
      "application/vnd.jupyter.widget-view+json": {
       "model_id": "",
       "version_major": 2,
       "version_minor": 0
      },
      "text/plain": [
       "Epoch 2:   0%|          | 0/7577 [00:00<?, ?it/s]"
      ]
     },
     "metadata": {},
     "output_type": "display_data"
    },
    {
     "name": "stdout",
     "output_type": "stream",
     "text": [
      "\n",
      "Epoch 2\n",
      "Training loss: 0.0003969865798923899\n",
      "Validation loss: 0.0001898640832873315\n",
      "F1 Score (weighted): 0.9998515020102231\n",
      "\u001b[92m44.72% Training loss decreased compared to the previous epoch\u001b[0m\n",
      "\u001b[92m0.0% Validation loss decreased compared to the previous epoch\u001b[0m\n"
     ]
    },
    {
     "data": {
      "application/vnd.jupyter.widget-view+json": {
       "model_id": "",
       "version_major": 2,
       "version_minor": 0
      },
      "text/plain": [
       "Epoch 3:   0%|          | 0/7577 [00:00<?, ?it/s]"
      ]
     },
     "metadata": {},
     "output_type": "display_data"
    },
    {
     "name": "stdout",
     "output_type": "stream",
     "text": [
      "\n",
      "Epoch 3\n",
      "Training loss: 0.00012138827780689146\n",
      "Validation loss: 0.00018986408328706148\n",
      "F1 Score (weighted): 0.9998515020102231\n",
      "\u001b[92m69.42% Training loss decreased compared to the previous epoch\u001b[0m\n",
      "\u001b[92m0.0% Validation loss decreased compared to the previous epoch\u001b[0m\n"
     ]
    },
    {
     "data": {
      "application/vnd.jupyter.widget-view+json": {
       "model_id": "",
       "version_major": 2,
       "version_minor": 0
      },
      "text/plain": [
       "Epoch 4:   0%|          | 0/7577 [00:00<?, ?it/s]"
      ]
     },
     "metadata": {},
     "output_type": "display_data"
    },
    {
     "name": "stdout",
     "output_type": "stream",
     "text": [
      "\n",
      "Epoch 4\n",
      "Training loss: 0.00031526530925377234\n",
      "Validation loss: 0.00018986409508566578\n",
      "F1 Score (weighted): 0.9998515020102231\n",
      "\u001b[91m159.72% Training loss increased compared to the previous epoch\u001b[0m\n",
      "\u001b[91m0.0% Validation loss increased compared to the previous epoch\u001b[0m\n"
     ]
    },
    {
     "data": {
      "application/vnd.jupyter.widget-view+json": {
       "model_id": "",
       "version_major": 2,
       "version_minor": 0
      },
      "text/plain": [
       "Epoch 5:   0%|          | 0/7577 [00:00<?, ?it/s]"
      ]
     },
     "metadata": {},
     "output_type": "display_data"
    },
    {
     "name": "stdout",
     "output_type": "stream",
     "text": [
      "\n",
      "Epoch 5\n",
      "Training loss: 0.00020650976573560655\n",
      "Validation loss: 0.00018986408918630457\n",
      "F1 Score (weighted): 0.9998515020102231\n",
      "\u001b[92m34.5% Training loss decreased compared to the previous epoch\u001b[0m\n",
      "\u001b[92m0.0% Validation loss decreased compared to the previous epoch\u001b[0m\n"
     ]
    },
    {
     "data": {
      "application/vnd.jupyter.widget-view+json": {
       "model_id": "",
       "version_major": 2,
       "version_minor": 0
      },
      "text/plain": [
       "Epoch 6:   0%|          | 0/7577 [00:00<?, ?it/s]"
      ]
     },
     "metadata": {},
     "output_type": "display_data"
    },
    {
     "name": "stdout",
     "output_type": "stream",
     "text": [
      "\n",
      "Epoch 6\n",
      "Training loss: 0.0002885210398638753\n",
      "Validation loss: 0.0001898640891864902\n",
      "F1 Score (weighted): 0.9998515020102231\n",
      "\u001b[91m39.71% Training loss increased compared to the previous epoch\u001b[0m\n",
      "\u001b[91m0.0% Validation loss increased compared to the previous epoch\u001b[0m\n"
     ]
    },
    {
     "data": {
      "application/vnd.jupyter.widget-view+json": {
       "model_id": "",
       "version_major": 2,
       "version_minor": 0
      },
      "text/plain": [
       "Epoch 7:   0%|          | 0/7577 [00:00<?, ?it/s]"
      ]
     },
     "metadata": {},
     "output_type": "display_data"
    },
    {
     "name": "stdout",
     "output_type": "stream",
     "text": [
      "\n",
      "Epoch 7\n",
      "Training loss: 0.0002501841127246807\n",
      "Validation loss: 0.00018986409508554765\n",
      "F1 Score (weighted): 0.9998515020102231\n",
      "\u001b[92m13.29% Training loss decreased compared to the previous epoch\u001b[0m\n",
      "\u001b[91m0.0% Validation loss increased compared to the previous epoch\u001b[0m\n"
     ]
    },
    {
     "data": {
      "application/vnd.jupyter.widget-view+json": {
       "model_id": "",
       "version_major": 2,
       "version_minor": 0
      },
      "text/plain": [
       "Epoch 8:   0%|          | 0/7577 [00:00<?, ?it/s]"
      ]
     },
     "metadata": {},
     "output_type": "display_data"
    },
    {
     "name": "stdout",
     "output_type": "stream",
     "text": [
      "\n",
      "Epoch 8\n",
      "Training loss: 0.0004871084538644915\n",
      "Validation loss: 0.00018986408328743276\n",
      "F1 Score (weighted): 0.9998515020102231\n",
      "\u001b[91m94.7% Training loss increased compared to the previous epoch\u001b[0m\n",
      "\u001b[92m0.0% Validation loss decreased compared to the previous epoch\u001b[0m\n"
     ]
    },
    {
     "data": {
      "application/vnd.jupyter.widget-view+json": {
       "model_id": "",
       "version_major": 2,
       "version_minor": 0
      },
      "text/plain": [
       "Epoch 9:   0%|          | 0/7577 [00:00<?, ?it/s]"
      ]
     },
     "metadata": {},
     "output_type": "display_data"
    },
    {
     "name": "stdout",
     "output_type": "stream",
     "text": [
      "\n",
      "Epoch 9\n",
      "Training loss: 0.000239543595596673\n",
      "Validation loss: 0.00018986408918632142\n",
      "F1 Score (weighted): 0.9998515020102231\n",
      "\u001b[92m50.82% Training loss decreased compared to the previous epoch\u001b[0m\n",
      "\u001b[91m0.0% Validation loss increased compared to the previous epoch\u001b[0m\n"
     ]
    },
    {
     "data": {
      "application/vnd.jupyter.widget-view+json": {
       "model_id": "",
       "version_major": 2,
       "version_minor": 0
      },
      "text/plain": [
       "Epoch 10:   0%|          | 0/7577 [00:00<?, ?it/s]"
      ]
     },
     "metadata": {},
     "output_type": "display_data"
    },
    {
     "name": "stdout",
     "output_type": "stream",
     "text": [
      "\n",
      "Epoch 10\n",
      "Training loss: 0.0003043404858738522\n",
      "Validation loss: 0.00018986408918638894\n",
      "F1 Score (weighted): 0.9998515020102231\n",
      "\u001b[91m27.05% Training loss increased compared to the previous epoch\u001b[0m\n",
      "\u001b[91m0.0% Validation loss increased compared to the previous epoch\u001b[0m\n"
     ]
    },
    {
     "data": {
      "application/vnd.jupyter.widget-view+json": {
       "model_id": "",
       "version_major": 2,
       "version_minor": 0
      },
      "text/plain": [
       "Epoch 11:   0%|          | 0/7577 [00:00<?, ?it/s]"
      ]
     },
     "metadata": {},
     "output_type": "display_data"
    },
    {
     "name": "stdout",
     "output_type": "stream",
     "text": [
      "\n",
      "Epoch 11\n",
      "Training loss: 0.0003108531200856861\n",
      "Validation loss: 0.00018986408328760154\n",
      "F1 Score (weighted): 0.9998515020102231\n",
      "\u001b[91m2.14% Training loss increased compared to the previous epoch\u001b[0m\n",
      "\u001b[92m0.0% Validation loss decreased compared to the previous epoch\u001b[0m\n"
     ]
    },
    {
     "data": {
      "application/vnd.jupyter.widget-view+json": {
       "model_id": "",
       "version_major": 2,
       "version_minor": 0
      },
      "text/plain": [
       "Epoch 12:   0%|          | 0/7577 [00:00<?, ?it/s]"
      ]
     },
     "metadata": {},
     "output_type": "display_data"
    },
    {
     "name": "stdout",
     "output_type": "stream",
     "text": [
      "\n",
      "Epoch 12\n",
      "Training loss: 0.0005647755326816366\n",
      "Validation loss: 0.00018986408328739901\n",
      "F1 Score (weighted): 0.9998515020102231\n",
      "\u001b[91m81.69% Training loss increased compared to the previous epoch\u001b[0m\n",
      "\u001b[92m0.0% Validation loss decreased compared to the previous epoch\u001b[0m\n"
     ]
    },
    {
     "data": {
      "application/vnd.jupyter.widget-view+json": {
       "model_id": "",
       "version_major": 2,
       "version_minor": 0
      },
      "text/plain": [
       "Epoch 13:   0%|          | 0/7577 [00:00<?, ?it/s]"
      ]
     },
     "metadata": {},
     "output_type": "display_data"
    },
    {
     "name": "stdout",
     "output_type": "stream",
     "text": [
      "\n",
      "Epoch 13\n",
      "Training loss: 0.00018510781942366857\n",
      "Validation loss: 0.00018986408328744965\n",
      "F1 Score (weighted): 0.9998515020102231\n",
      "\u001b[92m67.22% Training loss decreased compared to the previous epoch\u001b[0m\n",
      "\u001b[91m0.0% Validation loss increased compared to the previous epoch\u001b[0m\n",
      "\n",
      "Early stopping triggered. Training stopped.\n",
      "\n",
      "Total training time: 168.55146065155665 minutes\n",
      "Final Accuracy: 0.9998514998514999\n",
      "Final Precision: 0.9998515486841696\n"
     ]
    },
    {
     "data": {
      "image/png": "[encoded data removed]",
      "text/plain": [
       "<Figure size 800x600 with 1 Axes>"
      ]
     },
     "metadata": {},
     "output_type": "display_data"
    },
    {
     "name": "stdout",
     "output_type": "stream",
     "text": [
      "Epoch                 Training Loss           Validation Loss         F1 Score            Accuracy               Precision\n",
      "--------------------  ----------------------  ----------------------  ------------------  ------------------  ------------\n",
      "1                     0.0007181679614054801   0.0001898640891865071   0.9998515020102231  0.9998514998514999      0.999852\n",
      "2                     \u001b[92m0.0003969865798923899\u001b[0m   \u001b[92m0.0001898640832873315\u001b[0m   0.9998515020102231  \u001b[91m0.9998515020102231\u001b[0m      \u001b[92m0.999852\u001b[0m\n",
      "3                     \u001b[92m0.00012138827780689146\u001b[0m  \u001b[92m0.00018986408328706148\u001b[0m  0.9998515020102231  \u001b[91m0.9998515020102231\u001b[0m      \u001b[92m0.999852\u001b[0m\n",
      "4                     \u001b[91m0.00031526530925377234\u001b[0m  \u001b[91m0.00018986409508566578\u001b[0m  0.9998515020102231  \u001b[91m0.9998515020102231\u001b[0m      \u001b[92m0.999852\u001b[0m\n",
      "5                     \u001b[92m0.00020650976573560655\u001b[0m  \u001b[92m0.00018986408918630457\u001b[0m  0.9998515020102231  \u001b[91m0.9998515020102231\u001b[0m      \u001b[92m0.999852\u001b[0m\n",
      "6                     \u001b[91m0.0002885210398638753\u001b[0m   \u001b[91m0.0001898640891864902\u001b[0m   0.9998515020102231  \u001b[91m0.9998515020102231\u001b[0m      \u001b[92m0.999852\u001b[0m\n",
      "7                     \u001b[92m0.0002501841127246807\u001b[0m   \u001b[91m0.00018986409508554765\u001b[0m  0.9998515020102231  \u001b[91m0.9998515020102231\u001b[0m      \u001b[92m0.999852\u001b[0m\n",
      "8                     \u001b[91m0.0004871084538644915\u001b[0m   \u001b[92m0.00018986408328743276\u001b[0m  0.9998515020102231  \u001b[91m0.9998515020102231\u001b[0m      \u001b[92m0.999852\u001b[0m\n",
      "9                     \u001b[92m0.000239543595596673\u001b[0m    \u001b[91m0.00018986408918632142\u001b[0m  0.9998515020102231  \u001b[91m0.9998515020102231\u001b[0m      \u001b[92m0.999852\u001b[0m\n",
      "10                    \u001b[91m0.0003043404858738522\u001b[0m   \u001b[91m0.00018986408918638894\u001b[0m  0.9998515020102231  \u001b[91m0.9998515020102231\u001b[0m      \u001b[92m0.999852\u001b[0m\n",
      "11                    \u001b[91m0.0003108531200856861\u001b[0m   \u001b[92m0.00018986408328760154\u001b[0m  0.9998515020102231  \u001b[91m0.9998515020102231\u001b[0m      \u001b[92m0.999852\u001b[0m\n",
      "12                    \u001b[91m0.0005647755326816366\u001b[0m   \u001b[92m0.00018986408328739901\u001b[0m  0.9998515020102231  \u001b[91m0.9998515020102231\u001b[0m      \u001b[92m0.999852\u001b[0m\n",
      "13                    \u001b[92m0.00018510781942366857\u001b[0m  \u001b[91m0.00018986408328744965\u001b[0m  0.9998515020102231  \u001b[91m0.9998515020102231\u001b[0m      \u001b[92m0.999852\u001b[0m\n",
      "Total Training Time                                                                                           10113.1\n",
      "Final Precision                                                                                                   0.999852\n",
      "Total Time (minutes)                                                                                            168.551\n"
     ]
    }
   ],
   "source": [
    "from torch.utils.data import DataLoader, SubsetRandomSampler\n",
    "from sklearn.model_selection import KFold\n",
    "\n",
    "k = 10  # Number of folds\n",
    "kf = KFold(n_splits=k, shuffle=True, random_state=42)\n",
    "\n",
    "# Initialize lists to store the evaluation metrics for each fold\n",
    "training_loss_lists = []\n",
    "validation_loss_lists = []\n",
    "accuracy_lists = []\n",
    "precision_lists = []\n",
    "f1_score_lists = []\n",
    "\n",
    "# Convert the multilabel indicator target to numpy array\n",
    "targets = dataset_train.tensors[1].numpy()\n",
    "\n",
    "# Perform multilabel k-fold cross-validation\n",
    "for fold, (train_index, val_index) in enumerate(kf.split(targets)):\n",
    "    print(f\"\\nFold {fold+1}\")\n",
    "    train_sampler = SubsetRandomSampler(train_index)\n",
    "    val_sampler = SubsetRandomSampler(val_index)\n",
    "\n",
    "    # Create data loaders for training and validation\n",
    "    dataloader_train = DataLoader(dataset_train, batch_size=batch_size, sampler=train_sampler)\n",
    "    dataloader_vals = DataLoader(dataset_train, batch_size=batch_size, sampler=val_sampler)\n",
    "\n",
    "    # train_model(trainer, dataloader_train, dataloader_val, epochs, patience)\n",
    "\n",
    "    try:\n",
    "        train_model(trainer, dataloader_train, dataloader_vals, epochs, patience)\n",
    "    except Exception as e:\n",
    "        print(f\"Continue to the next fold {fold+1}: {str(e)}\")\n",
    "        continue"
   ]
  },
  {
   "cell_type": "code",
   "execution_count": 29,
   "id": "f24429e4-743b-4a11-80d6-5e2fadaabc9e",
   "metadata": {},
   "outputs": [
    {
     "name": "stdout",
     "output_type": "stream",
     "text": [
      "Class: 0\n",
      "Accuracy: 378/428 (88.32%)\n",
      "\n",
      "Class: 1\n",
      "Accuracy: 400/444 (90.09%)\n",
      "\n"
     ]
    },
    {
     "data": {
      "image/png": "[encoded data removed]",
      "text/plain": [
       "<Figure size 1000x800 with 2 Axes>"
      ]
     },
     "metadata": {},
     "output_type": "display_data"
    }
   ],
   "source": [
    "model.load_state_dict(\n",
    "    torch.load(\n",
    "        \"Models/finetuned_gpt_bert_sst2_ft_epoch20.model\", \n",
    "        map_location = torch.device('cuda')\n",
    "    )\n",
    ")\n",
    "_, predictions, true_vals = evaluate(dataloader_val)\n",
    "accuracy_per_class(predictions, true_vals, label_dict)"
   ]
  },
  {
   "cell_type": "code",
   "execution_count": null,
   "id": "09fc9847-a125-4289-b071-7ab7d888df5a",
   "metadata": {},
   "outputs": [],
   "source": []
  }
 ],
 "metadata": {
  "kernelspec": {
   "display_name": "Python 3 (ipykernel)",
   "language": "python",
   "name": "python3"
  },
  "language_info": {
   "codemirror_mode": {
    "name": "ipython",
    "version": 3
   },
   "file_extension": ".py",
   "mimetype": "text/x-python",
   "name": "python",
   "nbconvert_exporter": "python",
   "pygments_lexer": "ipython3",
   "version": "3.10.9"
  }
 },
 "nbformat": 4,
 "nbformat_minor": 5
}

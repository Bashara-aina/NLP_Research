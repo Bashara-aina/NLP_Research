{
 "cells": [
  {
   "cell_type": "code",
   "execution_count": 1,
   "id": "c5bf24e9-d40b-45ad-9330-405d0097fe2e",
   "metadata": {
    "tags": []
   },
   "outputs": [
    {
     "name": "stderr",
     "output_type": "stream",
     "text": [
      "2023-07-17 21:44:46.759080: I tensorflow/core/util/port.cc:110] oneDNN custom operations are on. You may see slightly different numerical results due to floating-point round-off errors from different computation orders. To turn them off, set the environment variable `TF_ENABLE_ONEDNN_OPTS=0`.\n",
      "2023-07-17 21:44:46.789767: I tensorflow/core/platform/cpu_feature_guard.cc:182] This TensorFlow binary is optimized to use available CPU instructions in performance-critical operations.\n",
      "To enable the following instructions: AVX2 AVX_VNNI FMA, in other operations, rebuild TensorFlow with the appropriate compiler flags.\n",
      "2023-07-17 21:44:47.255092: W tensorflow/compiler/tf2tensorrt/utils/py_utils.cc:38] TF-TRT Warning: Could not find TensorRT\n"
     ]
    }
   ],
   "source": [
    "import torch\n",
    "import torch.nn as nn\n",
    "import pandas as pd\n",
    "from tqdm.notebook import tqdm  # For displaying progress bars\n",
    "from datasets import load_dataset  # For loading datasets\n",
    "from sklearn.model_selection import train_test_split  # For splitting the dataset\n",
    "from transformers import BertTokenizer  # For tokenizing text\n",
    "from torch.utils.data import TensorDataset  # For creating Tensor datasets\n",
    "import time  # For measuring time\n",
    "from sklearn.metrics import accuracy_score, precision_score, f1_score, recall_score  # For evaluation metrics\n",
    "from sklearn.exceptions import UndefinedMetricWarning  # For handling metric warnings\n",
    "import matplotlib.pyplot as plt  # For plotting\n",
    "from tabulate import tabulate  # For tabular data formatting\n",
    "import random  # For randomization\n",
    "import numpy as np  # For numerical operations\n",
    "from transformers import (\n",
    "    BertTokenizer,  # Tokenizer for BERT models\n",
    "    AdamW,  # Optimizer for BERT models\n",
    "    get_linear_schedule_with_warmup,  # Learning rate scheduler for BERT models\n",
    "    BertConfig,  # Configuration for BERT models\n",
    "    BertForSequenceClassification  # BERT model for sequence classification tasks\n",
    ")\n",
    "from torch.utils.data import (\n",
    "    DataLoader,  # Data loader for creating batches\n",
    "    RandomSampler,  # Sampler for random sampling of data\n",
    "    SequentialSampler  # Sampler for sequential sampling of data\n",
    ")\n",
    "from sklearn.metrics import f1_score  # For computing the F1 score\n",
    "\n",
    "# 1. Torch: PyTorch library for deep learning\n",
    "# 2. Pandas: Library for data manipulation and analysis\n",
    "# 3. tqdm: Library for displaying progress bars\n",
    "# 4. datasets: Library for working with datasets\n",
    "# 5. train_test_split: Function for splitting the dataset into training and validation sets\n",
    "# 6. BertTokenizer: Tokenizer for BERT models\n",
    "# 7. TensorDataset: Dataset class for creating PyTorch Tensor datasets\n",
    "# 8. time: Module for measuring time\n",
    "# 9. accuracy_score, precision_score, f1_score: Evaluation metrics for classification tasks\n",
    "# 10. UndefinedMetricWarning: Warning for undefined metric values\n",
    "# 11. matplotlib.pyplot: Plotting library\n",
    "# 12. tabulate: Library for formatting tabular data\n",
    "# 13. random: Module for randomization\n",
    "# 14. numpy: Library for numerical operations\n",
    "# 15. AdamW: Optimizer for BERT models\n",
    "# 16. get_linear_schedule_with_warmup: Learning rate scheduler for BERT models\n",
    "# 17. BertConfig: Configuration for BERT models\n",
    "# 18. BertForSequenceClassification: BERT model for sequence classification tasks\n",
    "# 19. DataLoader: Data loader for creating batches\n",
    "# 20. RandomSampler: Sampler for random sampling of data\n",
    "# 21. SequentialSampler: Sampler for sequential sampling of data\n",
    "# 22. f1_score: Function for computing the F1 score"
   ]
  },
  {
   "cell_type": "code",
   "execution_count": 2,
   "id": "207f2073-3da6-4185-917f-e8b3694617ed",
   "metadata": {},
   "outputs": [],
   "source": [
    "def data_imdb():\n",
    "    dataset = load_dataset(\"imdb\")\n",
    "    train_data = dataset['train']\n",
    "    test_data = dataset['test']\n",
    "\n",
    "    df_train = train_data.to_pandas()  # Convert the training dataset to a Pandas DataFrame\n",
    "    df_test = test_data.to_pandas()  # Convert the validation dataset to a Pandas DataFrame\n",
    "\n",
    "    df_train['sentiment'] = df_train['label'].map({0: 'bad', 1: 'good'})\n",
    "    df_test['sentiment'] = df_test['label'].map({0: 'bad', 1: 'good'})\n",
    "\n",
    "    possible_labels = df_train.sentiment.unique()  # Get unique category labels from the training DataFrame column 'category'\n",
    "\n",
    "    label_dict = {}  # Create a dictionary to map each possible label to a unique index\n",
    "    for index, possible_label in enumerate(possible_labels):\n",
    "        label_dict[possible_label] = index\n",
    "\n",
    "    df_train['label'] = df_train.sentiment.replace(label_dict)\n",
    "    df_test['label'] = df_test.sentiment.replace(label_dict)\n",
    "\n",
    "    df_train['data_type'] = 'train'  # Set the 'data_type' column to 'train' for training data\n",
    "    df_test['data_type'] = 'test'  # Set the 'data_type' column to 'val' for validation data\n",
    "\n",
    "    df = pd.concat([df_train, df_test], ignore_index=True)  # Merge the training and validation dataframes\n",
    "\n",
    "    return df\n",
    "\n",
    "\n",
    "def f1_score_func(preds, labels):\n",
    "    preds_flat = np.argmax(preds, axis=1).flatten() #This line finds the index with the highest probability in each prediction, effectively giving the predicted class for each input.\n",
    "    labels_flat = labels.flatten()  #This line flattens the labels array into a 1D vector, as required by the f1_score function.\n",
    "    return f1_score(labels_flat, preds_flat, average='weighted') #This line computes the F1 score using the true labels and the predicted labels, with the weighted averaging scheme. The result is returned.\n",
    "\n",
    "def accuracy_per_class(preds, labels, label_dict):\n",
    "    # Create a dictionary with keys and values reversed for easy lookup.\n",
    "    label_dict_inverse = {v: k for k, v in label_dict.items()}\n",
    "    \n",
    "    # Get the predicted labels and flatten them.\n",
    "    preds_flat = np.argmax(preds, axis=1).flatten()\n",
    "    \n",
    "    # Get the actual labels and flatten them.\n",
    "    labels_flat = labels.flatten()\n",
    "\n",
    "    # Initialize the confusion matrix.\n",
    "    num_classes = len(label_dict)\n",
    "    confusion_mat = confusion_matrix(labels_flat, preds_flat, labels=list(range(num_classes)))\n",
    "    \n",
    "    # Calculate accuracy and F1 score per class\n",
    "    accuracies = {}\n",
    "    f1_scores = {}\n",
    "    for label in range(num_classes):\n",
    "        # Calculate accuracy for this class\n",
    "        num_correct = confusion_mat[label, label]\n",
    "        num_instances = np.sum(confusion_mat[label, :])\n",
    "        accuracy = num_correct / num_instances * 100\n",
    "        accuracies[label] = accuracy\n",
    "        \n",
    "        # Calculate F1 score for this class\n",
    "        f1 = f1_score(labels_flat, preds_flat, labels=[label], average='weighted')\n",
    "        f1_scores[label] = f1\n",
    "\n",
    "        # Print the class name, accuracy numerator, and denominator.\n",
    "        class_name = label_dict_inverse[label]\n",
    "        print(f'Class: {class_name}')\n",
    "        print(f'Accuracy: {num_correct}/{num_instances} ({accuracy:.2f}%)')\n",
    "        print(f'F1 Score: {f1:.2f}\\n')\n",
    "\n",
    "    # Calculate total accuracy and F1 score\n",
    "    total_accuracy = accuracy_score(labels_flat, preds_flat) * 100\n",
    "    total_f1_score = f1_score(labels_flat, preds_flat, average='weighted')\n",
    "\n",
    "    # Print the total accuracy and F1 score\n",
    "    print(f'Total Accuracy: {total_accuracy:.2f}%')\n",
    "    print(f'Total F1 Score: {total_f1_score:.2f}')\n",
    "\n",
    "\n",
    "#This code evaluates the performance of a trained model on a validation dataset by computing its loss and predictions for each batch in the dataset.\n",
    "def evaluate(dataloader_val):\n",
    "\n",
    "    model.eval() # setting the model to evaluation mode to disable dropout and other regularization techniques that are useful during training but not during evaluation.\n",
    "    \n",
    "    loss_val_total = 0\n",
    "    predictions, true_vals = [], []\n",
    "    \n",
    "    for batch in dataloader_val:\n",
    "    \n",
    "        batch = tuple(b.to(device) for b in batch) # moving the input batch to the GPU for faster computation.\n",
    "   \n",
    "        #  creating a dictionary of inputs that will be passed to the model. The input IDs and attention mask are for the BERT model, and the labels are the true labels for each input.\n",
    "        inputs = {'input_ids':  \tbatch[0],\n",
    "                'attention_mask': batch[1],\n",
    "                'labels':     \tbatch[2],\n",
    "                } \n",
    "\n",
    "        with torch.no_grad():   \n",
    "            outputs = model(**inputs)\n",
    "        \n",
    "        loss = outputs[0]\n",
    "        logits = outputs[1]\n",
    "        loss_val_total += loss.item()\n",
    "\n",
    "        logits = logits.detach().cpu().numpy()\n",
    "        label_ids = inputs['labels'].cpu().numpy()\n",
    "        predictions.append(logits)\n",
    "        true_vals.append(label_ids)\n",
    "    \n",
    "    loss_val_avg = loss_val_total/len(dataloader_val)\n",
    "    \n",
    "    predictions = np.concatenate(predictions, axis=0)\n",
    "    true_vals = np.concatenate(true_vals, axis=0)\n",
    "       \t \n",
    "    return loss_val_avg, predictions, true_vals\n",
    "\n",
    "def train_model(trainer, dataloader_train, dataloader_val, epochs, patience):\n",
    "    total_training_time = 0\n",
    "    \n",
    "    training_loss_list = []\n",
    "    validation_loss_list = []\n",
    "    accuracy_list = []\n",
    "    precision_list = []\n",
    "    f1_score_list = []\n",
    "    \n",
    "    previous_results = None  # Store previous epoch results\n",
    "    best_val_loss = float('inf')\n",
    "    counter = 0\n",
    "    \n",
    "    for epoch in tqdm(range(1, epochs + 1)):\n",
    "        start_time = time.time()\n",
    "    \n",
    "        model.train()\n",
    "        loss_train_total = 0\n",
    "    \n",
    "        progress_bar = tqdm(dataloader_train,\n",
    "                            desc='Epoch {:1d}'.format(epoch),\n",
    "                            leave=False,\n",
    "                            disable=False)\n",
    "        for batch in progress_bar:\n",
    "            model.zero_grad()\n",
    "            batch = tuple(b.to(device) for b in batch)\n",
    "            inputs = {\n",
    "                'input_ids': batch[0],\n",
    "                'attention_mask': batch[1],\n",
    "                'labels': batch[2],\n",
    "            }\n",
    "            output = model(**inputs)\n",
    "            loss = output[0]\n",
    "            loss_train_total += loss.item()\n",
    "            loss.backward()\n",
    "            torch.nn.utils.clip_grad_norm_(model.parameters(), 1.0)\n",
    "            optimizer.step()\n",
    "            scheduler.step()\n",
    "            progress_bar.set_postfix({'training_loss': '{:.3f}'.format(loss.item() / len(batch))})\n",
    "    \n",
    "        end_time = time.time()\n",
    "        epoch_training_time = end_time - start_time\n",
    "        total_training_time += epoch_training_time\n",
    "    \n",
    "        torch.save(model.state_dict(), f'Models/finetuned_gpt_bert_imdb_ft_epoch{epoch}.model')\n",
    "    \n",
    "        tqdm.write(f'\\nEpoch {epoch}')\n",
    "    \n",
    "        loss_train_avg = loss_train_total / len(dataloader_train)\n",
    "        tqdm.write(f'Training loss: {loss_train_avg}')\n",
    "    \n",
    "        val_loss, predictions, true_vals = evaluate(dataloader_val)\n",
    "    \n",
    "        # Convert predictions to discrete labels\n",
    "        predictions = np.argmax(predictions, axis=1)\n",
    "    \n",
    "        val_f1 = f1_score(true_vals, predictions, average='weighted')\n",
    "        tqdm.write(f'Validation loss: {val_loss}')\n",
    "        tqdm.write(f'F1 Score (weighted): {val_f1}')\n",
    "    \n",
    "        val_accuracy = accuracy_score(true_vals, predictions)\n",
    "        val_precision = precision_score(true_vals, predictions, average='weighted', zero_division=1)\n",
    "    \n",
    "        # Compute and store metrics\n",
    "        training_loss_list.append(loss_train_avg)\n",
    "        validation_loss_list.append(val_loss)\n",
    "        f1_score_list.append(val_f1)\n",
    "        accuracy_list.append(val_accuracy)\n",
    "        precision_list.append(val_precision)\n",
    "    \n",
    "        # Check if there are previous results to compare with\n",
    "        if previous_results is not None:\n",
    "            if loss_train_avg > previous_results['loss_train_avg']:\n",
    "                percentage_increase = ((loss_train_avg - previous_results['loss_train_avg']) / previous_results['loss_train_avg']) * 100\n",
    "                tqdm.write('\\033[91m' + f'{round(percentage_increase, 2)}% Training loss increased compared to the previous epoch' + '\\033[0m')\n",
    "            if loss_train_avg < previous_results['loss_train_avg']:\n",
    "                percentage_decrease = ((previous_results['loss_train_avg'] - loss_train_avg) / previous_results['loss_train_avg']) * 100\n",
    "                tqdm.write('\\033[92m' + f'{round(percentage_decrease, 2)}% Training loss decreased compared to the previous epoch' + '\\033[0m')\n",
    "            if val_loss > previous_results['val_loss']:\n",
    "                percentage_increase = ((val_loss - previous_results['val_loss']) / previous_results['val_loss']) * 100\n",
    "                tqdm.write('\\033[91m' + f'{round(percentage_increase, 2)}% Validation loss increased compared to the previous epoch' + '\\033[0m')\n",
    "            if val_loss < previous_results['val_loss']:\n",
    "                percentage_decrease = ((previous_results['val_loss'] - val_loss) / previous_results['val_loss']) * 100\n",
    "                tqdm.write('\\033[92m' + f'{round(percentage_decrease, 2)}% Validation loss decreased compared to the previous epoch' + '\\033[0m')\n",
    "            if val_f1 < previous_results['val_f1']:\n",
    "                percentage_decrease = ((previous_results['val_f1'] - val_f1) / previous_results['val_f1']) * 100\n",
    "                tqdm.write('\\033[91m' + f'{round(percentage_decrease, 2)}% F1 Score decreased compared to the previous epoch' + '\\033[0m')\n",
    "            if val_f1 > previous_results['val_f1']:\n",
    "                percentage_increase = ((val_f1 - previous_results['val_f1']) / previous_results['val_f1']) * 100\n",
    "                tqdm.write('\\033[92m' + f'{round(percentage_increase, 2)}% F1 Score increased compared to the previous epoch' + '\\033[0m')\n",
    "    \n",
    "        # Store current results as previous results for the next epoch\n",
    "        previous_results = {\n",
    "            'loss_train_avg': loss_train_avg,\n",
    "            'val_loss': val_loss,\n",
    "            'val_f1': val_f1\n",
    "        }\n",
    "        \n",
    "        # Check for early stopping\n",
    "        if val_loss < best_val_loss:\n",
    "            best_val_loss = val_loss\n",
    "            counter = 0\n",
    "        else:\n",
    "            counter += 1\n",
    "            if counter >= patience:\n",
    "                tqdm.write('\\nEarly stopping triggered. Training stopped.')\n",
    "                break\n",
    "    \n",
    "    total_time_minutes = total_training_time / 60\n",
    "    tqdm.write(f'\\nTotal training time: {total_time_minutes} minutes')\n",
    "    \n",
    "    final_accuracy = accuracy_list[-1]\n",
    "    final_precision = precision_list[-1]\n",
    "    tqdm.write(f'Final Accuracy: {final_accuracy}')\n",
    "    tqdm.write(f'Final Precision: {final_precision}')\n",
    "    \n",
    "    # Create the x-axis values based on the actual number of epochs completed\n",
    "    x_values = range(1, len(training_loss_list) + 1)\n",
    "    \n",
    "    # Create the metrics subplot\n",
    "    fig, ax = plt.subplots(figsize=(8, 6))\n",
    "    \n",
    "    # Plot training loss\n",
    "    ax.plot(x_values, training_loss_list, label='Training Loss')\n",
    "    \n",
    "    # Plot validation loss\n",
    "    ax.plot(x_values, validation_loss_list, label='Validation Loss')\n",
    "    \n",
    "    # Plot F1-score\n",
    "    ax.plot(x_values, f1_score_list, label='F1 Score')\n",
    "\n",
    "    # Plot Accuracy\n",
    "    ax.plot(x_values, accuracy_list, label='Accuracy')\n",
    "    \n",
    "    # Set labels and title\n",
    "    ax.set_xlabel('Epoch')\n",
    "    ax.set_ylabel('Metric Value')\n",
    "    ax.set_title('Training Loss, Validation Loss, and F1 Score')\n",
    "    \n",
    "    # Set legend\n",
    "    ax.legend()\n",
    "    \n",
    "    # Show the combined plot\n",
    "    plt.show()\n",
    "    \n",
    "    \n",
    "    # Create the metrics table\n",
    "    metrics_table = [\n",
    "        ['Epoch', 'Training Loss', 'Validation Loss', 'F1 Score', 'Accuracy', 'Precision'],\n",
    "    ]\n",
    "    previous_results = None\n",
    "    for epoch in range(1, len(training_loss_list) + 1):\n",
    "        row = [\n",
    "            epoch,\n",
    "            training_loss_list[epoch - 1],\n",
    "            validation_loss_list[epoch - 1],\n",
    "            f1_score_list[epoch - 1],\n",
    "            accuracy_list[epoch - 1],\n",
    "            precision_list[epoch - 1]\n",
    "        ]\n",
    "    \n",
    "        # Compare with previous epoch results\n",
    "        if previous_results is not None:\n",
    "            if training_loss_list[epoch - 1] < previous_results['loss_train_avg']:\n",
    "                row[1] = '\\033[92m' + str(row[1]) + '\\033[0m'  # Highlight in green\n",
    "            if training_loss_list[epoch - 1] > previous_results['loss_train_avg']:\n",
    "                row[1] = '\\033[91m' + str(row[1]) + '\\033[0m'  # Highlight in red\n",
    "            if validation_loss_list[epoch - 1] < previous_results['val_loss']:\n",
    "                row[2] = '\\033[92m' + str(row[2]) + '\\033[0m'  # Highlight in green\n",
    "            if validation_loss_list[epoch - 1] > previous_results['val_loss']:\n",
    "                row[2] = '\\033[91m' + str(row[2]) + '\\033[0m'  # Highlight in red\n",
    "            if f1_score_list[epoch - 1] > previous_results['val_f1']:\n",
    "                row[3] = '\\033[92m' + str(row[3]) + '\\033[0m'  # Highlight in green\n",
    "            if f1_score_list[epoch - 1] < previous_results['val_f1']:\n",
    "                row[3] = '\\033[91m' + str(row[3]) + '\\033[0m'  # Highlight in red\n",
    "            if accuracy_list[epoch - 1] > previous_results['val_f1']:\n",
    "                row[4] = '\\033[92m' + str(row[3]) + '\\033[0m'  # Highlight in green\n",
    "            if accuracy_list[epoch - 1] < previous_results['val_f1']:\n",
    "                row[4] = '\\033[91m' + str(row[3]) + '\\033[0m'  # Highlight in red\n",
    "            if precision_list[epoch - 1] > previous_results['val_f1']:\n",
    "                row[5] = '\\033[92m' + str(row[3]) + '\\033[0m'  # Highlight in green\n",
    "            if precision_list[epoch - 1] < previous_results['val_f1']:\n",
    "                row[5] = '\\033[91m' + str(row[3]) + '\\033[0m'  # Highlight in red\n",
    "    \n",
    "        metrics_table.append(row)\n",
    "        previous_results = {\n",
    "            'loss_train_avg': training_loss_list[epoch - 1],\n",
    "            'val_loss': validation_loss_list[epoch - 1],\n",
    "            'val_f1': f1_score_list[epoch - 1]\n",
    "        }\n",
    "    \n",
    "    # Calculate total training time in minutes\n",
    "    total_time_minutes = total_training_time / 60\n",
    "    \n",
    "    # Calculate total precision\n",
    "    total_precision = precision_list[-1]\n",
    "    \n",
    "    # Add total training time and total precision rows to the table\n",
    "    metrics_table.append(['Total Training Time', '', '', '', '', total_training_time])\n",
    "    metrics_table.append(['Final Precision', '', '', '', '', total_precision])\n",
    "    metrics_table.append(['Total Time (minutes)', '', '', '', '', total_time_minutes])\n",
    "    \n",
    "    # Print the table\n",
    "    print(tabulate(metrics_table, headers='firstrow'))\n",
    "\n",
    "    return training_loss_list, validation_loss_list, accuracy_list, precision_list, f1_score_list\n",
    "\n",
    "default_args = {\n",
    "    \"output_dir\": \"tmp\",\n",
    "    \"evaluation_strategy\": \"steps\",\n",
    "    \"num_train_epochs\": 1,\n",
    "    \"log_level\": \"error\",\n",
    "    \"report_to\": \"none\",\n",
    "}"
   ]
  },
  {
   "cell_type": "code",
   "execution_count": 3,
   "id": "d9785608-cd5e-4432-9d68-68d90c4a0a5a",
   "metadata": {},
   "outputs": [
    {
     "name": "stderr",
     "output_type": "stream",
     "text": [
      "Found cached dataset imdb (/home/z123010/.cache/huggingface/datasets/imdb/plain_text/1.0.0/d613c88cf8fa3bab83b4ded3713f1f74830d1100e171db75bbddb80b3345c9c0)\n"
     ]
    },
    {
     "data": {
      "application/vnd.jupyter.widget-view+json": {
       "model_id": "d17302d60d1f4ba592d78015b4356d48",
       "version_major": 2,
       "version_minor": 0
      },
      "text/plain": [
       "  0%|          | 0/3 [00:00<?, ?it/s]"
      ]
     },
     "metadata": {},
     "output_type": "display_data"
    }
   ],
   "source": [
    "df = data_imdb()"
   ]
  },
  {
   "cell_type": "code",
   "execution_count": 4,
   "id": "8793b8bc-43bd-4d43-a17e-abf0174eb200",
   "metadata": {},
   "outputs": [],
   "source": [
    "# Create label_dict and assign the number of labels\n",
    "label_dict = {label: index for index, label in enumerate(df['label'].unique())}"
   ]
  },
  {
   "cell_type": "code",
   "execution_count": 5,
   "id": "2707709e-9e1b-460f-9386-6d9e999f2d90",
   "metadata": {},
   "outputs": [
    {
     "data": {
      "text/html": [
       "<div>\n",
       "<style scoped>\n",
       "    .dataframe tbody tr th:only-of-type {\n",
       "        vertical-align: middle;\n",
       "    }\n",
       "\n",
       "    .dataframe tbody tr th {\n",
       "        vertical-align: top;\n",
       "    }\n",
       "\n",
       "    .dataframe thead th {\n",
       "        text-align: right;\n",
       "    }\n",
       "</style>\n",
       "<table border=\"1\" class=\"dataframe\">\n",
       "  <thead>\n",
       "    <tr style=\"text-align: right;\">\n",
       "      <th></th>\n",
       "      <th>text</th>\n",
       "      <th>label</th>\n",
       "      <th>sentiment</th>\n",
       "      <th>data_type</th>\n",
       "    </tr>\n",
       "  </thead>\n",
       "  <tbody>\n",
       "    <tr>\n",
       "      <th>33553</th>\n",
       "      <td>Forget what I said about Emeril. Rachael Ray i...</td>\n",
       "      <td>0</td>\n",
       "      <td>bad</td>\n",
       "      <td>test</td>\n",
       "    </tr>\n",
       "    <tr>\n",
       "      <th>9427</th>\n",
       "      <td>Former private eye-turned-security guard ditch...</td>\n",
       "      <td>0</td>\n",
       "      <td>bad</td>\n",
       "      <td>train</td>\n",
       "    </tr>\n",
       "    <tr>\n",
       "      <th>199</th>\n",
       "      <td>Mann photographs the Alberta Rocky Mountains i...</td>\n",
       "      <td>0</td>\n",
       "      <td>bad</td>\n",
       "      <td>train</td>\n",
       "    </tr>\n",
       "    <tr>\n",
       "      <th>12447</th>\n",
       "      <td>Simply put: the movie is boring. Cliché upon c...</td>\n",
       "      <td>0</td>\n",
       "      <td>bad</td>\n",
       "      <td>train</td>\n",
       "    </tr>\n",
       "    <tr>\n",
       "      <th>39489</th>\n",
       "      <td>Now being a fan of sci fi, the trailer for thi...</td>\n",
       "      <td>1</td>\n",
       "      <td>good</td>\n",
       "      <td>test</td>\n",
       "    </tr>\n",
       "    <tr>\n",
       "      <th>42724</th>\n",
       "      <td>In 'Hoot' Logan Lerman plays Roy Eberhardt, th...</td>\n",
       "      <td>1</td>\n",
       "      <td>good</td>\n",
       "      <td>test</td>\n",
       "    </tr>\n",
       "    <tr>\n",
       "      <th>10822</th>\n",
       "      <td>This is the worst film I have ever seen.I was ...</td>\n",
       "      <td>0</td>\n",
       "      <td>bad</td>\n",
       "      <td>train</td>\n",
       "    </tr>\n",
       "    <tr>\n",
       "      <th>49498</th>\n",
       "      <td>I think that Toy Soldiers is an excellent movi...</td>\n",
       "      <td>1</td>\n",
       "      <td>good</td>\n",
       "      <td>test</td>\n",
       "    </tr>\n",
       "    <tr>\n",
       "      <th>4144</th>\n",
       "      <td>I think Micheal Ironsides acting career must b...</td>\n",
       "      <td>0</td>\n",
       "      <td>bad</td>\n",
       "      <td>train</td>\n",
       "    </tr>\n",
       "    <tr>\n",
       "      <th>36958</th>\n",
       "      <td>This was a disgrace to the game FarCry i had m...</td>\n",
       "      <td>0</td>\n",
       "      <td>bad</td>\n",
       "      <td>test</td>\n",
       "    </tr>\n",
       "  </tbody>\n",
       "</table>\n",
       "</div>"
      ],
      "text/plain": [
       "                                                    text  label sentiment   \n",
       "33553  Forget what I said about Emeril. Rachael Ray i...      0       bad  \\\n",
       "9427   Former private eye-turned-security guard ditch...      0       bad   \n",
       "199    Mann photographs the Alberta Rocky Mountains i...      0       bad   \n",
       "12447  Simply put: the movie is boring. Cliché upon c...      0       bad   \n",
       "39489  Now being a fan of sci fi, the trailer for thi...      1      good   \n",
       "42724  In 'Hoot' Logan Lerman plays Roy Eberhardt, th...      1      good   \n",
       "10822  This is the worst film I have ever seen.I was ...      0       bad   \n",
       "49498  I think that Toy Soldiers is an excellent movi...      1      good   \n",
       "4144   I think Micheal Ironsides acting career must b...      0       bad   \n",
       "36958  This was a disgrace to the game FarCry i had m...      0       bad   \n",
       "\n",
       "      data_type  \n",
       "33553      test  \n",
       "9427      train  \n",
       "199       train  \n",
       "12447     train  \n",
       "39489      test  \n",
       "42724      test  \n",
       "10822     train  \n",
       "49498      test  \n",
       "4144      train  \n",
       "36958      test  "
      ]
     },
     "execution_count": 5,
     "metadata": {},
     "output_type": "execute_result"
    }
   ],
   "source": [
    "df.sample(n=10, random_state=42)  # Generate 10 random rows from df"
   ]
  },
  {
   "cell_type": "code",
   "execution_count": 6,
   "id": "dc596d9c-5808-4f39-a59e-6ed36d8927dd",
   "metadata": {},
   "outputs": [
    {
     "data": {
      "text/html": [
       "<div>\n",
       "<style scoped>\n",
       "    .dataframe tbody tr th:only-of-type {\n",
       "        vertical-align: middle;\n",
       "    }\n",
       "\n",
       "    .dataframe tbody tr th {\n",
       "        vertical-align: top;\n",
       "    }\n",
       "\n",
       "    .dataframe thead th {\n",
       "        text-align: right;\n",
       "    }\n",
       "</style>\n",
       "<table border=\"1\" class=\"dataframe\">\n",
       "  <thead>\n",
       "    <tr style=\"text-align: right;\">\n",
       "      <th></th>\n",
       "      <th>text</th>\n",
       "      <th>label</th>\n",
       "      <th>data_type</th>\n",
       "    </tr>\n",
       "    <tr>\n",
       "      <th>sentiment</th>\n",
       "      <th></th>\n",
       "      <th></th>\n",
       "      <th></th>\n",
       "    </tr>\n",
       "  </thead>\n",
       "  <tbody>\n",
       "    <tr>\n",
       "      <th>bad</th>\n",
       "      <td>25000</td>\n",
       "      <td>25000</td>\n",
       "      <td>25000</td>\n",
       "    </tr>\n",
       "    <tr>\n",
       "      <th>good</th>\n",
       "      <td>25000</td>\n",
       "      <td>25000</td>\n",
       "      <td>25000</td>\n",
       "    </tr>\n",
       "  </tbody>\n",
       "</table>\n",
       "</div>"
      ],
      "text/plain": [
       "            text  label  data_type\n",
       "sentiment                         \n",
       "bad        25000  25000      25000\n",
       "good       25000  25000      25000"
      ]
     },
     "execution_count": 6,
     "metadata": {},
     "output_type": "execute_result"
    }
   ],
   "source": [
    "df.groupby(['sentiment']).count()"
   ]
  },
  {
   "cell_type": "code",
   "execution_count": 7,
   "id": "5ab759d8-d194-4afb-8cd1-c4997224b920",
   "metadata": {},
   "outputs": [
    {
     "data": {
      "text/html": [
       "<div>\n",
       "<style scoped>\n",
       "    .dataframe tbody tr th:only-of-type {\n",
       "        vertical-align: middle;\n",
       "    }\n",
       "\n",
       "    .dataframe tbody tr th {\n",
       "        vertical-align: top;\n",
       "    }\n",
       "\n",
       "    .dataframe thead th {\n",
       "        text-align: right;\n",
       "    }\n",
       "</style>\n",
       "<table border=\"1\" class=\"dataframe\">\n",
       "  <thead>\n",
       "    <tr style=\"text-align: right;\">\n",
       "      <th></th>\n",
       "      <th>text</th>\n",
       "      <th>label</th>\n",
       "      <th>sentiment</th>\n",
       "    </tr>\n",
       "    <tr>\n",
       "      <th>data_type</th>\n",
       "      <th></th>\n",
       "      <th></th>\n",
       "      <th></th>\n",
       "    </tr>\n",
       "  </thead>\n",
       "  <tbody>\n",
       "    <tr>\n",
       "      <th>test</th>\n",
       "      <td>25000</td>\n",
       "      <td>25000</td>\n",
       "      <td>25000</td>\n",
       "    </tr>\n",
       "    <tr>\n",
       "      <th>train</th>\n",
       "      <td>25000</td>\n",
       "      <td>25000</td>\n",
       "      <td>25000</td>\n",
       "    </tr>\n",
       "  </tbody>\n",
       "</table>\n",
       "</div>"
      ],
      "text/plain": [
       "            text  label  sentiment\n",
       "data_type                         \n",
       "test       25000  25000      25000\n",
       "train      25000  25000      25000"
      ]
     },
     "execution_count": 7,
     "metadata": {},
     "output_type": "execute_result"
    }
   ],
   "source": [
    "df.groupby(['data_type']).count()"
   ]
  },
  {
   "cell_type": "code",
   "execution_count": 8,
   "id": "731e5a17-8ab7-4d19-a012-05eeabab1d90",
   "metadata": {
    "tags": []
   },
   "outputs": [],
   "source": [
    "# Load BERT tokenizer\n",
    "pretrained_path = 'bert-base-uncased'  # Replace with the path to the pretrained BERT model\n",
    "tokenizer = BertTokenizer.from_pretrained(\n",
    "    'bert-base-uncased',\n",
    "    do_lower_case=True\n",
    ")\n",
    "\n",
    "encoded_data_train_text = tokenizer.batch_encode_plus(\n",
    "    df[df.data_type=='train'].text.values,\n",
    "    add_special_tokens=True,\n",
    "    return_attention_mask=True,\n",
    "    padding='longest',\n",
    "    max_length=512,\n",
    "    truncation=True,\n",
    "    return_tensors='pt'\n",
    ")\n",
    "\n",
    "input_ids_train = encoded_data_train_text['input_ids']\n",
    "attention_masks_train = encoded_data_train_text['attention_mask']\n",
    "\n",
    "labels_train = torch.tensor(df[df.data_type=='train'].label.values)\n",
    "\n",
    "encoded_data_test_text = tokenizer.batch_encode_plus(\n",
    "    df[df.data_type=='test'].text.values,\n",
    "    add_special_tokens=True,\n",
    "    return_attention_mask=True,\n",
    "    padding='longest',\n",
    "    max_length=512,\n",
    "    truncation=True,\n",
    "    return_tensors='pt'\n",
    ")\n",
    "\n",
    "input_ids_test = encoded_data_test_text['input_ids']\n",
    "attention_masks_test = encoded_data_test_text['attention_mask']\n",
    "\n",
    "labels_test = torch.tensor(df[df.data_type=='test'].label.values)"
   ]
  },
  {
   "cell_type": "code",
   "execution_count": 9,
   "id": "42125069-fd5d-49c0-8032-2be61cb2a6d3",
   "metadata": {
    "tags": []
   },
   "outputs": [
    {
     "data": {
      "text/plain": [
       "(25000, 25000)"
      ]
     },
     "execution_count": 9,
     "metadata": {},
     "output_type": "execute_result"
    }
   ],
   "source": [
    "dataset_train = TensorDataset(input_ids_train, attention_masks_train, labels_train)\n",
    "dataset_test = TensorDataset(input_ids_test, attention_masks_test, labels_test)\n",
    "len(dataset_train), len(dataset_test)"
   ]
  },
  {
   "cell_type": "code",
   "execution_count": 10,
   "id": "9a2f7e02-8423-4787-994e-d599ab86b123",
   "metadata": {},
   "outputs": [],
   "source": [
    "from transformers import BertModel, BertConfig, GPT2Model, GPT2Config\n",
    "\n",
    "num_classes = 2\n",
    "\n",
    "class SentimentModel(nn.Module):\n",
    "    def __init__(self, pretrained_bert_path, pretrained_gpt_path):\n",
    "        super(SentimentModel, self).__init__()\n",
    "\n",
    "        # Create a new GPT-2 configuration with modified hidden size and attention heads\n",
    "        gpt_config = GPT2Config(\n",
    "            vocab_size=50257,\n",
    "            hidden_size=512,\n",
    "            num_hidden_layers=6,\n",
    "            num_attention_heads=8,\n",
    "            intermediate_size=1024,\n",
    "            hidden_dropout_prob=0.3,\n",
    "            attention_probs_dropout_prob=0.3,\n",
    "        )\n",
    "        self.gpt = GPT2Model(config=gpt_config)\n",
    "        \n",
    "        # Create a new BERT configuration with modified hidden size and attention heads\n",
    "        bert_config = BertConfig(\n",
    "            vocab_size=50257,\n",
    "            hidden_size=512,\n",
    "            num_hidden_layers=6,\n",
    "            num_attention_heads=8,\n",
    "            intermediate_size=1024,\n",
    "            hidden_dropout_prob=0.3,\n",
    "            attention_probs_dropout_prob=0.3,\n",
    "        )\n",
    "        self.bert = BertModel(config=bert_config)\n",
    "        \n",
    "        self.dropout = nn.Dropout(0.2)\n",
    "        self.fc = nn.Linear(bert_config.hidden_size + gpt_config.hidden_size, num_classes)\n",
    "\n",
    "    def forward(self, input_ids, attention_mask, labels=None):\n",
    "        gpt_outputs = self.gpt(input_ids, attention_mask=attention_mask)[0]\n",
    "        bert_outputs = self.bert(input_ids, attention_mask=attention_mask)[0]\n",
    "        \n",
    "        gpt_last_hidden_state = self.dropout(gpt_outputs[:, -1, :])  # Use the last hidden state\n",
    "        bert_pooled_output = self.dropout(bert_outputs[:, 0, :])  # Use the [CLS] token representation\n",
    "        \n",
    "        combined_outputs = torch.cat((gpt_last_hidden_state, bert_pooled_output), dim=1)\n",
    "        \n",
    "        logits = self.fc(combined_outputs)\n",
    "        outputs = nn.functional.softmax(logits, dim=1)\n",
    "        \n",
    "        if labels is not None:\n",
    "            loss = nn.CrossEntropyLoss()(logits.view(-1, num_classes), labels.view(-1))\n",
    "            return loss, outputs, labels\n",
    "        else:\n",
    "            return outputs\n"
   ]
  },
  {
   "cell_type": "code",
   "execution_count": 11,
   "id": "7d131f86-ee7e-49b3-a104-a61841bb78d3",
   "metadata": {},
   "outputs": [],
   "source": [
    "# Create model instance\n",
    "model = SentimentModel('bert-base-uncased', 'gpt2')"
   ]
  },
  {
   "cell_type": "code",
   "execution_count": 12,
   "id": "834c8c87-40a1-49c6-8e7b-307b931aec01",
   "metadata": {},
   "outputs": [
    {
     "data": {
      "text/plain": [
       "SentimentModel(\n",
       "  (gpt): GPT2Model(\n",
       "    (wte): Embedding(50257, 512)\n",
       "    (wpe): Embedding(1024, 512)\n",
       "    (drop): Dropout(p=0.1, inplace=False)\n",
       "    (h): ModuleList(\n",
       "      (0-5): 6 x GPT2Block(\n",
       "        (ln_1): LayerNorm((512,), eps=1e-05, elementwise_affine=True)\n",
       "        (attn): GPT2Attention(\n",
       "          (c_attn): Conv1D()\n",
       "          (c_proj): Conv1D()\n",
       "          (attn_dropout): Dropout(p=0.1, inplace=False)\n",
       "          (resid_dropout): Dropout(p=0.1, inplace=False)\n",
       "        )\n",
       "        (ln_2): LayerNorm((512,), eps=1e-05, elementwise_affine=True)\n",
       "        (mlp): GPT2MLP(\n",
       "          (c_fc): Conv1D()\n",
       "          (c_proj): Conv1D()\n",
       "          (act): NewGELUActivation()\n",
       "          (dropout): Dropout(p=0.1, inplace=False)\n",
       "        )\n",
       "      )\n",
       "    )\n",
       "    (ln_f): LayerNorm((512,), eps=1e-05, elementwise_affine=True)\n",
       "  )\n",
       "  (bert): BertModel(\n",
       "    (embeddings): BertEmbeddings(\n",
       "      (word_embeddings): Embedding(50257, 512, padding_idx=0)\n",
       "      (position_embeddings): Embedding(512, 512)\n",
       "      (token_type_embeddings): Embedding(2, 512)\n",
       "      (LayerNorm): LayerNorm((512,), eps=1e-12, elementwise_affine=True)\n",
       "      (dropout): Dropout(p=0.3, inplace=False)\n",
       "    )\n",
       "    (encoder): BertEncoder(\n",
       "      (layer): ModuleList(\n",
       "        (0-5): 6 x BertLayer(\n",
       "          (attention): BertAttention(\n",
       "            (self): BertSelfAttention(\n",
       "              (query): Linear(in_features=512, out_features=512, bias=True)\n",
       "              (key): Linear(in_features=512, out_features=512, bias=True)\n",
       "              (value): Linear(in_features=512, out_features=512, bias=True)\n",
       "              (dropout): Dropout(p=0.3, inplace=False)\n",
       "            )\n",
       "            (output): BertSelfOutput(\n",
       "              (dense): Linear(in_features=512, out_features=512, bias=True)\n",
       "              (LayerNorm): LayerNorm((512,), eps=1e-12, elementwise_affine=True)\n",
       "              (dropout): Dropout(p=0.3, inplace=False)\n",
       "            )\n",
       "          )\n",
       "          (intermediate): BertIntermediate(\n",
       "            (dense): Linear(in_features=512, out_features=1024, bias=True)\n",
       "            (intermediate_act_fn): GELUActivation()\n",
       "          )\n",
       "          (output): BertOutput(\n",
       "            (dense): Linear(in_features=1024, out_features=512, bias=True)\n",
       "            (LayerNorm): LayerNorm((512,), eps=1e-12, elementwise_affine=True)\n",
       "            (dropout): Dropout(p=0.3, inplace=False)\n",
       "          )\n",
       "        )\n",
       "      )\n",
       "    )\n",
       "    (pooler): BertPooler(\n",
       "      (dense): Linear(in_features=512, out_features=512, bias=True)\n",
       "      (activation): Tanh()\n",
       "    )\n",
       "  )\n",
       "  (dropout): Dropout(p=0.2, inplace=False)\n",
       "  (fc): Linear(in_features=1024, out_features=2, bias=True)\n",
       ")"
      ]
     },
     "execution_count": 12,
     "metadata": {},
     "output_type": "execute_result"
    }
   ],
   "source": [
    "# Set device (CPU or GPU)\n",
    "device = torch.device(\"cuda\" if torch.cuda.is_available() else \"cpu\")\n",
    "model.to(device)"
   ]
  },
  {
   "cell_type": "code",
   "execution_count": 13,
   "id": "c610d351-0be0-4899-bf58-2397193b5ed1",
   "metadata": {},
   "outputs": [],
   "source": [
    "from transformers import TrainingArguments, Trainer, logging\n",
    "training_args = TrainingArguments(\n",
    "    per_device_train_batch_size=1,\n",
    "    gradient_accumulation_steps=4,\n",
    "    gradient_checkpointing=True,\n",
    "    fp16=True,\n",
    "    **default_args,\n",
    ")"
   ]
  },
  {
   "cell_type": "code",
   "execution_count": 14,
   "id": "cfb9e671-0f31-4a58-bf72-8c13ac04e6a0",
   "metadata": {},
   "outputs": [],
   "source": [
    "from torch.utils.data import DataLoader, RandomSampler, SequentialSampler\n",
    "# Set the batch size and create data loaders for training and validation sets\n",
    "\n",
    "batch_size = 12 #32\n",
    "\n",
    "dataloader_train = DataLoader(\n",
    "    dataset_train,\n",
    "    sampler=RandomSampler(dataset_train),\n",
    "    batch_size=batch_size\n",
    ")\n",
    "\n",
    "dataloader_test = DataLoader(\n",
    "    dataset_test,\n",
    "    sampler=RandomSampler(dataset_test),\n",
    "    batch_size=batch_size\n",
    ")"
   ]
  },
  {
   "cell_type": "code",
   "execution_count": 15,
   "id": "d3bc14be-49bc-4b42-be70-17412957cdaa",
   "metadata": {},
   "outputs": [
    {
     "name": "stderr",
     "output_type": "stream",
     "text": [
      "/home/z123010/anaconda3/lib/python3.10/site-packages/transformers/optimization.py:411: FutureWarning: This implementation of AdamW is deprecated and will be removed in a future version. Use the PyTorch implementation torch.optim.AdamW instead, or set `no_deprecation_warning=True` to disable this warning\n",
      "  warnings.warn(\n"
     ]
    }
   ],
   "source": [
    "from transformers import AdamW, get_linear_schedule_with_warmup\n",
    "\n",
    "# Define the optimizer\n",
    "optimizer = AdamW(\n",
    "    model.parameters(),\n",
    "    lr=1e-5,\n",
    "    eps=1e-8,\n",
    ")\n",
    "\n",
    "\n",
    "epochs = 50\n",
    "patience = 10\n",
    "scheduler = get_linear_schedule_with_warmup(\n",
    "    optimizer,\n",
    "    num_warmup_steps=0,\n",
    "    num_training_steps=len(dataloader_train) * epochs\n",
    ")"
   ]
  },
  {
   "cell_type": "code",
   "execution_count": 16,
   "id": "27c174c9-8e92-42fa-9d81-54260c58251e",
   "metadata": {},
   "outputs": [],
   "source": [
    "import random\n",
    "\n",
    "seed_val = 17\n",
    "random.seed(seed_val) #sets the seed value for the Python built-in pseudo-random generator.\n",
    "np.random.seed(seed_val) #sets the seed value for the NumPy pseudo-random number generator.\n",
    "torch.manual_seed(seed_val) #sets the seed value for the random number generator in PyTorch on the CPU.\n",
    "torch.cuda.manual_seed_all(seed_val) #sets the seed value for the random number generator in PyTorch on the GPU."
   ]
  },
  {
   "cell_type": "code",
   "execution_count": 17,
   "id": "f3a28ec5-87fe-4bdf-b6a1-05bf8b6f6b8e",
   "metadata": {},
   "outputs": [
    {
     "name": "stdout",
     "output_type": "stream",
     "text": [
      "cuda\n"
     ]
    }
   ],
   "source": [
    "device = torch.device('cuda' if torch.cuda.is_available() else 'cpu')\n",
    "model.to(device)\n",
    "\n",
    "print(device)"
   ]
  },
  {
   "cell_type": "code",
   "execution_count": 18,
   "id": "6959b8b0-8529-4b6f-9ca8-972f7003d475",
   "metadata": {},
   "outputs": [],
   "source": [
    "trainer = Trainer(\n",
    "model=model,\n",
    "args=training_args,\n",
    "train_dataset=dataset_train,\n",
    "eval_dataset=dataset_train,\n",
    ")"
   ]
  },
  {
   "cell_type": "code",
   "execution_count": null,
   "id": "d9c363e7-c757-4bb6-bb2c-d19a126fd165",
   "metadata": {},
   "outputs": [
    {
     "name": "stdout",
     "output_type": "stream",
     "text": [
      "\n",
      "Fold 1\n"
     ]
    },
    {
     "data": {
      "application/vnd.jupyter.widget-view+json": {
       "model_id": "879b8f26ce42423dbd38a387bce1700f",
       "version_major": 2,
       "version_minor": 0
      },
      "text/plain": [
       "  0%|          | 0/50 [00:00<?, ?it/s]"
      ]
     },
     "metadata": {},
     "output_type": "display_data"
    },
    {
     "data": {
      "application/vnd.jupyter.widget-view+json": {
       "model_id": "",
       "version_major": 2,
       "version_minor": 0
      },
      "text/plain": [
       "Epoch 1:   0%|          | 0/1875 [00:00<?, ?it/s]"
      ]
     },
     "metadata": {},
     "output_type": "display_data"
    },
    {
     "name": "stdout",
     "output_type": "stream",
     "text": [
      "\n",
      "Epoch 1\n",
      "Training loss: 0.510927251235644\n",
      "Validation loss: 0.38108036788314154\n",
      "F1 Score (weighted): 0.847052601428328\n"
     ]
    },
    {
     "data": {
      "application/vnd.jupyter.widget-view+json": {
       "model_id": "",
       "version_major": 2,
       "version_minor": 0
      },
      "text/plain": [
       "Epoch 2:   0%|          | 0/1875 [00:00<?, ?it/s]"
      ]
     },
     "metadata": {},
     "output_type": "display_data"
    },
    {
     "name": "stdout",
     "output_type": "stream",
     "text": [
      "\n",
      "Epoch 2\n",
      "Training loss: 0.31905039540628594\n",
      "Validation loss: 0.32622096325720895\n",
      "F1 Score (weighted): 0.875201495622981\n",
      "\u001b[92m37.55% Training loss decreased compared to the previous epoch\u001b[0m\n",
      "\u001b[92m14.4% Validation loss decreased compared to the previous epoch\u001b[0m\n",
      "\u001b[92m3.32% F1 Score increased compared to the previous epoch\u001b[0m\n"
     ]
    },
    {
     "data": {
      "application/vnd.jupyter.widget-view+json": {
       "model_id": "",
       "version_major": 2,
       "version_minor": 0
      },
      "text/plain": [
       "Epoch 3:   0%|          | 0/1875 [00:00<?, ?it/s]"
      ]
     },
     "metadata": {},
     "output_type": "display_data"
    },
    {
     "name": "stdout",
     "output_type": "stream",
     "text": [
      "\n",
      "Epoch 3\n",
      "Training loss: 0.27117424307720117\n",
      "Validation loss: 0.46282688509360953\n",
      "F1 Score (weighted): 0.8652153948205816\n",
      "\u001b[92m15.01% Training loss decreased compared to the previous epoch\u001b[0m\n",
      "\u001b[91m41.88% Validation loss increased compared to the previous epoch\u001b[0m\n",
      "\u001b[91m1.14% F1 Score decreased compared to the previous epoch\u001b[0m\n"
     ]
    },
    {
     "data": {
      "application/vnd.jupyter.widget-view+json": {
       "model_id": "",
       "version_major": 2,
       "version_minor": 0
      },
      "text/plain": [
       "Epoch 4:   0%|          | 0/1875 [00:00<?, ?it/s]"
      ]
     },
     "metadata": {},
     "output_type": "display_data"
    },
    {
     "name": "stdout",
     "output_type": "stream",
     "text": [
      "\n",
      "Epoch 4\n",
      "Training loss: 0.24156400063379357\n",
      "Validation loss: 0.39070286606906346\n",
      "F1 Score (weighted): 0.8880413029059033\n",
      "\u001b[92m10.92% Training loss decreased compared to the previous epoch\u001b[0m\n",
      "\u001b[92m15.58% Validation loss decreased compared to the previous epoch\u001b[0m\n",
      "\u001b[92m2.64% F1 Score increased compared to the previous epoch\u001b[0m\n"
     ]
    },
    {
     "data": {
      "application/vnd.jupyter.widget-view+json": {
       "model_id": "",
       "version_major": 2,
       "version_minor": 0
      },
      "text/plain": [
       "Epoch 5:   0%|          | 0/1875 [00:00<?, ?it/s]"
      ]
     },
     "metadata": {},
     "output_type": "display_data"
    },
    {
     "name": "stdout",
     "output_type": "stream",
     "text": [
      "\n",
      "Epoch 5\n",
      "Training loss: 0.20974395736362786\n",
      "Validation loss: 0.5199094894386685\n",
      "F1 Score (weighted): 0.8860287538784906\n",
      "\u001b[92m13.17% Training loss decreased compared to the previous epoch\u001b[0m\n",
      "\u001b[91m33.07% Validation loss increased compared to the previous epoch\u001b[0m\n",
      "\u001b[91m0.23% F1 Score decreased compared to the previous epoch\u001b[0m\n"
     ]
    },
    {
     "data": {
      "application/vnd.jupyter.widget-view+json": {
       "model_id": "",
       "version_major": 2,
       "version_minor": 0
      },
      "text/plain": [
       "Epoch 6:   0%|          | 0/1875 [00:00<?, ?it/s]"
      ]
     },
     "metadata": {},
     "output_type": "display_data"
    },
    {
     "name": "stdout",
     "output_type": "stream",
     "text": [
      "\n",
      "Epoch 6\n",
      "Training loss: 0.1858344683152934\n",
      "Validation loss: 0.5496713462665579\n",
      "F1 Score (weighted): 0.879625872748356\n",
      "\u001b[92m11.4% Training loss decreased compared to the previous epoch\u001b[0m\n",
      "\u001b[91m5.72% Validation loss increased compared to the previous epoch\u001b[0m\n",
      "\u001b[91m0.72% F1 Score decreased compared to the previous epoch\u001b[0m\n"
     ]
    },
    {
     "data": {
      "application/vnd.jupyter.widget-view+json": {
       "model_id": "",
       "version_major": 2,
       "version_minor": 0
      },
      "text/plain": [
       "Epoch 7:   0%|          | 0/1875 [00:00<?, ?it/s]"
      ]
     },
     "metadata": {},
     "output_type": "display_data"
    },
    {
     "name": "stdout",
     "output_type": "stream",
     "text": [
      "\n",
      "Epoch 7\n",
      "Training loss: 0.16498587396591902\n",
      "Validation loss: 0.5284011133670201\n",
      "F1 Score (weighted): 0.8860354657929511\n",
      "\u001b[92m11.22% Training loss decreased compared to the previous epoch\u001b[0m\n",
      "\u001b[92m3.87% Validation loss decreased compared to the previous epoch\u001b[0m\n",
      "\u001b[92m0.73% F1 Score increased compared to the previous epoch\u001b[0m\n"
     ]
    },
    {
     "data": {
      "application/vnd.jupyter.widget-view+json": {
       "model_id": "",
       "version_major": 2,
       "version_minor": 0
      },
      "text/plain": [
       "Epoch 8:   0%|          | 0/1875 [00:00<?, ?it/s]"
      ]
     },
     "metadata": {},
     "output_type": "display_data"
    },
    {
     "name": "stdout",
     "output_type": "stream",
     "text": [
      "\n",
      "Epoch 8\n",
      "Training loss: 0.1384559052112202\n",
      "Validation loss: 0.5465288844868055\n",
      "F1 Score (weighted): 0.8852370365567124\n",
      "\u001b[92m16.08% Training loss decreased compared to the previous epoch\u001b[0m\n",
      "\u001b[91m3.43% Validation loss increased compared to the previous epoch\u001b[0m\n",
      "\u001b[91m0.09% F1 Score decreased compared to the previous epoch\u001b[0m\n"
     ]
    },
    {
     "data": {
      "application/vnd.jupyter.widget-view+json": {
       "model_id": "",
       "version_major": 2,
       "version_minor": 0
      },
      "text/plain": [
       "Epoch 9:   0%|          | 0/1875 [00:00<?, ?it/s]"
      ]
     },
     "metadata": {},
     "output_type": "display_data"
    },
    {
     "name": "stdout",
     "output_type": "stream",
     "text": [
      "\n",
      "Epoch 9\n",
      "Training loss: 0.12585717546092345\n",
      "Validation loss: 0.7152389874925523\n",
      "F1 Score (weighted): 0.8861521145311272\n",
      "\u001b[92m9.1% Training loss decreased compared to the previous epoch\u001b[0m\n",
      "\u001b[91m30.87% Validation loss increased compared to the previous epoch\u001b[0m\n",
      "\u001b[92m0.1% F1 Score increased compared to the previous epoch\u001b[0m\n"
     ]
    },
    {
     "data": {
      "application/vnd.jupyter.widget-view+json": {
       "model_id": "",
       "version_major": 2,
       "version_minor": 0
      },
      "text/plain": [
       "Epoch 10:   0%|          | 0/1875 [00:00<?, ?it/s]"
      ]
     },
     "metadata": {},
     "output_type": "display_data"
    },
    {
     "name": "stdout",
     "output_type": "stream",
     "text": [
      "\n",
      "Epoch 10\n",
      "Training loss: 0.10426427920698188\n",
      "Validation loss: 0.6296302438070263\n",
      "F1 Score (weighted): 0.8824162009315343\n",
      "\u001b[92m17.16% Training loss decreased compared to the previous epoch\u001b[0m\n",
      "\u001b[92m11.97% Validation loss decreased compared to the previous epoch\u001b[0m\n",
      "\u001b[91m0.42% F1 Score decreased compared to the previous epoch\u001b[0m\n"
     ]
    },
    {
     "data": {
      "application/vnd.jupyter.widget-view+json": {
       "model_id": "",
       "version_major": 2,
       "version_minor": 0
      },
      "text/plain": [
       "Epoch 11:   0%|          | 0/1875 [00:00<?, ?it/s]"
      ]
     },
     "metadata": {},
     "output_type": "display_data"
    },
    {
     "name": "stdout",
     "output_type": "stream",
     "text": [
      "\n",
      "Epoch 11\n",
      "Training loss: 0.09520500121772445\n",
      "Validation loss: 0.7372539950338076\n",
      "F1 Score (weighted): 0.8824\n",
      "\u001b[92m8.69% Training loss decreased compared to the previous epoch\u001b[0m\n",
      "\u001b[91m17.09% Validation loss increased compared to the previous epoch\u001b[0m\n",
      "\u001b[91m0.0% F1 Score decreased compared to the previous epoch\u001b[0m\n"
     ]
    },
    {
     "data": {
      "application/vnd.jupyter.widget-view+json": {
       "model_id": "",
       "version_major": 2,
       "version_minor": 0
      },
      "text/plain": [
       "Epoch 12:   0%|          | 0/1875 [00:00<?, ?it/s]"
      ]
     },
     "metadata": {},
     "output_type": "display_data"
    },
    {
     "name": "stdout",
     "output_type": "stream",
     "text": [
      "\n",
      "Epoch 12\n",
      "Training loss: 0.07453166691842877\n",
      "Validation loss: 0.848151477504662\n",
      "F1 Score (weighted): 0.8790733408712523\n",
      "\u001b[92m21.71% Training loss decreased compared to the previous epoch\u001b[0m\n",
      "\u001b[91m15.04% Validation loss increased compared to the previous epoch\u001b[0m\n",
      "\u001b[91m0.38% F1 Score decreased compared to the previous epoch\u001b[0m\n",
      "\n",
      "Early stopping triggered. Training stopped.\n",
      "\n",
      "Total training time: 140.18742560545604 minutes\n",
      "Final Accuracy: 0.8792\n",
      "Final Precision: 0.8795447726149282\n"
     ]
    },
    {
     "data": {
      "image/png": "[encoded data removed]",
      "text/plain": [
       "<Figure size 800x600 with 1 Axes>"
      ]
     },
     "metadata": {},
     "output_type": "display_data"
    },
    {
     "name": "stdout",
     "output_type": "stream",
     "text": [
      "Epoch                 Training Loss        Validation Loss      F1 Score            Accuracy              Precision\n",
      "--------------------  -------------------  -------------------  ------------------  ------------------  -----------\n",
      "1                     0.510927251235644    0.38108036788314154  0.847052601428328   0.8484                 0.85592\n",
      "2                     \u001b[92m0.31905039540628594\u001b[0m  \u001b[92m0.32622096325720895\u001b[0m  \u001b[92m0.875201495622981\u001b[0m   \u001b[92m\u001b[92m0.875201495622981\u001b[0m\u001b[0m      \u001b[92m\u001b[92m0.875201\u001b[0m\u001b[0m\n",
      "3                     \u001b[92m0.27117424307720117\u001b[0m  \u001b[91m0.46282688509360953\u001b[0m  \u001b[91m0.8652153948205816\u001b[0m  \u001b[91m\u001b[91m0.8652153948205816\u001b[0m\u001b[0m     \u001b[91m\u001b[91m0.865215\u001b[0m\u001b[0m\n",
      "4                     \u001b[92m0.24156400063379357\u001b[0m  \u001b[92m0.39070286606906346\u001b[0m  \u001b[92m0.8880413029059033\u001b[0m  \u001b[92m\u001b[92m0.8880413029059033\u001b[0m\u001b[0m     \u001b[92m\u001b[92m0.888041\u001b[0m\u001b[0m\n",
      "5                     \u001b[92m0.20974395736362786\u001b[0m  \u001b[91m0.5199094894386685\u001b[0m   \u001b[91m0.8860287538784906\u001b[0m  \u001b[91m\u001b[91m0.8860287538784906\u001b[0m\u001b[0m     \u001b[91m\u001b[91m0.886029\u001b[0m\u001b[0m\n",
      "6                     \u001b[92m0.1858344683152934\u001b[0m   \u001b[91m0.5496713462665579\u001b[0m   \u001b[91m0.879625872748356\u001b[0m   \u001b[91m\u001b[91m0.879625872748356\u001b[0m\u001b[0m      \u001b[91m\u001b[91m0.879626\u001b[0m\u001b[0m\n",
      "7                     \u001b[92m0.16498587396591902\u001b[0m  \u001b[92m0.5284011133670201\u001b[0m   \u001b[92m0.8860354657929511\u001b[0m  \u001b[92m\u001b[92m0.8860354657929511\u001b[0m\u001b[0m     \u001b[92m\u001b[92m0.886035\u001b[0m\u001b[0m\n",
      "8                     \u001b[92m0.1384559052112202\u001b[0m   \u001b[91m0.5465288844868055\u001b[0m   \u001b[91m0.8852370365567124\u001b[0m  \u001b[91m\u001b[91m0.8852370365567124\u001b[0m\u001b[0m     \u001b[91m\u001b[91m0.885237\u001b[0m\u001b[0m\n",
      "9                     \u001b[92m0.12585717546092345\u001b[0m  \u001b[91m0.7152389874925523\u001b[0m   \u001b[92m0.8861521145311272\u001b[0m  \u001b[92m\u001b[92m0.8861521145311272\u001b[0m\u001b[0m     \u001b[92m\u001b[92m0.886152\u001b[0m\u001b[0m\n",
      "10                    \u001b[92m0.10426427920698188\u001b[0m  \u001b[92m0.6296302438070263\u001b[0m   \u001b[91m0.8824162009315343\u001b[0m  \u001b[91m\u001b[91m0.8824162009315343\u001b[0m\u001b[0m     \u001b[91m\u001b[91m0.882416\u001b[0m\u001b[0m\n",
      "11                    \u001b[92m0.09520500121772445\u001b[0m  \u001b[91m0.7372539950338076\u001b[0m   \u001b[91m0.8824\u001b[0m              \u001b[91m\u001b[91m0.8824\u001b[0m\u001b[0m                 \u001b[91m\u001b[91m0.8824\u001b[0m\u001b[0m\n",
      "12                    \u001b[92m0.07453166691842877\u001b[0m  \u001b[91m0.848151477504662\u001b[0m    \u001b[91m0.8790733408712523\u001b[0m  \u001b[91m\u001b[91m0.8790733408712523\u001b[0m\u001b[0m     \u001b[91m\u001b[91m0.879073\u001b[0m\u001b[0m\n",
      "Total Training Time                                                                                     8411.25\n",
      "Final Precision                                                                                            0.879545\n",
      "Total Time (minutes)                                                                                     140.187\n",
      "\n",
      "Fold 2\n"
     ]
    },
    {
     "data": {
      "application/vnd.jupyter.widget-view+json": {
       "model_id": "9831e088e77640f0b80bd65844f680b3",
       "version_major": 2,
       "version_minor": 0
      },
      "text/plain": [
       "  0%|          | 0/50 [00:00<?, ?it/s]"
      ]
     },
     "metadata": {},
     "output_type": "display_data"
    },
    {
     "data": {
      "application/vnd.jupyter.widget-view+json": {
       "model_id": "",
       "version_major": 2,
       "version_minor": 0
      },
      "text/plain": [
       "Epoch 1:   0%|          | 0/1875 [00:00<?, ?it/s]"
      ]
     },
     "metadata": {},
     "output_type": "display_data"
    },
    {
     "name": "stdout",
     "output_type": "stream",
     "text": [
      "\n",
      "Epoch 1\n",
      "Training loss: 0.1285144797718618\n",
      "Validation loss: 0.02335560234886278\n",
      "F1 Score (weighted): 0.9948000541165828\n"
     ]
    },
    {
     "data": {
      "application/vnd.jupyter.widget-view+json": {
       "model_id": "",
       "version_major": 2,
       "version_minor": 0
      },
      "text/plain": [
       "Epoch 2:   0%|          | 0/1875 [00:00<?, ?it/s]"
      ]
     },
     "metadata": {},
     "output_type": "display_data"
    },
    {
     "name": "stdout",
     "output_type": "stream",
     "text": [
      "\n",
      "Epoch 2\n",
      "Training loss: 0.09511354985539025\n",
      "Validation loss: 0.048576845441700926\n",
      "F1 Score (weighted): 0.9880018591358859\n",
      "\u001b[92m25.99% Training loss decreased compared to the previous epoch\u001b[0m\n",
      "\u001b[91m107.99% Validation loss increased compared to the previous epoch\u001b[0m\n",
      "\u001b[91m0.68% F1 Score decreased compared to the previous epoch\u001b[0m\n"
     ]
    },
    {
     "data": {
      "application/vnd.jupyter.widget-view+json": {
       "model_id": "",
       "version_major": 2,
       "version_minor": 0
      },
      "text/plain": [
       "Epoch 3:   0%|          | 0/1875 [00:00<?, ?it/s]"
      ]
     },
     "metadata": {},
     "output_type": "display_data"
    },
    {
     "name": "stdout",
     "output_type": "stream",
     "text": [
      "\n",
      "Epoch 3\n",
      "Training loss: 0.07561659003252862\n",
      "Validation loss: 0.067168343147713\n",
      "F1 Score (weighted): 0.9867974312234011\n",
      "\u001b[92m20.5% Training loss decreased compared to the previous epoch\u001b[0m\n",
      "\u001b[91m38.27% Validation loss increased compared to the previous epoch\u001b[0m\n",
      "\u001b[91m0.12% F1 Score decreased compared to the previous epoch\u001b[0m\n"
     ]
    },
    {
     "data": {
      "application/vnd.jupyter.widget-view+json": {
       "model_id": "",
       "version_major": 2,
       "version_minor": 0
      },
      "text/plain": [
       "Epoch 4:   0%|          | 0/1875 [00:00<?, ?it/s]"
      ]
     },
     "metadata": {},
     "output_type": "display_data"
    },
    {
     "name": "stdout",
     "output_type": "stream",
     "text": [
      "\n",
      "Epoch 4\n",
      "Training loss: 0.05703549031409978\n",
      "Validation loss: 0.07251429782787525\n",
      "F1 Score (weighted): 0.985996835872372\n",
      "\u001b[92m24.57% Training loss decreased compared to the previous epoch\u001b[0m\n",
      "\u001b[91m7.96% Validation loss increased compared to the previous epoch\u001b[0m\n",
      "\u001b[91m0.08% F1 Score decreased compared to the previous epoch\u001b[0m\n"
     ]
    },
    {
     "data": {
      "application/vnd.jupyter.widget-view+json": {
       "model_id": "",
       "version_major": 2,
       "version_minor": 0
      },
      "text/plain": [
       "Epoch 5:   0%|          | 0/1875 [00:00<?, ?it/s]"
      ]
     },
     "metadata": {},
     "output_type": "display_data"
    },
    {
     "name": "stdout",
     "output_type": "stream",
     "text": [
      "\n",
      "Epoch 5\n",
      "Training loss: 0.05523715633278868\n",
      "Validation loss: 0.08985454210172948\n",
      "F1 Score (weighted): 0.9840020488195278\n",
      "\u001b[92m3.15% Training loss decreased compared to the previous epoch\u001b[0m\n",
      "\u001b[91m23.91% Validation loss increased compared to the previous epoch\u001b[0m\n",
      "\u001b[91m0.2% F1 Score decreased compared to the previous epoch\u001b[0m\n"
     ]
    },
    {
     "data": {
      "application/vnd.jupyter.widget-view+json": {
       "model_id": "",
       "version_major": 2,
       "version_minor": 0
      },
      "text/plain": [
       "Epoch 6:   0%|          | 0/1875 [00:00<?, ?it/s]"
      ]
     },
     "metadata": {},
     "output_type": "display_data"
    },
    {
     "name": "stdout",
     "output_type": "stream",
     "text": [
      "\n",
      "Epoch 6\n",
      "Training loss: 0.047982386250295286\n",
      "Validation loss: 0.2537213948479189\n",
      "F1 Score (weighted): 0.9566810186673387\n",
      "\u001b[92m13.13% Training loss decreased compared to the previous epoch\u001b[0m\n",
      "\u001b[91m182.37% Validation loss increased compared to the previous epoch\u001b[0m\n",
      "\u001b[91m2.78% F1 Score decreased compared to the previous epoch\u001b[0m\n"
     ]
    },
    {
     "data": {
      "application/vnd.jupyter.widget-view+json": {
       "model_id": "",
       "version_major": 2,
       "version_minor": 0
      },
      "text/plain": [
       "Epoch 7:   0%|          | 0/1875 [00:00<?, ?it/s]"
      ]
     },
     "metadata": {},
     "output_type": "display_data"
    },
    {
     "name": "stdout",
     "output_type": "stream",
     "text": [
      "\n",
      "Epoch 7\n",
      "Training loss: 0.0383380345925844\n",
      "Validation loss: 0.12617961449912957\n",
      "F1 Score (weighted): 0.9799951561314661\n",
      "\u001b[92m20.1% Training loss decreased compared to the previous epoch\u001b[0m\n",
      "\u001b[92m50.27% Validation loss decreased compared to the previous epoch\u001b[0m\n",
      "\u001b[92m2.44% F1 Score increased compared to the previous epoch\u001b[0m\n"
     ]
    },
    {
     "data": {
      "application/vnd.jupyter.widget-view+json": {
       "model_id": "",
       "version_major": 2,
       "version_minor": 0
      },
      "text/plain": [
       "Epoch 8:   0%|          | 0/1875 [00:00<?, ?it/s]"
      ]
     },
     "metadata": {},
     "output_type": "display_data"
    },
    {
     "name": "stdout",
     "output_type": "stream",
     "text": [
      "\n",
      "Epoch 8\n",
      "Training loss: 0.03588212771706264\n",
      "Validation loss: 0.18118651294145002\n",
      "F1 Score (weighted): 0.9728042130622594\n",
      "\u001b[92m6.41% Training loss decreased compared to the previous epoch\u001b[0m\n",
      "\u001b[91m43.59% Validation loss increased compared to the previous epoch\u001b[0m\n",
      "\u001b[91m0.73% F1 Score decreased compared to the previous epoch\u001b[0m\n"
     ]
    },
    {
     "data": {
      "application/vnd.jupyter.widget-view+json": {
       "model_id": "",
       "version_major": 2,
       "version_minor": 0
      },
      "text/plain": [
       "Epoch 9:   0%|          | 0/1875 [00:00<?, ?it/s]"
      ]
     },
     "metadata": {},
     "output_type": "display_data"
    },
    {
     "name": "stdout",
     "output_type": "stream",
     "text": [
      "\n",
      "Epoch 9\n",
      "Training loss: 0.03570881100693368\n",
      "Validation loss: 0.1516470842376058\n",
      "F1 Score (weighted): 0.9771870832377774\n",
      "\u001b[92m0.48% Training loss decreased compared to the previous epoch\u001b[0m\n",
      "\u001b[92m16.3% Validation loss decreased compared to the previous epoch\u001b[0m\n",
      "\u001b[92m0.45% F1 Score increased compared to the previous epoch\u001b[0m\n"
     ]
    },
    {
     "data": {
      "application/vnd.jupyter.widget-view+json": {
       "model_id": "",
       "version_major": 2,
       "version_minor": 0
      },
      "text/plain": [
       "Epoch 10:   0%|          | 0/1875 [00:00<?, ?it/s]"
      ]
     },
     "metadata": {},
     "output_type": "display_data"
    },
    {
     "name": "stdout",
     "output_type": "stream",
     "text": [
      "\n",
      "Epoch 10\n",
      "Training loss: 0.024441579529774996\n",
      "Validation loss: 0.17072441501685887\n",
      "F1 Score (weighted): 0.9752\n",
      "\u001b[92m31.55% Training loss decreased compared to the previous epoch\u001b[0m\n",
      "\u001b[91m12.58% Validation loss increased compared to the previous epoch\u001b[0m\n",
      "\u001b[91m0.2% F1 Score decreased compared to the previous epoch\u001b[0m\n"
     ]
    },
    {
     "data": {
      "application/vnd.jupyter.widget-view+json": {
       "model_id": "",
       "version_major": 2,
       "version_minor": 0
      },
      "text/plain": [
       "Epoch 11:   0%|          | 0/1875 [00:00<?, ?it/s]"
      ]
     },
     "metadata": {},
     "output_type": "display_data"
    },
    {
     "name": "stdout",
     "output_type": "stream",
     "text": [
      "\n",
      "Epoch 11\n",
      "Training loss: 0.021438472271136804\n",
      "Validation loss: 0.23174262548947294\n",
      "F1 Score (weighted): 0.966762667198728\n",
      "\u001b[92m12.29% Training loss decreased compared to the previous epoch\u001b[0m\n",
      "\u001b[91m35.74% Validation loss increased compared to the previous epoch\u001b[0m\n",
      "\u001b[91m0.87% F1 Score decreased compared to the previous epoch\u001b[0m\n",
      "\n",
      "Early stopping triggered. Training stopped.\n",
      "\n",
      "Total training time: 128.57357314427693 minutes\n",
      "Final Accuracy: 0.9668\n",
      "Final Precision: 0.9677355275347399\n"
     ]
    },
    {
     "data": {
      "image/png": "[encoded data removed]",
      "text/plain": [
       "<Figure size 800x600 with 1 Axes>"
      ]
     },
     "metadata": {},
     "output_type": "display_data"
    },
    {
     "name": "stdout",
     "output_type": "stream",
     "text": [
      "Epoch                 Training Loss         Validation Loss       F1 Score            Accuracy              Precision\n",
      "--------------------  --------------------  --------------------  ------------------  ------------------  -----------\n",
      "1                     0.1285144797718618    0.02335560234886278   0.9948000541165828  0.9948                 0.9948\n",
      "2                     \u001b[92m0.09511354985539025\u001b[0m   \u001b[91m0.048576845441700926\u001b[0m  \u001b[91m0.9880018591358859\u001b[0m  \u001b[91m\u001b[91m0.9880018591358859\u001b[0m\u001b[0m     \u001b[91m\u001b[91m0.988002\u001b[0m\u001b[0m\n",
      "3                     \u001b[92m0.07561659003252862\u001b[0m   \u001b[91m0.067168343147713\u001b[0m     \u001b[91m0.9867974312234011\u001b[0m  \u001b[91m\u001b[91m0.9867974312234011\u001b[0m\u001b[0m     \u001b[91m\u001b[91m0.986797\u001b[0m\u001b[0m\n",
      "4                     \u001b[92m0.05703549031409978\u001b[0m   \u001b[91m0.07251429782787525\u001b[0m   \u001b[91m0.985996835872372\u001b[0m   \u001b[91m\u001b[91m0.985996835872372\u001b[0m\u001b[0m      \u001b[91m\u001b[91m0.985997\u001b[0m\u001b[0m\n",
      "5                     \u001b[92m0.05523715633278868\u001b[0m   \u001b[91m0.08985454210172948\u001b[0m   \u001b[91m0.9840020488195278\u001b[0m  \u001b[91m\u001b[91m0.9840020488195278\u001b[0m\u001b[0m     \u001b[91m\u001b[91m0.984002\u001b[0m\u001b[0m\n",
      "6                     \u001b[92m0.047982386250295286\u001b[0m  \u001b[91m0.2537213948479189\u001b[0m    \u001b[91m0.9566810186673387\u001b[0m  \u001b[91m\u001b[91m0.9566810186673387\u001b[0m\u001b[0m     \u001b[91m\u001b[91m0.956681\u001b[0m\u001b[0m\n",
      "7                     \u001b[92m0.0383380345925844\u001b[0m    \u001b[92m0.12617961449912957\u001b[0m   \u001b[92m0.9799951561314661\u001b[0m  \u001b[92m\u001b[92m0.9799951561314661\u001b[0m\u001b[0m     \u001b[92m\u001b[92m0.979995\u001b[0m\u001b[0m\n",
      "8                     \u001b[92m0.03588212771706264\u001b[0m   \u001b[91m0.18118651294145002\u001b[0m   \u001b[91m0.9728042130622594\u001b[0m  \u001b[91m\u001b[91m0.9728042130622594\u001b[0m\u001b[0m     \u001b[91m\u001b[91m0.972804\u001b[0m\u001b[0m\n",
      "9                     \u001b[92m0.03570881100693368\u001b[0m   \u001b[92m0.1516470842376058\u001b[0m    \u001b[92m0.9771870832377774\u001b[0m  \u001b[92m\u001b[92m0.9771870832377774\u001b[0m\u001b[0m     \u001b[92m\u001b[92m0.977187\u001b[0m\u001b[0m\n",
      "10                    \u001b[92m0.024441579529774996\u001b[0m  \u001b[91m0.17072441501685887\u001b[0m   \u001b[91m0.9752\u001b[0m              \u001b[91m\u001b[91m0.9752\u001b[0m\u001b[0m                 \u001b[91m\u001b[91m0.9752\u001b[0m\u001b[0m\n",
      "11                    \u001b[92m0.021438472271136804\u001b[0m  \u001b[91m0.23174262548947294\u001b[0m   \u001b[91m0.966762667198728\u001b[0m   \u001b[91m\u001b[91m0.966762667198728\u001b[0m\u001b[0m      \u001b[91m\u001b[91m0.966763\u001b[0m\u001b[0m\n",
      "Total Training Time                                                                                       7714.41\n",
      "Final Precision                                                                                              0.967736\n",
      "Total Time (minutes)                                                                                       128.574\n",
      "\n",
      "Fold 3\n"
     ]
    },
    {
     "data": {
      "application/vnd.jupyter.widget-view+json": {
       "model_id": "9adb720e670c4fec8b0a63dd0c182ee6",
       "version_major": 2,
       "version_minor": 0
      },
      "text/plain": [
       "  0%|          | 0/50 [00:00<?, ?it/s]"
      ]
     },
     "metadata": {},
     "output_type": "display_data"
    },
    {
     "data": {
      "application/vnd.jupyter.widget-view+json": {
       "model_id": "",
       "version_major": 2,
       "version_minor": 0
      },
      "text/plain": [
       "Epoch 1:   0%|          | 0/1875 [00:00<?, ?it/s]"
      ]
     },
     "metadata": {},
     "output_type": "display_data"
    },
    {
     "name": "stdout",
     "output_type": "stream",
     "text": [
      "\n",
      "Epoch 1\n",
      "Training loss: 0.03983130563705199\n",
      "Validation loss: 0.00028980265396009937\n",
      "F1 Score (weighted): 1.0\n"
     ]
    },
    {
     "data": {
      "application/vnd.jupyter.widget-view+json": {
       "model_id": "",
       "version_major": 2,
       "version_minor": 0
      },
      "text/plain": [
       "Epoch 2:   0%|          | 0/1875 [00:00<?, ?it/s]"
      ]
     },
     "metadata": {},
     "output_type": "display_data"
    },
    {
     "name": "stdout",
     "output_type": "stream",
     "text": [
      "\n",
      "Epoch 2\n",
      "Training loss: 0.025213871677833472\n",
      "Validation loss: 0.004597955653184401\n",
      "F1 Score (weighted): 0.9988000132491214\n",
      "\u001b[92m36.7% Training loss decreased compared to the previous epoch\u001b[0m\n",
      "\u001b[91m1486.58% Validation loss increased compared to the previous epoch\u001b[0m\n",
      "\u001b[91m0.12% F1 Score decreased compared to the previous epoch\u001b[0m\n"
     ]
    },
    {
     "data": {
      "application/vnd.jupyter.widget-view+json": {
       "model_id": "",
       "version_major": 2,
       "version_minor": 0
      },
      "text/plain": [
       "Epoch 3:   0%|          | 0/1875 [00:00<?, ?it/s]"
      ]
     },
     "metadata": {},
     "output_type": "display_data"
    },
    {
     "name": "stdout",
     "output_type": "stream",
     "text": [
      "\n",
      "Epoch 3\n",
      "Training loss: 0.0199158302564756\n",
      "Validation loss: 0.005950303158845221\n",
      "F1 Score (weighted): 0.9987999832937521\n",
      "\u001b[92m21.01% Training loss decreased compared to the previous epoch\u001b[0m\n",
      "\u001b[91m29.41% Validation loss increased compared to the previous epoch\u001b[0m\n",
      "\u001b[91m0.0% F1 Score decreased compared to the previous epoch\u001b[0m\n"
     ]
    },
    {
     "data": {
      "application/vnd.jupyter.widget-view+json": {
       "model_id": "",
       "version_major": 2,
       "version_minor": 0
      },
      "text/plain": [
       "Epoch 4:   0%|          | 0/1875 [00:00<?, ?it/s]"
      ]
     },
     "metadata": {},
     "output_type": "display_data"
    },
    {
     "name": "stdout",
     "output_type": "stream",
     "text": [
      "\n",
      "Epoch 4\n",
      "Training loss: 0.017222091477569\n",
      "Validation loss: 0.010061437206138254\n",
      "F1 Score (weighted): 0.9980000220818692\n",
      "\u001b[92m13.53% Training loss decreased compared to the previous epoch\u001b[0m\n",
      "\u001b[91m69.09% Validation loss increased compared to the previous epoch\u001b[0m\n",
      "\u001b[91m0.08% F1 Score decreased compared to the previous epoch\u001b[0m\n"
     ]
    },
    {
     "data": {
      "application/vnd.jupyter.widget-view+json": {
       "model_id": "",
       "version_major": 2,
       "version_minor": 0
      },
      "text/plain": [
       "Epoch 5:   0%|          | 0/1875 [00:00<?, ?it/s]"
      ]
     },
     "metadata": {},
     "output_type": "display_data"
    },
    {
     "name": "stdout",
     "output_type": "stream",
     "text": [
      "\n",
      "Epoch 5\n",
      "Training loss: 0.01606775985265655\n",
      "Validation loss: 0.0023151647120122675\n",
      "F1 Score (weighted): 0.9996000016001599\n",
      "\u001b[92m6.7% Training loss decreased compared to the previous epoch\u001b[0m\n",
      "\u001b[92m76.99% Validation loss decreased compared to the previous epoch\u001b[0m\n",
      "\u001b[92m0.16% F1 Score increased compared to the previous epoch\u001b[0m\n"
     ]
    },
    {
     "data": {
      "application/vnd.jupyter.widget-view+json": {
       "model_id": "",
       "version_major": 2,
       "version_minor": 0
      },
      "text/plain": [
       "Epoch 6:   0%|          | 0/1875 [00:00<?, ?it/s]"
      ]
     },
     "metadata": {},
     "output_type": "display_data"
    },
    {
     "name": "stdout",
     "output_type": "stream",
     "text": [
      "\n",
      "Epoch 6\n",
      "Training loss: 0.014605428302255556\n",
      "Validation loss: 0.00444552019141056\n",
      "F1 Score (weighted): 0.9992\n",
      "\u001b[92m9.1% Training loss decreased compared to the previous epoch\u001b[0m\n",
      "\u001b[91m92.02% Validation loss increased compared to the previous epoch\u001b[0m\n",
      "\u001b[91m0.04% F1 Score decreased compared to the previous epoch\u001b[0m\n"
     ]
    },
    {
     "data": {
      "application/vnd.jupyter.widget-view+json": {
       "model_id": "",
       "version_major": 2,
       "version_minor": 0
      },
      "text/plain": [
       "Epoch 7:   0%|          | 0/1875 [00:00<?, ?it/s]"
      ]
     },
     "metadata": {},
     "output_type": "display_data"
    },
    {
     "name": "stdout",
     "output_type": "stream",
     "text": [
      "\n",
      "Epoch 7\n",
      "Training loss: 0.013339596842533986\n",
      "Validation loss: 0.005106835069060061\n",
      "F1 Score (weighted): 0.9992000061445662\n",
      "\u001b[92m8.67% Training loss decreased compared to the previous epoch\u001b[0m\n",
      "\u001b[91m14.88% Validation loss increased compared to the previous epoch\u001b[0m\n",
      "\u001b[92m0.0% F1 Score increased compared to the previous epoch\u001b[0m\n"
     ]
    },
    {
     "data": {
      "application/vnd.jupyter.widget-view+json": {
       "model_id": "",
       "version_major": 2,
       "version_minor": 0
      },
      "text/plain": [
       "Epoch 8:   0%|          | 0/1875 [00:00<?, ?it/s]"
      ]
     },
     "metadata": {},
     "output_type": "display_data"
    },
    {
     "name": "stdout",
     "output_type": "stream",
     "text": [
      "\n",
      "Epoch 8\n",
      "Training loss: 0.012670246550354326\n",
      "Validation loss: 0.0032210833795971758\n",
      "F1 Score (weighted): 0.9992\n",
      "\u001b[92m5.02% Training loss decreased compared to the previous epoch\u001b[0m\n",
      "\u001b[92m36.93% Validation loss decreased compared to the previous epoch\u001b[0m\n",
      "\u001b[91m0.0% F1 Score decreased compared to the previous epoch\u001b[0m\n"
     ]
    },
    {
     "data": {
      "application/vnd.jupyter.widget-view+json": {
       "model_id": "",
       "version_major": 2,
       "version_minor": 0
      },
      "text/plain": [
       "Epoch 9:   0%|          | 0/1875 [00:00<?, ?it/s]"
      ]
     },
     "metadata": {},
     "output_type": "display_data"
    },
    {
     "name": "stdout",
     "output_type": "stream",
     "text": [
      "\n",
      "Epoch 9\n",
      "Training loss: 0.010195774157931495\n",
      "Validation loss: 0.004744258207667729\n",
      "F1 Score (weighted): 0.9992000061445662\n",
      "\u001b[92m19.53% Training loss decreased compared to the previous epoch\u001b[0m\n",
      "\u001b[91m47.29% Validation loss increased compared to the previous epoch\u001b[0m\n",
      "\u001b[92m0.0% F1 Score increased compared to the previous epoch\u001b[0m\n"
     ]
    },
    {
     "data": {
      "application/vnd.jupyter.widget-view+json": {
       "model_id": "",
       "version_major": 2,
       "version_minor": 0
      },
      "text/plain": [
       "Epoch 10:   0%|          | 0/1875 [00:00<?, ?it/s]"
      ]
     },
     "metadata": {},
     "output_type": "display_data"
    },
    {
     "name": "stdout",
     "output_type": "stream",
     "text": [
      "\n",
      "Epoch 10\n",
      "Training loss: 0.01087671224969005\n",
      "Validation loss: 0.006929803907727172\n",
      "F1 Score (weighted): 0.9987999832937521\n",
      "\u001b[91m6.68% Training loss increased compared to the previous epoch\u001b[0m\n",
      "\u001b[91m46.07% Validation loss increased compared to the previous epoch\u001b[0m\n",
      "\u001b[91m0.04% F1 Score decreased compared to the previous epoch\u001b[0m\n"
     ]
    },
    {
     "data": {
      "application/vnd.jupyter.widget-view+json": {
       "model_id": "",
       "version_major": 2,
       "version_minor": 0
      },
      "text/plain": [
       "Epoch 11:   0%|          | 0/1875 [00:00<?, ?it/s]"
      ]
     },
     "metadata": {},
     "output_type": "display_data"
    },
    {
     "name": "stdout",
     "output_type": "stream",
     "text": [
      "\n",
      "Epoch 11\n",
      "Training loss: 0.009935062550298366\n",
      "Validation loss: 0.0214333343095028\n",
      "F1 Score (weighted): 0.9968000737318221\n",
      "\u001b[92m8.66% Training loss decreased compared to the previous epoch\u001b[0m\n",
      "\u001b[91m209.29% Validation loss increased compared to the previous epoch\u001b[0m\n",
      "\u001b[91m0.2% F1 Score decreased compared to the previous epoch\u001b[0m\n",
      "\n",
      "Early stopping triggered. Training stopped.\n",
      "\n",
      "Total training time: 128.61835205952326 minutes\n",
      "Final Accuracy: 0.9968\n",
      "Final Precision: 0.9968205622489961\n"
     ]
    },
    {
     "data": {
      "image/png": "[encoded data removed]",
      "text/plain": [
       "<Figure size 800x600 with 1 Axes>"
      ]
     },
     "metadata": {},
     "output_type": "display_data"
    },
    {
     "name": "stdout",
     "output_type": "stream",
     "text": [
      "Epoch                 Training Loss         Validation Loss         F1 Score            Accuracy              Precision\n",
      "--------------------  --------------------  ----------------------  ------------------  ------------------  -----------\n",
      "1                     0.03983130563705199   0.00028980265396009937  1.0                 1.0                    1\n",
      "2                     \u001b[92m0.025213871677833472\u001b[0m  \u001b[91m0.004597955653184401\u001b[0m    \u001b[91m0.9988000132491214\u001b[0m  \u001b[91m\u001b[91m0.9988000132491214\u001b[0m\u001b[0m     \u001b[91m\u001b[91m0.9988\u001b[0m\u001b[0m\n",
      "3                     \u001b[92m0.0199158302564756\u001b[0m    \u001b[91m0.005950303158845221\u001b[0m    \u001b[91m0.9987999832937521\u001b[0m  \u001b[91m\u001b[91m0.9987999832937521\u001b[0m\u001b[0m     \u001b[92m\u001b[91m0.9988\u001b[0m\u001b[0m\n",
      "4                     \u001b[92m0.017222091477569\u001b[0m     \u001b[91m0.010061437206138254\u001b[0m    \u001b[91m0.9980000220818692\u001b[0m  \u001b[91m\u001b[91m0.9980000220818692\u001b[0m\u001b[0m     \u001b[91m\u001b[91m0.998\u001b[0m\u001b[0m\n",
      "5                     \u001b[92m0.01606775985265655\u001b[0m   \u001b[92m0.0023151647120122675\u001b[0m   \u001b[92m0.9996000016001599\u001b[0m  \u001b[92m\u001b[92m0.9996000016001599\u001b[0m\u001b[0m     \u001b[92m\u001b[92m0.9996\u001b[0m\u001b[0m\n",
      "6                     \u001b[92m0.014605428302255556\u001b[0m  \u001b[91m0.00444552019141056\u001b[0m     \u001b[91m0.9992\u001b[0m              \u001b[91m\u001b[91m0.9992\u001b[0m\u001b[0m                 \u001b[91m\u001b[91m0.9992\u001b[0m\u001b[0m\n",
      "7                     \u001b[92m0.013339596842533986\u001b[0m  \u001b[91m0.005106835069060061\u001b[0m    \u001b[92m0.9992000061445662\u001b[0m  0.9992                 \u001b[92m\u001b[92m0.9992\u001b[0m\u001b[0m\n",
      "8                     \u001b[92m0.012670246550354326\u001b[0m  \u001b[92m0.0032210833795971758\u001b[0m   \u001b[91m0.9992\u001b[0m              \u001b[91m\u001b[91m0.9992\u001b[0m\u001b[0m                 \u001b[91m\u001b[91m0.9992\u001b[0m\u001b[0m\n",
      "9                     \u001b[92m0.010195774157931495\u001b[0m  \u001b[91m0.004744258207667729\u001b[0m    \u001b[92m0.9992000061445662\u001b[0m  0.9992                 \u001b[92m\u001b[92m0.9992\u001b[0m\u001b[0m\n",
      "10                    \u001b[91m0.01087671224969005\u001b[0m   \u001b[91m0.006929803907727172\u001b[0m    \u001b[91m0.9987999832937521\u001b[0m  \u001b[91m\u001b[91m0.9987999832937521\u001b[0m\u001b[0m     \u001b[91m\u001b[91m0.9988\u001b[0m\u001b[0m\n",
      "11                    \u001b[92m0.009935062550298366\u001b[0m  \u001b[91m0.0214333343095028\u001b[0m      \u001b[91m0.9968000737318221\u001b[0m  \u001b[91m\u001b[91m0.9968000737318221\u001b[0m\u001b[0m     \u001b[91m\u001b[91m0.9968\u001b[0m\u001b[0m\n",
      "Total Training Time                                                                                         7717.1\n",
      "Final Precision                                                                                                0.996821\n",
      "Total Time (minutes)                                                                                         128.618\n",
      "\n",
      "Fold 4\n"
     ]
    },
    {
     "data": {
      "application/vnd.jupyter.widget-view+json": {
       "model_id": "b83504300a5846c8b3fa1aca048ce701",
       "version_major": 2,
       "version_minor": 0
      },
      "text/plain": [
       "  0%|          | 0/50 [00:00<?, ?it/s]"
      ]
     },
     "metadata": {},
     "output_type": "display_data"
    },
    {
     "data": {
      "application/vnd.jupyter.widget-view+json": {
       "model_id": "",
       "version_major": 2,
       "version_minor": 0
      },
      "text/plain": [
       "Epoch 1:   0%|          | 0/1875 [00:00<?, ?it/s]"
      ]
     },
     "metadata": {},
     "output_type": "display_data"
    },
    {
     "name": "stdout",
     "output_type": "stream",
     "text": [
      "\n",
      "Epoch 1\n",
      "Training loss: 0.015643054434894294\n",
      "Validation loss: 0.004280044853588556\n",
      "F1 Score (weighted): 0.999600004547668\n"
     ]
    },
    {
     "data": {
      "application/vnd.jupyter.widget-view+json": {
       "model_id": "",
       "version_major": 2,
       "version_minor": 0
      },
      "text/plain": [
       "Epoch 2:   0%|          | 0/1875 [00:00<?, ?it/s]"
      ]
     },
     "metadata": {},
     "output_type": "display_data"
    },
    {
     "name": "stdout",
     "output_type": "stream",
     "text": [
      "\n",
      "Epoch 2\n",
      "Training loss: 0.008726915990664202\n",
      "Validation loss: 0.004646694346715058\n",
      "F1 Score (weighted): 0.999600004547668\n",
      "\u001b[92m44.21% Training loss decreased compared to the previous epoch\u001b[0m\n",
      "\u001b[91m8.57% Validation loss increased compared to the previous epoch\u001b[0m\n"
     ]
    },
    {
     "data": {
      "application/vnd.jupyter.widget-view+json": {
       "model_id": "",
       "version_major": 2,
       "version_minor": 0
      },
      "text/plain": [
       "Epoch 3:   0%|          | 0/1875 [00:00<?, ?it/s]"
      ]
     },
     "metadata": {},
     "output_type": "display_data"
    },
    {
     "name": "stdout",
     "output_type": "stream",
     "text": [
      "\n",
      "Epoch 3\n",
      "Training loss: 0.006667301347485409\n",
      "Validation loss: 0.004858472457184968\n",
      "F1 Score (weighted): 0.999600004547668\n",
      "\u001b[92m23.6% Training loss decreased compared to the previous epoch\u001b[0m\n",
      "\u001b[91m4.56% Validation loss increased compared to the previous epoch\u001b[0m\n"
     ]
    },
    {
     "data": {
      "application/vnd.jupyter.widget-view+json": {
       "model_id": "",
       "version_major": 2,
       "version_minor": 0
      },
      "text/plain": [
       "Epoch 4:   0%|          | 0/1875 [00:00<?, ?it/s]"
      ]
     },
     "metadata": {},
     "output_type": "display_data"
    },
    {
     "name": "stdout",
     "output_type": "stream",
     "text": [
      "\n",
      "Epoch 4\n",
      "Training loss: 0.009290549482696467\n",
      "Validation loss: 0.004456123760827283\n",
      "F1 Score (weighted): 0.999600004547668\n",
      "\u001b[91m39.34% Training loss increased compared to the previous epoch\u001b[0m\n",
      "\u001b[92m8.28% Validation loss decreased compared to the previous epoch\u001b[0m\n"
     ]
    },
    {
     "data": {
      "application/vnd.jupyter.widget-view+json": {
       "model_id": "",
       "version_major": 2,
       "version_minor": 0
      },
      "text/plain": [
       "Epoch 5:   0%|          | 0/1875 [00:00<?, ?it/s]"
      ]
     },
     "metadata": {},
     "output_type": "display_data"
    },
    {
     "name": "stdout",
     "output_type": "stream",
     "text": [
      "\n",
      "Epoch 5\n",
      "Training loss: 0.007596028238096672\n",
      "Validation loss: 0.004748734808328172\n",
      "F1 Score (weighted): 0.999600004547668\n",
      "\u001b[92m18.24% Training loss decreased compared to the previous epoch\u001b[0m\n",
      "\u001b[91m6.57% Validation loss increased compared to the previous epoch\u001b[0m\n"
     ]
    },
    {
     "data": {
      "application/vnd.jupyter.widget-view+json": {
       "model_id": "",
       "version_major": 2,
       "version_minor": 0
      },
      "text/plain": [
       "Epoch 6:   0%|          | 0/1875 [00:00<?, ?it/s]"
      ]
     },
     "metadata": {},
     "output_type": "display_data"
    },
    {
     "name": "stdout",
     "output_type": "stream",
     "text": [
      "\n",
      "Epoch 6\n",
      "Training loss: 0.006630176438847775\n",
      "Validation loss: 0.0049451663981985436\n",
      "F1 Score (weighted): 0.999600004547668\n",
      "\u001b[92m12.72% Training loss decreased compared to the previous epoch\u001b[0m\n",
      "\u001b[91m4.14% Validation loss increased compared to the previous epoch\u001b[0m\n"
     ]
    },
    {
     "data": {
      "application/vnd.jupyter.widget-view+json": {
       "model_id": "",
       "version_major": 2,
       "version_minor": 0
      },
      "text/plain": [
       "Epoch 7:   0%|          | 0/1875 [00:00<?, ?it/s]"
      ]
     },
     "metadata": {},
     "output_type": "display_data"
    },
    {
     "name": "stdout",
     "output_type": "stream",
     "text": [
      "\n",
      "Epoch 7\n",
      "Training loss: 0.005444222737338411\n",
      "Validation loss: 0.005015016754097279\n",
      "F1 Score (weighted): 0.999600004547668\n",
      "\u001b[92m17.89% Training loss decreased compared to the previous epoch\u001b[0m\n",
      "\u001b[91m1.41% Validation loss increased compared to the previous epoch\u001b[0m\n"
     ]
    },
    {
     "data": {
      "application/vnd.jupyter.widget-view+json": {
       "model_id": "",
       "version_major": 2,
       "version_minor": 0
      },
      "text/plain": [
       "Epoch 8:   0%|          | 0/1875 [00:00<?, ?it/s]"
      ]
     },
     "metadata": {},
     "output_type": "display_data"
    },
    {
     "name": "stdout",
     "output_type": "stream",
     "text": [
      "\n",
      "Epoch 8\n",
      "Training loss: 0.004895590497191491\n",
      "Validation loss: 0.005166667200494942\n",
      "F1 Score (weighted): 0.999600004547668\n",
      "\u001b[92m10.08% Training loss decreased compared to the previous epoch\u001b[0m\n",
      "\u001b[91m3.02% Validation loss increased compared to the previous epoch\u001b[0m\n"
     ]
    },
    {
     "data": {
      "application/vnd.jupyter.widget-view+json": {
       "model_id": "",
       "version_major": 2,
       "version_minor": 0
      },
      "text/plain": [
       "Epoch 9:   0%|          | 0/1875 [00:00<?, ?it/s]"
      ]
     },
     "metadata": {},
     "output_type": "display_data"
    },
    {
     "name": "stdout",
     "output_type": "stream",
     "text": [
      "\n",
      "Epoch 9\n",
      "Training loss: 0.004250548580618549\n",
      "Validation loss: 0.005210590311998765\n",
      "F1 Score (weighted): 0.999600004547668\n",
      "\u001b[92m13.18% Training loss decreased compared to the previous epoch\u001b[0m\n",
      "\u001b[91m0.85% Validation loss increased compared to the previous epoch\u001b[0m\n"
     ]
    },
    {
     "data": {
      "application/vnd.jupyter.widget-view+json": {
       "model_id": "",
       "version_major": 2,
       "version_minor": 0
      },
      "text/plain": [
       "Epoch 10:   0%|          | 0/1875 [00:00<?, ?it/s]"
      ]
     },
     "metadata": {},
     "output_type": "display_data"
    },
    {
     "name": "stdout",
     "output_type": "stream",
     "text": [
      "\n",
      "Epoch 10\n",
      "Training loss: 0.002287251712504379\n",
      "Validation loss: 0.005272266297174774\n",
      "F1 Score (weighted): 0.999600004547668\n",
      "\u001b[92m46.19% Training loss decreased compared to the previous epoch\u001b[0m\n",
      "\u001b[91m1.18% Validation loss increased compared to the previous epoch\u001b[0m\n"
     ]
    },
    {
     "data": {
      "application/vnd.jupyter.widget-view+json": {
       "model_id": "",
       "version_major": 2,
       "version_minor": 0
      },
      "text/plain": [
       "Epoch 11:   0%|          | 0/1875 [00:00<?, ?it/s]"
      ]
     },
     "metadata": {},
     "output_type": "display_data"
    },
    {
     "name": "stdout",
     "output_type": "stream",
     "text": [
      "\n",
      "Epoch 11\n",
      "Training loss: 0.0024251053794047037\n",
      "Validation loss: 0.005312125882592694\n",
      "F1 Score (weighted): 0.999600004547668\n",
      "\u001b[91m6.03% Training loss increased compared to the previous epoch\u001b[0m\n",
      "\u001b[91m0.76% Validation loss increased compared to the previous epoch\u001b[0m\n",
      "\n",
      "Early stopping triggered. Training stopped.\n",
      "\n",
      "Total training time: 128.67220027844112 minutes\n",
      "Final Accuracy: 0.9996\n",
      "Final Precision: 0.999600329218107\n"
     ]
    },
    {
     "data": {
      "image/png": "[encoded data removed]",
      "text/plain": [
       "<Figure size 800x600 with 1 Axes>"
      ]
     },
     "metadata": {},
     "output_type": "display_data"
    },
    {
     "name": "stdout",
     "output_type": "stream",
     "text": [
      "Epoch                 Training Loss          Validation Loss        F1 Score           Accuracy             Precision\n",
      "--------------------  ---------------------  ---------------------  -----------------  -----------------  -----------\n",
      "1                     0.015643054434894294   0.004280044853588556   0.999600004547668  0.9996                  0.9996\n",
      "2                     \u001b[92m0.008726915990664202\u001b[0m   \u001b[91m0.004646694346715058\u001b[0m   0.999600004547668  \u001b[91m0.999600004547668\u001b[0m       \u001b[92m0.9996\u001b[0m\n",
      "3                     \u001b[92m0.006667301347485409\u001b[0m   \u001b[91m0.004858472457184968\u001b[0m   0.999600004547668  \u001b[91m0.999600004547668\u001b[0m       \u001b[92m0.9996\u001b[0m\n",
      "4                     \u001b[91m0.009290549482696467\u001b[0m   \u001b[92m0.004456123760827283\u001b[0m   0.999600004547668  \u001b[91m0.999600004547668\u001b[0m       \u001b[92m0.9996\u001b[0m\n",
      "5                     \u001b[92m0.007596028238096672\u001b[0m   \u001b[91m0.004748734808328172\u001b[0m   0.999600004547668  \u001b[91m0.999600004547668\u001b[0m       \u001b[92m0.9996\u001b[0m\n",
      "6                     \u001b[92m0.006630176438847775\u001b[0m   \u001b[91m0.0049451663981985436\u001b[0m  0.999600004547668  \u001b[91m0.999600004547668\u001b[0m       \u001b[92m0.9996\u001b[0m\n",
      "7                     \u001b[92m0.005444222737338411\u001b[0m   \u001b[91m0.005015016754097279\u001b[0m   0.999600004547668  \u001b[91m0.999600004547668\u001b[0m       \u001b[92m0.9996\u001b[0m\n",
      "8                     \u001b[92m0.004895590497191491\u001b[0m   \u001b[91m0.005166667200494942\u001b[0m   0.999600004547668  \u001b[91m0.999600004547668\u001b[0m       \u001b[92m0.9996\u001b[0m\n",
      "9                     \u001b[92m0.004250548580618549\u001b[0m   \u001b[91m0.005210590311998765\u001b[0m   0.999600004547668  \u001b[91m0.999600004547668\u001b[0m       \u001b[92m0.9996\u001b[0m\n",
      "10                    \u001b[92m0.002287251712504379\u001b[0m   \u001b[91m0.005272266297174774\u001b[0m   0.999600004547668  \u001b[91m0.999600004547668\u001b[0m       \u001b[92m0.9996\u001b[0m\n",
      "11                    \u001b[91m0.0024251053794047037\u001b[0m  \u001b[91m0.005312125882592694\u001b[0m   0.999600004547668  \u001b[91m0.999600004547668\u001b[0m       \u001b[92m0.9996\u001b[0m\n",
      "Total Training Time                                                                                         7720.33\n",
      "Final Precision                                                                                                0.9996\n",
      "Total Time (minutes)                                                                                         128.672\n",
      "\n",
      "Fold 5\n"
     ]
    },
    {
     "data": {
      "application/vnd.jupyter.widget-view+json": {
       "model_id": "789e4fe597634b5ab9a3edbad5e0083e",
       "version_major": 2,
       "version_minor": 0
      },
      "text/plain": [
       "  0%|          | 0/50 [00:00<?, ?it/s]"
      ]
     },
     "metadata": {},
     "output_type": "display_data"
    },
    {
     "data": {
      "application/vnd.jupyter.widget-view+json": {
       "model_id": "",
       "version_major": 2,
       "version_minor": 0
      },
      "text/plain": [
       "Epoch 1:   0%|          | 0/1875 [00:00<?, ?it/s]"
      ]
     },
     "metadata": {},
     "output_type": "display_data"
    },
    {
     "name": "stdout",
     "output_type": "stream",
     "text": [
      "\n",
      "Epoch 1\n",
      "Training loss: 0.005031202268288083\n",
      "Validation loss: 8.040444773480898e-07\n",
      "F1 Score (weighted): 1.0\n"
     ]
    },
    {
     "data": {
      "application/vnd.jupyter.widget-view+json": {
       "model_id": "",
       "version_major": 2,
       "version_minor": 0
      },
      "text/plain": [
       "Epoch 2:   0%|          | 0/1875 [00:00<?, ?it/s]"
      ]
     },
     "metadata": {},
     "output_type": "display_data"
    },
    {
     "name": "stdout",
     "output_type": "stream",
     "text": [
      "\n",
      "Epoch 2\n",
      "Training loss: 0.006244307469535306\n",
      "Validation loss: 9.843316679812168e-07\n",
      "F1 Score (weighted): 1.0\n",
      "\u001b[91m24.11% Training loss increased compared to the previous epoch\u001b[0m\n",
      "\u001b[91m22.42% Validation loss increased compared to the previous epoch\u001b[0m\n"
     ]
    },
    {
     "data": {
      "application/vnd.jupyter.widget-view+json": {
       "model_id": "",
       "version_major": 2,
       "version_minor": 0
      },
      "text/plain": [
       "Epoch 3:   0%|          | 0/1875 [00:00<?, ?it/s]"
      ]
     },
     "metadata": {},
     "output_type": "display_data"
    },
    {
     "name": "stdout",
     "output_type": "stream",
     "text": [
      "\n",
      "Epoch 3\n",
      "Training loss: 0.0035863814249769955\n",
      "Validation loss: 1.2315906454631568e-06\n",
      "F1 Score (weighted): 1.0\n",
      "\u001b[92m42.57% Training loss decreased compared to the previous epoch\u001b[0m\n",
      "\u001b[91m25.12% Validation loss increased compared to the previous epoch\u001b[0m\n"
     ]
    },
    {
     "data": {
      "application/vnd.jupyter.widget-view+json": {
       "model_id": "",
       "version_major": 2,
       "version_minor": 0
      },
      "text/plain": [
       "Epoch 4:   0%|          | 0/1875 [00:00<?, ?it/s]"
      ]
     },
     "metadata": {},
     "output_type": "display_data"
    },
    {
     "name": "stdout",
     "output_type": "stream",
     "text": [
      "\n",
      "Epoch 4\n",
      "Training loss: 0.00402345399314842\n",
      "Validation loss: 1.6030967700995836e-06\n",
      "F1 Score (weighted): 1.0\n",
      "\u001b[91m12.19% Training loss increased compared to the previous epoch\u001b[0m\n",
      "\u001b[91m30.16% Validation loss increased compared to the previous epoch\u001b[0m\n"
     ]
    },
    {
     "data": {
      "application/vnd.jupyter.widget-view+json": {
       "model_id": "",
       "version_major": 2,
       "version_minor": 0
      },
      "text/plain": [
       "Epoch 5:   0%|          | 0/1875 [00:00<?, ?it/s]"
      ]
     },
     "metadata": {},
     "output_type": "display_data"
    },
    {
     "name": "stdout",
     "output_type": "stream",
     "text": [
      "\n",
      "Epoch 5\n",
      "Training loss: 0.0016107675513031305\n",
      "Validation loss: 1.7658439604968463e-06\n",
      "F1 Score (weighted): 1.0\n",
      "\u001b[92m59.97% Training loss decreased compared to the previous epoch\u001b[0m\n",
      "\u001b[91m10.15% Validation loss increased compared to the previous epoch\u001b[0m\n"
     ]
    },
    {
     "data": {
      "application/vnd.jupyter.widget-view+json": {
       "model_id": "",
       "version_major": 2,
       "version_minor": 0
      },
      "text/plain": [
       "Epoch 6:   0%|          | 0/1875 [00:00<?, ?it/s]"
      ]
     },
     "metadata": {},
     "output_type": "display_data"
    },
    {
     "name": "stdout",
     "output_type": "stream",
     "text": [
      "\n",
      "Epoch 6\n",
      "Training loss: 0.0017304050210558974\n",
      "Validation loss: 1.960343022771219e-06\n",
      "F1 Score (weighted): 1.0\n",
      "\u001b[91m7.43% Training loss increased compared to the previous epoch\u001b[0m\n",
      "\u001b[91m11.01% Validation loss increased compared to the previous epoch\u001b[0m\n"
     ]
    },
    {
     "data": {
      "application/vnd.jupyter.widget-view+json": {
       "model_id": "",
       "version_major": 2,
       "version_minor": 0
      },
      "text/plain": [
       "Epoch 7:   0%|          | 0/1875 [00:00<?, ?it/s]"
      ]
     },
     "metadata": {},
     "output_type": "display_data"
    },
    {
     "name": "stdout",
     "output_type": "stream",
     "text": [
      "\n",
      "Epoch 7\n",
      "Training loss: 0.0016642143625730872\n",
      "Validation loss: 1.9367197771978018e-06\n",
      "F1 Score (weighted): 1.0\n",
      "\u001b[92m3.83% Training loss decreased compared to the previous epoch\u001b[0m\n",
      "\u001b[92m1.21% Validation loss decreased compared to the previous epoch\u001b[0m\n"
     ]
    },
    {
     "data": {
      "application/vnd.jupyter.widget-view+json": {
       "model_id": "",
       "version_major": 2,
       "version_minor": 0
      },
      "text/plain": [
       "Epoch 8:   0%|          | 0/1875 [00:00<?, ?it/s]"
      ]
     },
     "metadata": {},
     "output_type": "display_data"
    },
    {
     "name": "stdout",
     "output_type": "stream",
     "text": [
      "\n",
      "Epoch 8\n",
      "Training loss: 0.0010666738753023917\n",
      "Validation loss: 2.1718099723173285e-06\n",
      "F1 Score (weighted): 1.0\n",
      "\u001b[92m35.91% Training loss decreased compared to the previous epoch\u001b[0m\n",
      "\u001b[91m12.14% Validation loss increased compared to the previous epoch\u001b[0m\n"
     ]
    },
    {
     "data": {
      "application/vnd.jupyter.widget-view+json": {
       "model_id": "",
       "version_major": 2,
       "version_minor": 0
      },
      "text/plain": [
       "Epoch 9:   0%|          | 0/1875 [00:00<?, ?it/s]"
      ]
     },
     "metadata": {},
     "output_type": "display_data"
    },
    {
     "name": "stdout",
     "output_type": "stream",
     "text": [
      "\n",
      "Epoch 9\n",
      "Training loss: 0.0015529670122034077\n",
      "Validation loss: 2.3964906766491693e-06\n",
      "F1 Score (weighted): 1.0\n",
      "\u001b[91m45.59% Training loss increased compared to the previous epoch\u001b[0m\n",
      "\u001b[91m10.35% Validation loss increased compared to the previous epoch\u001b[0m\n"
     ]
    },
    {
     "data": {
      "application/vnd.jupyter.widget-view+json": {
       "model_id": "",
       "version_major": 2,
       "version_minor": 0
      },
      "text/plain": [
       "Epoch 10:   0%|          | 0/1875 [00:00<?, ?it/s]"
      ]
     },
     "metadata": {},
     "output_type": "display_data"
    },
    {
     "name": "stdout",
     "output_type": "stream",
     "text": [
      "\n",
      "Epoch 10\n",
      "Training loss: 0.0016340603262789955\n",
      "Validation loss: 2.4978748793558587e-06\n",
      "F1 Score (weighted): 1.0\n",
      "\u001b[91m5.22% Training loss increased compared to the previous epoch\u001b[0m\n",
      "\u001b[91m4.23% Validation loss increased compared to the previous epoch\u001b[0m\n"
     ]
    },
    {
     "data": {
      "application/vnd.jupyter.widget-view+json": {
       "model_id": "",
       "version_major": 2,
       "version_minor": 0
      },
      "text/plain": [
       "Epoch 11:   0%|          | 0/1875 [00:00<?, ?it/s]"
      ]
     },
     "metadata": {},
     "output_type": "display_data"
    },
    {
     "name": "stdout",
     "output_type": "stream",
     "text": [
      "\n",
      "Epoch 11\n",
      "Training loss: 0.002353604737962875\n",
      "Validation loss: 2.529863424654924e-06\n",
      "F1 Score (weighted): 1.0\n",
      "\u001b[91m44.03% Training loss increased compared to the previous epoch\u001b[0m\n",
      "\u001b[91m1.28% Validation loss increased compared to the previous epoch\u001b[0m\n",
      "\n",
      "Early stopping triggered. Training stopped.\n",
      "\n",
      "Total training time: 128.78352458874386 minutes\n",
      "Final Accuracy: 1.0\n",
      "Final Precision: 1.0\n"
     ]
    },
    {
     "data": {
      "image/png": "[encoded data removed]",
      "text/plain": [
       "<Figure size 800x600 with 1 Axes>"
      ]
     },
     "metadata": {},
     "output_type": "display_data"
    },
    {
     "name": "stdout",
     "output_type": "stream",
     "text": [
      "Epoch                 Training Loss          Validation Loss         F1 Score    Accuracy      Precision\n",
      "--------------------  ---------------------  ----------------------  ----------  ----------  -----------\n",
      "1                     0.005031202268288083   8.040444773480898e-07   1.0         1.0               1\n",
      "2                     \u001b[91m0.006244307469535306\u001b[0m   \u001b[91m9.843316679812168e-07\u001b[0m   1.0         1.0               1\n",
      "3                     \u001b[92m0.0035863814249769955\u001b[0m  \u001b[91m1.2315906454631568e-06\u001b[0m  1.0         1.0               1\n",
      "4                     \u001b[91m0.00402345399314842\u001b[0m    \u001b[91m1.6030967700995836e-06\u001b[0m  1.0         1.0               1\n",
      "5                     \u001b[92m0.0016107675513031305\u001b[0m  \u001b[91m1.7658439604968463e-06\u001b[0m  1.0         1.0               1\n",
      "6                     \u001b[91m0.0017304050210558974\u001b[0m  \u001b[91m1.960343022771219e-06\u001b[0m   1.0         1.0               1\n",
      "7                     \u001b[92m0.0016642143625730872\u001b[0m  \u001b[92m1.9367197771978018e-06\u001b[0m  1.0         1.0               1\n",
      "8                     \u001b[92m0.0010666738753023917\u001b[0m  \u001b[91m2.1718099723173285e-06\u001b[0m  1.0         1.0               1\n",
      "9                     \u001b[91m0.0015529670122034077\u001b[0m  \u001b[91m2.3964906766491693e-06\u001b[0m  1.0         1.0               1\n",
      "10                    \u001b[91m0.0016340603262789955\u001b[0m  \u001b[91m2.4978748793558587e-06\u001b[0m  1.0         1.0               1\n",
      "11                    \u001b[91m0.002353604737962875\u001b[0m   \u001b[91m2.529863424654924e-06\u001b[0m   1.0         1.0               1\n",
      "Total Training Time                                                                             7727.01\n",
      "Final Precision                                                                                    1\n",
      "Total Time (minutes)                                                                             128.784\n",
      "\n",
      "Fold 6\n"
     ]
    },
    {
     "data": {
      "application/vnd.jupyter.widget-view+json": {
       "model_id": "e36a68f07f854584b9bc4fe375aa76f8",
       "version_major": 2,
       "version_minor": 0
      },
      "text/plain": [
       "  0%|          | 0/50 [00:00<?, ?it/s]"
      ]
     },
     "metadata": {},
     "output_type": "display_data"
    },
    {
     "data": {
      "application/vnd.jupyter.widget-view+json": {
       "model_id": "",
       "version_major": 2,
       "version_minor": 0
      },
      "text/plain": [
       "Epoch 1:   0%|          | 0/1875 [00:00<?, ?it/s]"
      ]
     },
     "metadata": {},
     "output_type": "display_data"
    },
    {
     "name": "stdout",
     "output_type": "stream",
     "text": [
      "\n",
      "Epoch 1\n",
      "Training loss: 0.0020075899842452905\n",
      "Validation loss: 2.612090539018523e-06\n",
      "F1 Score (weighted): 1.0\n"
     ]
    },
    {
     "data": {
      "application/vnd.jupyter.widget-view+json": {
       "model_id": "",
       "version_major": 2,
       "version_minor": 0
      },
      "text/plain": [
       "Epoch 2:   0%|          | 0/1875 [00:00<?, ?it/s]"
      ]
     },
     "metadata": {},
     "output_type": "display_data"
    },
    {
     "name": "stdout",
     "output_type": "stream",
     "text": [
      "\n",
      "Epoch 2\n",
      "Training loss: 0.0024050825350351262\n",
      "Validation loss: 2.617223954489005e-06\n",
      "F1 Score (weighted): 1.0\n",
      "\u001b[91m19.8% Training loss increased compared to the previous epoch\u001b[0m\n",
      "\u001b[91m0.2% Validation loss increased compared to the previous epoch\u001b[0m\n"
     ]
    },
    {
     "data": {
      "application/vnd.jupyter.widget-view+json": {
       "model_id": "",
       "version_major": 2,
       "version_minor": 0
      },
      "text/plain": [
       "Epoch 3:   0%|          | 0/1875 [00:00<?, ?it/s]"
      ]
     },
     "metadata": {},
     "output_type": "display_data"
    },
    {
     "name": "stdout",
     "output_type": "stream",
     "text": [
      "\n",
      "Epoch 3\n",
      "Training loss: 0.0030567005554245044\n",
      "Validation loss: 2.6142769944711522e-06\n",
      "F1 Score (weighted): 1.0\n",
      "\u001b[91m27.09% Training loss increased compared to the previous epoch\u001b[0m\n",
      "\u001b[92m0.11% Validation loss decreased compared to the previous epoch\u001b[0m\n"
     ]
    },
    {
     "data": {
      "application/vnd.jupyter.widget-view+json": {
       "model_id": "",
       "version_major": 2,
       "version_minor": 0
      },
      "text/plain": [
       "Epoch 4:   0%|          | 0/1875 [00:00<?, ?it/s]"
      ]
     },
     "metadata": {},
     "output_type": "display_data"
    },
    {
     "name": "stdout",
     "output_type": "stream",
     "text": [
      "\n",
      "Epoch 4\n",
      "Training loss: 0.0021501278729897117\n",
      "Validation loss: 2.615893067284203e-06\n",
      "F1 Score (weighted): 1.0\n",
      "\u001b[92m29.66% Training loss decreased compared to the previous epoch\u001b[0m\n",
      "\u001b[91m0.06% Validation loss increased compared to the previous epoch\u001b[0m\n"
     ]
    },
    {
     "data": {
      "application/vnd.jupyter.widget-view+json": {
       "model_id": "",
       "version_major": 2,
       "version_minor": 0
      },
      "text/plain": [
       "Epoch 5:   0%|          | 0/1875 [00:00<?, ?it/s]"
      ]
     },
     "metadata": {},
     "output_type": "display_data"
    },
    {
     "name": "stdout",
     "output_type": "stream",
     "text": [
      "\n",
      "Epoch 5\n",
      "Training loss: 0.002073054063135108\n",
      "Validation loss: 2.6098090410975804e-06\n",
      "F1 Score (weighted): 1.0\n",
      "\u001b[92m3.58% Training loss decreased compared to the previous epoch\u001b[0m\n",
      "\u001b[92m0.23% Validation loss decreased compared to the previous epoch\u001b[0m\n"
     ]
    },
    {
     "data": {
      "application/vnd.jupyter.widget-view+json": {
       "model_id": "",
       "version_major": 2,
       "version_minor": 0
      },
      "text/plain": [
       "Epoch 6:   0%|          | 0/1875 [00:00<?, ?it/s]"
      ]
     },
     "metadata": {},
     "output_type": "display_data"
    },
    {
     "name": "stdout",
     "output_type": "stream",
     "text": [
      "\n",
      "Epoch 6\n",
      "Training loss: 0.0027776752467627377\n",
      "Validation loss: 2.615227635920816e-06\n",
      "F1 Score (weighted): 1.0\n",
      "\u001b[91m33.99% Training loss increased compared to the previous epoch\u001b[0m\n",
      "\u001b[91m0.21% Validation loss increased compared to the previous epoch\u001b[0m\n"
     ]
    },
    {
     "data": {
      "application/vnd.jupyter.widget-view+json": {
       "model_id": "",
       "version_major": 2,
       "version_minor": 0
      },
      "text/plain": [
       "Epoch 7:   0%|          | 0/1875 [00:00<?, ?it/s]"
      ]
     },
     "metadata": {},
     "output_type": "display_data"
    },
    {
     "name": "stdout",
     "output_type": "stream",
     "text": [
      "\n",
      "Epoch 7\n",
      "Training loss: 0.00309117251724468\n",
      "Validation loss: 2.608668284521723e-06\n",
      "F1 Score (weighted): 1.0\n",
      "\u001b[91m11.29% Training loss increased compared to the previous epoch\u001b[0m\n",
      "\u001b[92m0.25% Validation loss decreased compared to the previous epoch\u001b[0m\n"
     ]
    },
    {
     "data": {
      "application/vnd.jupyter.widget-view+json": {
       "model_id": "",
       "version_major": 2,
       "version_minor": 0
      },
      "text/plain": [
       "Epoch 8:   0%|          | 0/1875 [00:00<?, ?it/s]"
      ]
     },
     "metadata": {},
     "output_type": "display_data"
    },
    {
     "name": "stdout",
     "output_type": "stream",
     "text": [
      "\n",
      "Epoch 8\n",
      "Training loss: 0.0012671557999035334\n",
      "Validation loss: 2.611615221421439e-06\n",
      "F1 Score (weighted): 1.0\n",
      "\u001b[92m59.01% Training loss decreased compared to the previous epoch\u001b[0m\n",
      "\u001b[91m0.11% Validation loss increased compared to the previous epoch\u001b[0m\n"
     ]
    },
    {
     "data": {
      "application/vnd.jupyter.widget-view+json": {
       "model_id": "",
       "version_major": 2,
       "version_minor": 0
      },
      "text/plain": [
       "Epoch 9:   0%|          | 0/1875 [00:00<?, ?it/s]"
      ]
     },
     "metadata": {},
     "output_type": "display_data"
    },
    {
     "name": "stdout",
     "output_type": "stream",
     "text": [
      "\n",
      "Epoch 9\n",
      "Training loss: 0.0024292830154218487\n",
      "Validation loss: 2.6143720538021064e-06\n",
      "F1 Score (weighted): 1.0\n",
      "\u001b[91m91.71% Training loss increased compared to the previous epoch\u001b[0m\n",
      "\u001b[91m0.11% Validation loss increased compared to the previous epoch\u001b[0m\n"
     ]
    },
    {
     "data": {
      "application/vnd.jupyter.widget-view+json": {
       "model_id": "",
       "version_major": 2,
       "version_minor": 0
      },
      "text/plain": [
       "Epoch 10:   0%|          | 0/1875 [00:00<?, ?it/s]"
      ]
     },
     "metadata": {},
     "output_type": "display_data"
    },
    {
     "name": "stdout",
     "output_type": "stream",
     "text": [
      "\n",
      "Epoch 10\n",
      "Training loss: 0.0028208916310632653\n",
      "Validation loss: 2.61579799217852e-06\n",
      "F1 Score (weighted): 1.0\n",
      "\u001b[91m16.12% Training loss increased compared to the previous epoch\u001b[0m\n",
      "\u001b[91m0.05% Validation loss increased compared to the previous epoch\u001b[0m\n"
     ]
    },
    {
     "data": {
      "application/vnd.jupyter.widget-view+json": {
       "model_id": "",
       "version_major": 2,
       "version_minor": 0
      },
      "text/plain": [
       "Epoch 11:   0%|          | 0/1875 [00:00<?, ?it/s]"
      ]
     },
     "metadata": {},
     "output_type": "display_data"
    },
    {
     "name": "stdout",
     "output_type": "stream",
     "text": [
      "\n",
      "Epoch 11\n",
      "Training loss: 0.001165917685915277\n",
      "Validation loss: 2.6113300551236335e-06\n",
      "F1 Score (weighted): 1.0\n",
      "\u001b[92m58.67% Training loss decreased compared to the previous epoch\u001b[0m\n",
      "\u001b[92m0.17% Validation loss decreased compared to the previous epoch\u001b[0m\n"
     ]
    },
    {
     "data": {
      "application/vnd.jupyter.widget-view+json": {
       "model_id": "",
       "version_major": 2,
       "version_minor": 0
      },
      "text/plain": [
       "Epoch 12:   0%|          | 0/1875 [00:00<?, ?it/s]"
      ]
     },
     "metadata": {},
     "output_type": "display_data"
    },
    {
     "name": "stdout",
     "output_type": "stream",
     "text": [
      "\n",
      "Epoch 12\n",
      "Training loss: 0.0023143811581281624\n",
      "Validation loss: 2.6108547266474264e-06\n",
      "F1 Score (weighted): 1.0\n",
      "\u001b[91m98.5% Training loss increased compared to the previous epoch\u001b[0m\n",
      "\u001b[92m0.02% Validation loss decreased compared to the previous epoch\u001b[0m\n"
     ]
    },
    {
     "data": {
      "application/vnd.jupyter.widget-view+json": {
       "model_id": "",
       "version_major": 2,
       "version_minor": 0
      },
      "text/plain": [
       "Epoch 13:   0%|          | 0/1875 [00:00<?, ?it/s]"
      ]
     },
     "metadata": {},
     "output_type": "display_data"
    },
    {
     "name": "stdout",
     "output_type": "stream",
     "text": [
      "\n",
      "Epoch 13\n",
      "Training loss: 0.002680169467598959\n",
      "Validation loss: 2.6081929788916746e-06\n",
      "F1 Score (weighted): 1.0\n",
      "\u001b[91m15.81% Training loss increased compared to the previous epoch\u001b[0m\n",
      "\u001b[92m0.1% Validation loss decreased compared to the previous epoch\u001b[0m\n"
     ]
    },
    {
     "data": {
      "application/vnd.jupyter.widget-view+json": {
       "model_id": "",
       "version_major": 2,
       "version_minor": 0
      },
      "text/plain": [
       "Epoch 14:   0%|          | 0/1875 [00:00<?, ?it/s]"
      ]
     },
     "metadata": {},
     "output_type": "display_data"
    },
    {
     "name": "stdout",
     "output_type": "stream",
     "text": [
      "\n",
      "Epoch 14\n",
      "Training loss: 0.004243331896566633\n",
      "Validation loss: 2.610759677923617e-06\n",
      "F1 Score (weighted): 1.0\n",
      "\u001b[91m58.32% Training loss increased compared to the previous epoch\u001b[0m\n",
      "\u001b[91m0.1% Validation loss increased compared to the previous epoch\u001b[0m\n"
     ]
    },
    {
     "data": {
      "application/vnd.jupyter.widget-view+json": {
       "model_id": "",
       "version_major": 2,
       "version_minor": 0
      },
      "text/plain": [
       "Epoch 15:   0%|          | 0/1875 [00:00<?, ?it/s]"
      ]
     },
     "metadata": {},
     "output_type": "display_data"
    },
    {
     "name": "stdout",
     "output_type": "stream",
     "text": [
      "\n",
      "Epoch 15\n",
      "Training loss: 0.0027637731925102345\n",
      "Validation loss: 2.609713961096292e-06\n",
      "F1 Score (weighted): 1.0\n",
      "\u001b[92m34.87% Training loss decreased compared to the previous epoch\u001b[0m\n",
      "\u001b[92m0.04% Validation loss decreased compared to the previous epoch\u001b[0m\n"
     ]
    },
    {
     "data": {
      "application/vnd.jupyter.widget-view+json": {
       "model_id": "",
       "version_major": 2,
       "version_minor": 0
      },
      "text/plain": [
       "Epoch 16:   0%|          | 0/1875 [00:00<?, ?it/s]"
      ]
     },
     "metadata": {},
     "output_type": "display_data"
    },
    {
     "name": "stdout",
     "output_type": "stream",
     "text": [
      "\n",
      "Epoch 16\n",
      "Training loss: 0.003565258688237494\n",
      "Validation loss: 2.6081929840592582e-06\n",
      "F1 Score (weighted): 1.0\n",
      "\u001b[91m29.0% Training loss increased compared to the previous epoch\u001b[0m\n",
      "\u001b[92m0.06% Validation loss decreased compared to the previous epoch\u001b[0m\n"
     ]
    },
    {
     "data": {
      "application/vnd.jupyter.widget-view+json": {
       "model_id": "",
       "version_major": 2,
       "version_minor": 0
      },
      "text/plain": [
       "Epoch 17:   0%|          | 0/1875 [00:00<?, ?it/s]"
      ]
     },
     "metadata": {},
     "output_type": "display_data"
    },
    {
     "name": "stdout",
     "output_type": "stream",
     "text": [
      "\n",
      "Epoch 17\n",
      "Training loss: 0.0037656563216685148\n",
      "Validation loss: 2.6145622021096258e-06\n",
      "F1 Score (weighted): 1.0\n",
      "\u001b[91m5.62% Training loss increased compared to the previous epoch\u001b[0m\n",
      "\u001b[91m0.24% Validation loss increased compared to the previous epoch\u001b[0m\n"
     ]
    },
    {
     "data": {
      "application/vnd.jupyter.widget-view+json": {
       "model_id": "",
       "version_major": 2,
       "version_minor": 0
      },
      "text/plain": [
       "Epoch 18:   0%|          | 0/1875 [00:00<?, ?it/s]"
      ]
     },
     "metadata": {},
     "output_type": "display_data"
    },
    {
     "name": "stdout",
     "output_type": "stream",
     "text": [
      "\n",
      "Epoch 18\n",
      "Training loss: 0.0025594123002889925\n",
      "Validation loss: 2.609333727580168e-06\n",
      "F1 Score (weighted): 1.0\n",
      "\u001b[92m32.03% Training loss decreased compared to the previous epoch\u001b[0m\n",
      "\u001b[92m0.2% Validation loss decreased compared to the previous epoch\u001b[0m\n"
     ]
    },
    {
     "data": {
      "application/vnd.jupyter.widget-view+json": {
       "model_id": "",
       "version_major": 2,
       "version_minor": 0
      },
      "text/plain": [
       "Epoch 19:   0%|          | 0/1875 [00:00<?, ?it/s]"
      ]
     },
     "metadata": {},
     "output_type": "display_data"
    },
    {
     "name": "stdout",
     "output_type": "stream",
     "text": [
      "\n",
      "Epoch 19\n",
      "Training loss: 0.002458587646074799\n",
      "Validation loss: 2.6082880189121855e-06\n",
      "F1 Score (weighted): 1.0\n",
      "\u001b[92m3.94% Training loss decreased compared to the previous epoch\u001b[0m\n",
      "\u001b[92m0.04% Validation loss decreased compared to the previous epoch\u001b[0m\n"
     ]
    },
    {
     "data": {
      "application/vnd.jupyter.widget-view+json": {
       "model_id": "",
       "version_major": 2,
       "version_minor": 0
      },
      "text/plain": [
       "Epoch 20:   0%|          | 0/1875 [00:00<?, ?it/s]"
      ]
     },
     "metadata": {},
     "output_type": "display_data"
    },
    {
     "name": "stdout",
     "output_type": "stream",
     "text": [
      "\n",
      "Epoch 20\n",
      "Training loss: 0.001473292772472208\n",
      "Validation loss: 2.6083830776991836e-06\n",
      "F1 Score (weighted): 1.0\n",
      "\u001b[92m40.08% Training loss decreased compared to the previous epoch\u001b[0m\n",
      "\u001b[91m0.0% Validation loss increased compared to the previous epoch\u001b[0m\n"
     ]
    },
    {
     "data": {
      "application/vnd.jupyter.widget-view+json": {
       "model_id": "",
       "version_major": 2,
       "version_minor": 0
      },
      "text/plain": [
       "Epoch 21:   0%|          | 0/1875 [00:00<?, ?it/s]"
      ]
     },
     "metadata": {},
     "output_type": "display_data"
    },
    {
     "name": "stdout",
     "output_type": "stream",
     "text": [
      "\n",
      "Epoch 21\n",
      "Training loss: 0.002107748299711299\n",
      "Validation loss: 2.6060065098401414e-06\n",
      "F1 Score (weighted): 1.0\n",
      "\u001b[91m43.06% Training loss increased compared to the previous epoch\u001b[0m\n",
      "\u001b[92m0.09% Validation loss decreased compared to the previous epoch\u001b[0m\n"
     ]
    },
    {
     "data": {
      "application/vnd.jupyter.widget-view+json": {
       "model_id": "",
       "version_major": 2,
       "version_minor": 0
      },
      "text/plain": [
       "Epoch 22:   0%|          | 0/1875 [00:00<?, ?it/s]"
      ]
     },
     "metadata": {},
     "output_type": "display_data"
    },
    {
     "name": "stdout",
     "output_type": "stream",
     "text": [
      "\n",
      "Epoch 22\n",
      "Training loss: 0.0015067365221613728\n",
      "Validation loss: 2.6108547345347905e-06\n",
      "F1 Score (weighted): 1.0\n",
      "\u001b[92m28.51% Training loss decreased compared to the previous epoch\u001b[0m\n",
      "\u001b[91m0.19% Validation loss increased compared to the previous epoch\u001b[0m\n"
     ]
    },
    {
     "data": {
      "application/vnd.jupyter.widget-view+json": {
       "model_id": "",
       "version_major": 2,
       "version_minor": 0
      },
      "text/plain": [
       "Epoch 23:   0%|          | 0/1875 [00:00<?, ?it/s]"
      ]
     },
     "metadata": {},
     "output_type": "display_data"
    },
    {
     "name": "stdout",
     "output_type": "stream",
     "text": [
      "\n",
      "Epoch 23\n",
      "Training loss: 0.0025792940545895666\n",
      "Validation loss: 2.611234987905315e-06\n",
      "F1 Score (weighted): 1.0\n",
      "\u001b[91m71.18% Training loss increased compared to the previous epoch\u001b[0m\n",
      "\u001b[91m0.01% Validation loss increased compared to the previous epoch\u001b[0m\n"
     ]
    },
    {
     "data": {
      "application/vnd.jupyter.widget-view+json": {
       "model_id": "5d417ff1482a4b978a9a3619ead39d58",
       "version_major": 2,
       "version_minor": 0
      },
      "text/plain": [
       "Epoch 24:   0%|          | 0/1875 [00:00<?, ?it/s]"
      ]
     },
     "metadata": {},
     "output_type": "display_data"
    }
   ],
   "source": [
    "from torch.utils.data import DataLoader, SubsetRandomSampler\n",
    "from sklearn.model_selection import KFold\n",
    "\n",
    "k = 10  # Number of folds\n",
    "kf = KFold(n_splits=k, shuffle=True, random_state=42)\n",
    "\n",
    "# Convert the multilabel indicator target to numpy array\n",
    "targets = dataset_train.tensors[1].numpy()\n",
    "\n",
    "# Initialize lists to store the evaluation metrics for each fold\n",
    "training_loss_lists = []\n",
    "validation_loss_lists = []\n",
    "accuracy_lists = []\n",
    "precision_lists = []\n",
    "f1_score_lists = []\n",
    "\n",
    "# Perform multilabel k-fold cross-validation\n",
    "for fold, (train_index, val_index) in enumerate(kf.split(targets)):\n",
    "    print(f\"\\nFold {fold+1}\")\n",
    "    train_sampler = SubsetRandomSampler(train_index)\n",
    "    val_sampler = SubsetRandomSampler(val_index)\n",
    "\n",
    "    # Create data loaders for training and validation\n",
    "    dataloader_train = DataLoader(dataset_train, batch_size=batch_size, sampler=train_sampler)\n",
    "    dataloader_vals = DataLoader(dataset_train, batch_size=batch_size, sampler=val_sampler)\n",
    "\n",
    "    # Initialize metrics lists for this fold\n",
    "    fold_training_loss_list = []\n",
    "    fold_validation_loss_list = []\n",
    "    fold_accuracy_list = []\n",
    "    fold_precision_list = []\n",
    "    fold_f1_score_list = []\n",
    "\n",
    "    try:\n",
    "        fold_training_loss_list, fold_validation_loss_list, fold_accuracy_list, fold_precision_list, fold_f1_score_list = \\\n",
    "        train_model(trainer, dataloader_train, dataloader_vals, epochs, patience)\n",
    "    except Exception as e:\n",
    "        print(f\"Continue to the next fold {fold+1}: {str(e)}\")\n",
    "        continue\n",
    "\n",
    "    # Append the metrics for this fold to the overall lists\n",
    "    training_loss_lists.append(fold_training_loss_list)\n",
    "    validation_loss_lists.append(fold_validation_loss_list)\n",
    "    accuracy_lists.append(fold_accuracy_list)\n",
    "    precision_lists.append(fold_precision_list)\n",
    "    f1_score_lists.append(fold_f1_score_list)"
   ]
  },
  {
   "cell_type": "code",
   "execution_count": null,
   "id": "f24429e4-743b-4a11-80d6-5e2fadaabc9e",
   "metadata": {},
   "outputs": [],
   "source": [
    "import numpy as np\n",
    "from sklearn.metrics import accuracy_score, f1_score, confusion_matrix\n",
    "\n",
    "model.load_state_dict(\n",
    "    torch.load(\n",
    "        \"Models/finetuned_gpt_bert_sst2_ft_epoch1.model\", \n",
    "        map_location = torch.device('cuda')\n",
    "    )\n",
    ")\n",
    "_, predictions, true_vals = evaluate(dataloader_test)\n",
    "accuracy_per_class(predictions, true_vals, label_dict)"
   ]
  },
  {
   "cell_type": "code",
   "execution_count": null,
   "id": "bba4c1e0-c1c8-49c0-9e52-d9df797db69f",
   "metadata": {},
   "outputs": [],
   "source": [
    "train_model(trainer, dataloader_train, dataloader_test, epochs, patience)"
   ]
  },
  {
   "cell_type": "code",
   "execution_count": null,
   "id": "f8e252aa-230f-4b44-8dd1-a0fbab9a208a",
   "metadata": {},
   "outputs": [],
   "source": []
  }
 ],
 "metadata": {
  "kernelspec": {
   "display_name": "Python 3 (ipykernel)",
   "language": "python",
   "name": "python3"
  },
  "language_info": {
   "codemirror_mode": {
    "name": "ipython",
    "version": 3
   },
   "file_extension": ".py",
   "mimetype": "text/x-python",
   "name": "python",
   "nbconvert_exporter": "python",
   "pygments_lexer": "ipython3",
   "version": "3.10.9"
  }
 },
 "nbformat": 4,
 "nbformat_minor": 5
}

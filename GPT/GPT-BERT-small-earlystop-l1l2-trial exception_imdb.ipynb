{
 "cells": [
  {
   "cell_type": "code",
   "execution_count": 1,
   "id": "c5bf24e9-d40b-45ad-9330-405d0097fe2e",
   "metadata": {
    "tags": []
   },
   "outputs": [
    {
     "name": "stderr",
     "output_type": "stream",
     "text": [
      "2023-07-18 14:53:02.893450: I tensorflow/core/util/port.cc:110] oneDNN custom operations are on. You may see slightly different numerical results due to floating-point round-off errors from different computation orders. To turn them off, set the environment variable `TF_ENABLE_ONEDNN_OPTS=0`.\n",
      "2023-07-18 14:53:02.918963: I tensorflow/core/platform/cpu_feature_guard.cc:182] This TensorFlow binary is optimized to use available CPU instructions in performance-critical operations.\n",
      "To enable the following instructions: AVX2 AVX_VNNI FMA, in other operations, rebuild TensorFlow with the appropriate compiler flags.\n",
      "2023-07-18 14:53:03.357441: W tensorflow/compiler/tf2tensorrt/utils/py_utils.cc:38] TF-TRT Warning: Could not find TensorRT\n"
     ]
    }
   ],
   "source": [
    "import torch\n",
    "import torch.nn as nn\n",
    "import pandas as pd\n",
    "from tqdm.notebook import tqdm  # For displaying progress bars\n",
    "from datasets import load_dataset  # For loading datasets\n",
    "from sklearn.model_selection import train_test_split  # For splitting the dataset\n",
    "from transformers import BertTokenizer  # For tokenizing text\n",
    "from torch.utils.data import TensorDataset  # For creating Tensor datasets\n",
    "import time  # For measuring time\n",
    "from sklearn.metrics import accuracy_score, precision_score, f1_score, recall_score  # For evaluation metrics\n",
    "from sklearn.exceptions import UndefinedMetricWarning  # For handling metric warnings\n",
    "import matplotlib.pyplot as plt  # For plotting\n",
    "from tabulate import tabulate  # For tabular data formatting\n",
    "import random  # For randomization\n",
    "import numpy as np  # For numerical operations\n",
    "from transformers import (\n",
    "    BertTokenizer,  # Tokenizer for BERT models\n",
    "    AdamW,  # Optimizer for BERT models\n",
    "    get_linear_schedule_with_warmup,  # Learning rate scheduler for BERT models\n",
    "    BertConfig,  # Configuration for BERT models\n",
    "    BertForSequenceClassification  # BERT model for sequence classification tasks\n",
    ")\n",
    "from torch.utils.data import (\n",
    "    DataLoader,  # Data loader for creating batches\n",
    "    RandomSampler,  # Sampler for random sampling of data\n",
    "    SequentialSampler  # Sampler for sequential sampling of data\n",
    ")\n",
    "from sklearn.metrics import f1_score  # For computing the F1 score\n",
    "\n",
    "# 1. Torch: PyTorch library for deep learning\n",
    "# 2. Pandas: Library for data manipulation and analysis\n",
    "# 3. tqdm: Library for displaying progress bars\n",
    "# 4. datasets: Library for working with datasets\n",
    "# 5. train_test_split: Function for splitting the dataset into training and validation sets\n",
    "# 6. BertTokenizer: Tokenizer for BERT models\n",
    "# 7. TensorDataset: Dataset class for creating PyTorch Tensor datasets\n",
    "# 8. time: Module for measuring time\n",
    "# 9. accuracy_score, precision_score, f1_score: Evaluation metrics for classification tasks\n",
    "# 10. UndefinedMetricWarning: Warning for undefined metric values\n",
    "# 11. matplotlib.pyplot: Plotting library\n",
    "# 12. tabulate: Library for formatting tabular data\n",
    "# 13. random: Module for randomization\n",
    "# 14. numpy: Library for numerical operations\n",
    "# 15. AdamW: Optimizer for BERT models\n",
    "# 16. get_linear_schedule_with_warmup: Learning rate scheduler for BERT models\n",
    "# 17. BertConfig: Configuration for BERT models\n",
    "# 18. BertForSequenceClassification: BERT model for sequence classification tasks\n",
    "# 19. DataLoader: Data loader for creating batches\n",
    "# 20. RandomSampler: Sampler for random sampling of data\n",
    "# 21. SequentialSampler: Sampler for sequential sampling of data\n",
    "# 22. f1_score: Function for computing the F1 score"
   ]
  },
  {
   "cell_type": "code",
   "execution_count": 2,
   "id": "207f2073-3da6-4185-917f-e8b3694617ed",
   "metadata": {},
   "outputs": [],
   "source": [
    "def data_imdb():\n",
    "    dataset = load_dataset(\"imdb\")\n",
    "    train_data = dataset['train']\n",
    "    test_data = dataset['test']\n",
    "\n",
    "    df_train = train_data.to_pandas()  # Convert the training dataset to a Pandas DataFrame\n",
    "    df_test = test_data.to_pandas()  # Convert the validation dataset to a Pandas DataFrame\n",
    "\n",
    "    df_train['sentiment'] = df_train['label'].map({0: 'bad', 1: 'good'})\n",
    "    df_test['sentiment'] = df_test['label'].map({0: 'bad', 1: 'good'})\n",
    "\n",
    "    possible_labels = df_train.sentiment.unique()  # Get unique category labels from the training DataFrame column 'category'\n",
    "\n",
    "    label_dict = {}  # Create a dictionary to map each possible label to a unique index\n",
    "    for index, possible_label in enumerate(possible_labels):\n",
    "        label_dict[possible_label] = index\n",
    "\n",
    "    df_train['label'] = df_train.sentiment.replace(label_dict)\n",
    "    df_test['label'] = df_test.sentiment.replace(label_dict)\n",
    "\n",
    "    df_train['data_type'] = 'train'  # Set the 'data_type' column to 'train' for training data\n",
    "    df_test['data_type'] = 'test'  # Set the 'data_type' column to 'val' for validation data\n",
    "\n",
    "    df = pd.concat([df_train, df_test], ignore_index=True)  # Merge the training and validation dataframes\n",
    "\n",
    "    return df\n",
    "\n",
    "\n",
    "def f1_score_func(preds, labels):\n",
    "    preds_flat = np.argmax(preds, axis=1).flatten() #This line finds the index with the highest probability in each prediction, effectively giving the predicted class for each input.\n",
    "    labels_flat = labels.flatten()  #This line flattens the labels array into a 1D vector, as required by the f1_score function.\n",
    "    return f1_score(labels_flat, preds_flat, average='weighted') #This line computes the F1 score using the true labels and the predicted labels, with the weighted averaging scheme. The result is returned.\n",
    "\n",
    "def accuracy_per_class(preds, labels, label_dict):\n",
    "    # Create a dictionary with keys and values reversed for easy lookup.\n",
    "    label_dict_inverse = {v: k for k, v in label_dict.items()}\n",
    "    \n",
    "    # Get the predicted labels and flatten them.\n",
    "    preds_flat = np.argmax(preds, axis=1).flatten()\n",
    "    \n",
    "    # Get the actual labels and flatten them.\n",
    "    labels_flat = labels.flatten()\n",
    "\n",
    "    # Initialize the confusion matrix.\n",
    "    num_classes = len(label_dict)\n",
    "    confusion_mat = confusion_matrix(labels_flat, preds_flat, labels=list(range(num_classes)))\n",
    "    \n",
    "    # Calculate accuracy and F1 score per class\n",
    "    accuracies = {}\n",
    "    f1_scores = {}\n",
    "    for label in range(num_classes):\n",
    "        # Calculate accuracy for this class\n",
    "        num_correct = confusion_mat[label, label]\n",
    "        num_instances = np.sum(confusion_mat[label, :])\n",
    "        accuracy = num_correct / num_instances * 100\n",
    "        accuracies[label] = accuracy\n",
    "        \n",
    "        # Calculate F1 score for this class\n",
    "        f1 = f1_score(labels_flat, preds_flat, labels=[label], average='weighted')\n",
    "        f1_scores[label] = f1\n",
    "\n",
    "        # Print the class name, accuracy numerator, and denominator.\n",
    "        class_name = label_dict_inverse[label]\n",
    "        print(f'Class: {class_name}')\n",
    "        print(f'Accuracy: {num_correct}/{num_instances} ({accuracy:.2f}%)')\n",
    "        print(f'F1 Score: {f1:.2f}\\n')\n",
    "\n",
    "    # Calculate total accuracy and F1 score\n",
    "    total_accuracy = accuracy_score(labels_flat, preds_flat) * 100\n",
    "    total_f1_score = f1_score(labels_flat, preds_flat, average='weighted')\n",
    "\n",
    "    # Print the total accuracy and F1 score\n",
    "    print(f'Total Accuracy: {total_accuracy:.2f}%')\n",
    "    print(f'Total F1 Score: {total_f1_score:.2f}')\n",
    "\n",
    "\n",
    "#This code evaluates the performance of a trained model on a validation dataset by computing its loss and predictions for each batch in the dataset.\n",
    "def evaluate(dataloader_val):\n",
    "\n",
    "    model.eval() # setting the model to evaluation mode to disable dropout and other regularization techniques that are useful during training but not during evaluation.\n",
    "    \n",
    "    loss_val_total = 0\n",
    "    predictions, true_vals = [], []\n",
    "    \n",
    "    for batch in dataloader_val:\n",
    "    \n",
    "        batch = tuple(b.to(device) for b in batch) # moving the input batch to the GPU for faster computation.\n",
    "   \n",
    "        #  creating a dictionary of inputs that will be passed to the model. The input IDs and attention mask are for the BERT model, and the labels are the true labels for each input.\n",
    "        inputs = {'input_ids':  \tbatch[0],\n",
    "                'attention_mask': batch[1],\n",
    "                'labels':     \tbatch[2],\n",
    "                } \n",
    "\n",
    "        with torch.no_grad():   \n",
    "            outputs = model(**inputs)\n",
    "        \n",
    "        loss = outputs[0]\n",
    "        logits = outputs[1]\n",
    "        loss_val_total += loss.item()\n",
    "\n",
    "        logits = logits.detach().cpu().numpy()\n",
    "        label_ids = inputs['labels'].cpu().numpy()\n",
    "        predictions.append(logits)\n",
    "        true_vals.append(label_ids)\n",
    "    \n",
    "    loss_val_avg = loss_val_total/len(dataloader_val)\n",
    "    \n",
    "    predictions = np.concatenate(predictions, axis=0)\n",
    "    true_vals = np.concatenate(true_vals, axis=0)\n",
    "       \t \n",
    "    return loss_val_avg, predictions, true_vals\n",
    "\n",
    "def train_model(trainer, dataloader_train, dataloader_val, epochs, patience):\n",
    "    total_training_time = 0\n",
    "    \n",
    "    training_loss_list = []\n",
    "    validation_loss_list = []\n",
    "    accuracy_list = []\n",
    "    precision_list = []\n",
    "    f1_score_list = []\n",
    "    \n",
    "    previous_results = None  # Store previous epoch results\n",
    "    best_val_loss = float('inf')\n",
    "    counter = 0\n",
    "    \n",
    "    for epoch in tqdm(range(1, epochs + 1)):\n",
    "        start_time = time.time()\n",
    "    \n",
    "        model.train()\n",
    "        loss_train_total = 0\n",
    "    \n",
    "        progress_bar = tqdm(dataloader_train,\n",
    "                            desc='Epoch {:1d}'.format(epoch),\n",
    "                            leave=False,\n",
    "                            disable=False)\n",
    "        for batch in progress_bar:\n",
    "            model.zero_grad()\n",
    "            batch = tuple(b.to(device) for b in batch)\n",
    "            inputs = {\n",
    "                'input_ids': batch[0],\n",
    "                'attention_mask': batch[1],\n",
    "                'labels': batch[2],\n",
    "            }\n",
    "            output = model(**inputs)\n",
    "            loss = output[0]\n",
    "            loss_train_total += loss.item()\n",
    "            loss.backward()\n",
    "            torch.nn.utils.clip_grad_norm_(model.parameters(), 1.0)\n",
    "            optimizer.step()\n",
    "            scheduler.step()\n",
    "            progress_bar.set_postfix({'training_loss': '{:.3f}'.format(loss.item() / len(batch))})\n",
    "    \n",
    "        end_time = time.time()\n",
    "        epoch_training_time = end_time - start_time\n",
    "        total_training_time += epoch_training_time\n",
    "    \n",
    "        torch.save(model.state_dict(), f'Models/finetuned_gpt_bert_imdb_ft_epoch{epoch}.model')\n",
    "    \n",
    "        tqdm.write(f'\\nEpoch {epoch}')\n",
    "    \n",
    "        loss_train_avg = loss_train_total / len(dataloader_train)\n",
    "        tqdm.write(f'Training loss: {loss_train_avg}')\n",
    "    \n",
    "        val_loss, predictions, true_vals = evaluate(dataloader_val)\n",
    "    \n",
    "        # Convert predictions to discrete labels\n",
    "        predictions = np.argmax(predictions, axis=1)\n",
    "    \n",
    "        val_f1 = f1_score(true_vals, predictions, average='weighted')\n",
    "        tqdm.write(f'Validation loss: {val_loss}')\n",
    "        tqdm.write(f'F1 Score (weighted): {val_f1}')\n",
    "    \n",
    "        val_accuracy = accuracy_score(true_vals, predictions)\n",
    "        val_precision = precision_score(true_vals, predictions, average='weighted', zero_division=1)\n",
    "    \n",
    "        # Compute and store metrics\n",
    "        training_loss_list.append(loss_train_avg)\n",
    "        validation_loss_list.append(val_loss)\n",
    "        f1_score_list.append(val_f1)\n",
    "        accuracy_list.append(val_accuracy)\n",
    "        precision_list.append(val_precision)\n",
    "    \n",
    "        # Check if there are previous results to compare with\n",
    "        if previous_results is not None:\n",
    "            if loss_train_avg > previous_results['loss_train_avg']:\n",
    "                percentage_increase = ((loss_train_avg - previous_results['loss_train_avg']) / previous_results['loss_train_avg']) * 100\n",
    "                tqdm.write('\\033[91m' + f'{round(percentage_increase, 2)}% Training loss increased compared to the previous epoch' + '\\033[0m')\n",
    "            if loss_train_avg < previous_results['loss_train_avg']:\n",
    "                percentage_decrease = ((previous_results['loss_train_avg'] - loss_train_avg) / previous_results['loss_train_avg']) * 100\n",
    "                tqdm.write('\\033[92m' + f'{round(percentage_decrease, 2)}% Training loss decreased compared to the previous epoch' + '\\033[0m')\n",
    "            if val_loss > previous_results['val_loss']:\n",
    "                percentage_increase = ((val_loss - previous_results['val_loss']) / previous_results['val_loss']) * 100\n",
    "                tqdm.write('\\033[91m' + f'{round(percentage_increase, 2)}% Validation loss increased compared to the previous epoch' + '\\033[0m')\n",
    "            if val_loss < previous_results['val_loss']:\n",
    "                percentage_decrease = ((previous_results['val_loss'] - val_loss) / previous_results['val_loss']) * 100\n",
    "                tqdm.write('\\033[92m' + f'{round(percentage_decrease, 2)}% Validation loss decreased compared to the previous epoch' + '\\033[0m')\n",
    "            if val_f1 < previous_results['val_f1']:\n",
    "                percentage_decrease = ((previous_results['val_f1'] - val_f1) / previous_results['val_f1']) * 100\n",
    "                tqdm.write('\\033[91m' + f'{round(percentage_decrease, 2)}% F1 Score decreased compared to the previous epoch' + '\\033[0m')\n",
    "            if val_f1 > previous_results['val_f1']:\n",
    "                percentage_increase = ((val_f1 - previous_results['val_f1']) / previous_results['val_f1']) * 100\n",
    "                tqdm.write('\\033[92m' + f'{round(percentage_increase, 2)}% F1 Score increased compared to the previous epoch' + '\\033[0m')\n",
    "    \n",
    "        # Store current results as previous results for the next epoch\n",
    "        previous_results = {\n",
    "            'loss_train_avg': loss_train_avg,\n",
    "            'val_loss': val_loss,\n",
    "            'val_f1': val_f1\n",
    "        }\n",
    "        \n",
    "        # Check for early stopping\n",
    "        if val_loss < best_val_loss:\n",
    "            best_val_loss = val_loss\n",
    "            counter = 0\n",
    "        else:\n",
    "            counter += 1\n",
    "            if counter >= patience:\n",
    "                tqdm.write('\\nEarly stopping triggered. Training stopped.')\n",
    "                break\n",
    "    \n",
    "    total_time_minutes = total_training_time / 60\n",
    "    tqdm.write(f'\\nTotal training time: {total_time_minutes} minutes')\n",
    "    \n",
    "    final_accuracy = accuracy_list[-1]\n",
    "    final_precision = precision_list[-1]\n",
    "    tqdm.write(f'Final Accuracy: {final_accuracy}')\n",
    "    tqdm.write(f'Final Precision: {final_precision}')\n",
    "    \n",
    "    # Create the x-axis values based on the actual number of epochs completed\n",
    "    x_values = range(1, len(training_loss_list) + 1)\n",
    "    \n",
    "    # Create the metrics subplot\n",
    "    fig, ax = plt.subplots(figsize=(8, 6))\n",
    "    \n",
    "    # Plot training loss\n",
    "    ax.plot(x_values, training_loss_list, label='Training Loss')\n",
    "    \n",
    "    # Plot validation loss\n",
    "    ax.plot(x_values, validation_loss_list, label='Validation Loss')\n",
    "    \n",
    "    # Plot F1-score\n",
    "    ax.plot(x_values, f1_score_list, label='F1 Score')\n",
    "\n",
    "    # Plot Accuracy\n",
    "    ax.plot(x_values, accuracy_list, label='Accuracy')\n",
    "    \n",
    "    # Set labels and title\n",
    "    ax.set_xlabel('Epoch')\n",
    "    ax.set_ylabel('Metric Value')\n",
    "    ax.set_title('Training Loss, Validation Loss, and F1 Score')\n",
    "    \n",
    "    # Set legend\n",
    "    ax.legend()\n",
    "    \n",
    "    # Show the combined plot\n",
    "    plt.show()\n",
    "    \n",
    "    \n",
    "    # Create the metrics table\n",
    "    metrics_table = [\n",
    "        ['Epoch', 'Training Loss', 'Validation Loss', 'F1 Score', 'Accuracy', 'Precision'],\n",
    "    ]\n",
    "    previous_results = None\n",
    "    for epoch in range(1, len(training_loss_list) + 1):\n",
    "        row = [\n",
    "            epoch,\n",
    "            training_loss_list[epoch - 1],\n",
    "            validation_loss_list[epoch - 1],\n",
    "            f1_score_list[epoch - 1],\n",
    "            accuracy_list[epoch - 1],\n",
    "            precision_list[epoch - 1]\n",
    "        ]\n",
    "    \n",
    "        # Compare with previous epoch results\n",
    "        if previous_results is not None:\n",
    "            if training_loss_list[epoch - 1] < previous_results['loss_train_avg']:\n",
    "                row[1] = '\\033[92m' + str(row[1]) + '\\033[0m'  # Highlight in green\n",
    "            if training_loss_list[epoch - 1] > previous_results['loss_train_avg']:\n",
    "                row[1] = '\\033[91m' + str(row[1]) + '\\033[0m'  # Highlight in red\n",
    "            if validation_loss_list[epoch - 1] < previous_results['val_loss']:\n",
    "                row[2] = '\\033[92m' + str(row[2]) + '\\033[0m'  # Highlight in green\n",
    "            if validation_loss_list[epoch - 1] > previous_results['val_loss']:\n",
    "                row[2] = '\\033[91m' + str(row[2]) + '\\033[0m'  # Highlight in red\n",
    "            if f1_score_list[epoch - 1] > previous_results['val_f1']:\n",
    "                row[3] = '\\033[92m' + str(row[3]) + '\\033[0m'  # Highlight in green\n",
    "            if f1_score_list[epoch - 1] < previous_results['val_f1']:\n",
    "                row[3] = '\\033[91m' + str(row[3]) + '\\033[0m'  # Highlight in red\n",
    "            if accuracy_list[epoch - 1] > previous_results['val_f1']:\n",
    "                row[4] = '\\033[92m' + str(row[3]) + '\\033[0m'  # Highlight in green\n",
    "            if accuracy_list[epoch - 1] < previous_results['val_f1']:\n",
    "                row[4] = '\\033[91m' + str(row[3]) + '\\033[0m'  # Highlight in red\n",
    "            if precision_list[epoch - 1] > previous_results['val_f1']:\n",
    "                row[5] = '\\033[92m' + str(row[3]) + '\\033[0m'  # Highlight in green\n",
    "            if precision_list[epoch - 1] < previous_results['val_f1']:\n",
    "                row[5] = '\\033[91m' + str(row[3]) + '\\033[0m'  # Highlight in red\n",
    "    \n",
    "        metrics_table.append(row)\n",
    "        previous_results = {\n",
    "            'loss_train_avg': training_loss_list[epoch - 1],\n",
    "            'val_loss': validation_loss_list[epoch - 1],\n",
    "            'val_f1': f1_score_list[epoch - 1]\n",
    "        }\n",
    "    \n",
    "    # Calculate total training time in minutes\n",
    "    total_time_minutes = total_training_time / 60\n",
    "    \n",
    "    # Calculate total precision\n",
    "    total_precision = precision_list[-1]\n",
    "    \n",
    "    # Add total training time and total precision rows to the table\n",
    "    metrics_table.append(['Total Training Time', '', '', '', '', total_training_time])\n",
    "    metrics_table.append(['Final Precision', '', '', '', '', total_precision])\n",
    "    metrics_table.append(['Total Time (minutes)', '', '', '', '', total_time_minutes])\n",
    "    \n",
    "    # Print the table\n",
    "    print(tabulate(metrics_table, headers='firstrow'))\n",
    "\n",
    "    return training_loss_list, validation_loss_list, accuracy_list, precision_list, f1_score_list\n",
    "\n",
    "default_args = {\n",
    "    \"output_dir\": \"tmp\",\n",
    "    \"evaluation_strategy\": \"steps\",\n",
    "    \"num_train_epochs\": 1,\n",
    "    \"log_level\": \"error\",\n",
    "    \"report_to\": \"none\",\n",
    "}"
   ]
  },
  {
   "cell_type": "code",
   "execution_count": 3,
   "id": "d9785608-cd5e-4432-9d68-68d90c4a0a5a",
   "metadata": {},
   "outputs": [
    {
     "name": "stderr",
     "output_type": "stream",
     "text": [
      "Found cached dataset imdb (/home/z123010/.cache/huggingface/datasets/imdb/plain_text/1.0.0/d613c88cf8fa3bab83b4ded3713f1f74830d1100e171db75bbddb80b3345c9c0)\n"
     ]
    },
    {
     "data": {
      "application/vnd.jupyter.widget-view+json": {
       "model_id": "e9ef9f2d5cdf4fcf82842e7a8f2a98f3",
       "version_major": 2,
       "version_minor": 0
      },
      "text/plain": [
       "  0%|          | 0/3 [00:00<?, ?it/s]"
      ]
     },
     "metadata": {},
     "output_type": "display_data"
    }
   ],
   "source": [
    "df = data_imdb()"
   ]
  },
  {
   "cell_type": "code",
   "execution_count": 4,
   "id": "8793b8bc-43bd-4d43-a17e-abf0174eb200",
   "metadata": {},
   "outputs": [],
   "source": [
    "# Create label_dict and assign the number of labels\n",
    "label_dict = {label: index for index, label in enumerate(df['label'].unique())}"
   ]
  },
  {
   "cell_type": "code",
   "execution_count": 5,
   "id": "2707709e-9e1b-460f-9386-6d9e999f2d90",
   "metadata": {},
   "outputs": [
    {
     "data": {
      "text/html": [
       "<div>\n",
       "<style scoped>\n",
       "    .dataframe tbody tr th:only-of-type {\n",
       "        vertical-align: middle;\n",
       "    }\n",
       "\n",
       "    .dataframe tbody tr th {\n",
       "        vertical-align: top;\n",
       "    }\n",
       "\n",
       "    .dataframe thead th {\n",
       "        text-align: right;\n",
       "    }\n",
       "</style>\n",
       "<table border=\"1\" class=\"dataframe\">\n",
       "  <thead>\n",
       "    <tr style=\"text-align: right;\">\n",
       "      <th></th>\n",
       "      <th>text</th>\n",
       "      <th>label</th>\n",
       "      <th>sentiment</th>\n",
       "      <th>data_type</th>\n",
       "    </tr>\n",
       "  </thead>\n",
       "  <tbody>\n",
       "    <tr>\n",
       "      <th>33553</th>\n",
       "      <td>Forget what I said about Emeril. Rachael Ray i...</td>\n",
       "      <td>0</td>\n",
       "      <td>bad</td>\n",
       "      <td>test</td>\n",
       "    </tr>\n",
       "    <tr>\n",
       "      <th>9427</th>\n",
       "      <td>Former private eye-turned-security guard ditch...</td>\n",
       "      <td>0</td>\n",
       "      <td>bad</td>\n",
       "      <td>train</td>\n",
       "    </tr>\n",
       "    <tr>\n",
       "      <th>199</th>\n",
       "      <td>Mann photographs the Alberta Rocky Mountains i...</td>\n",
       "      <td>0</td>\n",
       "      <td>bad</td>\n",
       "      <td>train</td>\n",
       "    </tr>\n",
       "    <tr>\n",
       "      <th>12447</th>\n",
       "      <td>Simply put: the movie is boring. Cliché upon c...</td>\n",
       "      <td>0</td>\n",
       "      <td>bad</td>\n",
       "      <td>train</td>\n",
       "    </tr>\n",
       "    <tr>\n",
       "      <th>39489</th>\n",
       "      <td>Now being a fan of sci fi, the trailer for thi...</td>\n",
       "      <td>1</td>\n",
       "      <td>good</td>\n",
       "      <td>test</td>\n",
       "    </tr>\n",
       "    <tr>\n",
       "      <th>42724</th>\n",
       "      <td>In 'Hoot' Logan Lerman plays Roy Eberhardt, th...</td>\n",
       "      <td>1</td>\n",
       "      <td>good</td>\n",
       "      <td>test</td>\n",
       "    </tr>\n",
       "    <tr>\n",
       "      <th>10822</th>\n",
       "      <td>This is the worst film I have ever seen.I was ...</td>\n",
       "      <td>0</td>\n",
       "      <td>bad</td>\n",
       "      <td>train</td>\n",
       "    </tr>\n",
       "    <tr>\n",
       "      <th>49498</th>\n",
       "      <td>I think that Toy Soldiers is an excellent movi...</td>\n",
       "      <td>1</td>\n",
       "      <td>good</td>\n",
       "      <td>test</td>\n",
       "    </tr>\n",
       "    <tr>\n",
       "      <th>4144</th>\n",
       "      <td>I think Micheal Ironsides acting career must b...</td>\n",
       "      <td>0</td>\n",
       "      <td>bad</td>\n",
       "      <td>train</td>\n",
       "    </tr>\n",
       "    <tr>\n",
       "      <th>36958</th>\n",
       "      <td>This was a disgrace to the game FarCry i had m...</td>\n",
       "      <td>0</td>\n",
       "      <td>bad</td>\n",
       "      <td>test</td>\n",
       "    </tr>\n",
       "  </tbody>\n",
       "</table>\n",
       "</div>"
      ],
      "text/plain": [
       "                                                    text  label sentiment   \n",
       "33553  Forget what I said about Emeril. Rachael Ray i...      0       bad  \\\n",
       "9427   Former private eye-turned-security guard ditch...      0       bad   \n",
       "199    Mann photographs the Alberta Rocky Mountains i...      0       bad   \n",
       "12447  Simply put: the movie is boring. Cliché upon c...      0       bad   \n",
       "39489  Now being a fan of sci fi, the trailer for thi...      1      good   \n",
       "42724  In 'Hoot' Logan Lerman plays Roy Eberhardt, th...      1      good   \n",
       "10822  This is the worst film I have ever seen.I was ...      0       bad   \n",
       "49498  I think that Toy Soldiers is an excellent movi...      1      good   \n",
       "4144   I think Micheal Ironsides acting career must b...      0       bad   \n",
       "36958  This was a disgrace to the game FarCry i had m...      0       bad   \n",
       "\n",
       "      data_type  \n",
       "33553      test  \n",
       "9427      train  \n",
       "199       train  \n",
       "12447     train  \n",
       "39489      test  \n",
       "42724      test  \n",
       "10822     train  \n",
       "49498      test  \n",
       "4144      train  \n",
       "36958      test  "
      ]
     },
     "execution_count": 5,
     "metadata": {},
     "output_type": "execute_result"
    }
   ],
   "source": [
    "df.sample(n=10, random_state=42)  # Generate 10 random rows from df"
   ]
  },
  {
   "cell_type": "code",
   "execution_count": 6,
   "id": "dc596d9c-5808-4f39-a59e-6ed36d8927dd",
   "metadata": {},
   "outputs": [
    {
     "data": {
      "text/html": [
       "<div>\n",
       "<style scoped>\n",
       "    .dataframe tbody tr th:only-of-type {\n",
       "        vertical-align: middle;\n",
       "    }\n",
       "\n",
       "    .dataframe tbody tr th {\n",
       "        vertical-align: top;\n",
       "    }\n",
       "\n",
       "    .dataframe thead th {\n",
       "        text-align: right;\n",
       "    }\n",
       "</style>\n",
       "<table border=\"1\" class=\"dataframe\">\n",
       "  <thead>\n",
       "    <tr style=\"text-align: right;\">\n",
       "      <th></th>\n",
       "      <th>text</th>\n",
       "      <th>label</th>\n",
       "      <th>data_type</th>\n",
       "    </tr>\n",
       "    <tr>\n",
       "      <th>sentiment</th>\n",
       "      <th></th>\n",
       "      <th></th>\n",
       "      <th></th>\n",
       "    </tr>\n",
       "  </thead>\n",
       "  <tbody>\n",
       "    <tr>\n",
       "      <th>bad</th>\n",
       "      <td>25000</td>\n",
       "      <td>25000</td>\n",
       "      <td>25000</td>\n",
       "    </tr>\n",
       "    <tr>\n",
       "      <th>good</th>\n",
       "      <td>25000</td>\n",
       "      <td>25000</td>\n",
       "      <td>25000</td>\n",
       "    </tr>\n",
       "  </tbody>\n",
       "</table>\n",
       "</div>"
      ],
      "text/plain": [
       "            text  label  data_type\n",
       "sentiment                         \n",
       "bad        25000  25000      25000\n",
       "good       25000  25000      25000"
      ]
     },
     "execution_count": 6,
     "metadata": {},
     "output_type": "execute_result"
    }
   ],
   "source": [
    "df.groupby(['sentiment']).count()"
   ]
  },
  {
   "cell_type": "code",
   "execution_count": 7,
   "id": "5ab759d8-d194-4afb-8cd1-c4997224b920",
   "metadata": {},
   "outputs": [
    {
     "data": {
      "text/html": [
       "<div>\n",
       "<style scoped>\n",
       "    .dataframe tbody tr th:only-of-type {\n",
       "        vertical-align: middle;\n",
       "    }\n",
       "\n",
       "    .dataframe tbody tr th {\n",
       "        vertical-align: top;\n",
       "    }\n",
       "\n",
       "    .dataframe thead th {\n",
       "        text-align: right;\n",
       "    }\n",
       "</style>\n",
       "<table border=\"1\" class=\"dataframe\">\n",
       "  <thead>\n",
       "    <tr style=\"text-align: right;\">\n",
       "      <th></th>\n",
       "      <th>text</th>\n",
       "      <th>label</th>\n",
       "      <th>sentiment</th>\n",
       "    </tr>\n",
       "    <tr>\n",
       "      <th>data_type</th>\n",
       "      <th></th>\n",
       "      <th></th>\n",
       "      <th></th>\n",
       "    </tr>\n",
       "  </thead>\n",
       "  <tbody>\n",
       "    <tr>\n",
       "      <th>test</th>\n",
       "      <td>25000</td>\n",
       "      <td>25000</td>\n",
       "      <td>25000</td>\n",
       "    </tr>\n",
       "    <tr>\n",
       "      <th>train</th>\n",
       "      <td>25000</td>\n",
       "      <td>25000</td>\n",
       "      <td>25000</td>\n",
       "    </tr>\n",
       "  </tbody>\n",
       "</table>\n",
       "</div>"
      ],
      "text/plain": [
       "            text  label  sentiment\n",
       "data_type                         \n",
       "test       25000  25000      25000\n",
       "train      25000  25000      25000"
      ]
     },
     "execution_count": 7,
     "metadata": {},
     "output_type": "execute_result"
    }
   ],
   "source": [
    "df.groupby(['data_type']).count()"
   ]
  },
  {
   "cell_type": "code",
   "execution_count": 8,
   "id": "731e5a17-8ab7-4d19-a012-05eeabab1d90",
   "metadata": {
    "tags": []
   },
   "outputs": [],
   "source": [
    "# Load BERT tokenizer\n",
    "pretrained_path = 'bert-base-uncased'  # Replace with the path to the pretrained BERT model\n",
    "tokenizer = BertTokenizer.from_pretrained(\n",
    "    'bert-base-uncased',\n",
    "    do_lower_case=True\n",
    ")\n",
    "\n",
    "encoded_data_train_text = tokenizer.batch_encode_plus(\n",
    "    df[df.data_type=='train'].text.values,\n",
    "    add_special_tokens=True,\n",
    "    return_attention_mask=True,\n",
    "    padding='longest',\n",
    "    max_length=512,\n",
    "    truncation=True,\n",
    "    return_tensors='pt'\n",
    ")\n",
    "\n",
    "input_ids_train = encoded_data_train_text['input_ids']\n",
    "attention_masks_train = encoded_data_train_text['attention_mask']\n",
    "\n",
    "labels_train = torch.tensor(df[df.data_type=='train'].label.values)\n",
    "\n",
    "encoded_data_test_text = tokenizer.batch_encode_plus(\n",
    "    df[df.data_type=='test'].text.values,\n",
    "    add_special_tokens=True,\n",
    "    return_attention_mask=True,\n",
    "    padding='longest',\n",
    "    max_length=512,\n",
    "    truncation=True,\n",
    "    return_tensors='pt'\n",
    ")\n",
    "\n",
    "input_ids_test = encoded_data_test_text['input_ids']\n",
    "attention_masks_test = encoded_data_test_text['attention_mask']\n",
    "\n",
    "labels_test = torch.tensor(df[df.data_type=='test'].label.values)"
   ]
  },
  {
   "cell_type": "code",
   "execution_count": 9,
   "id": "42125069-fd5d-49c0-8032-2be61cb2a6d3",
   "metadata": {
    "tags": []
   },
   "outputs": [
    {
     "data": {
      "text/plain": [
       "(25000, 25000)"
      ]
     },
     "execution_count": 9,
     "metadata": {},
     "output_type": "execute_result"
    }
   ],
   "source": [
    "dataset_train = TensorDataset(input_ids_train, attention_masks_train, labels_train)\n",
    "dataset_test = TensorDataset(input_ids_test, attention_masks_test, labels_test)\n",
    "len(dataset_train), len(dataset_test)"
   ]
  },
  {
   "cell_type": "code",
   "execution_count": 10,
   "id": "9a2f7e02-8423-4787-994e-d599ab86b123",
   "metadata": {},
   "outputs": [],
   "source": [
    "import torch\n",
    "import torch.nn as nn\n",
    "from transformers import BertModel, BertConfig, GPT2Model, GPT2Config\n",
    "\n",
    "num_classes = 2\n",
    "\n",
    "class SentimentModel(nn.Module):\n",
    "    def __init__(self, pretrained_bert_path, pretrained_gpt_path):\n",
    "        super(SentimentModel, self).__init__()\n",
    "\n",
    "        gpt_config = GPT2Config(\n",
    "            vocab_size=50257,\n",
    "            hidden_size=128,  # Reduce hidden size\n",
    "            num_hidden_layers=4,  # Reduce number of layers\n",
    "            num_attention_heads=4,  # Reduce number of attention heads\n",
    "            intermediate_size=256,  # Reduce intermediate size\n",
    "            hidden_dropout_prob=0.3,\n",
    "            attention_probs_dropout_prob=0.3,\n",
    "        )\n",
    "        self.gpt = GPT2Model(config=gpt_config)\n",
    "        self.gpt_ln = nn.LayerNorm(gpt_config.hidden_size)\n",
    "        \n",
    "        bert_config = BertConfig(\n",
    "            vocab_size=50257,\n",
    "            hidden_size=128,  # Reduce hidden size\n",
    "            num_hidden_layers=4,  # Reduce number of layers\n",
    "            num_attention_heads=4,  # Reduce number of attention heads\n",
    "            intermediate_size=256,  # Reduce intermediate size\n",
    "            hidden_dropout_prob=0.3,\n",
    "            attention_probs_dropout_prob=0.3,\n",
    "        )\n",
    "        self.bert = BertModel(config=bert_config)\n",
    "        self.bert_ln = nn.LayerNorm(bert_config.hidden_size)\n",
    "        \n",
    "        self.dropout = nn.Dropout(0.2)\n",
    "        self.fc = nn.Linear(bert_config.hidden_size + gpt_config.hidden_size, num_classes)\n",
    "\n",
    "    def forward(self, input_ids, attention_mask, labels=None):\n",
    "        gpt_outputs = self.gpt(input_ids, attention_mask=attention_mask)[0]\n",
    "        gpt_outputs = self.gpt_ln(gpt_outputs) + gpt_outputs  # Residual connection\n",
    "        bert_outputs = self.bert(input_ids, attention_mask=attention_mask)[0]\n",
    "        bert_outputs = self.bert_ln(bert_outputs) + bert_outputs  # Residual connection\n",
    "        \n",
    "        gpt_last_hidden_state = self.dropout(gpt_outputs[:, -1, :])  # Use the last hidden state\n",
    "        bert_pooled_output = self.dropout(bert_outputs[:, 0, :])  # Use the [CLS] token representation\n",
    "        \n",
    "        combined_outputs = torch.cat((gpt_last_hidden_state, bert_pooled_output), dim=1)\n",
    "        \n",
    "        logits = self.fc(combined_outputs)\n",
    "        outputs = nn.functional.softmax(logits, dim=1)\n",
    "        \n",
    "        if labels is not None:\n",
    "            loss = nn.CrossEntropyLoss()(logits.view(-1, num_classes), labels.view(-1))\n",
    "            return loss, outputs, labels\n",
    "        else:\n",
    "            return outputs\n"
   ]
  },
  {
   "cell_type": "code",
   "execution_count": 11,
   "id": "7d131f86-ee7e-49b3-a104-a61841bb78d3",
   "metadata": {},
   "outputs": [],
   "source": [
    "# Create model instance\n",
    "model = SentimentModel('bert-base-uncased', 'gpt2')"
   ]
  },
  {
   "cell_type": "code",
   "execution_count": 12,
   "id": "834c8c87-40a1-49c6-8e7b-307b931aec01",
   "metadata": {},
   "outputs": [
    {
     "data": {
      "text/plain": [
       "SentimentModel(\n",
       "  (gpt): GPT2Model(\n",
       "    (wte): Embedding(50257, 128)\n",
       "    (wpe): Embedding(1024, 128)\n",
       "    (drop): Dropout(p=0.1, inplace=False)\n",
       "    (h): ModuleList(\n",
       "      (0-3): 4 x GPT2Block(\n",
       "        (ln_1): LayerNorm((128,), eps=1e-05, elementwise_affine=True)\n",
       "        (attn): GPT2Attention(\n",
       "          (c_attn): Conv1D()\n",
       "          (c_proj): Conv1D()\n",
       "          (attn_dropout): Dropout(p=0.1, inplace=False)\n",
       "          (resid_dropout): Dropout(p=0.1, inplace=False)\n",
       "        )\n",
       "        (ln_2): LayerNorm((128,), eps=1e-05, elementwise_affine=True)\n",
       "        (mlp): GPT2MLP(\n",
       "          (c_fc): Conv1D()\n",
       "          (c_proj): Conv1D()\n",
       "          (act): NewGELUActivation()\n",
       "          (dropout): Dropout(p=0.1, inplace=False)\n",
       "        )\n",
       "      )\n",
       "    )\n",
       "    (ln_f): LayerNorm((128,), eps=1e-05, elementwise_affine=True)\n",
       "  )\n",
       "  (gpt_ln): LayerNorm((128,), eps=1e-05, elementwise_affine=True)\n",
       "  (bert): BertModel(\n",
       "    (embeddings): BertEmbeddings(\n",
       "      (word_embeddings): Embedding(50257, 128, padding_idx=0)\n",
       "      (position_embeddings): Embedding(512, 128)\n",
       "      (token_type_embeddings): Embedding(2, 128)\n",
       "      (LayerNorm): LayerNorm((128,), eps=1e-12, elementwise_affine=True)\n",
       "      (dropout): Dropout(p=0.3, inplace=False)\n",
       "    )\n",
       "    (encoder): BertEncoder(\n",
       "      (layer): ModuleList(\n",
       "        (0-3): 4 x BertLayer(\n",
       "          (attention): BertAttention(\n",
       "            (self): BertSelfAttention(\n",
       "              (query): Linear(in_features=128, out_features=128, bias=True)\n",
       "              (key): Linear(in_features=128, out_features=128, bias=True)\n",
       "              (value): Linear(in_features=128, out_features=128, bias=True)\n",
       "              (dropout): Dropout(p=0.3, inplace=False)\n",
       "            )\n",
       "            (output): BertSelfOutput(\n",
       "              (dense): Linear(in_features=128, out_features=128, bias=True)\n",
       "              (LayerNorm): LayerNorm((128,), eps=1e-12, elementwise_affine=True)\n",
       "              (dropout): Dropout(p=0.3, inplace=False)\n",
       "            )\n",
       "          )\n",
       "          (intermediate): BertIntermediate(\n",
       "            (dense): Linear(in_features=128, out_features=256, bias=True)\n",
       "            (intermediate_act_fn): GELUActivation()\n",
       "          )\n",
       "          (output): BertOutput(\n",
       "            (dense): Linear(in_features=256, out_features=128, bias=True)\n",
       "            (LayerNorm): LayerNorm((128,), eps=1e-12, elementwise_affine=True)\n",
       "            (dropout): Dropout(p=0.3, inplace=False)\n",
       "          )\n",
       "        )\n",
       "      )\n",
       "    )\n",
       "    (pooler): BertPooler(\n",
       "      (dense): Linear(in_features=128, out_features=128, bias=True)\n",
       "      (activation): Tanh()\n",
       "    )\n",
       "  )\n",
       "  (bert_ln): LayerNorm((128,), eps=1e-05, elementwise_affine=True)\n",
       "  (dropout): Dropout(p=0.2, inplace=False)\n",
       "  (fc): Linear(in_features=256, out_features=2, bias=True)\n",
       ")"
      ]
     },
     "execution_count": 12,
     "metadata": {},
     "output_type": "execute_result"
    }
   ],
   "source": [
    "# Set device (CPU or GPU)\n",
    "device = torch.device(\"cuda\" if torch.cuda.is_available() else \"cpu\")\n",
    "model.to(device)"
   ]
  },
  {
   "cell_type": "code",
   "execution_count": 13,
   "id": "c610d351-0be0-4899-bf58-2397193b5ed1",
   "metadata": {},
   "outputs": [],
   "source": [
    "from transformers import TrainingArguments, Trainer, logging\n",
    "training_args = TrainingArguments(\n",
    "    per_device_train_batch_size=1,\n",
    "    gradient_accumulation_steps=4,\n",
    "    gradient_checkpointing=True,\n",
    "    fp16=True,\n",
    "    **default_args,\n",
    ")"
   ]
  },
  {
   "cell_type": "code",
   "execution_count": 14,
   "id": "cfb9e671-0f31-4a58-bf72-8c13ac04e6a0",
   "metadata": {},
   "outputs": [],
   "source": [
    "from torch.utils.data import DataLoader, RandomSampler, SequentialSampler\n",
    "# Set the batch size and create data loaders for training and validation sets\n",
    "\n",
    "batch_size = 32 #32\n",
    "\n",
    "dataloader_train = DataLoader(\n",
    "    dataset_train,\n",
    "    sampler=RandomSampler(dataset_train),\n",
    "    batch_size=batch_size\n",
    ")\n",
    "\n",
    "dataloader_test = DataLoader(\n",
    "    dataset_test,\n",
    "    sampler=RandomSampler(dataset_test),\n",
    "    batch_size=batch_size\n",
    ")"
   ]
  },
  {
   "cell_type": "code",
   "execution_count": 15,
   "id": "d3bc14be-49bc-4b42-be70-17412957cdaa",
   "metadata": {},
   "outputs": [
    {
     "name": "stderr",
     "output_type": "stream",
     "text": [
      "/home/z123010/anaconda3/lib/python3.10/site-packages/transformers/optimization.py:411: FutureWarning: This implementation of AdamW is deprecated and will be removed in a future version. Use the PyTorch implementation torch.optim.AdamW instead, or set `no_deprecation_warning=True` to disable this warning\n",
      "  warnings.warn(\n"
     ]
    }
   ],
   "source": [
    "from transformers import AdamW, get_linear_schedule_with_warmup\n",
    "\n",
    "# Define the optimizer\n",
    "optimizer = AdamW(\n",
    "    model.parameters(),\n",
    "    lr=1e-5,\n",
    "    eps=1e-8,\n",
    "    weight_decay=0.0001\n",
    "\n",
    ")\n",
    "\n",
    "\n",
    "epochs = 50\n",
    "patience = 10\n",
    "scheduler = get_linear_schedule_with_warmup(\n",
    "    optimizer,\n",
    "    num_warmup_steps=0,\n",
    "    num_training_steps=len(dataloader_train) * epochs\n",
    ")"
   ]
  },
  {
   "cell_type": "code",
   "execution_count": 16,
   "id": "27c174c9-8e92-42fa-9d81-54260c58251e",
   "metadata": {},
   "outputs": [],
   "source": [
    "import random\n",
    "\n",
    "seed_val = 17\n",
    "random.seed(seed_val) #sets the seed value for the Python built-in pseudo-random generator.\n",
    "np.random.seed(seed_val) #sets the seed value for the NumPy pseudo-random number generator.\n",
    "torch.manual_seed(seed_val) #sets the seed value for the random number generator in PyTorch on the CPU.\n",
    "torch.cuda.manual_seed_all(seed_val) #sets the seed value for the random number generator in PyTorch on the GPU."
   ]
  },
  {
   "cell_type": "code",
   "execution_count": 17,
   "id": "f3a28ec5-87fe-4bdf-b6a1-05bf8b6f6b8e",
   "metadata": {},
   "outputs": [
    {
     "name": "stdout",
     "output_type": "stream",
     "text": [
      "cuda\n"
     ]
    }
   ],
   "source": [
    "device = torch.device('cuda' if torch.cuda.is_available() else 'cpu')\n",
    "model.to(device)\n",
    "\n",
    "print(device)"
   ]
  },
  {
   "cell_type": "code",
   "execution_count": 18,
   "id": "6959b8b0-8529-4b6f-9ca8-972f7003d475",
   "metadata": {},
   "outputs": [],
   "source": [
    "trainer = Trainer(\n",
    "model=model,\n",
    "args=training_args,\n",
    "train_dataset=dataset_train,\n",
    "eval_dataset=dataset_train,\n",
    ")"
   ]
  },
  {
   "cell_type": "code",
   "execution_count": 19,
   "id": "d9c363e7-c757-4bb6-bb2c-d19a126fd165",
   "metadata": {},
   "outputs": [
    {
     "name": "stdout",
     "output_type": "stream",
     "text": [
      "\n",
      "Fold 1\n"
     ]
    },
    {
     "data": {
      "application/vnd.jupyter.widget-view+json": {
       "model_id": "3b6caf686d4d452381b8996feb0565ad",
       "version_major": 2,
       "version_minor": 0
      },
      "text/plain": [
       "  0%|          | 0/50 [00:00<?, ?it/s]"
      ]
     },
     "metadata": {},
     "output_type": "display_data"
    },
    {
     "data": {
      "application/vnd.jupyter.widget-view+json": {
       "model_id": "",
       "version_major": 2,
       "version_minor": 0
      },
      "text/plain": [
       "Epoch 1:   0%|          | 0/704 [00:00<?, ?it/s]"
      ]
     },
     "metadata": {},
     "output_type": "display_data"
    },
    {
     "name": "stdout",
     "output_type": "stream",
     "text": [
      "\n",
      "Epoch 1\n",
      "Training loss: 0.7137028214691038\n",
      "Validation loss: 0.5360085119175005\n",
      "F1 Score (weighted): 0.7276563484880446\n"
     ]
    },
    {
     "data": {
      "application/vnd.jupyter.widget-view+json": {
       "model_id": "",
       "version_major": 2,
       "version_minor": 0
      },
      "text/plain": [
       "Epoch 2:   0%|          | 0/704 [00:00<?, ?it/s]"
      ]
     },
     "metadata": {},
     "output_type": "display_data"
    },
    {
     "name": "stdout",
     "output_type": "stream",
     "text": [
      "\n",
      "Epoch 2\n",
      "Training loss: 0.5092079385649413\n",
      "Validation loss: 0.4243426405930821\n",
      "F1 Score (weighted): 0.8067428940944749\n",
      "\u001b[92m28.65% Training loss decreased compared to the previous epoch\u001b[0m\n",
      "\u001b[92m20.83% Validation loss decreased compared to the previous epoch\u001b[0m\n",
      "\u001b[92m10.87% F1 Score increased compared to the previous epoch\u001b[0m\n"
     ]
    },
    {
     "data": {
      "application/vnd.jupyter.widget-view+json": {
       "model_id": "",
       "version_major": 2,
       "version_minor": 0
      },
      "text/plain": [
       "Epoch 3:   0%|          | 0/704 [00:00<?, ?it/s]"
      ]
     },
     "metadata": {},
     "output_type": "display_data"
    },
    {
     "name": "stdout",
     "output_type": "stream",
     "text": [
      "\n",
      "Epoch 3\n",
      "Training loss: 0.40342627358834515\n",
      "Validation loss: 0.3964988350679603\n",
      "F1 Score (weighted): 0.8319225784648313\n",
      "\u001b[92m20.77% Training loss decreased compared to the previous epoch\u001b[0m\n",
      "\u001b[92m6.56% Validation loss decreased compared to the previous epoch\u001b[0m\n",
      "\u001b[92m3.12% F1 Score increased compared to the previous epoch\u001b[0m\n"
     ]
    },
    {
     "data": {
      "application/vnd.jupyter.widget-view+json": {
       "model_id": "",
       "version_major": 2,
       "version_minor": 0
      },
      "text/plain": [
       "Epoch 4:   0%|          | 0/704 [00:00<?, ?it/s]"
      ]
     },
     "metadata": {},
     "output_type": "display_data"
    },
    {
     "name": "stdout",
     "output_type": "stream",
     "text": [
      "\n",
      "Epoch 4\n",
      "Training loss: 0.3393393935191191\n",
      "Validation loss: 0.3934535133310511\n",
      "F1 Score (weighted): 0.8444626517076784\n",
      "\u001b[92m15.89% Training loss decreased compared to the previous epoch\u001b[0m\n",
      "\u001b[92m0.77% Validation loss decreased compared to the previous epoch\u001b[0m\n",
      "\u001b[92m1.51% F1 Score increased compared to the previous epoch\u001b[0m\n"
     ]
    },
    {
     "data": {
      "application/vnd.jupyter.widget-view+json": {
       "model_id": "",
       "version_major": 2,
       "version_minor": 0
      },
      "text/plain": [
       "Epoch 5:   0%|          | 0/704 [00:00<?, ?it/s]"
      ]
     },
     "metadata": {},
     "output_type": "display_data"
    },
    {
     "name": "stdout",
     "output_type": "stream",
     "text": [
      "\n",
      "Epoch 5\n",
      "Training loss: 0.29683931035370653\n",
      "Validation loss: 0.34570423853171023\n",
      "F1 Score (weighted): 0.8620100464401858\n",
      "\u001b[92m12.52% Training loss decreased compared to the previous epoch\u001b[0m\n",
      "\u001b[92m12.14% Validation loss decreased compared to the previous epoch\u001b[0m\n",
      "\u001b[92m2.08% F1 Score increased compared to the previous epoch\u001b[0m\n"
     ]
    },
    {
     "data": {
      "application/vnd.jupyter.widget-view+json": {
       "model_id": "",
       "version_major": 2,
       "version_minor": 0
      },
      "text/plain": [
       "Epoch 6:   0%|          | 0/704 [00:00<?, ?it/s]"
      ]
     },
     "metadata": {},
     "output_type": "display_data"
    },
    {
     "name": "stdout",
     "output_type": "stream",
     "text": [
      "\n",
      "Epoch 6\n",
      "Training loss: 0.26952906194492243\n",
      "Validation loss: 0.34089269036356407\n",
      "F1 Score (weighted): 0.8664369411324948\n",
      "\u001b[92m9.2% Training loss decreased compared to the previous epoch\u001b[0m\n",
      "\u001b[92m1.39% Validation loss decreased compared to the previous epoch\u001b[0m\n",
      "\u001b[92m0.51% F1 Score increased compared to the previous epoch\u001b[0m\n"
     ]
    },
    {
     "data": {
      "application/vnd.jupyter.widget-view+json": {
       "model_id": "",
       "version_major": 2,
       "version_minor": 0
      },
      "text/plain": [
       "Epoch 7:   0%|          | 0/704 [00:00<?, ?it/s]"
      ]
     },
     "metadata": {},
     "output_type": "display_data"
    },
    {
     "name": "stdout",
     "output_type": "stream",
     "text": [
      "\n",
      "Epoch 7\n",
      "Training loss: 0.24333221875448627\n",
      "Validation loss: 0.335176944072488\n",
      "F1 Score (weighted): 0.8667979327356694\n",
      "\u001b[92m9.72% Training loss decreased compared to the previous epoch\u001b[0m\n",
      "\u001b[92m1.68% Validation loss decreased compared to the previous epoch\u001b[0m\n",
      "\u001b[92m0.04% F1 Score increased compared to the previous epoch\u001b[0m\n"
     ]
    },
    {
     "data": {
      "application/vnd.jupyter.widget-view+json": {
       "model_id": "",
       "version_major": 2,
       "version_minor": 0
      },
      "text/plain": [
       "Epoch 8:   0%|          | 0/704 [00:00<?, ?it/s]"
      ]
     },
     "metadata": {},
     "output_type": "display_data"
    },
    {
     "name": "stdout",
     "output_type": "stream",
     "text": [
      "\n",
      "Epoch 8\n",
      "Training loss: 0.22911084750243885\n",
      "Validation loss: 0.3096893700547045\n",
      "F1 Score (weighted): 0.873645324502022\n",
      "\u001b[92m5.84% Training loss decreased compared to the previous epoch\u001b[0m\n",
      "\u001b[92m7.6% Validation loss decreased compared to the previous epoch\u001b[0m\n",
      "\u001b[92m0.79% F1 Score increased compared to the previous epoch\u001b[0m\n"
     ]
    },
    {
     "data": {
      "application/vnd.jupyter.widget-view+json": {
       "model_id": "",
       "version_major": 2,
       "version_minor": 0
      },
      "text/plain": [
       "Epoch 9:   0%|          | 0/704 [00:00<?, ?it/s]"
      ]
     },
     "metadata": {},
     "output_type": "display_data"
    },
    {
     "name": "stdout",
     "output_type": "stream",
     "text": [
      "\n",
      "Epoch 9\n",
      "Training loss: 0.2020283063333905\n",
      "Validation loss: 0.3228635823802103\n",
      "F1 Score (weighted): 0.8756401127277331\n",
      "\u001b[92m11.82% Training loss decreased compared to the previous epoch\u001b[0m\n",
      "\u001b[91m4.25% Validation loss increased compared to the previous epoch\u001b[0m\n",
      "\u001b[92m0.23% F1 Score increased compared to the previous epoch\u001b[0m\n"
     ]
    },
    {
     "data": {
      "application/vnd.jupyter.widget-view+json": {
       "model_id": "",
       "version_major": 2,
       "version_minor": 0
      },
      "text/plain": [
       "Epoch 10:   0%|          | 0/704 [00:00<?, ?it/s]"
      ]
     },
     "metadata": {},
     "output_type": "display_data"
    },
    {
     "name": "stdout",
     "output_type": "stream",
     "text": [
      "\n",
      "Epoch 10\n",
      "Training loss: 0.1905549527794144\n",
      "Validation loss: 0.32873764825112456\n",
      "F1 Score (weighted): 0.8760228008500665\n",
      "\u001b[92m5.68% Training loss decreased compared to the previous epoch\u001b[0m\n",
      "\u001b[91m1.82% Validation loss increased compared to the previous epoch\u001b[0m\n",
      "\u001b[92m0.04% F1 Score increased compared to the previous epoch\u001b[0m\n"
     ]
    },
    {
     "data": {
      "application/vnd.jupyter.widget-view+json": {
       "model_id": "",
       "version_major": 2,
       "version_minor": 0
      },
      "text/plain": [
       "Epoch 11:   0%|          | 0/704 [00:00<?, ?it/s]"
      ]
     },
     "metadata": {},
     "output_type": "display_data"
    },
    {
     "name": "stdout",
     "output_type": "stream",
     "text": [
      "\n",
      "Epoch 11\n",
      "Training loss: 0.17658148746836974\n",
      "Validation loss: 0.3734237014808209\n",
      "F1 Score (weighted): 0.8816\n",
      "\u001b[92m7.33% Training loss decreased compared to the previous epoch\u001b[0m\n",
      "\u001b[91m13.59% Validation loss increased compared to the previous epoch\u001b[0m\n",
      "\u001b[92m0.64% F1 Score increased compared to the previous epoch\u001b[0m\n"
     ]
    },
    {
     "data": {
      "application/vnd.jupyter.widget-view+json": {
       "model_id": "",
       "version_major": 2,
       "version_minor": 0
      },
      "text/plain": [
       "Epoch 12:   0%|          | 0/704 [00:00<?, ?it/s]"
      ]
     },
     "metadata": {},
     "output_type": "display_data"
    },
    {
     "name": "stdout",
     "output_type": "stream",
     "text": [
      "\n",
      "Epoch 12\n",
      "Training loss: 0.16231307850235185\n",
      "Validation loss: 0.37098136233000817\n",
      "F1 Score (weighted): 0.8771980941436952\n",
      "\u001b[92m8.08% Training loss decreased compared to the previous epoch\u001b[0m\n",
      "\u001b[92m0.65% Validation loss decreased compared to the previous epoch\u001b[0m\n",
      "\u001b[91m0.5% F1 Score decreased compared to the previous epoch\u001b[0m\n"
     ]
    },
    {
     "data": {
      "application/vnd.jupyter.widget-view+json": {
       "model_id": "",
       "version_major": 2,
       "version_minor": 0
      },
      "text/plain": [
       "Epoch 13:   0%|          | 0/704 [00:00<?, ?it/s]"
      ]
     },
     "metadata": {},
     "output_type": "display_data"
    },
    {
     "name": "stdout",
     "output_type": "stream",
     "text": [
      "\n",
      "Epoch 13\n",
      "Training loss: 0.1512609236114341\n",
      "Validation loss: 0.39145344943751265\n",
      "F1 Score (weighted): 0.8780262165722543\n",
      "\u001b[92m6.81% Training loss decreased compared to the previous epoch\u001b[0m\n",
      "\u001b[91m5.52% Validation loss increased compared to the previous epoch\u001b[0m\n",
      "\u001b[92m0.09% F1 Score increased compared to the previous epoch\u001b[0m\n"
     ]
    },
    {
     "data": {
      "application/vnd.jupyter.widget-view+json": {
       "model_id": "",
       "version_major": 2,
       "version_minor": 0
      },
      "text/plain": [
       "Epoch 14:   0%|          | 0/704 [00:00<?, ?it/s]"
      ]
     },
     "metadata": {},
     "output_type": "display_data"
    },
    {
     "name": "stdout",
     "output_type": "stream",
     "text": [
      "\n",
      "Epoch 14\n",
      "Training loss: 0.1434564857534662\n",
      "Validation loss: 0.38174403131691903\n",
      "F1 Score (weighted): 0.8751245100894528\n",
      "\u001b[92m5.16% Training loss decreased compared to the previous epoch\u001b[0m\n",
      "\u001b[92m2.48% Validation loss decreased compared to the previous epoch\u001b[0m\n",
      "\u001b[91m0.33% F1 Score decreased compared to the previous epoch\u001b[0m\n"
     ]
    },
    {
     "data": {
      "application/vnd.jupyter.widget-view+json": {
       "model_id": "",
       "version_major": 2,
       "version_minor": 0
      },
      "text/plain": [
       "Epoch 15:   0%|          | 0/704 [00:00<?, ?it/s]"
      ]
     },
     "metadata": {},
     "output_type": "display_data"
    },
    {
     "name": "stdout",
     "output_type": "stream",
     "text": [
      "\n",
      "Epoch 15\n",
      "Training loss: 0.13594150780872125\n",
      "Validation loss: 0.3634839416776277\n",
      "F1 Score (weighted): 0.880031285010675\n",
      "\u001b[92m5.24% Training loss decreased compared to the previous epoch\u001b[0m\n",
      "\u001b[92m4.78% Validation loss decreased compared to the previous epoch\u001b[0m\n",
      "\u001b[92m0.56% F1 Score increased compared to the previous epoch\u001b[0m\n"
     ]
    },
    {
     "data": {
      "application/vnd.jupyter.widget-view+json": {
       "model_id": "",
       "version_major": 2,
       "version_minor": 0
      },
      "text/plain": [
       "Epoch 16:   0%|          | 0/704 [00:00<?, ?it/s]"
      ]
     },
     "metadata": {},
     "output_type": "display_data"
    },
    {
     "name": "stdout",
     "output_type": "stream",
     "text": [
      "\n",
      "Epoch 16\n",
      "Training loss: 0.12266170027181612\n",
      "Validation loss: 0.46085810156751283\n",
      "F1 Score (weighted): 0.8647438389788904\n",
      "\u001b[92m9.77% Training loss decreased compared to the previous epoch\u001b[0m\n",
      "\u001b[91m26.79% Validation loss increased compared to the previous epoch\u001b[0m\n",
      "\u001b[91m1.74% F1 Score decreased compared to the previous epoch\u001b[0m\n"
     ]
    },
    {
     "data": {
      "application/vnd.jupyter.widget-view+json": {
       "model_id": "",
       "version_major": 2,
       "version_minor": 0
      },
      "text/plain": [
       "Epoch 17:   0%|          | 0/704 [00:00<?, ?it/s]"
      ]
     },
     "metadata": {},
     "output_type": "display_data"
    },
    {
     "name": "stdout",
     "output_type": "stream",
     "text": [
      "\n",
      "Epoch 17\n",
      "Training loss: 0.12059982859235871\n",
      "Validation loss: 0.44388683235178455\n",
      "F1 Score (weighted): 0.8792314935774128\n",
      "\u001b[92m1.68% Training loss decreased compared to the previous epoch\u001b[0m\n",
      "\u001b[92m3.68% Validation loss decreased compared to the previous epoch\u001b[0m\n",
      "\u001b[92m1.68% F1 Score increased compared to the previous epoch\u001b[0m\n"
     ]
    },
    {
     "data": {
      "application/vnd.jupyter.widget-view+json": {
       "model_id": "",
       "version_major": 2,
       "version_minor": 0
      },
      "text/plain": [
       "Epoch 18:   0%|          | 0/704 [00:00<?, ?it/s]"
      ]
     },
     "metadata": {},
     "output_type": "display_data"
    },
    {
     "name": "stdout",
     "output_type": "stream",
     "text": [
      "\n",
      "Epoch 18\n",
      "Training loss: 0.11546824488786198\n",
      "Validation loss: 0.4276369683373767\n",
      "F1 Score (weighted): 0.8823613091157229\n",
      "\u001b[92m4.26% Training loss decreased compared to the previous epoch\u001b[0m\n",
      "\u001b[92m3.66% Validation loss decreased compared to the previous epoch\u001b[0m\n",
      "\u001b[92m0.36% F1 Score increased compared to the previous epoch\u001b[0m\n",
      "\n",
      "Early stopping triggered. Training stopped.\n",
      "\n",
      "Total training time: 36.416588048140206 minutes\n",
      "Final Accuracy: 0.8824\n",
      "Final Precision: 0.8824143062515403\n"
     ]
    },
    {
     "data": {
      "image/png": "[encoded data removed]",
      "text/plain": [
       "<Figure size 800x600 with 1 Axes>"
      ]
     },
     "metadata": {},
     "output_type": "display_data"
    },
    {
     "name": "stdout",
     "output_type": "stream",
     "text": [
      "Epoch                 Training Loss        Validation Loss      F1 Score            Accuracy              Precision\n",
      "--------------------  -------------------  -------------------  ------------------  ------------------  -----------\n",
      "1                     0.7137028214691038   0.5360085119175005   0.7276563484880446  0.7284                 0.728857\n",
      "2                     \u001b[92m0.5092079385649413\u001b[0m   \u001b[92m0.4243426405930821\u001b[0m   \u001b[92m0.8067428940944749\u001b[0m  \u001b[92m\u001b[92m0.8067428940944749\u001b[0m\u001b[0m     \u001b[92m\u001b[92m0.806743\u001b[0m\u001b[0m\n",
      "3                     \u001b[92m0.40342627358834515\u001b[0m  \u001b[92m0.3964988350679603\u001b[0m   \u001b[92m0.8319225784648313\u001b[0m  \u001b[92m\u001b[92m0.8319225784648313\u001b[0m\u001b[0m     \u001b[92m\u001b[92m0.831923\u001b[0m\u001b[0m\n",
      "4                     \u001b[92m0.3393393935191191\u001b[0m   \u001b[92m0.3934535133310511\u001b[0m   \u001b[92m0.8444626517076784\u001b[0m  \u001b[92m\u001b[92m0.8444626517076784\u001b[0m\u001b[0m     \u001b[92m\u001b[92m0.844463\u001b[0m\u001b[0m\n",
      "5                     \u001b[92m0.29683931035370653\u001b[0m  \u001b[92m0.34570423853171023\u001b[0m  \u001b[92m0.8620100464401858\u001b[0m  \u001b[92m\u001b[92m0.8620100464401858\u001b[0m\u001b[0m     \u001b[92m\u001b[92m0.86201\u001b[0m\u001b[0m\n",
      "6                     \u001b[92m0.26952906194492243\u001b[0m  \u001b[92m0.34089269036356407\u001b[0m  \u001b[92m0.8664369411324948\u001b[0m  \u001b[92m\u001b[92m0.8664369411324948\u001b[0m\u001b[0m     \u001b[92m\u001b[92m0.866437\u001b[0m\u001b[0m\n",
      "7                     \u001b[92m0.24333221875448627\u001b[0m  \u001b[92m0.335176944072488\u001b[0m    \u001b[92m0.8667979327356694\u001b[0m  \u001b[92m\u001b[92m0.8667979327356694\u001b[0m\u001b[0m     \u001b[92m\u001b[92m0.866798\u001b[0m\u001b[0m\n",
      "8                     \u001b[92m0.22911084750243885\u001b[0m  \u001b[92m0.3096893700547045\u001b[0m   \u001b[92m0.873645324502022\u001b[0m   \u001b[92m\u001b[92m0.873645324502022\u001b[0m\u001b[0m      \u001b[92m\u001b[92m0.873645\u001b[0m\u001b[0m\n",
      "9                     \u001b[92m0.2020283063333905\u001b[0m   \u001b[91m0.3228635823802103\u001b[0m   \u001b[92m0.8756401127277331\u001b[0m  \u001b[92m\u001b[92m0.8756401127277331\u001b[0m\u001b[0m     \u001b[92m\u001b[92m0.87564\u001b[0m\u001b[0m\n",
      "10                    \u001b[92m0.1905549527794144\u001b[0m   \u001b[91m0.32873764825112456\u001b[0m  \u001b[92m0.8760228008500665\u001b[0m  \u001b[92m\u001b[92m0.8760228008500665\u001b[0m\u001b[0m     \u001b[92m\u001b[92m0.876023\u001b[0m\u001b[0m\n",
      "11                    \u001b[92m0.17658148746836974\u001b[0m  \u001b[91m0.3734237014808209\u001b[0m   \u001b[92m0.8816\u001b[0m              \u001b[92m\u001b[92m0.8816\u001b[0m\u001b[0m                 \u001b[92m\u001b[92m0.8816\u001b[0m\u001b[0m\n",
      "12                    \u001b[92m0.16231307850235185\u001b[0m  \u001b[92m0.37098136233000817\u001b[0m  \u001b[91m0.8771980941436952\u001b[0m  \u001b[91m\u001b[91m0.8771980941436952\u001b[0m\u001b[0m     \u001b[91m\u001b[91m0.877198\u001b[0m\u001b[0m\n",
      "13                    \u001b[92m0.1512609236114341\u001b[0m   \u001b[91m0.39145344943751265\u001b[0m  \u001b[92m0.8780262165722543\u001b[0m  \u001b[92m\u001b[92m0.8780262165722543\u001b[0m\u001b[0m     \u001b[92m\u001b[92m0.878026\u001b[0m\u001b[0m\n",
      "14                    \u001b[92m0.1434564857534662\u001b[0m   \u001b[92m0.38174403131691903\u001b[0m  \u001b[91m0.8751245100894528\u001b[0m  \u001b[91m\u001b[91m0.8751245100894528\u001b[0m\u001b[0m     \u001b[92m\u001b[91m0.875125\u001b[0m\u001b[0m\n",
      "15                    \u001b[92m0.13594150780872125\u001b[0m  \u001b[92m0.3634839416776277\u001b[0m   \u001b[92m0.880031285010675\u001b[0m   \u001b[92m\u001b[92m0.880031285010675\u001b[0m\u001b[0m      \u001b[92m\u001b[92m0.880031\u001b[0m\u001b[0m\n",
      "16                    \u001b[92m0.12266170027181612\u001b[0m  \u001b[91m0.46085810156751283\u001b[0m  \u001b[91m0.8647438389788904\u001b[0m  \u001b[91m\u001b[91m0.8647438389788904\u001b[0m\u001b[0m     \u001b[91m\u001b[91m0.864744\u001b[0m\u001b[0m\n",
      "17                    \u001b[92m0.12059982859235871\u001b[0m  \u001b[92m0.44388683235178455\u001b[0m  \u001b[92m0.8792314935774128\u001b[0m  \u001b[92m\u001b[92m0.8792314935774128\u001b[0m\u001b[0m     \u001b[92m\u001b[92m0.879231\u001b[0m\u001b[0m\n",
      "18                    \u001b[92m0.11546824488786198\u001b[0m  \u001b[92m0.4276369683373767\u001b[0m   \u001b[92m0.8823613091157229\u001b[0m  \u001b[92m\u001b[92m0.8823613091157229\u001b[0m\u001b[0m     \u001b[92m\u001b[92m0.882361\u001b[0m\u001b[0m\n",
      "Total Training Time                                                                                     2185\n",
      "Final Precision                                                                                            0.882414\n",
      "Total Time (minutes)                                                                                      36.4166\n",
      "\n",
      "Fold 2\n"
     ]
    },
    {
     "data": {
      "application/vnd.jupyter.widget-view+json": {
       "model_id": "e4e235ee80884897b06b2409cbc51879",
       "version_major": 2,
       "version_minor": 0
      },
      "text/plain": [
       "  0%|          | 0/50 [00:00<?, ?it/s]"
      ]
     },
     "metadata": {},
     "output_type": "display_data"
    },
    {
     "data": {
      "application/vnd.jupyter.widget-view+json": {
       "model_id": "",
       "version_major": 2,
       "version_minor": 0
      },
      "text/plain": [
       "Epoch 1:   0%|          | 0/704 [00:00<?, ?it/s]"
      ]
     },
     "metadata": {},
     "output_type": "display_data"
    },
    {
     "name": "stdout",
     "output_type": "stream",
     "text": [
      "\n",
      "Epoch 1\n",
      "Training loss: 0.1371949375600459\n",
      "Validation loss: 0.07470039831167913\n",
      "F1 Score (weighted): 0.9743775399855443\n"
     ]
    },
    {
     "data": {
      "application/vnd.jupyter.widget-view+json": {
       "model_id": "",
       "version_major": 2,
       "version_minor": 0
      },
      "text/plain": [
       "Epoch 2:   0%|          | 0/704 [00:00<?, ?it/s]"
      ]
     },
     "metadata": {},
     "output_type": "display_data"
    },
    {
     "name": "stdout",
     "output_type": "stream",
     "text": [
      "\n",
      "Epoch 2\n",
      "Training loss: 0.1327713830378343\n",
      "Validation loss: 0.06788630214080663\n",
      "F1 Score (weighted): 0.9760021514795264\n",
      "\u001b[92m3.22% Training loss decreased compared to the previous epoch\u001b[0m\n",
      "\u001b[92m9.12% Validation loss decreased compared to the previous epoch\u001b[0m\n",
      "\u001b[92m0.17% F1 Score increased compared to the previous epoch\u001b[0m\n"
     ]
    },
    {
     "data": {
      "application/vnd.jupyter.widget-view+json": {
       "model_id": "",
       "version_major": 2,
       "version_minor": 0
      },
      "text/plain": [
       "Epoch 3:   0%|          | 0/704 [00:00<?, ?it/s]"
      ]
     },
     "metadata": {},
     "output_type": "display_data"
    },
    {
     "name": "stdout",
     "output_type": "stream",
     "text": [
      "\n",
      "Epoch 3\n",
      "Training loss: 0.12104697320451537\n",
      "Validation loss: 0.06788412827550422\n",
      "F1 Score (weighted): 0.9783973710103928\n",
      "\u001b[92m8.83% Training loss decreased compared to the previous epoch\u001b[0m\n",
      "\u001b[92m0.0% Validation loss decreased compared to the previous epoch\u001b[0m\n",
      "\u001b[92m0.25% F1 Score increased compared to the previous epoch\u001b[0m\n"
     ]
    },
    {
     "data": {
      "application/vnd.jupyter.widget-view+json": {
       "model_id": "",
       "version_major": 2,
       "version_minor": 0
      },
      "text/plain": [
       "Epoch 4:   0%|          | 0/704 [00:00<?, ?it/s]"
      ]
     },
     "metadata": {},
     "output_type": "display_data"
    },
    {
     "name": "stdout",
     "output_type": "stream",
     "text": [
      "\n",
      "Epoch 4\n",
      "Training loss: 0.12150706747359602\n",
      "Validation loss: 0.07550595870795601\n",
      "F1 Score (weighted): 0.9751947883771278\n",
      "\u001b[91m0.38% Training loss increased compared to the previous epoch\u001b[0m\n",
      "\u001b[91m11.23% Validation loss increased compared to the previous epoch\u001b[0m\n",
      "\u001b[91m0.33% F1 Score decreased compared to the previous epoch\u001b[0m\n"
     ]
    },
    {
     "data": {
      "application/vnd.jupyter.widget-view+json": {
       "model_id": "",
       "version_major": 2,
       "version_minor": 0
      },
      "text/plain": [
       "Epoch 5:   0%|          | 0/704 [00:00<?, ?it/s]"
      ]
     },
     "metadata": {},
     "output_type": "display_data"
    },
    {
     "name": "stdout",
     "output_type": "stream",
     "text": [
      "\n",
      "Epoch 5\n",
      "Training loss: 0.11436834250608544\n",
      "Validation loss: 0.07935910423498459\n",
      "F1 Score (weighted): 0.97599947737334\n",
      "\u001b[92m5.88% Training loss decreased compared to the previous epoch\u001b[0m\n",
      "\u001b[91m5.1% Validation loss increased compared to the previous epoch\u001b[0m\n",
      "\u001b[92m0.08% F1 Score increased compared to the previous epoch\u001b[0m\n"
     ]
    },
    {
     "data": {
      "application/vnd.jupyter.widget-view+json": {
       "model_id": "2eb6ccaec5b846a4aae10e72ee2e59c9",
       "version_major": 2,
       "version_minor": 0
      },
      "text/plain": [
       "Epoch 6:   0%|          | 0/704 [00:00<?, ?it/s]"
      ]
     },
     "metadata": {},
     "output_type": "display_data"
    },
    {
     "name": "stdout",
     "output_type": "stream",
     "text": [
      "\n",
      "Epoch 6\n",
      "Training loss: 0.10896898667289695\n",
      "Validation loss: 0.0866229377548458\n",
      "F1 Score (weighted): 0.9756023630637228\n",
      "\u001b[92m4.72% Training loss decreased compared to the previous epoch\u001b[0m\n",
      "\u001b[91m9.15% Validation loss increased compared to the previous epoch\u001b[0m\n",
      "\u001b[91m0.04% F1 Score decreased compared to the previous epoch\u001b[0m\n"
     ]
    },
    {
     "data": {
      "application/vnd.jupyter.widget-view+json": {
       "model_id": "bd9c677dee2f4f4cb987862c5ca6ef30",
       "version_major": 2,
       "version_minor": 0
      },
      "text/plain": [
       "Epoch 7:   0%|          | 0/704 [00:00<?, ?it/s]"
      ]
     },
     "metadata": {},
     "output_type": "display_data"
    },
    {
     "name": "stdout",
     "output_type": "stream",
     "text": [
      "\n",
      "Epoch 7\n",
      "Training loss: 0.10566865215498017\n",
      "Validation loss: 0.10157341879491895\n",
      "F1 Score (weighted): 0.9684053252639562\n",
      "\u001b[92m3.03% Training loss decreased compared to the previous epoch\u001b[0m\n",
      "\u001b[91m17.26% Validation loss increased compared to the previous epoch\u001b[0m\n",
      "\u001b[91m0.74% F1 Score decreased compared to the previous epoch\u001b[0m\n"
     ]
    },
    {
     "data": {
      "application/vnd.jupyter.widget-view+json": {
       "model_id": "3b9a6723028a45c1b511db5d6b9e74ad",
       "version_major": 2,
       "version_minor": 0
      },
      "text/plain": [
       "Epoch 8:   0%|          | 0/704 [00:00<?, ?it/s]"
      ]
     },
     "metadata": {},
     "output_type": "display_data"
    },
    {
     "name": "stdout",
     "output_type": "stream",
     "text": [
      "\n",
      "Epoch 8\n",
      "Training loss: 0.10272991892138221\n",
      "Validation loss: 0.0975677947605123\n",
      "F1 Score (weighted): 0.9747950959719474\n",
      "\u001b[92m2.78% Training loss decreased compared to the previous epoch\u001b[0m\n",
      "\u001b[92m3.94% Validation loss decreased compared to the previous epoch\u001b[0m\n",
      "\u001b[92m0.66% F1 Score increased compared to the previous epoch\u001b[0m\n"
     ]
    },
    {
     "data": {
      "application/vnd.jupyter.widget-view+json": {
       "model_id": "f71c55f0bc3c401a8eba3dbdf7c5fa2a",
       "version_major": 2,
       "version_minor": 0
      },
      "text/plain": [
       "Epoch 9:   0%|          | 0/704 [00:00<?, ?it/s]"
      ]
     },
     "metadata": {},
     "output_type": "display_data"
    },
    {
     "name": "stdout",
     "output_type": "stream",
     "text": [
      "\n",
      "Epoch 9\n",
      "Training loss: 0.09748175077592433\n",
      "Validation loss: 0.11789785722960258\n",
      "F1 Score (weighted): 0.9716037866066628\n",
      "\u001b[92m5.11% Training loss decreased compared to the previous epoch\u001b[0m\n",
      "\u001b[91m20.84% Validation loss increased compared to the previous epoch\u001b[0m\n",
      "\u001b[91m0.33% F1 Score decreased compared to the previous epoch\u001b[0m\n"
     ]
    },
    {
     "data": {
      "application/vnd.jupyter.widget-view+json": {
       "model_id": "843fefc7ac8b43138b737a0e4b0b8b92",
       "version_major": 2,
       "version_minor": 0
      },
      "text/plain": [
       "Epoch 10:   0%|          | 0/704 [00:00<?, ?it/s]"
      ]
     },
     "metadata": {},
     "output_type": "display_data"
    },
    {
     "name": "stdout",
     "output_type": "stream",
     "text": [
      "\n",
      "Epoch 10\n",
      "Training loss: 0.09903418491723476\n",
      "Validation loss: 0.13577903056505455\n",
      "F1 Score (weighted): 0.9663631834916945\n",
      "\u001b[91m1.59% Training loss increased compared to the previous epoch\u001b[0m\n",
      "\u001b[91m15.17% Validation loss increased compared to the previous epoch\u001b[0m\n",
      "\u001b[91m0.54% F1 Score decreased compared to the previous epoch\u001b[0m\n"
     ]
    },
    {
     "data": {
      "application/vnd.jupyter.widget-view+json": {
       "model_id": "ae2d52df679b41dd9dd4359a154d5833",
       "version_major": 2,
       "version_minor": 0
      },
      "text/plain": [
       "Epoch 11:   0%|          | 0/704 [00:00<?, ?it/s]"
      ]
     },
     "metadata": {},
     "output_type": "display_data"
    },
    {
     "name": "stdout",
     "output_type": "stream",
     "text": [
      "\n",
      "Epoch 11\n",
      "Training loss: 0.09091443110074496\n",
      "Validation loss: 0.13247547787540487\n",
      "F1 Score (weighted): 0.969193038919218\n",
      "\u001b[92m8.2% Training loss decreased compared to the previous epoch\u001b[0m\n",
      "\u001b[92m2.43% Validation loss decreased compared to the previous epoch\u001b[0m\n",
      "\u001b[92m0.29% F1 Score increased compared to the previous epoch\u001b[0m\n"
     ]
    },
    {
     "data": {
      "application/vnd.jupyter.widget-view+json": {
       "model_id": "b817fda5f70945bd8150d2a54477652a",
       "version_major": 2,
       "version_minor": 0
      },
      "text/plain": [
       "Epoch 12:   0%|          | 0/704 [00:00<?, ?it/s]"
      ]
     },
     "metadata": {},
     "output_type": "display_data"
    },
    {
     "name": "stdout",
     "output_type": "stream",
     "text": [
      "\n",
      "Epoch 12\n",
      "Training loss: 0.0945188007407606\n",
      "Validation loss: 0.13651029713366392\n",
      "F1 Score (weighted): 0.971198708747658\n",
      "\u001b[91m3.96% Training loss increased compared to the previous epoch\u001b[0m\n",
      "\u001b[91m3.05% Validation loss increased compared to the previous epoch\u001b[0m\n",
      "\u001b[92m0.21% F1 Score increased compared to the previous epoch\u001b[0m\n"
     ]
    },
    {
     "data": {
      "application/vnd.jupyter.widget-view+json": {
       "model_id": "88d4a03c87044788a28444647c720cb4",
       "version_major": 2,
       "version_minor": 0
      },
      "text/plain": [
       "Epoch 13:   0%|          | 0/704 [00:00<?, ?it/s]"
      ]
     },
     "metadata": {},
     "output_type": "display_data"
    },
    {
     "name": "stdout",
     "output_type": "stream",
     "text": [
      "\n",
      "Epoch 13\n",
      "Training loss: 0.09253963727232159\n",
      "Validation loss: 0.1364961981020361\n",
      "F1 Score (weighted): 0.9676021421851114\n",
      "\u001b[92m2.09% Training loss decreased compared to the previous epoch\u001b[0m\n",
      "\u001b[92m0.01% Validation loss decreased compared to the previous epoch\u001b[0m\n",
      "\u001b[91m0.37% F1 Score decreased compared to the previous epoch\u001b[0m\n",
      "\n",
      "Early stopping triggered. Training stopped.\n",
      "\n",
      "Total training time: 26.273953553040823 minutes\n",
      "Final Accuracy: 0.9676\n",
      "Final Precision: 0.9676194623722008\n"
     ]
    },
    {
     "data": {
      "image/png": "[encoded data removed]",
      "text/plain": [
       "<Figure size 800x600 with 1 Axes>"
      ]
     },
     "metadata": {},
     "output_type": "display_data"
    },
    {
     "name": "stdout",
     "output_type": "stream",
     "text": [
      "Epoch                 Training Loss        Validation Loss      F1 Score            Accuracy              Precision\n",
      "--------------------  -------------------  -------------------  ------------------  ------------------  -----------\n",
      "1                     0.1371949375600459   0.07470039831167913  0.9743775399855443  0.9744                 0.975076\n",
      "2                     \u001b[92m0.1327713830378343\u001b[0m   \u001b[92m0.06788630214080663\u001b[0m  \u001b[92m0.9760021514795264\u001b[0m  \u001b[92m\u001b[92m0.9760021514795264\u001b[0m\u001b[0m     \u001b[92m\u001b[92m0.976002\u001b[0m\u001b[0m\n",
      "3                     \u001b[92m0.12104697320451537\u001b[0m  \u001b[92m0.06788412827550422\u001b[0m  \u001b[92m0.9783973710103928\u001b[0m  \u001b[92m\u001b[92m0.9783973710103928\u001b[0m\u001b[0m     \u001b[92m\u001b[92m0.978397\u001b[0m\u001b[0m\n",
      "4                     \u001b[91m0.12150706747359602\u001b[0m  \u001b[91m0.07550595870795601\u001b[0m  \u001b[91m0.9751947883771278\u001b[0m  \u001b[91m\u001b[91m0.9751947883771278\u001b[0m\u001b[0m     \u001b[91m\u001b[91m0.975195\u001b[0m\u001b[0m\n",
      "5                     \u001b[92m0.11436834250608544\u001b[0m  \u001b[91m0.07935910423498459\u001b[0m  \u001b[92m0.97599947737334\u001b[0m    \u001b[92m\u001b[92m0.97599947737334\u001b[0m\u001b[0m       \u001b[92m\u001b[92m0.975999\u001b[0m\u001b[0m\n",
      "6                     \u001b[92m0.10896898667289695\u001b[0m  \u001b[91m0.0866229377548458\u001b[0m   \u001b[91m0.9756023630637228\u001b[0m  \u001b[91m\u001b[91m0.9756023630637228\u001b[0m\u001b[0m     \u001b[91m\u001b[91m0.975602\u001b[0m\u001b[0m\n",
      "7                     \u001b[92m0.10566865215498017\u001b[0m  \u001b[91m0.10157341879491895\u001b[0m  \u001b[91m0.9684053252639562\u001b[0m  \u001b[91m\u001b[91m0.9684053252639562\u001b[0m\u001b[0m     \u001b[91m\u001b[91m0.968405\u001b[0m\u001b[0m\n",
      "8                     \u001b[92m0.10272991892138221\u001b[0m  \u001b[92m0.0975677947605123\u001b[0m   \u001b[92m0.9747950959719474\u001b[0m  \u001b[92m\u001b[92m0.9747950959719474\u001b[0m\u001b[0m     \u001b[92m\u001b[92m0.974795\u001b[0m\u001b[0m\n",
      "9                     \u001b[92m0.09748175077592433\u001b[0m  \u001b[91m0.11789785722960258\u001b[0m  \u001b[91m0.9716037866066628\u001b[0m  \u001b[91m\u001b[91m0.9716037866066628\u001b[0m\u001b[0m     \u001b[91m\u001b[91m0.971604\u001b[0m\u001b[0m\n",
      "10                    \u001b[91m0.09903418491723476\u001b[0m  \u001b[91m0.13577903056505455\u001b[0m  \u001b[91m0.9663631834916945\u001b[0m  \u001b[91m\u001b[91m0.9663631834916945\u001b[0m\u001b[0m     \u001b[91m\u001b[91m0.966363\u001b[0m\u001b[0m\n",
      "11                    \u001b[92m0.09091443110074496\u001b[0m  \u001b[92m0.13247547787540487\u001b[0m  \u001b[92m0.969193038919218\u001b[0m   \u001b[92m\u001b[92m0.969193038919218\u001b[0m\u001b[0m      \u001b[92m\u001b[92m0.969193\u001b[0m\u001b[0m\n",
      "12                    \u001b[91m0.0945188007407606\u001b[0m   \u001b[91m0.13651029713366392\u001b[0m  \u001b[92m0.971198708747658\u001b[0m   \u001b[92m\u001b[92m0.971198708747658\u001b[0m\u001b[0m      \u001b[92m\u001b[92m0.971199\u001b[0m\u001b[0m\n",
      "13                    \u001b[92m0.09253963727232159\u001b[0m  \u001b[92m0.1364961981020361\u001b[0m   \u001b[91m0.9676021421851114\u001b[0m  \u001b[91m\u001b[91m0.9676021421851114\u001b[0m\u001b[0m     \u001b[91m\u001b[91m0.967602\u001b[0m\u001b[0m\n",
      "Total Training Time                                                                                     1576.44\n",
      "Final Precision                                                                                            0.967619\n",
      "Total Time (minutes)                                                                                      26.274\n",
      "\n",
      "Fold 3\n"
     ]
    },
    {
     "data": {
      "application/vnd.jupyter.widget-view+json": {
       "model_id": "4c083cd6740f4c528769e62d791fe923",
       "version_major": 2,
       "version_minor": 0
      },
      "text/plain": [
       "  0%|          | 0/50 [00:00<?, ?it/s]"
      ]
     },
     "metadata": {},
     "output_type": "display_data"
    },
    {
     "data": {
      "application/vnd.jupyter.widget-view+json": {
       "model_id": "5ff501b63da44f40a35b61c4ea76262c",
       "version_major": 2,
       "version_minor": 0
      },
      "text/plain": [
       "Epoch 1:   0%|          | 0/704 [00:00<?, ?it/s]"
      ]
     },
     "metadata": {},
     "output_type": "display_data"
    },
    {
     "name": "stdout",
     "output_type": "stream",
     "text": [
      "\n",
      "Epoch 1\n",
      "Training loss: 0.09725860639967075\n",
      "Validation loss: 0.046731972947563455\n",
      "F1 Score (weighted): 0.9892001192321717\n"
     ]
    },
    {
     "data": {
      "application/vnd.jupyter.widget-view+json": {
       "model_id": "d32a7793dec64223ac81685544975918",
       "version_major": 2,
       "version_minor": 0
      },
      "text/plain": [
       "Epoch 2:   0%|          | 0/704 [00:00<?, ?it/s]"
      ]
     },
     "metadata": {},
     "output_type": "display_data"
    },
    {
     "name": "stdout",
     "output_type": "stream",
     "text": [
      "\n",
      "Epoch 2\n",
      "Training loss: 0.09684439294729104\n",
      "Validation loss: 0.03170078046342853\n",
      "F1 Score (weighted): 0.9944000430119638\n",
      "\u001b[92m0.43% Training loss decreased compared to the previous epoch\u001b[0m\n",
      "\u001b[92m32.16% Validation loss decreased compared to the previous epoch\u001b[0m\n",
      "\u001b[92m0.53% F1 Score increased compared to the previous epoch\u001b[0m\n"
     ]
    },
    {
     "data": {
      "application/vnd.jupyter.widget-view+json": {
       "model_id": "6fa617e69f4f42e1a2dbe8b73892f8d2",
       "version_major": 2,
       "version_minor": 0
      },
      "text/plain": [
       "Epoch 3:   0%|          | 0/704 [00:00<?, ?it/s]"
      ]
     },
     "metadata": {},
     "output_type": "display_data"
    },
    {
     "name": "stdout",
     "output_type": "stream",
     "text": [
      "\n",
      "Epoch 3\n",
      "Training loss: 0.09255869915903697\n",
      "Validation loss: 0.033299801278051835\n",
      "F1 Score (weighted): 0.9940001008071129\n",
      "\u001b[92m4.43% Training loss decreased compared to the previous epoch\u001b[0m\n",
      "\u001b[91m5.04% Validation loss increased compared to the previous epoch\u001b[0m\n",
      "\u001b[91m0.04% F1 Score decreased compared to the previous epoch\u001b[0m\n"
     ]
    },
    {
     "data": {
      "application/vnd.jupyter.widget-view+json": {
       "model_id": "8891507037dd449b8a66d85764b1fd9d",
       "version_major": 2,
       "version_minor": 0
      },
      "text/plain": [
       "Epoch 4:   0%|          | 0/704 [00:00<?, ?it/s]"
      ]
     },
     "metadata": {},
     "output_type": "display_data"
    },
    {
     "name": "stdout",
     "output_type": "stream",
     "text": [
      "\n",
      "Epoch 4\n",
      "Training loss: 0.09012296062709621\n",
      "Validation loss: 0.03567701293217443\n",
      "F1 Score (weighted): 0.9924001617373418\n",
      "\u001b[92m2.63% Training loss decreased compared to the previous epoch\u001b[0m\n",
      "\u001b[91m7.14% Validation loss increased compared to the previous epoch\u001b[0m\n",
      "\u001b[91m0.16% F1 Score decreased compared to the previous epoch\u001b[0m\n"
     ]
    },
    {
     "data": {
      "application/vnd.jupyter.widget-view+json": {
       "model_id": "4280f80cf08e484285c30b7e8ed150f6",
       "version_major": 2,
       "version_minor": 0
      },
      "text/plain": [
       "Epoch 5:   0%|          | 0/704 [00:00<?, ?it/s]"
      ]
     },
     "metadata": {},
     "output_type": "display_data"
    },
    {
     "name": "stdout",
     "output_type": "stream",
     "text": [
      "\n",
      "Epoch 5\n",
      "Training loss: 0.08228746420685308\n",
      "Validation loss: 0.03763247691861153\n",
      "F1 Score (weighted): 0.9924000304030404\n",
      "\u001b[92m8.69% Training loss decreased compared to the previous epoch\u001b[0m\n",
      "\u001b[91m5.48% Validation loss increased compared to the previous epoch\u001b[0m\n",
      "\u001b[91m0.0% F1 Score decreased compared to the previous epoch\u001b[0m\n"
     ]
    },
    {
     "data": {
      "application/vnd.jupyter.widget-view+json": {
       "model_id": "8441aa65186147dba10075968f774d40",
       "version_major": 2,
       "version_minor": 0
      },
      "text/plain": [
       "Epoch 6:   0%|          | 0/704 [00:00<?, ?it/s]"
      ]
     },
     "metadata": {},
     "output_type": "display_data"
    },
    {
     "name": "stdout",
     "output_type": "stream",
     "text": [
      "\n",
      "Epoch 6\n",
      "Training loss: 0.08589504348715722\n",
      "Validation loss: 0.037749253378450115\n",
      "F1 Score (weighted): 0.9915999637077668\n",
      "\u001b[91m4.38% Training loss increased compared to the previous epoch\u001b[0m\n",
      "\u001b[91m0.31% Validation loss increased compared to the previous epoch\u001b[0m\n",
      "\u001b[91m0.08% F1 Score decreased compared to the previous epoch\u001b[0m\n"
     ]
    },
    {
     "data": {
      "application/vnd.jupyter.widget-view+json": {
       "model_id": "72a3fd211bc94e2c9201e068df1c8413",
       "version_major": 2,
       "version_minor": 0
      },
      "text/plain": [
       "Epoch 7:   0%|          | 0/704 [00:00<?, ?it/s]"
      ]
     },
     "metadata": {},
     "output_type": "display_data"
    },
    {
     "name": "stdout",
     "output_type": "stream",
     "text": [
      "\n",
      "Epoch 7\n",
      "Training loss: 0.0782206059708518\n",
      "Validation loss: 0.04058724494070357\n",
      "F1 Score (weighted): 0.9924001860566033\n",
      "\u001b[92m8.93% Training loss decreased compared to the previous epoch\u001b[0m\n",
      "\u001b[91m7.52% Validation loss increased compared to the previous epoch\u001b[0m\n",
      "\u001b[92m0.08% F1 Score increased compared to the previous epoch\u001b[0m\n"
     ]
    },
    {
     "data": {
      "application/vnd.jupyter.widget-view+json": {
       "model_id": "4419f248bcec4f7d95a8645f94ef64f2",
       "version_major": 2,
       "version_minor": 0
      },
      "text/plain": [
       "Epoch 8:   0%|          | 0/704 [00:00<?, ?it/s]"
      ]
     },
     "metadata": {},
     "output_type": "display_data"
    },
    {
     "name": "stdout",
     "output_type": "stream",
     "text": [
      "\n",
      "Epoch 8\n",
      "Training loss: 0.0769010629403717\n",
      "Validation loss: 0.06807181449044095\n",
      "F1 Score (weighted): 0.992000204808389\n",
      "\u001b[92m1.69% Training loss decreased compared to the previous epoch\u001b[0m\n",
      "\u001b[91m67.72% Validation loss increased compared to the previous epoch\u001b[0m\n",
      "\u001b[91m0.04% F1 Score decreased compared to the previous epoch\u001b[0m\n"
     ]
    },
    {
     "data": {
      "application/vnd.jupyter.widget-view+json": {
       "model_id": "8042955e5f744d30b4585c3677edcf6e",
       "version_major": 2,
       "version_minor": 0
      },
      "text/plain": [
       "Epoch 9:   0%|          | 0/704 [00:00<?, ?it/s]"
      ]
     },
     "metadata": {},
     "output_type": "display_data"
    },
    {
     "name": "stdout",
     "output_type": "stream",
     "text": [
      "\n",
      "Epoch 9\n",
      "Training loss: 0.07723776781180773\n",
      "Validation loss: 0.05375964469733188\n",
      "F1 Score (weighted): 0.9896001996811501\n",
      "\u001b[91m0.44% Training loss increased compared to the previous epoch\u001b[0m\n",
      "\u001b[92m21.03% Validation loss decreased compared to the previous epoch\u001b[0m\n",
      "\u001b[91m0.24% F1 Score decreased compared to the previous epoch\u001b[0m\n"
     ]
    },
    {
     "data": {
      "application/vnd.jupyter.widget-view+json": {
       "model_id": "1ef21c3b737d435598f33d6582c168f6",
       "version_major": 2,
       "version_minor": 0
      },
      "text/plain": [
       "Epoch 10:   0%|          | 0/704 [00:00<?, ?it/s]"
      ]
     },
     "metadata": {},
     "output_type": "display_data"
    },
    {
     "name": "stdout",
     "output_type": "stream",
     "text": [
      "\n",
      "Epoch 10\n",
      "Training loss: 0.07502465867649087\n",
      "Validation loss: 0.04480903695228427\n",
      "F1 Score (weighted): 0.9916001787623254\n",
      "\u001b[92m2.87% Training loss decreased compared to the previous epoch\u001b[0m\n",
      "\u001b[92m16.65% Validation loss decreased compared to the previous epoch\u001b[0m\n",
      "\u001b[92m0.2% F1 Score increased compared to the previous epoch\u001b[0m\n"
     ]
    },
    {
     "data": {
      "application/vnd.jupyter.widget-view+json": {
       "model_id": "76a465f2feef49deae0b3e4f37931693",
       "version_major": 2,
       "version_minor": 0
      },
      "text/plain": [
       "Epoch 11:   0%|          | 0/704 [00:00<?, ?it/s]"
      ]
     },
     "metadata": {},
     "output_type": "display_data"
    },
    {
     "name": "stdout",
     "output_type": "stream",
     "text": [
      "\n",
      "Epoch 11\n",
      "Training loss: 0.06852073746490946\n",
      "Validation loss: 0.0520125805312632\n",
      "F1 Score (weighted): 0.9900002704073119\n",
      "\u001b[92m8.67% Training loss decreased compared to the previous epoch\u001b[0m\n",
      "\u001b[91m16.08% Validation loss increased compared to the previous epoch\u001b[0m\n",
      "\u001b[91m0.16% F1 Score decreased compared to the previous epoch\u001b[0m\n"
     ]
    },
    {
     "data": {
      "application/vnd.jupyter.widget-view+json": {
       "model_id": "3b68c3c0671e471b93f50a073517fd50",
       "version_major": 2,
       "version_minor": 0
      },
      "text/plain": [
       "Epoch 12:   0%|          | 0/704 [00:00<?, ?it/s]"
      ]
     },
     "metadata": {},
     "output_type": "display_data"
    },
    {
     "name": "stdout",
     "output_type": "stream",
     "text": [
      "\n",
      "Epoch 12\n",
      "Training loss: 0.06631873707969631\n",
      "Validation loss: 0.06821595185806185\n",
      "F1 Score (weighted): 0.9867989289553507\n",
      "\u001b[92m3.21% Training loss decreased compared to the previous epoch\u001b[0m\n",
      "\u001b[91m31.15% Validation loss increased compared to the previous epoch\u001b[0m\n",
      "\u001b[91m0.32% F1 Score decreased compared to the previous epoch\u001b[0m\n",
      "\n",
      "Early stopping triggered. Training stopped.\n",
      "\n",
      "Total training time: 24.245863234996797 minutes\n",
      "Final Accuracy: 0.9868\n",
      "Final Precision: 0.9868512467473928\n"
     ]
    },
    {
     "data": {
      "image/png": "[encoded data removed]",
      "text/plain": [
       "<Figure size 800x600 with 1 Axes>"
      ]
     },
     "metadata": {},
     "output_type": "display_data"
    },
    {
     "name": "stdout",
     "output_type": "stream",
     "text": [
      "Epoch                 Training Loss        Validation Loss       F1 Score            Accuracy              Precision\n",
      "--------------------  -------------------  --------------------  ------------------  ------------------  -----------\n",
      "1                     0.09725860639967075  0.046731972947563455  0.9892001192321717  0.9892                 0.989368\n",
      "2                     \u001b[92m0.09684439294729104\u001b[0m  \u001b[92m0.03170078046342853\u001b[0m   \u001b[92m0.9944000430119638\u001b[0m  \u001b[92m\u001b[92m0.9944000430119638\u001b[0m\u001b[0m     \u001b[92m\u001b[92m0.9944\u001b[0m\u001b[0m\n",
      "3                     \u001b[92m0.09255869915903697\u001b[0m  \u001b[91m0.033299801278051835\u001b[0m  \u001b[91m0.9940001008071129\u001b[0m  \u001b[91m\u001b[91m0.9940001008071129\u001b[0m\u001b[0m     \u001b[91m\u001b[91m0.994\u001b[0m\u001b[0m\n",
      "4                     \u001b[92m0.09012296062709621\u001b[0m  \u001b[91m0.03567701293217443\u001b[0m   \u001b[91m0.9924001617373418\u001b[0m  \u001b[91m\u001b[91m0.9924001617373418\u001b[0m\u001b[0m     \u001b[91m\u001b[91m0.9924\u001b[0m\u001b[0m\n",
      "5                     \u001b[92m0.08228746420685308\u001b[0m  \u001b[91m0.03763247691861153\u001b[0m   \u001b[91m0.9924000304030404\u001b[0m  \u001b[91m\u001b[91m0.9924000304030404\u001b[0m\u001b[0m     \u001b[92m\u001b[91m0.9924\u001b[0m\u001b[0m\n",
      "6                     \u001b[91m0.08589504348715722\u001b[0m  \u001b[91m0.037749253378450115\u001b[0m  \u001b[91m0.9915999637077668\u001b[0m  \u001b[91m\u001b[91m0.9915999637077668\u001b[0m\u001b[0m     \u001b[91m\u001b[91m0.9916\u001b[0m\u001b[0m\n",
      "7                     \u001b[92m0.0782206059708518\u001b[0m   \u001b[91m0.04058724494070357\u001b[0m   \u001b[92m0.9924001860566033\u001b[0m  \u001b[92m\u001b[92m0.9924001860566033\u001b[0m\u001b[0m     \u001b[92m\u001b[92m0.9924\u001b[0m\u001b[0m\n",
      "8                     \u001b[92m0.0769010629403717\u001b[0m   \u001b[91m0.06807181449044095\u001b[0m   \u001b[91m0.992000204808389\u001b[0m   \u001b[91m\u001b[91m0.992000204808389\u001b[0m\u001b[0m      \u001b[91m\u001b[91m0.992\u001b[0m\u001b[0m\n",
      "9                     \u001b[91m0.07723776781180773\u001b[0m  \u001b[92m0.05375964469733188\u001b[0m   \u001b[91m0.9896001996811501\u001b[0m  \u001b[91m\u001b[91m0.9896001996811501\u001b[0m\u001b[0m     \u001b[91m\u001b[91m0.9896\u001b[0m\u001b[0m\n",
      "10                    \u001b[92m0.07502465867649087\u001b[0m  \u001b[92m0.04480903695228427\u001b[0m   \u001b[92m0.9916001787623254\u001b[0m  \u001b[92m\u001b[92m0.9916001787623254\u001b[0m\u001b[0m     \u001b[92m\u001b[92m0.9916\u001b[0m\u001b[0m\n",
      "11                    \u001b[92m0.06852073746490946\u001b[0m  \u001b[91m0.0520125805312632\u001b[0m    \u001b[91m0.9900002704073119\u001b[0m  \u001b[91m\u001b[91m0.9900002704073119\u001b[0m\u001b[0m     \u001b[91m\u001b[91m0.99\u001b[0m\u001b[0m\n",
      "12                    \u001b[92m0.06631873707969631\u001b[0m  \u001b[91m0.06821595185806185\u001b[0m   \u001b[91m0.9867989289553507\u001b[0m  \u001b[91m\u001b[91m0.9867989289553507\u001b[0m\u001b[0m     \u001b[91m\u001b[91m0.986799\u001b[0m\u001b[0m\n",
      "Total Training Time                                                                                      1454.75\n",
      "Final Precision                                                                                             0.986851\n",
      "Total Time (minutes)                                                                                       24.2459\n",
      "\n",
      "Fold 4\n"
     ]
    },
    {
     "data": {
      "application/vnd.jupyter.widget-view+json": {
       "model_id": "fabce1848c5c428da66e3a7bf15e4847",
       "version_major": 2,
       "version_minor": 0
      },
      "text/plain": [
       "  0%|          | 0/50 [00:00<?, ?it/s]"
      ]
     },
     "metadata": {},
     "output_type": "display_data"
    },
    {
     "data": {
      "application/vnd.jupyter.widget-view+json": {
       "model_id": "53bfafc66913462ab08af0d0ce4ed97f",
       "version_major": 2,
       "version_minor": 0
      },
      "text/plain": [
       "Epoch 1:   0%|          | 0/704 [00:00<?, ?it/s]"
      ]
     },
     "metadata": {},
     "output_type": "display_data"
    },
    {
     "name": "stdout",
     "output_type": "stream",
     "text": [
      "\n",
      "Epoch 1\n",
      "Training loss: 0.07556771998600777\n",
      "Validation loss: 0.016518287555184922\n",
      "F1 Score (weighted): 0.9975999431181625\n"
     ]
    },
    {
     "data": {
      "application/vnd.jupyter.widget-view+json": {
       "model_id": "ba416a4aba4e4630a2810d76ef1f3ebe",
       "version_major": 2,
       "version_minor": 0
      },
      "text/plain": [
       "Epoch 2:   0%|          | 0/704 [00:00<?, ?it/s]"
      ]
     },
     "metadata": {},
     "output_type": "display_data"
    },
    {
     "name": "stdout",
     "output_type": "stream",
     "text": [
      "\n",
      "Epoch 2\n",
      "Training loss: 0.07484109830478371\n",
      "Validation loss: 0.01613010273313539\n",
      "F1 Score (weighted): 0.9975999431181625\n",
      "\u001b[92m0.96% Training loss decreased compared to the previous epoch\u001b[0m\n",
      "\u001b[92m2.35% Validation loss decreased compared to the previous epoch\u001b[0m\n"
     ]
    },
    {
     "data": {
      "application/vnd.jupyter.widget-view+json": {
       "model_id": "f7224f4db51e4736b12aa0bf91b1dd6e",
       "version_major": 2,
       "version_minor": 0
      },
      "text/plain": [
       "Epoch 3:   0%|          | 0/704 [00:00<?, ?it/s]"
      ]
     },
     "metadata": {},
     "output_type": "display_data"
    },
    {
     "name": "stdout",
     "output_type": "stream",
     "text": [
      "\n",
      "Epoch 3\n",
      "Training loss: 0.07123768717238735\n",
      "Validation loss: 0.016125901591156528\n",
      "F1 Score (weighted): 0.9975999431181625\n",
      "\u001b[92m4.81% Training loss decreased compared to the previous epoch\u001b[0m\n",
      "\u001b[92m0.03% Validation loss decreased compared to the previous epoch\u001b[0m\n"
     ]
    },
    {
     "data": {
      "application/vnd.jupyter.widget-view+json": {
       "model_id": "a12f8c59739b4c9b9a2cfede52b3b6f4",
       "version_major": 2,
       "version_minor": 0
      },
      "text/plain": [
       "Epoch 4:   0%|          | 0/704 [00:00<?, ?it/s]"
      ]
     },
     "metadata": {},
     "output_type": "display_data"
    },
    {
     "name": "stdout",
     "output_type": "stream",
     "text": [
      "\n",
      "Epoch 4\n",
      "Training loss: 0.06976056005702379\n",
      "Validation loss: 0.016769893710203824\n",
      "F1 Score (weighted): 0.9975999431181625\n",
      "\u001b[92m2.07% Training loss decreased compared to the previous epoch\u001b[0m\n",
      "\u001b[91m3.99% Validation loss increased compared to the previous epoch\u001b[0m\n"
     ]
    },
    {
     "data": {
      "application/vnd.jupyter.widget-view+json": {
       "model_id": "9616e94d40ba46b7bde21d5e3d29f1a6",
       "version_major": 2,
       "version_minor": 0
      },
      "text/plain": [
       "Epoch 5:   0%|          | 0/704 [00:00<?, ?it/s]"
      ]
     },
     "metadata": {},
     "output_type": "display_data"
    },
    {
     "name": "stdout",
     "output_type": "stream",
     "text": [
      "\n",
      "Epoch 5\n",
      "Training loss: 0.06521456662630953\n",
      "Validation loss: 0.018676316495645863\n",
      "F1 Score (weighted): 0.9971999672680915\n",
      "\u001b[92m6.52% Training loss decreased compared to the previous epoch\u001b[0m\n",
      "\u001b[91m11.37% Validation loss increased compared to the previous epoch\u001b[0m\n",
      "\u001b[91m0.04% F1 Score decreased compared to the previous epoch\u001b[0m\n"
     ]
    },
    {
     "data": {
      "application/vnd.jupyter.widget-view+json": {
       "model_id": "0708210696cf45d3acc3afe8a6bd61ad",
       "version_major": 2,
       "version_minor": 0
      },
      "text/plain": [
       "Epoch 6:   0%|          | 0/704 [00:00<?, ?it/s]"
      ]
     },
     "metadata": {},
     "output_type": "display_data"
    },
    {
     "name": "stdout",
     "output_type": "stream",
     "text": [
      "\n",
      "Epoch 6\n",
      "Training loss: 0.06716245092738146\n",
      "Validation loss: 0.017624396660226645\n",
      "F1 Score (weighted): 0.9971998991091983\n",
      "\u001b[91m2.99% Training loss increased compared to the previous epoch\u001b[0m\n",
      "\u001b[92m5.63% Validation loss decreased compared to the previous epoch\u001b[0m\n",
      "\u001b[91m0.0% F1 Score decreased compared to the previous epoch\u001b[0m\n"
     ]
    },
    {
     "data": {
      "application/vnd.jupyter.widget-view+json": {
       "model_id": "f754f9910be948749c0e3928963d762a",
       "version_major": 2,
       "version_minor": 0
      },
      "text/plain": [
       "Epoch 7:   0%|          | 0/704 [00:00<?, ?it/s]"
      ]
     },
     "metadata": {},
     "output_type": "display_data"
    },
    {
     "name": "stdout",
     "output_type": "stream",
     "text": [
      "\n",
      "Epoch 7\n",
      "Training loss: 0.06456551129204771\n",
      "Validation loss: 0.01851588235158603\n",
      "F1 Score (weighted): 0.9971998991091983\n",
      "\u001b[92m3.87% Training loss decreased compared to the previous epoch\u001b[0m\n",
      "\u001b[91m5.06% Validation loss increased compared to the previous epoch\u001b[0m\n"
     ]
    },
    {
     "data": {
      "application/vnd.jupyter.widget-view+json": {
       "model_id": "b8f3dd3760fb425e87a62fe3efbd4117",
       "version_major": 2,
       "version_minor": 0
      },
      "text/plain": [
       "Epoch 8:   0%|          | 0/704 [00:00<?, ?it/s]"
      ]
     },
     "metadata": {},
     "output_type": "display_data"
    },
    {
     "name": "stdout",
     "output_type": "stream",
     "text": [
      "\n",
      "Epoch 8\n",
      "Training loss: 0.06932246530604144\n",
      "Validation loss: 0.01706572886279348\n",
      "F1 Score (weighted): 0.9971998991091983\n",
      "\u001b[91m7.37% Training loss increased compared to the previous epoch\u001b[0m\n",
      "\u001b[92m7.83% Validation loss decreased compared to the previous epoch\u001b[0m\n"
     ]
    },
    {
     "data": {
      "application/vnd.jupyter.widget-view+json": {
       "model_id": "1600cde5bb314a31a519173a8c021d23",
       "version_major": 2,
       "version_minor": 0
      },
      "text/plain": [
       "Epoch 9:   0%|          | 0/704 [00:00<?, ?it/s]"
      ]
     },
     "metadata": {},
     "output_type": "display_data"
    },
    {
     "name": "stdout",
     "output_type": "stream",
     "text": [
      "\n",
      "Epoch 9\n",
      "Training loss: 0.06861802060645707\n",
      "Validation loss: 0.017840883292293153\n",
      "F1 Score (weighted): 0.9971998991091983\n",
      "\u001b[92m1.02% Training loss decreased compared to the previous epoch\u001b[0m\n",
      "\u001b[91m4.54% Validation loss increased compared to the previous epoch\u001b[0m\n"
     ]
    },
    {
     "data": {
      "application/vnd.jupyter.widget-view+json": {
       "model_id": "9940cc4833b546739e170682da708286",
       "version_major": 2,
       "version_minor": 0
      },
      "text/plain": [
       "Epoch 10:   0%|          | 0/704 [00:00<?, ?it/s]"
      ]
     },
     "metadata": {},
     "output_type": "display_data"
    },
    {
     "name": "stdout",
     "output_type": "stream",
     "text": [
      "\n",
      "Epoch 10\n",
      "Training loss: 0.06123803880580619\n",
      "Validation loss: 0.020391698466183595\n",
      "F1 Score (weighted): 0.9968\n",
      "\u001b[92m10.76% Training loss decreased compared to the previous epoch\u001b[0m\n",
      "\u001b[91m14.3% Validation loss increased compared to the previous epoch\u001b[0m\n",
      "\u001b[91m0.04% F1 Score decreased compared to the previous epoch\u001b[0m\n"
     ]
    },
    {
     "data": {
      "application/vnd.jupyter.widget-view+json": {
       "model_id": "65f67366ef8048e9bb86fce91dca7653",
       "version_major": 2,
       "version_minor": 0
      },
      "text/plain": [
       "Epoch 11:   0%|          | 0/704 [00:00<?, ?it/s]"
      ]
     },
     "metadata": {},
     "output_type": "display_data"
    },
    {
     "name": "stdout",
     "output_type": "stream",
     "text": [
      "\n",
      "Epoch 11\n",
      "Training loss: 0.05848800054259713\n",
      "Validation loss: 0.01832616556110892\n",
      "F1 Score (weighted): 0.9971999672680915\n",
      "\u001b[92m4.49% Training loss decreased compared to the previous epoch\u001b[0m\n",
      "\u001b[92m10.13% Validation loss decreased compared to the previous epoch\u001b[0m\n",
      "\u001b[92m0.04% F1 Score increased compared to the previous epoch\u001b[0m\n"
     ]
    },
    {
     "data": {
      "application/vnd.jupyter.widget-view+json": {
       "model_id": "0834d8c0274340cfa57592c21822372c",
       "version_major": 2,
       "version_minor": 0
      },
      "text/plain": [
       "Epoch 12:   0%|          | 0/704 [00:00<?, ?it/s]"
      ]
     },
     "metadata": {},
     "output_type": "display_data"
    },
    {
     "name": "stdout",
     "output_type": "stream",
     "text": [
      "\n",
      "Epoch 12\n",
      "Training loss: 0.05788063703779368\n",
      "Validation loss: 0.018438297155154045\n",
      "F1 Score (weighted): 0.9971999672680915\n",
      "\u001b[92m1.04% Training loss decreased compared to the previous epoch\u001b[0m\n",
      "\u001b[91m0.61% Validation loss increased compared to the previous epoch\u001b[0m\n"
     ]
    },
    {
     "data": {
      "application/vnd.jupyter.widget-view+json": {
       "model_id": "048de9351e17410eb66e2fec7e216893",
       "version_major": 2,
       "version_minor": 0
      },
      "text/plain": [
       "Epoch 13:   0%|          | 0/704 [00:00<?, ?it/s]"
      ]
     },
     "metadata": {},
     "output_type": "display_data"
    },
    {
     "name": "stdout",
     "output_type": "stream",
     "text": [
      "\n",
      "Epoch 13\n",
      "Training loss: 0.05809741257665089\n",
      "Validation loss: 0.01850358999917826\n",
      "F1 Score (weighted): 0.9971999672680915\n",
      "\u001b[91m0.37% Training loss increased compared to the previous epoch\u001b[0m\n",
      "\u001b[91m0.35% Validation loss increased compared to the previous epoch\u001b[0m\n",
      "\n",
      "Early stopping triggered. Training stopped.\n",
      "\n",
      "Total training time: 26.26386103630066 minutes\n",
      "Final Accuracy: 0.9972\n",
      "Final Precision: 0.9972002539184732\n"
     ]
    },
    {
     "data": {
      "image/png": "[encoded data removed]",
      "text/plain": [
       "<Figure size 800x600 with 1 Axes>"
      ]
     },
     "metadata": {},
     "output_type": "display_data"
    },
    {
     "name": "stdout",
     "output_type": "stream",
     "text": [
      "Epoch                 Training Loss        Validation Loss       F1 Score            Accuracy              Precision\n",
      "--------------------  -------------------  --------------------  ------------------  ------------------  -----------\n",
      "1                     0.07556771998600777  0.016518287555184922  0.9975999431181625  0.9976                 0.997601\n",
      "2                     \u001b[92m0.07484109830478371\u001b[0m  \u001b[92m0.01613010273313539\u001b[0m   0.9975999431181625  \u001b[92m0.9975999431181625\u001b[0m     \u001b[92m0.9976\u001b[0m\n",
      "3                     \u001b[92m0.07123768717238735\u001b[0m  \u001b[92m0.016125901591156528\u001b[0m  0.9975999431181625  \u001b[92m0.9975999431181625\u001b[0m     \u001b[92m0.9976\u001b[0m\n",
      "4                     \u001b[92m0.06976056005702379\u001b[0m  \u001b[91m0.016769893710203824\u001b[0m  0.9975999431181625  \u001b[92m0.9975999431181625\u001b[0m     \u001b[92m0.9976\u001b[0m\n",
      "5                     \u001b[92m0.06521456662630953\u001b[0m  \u001b[91m0.018676316495645863\u001b[0m  \u001b[91m0.9971999672680915\u001b[0m  \u001b[91m\u001b[91m0.9971999672680915\u001b[0m\u001b[0m     \u001b[91m\u001b[91m0.9972\u001b[0m\u001b[0m\n",
      "6                     \u001b[91m0.06716245092738146\u001b[0m  \u001b[92m0.017624396660226645\u001b[0m  \u001b[91m0.9971998991091983\u001b[0m  \u001b[92m\u001b[91m0.9971998991091983\u001b[0m\u001b[0m     \u001b[92m\u001b[91m0.9972\u001b[0m\u001b[0m\n",
      "7                     \u001b[92m0.06456551129204771\u001b[0m  \u001b[91m0.01851588235158603\u001b[0m   0.9971998991091983  \u001b[92m0.9971998991091983\u001b[0m     \u001b[92m0.9972\u001b[0m\n",
      "8                     \u001b[91m0.06932246530604144\u001b[0m  \u001b[92m0.01706572886279348\u001b[0m   0.9971998991091983  \u001b[92m0.9971998991091983\u001b[0m     \u001b[92m0.9972\u001b[0m\n",
      "9                     \u001b[92m0.06861802060645707\u001b[0m  \u001b[91m0.017840883292293153\u001b[0m  0.9971998991091983  \u001b[92m0.9971998991091983\u001b[0m     \u001b[92m0.9972\u001b[0m\n",
      "10                    \u001b[92m0.06123803880580619\u001b[0m  \u001b[91m0.020391698466183595\u001b[0m  \u001b[91m0.9968\u001b[0m              \u001b[91m\u001b[91m0.9968\u001b[0m\u001b[0m                 \u001b[91m\u001b[91m0.9968\u001b[0m\u001b[0m\n",
      "11                    \u001b[92m0.05848800054259713\u001b[0m  \u001b[92m0.01832616556110892\u001b[0m   \u001b[92m0.9971999672680915\u001b[0m  \u001b[92m\u001b[92m0.9971999672680915\u001b[0m\u001b[0m     \u001b[92m\u001b[92m0.9972\u001b[0m\u001b[0m\n",
      "12                    \u001b[92m0.05788063703779368\u001b[0m  \u001b[91m0.018438297155154045\u001b[0m  0.9971999672680915  \u001b[92m0.9971999672680915\u001b[0m     \u001b[92m0.9972\u001b[0m\n",
      "13                    \u001b[91m0.05809741257665089\u001b[0m  \u001b[91m0.01850358999917826\u001b[0m   0.9971999672680915  \u001b[92m0.9971999672680915\u001b[0m     \u001b[92m0.9972\u001b[0m\n",
      "Total Training Time                                                                                      1575.83\n",
      "Final Precision                                                                                             0.9972\n",
      "Total Time (minutes)                                                                                       26.2639\n",
      "\n",
      "Fold 5\n"
     ]
    },
    {
     "data": {
      "application/vnd.jupyter.widget-view+json": {
       "model_id": "9991ce87480f49f8bfcb73abdf73d434",
       "version_major": 2,
       "version_minor": 0
      },
      "text/plain": [
       "  0%|          | 0/50 [00:00<?, ?it/s]"
      ]
     },
     "metadata": {},
     "output_type": "display_data"
    },
    {
     "data": {
      "application/vnd.jupyter.widget-view+json": {
       "model_id": "3ec559c4f89d4e3681819402e2f7b053",
       "version_major": 2,
       "version_minor": 0
      },
      "text/plain": [
       "Epoch 1:   0%|          | 0/704 [00:00<?, ?it/s]"
      ]
     },
     "metadata": {},
     "output_type": "display_data"
    },
    {
     "name": "stdout",
     "output_type": "stream",
     "text": [
      "\n",
      "Epoch 1\n",
      "Training loss: 0.06457825045436039\n",
      "Validation loss: 0.0014746374007803683\n",
      "F1 Score (weighted): 0.9996000024966075\n"
     ]
    },
    {
     "data": {
      "application/vnd.jupyter.widget-view+json": {
       "model_id": "de4a124da1db4eb4839a966cb1ef98e9",
       "version_major": 2,
       "version_minor": 0
      },
      "text/plain": [
       "Epoch 2:   0%|          | 0/704 [00:00<?, ?it/s]"
      ]
     },
     "metadata": {},
     "output_type": "display_data"
    },
    {
     "name": "stdout",
     "output_type": "stream",
     "text": [
      "\n",
      "Epoch 2\n",
      "Training loss: 0.05981750219627264\n",
      "Validation loss: 0.0014738990502325888\n",
      "F1 Score (weighted): 0.9996000024966075\n",
      "\u001b[92m7.37% Training loss decreased compared to the previous epoch\u001b[0m\n",
      "\u001b[92m0.05% Validation loss decreased compared to the previous epoch\u001b[0m\n"
     ]
    },
    {
     "data": {
      "application/vnd.jupyter.widget-view+json": {
       "model_id": "d1961d3c41be4a61a479311677aa78f9",
       "version_major": 2,
       "version_minor": 0
      },
      "text/plain": [
       "Epoch 3:   0%|          | 0/704 [00:00<?, ?it/s]"
      ]
     },
     "metadata": {},
     "output_type": "display_data"
    },
    {
     "name": "stdout",
     "output_type": "stream",
     "text": [
      "\n",
      "Epoch 3\n",
      "Training loss: 0.05336974342278402\n",
      "Validation loss: 0.00147389181664131\n",
      "F1 Score (weighted): 0.9996000024966075\n",
      "\u001b[92m10.78% Training loss decreased compared to the previous epoch\u001b[0m\n",
      "\u001b[92m0.0% Validation loss decreased compared to the previous epoch\u001b[0m\n"
     ]
    },
    {
     "data": {
      "application/vnd.jupyter.widget-view+json": {
       "model_id": "71227ec81e654ae7a51bc6b3b63e3509",
       "version_major": 2,
       "version_minor": 0
      },
      "text/plain": [
       "Epoch 4:   0%|          | 0/704 [00:00<?, ?it/s]"
      ]
     },
     "metadata": {},
     "output_type": "display_data"
    },
    {
     "name": "stdout",
     "output_type": "stream",
     "text": [
      "\n",
      "Epoch 4\n",
      "Training loss: 0.06564571612555235\n",
      "Validation loss: 0.0014738438008471003\n",
      "F1 Score (weighted): 0.9996000024966075\n",
      "\u001b[91m23.0% Training loss increased compared to the previous epoch\u001b[0m\n",
      "\u001b[92m0.0% Validation loss decreased compared to the previous epoch\u001b[0m\n"
     ]
    },
    {
     "data": {
      "application/vnd.jupyter.widget-view+json": {
       "model_id": "202cb8e4cfda4243af0dd221040f7003",
       "version_major": 2,
       "version_minor": 0
      },
      "text/plain": [
       "Epoch 5:   0%|          | 0/704 [00:00<?, ?it/s]"
      ]
     },
     "metadata": {},
     "output_type": "display_data"
    },
    {
     "name": "stdout",
     "output_type": "stream",
     "text": [
      "\n",
      "Epoch 5\n",
      "Training loss: 0.06033078543607024\n",
      "Validation loss: 0.001475394159685113\n",
      "F1 Score (weighted): 0.9996000024966075\n",
      "\u001b[92m8.1% Training loss decreased compared to the previous epoch\u001b[0m\n",
      "\u001b[91m0.11% Validation loss increased compared to the previous epoch\u001b[0m\n"
     ]
    },
    {
     "data": {
      "application/vnd.jupyter.widget-view+json": {
       "model_id": "db70ec28d523457988cfa4a8622c5952",
       "version_major": 2,
       "version_minor": 0
      },
      "text/plain": [
       "Epoch 6:   0%|          | 0/704 [00:00<?, ?it/s]"
      ]
     },
     "metadata": {},
     "output_type": "display_data"
    },
    {
     "name": "stdout",
     "output_type": "stream",
     "text": [
      "\n",
      "Epoch 6\n",
      "Training loss: 0.06161142508190923\n",
      "Validation loss: 0.0014740847591959128\n",
      "F1 Score (weighted): 0.9996000024966075\n",
      "\u001b[91m2.12% Training loss increased compared to the previous epoch\u001b[0m\n",
      "\u001b[92m0.09% Validation loss decreased compared to the previous epoch\u001b[0m\n"
     ]
    },
    {
     "data": {
      "application/vnd.jupyter.widget-view+json": {
       "model_id": "c609c58c2d694d2ba737343f4b607649",
       "version_major": 2,
       "version_minor": 0
      },
      "text/plain": [
       "Epoch 7:   0%|          | 0/704 [00:00<?, ?it/s]"
      ]
     },
     "metadata": {},
     "output_type": "display_data"
    },
    {
     "name": "stdout",
     "output_type": "stream",
     "text": [
      "\n",
      "Epoch 7\n",
      "Training loss: 0.060258688554768014\n",
      "Validation loss: 0.0014748429589244666\n",
      "F1 Score (weighted): 0.9996000024966075\n",
      "\u001b[92m2.2% Training loss decreased compared to the previous epoch\u001b[0m\n",
      "\u001b[91m0.05% Validation loss increased compared to the previous epoch\u001b[0m\n"
     ]
    },
    {
     "data": {
      "application/vnd.jupyter.widget-view+json": {
       "model_id": "5895398de6964d5d9ec844e4a460b90c",
       "version_major": 2,
       "version_minor": 0
      },
      "text/plain": [
       "Epoch 8:   0%|          | 0/704 [00:00<?, ?it/s]"
      ]
     },
     "metadata": {},
     "output_type": "display_data"
    },
    {
     "name": "stdout",
     "output_type": "stream",
     "text": [
      "\n",
      "Epoch 8\n",
      "Training loss: 0.06160129953253669\n",
      "Validation loss: 0.0014731891437056415\n",
      "F1 Score (weighted): 0.9996000024966075\n",
      "\u001b[91m2.23% Training loss increased compared to the previous epoch\u001b[0m\n",
      "\u001b[92m0.11% Validation loss decreased compared to the previous epoch\u001b[0m\n"
     ]
    },
    {
     "data": {
      "application/vnd.jupyter.widget-view+json": {
       "model_id": "3db990d8000b4aaa9cd208a244d2ccfa",
       "version_major": 2,
       "version_minor": 0
      },
      "text/plain": [
       "Epoch 9:   0%|          | 0/704 [00:00<?, ?it/s]"
      ]
     },
     "metadata": {},
     "output_type": "display_data"
    },
    {
     "name": "stdout",
     "output_type": "stream",
     "text": [
      "\n",
      "Epoch 9\n",
      "Training loss: 0.06272998121291741\n",
      "Validation loss: 0.001473073087208256\n",
      "F1 Score (weighted): 0.9996000024966075\n",
      "\u001b[91m1.83% Training loss increased compared to the previous epoch\u001b[0m\n",
      "\u001b[92m0.01% Validation loss decreased compared to the previous epoch\u001b[0m\n"
     ]
    },
    {
     "data": {
      "application/vnd.jupyter.widget-view+json": {
       "model_id": "1983909d8bc04962891fb96c863f4ce9",
       "version_major": 2,
       "version_minor": 0
      },
      "text/plain": [
       "Epoch 10:   0%|          | 0/704 [00:00<?, ?it/s]"
      ]
     },
     "metadata": {},
     "output_type": "display_data"
    },
    {
     "name": "stdout",
     "output_type": "stream",
     "text": [
      "\n",
      "Epoch 10\n",
      "Training loss: 0.059443928749301864\n",
      "Validation loss: 0.0014731902960699664\n",
      "F1 Score (weighted): 0.9996000024966075\n",
      "\u001b[92m5.24% Training loss decreased compared to the previous epoch\u001b[0m\n",
      "\u001b[91m0.01% Validation loss increased compared to the previous epoch\u001b[0m\n"
     ]
    },
    {
     "data": {
      "application/vnd.jupyter.widget-view+json": {
       "model_id": "2be2836969ac41499f51d6fe56f49b7c",
       "version_major": 2,
       "version_minor": 0
      },
      "text/plain": [
       "Epoch 11:   0%|          | 0/704 [00:00<?, ?it/s]"
      ]
     },
     "metadata": {},
     "output_type": "display_data"
    },
    {
     "name": "stdout",
     "output_type": "stream",
     "text": [
      "\n",
      "Epoch 11\n",
      "Training loss: 0.06121048712553933\n",
      "Validation loss: 0.0014738402490745758\n",
      "F1 Score (weighted): 0.9996000024966075\n",
      "\u001b[91m2.97% Training loss increased compared to the previous epoch\u001b[0m\n",
      "\u001b[91m0.04% Validation loss increased compared to the previous epoch\u001b[0m\n"
     ]
    },
    {
     "data": {
      "application/vnd.jupyter.widget-view+json": {
       "model_id": "b346b860256144cab616d71bccf71fc2",
       "version_major": 2,
       "version_minor": 0
      },
      "text/plain": [
       "Epoch 12:   0%|          | 0/704 [00:00<?, ?it/s]"
      ]
     },
     "metadata": {},
     "output_type": "display_data"
    },
    {
     "name": "stdout",
     "output_type": "stream",
     "text": [
      "\n",
      "Epoch 12\n",
      "Training loss: 0.06429424874485531\n",
      "Validation loss: 0.0014779976406282026\n",
      "F1 Score (weighted): 0.9996000024966075\n",
      "\u001b[91m5.04% Training loss increased compared to the previous epoch\u001b[0m\n",
      "\u001b[91m0.28% Validation loss increased compared to the previous epoch\u001b[0m\n"
     ]
    },
    {
     "data": {
      "application/vnd.jupyter.widget-view+json": {
       "model_id": "4b8f347a1f4549739655df7d8cfa91e7",
       "version_major": 2,
       "version_minor": 0
      },
      "text/plain": [
       "Epoch 13:   0%|          | 0/704 [00:00<?, ?it/s]"
      ]
     },
     "metadata": {},
     "output_type": "display_data"
    },
    {
     "name": "stdout",
     "output_type": "stream",
     "text": [
      "\n",
      "Epoch 13\n",
      "Training loss: 0.061104351938741856\n",
      "Validation loss: 0.0014736970578603258\n",
      "F1 Score (weighted): 0.9996000024966075\n",
      "\u001b[92m4.96% Training loss decreased compared to the previous epoch\u001b[0m\n",
      "\u001b[92m0.29% Validation loss decreased compared to the previous epoch\u001b[0m\n"
     ]
    },
    {
     "data": {
      "application/vnd.jupyter.widget-view+json": {
       "model_id": "68dc3b361cab49928d7d513b6ce7b6d4",
       "version_major": 2,
       "version_minor": 0
      },
      "text/plain": [
       "Epoch 14:   0%|          | 0/704 [00:00<?, ?it/s]"
      ]
     },
     "metadata": {},
     "output_type": "display_data"
    },
    {
     "name": "stdout",
     "output_type": "stream",
     "text": [
      "\n",
      "Epoch 14\n",
      "Training loss: 0.057634952474018064\n",
      "Validation loss: 0.0014736310599513258\n",
      "F1 Score (weighted): 0.9996000024966075\n",
      "\u001b[92m5.68% Training loss decreased compared to the previous epoch\u001b[0m\n",
      "\u001b[92m0.0% Validation loss decreased compared to the previous epoch\u001b[0m\n"
     ]
    },
    {
     "data": {
      "application/vnd.jupyter.widget-view+json": {
       "model_id": "0a460da794e545c99fdfa5298234f6f0",
       "version_major": 2,
       "version_minor": 0
      },
      "text/plain": [
       "Epoch 15:   0%|          | 0/704 [00:00<?, ?it/s]"
      ]
     },
     "metadata": {},
     "output_type": "display_data"
    },
    {
     "name": "stdout",
     "output_type": "stream",
     "text": [
      "\n",
      "Epoch 15\n",
      "Training loss: 0.06467714300304744\n",
      "Validation loss: 0.0014740101973927003\n",
      "F1 Score (weighted): 0.9996000024966075\n",
      "\u001b[91m12.22% Training loss increased compared to the previous epoch\u001b[0m\n",
      "\u001b[91m0.03% Validation loss increased compared to the previous epoch\u001b[0m\n"
     ]
    },
    {
     "data": {
      "application/vnd.jupyter.widget-view+json": {
       "model_id": "a775b27dad094215939bafa0db3b0ea7",
       "version_major": 2,
       "version_minor": 0
      },
      "text/plain": [
       "Epoch 16:   0%|          | 0/704 [00:00<?, ?it/s]"
      ]
     },
     "metadata": {},
     "output_type": "display_data"
    },
    {
     "name": "stdout",
     "output_type": "stream",
     "text": [
      "\n",
      "Epoch 16\n",
      "Training loss: 0.059258345988258625\n",
      "Validation loss: 0.001474207240271771\n",
      "F1 Score (weighted): 0.9996000024966075\n",
      "\u001b[92m8.38% Training loss decreased compared to the previous epoch\u001b[0m\n",
      "\u001b[91m0.01% Validation loss increased compared to the previous epoch\u001b[0m\n"
     ]
    },
    {
     "data": {
      "application/vnd.jupyter.widget-view+json": {
       "model_id": "3210578b7de34b9b92e6bb02411b899e",
       "version_major": 2,
       "version_minor": 0
      },
      "text/plain": [
       "Epoch 17:   0%|          | 0/704 [00:00<?, ?it/s]"
      ]
     },
     "metadata": {},
     "output_type": "display_data"
    },
    {
     "name": "stdout",
     "output_type": "stream",
     "text": [
      "\n",
      "Epoch 17\n",
      "Training loss: 0.06664661059945005\n",
      "Validation loss: 0.001473257479131151\n",
      "F1 Score (weighted): 0.9996000024966075\n",
      "\u001b[91m12.47% Training loss increased compared to the previous epoch\u001b[0m\n",
      "\u001b[92m0.06% Validation loss decreased compared to the previous epoch\u001b[0m\n"
     ]
    },
    {
     "data": {
      "application/vnd.jupyter.widget-view+json": {
       "model_id": "c811ec7d31be4a65911d804ba57fbb36",
       "version_major": 2,
       "version_minor": 0
      },
      "text/plain": [
       "Epoch 18:   0%|          | 0/704 [00:00<?, ?it/s]"
      ]
     },
     "metadata": {},
     "output_type": "display_data"
    },
    {
     "name": "stdout",
     "output_type": "stream",
     "text": [
      "\n",
      "Epoch 18\n",
      "Training loss: 0.06186041687322524\n",
      "Validation loss: 0.0014741874842969347\n",
      "F1 Score (weighted): 0.9996000024966075\n",
      "\u001b[92m7.18% Training loss decreased compared to the previous epoch\u001b[0m\n",
      "\u001b[91m0.06% Validation loss increased compared to the previous epoch\u001b[0m\n"
     ]
    },
    {
     "data": {
      "application/vnd.jupyter.widget-view+json": {
       "model_id": "e28d1165ae554a09b026b3d08aef7da5",
       "version_major": 2,
       "version_minor": 0
      },
      "text/plain": [
       "Epoch 19:   0%|          | 0/704 [00:00<?, ?it/s]"
      ]
     },
     "metadata": {},
     "output_type": "display_data"
    },
    {
     "name": "stdout",
     "output_type": "stream",
     "text": [
      "\n",
      "Epoch 19\n",
      "Training loss: 0.06075816186731489\n",
      "Validation loss: 0.00147468857526119\n",
      "F1 Score (weighted): 0.9996000024966075\n",
      "\u001b[92m1.78% Training loss decreased compared to the previous epoch\u001b[0m\n",
      "\u001b[91m0.03% Validation loss increased compared to the previous epoch\u001b[0m\n",
      "\n",
      "Early stopping triggered. Training stopped.\n",
      "\n",
      "Total training time: 38.384408338864645 minutes\n",
      "Final Accuracy: 0.9996\n",
      "Final Precision: 0.9996003249390738\n"
     ]
    },
    {
     "data": {
      "image/png": "[encoded data removed]",
      "text/plain": [
       "<Figure size 800x600 with 1 Axes>"
      ]
     },
     "metadata": {},
     "output_type": "display_data"
    },
    {
     "name": "stdout",
     "output_type": "stream",
     "text": [
      "Epoch                 Training Loss         Validation Loss        F1 Score            Accuracy              Precision\n",
      "--------------------  --------------------  ---------------------  ------------------  ------------------  -----------\n",
      "1                     0.06457825045436039   0.0014746374007803683  0.9996000024966075  0.9996                   0.9996\n",
      "2                     \u001b[92m0.05981750219627264\u001b[0m   \u001b[92m0.0014738990502325888\u001b[0m  0.9996000024966075  \u001b[91m0.9996000024966075\u001b[0m       \u001b[92m0.9996\u001b[0m\n",
      "3                     \u001b[92m0.05336974342278402\u001b[0m   \u001b[92m0.00147389181664131\u001b[0m    0.9996000024966075  \u001b[91m0.9996000024966075\u001b[0m       \u001b[92m0.9996\u001b[0m\n",
      "4                     \u001b[91m0.06564571612555235\u001b[0m   \u001b[92m0.0014738438008471003\u001b[0m  0.9996000024966075  \u001b[91m0.9996000024966075\u001b[0m       \u001b[92m0.9996\u001b[0m\n",
      "5                     \u001b[92m0.06033078543607024\u001b[0m   \u001b[91m0.001475394159685113\u001b[0m   0.9996000024966075  \u001b[91m0.9996000024966075\u001b[0m       \u001b[92m0.9996\u001b[0m\n",
      "6                     \u001b[91m0.06161142508190923\u001b[0m   \u001b[92m0.0014740847591959128\u001b[0m  0.9996000024966075  \u001b[91m0.9996000024966075\u001b[0m       \u001b[92m0.9996\u001b[0m\n",
      "7                     \u001b[92m0.060258688554768014\u001b[0m  \u001b[91m0.0014748429589244666\u001b[0m  0.9996000024966075  \u001b[91m0.9996000024966075\u001b[0m       \u001b[92m0.9996\u001b[0m\n",
      "8                     \u001b[91m0.06160129953253669\u001b[0m   \u001b[92m0.0014731891437056415\u001b[0m  0.9996000024966075  \u001b[91m0.9996000024966075\u001b[0m       \u001b[92m0.9996\u001b[0m\n",
      "9                     \u001b[91m0.06272998121291741\u001b[0m   \u001b[92m0.001473073087208256\u001b[0m   0.9996000024966075  \u001b[91m0.9996000024966075\u001b[0m       \u001b[92m0.9996\u001b[0m\n",
      "10                    \u001b[92m0.059443928749301864\u001b[0m  \u001b[91m0.0014731902960699664\u001b[0m  0.9996000024966075  \u001b[91m0.9996000024966075\u001b[0m       \u001b[92m0.9996\u001b[0m\n",
      "11                    \u001b[91m0.06121048712553933\u001b[0m   \u001b[91m0.0014738402490745758\u001b[0m  0.9996000024966075  \u001b[91m0.9996000024966075\u001b[0m       \u001b[92m0.9996\u001b[0m\n",
      "12                    \u001b[91m0.06429424874485531\u001b[0m   \u001b[91m0.0014779976406282026\u001b[0m  0.9996000024966075  \u001b[91m0.9996000024966075\u001b[0m       \u001b[92m0.9996\u001b[0m\n",
      "13                    \u001b[92m0.061104351938741856\u001b[0m  \u001b[92m0.0014736970578603258\u001b[0m  0.9996000024966075  \u001b[91m0.9996000024966075\u001b[0m       \u001b[92m0.9996\u001b[0m\n",
      "14                    \u001b[92m0.057634952474018064\u001b[0m  \u001b[92m0.0014736310599513258\u001b[0m  0.9996000024966075  \u001b[91m0.9996000024966075\u001b[0m       \u001b[92m0.9996\u001b[0m\n",
      "15                    \u001b[91m0.06467714300304744\u001b[0m   \u001b[91m0.0014740101973927003\u001b[0m  0.9996000024966075  \u001b[91m0.9996000024966075\u001b[0m       \u001b[92m0.9996\u001b[0m\n",
      "16                    \u001b[92m0.059258345988258625\u001b[0m  \u001b[91m0.001474207240271771\u001b[0m   0.9996000024966075  \u001b[91m0.9996000024966075\u001b[0m       \u001b[92m0.9996\u001b[0m\n",
      "17                    \u001b[91m0.06664661059945005\u001b[0m   \u001b[92m0.001473257479131151\u001b[0m   0.9996000024966075  \u001b[91m0.9996000024966075\u001b[0m       \u001b[92m0.9996\u001b[0m\n",
      "18                    \u001b[92m0.06186041687322524\u001b[0m   \u001b[91m0.0014741874842969347\u001b[0m  0.9996000024966075  \u001b[91m0.9996000024966075\u001b[0m       \u001b[92m0.9996\u001b[0m\n",
      "19                    \u001b[92m0.06075816186731489\u001b[0m   \u001b[91m0.00147468857526119\u001b[0m    0.9996000024966075  \u001b[91m0.9996000024966075\u001b[0m       \u001b[92m0.9996\u001b[0m\n",
      "Total Training Time                                                                                          2303.06\n",
      "Final Precision                                                                                                 0.9996\n",
      "Total Time (minutes)                                                                                           38.3844\n",
      "\n",
      "Fold 6\n"
     ]
    },
    {
     "data": {
      "application/vnd.jupyter.widget-view+json": {
       "model_id": "9e28ff19187c4af694d1babdd65d144f",
       "version_major": 2,
       "version_minor": 0
      },
      "text/plain": [
       "  0%|          | 0/50 [00:00<?, ?it/s]"
      ]
     },
     "metadata": {},
     "output_type": "display_data"
    },
    {
     "data": {
      "application/vnd.jupyter.widget-view+json": {
       "model_id": "ca5c862fdeac46fa8a3b67db4b95471b",
       "version_major": 2,
       "version_minor": 0
      },
      "text/plain": [
       "Epoch 1:   0%|          | 0/704 [00:00<?, ?it/s]"
      ]
     },
     "metadata": {},
     "output_type": "display_data"
    },
    {
     "name": "stdout",
     "output_type": "stream",
     "text": [
      "\n",
      "Epoch 1\n",
      "Training loss: 0.05638613667701975\n",
      "Validation loss: 0.023343104437359055\n",
      "F1 Score (weighted): 0.9964000316953405\n"
     ]
    },
    {
     "data": {
      "application/vnd.jupyter.widget-view+json": {
       "model_id": "2c9827e898b947ccad016d48af5a2e57",
       "version_major": 2,
       "version_minor": 0
      },
      "text/plain": [
       "Epoch 2:   0%|          | 0/704 [00:00<?, ?it/s]"
      ]
     },
     "metadata": {},
     "output_type": "display_data"
    },
    {
     "name": "stdout",
     "output_type": "stream",
     "text": [
      "\n",
      "Epoch 2\n",
      "Training loss: 0.05769872119336386\n",
      "Validation loss: 0.02334493886689726\n",
      "F1 Score (weighted): 0.9964000316953405\n",
      "\u001b[91m2.33% Training loss increased compared to the previous epoch\u001b[0m\n",
      "\u001b[91m0.01% Validation loss increased compared to the previous epoch\u001b[0m\n"
     ]
    },
    {
     "data": {
      "application/vnd.jupyter.widget-view+json": {
       "model_id": "41598ea8892341a0908f634cdaeb3831",
       "version_major": 2,
       "version_minor": 0
      },
      "text/plain": [
       "Epoch 3:   0%|          | 0/704 [00:00<?, ?it/s]"
      ]
     },
     "metadata": {},
     "output_type": "display_data"
    },
    {
     "name": "stdout",
     "output_type": "stream",
     "text": [
      "\n",
      "Epoch 3\n",
      "Training loss: 0.053994050521892364\n",
      "Validation loss: 0.02334302842773238\n",
      "F1 Score (weighted): 0.9964000316953405\n",
      "\u001b[92m6.42% Training loss decreased compared to the previous epoch\u001b[0m\n",
      "\u001b[92m0.01% Validation loss decreased compared to the previous epoch\u001b[0m\n"
     ]
    },
    {
     "data": {
      "application/vnd.jupyter.widget-view+json": {
       "model_id": "6c7b90476e8f4c21811196afe49189f3",
       "version_major": 2,
       "version_minor": 0
      },
      "text/plain": [
       "Epoch 4:   0%|          | 0/704 [00:00<?, ?it/s]"
      ]
     },
     "metadata": {},
     "output_type": "display_data"
    },
    {
     "name": "stdout",
     "output_type": "stream",
     "text": [
      "\n",
      "Epoch 4\n",
      "Training loss: 0.05648446117079815\n",
      "Validation loss: 0.02334258775742536\n",
      "F1 Score (weighted): 0.9964000316953405\n",
      "\u001b[91m4.61% Training loss increased compared to the previous epoch\u001b[0m\n",
      "\u001b[92m0.0% Validation loss decreased compared to the previous epoch\u001b[0m\n"
     ]
    },
    {
     "data": {
      "application/vnd.jupyter.widget-view+json": {
       "model_id": "",
       "version_major": 2,
       "version_minor": 0
      },
      "text/plain": [
       "Epoch 5:   0%|          | 0/704 [00:00<?, ?it/s]"
      ]
     },
     "metadata": {},
     "output_type": "display_data"
    },
    {
     "name": "stdout",
     "output_type": "stream",
     "text": [
      "\n",
      "Epoch 5\n",
      "Training loss: 0.05233218111201991\n",
      "Validation loss: 0.02334375973810041\n",
      "F1 Score (weighted): 0.9964000316953405\n",
      "\u001b[92m7.35% Training loss decreased compared to the previous epoch\u001b[0m\n",
      "\u001b[91m0.01% Validation loss increased compared to the previous epoch\u001b[0m\n"
     ]
    },
    {
     "data": {
      "application/vnd.jupyter.widget-view+json": {
       "model_id": "",
       "version_major": 2,
       "version_minor": 0
      },
      "text/plain": [
       "Epoch 6:   0%|          | 0/704 [00:00<?, ?it/s]"
      ]
     },
     "metadata": {},
     "output_type": "display_data"
    },
    {
     "name": "stdout",
     "output_type": "stream",
     "text": [
      "\n",
      "Epoch 6\n",
      "Training loss: 0.060480898568130215\n",
      "Validation loss: 0.023342129503615507\n",
      "F1 Score (weighted): 0.9964000316953405\n",
      "\u001b[91m15.57% Training loss increased compared to the previous epoch\u001b[0m\n",
      "\u001b[92m0.01% Validation loss decreased compared to the previous epoch\u001b[0m\n"
     ]
    },
    {
     "data": {
      "application/vnd.jupyter.widget-view+json": {
       "model_id": "",
       "version_major": 2,
       "version_minor": 0
      },
      "text/plain": [
       "Epoch 7:   0%|          | 0/704 [00:00<?, ?it/s]"
      ]
     },
     "metadata": {},
     "output_type": "display_data"
    },
    {
     "name": "stdout",
     "output_type": "stream",
     "text": [
      "\n",
      "Epoch 7\n",
      "Training loss: 0.0596711820954955\n",
      "Validation loss: 0.023343619157020826\n",
      "F1 Score (weighted): 0.9964000316953405\n",
      "\u001b[92m1.34% Training loss decreased compared to the previous epoch\u001b[0m\n",
      "\u001b[91m0.01% Validation loss increased compared to the previous epoch\u001b[0m\n"
     ]
    },
    {
     "data": {
      "application/vnd.jupyter.widget-view+json": {
       "model_id": "",
       "version_major": 2,
       "version_minor": 0
      },
      "text/plain": [
       "Epoch 8:   0%|          | 0/704 [00:00<?, ?it/s]"
      ]
     },
     "metadata": {},
     "output_type": "display_data"
    },
    {
     "name": "stdout",
     "output_type": "stream",
     "text": [
      "\n",
      "Epoch 8\n",
      "Training loss: 0.06097719140449375\n",
      "Validation loss: 0.023342849880890165\n",
      "F1 Score (weighted): 0.9964000316953405\n",
      "\u001b[91m2.19% Training loss increased compared to the previous epoch\u001b[0m\n",
      "\u001b[92m0.0% Validation loss decreased compared to the previous epoch\u001b[0m\n"
     ]
    },
    {
     "data": {
      "application/vnd.jupyter.widget-view+json": {
       "model_id": "",
       "version_major": 2,
       "version_minor": 0
      },
      "text/plain": [
       "Epoch 9:   0%|          | 0/704 [00:00<?, ?it/s]"
      ]
     },
     "metadata": {},
     "output_type": "display_data"
    },
    {
     "name": "stdout",
     "output_type": "stream",
     "text": [
      "\n",
      "Epoch 9\n",
      "Training loss: 0.059258068248544245\n",
      "Validation loss: 0.023342000583961867\n",
      "F1 Score (weighted): 0.9964000316953405\n",
      "\u001b[92m2.82% Training loss decreased compared to the previous epoch\u001b[0m\n",
      "\u001b[92m0.0% Validation loss decreased compared to the previous epoch\u001b[0m\n"
     ]
    },
    {
     "data": {
      "application/vnd.jupyter.widget-view+json": {
       "model_id": "",
       "version_major": 2,
       "version_minor": 0
      },
      "text/plain": [
       "Epoch 10:   0%|          | 0/704 [00:00<?, ?it/s]"
      ]
     },
     "metadata": {},
     "output_type": "display_data"
    },
    {
     "name": "stdout",
     "output_type": "stream",
     "text": [
      "\n",
      "Epoch 10\n",
      "Training loss: 0.05888835689450967\n",
      "Validation loss: 0.023346148562820957\n",
      "F1 Score (weighted): 0.9964000316953405\n",
      "\u001b[92m0.62% Training loss decreased compared to the previous epoch\u001b[0m\n",
      "\u001b[91m0.02% Validation loss increased compared to the previous epoch\u001b[0m\n"
     ]
    },
    {
     "data": {
      "application/vnd.jupyter.widget-view+json": {
       "model_id": "",
       "version_major": 2,
       "version_minor": 0
      },
      "text/plain": [
       "Epoch 11:   0%|          | 0/704 [00:00<?, ?it/s]"
      ]
     },
     "metadata": {},
     "output_type": "display_data"
    },
    {
     "name": "stdout",
     "output_type": "stream",
     "text": [
      "\n",
      "Epoch 11\n",
      "Training loss: 0.06270696466154649\n",
      "Validation loss: 0.023341763407268998\n",
      "F1 Score (weighted): 0.9964000316953405\n",
      "\u001b[91m6.48% Training loss increased compared to the previous epoch\u001b[0m\n",
      "\u001b[92m0.02% Validation loss decreased compared to the previous epoch\u001b[0m\n"
     ]
    },
    {
     "data": {
      "application/vnd.jupyter.widget-view+json": {
       "model_id": "",
       "version_major": 2,
       "version_minor": 0
      },
      "text/plain": [
       "Epoch 12:   0%|          | 0/704 [00:00<?, ?it/s]"
      ]
     },
     "metadata": {},
     "output_type": "display_data"
    },
    {
     "name": "stdout",
     "output_type": "stream",
     "text": [
      "\n",
      "Epoch 12\n",
      "Training loss: 0.05792902532836954\n",
      "Validation loss: 0.023343389913884783\n",
      "F1 Score (weighted): 0.9964000316953405\n",
      "\u001b[92m7.62% Training loss decreased compared to the previous epoch\u001b[0m\n",
      "\u001b[91m0.01% Validation loss increased compared to the previous epoch\u001b[0m\n"
     ]
    },
    {
     "data": {
      "application/vnd.jupyter.widget-view+json": {
       "model_id": "",
       "version_major": 2,
       "version_minor": 0
      },
      "text/plain": [
       "Epoch 13:   0%|          | 0/704 [00:00<?, ?it/s]"
      ]
     },
     "metadata": {},
     "output_type": "display_data"
    },
    {
     "name": "stdout",
     "output_type": "stream",
     "text": [
      "\n",
      "Epoch 13\n",
      "Training loss: 0.06334623166081986\n",
      "Validation loss: 0.023343043907654553\n",
      "F1 Score (weighted): 0.9964000316953405\n",
      "\u001b[91m9.35% Training loss increased compared to the previous epoch\u001b[0m\n",
      "\u001b[92m0.0% Validation loss decreased compared to the previous epoch\u001b[0m\n"
     ]
    },
    {
     "data": {
      "application/vnd.jupyter.widget-view+json": {
       "model_id": "",
       "version_major": 2,
       "version_minor": 0
      },
      "text/plain": [
       "Epoch 14:   0%|          | 0/704 [00:00<?, ?it/s]"
      ]
     },
     "metadata": {},
     "output_type": "display_data"
    },
    {
     "name": "stdout",
     "output_type": "stream",
     "text": [
      "\n",
      "Epoch 14\n",
      "Training loss: 0.059947251213006064\n",
      "Validation loss: 0.023341793194855267\n",
      "F1 Score (weighted): 0.9964000316953405\n",
      "\u001b[92m5.37% Training loss decreased compared to the previous epoch\u001b[0m\n",
      "\u001b[92m0.01% Validation loss decreased compared to the previous epoch\u001b[0m\n"
     ]
    },
    {
     "data": {
      "application/vnd.jupyter.widget-view+json": {
       "model_id": "",
       "version_major": 2,
       "version_minor": 0
      },
      "text/plain": [
       "Epoch 15:   0%|          | 0/704 [00:00<?, ?it/s]"
      ]
     },
     "metadata": {},
     "output_type": "display_data"
    },
    {
     "name": "stdout",
     "output_type": "stream",
     "text": [
      "\n",
      "Epoch 15\n",
      "Training loss: 0.059737566126800215\n",
      "Validation loss: 0.023340746495855054\n",
      "F1 Score (weighted): 0.9964000316953405\n",
      "\u001b[92m0.35% Training loss decreased compared to the previous epoch\u001b[0m\n",
      "\u001b[92m0.0% Validation loss decreased compared to the previous epoch\u001b[0m\n"
     ]
    },
    {
     "data": {
      "application/vnd.jupyter.widget-view+json": {
       "model_id": "",
       "version_major": 2,
       "version_minor": 0
      },
      "text/plain": [
       "Epoch 16:   0%|          | 0/704 [00:00<?, ?it/s]"
      ]
     },
     "metadata": {},
     "output_type": "display_data"
    },
    {
     "name": "stdout",
     "output_type": "stream",
     "text": [
      "\n",
      "Epoch 16\n",
      "Training loss: 0.058593740094858564\n",
      "Validation loss: 0.023342840425092493\n",
      "F1 Score (weighted): 0.9964000316953405\n",
      "\u001b[92m1.91% Training loss decreased compared to the previous epoch\u001b[0m\n",
      "\u001b[91m0.01% Validation loss increased compared to the previous epoch\u001b[0m\n"
     ]
    },
    {
     "data": {
      "application/vnd.jupyter.widget-view+json": {
       "model_id": "",
       "version_major": 2,
       "version_minor": 0
      },
      "text/plain": [
       "Epoch 17:   0%|          | 0/704 [00:00<?, ?it/s]"
      ]
     },
     "metadata": {},
     "output_type": "display_data"
    },
    {
     "name": "stdout",
     "output_type": "stream",
     "text": [
      "\n",
      "Epoch 17\n",
      "Training loss: 0.06029768339555052\n",
      "Validation loss: 0.023342550711933217\n",
      "F1 Score (weighted): 0.9964000316953405\n",
      "\u001b[91m2.91% Training loss increased compared to the previous epoch\u001b[0m\n",
      "\u001b[92m0.0% Validation loss decreased compared to the previous epoch\u001b[0m\n"
     ]
    },
    {
     "data": {
      "application/vnd.jupyter.widget-view+json": {
       "model_id": "",
       "version_major": 2,
       "version_minor": 0
      },
      "text/plain": [
       "Epoch 18:   0%|          | 0/704 [00:00<?, ?it/s]"
      ]
     },
     "metadata": {},
     "output_type": "display_data"
    },
    {
     "name": "stdout",
     "output_type": "stream",
     "text": [
      "\n",
      "Epoch 18\n",
      "Training loss: 0.05742252119324059\n",
      "Validation loss: 0.023343414738346953\n",
      "F1 Score (weighted): 0.9964000316953405\n",
      "\u001b[92m4.77% Training loss decreased compared to the previous epoch\u001b[0m\n",
      "\u001b[91m0.0% Validation loss increased compared to the previous epoch\u001b[0m\n"
     ]
    },
    {
     "data": {
      "application/vnd.jupyter.widget-view+json": {
       "model_id": "",
       "version_major": 2,
       "version_minor": 0
      },
      "text/plain": [
       "Epoch 19:   0%|          | 0/704 [00:00<?, ?it/s]"
      ]
     },
     "metadata": {},
     "output_type": "display_data"
    },
    {
     "name": "stdout",
     "output_type": "stream",
     "text": [
      "\n",
      "Epoch 19\n",
      "Training loss: 0.061594463338017456\n",
      "Validation loss: 0.023343859580817007\n",
      "F1 Score (weighted): 0.9964000316953405\n",
      "\u001b[91m7.27% Training loss increased compared to the previous epoch\u001b[0m\n",
      "\u001b[91m0.0% Validation loss increased compared to the previous epoch\u001b[0m\n"
     ]
    },
    {
     "data": {
      "application/vnd.jupyter.widget-view+json": {
       "model_id": "",
       "version_major": 2,
       "version_minor": 0
      },
      "text/plain": [
       "Epoch 20:   0%|          | 0/704 [00:00<?, ?it/s]"
      ]
     },
     "metadata": {},
     "output_type": "display_data"
    },
    {
     "name": "stdout",
     "output_type": "stream",
     "text": [
      "\n",
      "Epoch 20\n",
      "Training loss: 0.061164947151527566\n",
      "Validation loss: 0.023340659074579613\n",
      "F1 Score (weighted): 0.9964000316953405\n",
      "\u001b[92m0.7% Training loss decreased compared to the previous epoch\u001b[0m\n",
      "\u001b[92m0.01% Validation loss decreased compared to the previous epoch\u001b[0m\n"
     ]
    },
    {
     "data": {
      "application/vnd.jupyter.widget-view+json": {
       "model_id": "",
       "version_major": 2,
       "version_minor": 0
      },
      "text/plain": [
       "Epoch 21:   0%|          | 0/704 [00:00<?, ?it/s]"
      ]
     },
     "metadata": {},
     "output_type": "display_data"
    },
    {
     "name": "stdout",
     "output_type": "stream",
     "text": [
      "\n",
      "Epoch 21\n",
      "Training loss: 0.055457732885439655\n",
      "Validation loss: 0.023342387793111156\n",
      "F1 Score (weighted): 0.9964000316953405\n",
      "\u001b[92m9.33% Training loss decreased compared to the previous epoch\u001b[0m\n",
      "\u001b[91m0.01% Validation loss increased compared to the previous epoch\u001b[0m\n"
     ]
    },
    {
     "data": {
      "application/vnd.jupyter.widget-view+json": {
       "model_id": "",
       "version_major": 2,
       "version_minor": 0
      },
      "text/plain": [
       "Epoch 22:   0%|          | 0/704 [00:00<?, ?it/s]"
      ]
     },
     "metadata": {},
     "output_type": "display_data"
    },
    {
     "name": "stdout",
     "output_type": "stream",
     "text": [
      "\n",
      "Epoch 22\n",
      "Training loss: 0.06158864490998894\n",
      "Validation loss: 0.023341581405175827\n",
      "F1 Score (weighted): 0.9964000316953405\n",
      "\u001b[91m11.06% Training loss increased compared to the previous epoch\u001b[0m\n",
      "\u001b[92m0.0% Validation loss decreased compared to the previous epoch\u001b[0m\n"
     ]
    },
    {
     "data": {
      "application/vnd.jupyter.widget-view+json": {
       "model_id": "",
       "version_major": 2,
       "version_minor": 0
      },
      "text/plain": [
       "Epoch 23:   0%|          | 0/704 [00:00<?, ?it/s]"
      ]
     },
     "metadata": {},
     "output_type": "display_data"
    },
    {
     "name": "stdout",
     "output_type": "stream",
     "text": [
      "\n",
      "Epoch 23\n",
      "Training loss: 0.05636658750385819\n",
      "Validation loss: 0.023340921333985097\n",
      "F1 Score (weighted): 0.9964000316953405\n",
      "\u001b[92m8.48% Training loss decreased compared to the previous epoch\u001b[0m\n",
      "\u001b[92m0.0% Validation loss decreased compared to the previous epoch\u001b[0m\n"
     ]
    },
    {
     "data": {
      "application/vnd.jupyter.widget-view+json": {
       "model_id": "",
       "version_major": 2,
       "version_minor": 0
      },
      "text/plain": [
       "Epoch 24:   0%|          | 0/704 [00:00<?, ?it/s]"
      ]
     },
     "metadata": {},
     "output_type": "display_data"
    },
    {
     "name": "stdout",
     "output_type": "stream",
     "text": [
      "\n",
      "Epoch 24\n",
      "Training loss: 0.0629264465395119\n",
      "Validation loss: 0.023345224557465082\n",
      "F1 Score (weighted): 0.9964000316953405\n",
      "\u001b[91m11.64% Training loss increased compared to the previous epoch\u001b[0m\n",
      "\u001b[91m0.02% Validation loss increased compared to the previous epoch\u001b[0m\n"
     ]
    },
    {
     "data": {
      "application/vnd.jupyter.widget-view+json": {
       "model_id": "",
       "version_major": 2,
       "version_minor": 0
      },
      "text/plain": [
       "Epoch 25:   0%|          | 0/704 [00:00<?, ?it/s]"
      ]
     },
     "metadata": {},
     "output_type": "display_data"
    },
    {
     "name": "stdout",
     "output_type": "stream",
     "text": [
      "\n",
      "Epoch 25\n",
      "Training loss: 0.06086690471945324\n",
      "Validation loss: 0.023344361428112453\n",
      "F1 Score (weighted): 0.9964000316953405\n",
      "\u001b[92m3.27% Training loss decreased compared to the previous epoch\u001b[0m\n",
      "\u001b[92m0.0% Validation loss decreased compared to the previous epoch\u001b[0m\n"
     ]
    },
    {
     "data": {
      "application/vnd.jupyter.widget-view+json": {
       "model_id": "",
       "version_major": 2,
       "version_minor": 0
      },
      "text/plain": [
       "Epoch 26:   0%|          | 0/704 [00:00<?, ?it/s]"
      ]
     },
     "metadata": {},
     "output_type": "display_data"
    },
    {
     "name": "stdout",
     "output_type": "stream",
     "text": [
      "\n",
      "Epoch 26\n",
      "Training loss: 0.05996358807095186\n",
      "Validation loss: 0.02334874302857626\n",
      "F1 Score (weighted): 0.9964000316953405\n",
      "\u001b[92m1.48% Training loss decreased compared to the previous epoch\u001b[0m\n",
      "\u001b[91m0.02% Validation loss increased compared to the previous epoch\u001b[0m\n"
     ]
    },
    {
     "data": {
      "application/vnd.jupyter.widget-view+json": {
       "model_id": "",
       "version_major": 2,
       "version_minor": 0
      },
      "text/plain": [
       "Epoch 27:   0%|          | 0/704 [00:00<?, ?it/s]"
      ]
     },
     "metadata": {},
     "output_type": "display_data"
    },
    {
     "name": "stdout",
     "output_type": "stream",
     "text": [
      "\n",
      "Epoch 27\n",
      "Training loss: 0.0519395755864025\n",
      "Validation loss: 0.02334081096673396\n",
      "F1 Score (weighted): 0.9964000316953405\n",
      "\u001b[92m13.38% Training loss decreased compared to the previous epoch\u001b[0m\n",
      "\u001b[92m0.03% Validation loss decreased compared to the previous epoch\u001b[0m\n"
     ]
    },
    {
     "data": {
      "application/vnd.jupyter.widget-view+json": {
       "model_id": "",
       "version_major": 2,
       "version_minor": 0
      },
      "text/plain": [
       "Epoch 28:   0%|          | 0/704 [00:00<?, ?it/s]"
      ]
     },
     "metadata": {},
     "output_type": "display_data"
    },
    {
     "name": "stdout",
     "output_type": "stream",
     "text": [
      "\n",
      "Epoch 28\n",
      "Training loss: 0.05847655617605018\n",
      "Validation loss: 0.023341446789276278\n",
      "F1 Score (weighted): 0.9964000316953405\n",
      "\u001b[91m12.59% Training loss increased compared to the previous epoch\u001b[0m\n",
      "\u001b[91m0.0% Validation loss increased compared to the previous epoch\u001b[0m\n"
     ]
    },
    {
     "data": {
      "application/vnd.jupyter.widget-view+json": {
       "model_id": "",
       "version_major": 2,
       "version_minor": 0
      },
      "text/plain": [
       "Epoch 29:   0%|          | 0/704 [00:00<?, ?it/s]"
      ]
     },
     "metadata": {},
     "output_type": "display_data"
    },
    {
     "name": "stdout",
     "output_type": "stream",
     "text": [
      "\n",
      "Epoch 29\n",
      "Training loss: 0.06026855485259313\n",
      "Validation loss: 0.023341752457597495\n",
      "F1 Score (weighted): 0.9964000316953405\n",
      "\u001b[91m3.06% Training loss increased compared to the previous epoch\u001b[0m\n",
      "\u001b[91m0.0% Validation loss increased compared to the previous epoch\u001b[0m\n"
     ]
    },
    {
     "data": {
      "application/vnd.jupyter.widget-view+json": {
       "model_id": "",
       "version_major": 2,
       "version_minor": 0
      },
      "text/plain": [
       "Epoch 30:   0%|          | 0/704 [00:00<?, ?it/s]"
      ]
     },
     "metadata": {},
     "output_type": "display_data"
    },
    {
     "name": "stdout",
     "output_type": "stream",
     "text": [
      "\n",
      "Epoch 30\n",
      "Training loss: 0.05748513755290994\n",
      "Validation loss: 0.023341550479961348\n",
      "F1 Score (weighted): 0.9964000316953405\n",
      "\u001b[92m4.62% Training loss decreased compared to the previous epoch\u001b[0m\n",
      "\u001b[92m0.0% Validation loss decreased compared to the previous epoch\u001b[0m\n",
      "\n",
      "Early stopping triggered. Training stopped.\n",
      "\n",
      "Total training time: 60.601489305496216 minutes\n",
      "Final Accuracy: 0.9964\n",
      "Final Precision: 0.9964003823864063\n"
     ]
    },
    {
     "data": {
      "image/png": "[encoded data removed]",
      "text/plain": [
       "<Figure size 800x600 with 1 Axes>"
      ]
     },
     "metadata": {},
     "output_type": "display_data"
    },
    {
     "name": "stdout",
     "output_type": "stream",
     "text": [
      "Epoch                 Training Loss         Validation Loss       F1 Score            Accuracy              Precision\n",
      "--------------------  --------------------  --------------------  ------------------  ------------------  -----------\n",
      "1                     0.05638613667701975   0.023343104437359055  0.9964000316953405  0.9964                   0.9964\n",
      "2                     \u001b[91m0.05769872119336386\u001b[0m   \u001b[91m0.02334493886689726\u001b[0m   0.9964000316953405  \u001b[91m0.9964000316953405\u001b[0m       \u001b[92m0.9964\u001b[0m\n",
      "3                     \u001b[92m0.053994050521892364\u001b[0m  \u001b[92m0.02334302842773238\u001b[0m   0.9964000316953405  \u001b[91m0.9964000316953405\u001b[0m       \u001b[92m0.9964\u001b[0m\n",
      "4                     \u001b[91m0.05648446117079815\u001b[0m   \u001b[92m0.02334258775742536\u001b[0m   0.9964000316953405  \u001b[91m0.9964000316953405\u001b[0m       \u001b[92m0.9964\u001b[0m\n",
      "5                     \u001b[92m0.05233218111201991\u001b[0m   \u001b[91m0.02334375973810041\u001b[0m   0.9964000316953405  \u001b[91m0.9964000316953405\u001b[0m       \u001b[92m0.9964\u001b[0m\n",
      "6                     \u001b[91m0.060480898568130215\u001b[0m  \u001b[92m0.023342129503615507\u001b[0m  0.9964000316953405  \u001b[91m0.9964000316953405\u001b[0m       \u001b[92m0.9964\u001b[0m\n",
      "7                     \u001b[92m0.0596711820954955\u001b[0m    \u001b[91m0.023343619157020826\u001b[0m  0.9964000316953405  \u001b[91m0.9964000316953405\u001b[0m       \u001b[92m0.9964\u001b[0m\n",
      "8                     \u001b[91m0.06097719140449375\u001b[0m   \u001b[92m0.023342849880890165\u001b[0m  0.9964000316953405  \u001b[91m0.9964000316953405\u001b[0m       \u001b[92m0.9964\u001b[0m\n",
      "9                     \u001b[92m0.059258068248544245\u001b[0m  \u001b[92m0.023342000583961867\u001b[0m  0.9964000316953405  \u001b[91m0.9964000316953405\u001b[0m       \u001b[92m0.9964\u001b[0m\n",
      "10                    \u001b[92m0.05888835689450967\u001b[0m   \u001b[91m0.023346148562820957\u001b[0m  0.9964000316953405  \u001b[91m0.9964000316953405\u001b[0m       \u001b[92m0.9964\u001b[0m\n",
      "11                    \u001b[91m0.06270696466154649\u001b[0m   \u001b[92m0.023341763407268998\u001b[0m  0.9964000316953405  \u001b[91m0.9964000316953405\u001b[0m       \u001b[92m0.9964\u001b[0m\n",
      "12                    \u001b[92m0.05792902532836954\u001b[0m   \u001b[91m0.023343389913884783\u001b[0m  0.9964000316953405  \u001b[91m0.9964000316953405\u001b[0m       \u001b[92m0.9964\u001b[0m\n",
      "13                    \u001b[91m0.06334623166081986\u001b[0m   \u001b[92m0.023343043907654553\u001b[0m  0.9964000316953405  \u001b[91m0.9964000316953405\u001b[0m       \u001b[92m0.9964\u001b[0m\n",
      "14                    \u001b[92m0.059947251213006064\u001b[0m  \u001b[92m0.023341793194855267\u001b[0m  0.9964000316953405  \u001b[91m0.9964000316953405\u001b[0m       \u001b[92m0.9964\u001b[0m\n",
      "15                    \u001b[92m0.059737566126800215\u001b[0m  \u001b[92m0.023340746495855054\u001b[0m  0.9964000316953405  \u001b[91m0.9964000316953405\u001b[0m       \u001b[92m0.9964\u001b[0m\n",
      "16                    \u001b[92m0.058593740094858564\u001b[0m  \u001b[91m0.023342840425092493\u001b[0m  0.9964000316953405  \u001b[91m0.9964000316953405\u001b[0m       \u001b[92m0.9964\u001b[0m\n",
      "17                    \u001b[91m0.06029768339555052\u001b[0m   \u001b[92m0.023342550711933217\u001b[0m  0.9964000316953405  \u001b[91m0.9964000316953405\u001b[0m       \u001b[92m0.9964\u001b[0m\n",
      "18                    \u001b[92m0.05742252119324059\u001b[0m   \u001b[91m0.023343414738346953\u001b[0m  0.9964000316953405  \u001b[91m0.9964000316953405\u001b[0m       \u001b[92m0.9964\u001b[0m\n",
      "19                    \u001b[91m0.061594463338017456\u001b[0m  \u001b[91m0.023343859580817007\u001b[0m  0.9964000316953405  \u001b[91m0.9964000316953405\u001b[0m       \u001b[92m0.9964\u001b[0m\n",
      "20                    \u001b[92m0.061164947151527566\u001b[0m  \u001b[92m0.023340659074579613\u001b[0m  0.9964000316953405  \u001b[91m0.9964000316953405\u001b[0m       \u001b[92m0.9964\u001b[0m\n",
      "21                    \u001b[92m0.055457732885439655\u001b[0m  \u001b[91m0.023342387793111156\u001b[0m  0.9964000316953405  \u001b[91m0.9964000316953405\u001b[0m       \u001b[92m0.9964\u001b[0m\n",
      "22                    \u001b[91m0.06158864490998894\u001b[0m   \u001b[92m0.023341581405175827\u001b[0m  0.9964000316953405  \u001b[91m0.9964000316953405\u001b[0m       \u001b[92m0.9964\u001b[0m\n",
      "23                    \u001b[92m0.05636658750385819\u001b[0m   \u001b[92m0.023340921333985097\u001b[0m  0.9964000316953405  \u001b[91m0.9964000316953405\u001b[0m       \u001b[92m0.9964\u001b[0m\n",
      "24                    \u001b[91m0.0629264465395119\u001b[0m    \u001b[91m0.023345224557465082\u001b[0m  0.9964000316953405  \u001b[91m0.9964000316953405\u001b[0m       \u001b[92m0.9964\u001b[0m\n",
      "25                    \u001b[92m0.06086690471945324\u001b[0m   \u001b[92m0.023344361428112453\u001b[0m  0.9964000316953405  \u001b[91m0.9964000316953405\u001b[0m       \u001b[92m0.9964\u001b[0m\n",
      "26                    \u001b[92m0.05996358807095186\u001b[0m   \u001b[91m0.02334874302857626\u001b[0m   0.9964000316953405  \u001b[91m0.9964000316953405\u001b[0m       \u001b[92m0.9964\u001b[0m\n",
      "27                    \u001b[92m0.0519395755864025\u001b[0m    \u001b[92m0.02334081096673396\u001b[0m   0.9964000316953405  \u001b[91m0.9964000316953405\u001b[0m       \u001b[92m0.9964\u001b[0m\n",
      "28                    \u001b[91m0.05847655617605018\u001b[0m   \u001b[91m0.023341446789276278\u001b[0m  0.9964000316953405  \u001b[91m0.9964000316953405\u001b[0m       \u001b[92m0.9964\u001b[0m\n",
      "29                    \u001b[91m0.06026855485259313\u001b[0m   \u001b[91m0.023341752457597495\u001b[0m  0.9964000316953405  \u001b[91m0.9964000316953405\u001b[0m       \u001b[92m0.9964\u001b[0m\n",
      "30                    \u001b[92m0.05748513755290994\u001b[0m   \u001b[92m0.023341550479961348\u001b[0m  0.9964000316953405  \u001b[91m0.9964000316953405\u001b[0m       \u001b[92m0.9964\u001b[0m\n",
      "Total Training Time                                                                                         3636.09\n",
      "Final Precision                                                                                                0.9964\n",
      "Total Time (minutes)                                                                                          60.6015\n",
      "\n",
      "Fold 7\n"
     ]
    },
    {
     "data": {
      "application/vnd.jupyter.widget-view+json": {
       "model_id": "9855631e3de0418b80d5614710316e7c",
       "version_major": 2,
       "version_minor": 0
      },
      "text/plain": [
       "  0%|          | 0/50 [00:00<?, ?it/s]"
      ]
     },
     "metadata": {},
     "output_type": "display_data"
    },
    {
     "data": {
      "application/vnd.jupyter.widget-view+json": {
       "model_id": "",
       "version_major": 2,
       "version_minor": 0
      },
      "text/plain": [
       "Epoch 1:   0%|          | 0/704 [00:00<?, ?it/s]"
      ]
     },
     "metadata": {},
     "output_type": "display_data"
    },
    {
     "name": "stdout",
     "output_type": "stream",
     "text": [
      "\n",
      "Epoch 1\n",
      "Training loss: 0.061066811165016006\n",
      "Validation loss: 0.0062548144977639985\n",
      "F1 Score (weighted): 0.9991999964158876\n"
     ]
    },
    {
     "data": {
      "application/vnd.jupyter.widget-view+json": {
       "model_id": "",
       "version_major": 2,
       "version_minor": 0
      },
      "text/plain": [
       "Epoch 2:   0%|          | 0/704 [00:00<?, ?it/s]"
      ]
     },
     "metadata": {},
     "output_type": "display_data"
    },
    {
     "name": "stdout",
     "output_type": "stream",
     "text": [
      "\n",
      "Epoch 2\n",
      "Training loss: 0.0551277075982894\n",
      "Validation loss: 0.006254461098792432\n",
      "F1 Score (weighted): 0.9991999964158876\n",
      "\u001b[92m9.73% Training loss decreased compared to the previous epoch\u001b[0m\n",
      "\u001b[92m0.01% Validation loss decreased compared to the previous epoch\u001b[0m\n"
     ]
    },
    {
     "data": {
      "application/vnd.jupyter.widget-view+json": {
       "model_id": "",
       "version_major": 2,
       "version_minor": 0
      },
      "text/plain": [
       "Epoch 3:   0%|          | 0/704 [00:00<?, ?it/s]"
      ]
     },
     "metadata": {},
     "output_type": "display_data"
    },
    {
     "name": "stdout",
     "output_type": "stream",
     "text": [
      "\n",
      "Epoch 3\n",
      "Training loss: 0.06030033782446315\n",
      "Validation loss: 0.006254071509023492\n",
      "F1 Score (weighted): 0.9991999964158876\n",
      "\u001b[91m9.38% Training loss increased compared to the previous epoch\u001b[0m\n",
      "\u001b[92m0.01% Validation loss decreased compared to the previous epoch\u001b[0m\n"
     ]
    },
    {
     "data": {
      "application/vnd.jupyter.widget-view+json": {
       "model_id": "",
       "version_major": 2,
       "version_minor": 0
      },
      "text/plain": [
       "Epoch 4:   0%|          | 0/704 [00:00<?, ?it/s]"
      ]
     },
     "metadata": {},
     "output_type": "display_data"
    },
    {
     "name": "stdout",
     "output_type": "stream",
     "text": [
      "\n",
      "Epoch 4\n",
      "Training loss: 0.06251952822516284\n",
      "Validation loss: 0.006255180804468573\n",
      "F1 Score (weighted): 0.9991999964158876\n",
      "\u001b[91m3.68% Training loss increased compared to the previous epoch\u001b[0m\n",
      "\u001b[91m0.02% Validation loss increased compared to the previous epoch\u001b[0m\n"
     ]
    },
    {
     "data": {
      "application/vnd.jupyter.widget-view+json": {
       "model_id": "",
       "version_major": 2,
       "version_minor": 0
      },
      "text/plain": [
       "Epoch 5:   0%|          | 0/704 [00:00<?, ?it/s]"
      ]
     },
     "metadata": {},
     "output_type": "display_data"
    },
    {
     "name": "stdout",
     "output_type": "stream",
     "text": [
      "\n",
      "Epoch 5\n",
      "Training loss: 0.058058900242485834\n",
      "Validation loss: 0.0062550822003225835\n",
      "F1 Score (weighted): 0.9991999964158876\n",
      "\u001b[92m7.13% Training loss decreased compared to the previous epoch\u001b[0m\n",
      "\u001b[92m0.0% Validation loss decreased compared to the previous epoch\u001b[0m\n"
     ]
    },
    {
     "data": {
      "application/vnd.jupyter.widget-view+json": {
       "model_id": "",
       "version_major": 2,
       "version_minor": 0
      },
      "text/plain": [
       "Epoch 6:   0%|          | 0/704 [00:00<?, ?it/s]"
      ]
     },
     "metadata": {},
     "output_type": "display_data"
    },
    {
     "name": "stdout",
     "output_type": "stream",
     "text": [
      "\n",
      "Epoch 6\n",
      "Training loss: 0.06191365936390205\n",
      "Validation loss: 0.006255743486506133\n",
      "F1 Score (weighted): 0.9991999964158876\n",
      "\u001b[91m6.64% Training loss increased compared to the previous epoch\u001b[0m\n",
      "\u001b[91m0.01% Validation loss increased compared to the previous epoch\u001b[0m\n"
     ]
    },
    {
     "data": {
      "application/vnd.jupyter.widget-view+json": {
       "model_id": "",
       "version_major": 2,
       "version_minor": 0
      },
      "text/plain": [
       "Epoch 7:   0%|          | 0/704 [00:00<?, ?it/s]"
      ]
     },
     "metadata": {},
     "output_type": "display_data"
    },
    {
     "name": "stdout",
     "output_type": "stream",
     "text": [
      "\n",
      "Epoch 7\n",
      "Training loss: 0.059364656986417685\n",
      "Validation loss: 0.006255440968766667\n",
      "F1 Score (weighted): 0.9991999964158876\n",
      "\u001b[92m4.12% Training loss decreased compared to the previous epoch\u001b[0m\n",
      "\u001b[92m0.0% Validation loss decreased compared to the previous epoch\u001b[0m\n"
     ]
    },
    {
     "data": {
      "application/vnd.jupyter.widget-view+json": {
       "model_id": "",
       "version_major": 2,
       "version_minor": 0
      },
      "text/plain": [
       "Epoch 8:   0%|          | 0/704 [00:00<?, ?it/s]"
      ]
     },
     "metadata": {},
     "output_type": "display_data"
    },
    {
     "name": "stdout",
     "output_type": "stream",
     "text": [
      "\n",
      "Epoch 8\n",
      "Training loss: 0.05656339802862931\n",
      "Validation loss: 0.006255518991346884\n",
      "F1 Score (weighted): 0.9991999964158876\n",
      "\u001b[92m4.72% Training loss decreased compared to the previous epoch\u001b[0m\n",
      "\u001b[91m0.0% Validation loss increased compared to the previous epoch\u001b[0m\n"
     ]
    },
    {
     "data": {
      "application/vnd.jupyter.widget-view+json": {
       "model_id": "",
       "version_major": 2,
       "version_minor": 0
      },
      "text/plain": [
       "Epoch 9:   0%|          | 0/704 [00:00<?, ?it/s]"
      ]
     },
     "metadata": {},
     "output_type": "display_data"
    },
    {
     "name": "stdout",
     "output_type": "stream",
     "text": [
      "\n",
      "Epoch 9\n",
      "Training loss: 0.06116915850535323\n",
      "Validation loss: 0.006254271623646086\n",
      "F1 Score (weighted): 0.9991999964158876\n",
      "\u001b[91m8.14% Training loss increased compared to the previous epoch\u001b[0m\n",
      "\u001b[92m0.02% Validation loss decreased compared to the previous epoch\u001b[0m\n"
     ]
    },
    {
     "data": {
      "application/vnd.jupyter.widget-view+json": {
       "model_id": "",
       "version_major": 2,
       "version_minor": 0
      },
      "text/plain": [
       "Epoch 10:   0%|          | 0/704 [00:00<?, ?it/s]"
      ]
     },
     "metadata": {},
     "output_type": "display_data"
    },
    {
     "name": "stdout",
     "output_type": "stream",
     "text": [
      "\n",
      "Epoch 10\n",
      "Training loss: 0.05853876505551108\n",
      "Validation loss: 0.006253231259149829\n",
      "F1 Score (weighted): 0.9991999964158876\n",
      "\u001b[92m4.3% Training loss decreased compared to the previous epoch\u001b[0m\n",
      "\u001b[92m0.02% Validation loss decreased compared to the previous epoch\u001b[0m\n"
     ]
    },
    {
     "data": {
      "application/vnd.jupyter.widget-view+json": {
       "model_id": "",
       "version_major": 2,
       "version_minor": 0
      },
      "text/plain": [
       "Epoch 11:   0%|          | 0/704 [00:00<?, ?it/s]"
      ]
     },
     "metadata": {},
     "output_type": "display_data"
    },
    {
     "name": "stdout",
     "output_type": "stream",
     "text": [
      "\n",
      "Epoch 11\n",
      "Training loss: 0.06278628966038013\n",
      "Validation loss: 0.006254910430620436\n",
      "F1 Score (weighted): 0.9991999964158876\n",
      "\u001b[91m7.26% Training loss increased compared to the previous epoch\u001b[0m\n",
      "\u001b[91m0.03% Validation loss increased compared to the previous epoch\u001b[0m\n"
     ]
    },
    {
     "data": {
      "application/vnd.jupyter.widget-view+json": {
       "model_id": "",
       "version_major": 2,
       "version_minor": 0
      },
      "text/plain": [
       "Epoch 12:   0%|          | 0/704 [00:00<?, ?it/s]"
      ]
     },
     "metadata": {},
     "output_type": "display_data"
    },
    {
     "name": "stdout",
     "output_type": "stream",
     "text": [
      "\n",
      "Epoch 12\n",
      "Training loss: 0.05925513501948775\n",
      "Validation loss: 0.006254516723580493\n",
      "F1 Score (weighted): 0.9991999964158876\n",
      "\u001b[92m5.62% Training loss decreased compared to the previous epoch\u001b[0m\n",
      "\u001b[92m0.01% Validation loss decreased compared to the previous epoch\u001b[0m\n"
     ]
    },
    {
     "data": {
      "application/vnd.jupyter.widget-view+json": {
       "model_id": "",
       "version_major": 2,
       "version_minor": 0
      },
      "text/plain": [
       "Epoch 13:   0%|          | 0/704 [00:00<?, ?it/s]"
      ]
     },
     "metadata": {},
     "output_type": "display_data"
    },
    {
     "name": "stdout",
     "output_type": "stream",
     "text": [
      "\n",
      "Epoch 13\n",
      "Training loss: 0.06299476140768755\n",
      "Validation loss: 0.006255575507301601\n",
      "F1 Score (weighted): 0.9991999964158876\n",
      "\u001b[91m6.31% Training loss increased compared to the previous epoch\u001b[0m\n",
      "\u001b[91m0.02% Validation loss increased compared to the previous epoch\u001b[0m\n"
     ]
    },
    {
     "data": {
      "application/vnd.jupyter.widget-view+json": {
       "model_id": "",
       "version_major": 2,
       "version_minor": 0
      },
      "text/plain": [
       "Epoch 14:   0%|          | 0/704 [00:00<?, ?it/s]"
      ]
     },
     "metadata": {},
     "output_type": "display_data"
    },
    {
     "name": "stdout",
     "output_type": "stream",
     "text": [
      "\n",
      "Epoch 14\n",
      "Training loss: 0.06116129599827631\n",
      "Validation loss: 0.006254447887863822\n",
      "F1 Score (weighted): 0.9991999964158876\n",
      "\u001b[92m2.91% Training loss decreased compared to the previous epoch\u001b[0m\n",
      "\u001b[92m0.02% Validation loss decreased compared to the previous epoch\u001b[0m\n"
     ]
    },
    {
     "data": {
      "application/vnd.jupyter.widget-view+json": {
       "model_id": "",
       "version_major": 2,
       "version_minor": 0
      },
      "text/plain": [
       "Epoch 15:   0%|          | 0/704 [00:00<?, ?it/s]"
      ]
     },
     "metadata": {},
     "output_type": "display_data"
    },
    {
     "name": "stdout",
     "output_type": "stream",
     "text": [
      "\n",
      "Epoch 15\n",
      "Training loss: 0.06060561627117005\n",
      "Validation loss: 0.006256980396721725\n",
      "F1 Score (weighted): 0.9991999964158876\n",
      "\u001b[92m0.91% Training loss decreased compared to the previous epoch\u001b[0m\n",
      "\u001b[91m0.04% Validation loss increased compared to the previous epoch\u001b[0m\n"
     ]
    },
    {
     "data": {
      "application/vnd.jupyter.widget-view+json": {
       "model_id": "",
       "version_major": 2,
       "version_minor": 0
      },
      "text/plain": [
       "Epoch 16:   0%|          | 0/704 [00:00<?, ?it/s]"
      ]
     },
     "metadata": {},
     "output_type": "display_data"
    },
    {
     "name": "stdout",
     "output_type": "stream",
     "text": [
      "\n",
      "Epoch 16\n",
      "Training loss: 0.06440066753521023\n",
      "Validation loss: 0.0062555675755867944\n",
      "F1 Score (weighted): 0.9991999964158876\n",
      "\u001b[91m6.26% Training loss increased compared to the previous epoch\u001b[0m\n",
      "\u001b[92m0.02% Validation loss decreased compared to the previous epoch\u001b[0m\n"
     ]
    },
    {
     "data": {
      "application/vnd.jupyter.widget-view+json": {
       "model_id": "",
       "version_major": 2,
       "version_minor": 0
      },
      "text/plain": [
       "Epoch 17:   0%|          | 0/704 [00:00<?, ?it/s]"
      ]
     },
     "metadata": {},
     "output_type": "display_data"
    },
    {
     "name": "stdout",
     "output_type": "stream",
     "text": [
      "\n",
      "Epoch 17\n",
      "Training loss: 0.0628157713132499\n",
      "Validation loss: 0.0062555873492449714\n",
      "F1 Score (weighted): 0.9991999964158876\n",
      "\u001b[92m2.46% Training loss decreased compared to the previous epoch\u001b[0m\n",
      "\u001b[91m0.0% Validation loss increased compared to the previous epoch\u001b[0m\n"
     ]
    },
    {
     "data": {
      "application/vnd.jupyter.widget-view+json": {
       "model_id": "",
       "version_major": 2,
       "version_minor": 0
      },
      "text/plain": [
       "Epoch 18:   0%|          | 0/704 [00:00<?, ?it/s]"
      ]
     },
     "metadata": {},
     "output_type": "display_data"
    },
    {
     "name": "stdout",
     "output_type": "stream",
     "text": [
      "\n",
      "Epoch 18\n",
      "Training loss: 0.06043421442539263\n",
      "Validation loss: 0.00625520780177115\n",
      "F1 Score (weighted): 0.9991999964158876\n",
      "\u001b[92m3.79% Training loss decreased compared to the previous epoch\u001b[0m\n",
      "\u001b[92m0.01% Validation loss decreased compared to the previous epoch\u001b[0m\n"
     ]
    },
    {
     "data": {
      "application/vnd.jupyter.widget-view+json": {
       "model_id": "",
       "version_major": 2,
       "version_minor": 0
      },
      "text/plain": [
       "Epoch 19:   0%|          | 0/704 [00:00<?, ?it/s]"
      ]
     },
     "metadata": {},
     "output_type": "display_data"
    },
    {
     "name": "stdout",
     "output_type": "stream",
     "text": [
      "\n",
      "Epoch 19\n",
      "Training loss: 0.06003372758343837\n",
      "Validation loss: 0.006255030765012496\n",
      "F1 Score (weighted): 0.9991999964158876\n",
      "\u001b[92m0.66% Training loss decreased compared to the previous epoch\u001b[0m\n",
      "\u001b[92m0.0% Validation loss decreased compared to the previous epoch\u001b[0m\n"
     ]
    },
    {
     "data": {
      "application/vnd.jupyter.widget-view+json": {
       "model_id": "",
       "version_major": 2,
       "version_minor": 0
      },
      "text/plain": [
       "Epoch 20:   0%|          | 0/704 [00:00<?, ?it/s]"
      ]
     },
     "metadata": {},
     "output_type": "display_data"
    },
    {
     "name": "stdout",
     "output_type": "stream",
     "text": [
      "\n",
      "Epoch 20\n",
      "Training loss: 0.05922231696678699\n",
      "Validation loss: 0.006254119119942896\n",
      "F1 Score (weighted): 0.9991999964158876\n",
      "\u001b[92m1.35% Training loss decreased compared to the previous epoch\u001b[0m\n",
      "\u001b[92m0.01% Validation loss decreased compared to the previous epoch\u001b[0m\n",
      "\n",
      "Early stopping triggered. Training stopped.\n",
      "\n",
      "Total training time: 40.455784459908806 minutes\n",
      "Final Accuracy: 0.9992\n",
      "Final Precision: 0.9992012718600954\n"
     ]
    },
    {
     "data": {
      "image/png": "[encoded data removed]",
      "text/plain": [
       "<Figure size 800x600 with 1 Axes>"
      ]
     },
     "metadata": {},
     "output_type": "display_data"
    },
    {
     "name": "stdout",
     "output_type": "stream",
     "text": [
      "Epoch                 Training Loss         Validation Loss        F1 Score            Accuracy              Precision\n",
      "--------------------  --------------------  ---------------------  ------------------  ------------------  -----------\n",
      "1                     0.061066811165016006  0.0062548144977639985  0.9991999964158876  0.9992                 0.999201\n",
      "2                     \u001b[92m0.0551277075982894\u001b[0m    \u001b[92m0.006254461098792432\u001b[0m   0.9991999964158876  \u001b[92m0.9991999964158876\u001b[0m     \u001b[92m0.9992\u001b[0m\n",
      "3                     \u001b[91m0.06030033782446315\u001b[0m   \u001b[92m0.006254071509023492\u001b[0m   0.9991999964158876  \u001b[92m0.9991999964158876\u001b[0m     \u001b[92m0.9992\u001b[0m\n",
      "4                     \u001b[91m0.06251952822516284\u001b[0m   \u001b[91m0.006255180804468573\u001b[0m   0.9991999964158876  \u001b[92m0.9991999964158876\u001b[0m     \u001b[92m0.9992\u001b[0m\n",
      "5                     \u001b[92m0.058058900242485834\u001b[0m  \u001b[92m0.0062550822003225835\u001b[0m  0.9991999964158876  \u001b[92m0.9991999964158876\u001b[0m     \u001b[92m0.9992\u001b[0m\n",
      "6                     \u001b[91m0.06191365936390205\u001b[0m   \u001b[91m0.006255743486506133\u001b[0m   0.9991999964158876  \u001b[92m0.9991999964158876\u001b[0m     \u001b[92m0.9992\u001b[0m\n",
      "7                     \u001b[92m0.059364656986417685\u001b[0m  \u001b[92m0.006255440968766667\u001b[0m   0.9991999964158876  \u001b[92m0.9991999964158876\u001b[0m     \u001b[92m0.9992\u001b[0m\n",
      "8                     \u001b[92m0.05656339802862931\u001b[0m   \u001b[91m0.006255518991346884\u001b[0m   0.9991999964158876  \u001b[92m0.9991999964158876\u001b[0m     \u001b[92m0.9992\u001b[0m\n",
      "9                     \u001b[91m0.06116915850535323\u001b[0m   \u001b[92m0.006254271623646086\u001b[0m   0.9991999964158876  \u001b[92m0.9991999964158876\u001b[0m     \u001b[92m0.9992\u001b[0m\n",
      "10                    \u001b[92m0.05853876505551108\u001b[0m   \u001b[92m0.006253231259149829\u001b[0m   0.9991999964158876  \u001b[92m0.9991999964158876\u001b[0m     \u001b[92m0.9992\u001b[0m\n",
      "11                    \u001b[91m0.06278628966038013\u001b[0m   \u001b[91m0.006254910430620436\u001b[0m   0.9991999964158876  \u001b[92m0.9991999964158876\u001b[0m     \u001b[92m0.9992\u001b[0m\n",
      "12                    \u001b[92m0.05925513501948775\u001b[0m   \u001b[92m0.006254516723580493\u001b[0m   0.9991999964158876  \u001b[92m0.9991999964158876\u001b[0m     \u001b[92m0.9992\u001b[0m\n",
      "13                    \u001b[91m0.06299476140768755\u001b[0m   \u001b[91m0.006255575507301601\u001b[0m   0.9991999964158876  \u001b[92m0.9991999964158876\u001b[0m     \u001b[92m0.9992\u001b[0m\n",
      "14                    \u001b[92m0.06116129599827631\u001b[0m   \u001b[92m0.006254447887863822\u001b[0m   0.9991999964158876  \u001b[92m0.9991999964158876\u001b[0m     \u001b[92m0.9992\u001b[0m\n",
      "15                    \u001b[92m0.06060561627117005\u001b[0m   \u001b[91m0.006256980396721725\u001b[0m   0.9991999964158876  \u001b[92m0.9991999964158876\u001b[0m     \u001b[92m0.9992\u001b[0m\n",
      "16                    \u001b[91m0.06440066753521023\u001b[0m   \u001b[92m0.0062555675755867944\u001b[0m  0.9991999964158876  \u001b[92m0.9991999964158876\u001b[0m     \u001b[92m0.9992\u001b[0m\n",
      "17                    \u001b[92m0.0628157713132499\u001b[0m    \u001b[91m0.0062555873492449714\u001b[0m  0.9991999964158876  \u001b[92m0.9991999964158876\u001b[0m     \u001b[92m0.9992\u001b[0m\n",
      "18                    \u001b[92m0.06043421442539263\u001b[0m   \u001b[92m0.00625520780177115\u001b[0m    0.9991999964158876  \u001b[92m0.9991999964158876\u001b[0m     \u001b[92m0.9992\u001b[0m\n",
      "19                    \u001b[92m0.06003372758343837\u001b[0m   \u001b[92m0.006255030765012496\u001b[0m   0.9991999964158876  \u001b[92m0.9991999964158876\u001b[0m     \u001b[92m0.9992\u001b[0m\n",
      "20                    \u001b[92m0.05922231696678699\u001b[0m   \u001b[92m0.006254119119942896\u001b[0m   0.9991999964158876  \u001b[92m0.9991999964158876\u001b[0m     \u001b[92m0.9992\u001b[0m\n",
      "Total Training Time                                                                                        2427.35\n",
      "Final Precision                                                                                               0.999201\n",
      "Total Time (minutes)                                                                                         40.4558\n",
      "\n",
      "Fold 8\n"
     ]
    },
    {
     "data": {
      "application/vnd.jupyter.widget-view+json": {
       "model_id": "f610bc54dafe412f933123bc9ceea75d",
       "version_major": 2,
       "version_minor": 0
      },
      "text/plain": [
       "  0%|          | 0/50 [00:00<?, ?it/s]"
      ]
     },
     "metadata": {},
     "output_type": "display_data"
    },
    {
     "data": {
      "application/vnd.jupyter.widget-view+json": {
       "model_id": "",
       "version_major": 2,
       "version_minor": 0
      },
      "text/plain": [
       "Epoch 1:   0%|          | 0/704 [00:00<?, ?it/s]"
      ]
     },
     "metadata": {},
     "output_type": "display_data"
    },
    {
     "name": "stdout",
     "output_type": "stream",
     "text": [
      "\n",
      "Epoch 1\n",
      "Training loss: 0.06191514468074191\n",
      "Validation loss: 0.014323538195052998\n",
      "F1 Score (weighted): 0.9979999983999936\n"
     ]
    },
    {
     "data": {
      "application/vnd.jupyter.widget-view+json": {
       "model_id": "",
       "version_major": 2,
       "version_minor": 0
      },
      "text/plain": [
       "Epoch 2:   0%|          | 0/704 [00:00<?, ?it/s]"
      ]
     },
     "metadata": {},
     "output_type": "display_data"
    },
    {
     "name": "stdout",
     "output_type": "stream",
     "text": [
      "\n",
      "Epoch 2\n",
      "Training loss: 0.06328548218041098\n",
      "Validation loss: 0.014325888644346873\n",
      "F1 Score (weighted): 0.9979999983999936\n",
      "\u001b[91m2.21% Training loss increased compared to the previous epoch\u001b[0m\n",
      "\u001b[91m0.02% Validation loss increased compared to the previous epoch\u001b[0m\n"
     ]
    },
    {
     "data": {
      "application/vnd.jupyter.widget-view+json": {
       "model_id": "",
       "version_major": 2,
       "version_minor": 0
      },
      "text/plain": [
       "Epoch 3:   0%|          | 0/704 [00:00<?, ?it/s]"
      ]
     },
     "metadata": {},
     "output_type": "display_data"
    },
    {
     "name": "stdout",
     "output_type": "stream",
     "text": [
      "\n",
      "Epoch 3\n",
      "Training loss: 0.061062599030058416\n",
      "Validation loss: 0.014323561712790022\n",
      "F1 Score (weighted): 0.9979999983999936\n",
      "\u001b[92m3.51% Training loss decreased compared to the previous epoch\u001b[0m\n",
      "\u001b[92m0.02% Validation loss decreased compared to the previous epoch\u001b[0m\n"
     ]
    },
    {
     "data": {
      "application/vnd.jupyter.widget-view+json": {
       "model_id": "",
       "version_major": 2,
       "version_minor": 0
      },
      "text/plain": [
       "Epoch 4:   0%|          | 0/704 [00:00<?, ?it/s]"
      ]
     },
     "metadata": {},
     "output_type": "display_data"
    },
    {
     "name": "stdout",
     "output_type": "stream",
     "text": [
      "\n",
      "Epoch 4\n",
      "Training loss: 0.06465377097000866\n",
      "Validation loss: 0.014322208328308137\n",
      "F1 Score (weighted): 0.9979999983999936\n",
      "\u001b[91m5.88% Training loss increased compared to the previous epoch\u001b[0m\n",
      "\u001b[92m0.01% Validation loss decreased compared to the previous epoch\u001b[0m\n"
     ]
    },
    {
     "data": {
      "application/vnd.jupyter.widget-view+json": {
       "model_id": "",
       "version_major": 2,
       "version_minor": 0
      },
      "text/plain": [
       "Epoch 5:   0%|          | 0/704 [00:00<?, ?it/s]"
      ]
     },
     "metadata": {},
     "output_type": "display_data"
    },
    {
     "name": "stdout",
     "output_type": "stream",
     "text": [
      "\n",
      "Epoch 5\n",
      "Training loss: 0.05662852617660974\n",
      "Validation loss: 0.014324714113955233\n",
      "F1 Score (weighted): 0.9979999983999936\n",
      "\u001b[92m12.41% Training loss decreased compared to the previous epoch\u001b[0m\n",
      "\u001b[91m0.02% Validation loss increased compared to the previous epoch\u001b[0m\n"
     ]
    },
    {
     "data": {
      "application/vnd.jupyter.widget-view+json": {
       "model_id": "",
       "version_major": 2,
       "version_minor": 0
      },
      "text/plain": [
       "Epoch 6:   0%|          | 0/704 [00:00<?, ?it/s]"
      ]
     },
     "metadata": {},
     "output_type": "display_data"
    },
    {
     "name": "stdout",
     "output_type": "stream",
     "text": [
      "\n",
      "Epoch 6\n",
      "Training loss: 0.06580525235713966\n",
      "Validation loss: 0.014324210201393035\n",
      "F1 Score (weighted): 0.9979999983999936\n",
      "\u001b[91m16.21% Training loss increased compared to the previous epoch\u001b[0m\n",
      "\u001b[92m0.0% Validation loss decreased compared to the previous epoch\u001b[0m\n"
     ]
    },
    {
     "data": {
      "application/vnd.jupyter.widget-view+json": {
       "model_id": "",
       "version_major": 2,
       "version_minor": 0
      },
      "text/plain": [
       "Epoch 7:   0%|          | 0/704 [00:00<?, ?it/s]"
      ]
     },
     "metadata": {},
     "output_type": "display_data"
    },
    {
     "name": "stdout",
     "output_type": "stream",
     "text": [
      "\n",
      "Epoch 7\n",
      "Training loss: 0.06400942375611604\n",
      "Validation loss: 0.014322728970415206\n",
      "F1 Score (weighted): 0.9979999983999936\n",
      "\u001b[92m2.73% Training loss decreased compared to the previous epoch\u001b[0m\n",
      "\u001b[92m0.01% Validation loss decreased compared to the previous epoch\u001b[0m\n"
     ]
    },
    {
     "data": {
      "application/vnd.jupyter.widget-view+json": {
       "model_id": "",
       "version_major": 2,
       "version_minor": 0
      },
      "text/plain": [
       "Epoch 8:   0%|          | 0/704 [00:00<?, ?it/s]"
      ]
     },
     "metadata": {},
     "output_type": "display_data"
    },
    {
     "name": "stdout",
     "output_type": "stream",
     "text": [
      "\n",
      "Epoch 8\n",
      "Training loss: 0.05951164732831868\n",
      "Validation loss: 0.014323060898127954\n",
      "F1 Score (weighted): 0.9979999983999936\n",
      "\u001b[92m7.03% Training loss decreased compared to the previous epoch\u001b[0m\n",
      "\u001b[91m0.0% Validation loss increased compared to the previous epoch\u001b[0m\n"
     ]
    },
    {
     "data": {
      "application/vnd.jupyter.widget-view+json": {
       "model_id": "",
       "version_major": 2,
       "version_minor": 0
      },
      "text/plain": [
       "Epoch 9:   0%|          | 0/704 [00:00<?, ?it/s]"
      ]
     },
     "metadata": {},
     "output_type": "display_data"
    },
    {
     "name": "stdout",
     "output_type": "stream",
     "text": [
      "\n",
      "Epoch 9\n",
      "Training loss: 0.06528223499381883\n",
      "Validation loss: 0.014323886841995336\n",
      "F1 Score (weighted): 0.9979999983999936\n",
      "\u001b[91m9.7% Training loss increased compared to the previous epoch\u001b[0m\n",
      "\u001b[91m0.01% Validation loss increased compared to the previous epoch\u001b[0m\n"
     ]
    },
    {
     "data": {
      "application/vnd.jupyter.widget-view+json": {
       "model_id": "",
       "version_major": 2,
       "version_minor": 0
      },
      "text/plain": [
       "Epoch 10:   0%|          | 0/704 [00:00<?, ?it/s]"
      ]
     },
     "metadata": {},
     "output_type": "display_data"
    },
    {
     "name": "stdout",
     "output_type": "stream",
     "text": [
      "\n",
      "Epoch 10\n",
      "Training loss: 0.06140201797866625\n",
      "Validation loss: 0.014325725291546175\n",
      "F1 Score (weighted): 0.9979999983999936\n",
      "\u001b[92m5.94% Training loss decreased compared to the previous epoch\u001b[0m\n",
      "\u001b[91m0.01% Validation loss increased compared to the previous epoch\u001b[0m\n"
     ]
    },
    {
     "data": {
      "application/vnd.jupyter.widget-view+json": {
       "model_id": "",
       "version_major": 2,
       "version_minor": 0
      },
      "text/plain": [
       "Epoch 11:   0%|          | 0/704 [00:00<?, ?it/s]"
      ]
     },
     "metadata": {},
     "output_type": "display_data"
    },
    {
     "name": "stdout",
     "output_type": "stream",
     "text": [
      "\n",
      "Epoch 11\n",
      "Training loss: 0.06661705772595186\n",
      "Validation loss: 0.014324695353405078\n",
      "F1 Score (weighted): 0.9979999983999936\n",
      "\u001b[91m8.49% Training loss increased compared to the previous epoch\u001b[0m\n",
      "\u001b[92m0.01% Validation loss decreased compared to the previous epoch\u001b[0m\n"
     ]
    },
    {
     "data": {
      "application/vnd.jupyter.widget-view+json": {
       "model_id": "",
       "version_major": 2,
       "version_minor": 0
      },
      "text/plain": [
       "Epoch 12:   0%|          | 0/704 [00:00<?, ?it/s]"
      ]
     },
     "metadata": {},
     "output_type": "display_data"
    },
    {
     "name": "stdout",
     "output_type": "stream",
     "text": [
      "\n",
      "Epoch 12\n",
      "Training loss: 0.05395234613520601\n",
      "Validation loss: 0.014325093032565274\n",
      "F1 Score (weighted): 0.9979999983999936\n",
      "\u001b[92m19.01% Training loss decreased compared to the previous epoch\u001b[0m\n",
      "\u001b[91m0.0% Validation loss increased compared to the previous epoch\u001b[0m\n"
     ]
    },
    {
     "data": {
      "application/vnd.jupyter.widget-view+json": {
       "model_id": "",
       "version_major": 2,
       "version_minor": 0
      },
      "text/plain": [
       "Epoch 13:   0%|          | 0/704 [00:00<?, ?it/s]"
      ]
     },
     "metadata": {},
     "output_type": "display_data"
    },
    {
     "name": "stdout",
     "output_type": "stream",
     "text": [
      "\n",
      "Epoch 13\n",
      "Training loss: 0.06399502983876201\n",
      "Validation loss: 0.014322841363882387\n",
      "F1 Score (weighted): 0.9979999983999936\n",
      "\u001b[91m18.61% Training loss increased compared to the previous epoch\u001b[0m\n",
      "\u001b[92m0.02% Validation loss decreased compared to the previous epoch\u001b[0m\n"
     ]
    },
    {
     "data": {
      "application/vnd.jupyter.widget-view+json": {
       "model_id": "",
       "version_major": 2,
       "version_minor": 0
      },
      "text/plain": [
       "Epoch 14:   0%|          | 0/704 [00:00<?, ?it/s]"
      ]
     },
     "metadata": {},
     "output_type": "display_data"
    },
    {
     "name": "stdout",
     "output_type": "stream",
     "text": [
      "\n",
      "Epoch 14\n",
      "Training loss: 0.058612081686739904\n",
      "Validation loss: 0.014323939901962287\n",
      "F1 Score (weighted): 0.9979999983999936\n",
      "\u001b[92m8.41% Training loss decreased compared to the previous epoch\u001b[0m\n",
      "\u001b[91m0.01% Validation loss increased compared to the previous epoch\u001b[0m\n",
      "\n",
      "Early stopping triggered. Training stopped.\n",
      "\n",
      "Total training time: 28.33484891653061 minutes\n",
      "Final Accuracy: 0.998\n",
      "Final Precision: 0.9980003161618212\n"
     ]
    },
    {
     "data": {
      "image/png": "[encoded data removed]",
      "text/plain": [
       "<Figure size 800x600 with 1 Axes>"
      ]
     },
     "metadata": {},
     "output_type": "display_data"
    },
    {
     "name": "stdout",
     "output_type": "stream",
     "text": [
      "Epoch                 Training Loss         Validation Loss       F1 Score            Accuracy              Precision\n",
      "--------------------  --------------------  --------------------  ------------------  ------------------  -----------\n",
      "1                     0.06191514468074191   0.014323538195052998  0.9979999983999936  0.998                    0.998\n",
      "2                     \u001b[91m0.06328548218041098\u001b[0m   \u001b[91m0.014325888644346873\u001b[0m  0.9979999983999936  \u001b[92m0.9979999983999936\u001b[0m       \u001b[92m0.998\u001b[0m\n",
      "3                     \u001b[92m0.061062599030058416\u001b[0m  \u001b[92m0.014323561712790022\u001b[0m  0.9979999983999936  \u001b[92m0.9979999983999936\u001b[0m       \u001b[92m0.998\u001b[0m\n",
      "4                     \u001b[91m0.06465377097000866\u001b[0m   \u001b[92m0.014322208328308137\u001b[0m  0.9979999983999936  \u001b[92m0.9979999983999936\u001b[0m       \u001b[92m0.998\u001b[0m\n",
      "5                     \u001b[92m0.05662852617660974\u001b[0m   \u001b[91m0.014324714113955233\u001b[0m  0.9979999983999936  \u001b[92m0.9979999983999936\u001b[0m       \u001b[92m0.998\u001b[0m\n",
      "6                     \u001b[91m0.06580525235713966\u001b[0m   \u001b[92m0.014324210201393035\u001b[0m  0.9979999983999936  \u001b[92m0.9979999983999936\u001b[0m       \u001b[92m0.998\u001b[0m\n",
      "7                     \u001b[92m0.06400942375611604\u001b[0m   \u001b[92m0.014322728970415206\u001b[0m  0.9979999983999936  \u001b[92m0.9979999983999936\u001b[0m       \u001b[92m0.998\u001b[0m\n",
      "8                     \u001b[92m0.05951164732831868\u001b[0m   \u001b[91m0.014323060898127954\u001b[0m  0.9979999983999936  \u001b[92m0.9979999983999936\u001b[0m       \u001b[92m0.998\u001b[0m\n",
      "9                     \u001b[91m0.06528223499381883\u001b[0m   \u001b[91m0.014323886841995336\u001b[0m  0.9979999983999936  \u001b[92m0.9979999983999936\u001b[0m       \u001b[92m0.998\u001b[0m\n",
      "10                    \u001b[92m0.06140201797866625\u001b[0m   \u001b[91m0.014325725291546175\u001b[0m  0.9979999983999936  \u001b[92m0.9979999983999936\u001b[0m       \u001b[92m0.998\u001b[0m\n",
      "11                    \u001b[91m0.06661705772595186\u001b[0m   \u001b[92m0.014324695353405078\u001b[0m  0.9979999983999936  \u001b[92m0.9979999983999936\u001b[0m       \u001b[92m0.998\u001b[0m\n",
      "12                    \u001b[92m0.05395234613520601\u001b[0m   \u001b[91m0.014325093032565274\u001b[0m  0.9979999983999936  \u001b[92m0.9979999983999936\u001b[0m       \u001b[92m0.998\u001b[0m\n",
      "13                    \u001b[91m0.06399502983876201\u001b[0m   \u001b[92m0.014322841363882387\u001b[0m  0.9979999983999936  \u001b[92m0.9979999983999936\u001b[0m       \u001b[92m0.998\u001b[0m\n",
      "14                    \u001b[92m0.058612081686739904\u001b[0m  \u001b[91m0.014323939901962287\u001b[0m  0.9979999983999936  \u001b[92m0.9979999983999936\u001b[0m       \u001b[92m0.998\u001b[0m\n",
      "Total Training Time                                                                                         1700.09\n",
      "Final Precision                                                                                                0.998\n",
      "Total Time (minutes)                                                                                          28.3348\n",
      "\n",
      "Fold 9\n"
     ]
    },
    {
     "data": {
      "application/vnd.jupyter.widget-view+json": {
       "model_id": "926e664629a649be9d3cd5093a82058d",
       "version_major": 2,
       "version_minor": 0
      },
      "text/plain": [
       "  0%|          | 0/50 [00:00<?, ?it/s]"
      ]
     },
     "metadata": {},
     "output_type": "display_data"
    },
    {
     "data": {
      "application/vnd.jupyter.widget-view+json": {
       "model_id": "",
       "version_major": 2,
       "version_minor": 0
      },
      "text/plain": [
       "Epoch 1:   0%|          | 0/704 [00:00<?, ?it/s]"
      ]
     },
     "metadata": {},
     "output_type": "display_data"
    },
    {
     "name": "stdout",
     "output_type": "stream",
     "text": [
      "\n",
      "Epoch 1\n",
      "Training loss: 0.06631869244583041\n",
      "Validation loss: 0.006677602857640131\n",
      "F1 Score (weighted): 0.9988000132580995\n"
     ]
    },
    {
     "data": {
      "application/vnd.jupyter.widget-view+json": {
       "model_id": "",
       "version_major": 2,
       "version_minor": 0
      },
      "text/plain": [
       "Epoch 2:   0%|          | 0/704 [00:00<?, ?it/s]"
      ]
     },
     "metadata": {},
     "output_type": "display_data"
    },
    {
     "name": "stdout",
     "output_type": "stream",
     "text": [
      "\n",
      "Epoch 2\n",
      "Training loss: 0.06349185883275575\n",
      "Validation loss: 0.006681868097674149\n",
      "F1 Score (weighted): 0.9988000132580995\n",
      "\u001b[92m4.26% Training loss decreased compared to the previous epoch\u001b[0m\n",
      "\u001b[91m0.06% Validation loss increased compared to the previous epoch\u001b[0m\n"
     ]
    },
    {
     "data": {
      "application/vnd.jupyter.widget-view+json": {
       "model_id": "",
       "version_major": 2,
       "version_minor": 0
      },
      "text/plain": [
       "Epoch 3:   0%|          | 0/704 [00:00<?, ?it/s]"
      ]
     },
     "metadata": {},
     "output_type": "display_data"
    },
    {
     "name": "stdout",
     "output_type": "stream",
     "text": [
      "\n",
      "Epoch 3\n",
      "Training loss: 0.05782666738605258\n",
      "Validation loss: 0.006675946842687488\n",
      "F1 Score (weighted): 0.9988000132580995\n",
      "\u001b[92m8.92% Training loss decreased compared to the previous epoch\u001b[0m\n",
      "\u001b[92m0.09% Validation loss decreased compared to the previous epoch\u001b[0m\n"
     ]
    },
    {
     "data": {
      "application/vnd.jupyter.widget-view+json": {
       "model_id": "",
       "version_major": 2,
       "version_minor": 0
      },
      "text/plain": [
       "Epoch 4:   0%|          | 0/704 [00:00<?, ?it/s]"
      ]
     },
     "metadata": {},
     "output_type": "display_data"
    },
    {
     "name": "stdout",
     "output_type": "stream",
     "text": [
      "\n",
      "Epoch 4\n",
      "Training loss: 0.05903648101155506\n",
      "Validation loss: 0.006674822643133988\n",
      "F1 Score (weighted): 0.9988000132580995\n",
      "\u001b[91m2.09% Training loss increased compared to the previous epoch\u001b[0m\n",
      "\u001b[92m0.02% Validation loss decreased compared to the previous epoch\u001b[0m\n"
     ]
    },
    {
     "data": {
      "application/vnd.jupyter.widget-view+json": {
       "model_id": "",
       "version_major": 2,
       "version_minor": 0
      },
      "text/plain": [
       "Epoch 5:   0%|          | 0/704 [00:00<?, ?it/s]"
      ]
     },
     "metadata": {},
     "output_type": "display_data"
    },
    {
     "name": "stdout",
     "output_type": "stream",
     "text": [
      "\n",
      "Epoch 5\n",
      "Training loss: 0.06772660151554274\n",
      "Validation loss: 0.006675644772557565\n",
      "F1 Score (weighted): 0.9988000132580995\n",
      "\u001b[91m14.72% Training loss increased compared to the previous epoch\u001b[0m\n",
      "\u001b[91m0.01% Validation loss increased compared to the previous epoch\u001b[0m\n"
     ]
    },
    {
     "data": {
      "application/vnd.jupyter.widget-view+json": {
       "model_id": "",
       "version_major": 2,
       "version_minor": 0
      },
      "text/plain": [
       "Epoch 6:   0%|          | 0/704 [00:00<?, ?it/s]"
      ]
     },
     "metadata": {},
     "output_type": "display_data"
    },
    {
     "name": "stdout",
     "output_type": "stream",
     "text": [
      "\n",
      "Epoch 6\n",
      "Training loss: 0.0588479994023394\n",
      "Validation loss: 0.006677331624676391\n",
      "F1 Score (weighted): 0.9988000132580995\n",
      "\u001b[92m13.11% Training loss decreased compared to the previous epoch\u001b[0m\n",
      "\u001b[91m0.03% Validation loss increased compared to the previous epoch\u001b[0m\n"
     ]
    },
    {
     "data": {
      "application/vnd.jupyter.widget-view+json": {
       "model_id": "",
       "version_major": 2,
       "version_minor": 0
      },
      "text/plain": [
       "Epoch 7:   0%|          | 0/704 [00:00<?, ?it/s]"
      ]
     },
     "metadata": {},
     "output_type": "display_data"
    },
    {
     "name": "stdout",
     "output_type": "stream",
     "text": [
      "\n",
      "Epoch 7\n",
      "Training loss: 0.05846748811952487\n",
      "Validation loss: 0.006677492015149232\n",
      "F1 Score (weighted): 0.9988000132580995\n",
      "\u001b[92m0.65% Training loss decreased compared to the previous epoch\u001b[0m\n",
      "\u001b[91m0.0% Validation loss increased compared to the previous epoch\u001b[0m\n"
     ]
    },
    {
     "data": {
      "application/vnd.jupyter.widget-view+json": {
       "model_id": "",
       "version_major": 2,
       "version_minor": 0
      },
      "text/plain": [
       "Epoch 8:   0%|          | 0/704 [00:00<?, ?it/s]"
      ]
     },
     "metadata": {},
     "output_type": "display_data"
    },
    {
     "name": "stdout",
     "output_type": "stream",
     "text": [
      "\n",
      "Epoch 8\n",
      "Training loss: 0.063144782782398\n",
      "Validation loss: 0.0066767969268928225\n",
      "F1 Score (weighted): 0.9988000132580995\n",
      "\u001b[91m8.0% Training loss increased compared to the previous epoch\u001b[0m\n",
      "\u001b[92m0.01% Validation loss decreased compared to the previous epoch\u001b[0m\n"
     ]
    },
    {
     "data": {
      "application/vnd.jupyter.widget-view+json": {
       "model_id": "",
       "version_major": 2,
       "version_minor": 0
      },
      "text/plain": [
       "Epoch 9:   0%|          | 0/704 [00:00<?, ?it/s]"
      ]
     },
     "metadata": {},
     "output_type": "display_data"
    },
    {
     "name": "stdout",
     "output_type": "stream",
     "text": [
      "\n",
      "Epoch 9\n",
      "Training loss: 0.06350788668375819\n",
      "Validation loss: 0.006675892604936409\n",
      "F1 Score (weighted): 0.9988000132580995\n",
      "\u001b[91m0.58% Training loss increased compared to the previous epoch\u001b[0m\n",
      "\u001b[92m0.01% Validation loss decreased compared to the previous epoch\u001b[0m\n"
     ]
    },
    {
     "data": {
      "application/vnd.jupyter.widget-view+json": {
       "model_id": "",
       "version_major": 2,
       "version_minor": 0
      },
      "text/plain": [
       "Epoch 10:   0%|          | 0/704 [00:00<?, ?it/s]"
      ]
     },
     "metadata": {},
     "output_type": "display_data"
    },
    {
     "name": "stdout",
     "output_type": "stream",
     "text": [
      "\n",
      "Epoch 10\n",
      "Training loss: 0.06694508350268404\n",
      "Validation loss: 0.006681062904101078\n",
      "F1 Score (weighted): 0.9988000132580995\n",
      "\u001b[91m5.41% Training loss increased compared to the previous epoch\u001b[0m\n",
      "\u001b[91m0.08% Validation loss increased compared to the previous epoch\u001b[0m\n"
     ]
    },
    {
     "data": {
      "application/vnd.jupyter.widget-view+json": {
       "model_id": "",
       "version_major": 2,
       "version_minor": 0
      },
      "text/plain": [
       "Epoch 11:   0%|          | 0/704 [00:00<?, ?it/s]"
      ]
     },
     "metadata": {},
     "output_type": "display_data"
    },
    {
     "name": "stdout",
     "output_type": "stream",
     "text": [
      "\n",
      "Epoch 11\n",
      "Training loss: 0.058530129440193625\n",
      "Validation loss: 0.02731746471637294\n",
      "F1 Score (weighted): 0.9988000132580995\n",
      "\u001b[92m12.57% Training loss decreased compared to the previous epoch\u001b[0m\n",
      "\u001b[91m308.88% Validation loss increased compared to the previous epoch\u001b[0m\n"
     ]
    },
    {
     "data": {
      "application/vnd.jupyter.widget-view+json": {
       "model_id": "",
       "version_major": 2,
       "version_minor": 0
      },
      "text/plain": [
       "Epoch 12:   0%|          | 0/704 [00:00<?, ?it/s]"
      ]
     },
     "metadata": {},
     "output_type": "display_data"
    },
    {
     "name": "stdout",
     "output_type": "stream",
     "text": [
      "\n",
      "Epoch 12\n",
      "Training loss: 0.05844045064350212\n",
      "Validation loss: 0.006678801785146558\n",
      "F1 Score (weighted): 0.9988000132580995\n",
      "\u001b[92m0.15% Training loss decreased compared to the previous epoch\u001b[0m\n",
      "\u001b[92m75.55% Validation loss decreased compared to the previous epoch\u001b[0m\n"
     ]
    },
    {
     "data": {
      "application/vnd.jupyter.widget-view+json": {
       "model_id": "",
       "version_major": 2,
       "version_minor": 0
      },
      "text/plain": [
       "Epoch 13:   0%|          | 0/704 [00:00<?, ?it/s]"
      ]
     },
     "metadata": {},
     "output_type": "display_data"
    },
    {
     "name": "stdout",
     "output_type": "stream",
     "text": [
      "\n",
      "Epoch 13\n",
      "Training loss: 0.06145596178475898\n",
      "Validation loss: 0.006675443064960757\n",
      "F1 Score (weighted): 0.9988000132580995\n",
      "\u001b[91m5.16% Training loss increased compared to the previous epoch\u001b[0m\n",
      "\u001b[92m0.05% Validation loss decreased compared to the previous epoch\u001b[0m\n"
     ]
    },
    {
     "data": {
      "application/vnd.jupyter.widget-view+json": {
       "model_id": "",
       "version_major": 2,
       "version_minor": 0
      },
      "text/plain": [
       "Epoch 14:   0%|          | 0/704 [00:00<?, ?it/s]"
      ]
     },
     "metadata": {},
     "output_type": "display_data"
    },
    {
     "name": "stdout",
     "output_type": "stream",
     "text": [
      "\n",
      "Epoch 14\n",
      "Training loss: 0.06001276359980197\n",
      "Validation loss: 0.006675069726181299\n",
      "F1 Score (weighted): 0.9988000132580995\n",
      "\u001b[92m2.35% Training loss decreased compared to the previous epoch\u001b[0m\n",
      "\u001b[92m0.01% Validation loss decreased compared to the previous epoch\u001b[0m\n",
      "\n",
      "Early stopping triggered. Training stopped.\n",
      "\n",
      "Total training time: 28.347691758473715 minutes\n",
      "Final Accuracy: 0.9988\n",
      "Final Precision: 0.9988003463682571\n"
     ]
    },
    {
     "data": {
      "image/png": "[encoded data removed]",
      "text/plain": [
       "<Figure size 800x600 with 1 Axes>"
      ]
     },
     "metadata": {},
     "output_type": "display_data"
    },
    {
     "name": "stdout",
     "output_type": "stream",
     "text": [
      "Epoch                 Training Loss         Validation Loss        F1 Score            Accuracy              Precision\n",
      "--------------------  --------------------  ---------------------  ------------------  ------------------  -----------\n",
      "1                     0.06631869244583041   0.006677602857640131   0.9988000132580995  0.9988                   0.9988\n",
      "2                     \u001b[92m0.06349185883275575\u001b[0m   \u001b[91m0.006681868097674149\u001b[0m   0.9988000132580995  \u001b[91m0.9988000132580995\u001b[0m       \u001b[92m0.9988\u001b[0m\n",
      "3                     \u001b[92m0.05782666738605258\u001b[0m   \u001b[92m0.006675946842687488\u001b[0m   0.9988000132580995  \u001b[91m0.9988000132580995\u001b[0m       \u001b[92m0.9988\u001b[0m\n",
      "4                     \u001b[91m0.05903648101155506\u001b[0m   \u001b[92m0.006674822643133988\u001b[0m   0.9988000132580995  \u001b[91m0.9988000132580995\u001b[0m       \u001b[92m0.9988\u001b[0m\n",
      "5                     \u001b[91m0.06772660151554274\u001b[0m   \u001b[91m0.006675644772557565\u001b[0m   0.9988000132580995  \u001b[91m0.9988000132580995\u001b[0m       \u001b[92m0.9988\u001b[0m\n",
      "6                     \u001b[92m0.0588479994023394\u001b[0m    \u001b[91m0.006677331624676391\u001b[0m   0.9988000132580995  \u001b[91m0.9988000132580995\u001b[0m       \u001b[92m0.9988\u001b[0m\n",
      "7                     \u001b[92m0.05846748811952487\u001b[0m   \u001b[91m0.006677492015149232\u001b[0m   0.9988000132580995  \u001b[91m0.9988000132580995\u001b[0m       \u001b[92m0.9988\u001b[0m\n",
      "8                     \u001b[91m0.063144782782398\u001b[0m     \u001b[92m0.0066767969268928225\u001b[0m  0.9988000132580995  \u001b[91m0.9988000132580995\u001b[0m       \u001b[92m0.9988\u001b[0m\n",
      "9                     \u001b[91m0.06350788668375819\u001b[0m   \u001b[92m0.006675892604936409\u001b[0m   0.9988000132580995  \u001b[91m0.9988000132580995\u001b[0m       \u001b[92m0.9988\u001b[0m\n",
      "10                    \u001b[91m0.06694508350268404\u001b[0m   \u001b[91m0.006681062904101078\u001b[0m   0.9988000132580995  \u001b[91m0.9988000132580995\u001b[0m       \u001b[92m0.9988\u001b[0m\n",
      "11                    \u001b[92m0.058530129440193625\u001b[0m  \u001b[91m0.02731746471637294\u001b[0m    0.9988000132580995  \u001b[91m0.9988000132580995\u001b[0m       \u001b[92m0.9988\u001b[0m\n",
      "12                    \u001b[92m0.05844045064350212\u001b[0m   \u001b[92m0.006678801785146558\u001b[0m   0.9988000132580995  \u001b[91m0.9988000132580995\u001b[0m       \u001b[92m0.9988\u001b[0m\n",
      "13                    \u001b[91m0.06145596178475898\u001b[0m   \u001b[92m0.006675443064960757\u001b[0m   0.9988000132580995  \u001b[91m0.9988000132580995\u001b[0m       \u001b[92m0.9988\u001b[0m\n",
      "14                    \u001b[92m0.06001276359980197\u001b[0m   \u001b[92m0.006675069726181299\u001b[0m   0.9988000132580995  \u001b[91m0.9988000132580995\u001b[0m       \u001b[92m0.9988\u001b[0m\n",
      "Total Training Time                                                                                          1700.86\n",
      "Final Precision                                                                                                 0.9988\n",
      "Total Time (minutes)                                                                                           28.3477\n",
      "\n",
      "Fold 10\n"
     ]
    },
    {
     "data": {
      "application/vnd.jupyter.widget-view+json": {
       "model_id": "eacc2d586059431997e766c0541919f1",
       "version_major": 2,
       "version_minor": 0
      },
      "text/plain": [
       "  0%|          | 0/50 [00:00<?, ?it/s]"
      ]
     },
     "metadata": {},
     "output_type": "display_data"
    },
    {
     "data": {
      "application/vnd.jupyter.widget-view+json": {
       "model_id": "",
       "version_major": 2,
       "version_minor": 0
      },
      "text/plain": [
       "Epoch 1:   0%|          | 0/704 [00:00<?, ?it/s]"
      ]
     },
     "metadata": {},
     "output_type": "display_data"
    },
    {
     "name": "stdout",
     "output_type": "stream",
     "text": [
      "\n",
      "Epoch 1\n",
      "Training loss: 0.05824083289107049\n",
      "Validation loss: 0.007691061291460514\n",
      "F1 Score (weighted): 0.9987999986559895\n"
     ]
    },
    {
     "data": {
      "application/vnd.jupyter.widget-view+json": {
       "model_id": "",
       "version_major": 2,
       "version_minor": 0
      },
      "text/plain": [
       "Epoch 2:   0%|          | 0/704 [00:00<?, ?it/s]"
      ]
     },
     "metadata": {},
     "output_type": "display_data"
    },
    {
     "name": "stdout",
     "output_type": "stream",
     "text": [
      "\n",
      "Epoch 2\n",
      "Training loss: 0.06510543366258306\n",
      "Validation loss: 0.007690076470887878\n",
      "F1 Score (weighted): 0.9987999986559895\n",
      "\u001b[91m11.79% Training loss increased compared to the previous epoch\u001b[0m\n",
      "\u001b[92m0.01% Validation loss decreased compared to the previous epoch\u001b[0m\n"
     ]
    },
    {
     "data": {
      "application/vnd.jupyter.widget-view+json": {
       "model_id": "",
       "version_major": 2,
       "version_minor": 0
      },
      "text/plain": [
       "Epoch 3:   0%|          | 0/704 [00:00<?, ?it/s]"
      ]
     },
     "metadata": {},
     "output_type": "display_data"
    },
    {
     "name": "stdout",
     "output_type": "stream",
     "text": [
      "\n",
      "Epoch 3\n",
      "Training loss: 0.06046910943624342\n",
      "Validation loss: 0.007690462510357906\n",
      "F1 Score (weighted): 0.9987999986559895\n",
      "\u001b[92m7.12% Training loss decreased compared to the previous epoch\u001b[0m\n",
      "\u001b[91m0.01% Validation loss increased compared to the previous epoch\u001b[0m\n"
     ]
    },
    {
     "data": {
      "application/vnd.jupyter.widget-view+json": {
       "model_id": "",
       "version_major": 2,
       "version_minor": 0
      },
      "text/plain": [
       "Epoch 4:   0%|          | 0/704 [00:00<?, ?it/s]"
      ]
     },
     "metadata": {},
     "output_type": "display_data"
    },
    {
     "name": "stdout",
     "output_type": "stream",
     "text": [
      "\n",
      "Epoch 4\n",
      "Training loss: 0.058707902427902976\n",
      "Validation loss: 0.0076900000416502785\n",
      "F1 Score (weighted): 0.9987999986559895\n",
      "\u001b[92m2.91% Training loss decreased compared to the previous epoch\u001b[0m\n",
      "\u001b[92m0.01% Validation loss decreased compared to the previous epoch\u001b[0m\n"
     ]
    },
    {
     "data": {
      "application/vnd.jupyter.widget-view+json": {
       "model_id": "",
       "version_major": 2,
       "version_minor": 0
      },
      "text/plain": [
       "Epoch 5:   0%|          | 0/704 [00:00<?, ?it/s]"
      ]
     },
     "metadata": {},
     "output_type": "display_data"
    },
    {
     "name": "stdout",
     "output_type": "stream",
     "text": [
      "\n",
      "Epoch 5\n",
      "Training loss: 0.06069559796403403\n",
      "Validation loss: 0.0076892932790738255\n",
      "F1 Score (weighted): 0.9987999986559895\n",
      "\u001b[91m3.39% Training loss increased compared to the previous epoch\u001b[0m\n",
      "\u001b[92m0.01% Validation loss decreased compared to the previous epoch\u001b[0m\n"
     ]
    },
    {
     "data": {
      "application/vnd.jupyter.widget-view+json": {
       "model_id": "",
       "version_major": 2,
       "version_minor": 0
      },
      "text/plain": [
       "Epoch 6:   0%|          | 0/704 [00:00<?, ?it/s]"
      ]
     },
     "metadata": {},
     "output_type": "display_data"
    },
    {
     "name": "stdout",
     "output_type": "stream",
     "text": [
      "\n",
      "Epoch 6\n",
      "Training loss: 0.06264035989306649\n",
      "Validation loss: 0.007688707008934285\n",
      "F1 Score (weighted): 0.9987999986559895\n",
      "\u001b[91m3.2% Training loss increased compared to the previous epoch\u001b[0m\n",
      "\u001b[92m0.01% Validation loss decreased compared to the previous epoch\u001b[0m\n"
     ]
    },
    {
     "data": {
      "application/vnd.jupyter.widget-view+json": {
       "model_id": "",
       "version_major": 2,
       "version_minor": 0
      },
      "text/plain": [
       "Epoch 7:   0%|          | 0/704 [00:00<?, ?it/s]"
      ]
     },
     "metadata": {},
     "output_type": "display_data"
    },
    {
     "name": "stdout",
     "output_type": "stream",
     "text": [
      "\n",
      "Epoch 7\n",
      "Training loss: 0.058986099340555403\n",
      "Validation loss: 0.007689314548079443\n",
      "F1 Score (weighted): 0.9987999986559895\n",
      "\u001b[92m5.83% Training loss decreased compared to the previous epoch\u001b[0m\n",
      "\u001b[91m0.01% Validation loss increased compared to the previous epoch\u001b[0m\n"
     ]
    },
    {
     "data": {
      "application/vnd.jupyter.widget-view+json": {
       "model_id": "",
       "version_major": 2,
       "version_minor": 0
      },
      "text/plain": [
       "Epoch 8:   0%|          | 0/704 [00:00<?, ?it/s]"
      ]
     },
     "metadata": {},
     "output_type": "display_data"
    },
    {
     "name": "stdout",
     "output_type": "stream",
     "text": [
      "\n",
      "Epoch 8\n",
      "Training loss: 0.05937407658778036\n",
      "Validation loss: 0.007688318164076043\n",
      "F1 Score (weighted): 0.9987999986559895\n",
      "\u001b[91m0.66% Training loss increased compared to the previous epoch\u001b[0m\n",
      "\u001b[92m0.01% Validation loss decreased compared to the previous epoch\u001b[0m\n"
     ]
    },
    {
     "data": {
      "application/vnd.jupyter.widget-view+json": {
       "model_id": "",
       "version_major": 2,
       "version_minor": 0
      },
      "text/plain": [
       "Epoch 9:   0%|          | 0/704 [00:00<?, ?it/s]"
      ]
     },
     "metadata": {},
     "output_type": "display_data"
    },
    {
     "name": "stdout",
     "output_type": "stream",
     "text": [
      "\n",
      "Epoch 9\n",
      "Training loss: 0.05940546815744793\n",
      "Validation loss: 0.007689361149943257\n",
      "F1 Score (weighted): 0.9987999986559895\n",
      "\u001b[91m0.05% Training loss increased compared to the previous epoch\u001b[0m\n",
      "\u001b[91m0.01% Validation loss increased compared to the previous epoch\u001b[0m\n"
     ]
    },
    {
     "data": {
      "application/vnd.jupyter.widget-view+json": {
       "model_id": "",
       "version_major": 2,
       "version_minor": 0
      },
      "text/plain": [
       "Epoch 10:   0%|          | 0/704 [00:00<?, ?it/s]"
      ]
     },
     "metadata": {},
     "output_type": "display_data"
    },
    {
     "name": "stdout",
     "output_type": "stream",
     "text": [
      "\n",
      "Epoch 10\n",
      "Training loss: 0.05897153078587342\n",
      "Validation loss: 0.007690025698703042\n",
      "F1 Score (weighted): 0.9987999986559895\n",
      "\u001b[92m0.73% Training loss decreased compared to the previous epoch\u001b[0m\n",
      "\u001b[91m0.01% Validation loss increased compared to the previous epoch\u001b[0m\n"
     ]
    },
    {
     "data": {
      "application/vnd.jupyter.widget-view+json": {
       "model_id": "",
       "version_major": 2,
       "version_minor": 0
      },
      "text/plain": [
       "Epoch 11:   0%|          | 0/704 [00:00<?, ?it/s]"
      ]
     },
     "metadata": {},
     "output_type": "display_data"
    },
    {
     "name": "stdout",
     "output_type": "stream",
     "text": [
      "\n",
      "Epoch 11\n",
      "Training loss: 0.0639155902448775\n",
      "Validation loss: 0.007693459475457173\n",
      "F1 Score (weighted): 0.9987999986559895\n",
      "\u001b[91m8.38% Training loss increased compared to the previous epoch\u001b[0m\n",
      "\u001b[91m0.04% Validation loss increased compared to the previous epoch\u001b[0m\n"
     ]
    },
    {
     "data": {
      "application/vnd.jupyter.widget-view+json": {
       "model_id": "",
       "version_major": 2,
       "version_minor": 0
      },
      "text/plain": [
       "Epoch 12:   0%|          | 0/704 [00:00<?, ?it/s]"
      ]
     },
     "metadata": {},
     "output_type": "display_data"
    },
    {
     "name": "stdout",
     "output_type": "stream",
     "text": [
      "\n",
      "Epoch 12\n",
      "Training loss: 0.06300526099585113\n",
      "Validation loss: 0.007691315940766937\n",
      "F1 Score (weighted): 0.9987999986559895\n",
      "\u001b[92m1.42% Training loss decreased compared to the previous epoch\u001b[0m\n",
      "\u001b[92m0.03% Validation loss decreased compared to the previous epoch\u001b[0m\n"
     ]
    },
    {
     "data": {
      "application/vnd.jupyter.widget-view+json": {
       "model_id": "",
       "version_major": 2,
       "version_minor": 0
      },
      "text/plain": [
       "Epoch 13:   0%|          | 0/704 [00:00<?, ?it/s]"
      ]
     },
     "metadata": {},
     "output_type": "display_data"
    },
    {
     "name": "stdout",
     "output_type": "stream",
     "text": [
      "\n",
      "Epoch 13\n",
      "Training loss: 0.06654049789540295\n",
      "Validation loss: 0.007689582695668752\n",
      "F1 Score (weighted): 0.9987999986559895\n",
      "\u001b[91m5.61% Training loss increased compared to the previous epoch\u001b[0m\n",
      "\u001b[92m0.02% Validation loss decreased compared to the previous epoch\u001b[0m\n"
     ]
    },
    {
     "data": {
      "application/vnd.jupyter.widget-view+json": {
       "model_id": "",
       "version_major": 2,
       "version_minor": 0
      },
      "text/plain": [
       "Epoch 14:   0%|          | 0/704 [00:00<?, ?it/s]"
      ]
     },
     "metadata": {},
     "output_type": "display_data"
    },
    {
     "name": "stdout",
     "output_type": "stream",
     "text": [
      "\n",
      "Epoch 14\n",
      "Training loss: 0.05777905996985117\n",
      "Validation loss: 0.007689403483859275\n",
      "F1 Score (weighted): 0.9987999986559895\n",
      "\u001b[92m13.17% Training loss decreased compared to the previous epoch\u001b[0m\n",
      "\u001b[92m0.0% Validation loss decreased compared to the previous epoch\u001b[0m\n"
     ]
    },
    {
     "data": {
      "application/vnd.jupyter.widget-view+json": {
       "model_id": "",
       "version_major": 2,
       "version_minor": 0
      },
      "text/plain": [
       "Epoch 15:   0%|          | 0/704 [00:00<?, ?it/s]"
      ]
     },
     "metadata": {},
     "output_type": "display_data"
    },
    {
     "name": "stdout",
     "output_type": "stream",
     "text": [
      "\n",
      "Epoch 15\n",
      "Training loss: 0.05977601698962396\n",
      "Validation loss: 0.007689560736276068\n",
      "F1 Score (weighted): 0.9987999986559895\n",
      "\u001b[91m3.46% Training loss increased compared to the previous epoch\u001b[0m\n",
      "\u001b[91m0.0% Validation loss increased compared to the previous epoch\u001b[0m\n"
     ]
    },
    {
     "data": {
      "application/vnd.jupyter.widget-view+json": {
       "model_id": "",
       "version_major": 2,
       "version_minor": 0
      },
      "text/plain": [
       "Epoch 16:   0%|          | 0/704 [00:00<?, ?it/s]"
      ]
     },
     "metadata": {},
     "output_type": "display_data"
    },
    {
     "name": "stdout",
     "output_type": "stream",
     "text": [
      "\n",
      "Epoch 16\n",
      "Training loss: 0.05964730139922639\n",
      "Validation loss: 0.007689494248391188\n",
      "F1 Score (weighted): 0.9987999986559895\n",
      "\u001b[92m0.22% Training loss decreased compared to the previous epoch\u001b[0m\n",
      "\u001b[92m0.0% Validation loss decreased compared to the previous epoch\u001b[0m\n"
     ]
    },
    {
     "data": {
      "application/vnd.jupyter.widget-view+json": {
       "model_id": "",
       "version_major": 2,
       "version_minor": 0
      },
      "text/plain": [
       "Epoch 17:   0%|          | 0/704 [00:00<?, ?it/s]"
      ]
     },
     "metadata": {},
     "output_type": "display_data"
    },
    {
     "name": "stdout",
     "output_type": "stream",
     "text": [
      "\n",
      "Epoch 17\n",
      "Training loss: 0.06083141684732916\n",
      "Validation loss: 0.007689963473608317\n",
      "F1 Score (weighted): 0.9987999986559895\n",
      "\u001b[91m1.99% Training loss increased compared to the previous epoch\u001b[0m\n",
      "\u001b[91m0.01% Validation loss increased compared to the previous epoch\u001b[0m\n"
     ]
    },
    {
     "data": {
      "application/vnd.jupyter.widget-view+json": {
       "model_id": "",
       "version_major": 2,
       "version_minor": 0
      },
      "text/plain": [
       "Epoch 18:   0%|          | 0/704 [00:00<?, ?it/s]"
      ]
     },
     "metadata": {},
     "output_type": "display_data"
    },
    {
     "name": "stdout",
     "output_type": "stream",
     "text": [
      "\n",
      "Epoch 18\n",
      "Training loss: 0.06722679395699577\n",
      "Validation loss: 0.007690527927663908\n",
      "F1 Score (weighted): 0.9987999986559895\n",
      "\u001b[91m10.51% Training loss increased compared to the previous epoch\u001b[0m\n",
      "\u001b[91m0.01% Validation loss increased compared to the previous epoch\u001b[0m\n",
      "\n",
      "Early stopping triggered. Training stopped.\n",
      "\n",
      "Total training time: 36.397864723205565 minutes\n",
      "Final Accuracy: 0.9988\n",
      "Final Precision: 0.9988003169312453\n"
     ]
    },
    {
     "data": {
      "image/png": "[encoded data removed]",
      "text/plain": [
       "<Figure size 800x600 with 1 Axes>"
      ]
     },
     "metadata": {},
     "output_type": "display_data"
    },
    {
     "name": "stdout",
     "output_type": "stream",
     "text": [
      "Epoch                 Training Loss         Validation Loss        F1 Score            Accuracy              Precision\n",
      "--------------------  --------------------  ---------------------  ------------------  ------------------  -----------\n",
      "1                     0.05824083289107049   0.007691061291460514   0.9987999986559895  0.9988                   0.9988\n",
      "2                     \u001b[91m0.06510543366258306\u001b[0m   \u001b[92m0.007690076470887878\u001b[0m   0.9987999986559895  \u001b[92m0.9987999986559895\u001b[0m       \u001b[92m0.9988\u001b[0m\n",
      "3                     \u001b[92m0.06046910943624342\u001b[0m   \u001b[91m0.007690462510357906\u001b[0m   0.9987999986559895  \u001b[92m0.9987999986559895\u001b[0m       \u001b[92m0.9988\u001b[0m\n",
      "4                     \u001b[92m0.058707902427902976\u001b[0m  \u001b[92m0.0076900000416502785\u001b[0m  0.9987999986559895  \u001b[92m0.9987999986559895\u001b[0m       \u001b[92m0.9988\u001b[0m\n",
      "5                     \u001b[91m0.06069559796403403\u001b[0m   \u001b[92m0.0076892932790738255\u001b[0m  0.9987999986559895  \u001b[92m0.9987999986559895\u001b[0m       \u001b[92m0.9988\u001b[0m\n",
      "6                     \u001b[91m0.06264035989306649\u001b[0m   \u001b[92m0.007688707008934285\u001b[0m   0.9987999986559895  \u001b[92m0.9987999986559895\u001b[0m       \u001b[92m0.9988\u001b[0m\n",
      "7                     \u001b[92m0.058986099340555403\u001b[0m  \u001b[91m0.007689314548079443\u001b[0m   0.9987999986559895  \u001b[92m0.9987999986559895\u001b[0m       \u001b[92m0.9988\u001b[0m\n",
      "8                     \u001b[91m0.05937407658778036\u001b[0m   \u001b[92m0.007688318164076043\u001b[0m   0.9987999986559895  \u001b[92m0.9987999986559895\u001b[0m       \u001b[92m0.9988\u001b[0m\n",
      "9                     \u001b[91m0.05940546815744793\u001b[0m   \u001b[91m0.007689361149943257\u001b[0m   0.9987999986559895  \u001b[92m0.9987999986559895\u001b[0m       \u001b[92m0.9988\u001b[0m\n",
      "10                    \u001b[92m0.05897153078587342\u001b[0m   \u001b[91m0.007690025698703042\u001b[0m   0.9987999986559895  \u001b[92m0.9987999986559895\u001b[0m       \u001b[92m0.9988\u001b[0m\n",
      "11                    \u001b[91m0.0639155902448775\u001b[0m    \u001b[91m0.007693459475457173\u001b[0m   0.9987999986559895  \u001b[92m0.9987999986559895\u001b[0m       \u001b[92m0.9988\u001b[0m\n",
      "12                    \u001b[92m0.06300526099585113\u001b[0m   \u001b[92m0.007691315940766937\u001b[0m   0.9987999986559895  \u001b[92m0.9987999986559895\u001b[0m       \u001b[92m0.9988\u001b[0m\n",
      "13                    \u001b[91m0.06654049789540295\u001b[0m   \u001b[92m0.007689582695668752\u001b[0m   0.9987999986559895  \u001b[92m0.9987999986559895\u001b[0m       \u001b[92m0.9988\u001b[0m\n",
      "14                    \u001b[92m0.05777905996985117\u001b[0m   \u001b[92m0.007689403483859275\u001b[0m   0.9987999986559895  \u001b[92m0.9987999986559895\u001b[0m       \u001b[92m0.9988\u001b[0m\n",
      "15                    \u001b[91m0.05977601698962396\u001b[0m   \u001b[91m0.007689560736276068\u001b[0m   0.9987999986559895  \u001b[92m0.9987999986559895\u001b[0m       \u001b[92m0.9988\u001b[0m\n",
      "16                    \u001b[92m0.05964730139922639\u001b[0m   \u001b[92m0.007689494248391188\u001b[0m   0.9987999986559895  \u001b[92m0.9987999986559895\u001b[0m       \u001b[92m0.9988\u001b[0m\n",
      "17                    \u001b[91m0.06083141684732916\u001b[0m   \u001b[91m0.007689963473608317\u001b[0m   0.9987999986559895  \u001b[92m0.9987999986559895\u001b[0m       \u001b[92m0.9988\u001b[0m\n",
      "18                    \u001b[91m0.06722679395699577\u001b[0m   \u001b[91m0.007690527927663908\u001b[0m   0.9987999986559895  \u001b[92m0.9987999986559895\u001b[0m       \u001b[92m0.9988\u001b[0m\n",
      "Total Training Time                                                                                          2183.87\n",
      "Final Precision                                                                                                 0.9988\n",
      "Total Time (minutes)                                                                                           36.3979\n"
     ]
    }
   ],
   "source": [
    "from torch.utils.data import DataLoader, SubsetRandomSampler\n",
    "from sklearn.model_selection import KFold\n",
    "\n",
    "k = 10  # Number of folds\n",
    "kf = KFold(n_splits=k, shuffle=True, random_state=42)\n",
    "\n",
    "# Convert the multilabel indicator target to numpy array\n",
    "targets = dataset_train.tensors[1].numpy()\n",
    "\n",
    "# Initialize lists to store the evaluation metrics for each fold\n",
    "training_loss_lists = []\n",
    "validation_loss_lists = []\n",
    "accuracy_lists = []\n",
    "precision_lists = []\n",
    "f1_score_lists = []\n",
    "\n",
    "# Perform multilabel k-fold cross-validation\n",
    "for fold, (train_index, val_index) in enumerate(kf.split(targets)):\n",
    "    print(f\"\\nFold {fold+1}\")\n",
    "    train_sampler = SubsetRandomSampler(train_index)\n",
    "    val_sampler = SubsetRandomSampler(val_index)\n",
    "\n",
    "    # Create data loaders for training and validation\n",
    "    dataloader_train = DataLoader(dataset_train, batch_size=batch_size, sampler=train_sampler)\n",
    "    dataloader_vals = DataLoader(dataset_train, batch_size=batch_size, sampler=val_sampler)\n",
    "\n",
    "    # Initialize metrics lists for this fold\n",
    "    fold_training_loss_list = []\n",
    "    fold_validation_loss_list = []\n",
    "    fold_accuracy_list = []\n",
    "    fold_precision_list = []\n",
    "    fold_f1_score_list = []\n",
    "\n",
    "    try:\n",
    "        fold_training_loss_list, fold_validation_loss_list, fold_accuracy_list, fold_precision_list, fold_f1_score_list = \\\n",
    "        train_model(trainer, dataloader_train, dataloader_vals, epochs, patience)\n",
    "    except Exception as e:\n",
    "        print(f\"Continue to the next fold {fold+1}: {str(e)}\")\n",
    "        continue\n",
    "\n",
    "    # Append the metrics for this fold to the overall lists\n",
    "    training_loss_lists.append(fold_training_loss_list)\n",
    "    validation_loss_lists.append(fold_validation_loss_list)\n",
    "    accuracy_lists.append(fold_accuracy_list)\n",
    "    precision_lists.append(fold_precision_list)\n",
    "    f1_score_lists.append(fold_f1_score_list)"
   ]
  },
  {
   "cell_type": "code",
   "execution_count": 20,
   "id": "f24429e4-743b-4a11-80d6-5e2fadaabc9e",
   "metadata": {},
   "outputs": [
    {
     "name": "stdout",
     "output_type": "stream",
     "text": [
      "Class: 0\n",
      "Accuracy: 10747/12500 (85.98%)\n",
      "F1 Score: 0.85\n",
      "\n",
      "Class: 1\n",
      "Accuracy: 10472/12500 (83.78%)\n",
      "F1 Score: 0.85\n",
      "\n",
      "Total Accuracy: 84.88%\n",
      "Total F1 Score: 0.85\n"
     ]
    }
   ],
   "source": [
    "import numpy as np\n",
    "from sklearn.metrics import accuracy_score, f1_score, confusion_matrix\n",
    "\n",
    "model.load_state_dict(\n",
    "    torch.load(\n",
    "        \"Models/finetuned_gpt_bert_imdb_ft_epoch24.model\", \n",
    "        map_location = torch.device('cuda')\n",
    "    )\n",
    ")\n",
    "_, predictions, true_vals = evaluate(dataloader_test)\n",
    "accuracy_per_class(predictions, true_vals, label_dict)"
   ]
  },
  {
   "cell_type": "code",
   "execution_count": 21,
   "id": "bba4c1e0-c1c8-49c0-9e52-d9df797db69f",
   "metadata": {},
   "outputs": [
    {
     "data": {
      "application/vnd.jupyter.widget-view+json": {
       "model_id": "f3b5db56351246a6beb99c66805f2fcf",
       "version_major": 2,
       "version_minor": 0
      },
      "text/plain": [
       "  0%|          | 0/50 [00:00<?, ?it/s]"
      ]
     },
     "metadata": {},
     "output_type": "display_data"
    },
    {
     "data": {
      "application/vnd.jupyter.widget-view+json": {
       "model_id": "",
       "version_major": 2,
       "version_minor": 0
      },
      "text/plain": [
       "Epoch 1:   0%|          | 0/704 [00:00<?, ?it/s]"
      ]
     },
     "metadata": {},
     "output_type": "display_data"
    },
    {
     "name": "stdout",
     "output_type": "stream",
     "text": [
      "\n",
      "Epoch 1\n",
      "Training loss: 0.06279415752557972\n",
      "Validation loss: 1.0013985411219937\n",
      "F1 Score (weighted): 0.8487416977454272\n"
     ]
    },
    {
     "data": {
      "application/vnd.jupyter.widget-view+json": {
       "model_id": "",
       "version_major": 2,
       "version_minor": 0
      },
      "text/plain": [
       "Epoch 2:   0%|          | 0/704 [00:00<?, ?it/s]"
      ]
     },
     "metadata": {},
     "output_type": "display_data"
    },
    {
     "name": "stdout",
     "output_type": "stream",
     "text": [
      "\n",
      "Epoch 2\n",
      "Training loss: 0.0655149109675635\n",
      "Validation loss: 1.0029638679505324\n",
      "F1 Score (weighted): 0.8487416977454272\n",
      "\u001b[91m4.33% Training loss increased compared to the previous epoch\u001b[0m\n",
      "\u001b[91m0.16% Validation loss increased compared to the previous epoch\u001b[0m\n"
     ]
    },
    {
     "data": {
      "application/vnd.jupyter.widget-view+json": {
       "model_id": "",
       "version_major": 2,
       "version_minor": 0
      },
      "text/plain": [
       "Epoch 3:   0%|          | 0/704 [00:00<?, ?it/s]"
      ]
     },
     "metadata": {},
     "output_type": "display_data"
    },
    {
     "name": "stdout",
     "output_type": "stream",
     "text": [
      "\n",
      "Epoch 3\n",
      "Training loss: 0.060473434370413255\n",
      "Validation loss: 1.0041043972897985\n",
      "F1 Score (weighted): 0.8487416977454272\n",
      "\u001b[92m7.7% Training loss decreased compared to the previous epoch\u001b[0m\n",
      "\u001b[91m0.11% Validation loss increased compared to the previous epoch\u001b[0m\n"
     ]
    },
    {
     "data": {
      "application/vnd.jupyter.widget-view+json": {
       "model_id": "",
       "version_major": 2,
       "version_minor": 0
      },
      "text/plain": [
       "Epoch 4:   0%|          | 0/704 [00:00<?, ?it/s]"
      ]
     },
     "metadata": {},
     "output_type": "display_data"
    },
    {
     "name": "stdout",
     "output_type": "stream",
     "text": [
      "\n",
      "Epoch 4\n",
      "Training loss: 0.06334590734278125\n",
      "Validation loss: 1.0024007479867512\n",
      "F1 Score (weighted): 0.8487416977454272\n",
      "\u001b[91m4.75% Training loss increased compared to the previous epoch\u001b[0m\n",
      "\u001b[92m0.17% Validation loss decreased compared to the previous epoch\u001b[0m\n"
     ]
    },
    {
     "data": {
      "application/vnd.jupyter.widget-view+json": {
       "model_id": "",
       "version_major": 2,
       "version_minor": 0
      },
      "text/plain": [
       "Epoch 5:   0%|          | 0/704 [00:00<?, ?it/s]"
      ]
     },
     "metadata": {},
     "output_type": "display_data"
    },
    {
     "name": "stdout",
     "output_type": "stream",
     "text": [
      "\n",
      "Epoch 5\n",
      "Training loss: 0.06646166624299936\n",
      "Validation loss: 1.0013984671824843\n",
      "F1 Score (weighted): 0.8487416977454272\n",
      "\u001b[91m4.92% Training loss increased compared to the previous epoch\u001b[0m\n",
      "\u001b[92m0.1% Validation loss decreased compared to the previous epoch\u001b[0m\n"
     ]
    },
    {
     "data": {
      "application/vnd.jupyter.widget-view+json": {
       "model_id": "",
       "version_major": 2,
       "version_minor": 0
      },
      "text/plain": [
       "Epoch 6:   0%|          | 0/704 [00:00<?, ?it/s]"
      ]
     },
     "metadata": {},
     "output_type": "display_data"
    },
    {
     "name": "stdout",
     "output_type": "stream",
     "text": [
      "\n",
      "Epoch 6\n",
      "Training loss: 0.05602177979728202\n",
      "Validation loss: 1.0019224180131043\n",
      "F1 Score (weighted): 0.8487416977454272\n",
      "\u001b[92m15.71% Training loss decreased compared to the previous epoch\u001b[0m\n",
      "\u001b[91m0.05% Validation loss increased compared to the previous epoch\u001b[0m\n"
     ]
    },
    {
     "data": {
      "application/vnd.jupyter.widget-view+json": {
       "model_id": "",
       "version_major": 2,
       "version_minor": 0
      },
      "text/plain": [
       "Epoch 7:   0%|          | 0/704 [00:00<?, ?it/s]"
      ]
     },
     "metadata": {},
     "output_type": "display_data"
    },
    {
     "name": "stdout",
     "output_type": "stream",
     "text": [
      "\n",
      "Epoch 7\n",
      "Training loss: 0.05793471818754948\n",
      "Validation loss: 1.0019832571141174\n",
      "F1 Score (weighted): 0.8487416977454272\n",
      "\u001b[91m3.41% Training loss increased compared to the previous epoch\u001b[0m\n",
      "\u001b[91m0.01% Validation loss increased compared to the previous epoch\u001b[0m\n"
     ]
    },
    {
     "data": {
      "application/vnd.jupyter.widget-view+json": {
       "model_id": "",
       "version_major": 2,
       "version_minor": 0
      },
      "text/plain": [
       "Epoch 8:   0%|          | 0/704 [00:00<?, ?it/s]"
      ]
     },
     "metadata": {},
     "output_type": "display_data"
    },
    {
     "name": "stdout",
     "output_type": "stream",
     "text": [
      "\n",
      "Epoch 8\n",
      "Training loss: 0.06485053303156912\n",
      "Validation loss: 1.0013984463928962\n",
      "F1 Score (weighted): 0.8487416977454272\n",
      "\u001b[91m11.94% Training loss increased compared to the previous epoch\u001b[0m\n",
      "\u001b[92m0.06% Validation loss decreased compared to the previous epoch\u001b[0m\n"
     ]
    },
    {
     "data": {
      "application/vnd.jupyter.widget-view+json": {
       "model_id": "",
       "version_major": 2,
       "version_minor": 0
      },
      "text/plain": [
       "Epoch 9:   0%|          | 0/704 [00:00<?, ?it/s]"
      ]
     },
     "metadata": {},
     "output_type": "display_data"
    },
    {
     "name": "stdout",
     "output_type": "stream",
     "text": [
      "\n",
      "Epoch 9\n",
      "Training loss: 0.06449957722448248\n",
      "Validation loss: 1.0030255009464282\n",
      "F1 Score (weighted): 0.8487416977454272\n",
      "\u001b[92m0.54% Training loss decreased compared to the previous epoch\u001b[0m\n",
      "\u001b[91m0.16% Validation loss increased compared to the previous epoch\u001b[0m\n"
     ]
    },
    {
     "data": {
      "application/vnd.jupyter.widget-view+json": {
       "model_id": "",
       "version_major": 2,
       "version_minor": 0
      },
      "text/plain": [
       "Epoch 10:   0%|          | 0/704 [00:00<?, ?it/s]"
      ]
     },
     "metadata": {},
     "output_type": "display_data"
    },
    {
     "name": "stdout",
     "output_type": "stream",
     "text": [
      "\n",
      "Epoch 10\n",
      "Training loss: 0.0639668287980054\n",
      "Validation loss: 1.002326639675874\n",
      "F1 Score (weighted): 0.8487416977454272\n",
      "\u001b[92m0.83% Training loss decreased compared to the previous epoch\u001b[0m\n",
      "\u001b[92m0.07% Validation loss decreased compared to the previous epoch\u001b[0m\n"
     ]
    },
    {
     "data": {
      "application/vnd.jupyter.widget-view+json": {
       "model_id": "",
       "version_major": 2,
       "version_minor": 0
      },
      "text/plain": [
       "Epoch 11:   0%|          | 0/704 [00:00<?, ?it/s]"
      ]
     },
     "metadata": {},
     "output_type": "display_data"
    },
    {
     "name": "stdout",
     "output_type": "stream",
     "text": [
      "\n",
      "Epoch 11\n",
      "Training loss: 0.06234736416974391\n",
      "Validation loss: 1.001399582867404\n",
      "F1 Score (weighted): 0.8487416977454272\n",
      "\u001b[92m2.53% Training loss decreased compared to the previous epoch\u001b[0m\n",
      "\u001b[92m0.09% Validation loss decreased compared to the previous epoch\u001b[0m\n"
     ]
    },
    {
     "data": {
      "application/vnd.jupyter.widget-view+json": {
       "model_id": "",
       "version_major": 2,
       "version_minor": 0
      },
      "text/plain": [
       "Epoch 12:   0%|          | 0/704 [00:00<?, ?it/s]"
      ]
     },
     "metadata": {},
     "output_type": "display_data"
    },
    {
     "name": "stdout",
     "output_type": "stream",
     "text": [
      "\n",
      "Epoch 12\n",
      "Training loss: 0.06639079800755678\n",
      "Validation loss: 1.0022389012616804\n",
      "F1 Score (weighted): 0.8487416977454272\n",
      "\u001b[91m6.49% Training loss increased compared to the previous epoch\u001b[0m\n",
      "\u001b[91m0.08% Validation loss increased compared to the previous epoch\u001b[0m\n"
     ]
    },
    {
     "data": {
      "application/vnd.jupyter.widget-view+json": {
       "model_id": "",
       "version_major": 2,
       "version_minor": 0
      },
      "text/plain": [
       "Epoch 13:   0%|          | 0/704 [00:00<?, ?it/s]"
      ]
     },
     "metadata": {},
     "output_type": "display_data"
    },
    {
     "name": "stdout",
     "output_type": "stream",
     "text": [
      "\n",
      "Epoch 13\n",
      "Training loss: 0.06367685705175642\n",
      "Validation loss: 1.0032894303003932\n",
      "F1 Score (weighted): 0.8487416977454272\n",
      "\u001b[92m4.09% Training loss decreased compared to the previous epoch\u001b[0m\n",
      "\u001b[91m0.1% Validation loss increased compared to the previous epoch\u001b[0m\n"
     ]
    },
    {
     "data": {
      "application/vnd.jupyter.widget-view+json": {
       "model_id": "",
       "version_major": 2,
       "version_minor": 0
      },
      "text/plain": [
       "Epoch 14:   0%|          | 0/704 [00:00<?, ?it/s]"
      ]
     },
     "metadata": {},
     "output_type": "display_data"
    },
    {
     "name": "stdout",
     "output_type": "stream",
     "text": [
      "\n",
      "Epoch 14\n",
      "Training loss: 0.06527529304102328\n",
      "Validation loss: 1.0013987661691863\n",
      "F1 Score (weighted): 0.8487416977454272\n",
      "\u001b[91m2.51% Training loss increased compared to the previous epoch\u001b[0m\n",
      "\u001b[92m0.19% Validation loss decreased compared to the previous epoch\u001b[0m\n"
     ]
    },
    {
     "data": {
      "application/vnd.jupyter.widget-view+json": {
       "model_id": "",
       "version_major": 2,
       "version_minor": 0
      },
      "text/plain": [
       "Epoch 15:   0%|          | 0/704 [00:00<?, ?it/s]"
      ]
     },
     "metadata": {},
     "output_type": "display_data"
    },
    {
     "name": "stdout",
     "output_type": "stream",
     "text": [
      "\n",
      "Epoch 15\n",
      "Training loss: 0.06221767594727432\n",
      "Validation loss: 1.001398364524156\n",
      "F1 Score (weighted): 0.8487416977454272\n",
      "\u001b[92m4.68% Training loss decreased compared to the previous epoch\u001b[0m\n",
      "\u001b[92m0.0% Validation loss decreased compared to the previous epoch\u001b[0m\n"
     ]
    },
    {
     "data": {
      "application/vnd.jupyter.widget-view+json": {
       "model_id": "",
       "version_major": 2,
       "version_minor": 0
      },
      "text/plain": [
       "Epoch 16:   0%|          | 0/704 [00:00<?, ?it/s]"
      ]
     },
     "metadata": {},
     "output_type": "display_data"
    },
    {
     "name": "stdout",
     "output_type": "stream",
     "text": [
      "\n",
      "Epoch 16\n",
      "Training loss: 0.06274995749808196\n",
      "Validation loss: 1.0033295499253556\n",
      "F1 Score (weighted): 0.8487416977454272\n",
      "\u001b[91m0.86% Training loss increased compared to the previous epoch\u001b[0m\n",
      "\u001b[91m0.19% Validation loss increased compared to the previous epoch\u001b[0m\n"
     ]
    },
    {
     "data": {
      "application/vnd.jupyter.widget-view+json": {
       "model_id": "",
       "version_major": 2,
       "version_minor": 0
      },
      "text/plain": [
       "Epoch 17:   0%|          | 0/704 [00:00<?, ?it/s]"
      ]
     },
     "metadata": {},
     "output_type": "display_data"
    },
    {
     "name": "stdout",
     "output_type": "stream",
     "text": [
      "\n",
      "Epoch 17\n",
      "Training loss: 0.06382721432956631\n",
      "Validation loss: 1.0021658734842875\n",
      "F1 Score (weighted): 0.8487416977454272\n",
      "\u001b[91m1.72% Training loss increased compared to the previous epoch\u001b[0m\n",
      "\u001b[92m0.12% Validation loss decreased compared to the previous epoch\u001b[0m\n"
     ]
    },
    {
     "data": {
      "application/vnd.jupyter.widget-view+json": {
       "model_id": "",
       "version_major": 2,
       "version_minor": 0
      },
      "text/plain": [
       "Epoch 18:   0%|          | 0/704 [00:00<?, ?it/s]"
      ]
     },
     "metadata": {},
     "output_type": "display_data"
    },
    {
     "name": "stdout",
     "output_type": "stream",
     "text": [
      "\n",
      "Epoch 18\n",
      "Training loss: 0.06288565644688954\n",
      "Validation loss: 1.0013983845352352\n",
      "F1 Score (weighted): 0.8487416977454272\n",
      "\u001b[92m1.48% Training loss decreased compared to the previous epoch\u001b[0m\n",
      "\u001b[92m0.08% Validation loss decreased compared to the previous epoch\u001b[0m\n"
     ]
    },
    {
     "data": {
      "application/vnd.jupyter.widget-view+json": {
       "model_id": "",
       "version_major": 2,
       "version_minor": 0
      },
      "text/plain": [
       "Epoch 19:   0%|          | 0/704 [00:00<?, ?it/s]"
      ]
     },
     "metadata": {},
     "output_type": "display_data"
    },
    {
     "name": "stdout",
     "output_type": "stream",
     "text": [
      "\n",
      "Epoch 19\n",
      "Training loss: 0.06108624647256213\n",
      "Validation loss: 1.0014427749921961\n",
      "F1 Score (weighted): 0.8487416977454272\n",
      "\u001b[92m2.86% Training loss decreased compared to the previous epoch\u001b[0m\n",
      "\u001b[91m0.0% Validation loss increased compared to the previous epoch\u001b[0m\n"
     ]
    },
    {
     "data": {
      "application/vnd.jupyter.widget-view+json": {
       "model_id": "",
       "version_major": 2,
       "version_minor": 0
      },
      "text/plain": [
       "Epoch 20:   0%|          | 0/704 [00:00<?, ?it/s]"
      ]
     },
     "metadata": {},
     "output_type": "display_data"
    },
    {
     "name": "stdout",
     "output_type": "stream",
     "text": [
      "\n",
      "Epoch 20\n",
      "Training loss: 0.0622194380567552\n",
      "Validation loss: 1.0022727654167332\n",
      "F1 Score (weighted): 0.8487416977454272\n",
      "\u001b[91m1.86% Training loss increased compared to the previous epoch\u001b[0m\n",
      "\u001b[91m0.08% Validation loss increased compared to the previous epoch\u001b[0m\n"
     ]
    },
    {
     "data": {
      "application/vnd.jupyter.widget-view+json": {
       "model_id": "",
       "version_major": 2,
       "version_minor": 0
      },
      "text/plain": [
       "Epoch 21:   0%|          | 0/704 [00:00<?, ?it/s]"
      ]
     },
     "metadata": {},
     "output_type": "display_data"
    },
    {
     "name": "stdout",
     "output_type": "stream",
     "text": [
      "\n",
      "Epoch 21\n",
      "Training loss: 0.06025499702458215\n",
      "Validation loss: 1.0022957487080348\n",
      "F1 Score (weighted): 0.8487416977454272\n",
      "\u001b[92m3.16% Training loss decreased compared to the previous epoch\u001b[0m\n",
      "\u001b[91m0.0% Validation loss increased compared to the previous epoch\u001b[0m\n"
     ]
    },
    {
     "data": {
      "application/vnd.jupyter.widget-view+json": {
       "model_id": "",
       "version_major": 2,
       "version_minor": 0
      },
      "text/plain": [
       "Epoch 22:   0%|          | 0/704 [00:00<?, ?it/s]"
      ]
     },
     "metadata": {},
     "output_type": "display_data"
    },
    {
     "name": "stdout",
     "output_type": "stream",
     "text": [
      "\n",
      "Epoch 22\n",
      "Training loss: 0.06373673195205563\n",
      "Validation loss: 1.0024141457199496\n",
      "F1 Score (weighted): 0.8487416977454272\n",
      "\u001b[91m5.78% Training loss increased compared to the previous epoch\u001b[0m\n",
      "\u001b[91m0.01% Validation loss increased compared to the previous epoch\u001b[0m\n"
     ]
    },
    {
     "data": {
      "application/vnd.jupyter.widget-view+json": {
       "model_id": "",
       "version_major": 2,
       "version_minor": 0
      },
      "text/plain": [
       "Epoch 23:   0%|          | 0/704 [00:00<?, ?it/s]"
      ]
     },
     "metadata": {},
     "output_type": "display_data"
    },
    {
     "name": "stdout",
     "output_type": "stream",
     "text": [
      "\n",
      "Epoch 23\n",
      "Training loss: 0.061100403723561285\n",
      "Validation loss: 1.0019312407582484\n",
      "F1 Score (weighted): 0.8487416977454272\n",
      "\u001b[92m4.14% Training loss decreased compared to the previous epoch\u001b[0m\n",
      "\u001b[92m0.05% Validation loss decreased compared to the previous epoch\u001b[0m\n"
     ]
    },
    {
     "data": {
      "application/vnd.jupyter.widget-view+json": {
       "model_id": "",
       "version_major": 2,
       "version_minor": 0
      },
      "text/plain": [
       "Epoch 24:   0%|          | 0/704 [00:00<?, ?it/s]"
      ]
     },
     "metadata": {},
     "output_type": "display_data"
    },
    {
     "name": "stdout",
     "output_type": "stream",
     "text": [
      "\n",
      "Epoch 24\n",
      "Training loss: 0.06439784634585521\n",
      "Validation loss: 1.002325313109586\n",
      "F1 Score (weighted): 0.8487416977454272\n",
      "\u001b[91m5.4% Training loss increased compared to the previous epoch\u001b[0m\n",
      "\u001b[91m0.04% Validation loss increased compared to the previous epoch\u001b[0m\n"
     ]
    },
    {
     "data": {
      "application/vnd.jupyter.widget-view+json": {
       "model_id": "",
       "version_major": 2,
       "version_minor": 0
      },
      "text/plain": [
       "Epoch 25:   0%|          | 0/704 [00:00<?, ?it/s]"
      ]
     },
     "metadata": {},
     "output_type": "display_data"
    },
    {
     "name": "stdout",
     "output_type": "stream",
     "text": [
      "\n",
      "Epoch 25\n",
      "Training loss: 0.06533225861242252\n",
      "Validation loss: 1.002504450577276\n",
      "F1 Score (weighted): 0.8487416977454272\n",
      "\u001b[91m1.45% Training loss increased compared to the previous epoch\u001b[0m\n",
      "\u001b[91m0.02% Validation loss increased compared to the previous epoch\u001b[0m\n",
      "\n",
      "Early stopping triggered. Training stopped.\n",
      "\n",
      "Total training time: 50.54878041346868 minutes\n",
      "Final Accuracy: 0.84876\n",
      "Final Precision: 0.8489288815786841\n"
     ]
    },
    {
     "data": {
      "image/png": "[encoded data removed]",
      "text/plain": [
       "<Figure size 800x600 with 1 Axes>"
      ]
     },
     "metadata": {},
     "output_type": "display_data"
    },
    {
     "name": "stdout",
     "output_type": "stream",
     "text": [
      "Epoch                 Training Loss         Validation Loss     F1 Score            Accuracy              Precision\n",
      "--------------------  --------------------  ------------------  ------------------  ------------------  -----------\n",
      "1                     0.06279415752557972   1.0013985411219937  0.8487416977454272  0.84876                0.848929\n",
      "2                     \u001b[91m0.0655149109675635\u001b[0m    \u001b[91m1.0029638679505324\u001b[0m  0.8487416977454272  \u001b[92m0.8487416977454272\u001b[0m     \u001b[92m0.848742\u001b[0m\n",
      "3                     \u001b[92m0.060473434370413255\u001b[0m  \u001b[91m1.0041043972897985\u001b[0m  0.8487416977454272  \u001b[92m0.8487416977454272\u001b[0m     \u001b[92m0.848742\u001b[0m\n",
      "4                     \u001b[91m0.06334590734278125\u001b[0m   \u001b[92m1.0024007479867512\u001b[0m  0.8487416977454272  \u001b[92m0.8487416977454272\u001b[0m     \u001b[92m0.848742\u001b[0m\n",
      "5                     \u001b[91m0.06646166624299936\u001b[0m   \u001b[92m1.0013984671824843\u001b[0m  0.8487416977454272  \u001b[92m0.8487416977454272\u001b[0m     \u001b[92m0.848742\u001b[0m\n",
      "6                     \u001b[92m0.05602177979728202\u001b[0m   \u001b[91m1.0019224180131043\u001b[0m  0.8487416977454272  \u001b[92m0.8487416977454272\u001b[0m     \u001b[92m0.848742\u001b[0m\n",
      "7                     \u001b[91m0.05793471818754948\u001b[0m   \u001b[91m1.0019832571141174\u001b[0m  0.8487416977454272  \u001b[92m0.8487416977454272\u001b[0m     \u001b[92m0.848742\u001b[0m\n",
      "8                     \u001b[91m0.06485053303156912\u001b[0m   \u001b[92m1.0013984463928962\u001b[0m  0.8487416977454272  \u001b[92m0.8487416977454272\u001b[0m     \u001b[92m0.848742\u001b[0m\n",
      "9                     \u001b[92m0.06449957722448248\u001b[0m   \u001b[91m1.0030255009464282\u001b[0m  0.8487416977454272  \u001b[92m0.8487416977454272\u001b[0m     \u001b[92m0.848742\u001b[0m\n",
      "10                    \u001b[92m0.0639668287980054\u001b[0m    \u001b[92m1.002326639675874\u001b[0m   0.8487416977454272  \u001b[92m0.8487416977454272\u001b[0m     \u001b[92m0.848742\u001b[0m\n",
      "11                    \u001b[92m0.06234736416974391\u001b[0m   \u001b[92m1.001399582867404\u001b[0m   0.8487416977454272  \u001b[92m0.8487416977454272\u001b[0m     \u001b[92m0.848742\u001b[0m\n",
      "12                    \u001b[91m0.06639079800755678\u001b[0m   \u001b[91m1.0022389012616804\u001b[0m  0.8487416977454272  \u001b[92m0.8487416977454272\u001b[0m     \u001b[92m0.848742\u001b[0m\n",
      "13                    \u001b[92m0.06367685705175642\u001b[0m   \u001b[91m1.0032894303003932\u001b[0m  0.8487416977454272  \u001b[92m0.8487416977454272\u001b[0m     \u001b[92m0.848742\u001b[0m\n",
      "14                    \u001b[91m0.06527529304102328\u001b[0m   \u001b[92m1.0013987661691863\u001b[0m  0.8487416977454272  \u001b[92m0.8487416977454272\u001b[0m     \u001b[92m0.848742\u001b[0m\n",
      "15                    \u001b[92m0.06221767594727432\u001b[0m   \u001b[92m1.001398364524156\u001b[0m   0.8487416977454272  \u001b[92m0.8487416977454272\u001b[0m     \u001b[92m0.848742\u001b[0m\n",
      "16                    \u001b[91m0.06274995749808196\u001b[0m   \u001b[91m1.0033295499253556\u001b[0m  0.8487416977454272  \u001b[92m0.8487416977454272\u001b[0m     \u001b[92m0.848742\u001b[0m\n",
      "17                    \u001b[91m0.06382721432956631\u001b[0m   \u001b[92m1.0021658734842875\u001b[0m  0.8487416977454272  \u001b[92m0.8487416977454272\u001b[0m     \u001b[92m0.848742\u001b[0m\n",
      "18                    \u001b[92m0.06288565644688954\u001b[0m   \u001b[92m1.0013983845352352\u001b[0m  0.8487416977454272  \u001b[92m0.8487416977454272\u001b[0m     \u001b[92m0.848742\u001b[0m\n",
      "19                    \u001b[92m0.06108624647256213\u001b[0m   \u001b[91m1.0014427749921961\u001b[0m  0.8487416977454272  \u001b[92m0.8487416977454272\u001b[0m     \u001b[92m0.848742\u001b[0m\n",
      "20                    \u001b[91m0.0622194380567552\u001b[0m    \u001b[91m1.0022727654167332\u001b[0m  0.8487416977454272  \u001b[92m0.8487416977454272\u001b[0m     \u001b[92m0.848742\u001b[0m\n",
      "21                    \u001b[92m0.06025499702458215\u001b[0m   \u001b[91m1.0022957487080348\u001b[0m  0.8487416977454272  \u001b[92m0.8487416977454272\u001b[0m     \u001b[92m0.848742\u001b[0m\n",
      "22                    \u001b[91m0.06373673195205563\u001b[0m   \u001b[91m1.0024141457199496\u001b[0m  0.8487416977454272  \u001b[92m0.8487416977454272\u001b[0m     \u001b[92m0.848742\u001b[0m\n",
      "23                    \u001b[92m0.061100403723561285\u001b[0m  \u001b[92m1.0019312407582484\u001b[0m  0.8487416977454272  \u001b[92m0.8487416977454272\u001b[0m     \u001b[92m0.848742\u001b[0m\n",
      "24                    \u001b[91m0.06439784634585521\u001b[0m   \u001b[91m1.002325313109586\u001b[0m   0.8487416977454272  \u001b[92m0.8487416977454272\u001b[0m     \u001b[92m0.848742\u001b[0m\n",
      "25                    \u001b[91m0.06533225861242252\u001b[0m   \u001b[91m1.002504450577276\u001b[0m   0.8487416977454272  \u001b[92m0.8487416977454272\u001b[0m     \u001b[92m0.848742\u001b[0m\n",
      "Total Training Time                                                                                     3032.93\n",
      "Final Precision                                                                                            0.848929\n",
      "Total Time (minutes)                                                                                      50.5488\n"
     ]
    },
    {
     "data": {
      "text/plain": [
       "([0.06279415752557972,\n",
       "  0.0655149109675635,\n",
       "  0.060473434370413255,\n",
       "  0.06334590734278125,\n",
       "  0.06646166624299936,\n",
       "  0.05602177979728202,\n",
       "  0.05793471818754948,\n",
       "  0.06485053303156912,\n",
       "  0.06449957722448248,\n",
       "  0.0639668287980054,\n",
       "  0.06234736416974391,\n",
       "  0.06639079800755678,\n",
       "  0.06367685705175642,\n",
       "  0.06527529304102328,\n",
       "  0.06221767594727432,\n",
       "  0.06274995749808196,\n",
       "  0.06382721432956631,\n",
       "  0.06288565644688954,\n",
       "  0.06108624647256213,\n",
       "  0.0622194380567552,\n",
       "  0.06025499702458215,\n",
       "  0.06373673195205563,\n",
       "  0.061100403723561285,\n",
       "  0.06439784634585521,\n",
       "  0.06533225861242252],\n",
       " [1.0013985411219937,\n",
       "  1.0029638679505324,\n",
       "  1.0041043972897985,\n",
       "  1.0024007479867512,\n",
       "  1.0013984671824843,\n",
       "  1.0019224180131043,\n",
       "  1.0019832571141174,\n",
       "  1.0013984463928962,\n",
       "  1.0030255009464282,\n",
       "  1.002326639675874,\n",
       "  1.001399582867404,\n",
       "  1.0022389012616804,\n",
       "  1.0032894303003932,\n",
       "  1.0013987661691863,\n",
       "  1.001398364524156,\n",
       "  1.0033295499253556,\n",
       "  1.0021658734842875,\n",
       "  1.0013983845352352,\n",
       "  1.0014427749921961,\n",
       "  1.0022727654167332,\n",
       "  1.0022957487080348,\n",
       "  1.0024141457199496,\n",
       "  1.0019312407582484,\n",
       "  1.002325313109586,\n",
       "  1.002504450577276],\n",
       " [0.84876,\n",
       "  0.84876,\n",
       "  0.84876,\n",
       "  0.84876,\n",
       "  0.84876,\n",
       "  0.84876,\n",
       "  0.84876,\n",
       "  0.84876,\n",
       "  0.84876,\n",
       "  0.84876,\n",
       "  0.84876,\n",
       "  0.84876,\n",
       "  0.84876,\n",
       "  0.84876,\n",
       "  0.84876,\n",
       "  0.84876,\n",
       "  0.84876,\n",
       "  0.84876,\n",
       "  0.84876,\n",
       "  0.84876,\n",
       "  0.84876,\n",
       "  0.84876,\n",
       "  0.84876,\n",
       "  0.84876,\n",
       "  0.84876],\n",
       " [0.8489288815786841,\n",
       "  0.8489288815786841,\n",
       "  0.8489288815786841,\n",
       "  0.8489288815786841,\n",
       "  0.8489288815786841,\n",
       "  0.8489288815786841,\n",
       "  0.8489288815786841,\n",
       "  0.8489288815786841,\n",
       "  0.8489288815786841,\n",
       "  0.8489288815786841,\n",
       "  0.8489288815786841,\n",
       "  0.8489288815786841,\n",
       "  0.8489288815786841,\n",
       "  0.8489288815786841,\n",
       "  0.8489288815786841,\n",
       "  0.8489288815786841,\n",
       "  0.8489288815786841,\n",
       "  0.8489288815786841,\n",
       "  0.8489288815786841,\n",
       "  0.8489288815786841,\n",
       "  0.8489288815786841,\n",
       "  0.8489288815786841,\n",
       "  0.8489288815786841,\n",
       "  0.8489288815786841,\n",
       "  0.8489288815786841],\n",
       " [0.8487416977454272,\n",
       "  0.8487416977454272,\n",
       "  0.8487416977454272,\n",
       "  0.8487416977454272,\n",
       "  0.8487416977454272,\n",
       "  0.8487416977454272,\n",
       "  0.8487416977454272,\n",
       "  0.8487416977454272,\n",
       "  0.8487416977454272,\n",
       "  0.8487416977454272,\n",
       "  0.8487416977454272,\n",
       "  0.8487416977454272,\n",
       "  0.8487416977454272,\n",
       "  0.8487416977454272,\n",
       "  0.8487416977454272,\n",
       "  0.8487416977454272,\n",
       "  0.8487416977454272,\n",
       "  0.8487416977454272,\n",
       "  0.8487416977454272,\n",
       "  0.8487416977454272,\n",
       "  0.8487416977454272,\n",
       "  0.8487416977454272,\n",
       "  0.8487416977454272,\n",
       "  0.8487416977454272,\n",
       "  0.8487416977454272])"
      ]
     },
     "execution_count": 21,
     "metadata": {},
     "output_type": "execute_result"
    }
   ],
   "source": [
    "train_model(trainer, dataloader_train, dataloader_test, epochs, patience)"
   ]
  }
 ],
 "metadata": {
  "kernelspec": {
   "display_name": "Python 3 (ipykernel)",
   "language": "python",
   "name": "python3"
  },
  "language_info": {
   "codemirror_mode": {
    "name": "ipython",
    "version": 3
   },
   "file_extension": ".py",
   "mimetype": "text/x-python",
   "name": "python",
   "nbconvert_exporter": "python",
   "pygments_lexer": "ipython3",
   "version": "3.10.9"
  }
 },
 "nbformat": 4,
 "nbformat_minor": 5
}

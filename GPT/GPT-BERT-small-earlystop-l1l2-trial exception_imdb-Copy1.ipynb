{
 "cells": [
  {
   "cell_type": "code",
   "execution_count": 1,
   "id": "c5bf24e9-d40b-45ad-9330-405d0097fe2e",
   "metadata": {
    "tags": []
   },
   "outputs": [
    {
     "name": "stderr",
     "output_type": "stream",
     "text": [
      "2023-07-19 13:28:46.293638: I tensorflow/core/util/port.cc:110] oneDNN custom operations are on. You may see slightly different numerical results due to floating-point round-off errors from different computation orders. To turn them off, set the environment variable `TF_ENABLE_ONEDNN_OPTS=0`.\n",
      "2023-07-19 13:28:46.318735: I tensorflow/core/platform/cpu_feature_guard.cc:182] This TensorFlow binary is optimized to use available CPU instructions in performance-critical operations.\n",
      "To enable the following instructions: AVX2 AVX_VNNI FMA, in other operations, rebuild TensorFlow with the appropriate compiler flags.\n",
      "2023-07-19 13:28:46.759650: W tensorflow/compiler/tf2tensorrt/utils/py_utils.cc:38] TF-TRT Warning: Could not find TensorRT\n"
     ]
    }
   ],
   "source": [
    "import torch\n",
    "import torch.nn as nn\n",
    "import pandas as pd\n",
    "from tqdm.notebook import tqdm  # For displaying progress bars\n",
    "from datasets import load_dataset  # For loading datasets\n",
    "from sklearn.model_selection import train_test_split  # For splitting the dataset\n",
    "from transformers import BertTokenizer  # For tokenizing text\n",
    "from torch.utils.data import TensorDataset  # For creating Tensor datasets\n",
    "import time  # For measuring time\n",
    "from sklearn.metrics import accuracy_score, precision_score, f1_score, recall_score  # For evaluation metrics\n",
    "from sklearn.exceptions import UndefinedMetricWarning  # For handling metric warnings\n",
    "import matplotlib.pyplot as plt  # For plotting\n",
    "from tabulate import tabulate  # For tabular data formatting\n",
    "import random  # For randomization\n",
    "import numpy as np  # For numerical operations\n",
    "from transformers import (\n",
    "    BertTokenizer,  # Tokenizer for BERT models\n",
    "    AdamW,  # Optimizer for BERT models\n",
    "    get_linear_schedule_with_warmup,  # Learning rate scheduler for BERT models\n",
    "    BertConfig,  # Configuration for BERT models\n",
    "    BertForSequenceClassification  # BERT model for sequence classification tasks\n",
    ")\n",
    "from torch.utils.data import (\n",
    "    DataLoader,  # Data loader for creating batches\n",
    "    RandomSampler,  # Sampler for random sampling of data\n",
    "    SequentialSampler  # Sampler for sequential sampling of data\n",
    ")\n",
    "from sklearn.metrics import f1_score  # For computing the F1 score\n",
    "\n",
    "# 1. Torch: PyTorch library for deep learning\n",
    "# 2. Pandas: Library for data manipulation and analysis\n",
    "# 3. tqdm: Library for displaying progress bars\n",
    "# 4. datasets: Library for working with datasets\n",
    "# 5. train_test_split: Function for splitting the dataset into training and validation sets\n",
    "# 6. BertTokenizer: Tokenizer for BERT models\n",
    "# 7. TensorDataset: Dataset class for creating PyTorch Tensor datasets\n",
    "# 8. time: Module for measuring time\n",
    "# 9. accuracy_score, precision_score, f1_score: Evaluation metrics for classification tasks\n",
    "# 10. UndefinedMetricWarning: Warning for undefined metric values\n",
    "# 11. matplotlib.pyplot: Plotting library\n",
    "# 12. tabulate: Library for formatting tabular data\n",
    "# 13. random: Module for randomization\n",
    "# 14. numpy: Library for numerical operations\n",
    "# 15. AdamW: Optimizer for BERT models\n",
    "# 16. get_linear_schedule_with_warmup: Learning rate scheduler for BERT models\n",
    "# 17. BertConfig: Configuration for BERT models\n",
    "# 18. BertForSequenceClassification: BERT model for sequence classification tasks\n",
    "# 19. DataLoader: Data loader for creating batches\n",
    "# 20. RandomSampler: Sampler for random sampling of data\n",
    "# 21. SequentialSampler: Sampler for sequential sampling of data\n",
    "# 22. f1_score: Function for computing the F1 score"
   ]
  },
  {
   "cell_type": "code",
   "execution_count": 2,
   "id": "207f2073-3da6-4185-917f-e8b3694617ed",
   "metadata": {},
   "outputs": [],
   "source": [
    "def data_imdb():\n",
    "    dataset = load_dataset(\"imdb\")\n",
    "    train_data = dataset['train']\n",
    "    test_data = dataset['test']\n",
    "\n",
    "    df_train = train_data.to_pandas()  # Convert the training dataset to a Pandas DataFrame\n",
    "    df_test = test_data.to_pandas()  # Convert the validation dataset to a Pandas DataFrame\n",
    "\n",
    "    df_train['sentiment'] = df_train['label'].map({0: 'bad', 1: 'good'})\n",
    "    df_test['sentiment'] = df_test['label'].map({0: 'bad', 1: 'good'})\n",
    "\n",
    "    possible_labels = df_train.sentiment.unique()  # Get unique category labels from the training DataFrame column 'category'\n",
    "\n",
    "    label_dict = {}  # Create a dictionary to map each possible label to a unique index\n",
    "    for index, possible_label in enumerate(possible_labels):\n",
    "        label_dict[possible_label] = index\n",
    "\n",
    "    df_train['label'] = df_train.sentiment.replace(label_dict)\n",
    "    df_test['label'] = df_test.sentiment.replace(label_dict)\n",
    "\n",
    "    df_train['data_type'] = 'train'  # Set the 'data_type' column to 'train' for training data\n",
    "    df_test['data_type'] = 'test'  # Set the 'data_type' column to 'val' for validation data\n",
    "\n",
    "    df = pd.concat([df_train, df_test], ignore_index=True)  # Merge the training and validation dataframes\n",
    "\n",
    "    return df\n",
    "\n",
    "\n",
    "def f1_score_func(preds, labels):\n",
    "    preds_flat = np.argmax(preds, axis=1).flatten() #This line finds the index with the highest probability in each prediction, effectively giving the predicted class for each input.\n",
    "    labels_flat = labels.flatten()  #This line flattens the labels array into a 1D vector, as required by the f1_score function.\n",
    "    return f1_score(labels_flat, preds_flat, average='weighted') #This line computes the F1 score using the true labels and the predicted labels, with the weighted averaging scheme. The result is returned.\n",
    "\n",
    "def accuracy_per_class(preds, labels, label_dict):\n",
    "    # Create a dictionary with keys and values reversed for easy lookup.\n",
    "    label_dict_inverse = {v: k for k, v in label_dict.items()}\n",
    "    \n",
    "    # Get the predicted labels and flatten them.\n",
    "    preds_flat = np.argmax(preds, axis=1).flatten()\n",
    "    \n",
    "    # Get the actual labels and flatten them.\n",
    "    labels_flat = labels.flatten()\n",
    "\n",
    "    # Initialize the confusion matrix.\n",
    "    num_classes = len(label_dict)\n",
    "    confusion_mat = confusion_matrix(labels_flat, preds_flat, labels=list(range(num_classes)))\n",
    "    \n",
    "    # Calculate accuracy and F1 score per class\n",
    "    accuracies = {}\n",
    "    f1_scores = {}\n",
    "    for label in range(num_classes):\n",
    "        # Calculate accuracy for this class\n",
    "        num_correct = confusion_mat[label, label]\n",
    "        num_instances = np.sum(confusion_mat[label, :])\n",
    "        accuracy = num_correct / num_instances * 100\n",
    "        accuracies[label] = accuracy\n",
    "        \n",
    "        # Calculate F1 score for this class\n",
    "        f1 = f1_score(labels_flat, preds_flat, labels=[label], average='weighted')\n",
    "        f1_scores[label] = f1\n",
    "\n",
    "        # Print the class name, accuracy numerator, and denominator.\n",
    "        class_name = label_dict_inverse[label]\n",
    "        print(f'Class: {class_name}')\n",
    "        print(f'Accuracy: {num_correct}/{num_instances} ({accuracy:.2f}%)')\n",
    "        print(f'F1 Score: {f1:.2f}\\n')\n",
    "\n",
    "    # Calculate total accuracy and F1 score\n",
    "    total_accuracy = accuracy_score(labels_flat, preds_flat) * 100\n",
    "    total_f1_score = f1_score(labels_flat, preds_flat, average='weighted')\n",
    "\n",
    "    # Print the total accuracy and F1 score\n",
    "    print(f'Total Accuracy: {total_accuracy:.2f}%')\n",
    "    print(f'Total F1 Score: {total_f1_score:.2f}')\n",
    "\n",
    "\n",
    "#This code evaluates the performance of a trained model on a validation dataset by computing its loss and predictions for each batch in the dataset.\n",
    "def evaluate(dataloader_val):\n",
    "\n",
    "    model.eval() # setting the model to evaluation mode to disable dropout and other regularization techniques that are useful during training but not during evaluation.\n",
    "    \n",
    "    loss_val_total = 0\n",
    "    predictions, true_vals = [], []\n",
    "    \n",
    "    for batch in dataloader_val:\n",
    "    \n",
    "        batch = tuple(b.to(device) for b in batch) # moving the input batch to the GPU for faster computation.\n",
    "   \n",
    "        #  creating a dictionary of inputs that will be passed to the model. The input IDs and attention mask are for the BERT model, and the labels are the true labels for each input.\n",
    "        inputs = {'input_ids':  \tbatch[0],\n",
    "                'attention_mask': batch[1],\n",
    "                'labels':     \tbatch[2],\n",
    "                } \n",
    "\n",
    "        with torch.no_grad():   \n",
    "            outputs = model(**inputs)\n",
    "        \n",
    "        loss = outputs[0]\n",
    "        logits = outputs[1]\n",
    "        loss_val_total += loss.item()\n",
    "\n",
    "        logits = logits.detach().cpu().numpy()\n",
    "        label_ids = inputs['labels'].cpu().numpy()\n",
    "        predictions.append(logits)\n",
    "        true_vals.append(label_ids)\n",
    "    \n",
    "    loss_val_avg = loss_val_total/len(dataloader_val)\n",
    "    \n",
    "    predictions = np.concatenate(predictions, axis=0)\n",
    "    true_vals = np.concatenate(true_vals, axis=0)\n",
    "       \t \n",
    "    return loss_val_avg, predictions, true_vals\n",
    "\n",
    "def train_model(trainer, dataloader_train, dataloader_val, epochs, patience):\n",
    "    total_training_time = 0\n",
    "    \n",
    "    training_loss_list = []\n",
    "    validation_loss_list = []\n",
    "    accuracy_list = []\n",
    "    precision_list = []\n",
    "    f1_score_list = []\n",
    "    \n",
    "    previous_results = None  # Store previous epoch results\n",
    "    best_val_loss = float('inf')\n",
    "    counter = 0\n",
    "    \n",
    "    for epoch in tqdm(range(1, epochs + 1)):\n",
    "        start_time = time.time()\n",
    "    \n",
    "        model.train()\n",
    "        loss_train_total = 0\n",
    "    \n",
    "        progress_bar = tqdm(dataloader_train,\n",
    "                            desc='Epoch {:1d}'.format(epoch),\n",
    "                            leave=False,\n",
    "                            disable=False)\n",
    "        for batch in progress_bar:\n",
    "            model.zero_grad()\n",
    "            batch = tuple(b.to(device) for b in batch)\n",
    "            inputs = {\n",
    "                'input_ids': batch[0],\n",
    "                'attention_mask': batch[1],\n",
    "                'labels': batch[2],\n",
    "            }\n",
    "            output = model(**inputs)\n",
    "            loss = output[0]\n",
    "            loss_train_total += loss.item()\n",
    "            loss.backward()\n",
    "            torch.nn.utils.clip_grad_norm_(model.parameters(), 1.0)\n",
    "            optimizer.step()\n",
    "            scheduler.step()\n",
    "            progress_bar.set_postfix({'training_loss': '{:.3f}'.format(loss.item() / len(batch))})\n",
    "    \n",
    "        end_time = time.time()\n",
    "        epoch_training_time = end_time - start_time\n",
    "        total_training_time += epoch_training_time\n",
    "    \n",
    "        torch.save(model.state_dict(), f'Models/finetuned_gpt_bert_imdb_ft_epoch{epoch}.model')\n",
    "    \n",
    "        tqdm.write(f'\\nEpoch {epoch}')\n",
    "    \n",
    "        loss_train_avg = loss_train_total / len(dataloader_train)\n",
    "        tqdm.write(f'Training loss: {loss_train_avg}')\n",
    "    \n",
    "        val_loss, predictions, true_vals = evaluate(dataloader_val)\n",
    "    \n",
    "        # Convert predictions to discrete labels\n",
    "        predictions = np.argmax(predictions, axis=1)\n",
    "    \n",
    "        val_f1 = f1_score(true_vals, predictions, average='weighted')\n",
    "        tqdm.write(f'Validation loss: {val_loss}')\n",
    "        tqdm.write(f'F1 Score (weighted): {val_f1}')\n",
    "    \n",
    "        val_accuracy = accuracy_score(true_vals, predictions)\n",
    "        val_precision = precision_score(true_vals, predictions, average='weighted', zero_division=1)\n",
    "    \n",
    "        # Compute and store metrics\n",
    "        training_loss_list.append(loss_train_avg)\n",
    "        validation_loss_list.append(val_loss)\n",
    "        f1_score_list.append(val_f1)\n",
    "        accuracy_list.append(val_accuracy)\n",
    "        precision_list.append(val_precision)\n",
    "    \n",
    "        # Check if there are previous results to compare with\n",
    "        if previous_results is not None:\n",
    "            if loss_train_avg > previous_results['loss_train_avg']:\n",
    "                percentage_increase = ((loss_train_avg - previous_results['loss_train_avg']) / previous_results['loss_train_avg']) * 100\n",
    "                tqdm.write('\\033[91m' + f'{round(percentage_increase, 2)}% Training loss increased compared to the previous epoch' + '\\033[0m')\n",
    "            if loss_train_avg < previous_results['loss_train_avg']:\n",
    "                percentage_decrease = ((previous_results['loss_train_avg'] - loss_train_avg) / previous_results['loss_train_avg']) * 100\n",
    "                tqdm.write('\\033[92m' + f'{round(percentage_decrease, 2)}% Training loss decreased compared to the previous epoch' + '\\033[0m')\n",
    "            if val_loss > previous_results['val_loss']:\n",
    "                percentage_increase = ((val_loss - previous_results['val_loss']) / previous_results['val_loss']) * 100\n",
    "                tqdm.write('\\033[91m' + f'{round(percentage_increase, 2)}% Validation loss increased compared to the previous epoch' + '\\033[0m')\n",
    "            if val_loss < previous_results['val_loss']:\n",
    "                percentage_decrease = ((previous_results['val_loss'] - val_loss) / previous_results['val_loss']) * 100\n",
    "                tqdm.write('\\033[92m' + f'{round(percentage_decrease, 2)}% Validation loss decreased compared to the previous epoch' + '\\033[0m')\n",
    "            if val_f1 < previous_results['val_f1']:\n",
    "                percentage_decrease = ((previous_results['val_f1'] - val_f1) / previous_results['val_f1']) * 100\n",
    "                tqdm.write('\\033[91m' + f'{round(percentage_decrease, 2)}% F1 Score decreased compared to the previous epoch' + '\\033[0m')\n",
    "            if val_f1 > previous_results['val_f1']:\n",
    "                percentage_increase = ((val_f1 - previous_results['val_f1']) / previous_results['val_f1']) * 100\n",
    "                tqdm.write('\\033[92m' + f'{round(percentage_increase, 2)}% F1 Score increased compared to the previous epoch' + '\\033[0m')\n",
    "    \n",
    "        # Store current results as previous results for the next epoch\n",
    "        previous_results = {\n",
    "            'loss_train_avg': loss_train_avg,\n",
    "            'val_loss': val_loss,\n",
    "            'val_f1': val_f1\n",
    "        }\n",
    "        \n",
    "        # Check for early stopping\n",
    "        if val_loss < best_val_loss:\n",
    "            best_val_loss = val_loss\n",
    "            counter = 0\n",
    "        else:\n",
    "            counter += 1\n",
    "            if counter >= patience:\n",
    "                tqdm.write('\\nEarly stopping triggered. Training stopped.')\n",
    "                break\n",
    "    \n",
    "    total_time_minutes = total_training_time / 60\n",
    "    tqdm.write(f'\\nTotal training time: {total_time_minutes} minutes')\n",
    "    \n",
    "    final_accuracy = accuracy_list[-1]\n",
    "    final_precision = precision_list[-1]\n",
    "    tqdm.write(f'Final Accuracy: {final_accuracy}')\n",
    "    tqdm.write(f'Final Precision: {final_precision}')\n",
    "    \n",
    "    # Create the x-axis values based on the actual number of epochs completed\n",
    "    x_values = range(1, len(training_loss_list) + 1)\n",
    "    \n",
    "    # Create the metrics subplot\n",
    "    fig, ax = plt.subplots(figsize=(8, 6))\n",
    "    \n",
    "    # Plot training loss\n",
    "    ax.plot(x_values, training_loss_list, label='Training Loss')\n",
    "    \n",
    "    # Plot validation loss\n",
    "    ax.plot(x_values, validation_loss_list, label='Validation Loss')\n",
    "    \n",
    "    # Plot F1-score\n",
    "    ax.plot(x_values, f1_score_list, label='F1 Score')\n",
    "\n",
    "    # Plot Accuracy\n",
    "    ax.plot(x_values, accuracy_list, label='Accuracy')\n",
    "    \n",
    "    # Set labels and title\n",
    "    ax.set_xlabel('Epoch')\n",
    "    ax.set_ylabel('Metric Value')\n",
    "    ax.set_title('Training Loss, Validation Loss, and F1 Score')\n",
    "    \n",
    "    # Set legend\n",
    "    ax.legend()\n",
    "    \n",
    "    # Show the combined plot\n",
    "    plt.show()\n",
    "    \n",
    "    \n",
    "    # Create the metrics table\n",
    "    metrics_table = [\n",
    "        ['Epoch', 'Training Loss', 'Validation Loss', 'F1 Score', 'Accuracy', 'Precision'],\n",
    "    ]\n",
    "    previous_results = None\n",
    "    for epoch in range(1, len(training_loss_list) + 1):\n",
    "        row = [\n",
    "            epoch,\n",
    "            training_loss_list[epoch - 1],\n",
    "            validation_loss_list[epoch - 1],\n",
    "            f1_score_list[epoch - 1],\n",
    "            accuracy_list[epoch - 1],\n",
    "            precision_list[epoch - 1]\n",
    "        ]\n",
    "    \n",
    "        # Compare with previous epoch results\n",
    "        if previous_results is not None:\n",
    "            if training_loss_list[epoch - 1] < previous_results['loss_train_avg']:\n",
    "                row[1] = '\\033[92m' + str(row[1]) + '\\033[0m'  # Highlight in green\n",
    "            if training_loss_list[epoch - 1] > previous_results['loss_train_avg']:\n",
    "                row[1] = '\\033[91m' + str(row[1]) + '\\033[0m'  # Highlight in red\n",
    "            if validation_loss_list[epoch - 1] < previous_results['val_loss']:\n",
    "                row[2] = '\\033[92m' + str(row[2]) + '\\033[0m'  # Highlight in green\n",
    "            if validation_loss_list[epoch - 1] > previous_results['val_loss']:\n",
    "                row[2] = '\\033[91m' + str(row[2]) + '\\033[0m'  # Highlight in red\n",
    "            if f1_score_list[epoch - 1] > previous_results['val_f1']:\n",
    "                row[3] = '\\033[92m' + str(row[3]) + '\\033[0m'  # Highlight in green\n",
    "            if f1_score_list[epoch - 1] < previous_results['val_f1']:\n",
    "                row[3] = '\\033[91m' + str(row[3]) + '\\033[0m'  # Highlight in red\n",
    "            if accuracy_list[epoch - 1] > previous_results['val_f1']:\n",
    "                row[4] = '\\033[92m' + str(row[3]) + '\\033[0m'  # Highlight in green\n",
    "            if accuracy_list[epoch - 1] < previous_results['val_f1']:\n",
    "                row[4] = '\\033[91m' + str(row[3]) + '\\033[0m'  # Highlight in red\n",
    "            if precision_list[epoch - 1] > previous_results['val_f1']:\n",
    "                row[5] = '\\033[92m' + str(row[3]) + '\\033[0m'  # Highlight in green\n",
    "            if precision_list[epoch - 1] < previous_results['val_f1']:\n",
    "                row[5] = '\\033[91m' + str(row[3]) + '\\033[0m'  # Highlight in red\n",
    "    \n",
    "        metrics_table.append(row)\n",
    "        previous_results = {\n",
    "            'loss_train_avg': training_loss_list[epoch - 1],\n",
    "            'val_loss': validation_loss_list[epoch - 1],\n",
    "            'val_f1': f1_score_list[epoch - 1]\n",
    "        }\n",
    "    \n",
    "    # Calculate total training time in minutes\n",
    "    total_time_minutes = total_training_time / 60\n",
    "    \n",
    "    # Calculate total precision\n",
    "    total_precision = precision_list[-1]\n",
    "    \n",
    "    # Add total training time and total precision rows to the table\n",
    "    metrics_table.append(['Total Training Time', '', '', '', '', total_training_time])\n",
    "    metrics_table.append(['Final Precision', '', '', '', '', total_precision])\n",
    "    metrics_table.append(['Total Time (minutes)', '', '', '', '', total_time_minutes])\n",
    "    \n",
    "    # Print the table\n",
    "    print(tabulate(metrics_table, headers='firstrow'))\n",
    "\n",
    "    return training_loss_list, validation_loss_list, accuracy_list, precision_list, f1_score_list\n",
    "\n",
    "default_args = {\n",
    "    \"output_dir\": \"tmp\",\n",
    "    \"evaluation_strategy\": \"steps\",\n",
    "    \"num_train_epochs\": 1,\n",
    "    \"log_level\": \"error\",\n",
    "    \"report_to\": \"none\",\n",
    "}"
   ]
  },
  {
   "cell_type": "code",
   "execution_count": 3,
   "id": "d9785608-cd5e-4432-9d68-68d90c4a0a5a",
   "metadata": {},
   "outputs": [
    {
     "name": "stderr",
     "output_type": "stream",
     "text": [
      "Found cached dataset imdb (/home/z123010/.cache/huggingface/datasets/imdb/plain_text/1.0.0/d613c88cf8fa3bab83b4ded3713f1f74830d1100e171db75bbddb80b3345c9c0)\n"
     ]
    },
    {
     "data": {
      "application/vnd.jupyter.widget-view+json": {
       "model_id": "b4eafd77a4e54748abb9e56573c151de",
       "version_major": 2,
       "version_minor": 0
      },
      "text/plain": [
       "  0%|          | 0/3 [00:00<?, ?it/s]"
      ]
     },
     "metadata": {},
     "output_type": "display_data"
    }
   ],
   "source": [
    "df = data_imdb()"
   ]
  },
  {
   "cell_type": "code",
   "execution_count": 4,
   "id": "8793b8bc-43bd-4d43-a17e-abf0174eb200",
   "metadata": {},
   "outputs": [],
   "source": [
    "# Create label_dict and assign the number of labels\n",
    "label_dict = {label: index for index, label in enumerate(df['label'].unique())}"
   ]
  },
  {
   "cell_type": "code",
   "execution_count": 5,
   "id": "2707709e-9e1b-460f-9386-6d9e999f2d90",
   "metadata": {},
   "outputs": [
    {
     "data": {
      "text/html": [
       "<div>\n",
       "<style scoped>\n",
       "    .dataframe tbody tr th:only-of-type {\n",
       "        vertical-align: middle;\n",
       "    }\n",
       "\n",
       "    .dataframe tbody tr th {\n",
       "        vertical-align: top;\n",
       "    }\n",
       "\n",
       "    .dataframe thead th {\n",
       "        text-align: right;\n",
       "    }\n",
       "</style>\n",
       "<table border=\"1\" class=\"dataframe\">\n",
       "  <thead>\n",
       "    <tr style=\"text-align: right;\">\n",
       "      <th></th>\n",
       "      <th>text</th>\n",
       "      <th>label</th>\n",
       "      <th>sentiment</th>\n",
       "      <th>data_type</th>\n",
       "    </tr>\n",
       "  </thead>\n",
       "  <tbody>\n",
       "    <tr>\n",
       "      <th>33553</th>\n",
       "      <td>Forget what I said about Emeril. Rachael Ray i...</td>\n",
       "      <td>0</td>\n",
       "      <td>bad</td>\n",
       "      <td>test</td>\n",
       "    </tr>\n",
       "    <tr>\n",
       "      <th>9427</th>\n",
       "      <td>Former private eye-turned-security guard ditch...</td>\n",
       "      <td>0</td>\n",
       "      <td>bad</td>\n",
       "      <td>train</td>\n",
       "    </tr>\n",
       "    <tr>\n",
       "      <th>199</th>\n",
       "      <td>Mann photographs the Alberta Rocky Mountains i...</td>\n",
       "      <td>0</td>\n",
       "      <td>bad</td>\n",
       "      <td>train</td>\n",
       "    </tr>\n",
       "    <tr>\n",
       "      <th>12447</th>\n",
       "      <td>Simply put: the movie is boring. Cliché upon c...</td>\n",
       "      <td>0</td>\n",
       "      <td>bad</td>\n",
       "      <td>train</td>\n",
       "    </tr>\n",
       "    <tr>\n",
       "      <th>39489</th>\n",
       "      <td>Now being a fan of sci fi, the trailer for thi...</td>\n",
       "      <td>1</td>\n",
       "      <td>good</td>\n",
       "      <td>test</td>\n",
       "    </tr>\n",
       "    <tr>\n",
       "      <th>42724</th>\n",
       "      <td>In 'Hoot' Logan Lerman plays Roy Eberhardt, th...</td>\n",
       "      <td>1</td>\n",
       "      <td>good</td>\n",
       "      <td>test</td>\n",
       "    </tr>\n",
       "    <tr>\n",
       "      <th>10822</th>\n",
       "      <td>This is the worst film I have ever seen.I was ...</td>\n",
       "      <td>0</td>\n",
       "      <td>bad</td>\n",
       "      <td>train</td>\n",
       "    </tr>\n",
       "    <tr>\n",
       "      <th>49498</th>\n",
       "      <td>I think that Toy Soldiers is an excellent movi...</td>\n",
       "      <td>1</td>\n",
       "      <td>good</td>\n",
       "      <td>test</td>\n",
       "    </tr>\n",
       "    <tr>\n",
       "      <th>4144</th>\n",
       "      <td>I think Micheal Ironsides acting career must b...</td>\n",
       "      <td>0</td>\n",
       "      <td>bad</td>\n",
       "      <td>train</td>\n",
       "    </tr>\n",
       "    <tr>\n",
       "      <th>36958</th>\n",
       "      <td>This was a disgrace to the game FarCry i had m...</td>\n",
       "      <td>0</td>\n",
       "      <td>bad</td>\n",
       "      <td>test</td>\n",
       "    </tr>\n",
       "  </tbody>\n",
       "</table>\n",
       "</div>"
      ],
      "text/plain": [
       "                                                    text  label sentiment   \n",
       "33553  Forget what I said about Emeril. Rachael Ray i...      0       bad  \\\n",
       "9427   Former private eye-turned-security guard ditch...      0       bad   \n",
       "199    Mann photographs the Alberta Rocky Mountains i...      0       bad   \n",
       "12447  Simply put: the movie is boring. Cliché upon c...      0       bad   \n",
       "39489  Now being a fan of sci fi, the trailer for thi...      1      good   \n",
       "42724  In 'Hoot' Logan Lerman plays Roy Eberhardt, th...      1      good   \n",
       "10822  This is the worst film I have ever seen.I was ...      0       bad   \n",
       "49498  I think that Toy Soldiers is an excellent movi...      1      good   \n",
       "4144   I think Micheal Ironsides acting career must b...      0       bad   \n",
       "36958  This was a disgrace to the game FarCry i had m...      0       bad   \n",
       "\n",
       "      data_type  \n",
       "33553      test  \n",
       "9427      train  \n",
       "199       train  \n",
       "12447     train  \n",
       "39489      test  \n",
       "42724      test  \n",
       "10822     train  \n",
       "49498      test  \n",
       "4144      train  \n",
       "36958      test  "
      ]
     },
     "execution_count": 5,
     "metadata": {},
     "output_type": "execute_result"
    }
   ],
   "source": [
    "df.sample(n=10, random_state=42)  # Generate 10 random rows from df"
   ]
  },
  {
   "cell_type": "code",
   "execution_count": 6,
   "id": "dc596d9c-5808-4f39-a59e-6ed36d8927dd",
   "metadata": {},
   "outputs": [
    {
     "data": {
      "text/html": [
       "<div>\n",
       "<style scoped>\n",
       "    .dataframe tbody tr th:only-of-type {\n",
       "        vertical-align: middle;\n",
       "    }\n",
       "\n",
       "    .dataframe tbody tr th {\n",
       "        vertical-align: top;\n",
       "    }\n",
       "\n",
       "    .dataframe thead th {\n",
       "        text-align: right;\n",
       "    }\n",
       "</style>\n",
       "<table border=\"1\" class=\"dataframe\">\n",
       "  <thead>\n",
       "    <tr style=\"text-align: right;\">\n",
       "      <th></th>\n",
       "      <th>text</th>\n",
       "      <th>label</th>\n",
       "      <th>data_type</th>\n",
       "    </tr>\n",
       "    <tr>\n",
       "      <th>sentiment</th>\n",
       "      <th></th>\n",
       "      <th></th>\n",
       "      <th></th>\n",
       "    </tr>\n",
       "  </thead>\n",
       "  <tbody>\n",
       "    <tr>\n",
       "      <th>bad</th>\n",
       "      <td>25000</td>\n",
       "      <td>25000</td>\n",
       "      <td>25000</td>\n",
       "    </tr>\n",
       "    <tr>\n",
       "      <th>good</th>\n",
       "      <td>25000</td>\n",
       "      <td>25000</td>\n",
       "      <td>25000</td>\n",
       "    </tr>\n",
       "  </tbody>\n",
       "</table>\n",
       "</div>"
      ],
      "text/plain": [
       "            text  label  data_type\n",
       "sentiment                         \n",
       "bad        25000  25000      25000\n",
       "good       25000  25000      25000"
      ]
     },
     "execution_count": 6,
     "metadata": {},
     "output_type": "execute_result"
    }
   ],
   "source": [
    "df.groupby(['sentiment']).count()"
   ]
  },
  {
   "cell_type": "code",
   "execution_count": 7,
   "id": "5ab759d8-d194-4afb-8cd1-c4997224b920",
   "metadata": {},
   "outputs": [
    {
     "data": {
      "text/html": [
       "<div>\n",
       "<style scoped>\n",
       "    .dataframe tbody tr th:only-of-type {\n",
       "        vertical-align: middle;\n",
       "    }\n",
       "\n",
       "    .dataframe tbody tr th {\n",
       "        vertical-align: top;\n",
       "    }\n",
       "\n",
       "    .dataframe thead th {\n",
       "        text-align: right;\n",
       "    }\n",
       "</style>\n",
       "<table border=\"1\" class=\"dataframe\">\n",
       "  <thead>\n",
       "    <tr style=\"text-align: right;\">\n",
       "      <th></th>\n",
       "      <th>text</th>\n",
       "      <th>label</th>\n",
       "      <th>sentiment</th>\n",
       "    </tr>\n",
       "    <tr>\n",
       "      <th>data_type</th>\n",
       "      <th></th>\n",
       "      <th></th>\n",
       "      <th></th>\n",
       "    </tr>\n",
       "  </thead>\n",
       "  <tbody>\n",
       "    <tr>\n",
       "      <th>test</th>\n",
       "      <td>25000</td>\n",
       "      <td>25000</td>\n",
       "      <td>25000</td>\n",
       "    </tr>\n",
       "    <tr>\n",
       "      <th>train</th>\n",
       "      <td>25000</td>\n",
       "      <td>25000</td>\n",
       "      <td>25000</td>\n",
       "    </tr>\n",
       "  </tbody>\n",
       "</table>\n",
       "</div>"
      ],
      "text/plain": [
       "            text  label  sentiment\n",
       "data_type                         \n",
       "test       25000  25000      25000\n",
       "train      25000  25000      25000"
      ]
     },
     "execution_count": 7,
     "metadata": {},
     "output_type": "execute_result"
    }
   ],
   "source": [
    "df.groupby(['data_type']).count()"
   ]
  },
  {
   "cell_type": "code",
   "execution_count": 8,
   "id": "731e5a17-8ab7-4d19-a012-05eeabab1d90",
   "metadata": {
    "tags": []
   },
   "outputs": [],
   "source": [
    "# Load BERT tokenizer\n",
    "pretrained_path = 'bert-base-uncased'  # Replace with the path to the pretrained BERT model\n",
    "tokenizer = BertTokenizer.from_pretrained(\n",
    "    'bert-base-uncased',\n",
    "    do_lower_case=True\n",
    ")\n",
    "\n",
    "encoded_data_train_text = tokenizer.batch_encode_plus(\n",
    "    df[df.data_type=='train'].text.values,\n",
    "    add_special_tokens=True,\n",
    "    return_attention_mask=True,\n",
    "    padding='longest',\n",
    "    max_length=512,\n",
    "    truncation=True,\n",
    "    return_tensors='pt'\n",
    ")\n",
    "\n",
    "input_ids_train = encoded_data_train_text['input_ids']\n",
    "attention_masks_train = encoded_data_train_text['attention_mask']\n",
    "\n",
    "labels_train = torch.tensor(df[df.data_type=='train'].label.values)\n",
    "\n",
    "encoded_data_test_text = tokenizer.batch_encode_plus(\n",
    "    df[df.data_type=='test'].text.values,\n",
    "    add_special_tokens=True,\n",
    "    return_attention_mask=True,\n",
    "    padding='longest',\n",
    "    max_length=512,\n",
    "    truncation=True,\n",
    "    return_tensors='pt'\n",
    ")\n",
    "\n",
    "input_ids_test = encoded_data_test_text['input_ids']\n",
    "attention_masks_test = encoded_data_test_text['attention_mask']\n",
    "\n",
    "labels_test = torch.tensor(df[df.data_type=='test'].label.values)"
   ]
  },
  {
   "cell_type": "code",
   "execution_count": 9,
   "id": "42125069-fd5d-49c0-8032-2be61cb2a6d3",
   "metadata": {
    "tags": []
   },
   "outputs": [
    {
     "data": {
      "text/plain": [
       "(25000, 25000)"
      ]
     },
     "execution_count": 9,
     "metadata": {},
     "output_type": "execute_result"
    }
   ],
   "source": [
    "dataset_train = TensorDataset(input_ids_train, attention_masks_train, labels_train)\n",
    "dataset_test = TensorDataset(input_ids_test, attention_masks_test, labels_test)\n",
    "len(dataset_train), len(dataset_test)"
   ]
  },
  {
   "cell_type": "code",
   "execution_count": 10,
   "id": "9a2f7e02-8423-4787-994e-d599ab86b123",
   "metadata": {},
   "outputs": [],
   "source": [
    "import torch\n",
    "import torch.nn as nn\n",
    "from transformers import BertModel, BertConfig, GPT2Model, GPT2Config\n",
    "\n",
    "num_classes = 2\n",
    "\n",
    "class SentimentModel(nn.Module):\n",
    "    def __init__(self, pretrained_bert_path, pretrained_gpt_path):\n",
    "        super(SentimentModel, self).__init__()\n",
    "\n",
    "        gpt_config = GPT2Config(\n",
    "            vocab_size=50257,\n",
    "            hidden_size=256,  # Increase hidden size\n",
    "            num_hidden_layers=8,  # Increase number of layers\n",
    "            num_attention_heads=8,  # Increase number of attention heads\n",
    "            intermediate_size=1024,\n",
    "            hidden_dropout_prob=0.3,\n",
    "            attention_probs_dropout_prob=0.3,\n",
    "        )\n",
    "        self.gpt = GPT2Model(config=gpt_config)\n",
    "        self.gpt_ln = nn.LayerNorm(gpt_config.hidden_size)\n",
    "        \n",
    "        bert_config = BertConfig(\n",
    "            vocab_size=50257,\n",
    "            hidden_size=256,  # Increase hidden size\n",
    "            num_hidden_layers=8,  # Increase number of layers\n",
    "            num_attention_heads=8,  # Increase number of attention heads\n",
    "            intermediate_size=1024,\n",
    "            hidden_dropout_prob=0.3,\n",
    "            attention_probs_dropout_prob=0.3,\n",
    "        )\n",
    "        self.bert = BertModel(config=bert_config)\n",
    "        self.bert_ln = nn.LayerNorm(bert_config.hidden_size)\n",
    "        \n",
    "        self.dropout = nn.Dropout(0.2)\n",
    "        self.fc = nn.Linear(bert_config.hidden_size + gpt_config.hidden_size, num_classes)\n",
    "\n",
    "    def forward(self, input_ids, attention_mask, labels=None):\n",
    "        gpt_outputs = self.gpt(input_ids, attention_mask=attention_mask)[0]\n",
    "        gpt_outputs = self.gpt_ln(gpt_outputs) + gpt_outputs  # Residual connection\n",
    "        bert_outputs = self.bert(input_ids, attention_mask=attention_mask)[0]\n",
    "        bert_outputs = self.bert_ln(bert_outputs) + bert_outputs  # Residual connection\n",
    "        \n",
    "        gpt_last_hidden_state = self.dropout(gpt_outputs[:, -1, :])  # Use the last hidden state\n",
    "        bert_pooled_output = self.dropout(bert_outputs[:, 0, :])  # Use the [CLS] token representation\n",
    "        \n",
    "        combined_outputs = torch.cat((gpt_last_hidden_state, bert_pooled_output), dim=1)\n",
    "        \n",
    "        logits = self.fc(combined_outputs)\n",
    "        outputs = nn.functional.softmax(logits, dim=1)\n",
    "        \n",
    "        if labels is not None:\n",
    "            loss = nn.CrossEntropyLoss()(logits.view(-1, num_classes), labels.view(-1))\n",
    "            return loss, outputs, labels\n",
    "        else:\n",
    "            return outputs\n"
   ]
  },
  {
   "cell_type": "code",
   "execution_count": 11,
   "id": "7d131f86-ee7e-49b3-a104-a61841bb78d3",
   "metadata": {},
   "outputs": [],
   "source": [
    "# Create model instance\n",
    "model = SentimentModel('bert-base-uncased', 'gpt2')"
   ]
  },
  {
   "cell_type": "code",
   "execution_count": 12,
   "id": "834c8c87-40a1-49c6-8e7b-307b931aec01",
   "metadata": {},
   "outputs": [
    {
     "data": {
      "text/plain": [
       "SentimentModel(\n",
       "  (gpt): GPT2Model(\n",
       "    (wte): Embedding(50257, 256)\n",
       "    (wpe): Embedding(1024, 256)\n",
       "    (drop): Dropout(p=0.1, inplace=False)\n",
       "    (h): ModuleList(\n",
       "      (0-7): 8 x GPT2Block(\n",
       "        (ln_1): LayerNorm((256,), eps=1e-05, elementwise_affine=True)\n",
       "        (attn): GPT2Attention(\n",
       "          (c_attn): Conv1D()\n",
       "          (c_proj): Conv1D()\n",
       "          (attn_dropout): Dropout(p=0.1, inplace=False)\n",
       "          (resid_dropout): Dropout(p=0.1, inplace=False)\n",
       "        )\n",
       "        (ln_2): LayerNorm((256,), eps=1e-05, elementwise_affine=True)\n",
       "        (mlp): GPT2MLP(\n",
       "          (c_fc): Conv1D()\n",
       "          (c_proj): Conv1D()\n",
       "          (act): NewGELUActivation()\n",
       "          (dropout): Dropout(p=0.1, inplace=False)\n",
       "        )\n",
       "      )\n",
       "    )\n",
       "    (ln_f): LayerNorm((256,), eps=1e-05, elementwise_affine=True)\n",
       "  )\n",
       "  (gpt_ln): LayerNorm((256,), eps=1e-05, elementwise_affine=True)\n",
       "  (bert): BertModel(\n",
       "    (embeddings): BertEmbeddings(\n",
       "      (word_embeddings): Embedding(50257, 256, padding_idx=0)\n",
       "      (position_embeddings): Embedding(512, 256)\n",
       "      (token_type_embeddings): Embedding(2, 256)\n",
       "      (LayerNorm): LayerNorm((256,), eps=1e-12, elementwise_affine=True)\n",
       "      (dropout): Dropout(p=0.3, inplace=False)\n",
       "    )\n",
       "    (encoder): BertEncoder(\n",
       "      (layer): ModuleList(\n",
       "        (0-7): 8 x BertLayer(\n",
       "          (attention): BertAttention(\n",
       "            (self): BertSelfAttention(\n",
       "              (query): Linear(in_features=256, out_features=256, bias=True)\n",
       "              (key): Linear(in_features=256, out_features=256, bias=True)\n",
       "              (value): Linear(in_features=256, out_features=256, bias=True)\n",
       "              (dropout): Dropout(p=0.3, inplace=False)\n",
       "            )\n",
       "            (output): BertSelfOutput(\n",
       "              (dense): Linear(in_features=256, out_features=256, bias=True)\n",
       "              (LayerNorm): LayerNorm((256,), eps=1e-12, elementwise_affine=True)\n",
       "              (dropout): Dropout(p=0.3, inplace=False)\n",
       "            )\n",
       "          )\n",
       "          (intermediate): BertIntermediate(\n",
       "            (dense): Linear(in_features=256, out_features=1024, bias=True)\n",
       "            (intermediate_act_fn): GELUActivation()\n",
       "          )\n",
       "          (output): BertOutput(\n",
       "            (dense): Linear(in_features=1024, out_features=256, bias=True)\n",
       "            (LayerNorm): LayerNorm((256,), eps=1e-12, elementwise_affine=True)\n",
       "            (dropout): Dropout(p=0.3, inplace=False)\n",
       "          )\n",
       "        )\n",
       "      )\n",
       "    )\n",
       "    (pooler): BertPooler(\n",
       "      (dense): Linear(in_features=256, out_features=256, bias=True)\n",
       "      (activation): Tanh()\n",
       "    )\n",
       "  )\n",
       "  (bert_ln): LayerNorm((256,), eps=1e-05, elementwise_affine=True)\n",
       "  (dropout): Dropout(p=0.2, inplace=False)\n",
       "  (fc): Linear(in_features=512, out_features=2, bias=True)\n",
       ")"
      ]
     },
     "execution_count": 12,
     "metadata": {},
     "output_type": "execute_result"
    }
   ],
   "source": [
    "# Set device (CPU or GPU)\n",
    "device = torch.device(\"cuda\" if torch.cuda.is_available() else \"cpu\")\n",
    "model.to(device)"
   ]
  },
  {
   "cell_type": "code",
   "execution_count": 13,
   "id": "c610d351-0be0-4899-bf58-2397193b5ed1",
   "metadata": {},
   "outputs": [],
   "source": [
    "from transformers import TrainingArguments, Trainer, logging\n",
    "training_args = TrainingArguments(\n",
    "    per_device_train_batch_size=1,\n",
    "    gradient_accumulation_steps=4,\n",
    "    gradient_checkpointing=True,\n",
    "    fp16=True,\n",
    "    **default_args,\n",
    ")"
   ]
  },
  {
   "cell_type": "code",
   "execution_count": 14,
   "id": "cfb9e671-0f31-4a58-bf72-8c13ac04e6a0",
   "metadata": {},
   "outputs": [],
   "source": [
    "from torch.utils.data import DataLoader, RandomSampler, SequentialSampler\n",
    "# Set the batch size and create data loaders for training and validation sets\n",
    "\n",
    "batch_size = 16 #32\n",
    "\n",
    "dataloader_train = DataLoader(\n",
    "    dataset_train,\n",
    "    sampler=RandomSampler(dataset_train),\n",
    "    batch_size=batch_size\n",
    ")\n",
    "\n",
    "dataloader_test = DataLoader(\n",
    "    dataset_test,\n",
    "    sampler=RandomSampler(dataset_test),\n",
    "    batch_size=batch_size\n",
    ")"
   ]
  },
  {
   "cell_type": "code",
   "execution_count": 15,
   "id": "d3bc14be-49bc-4b42-be70-17412957cdaa",
   "metadata": {},
   "outputs": [
    {
     "name": "stderr",
     "output_type": "stream",
     "text": [
      "/home/z123010/anaconda3/lib/python3.10/site-packages/transformers/optimization.py:411: FutureWarning: This implementation of AdamW is deprecated and will be removed in a future version. Use the PyTorch implementation torch.optim.AdamW instead, or set `no_deprecation_warning=True` to disable this warning\n",
      "  warnings.warn(\n"
     ]
    }
   ],
   "source": [
    "from transformers import AdamW, get_linear_schedule_with_warmup\n",
    "\n",
    "# Define the optimizer\n",
    "optimizer = AdamW(\n",
    "    model.parameters(),\n",
    "    lr=1e-7,\n",
    "    eps=1e-8,\n",
    "    weight_decay=0.01\n",
    "\n",
    ")\n",
    "\n",
    "\n",
    "epochs = 50\n",
    "patience = 10\n",
    "scheduler = get_linear_schedule_with_warmup(\n",
    "    optimizer,\n",
    "    num_warmup_steps=0,\n",
    "    num_training_steps=len(dataloader_train) * epochs\n",
    ")"
   ]
  },
  {
   "cell_type": "code",
   "execution_count": 16,
   "id": "27c174c9-8e92-42fa-9d81-54260c58251e",
   "metadata": {},
   "outputs": [],
   "source": [
    "import random\n",
    "\n",
    "seed_val = 17\n",
    "random.seed(seed_val) #sets the seed value for the Python built-in pseudo-random generator.\n",
    "np.random.seed(seed_val) #sets the seed value for the NumPy pseudo-random number generator.\n",
    "torch.manual_seed(seed_val) #sets the seed value for the random number generator in PyTorch on the CPU.\n",
    "torch.cuda.manual_seed_all(seed_val) #sets the seed value for the random number generator in PyTorch on the GPU."
   ]
  },
  {
   "cell_type": "code",
   "execution_count": 17,
   "id": "f3a28ec5-87fe-4bdf-b6a1-05bf8b6f6b8e",
   "metadata": {},
   "outputs": [
    {
     "name": "stdout",
     "output_type": "stream",
     "text": [
      "cuda\n"
     ]
    }
   ],
   "source": [
    "device = torch.device('cuda' if torch.cuda.is_available() else 'cpu')\n",
    "model.to(device)\n",
    "\n",
    "print(device)"
   ]
  },
  {
   "cell_type": "code",
   "execution_count": 18,
   "id": "6959b8b0-8529-4b6f-9ca8-972f7003d475",
   "metadata": {},
   "outputs": [],
   "source": [
    "trainer = Trainer(\n",
    "model=model,\n",
    "args=training_args,\n",
    "train_dataset=dataset_train,\n",
    "eval_dataset=dataset_train,\n",
    ")"
   ]
  },
  {
   "cell_type": "code",
   "execution_count": 19,
   "id": "d9c363e7-c757-4bb6-bb2c-d19a126fd165",
   "metadata": {},
   "outputs": [
    {
     "name": "stdout",
     "output_type": "stream",
     "text": [
      "\n",
      "Fold 1\n"
     ]
    },
    {
     "data": {
      "application/vnd.jupyter.widget-view+json": {
       "model_id": "23e985e924e549c391db33d311a3564d",
       "version_major": 2,
       "version_minor": 0
      },
      "text/plain": [
       "  0%|          | 0/50 [00:00<?, ?it/s]"
      ]
     },
     "metadata": {},
     "output_type": "display_data"
    },
    {
     "data": {
      "application/vnd.jupyter.widget-view+json": {
       "model_id": "3d3ccb5213a3401cb8037b5463148fbe",
       "version_major": 2,
       "version_minor": 0
      },
      "text/plain": [
       "Epoch 1:   0%|          | 0/1407 [00:00<?, ?it/s]"
      ]
     },
     "metadata": {},
     "output_type": "display_data"
    },
    {
     "ename": "KeyboardInterrupt",
     "evalue": "",
     "output_type": "error",
     "traceback": [
      "\u001b[0;31m---------------------------------------------------------------------------\u001b[0m",
      "\u001b[0;31mKeyboardInterrupt\u001b[0m                         Traceback (most recent call last)",
      "Cell \u001b[0;32mIn[19], line 36\u001b[0m\n\u001b[1;32m     32\u001b[0m fold_f1_score_list \u001b[38;5;241m=\u001b[39m []\n\u001b[1;32m     34\u001b[0m \u001b[38;5;28;01mtry\u001b[39;00m:\n\u001b[1;32m     35\u001b[0m     fold_training_loss_list, fold_validation_loss_list, fold_accuracy_list, fold_precision_list, fold_f1_score_list \u001b[38;5;241m=\u001b[39m \\\n\u001b[0;32m---> 36\u001b[0m     \u001b[43mtrain_model\u001b[49m\u001b[43m(\u001b[49m\u001b[43mtrainer\u001b[49m\u001b[43m,\u001b[49m\u001b[43m \u001b[49m\u001b[43mdataloader_train\u001b[49m\u001b[43m,\u001b[49m\u001b[43m \u001b[49m\u001b[43mdataloader_vals\u001b[49m\u001b[43m,\u001b[49m\u001b[43m \u001b[49m\u001b[43mepochs\u001b[49m\u001b[43m,\u001b[49m\u001b[43m \u001b[49m\u001b[43mpatience\u001b[49m\u001b[43m)\u001b[49m\n\u001b[1;32m     37\u001b[0m \u001b[38;5;28;01mexcept\u001b[39;00m \u001b[38;5;167;01mException\u001b[39;00m \u001b[38;5;28;01mas\u001b[39;00m e:\n\u001b[1;32m     38\u001b[0m     \u001b[38;5;28mprint\u001b[39m(\u001b[38;5;124mf\u001b[39m\u001b[38;5;124m\"\u001b[39m\u001b[38;5;124mContinue to the next fold \u001b[39m\u001b[38;5;132;01m{\u001b[39;00mfold\u001b[38;5;241m+\u001b[39m\u001b[38;5;241m1\u001b[39m\u001b[38;5;132;01m}\u001b[39;00m\u001b[38;5;124m: \u001b[39m\u001b[38;5;132;01m{\u001b[39;00m\u001b[38;5;28mstr\u001b[39m(e)\u001b[38;5;132;01m}\u001b[39;00m\u001b[38;5;124m\"\u001b[39m)\n",
      "Cell \u001b[0;32mIn[2], line 148\u001b[0m, in \u001b[0;36mtrain_model\u001b[0;34m(trainer, dataloader_train, dataloader_val, epochs, patience)\u001b[0m\n\u001b[1;32m    146\u001b[0m loss \u001b[38;5;241m=\u001b[39m output[\u001b[38;5;241m0\u001b[39m]\n\u001b[1;32m    147\u001b[0m loss_train_total \u001b[38;5;241m+\u001b[39m\u001b[38;5;241m=\u001b[39m loss\u001b[38;5;241m.\u001b[39mitem()\n\u001b[0;32m--> 148\u001b[0m \u001b[43mloss\u001b[49m\u001b[38;5;241;43m.\u001b[39;49m\u001b[43mbackward\u001b[49m\u001b[43m(\u001b[49m\u001b[43m)\u001b[49m\n\u001b[1;32m    149\u001b[0m torch\u001b[38;5;241m.\u001b[39mnn\u001b[38;5;241m.\u001b[39mutils\u001b[38;5;241m.\u001b[39mclip_grad_norm_(model\u001b[38;5;241m.\u001b[39mparameters(), \u001b[38;5;241m1.0\u001b[39m)\n\u001b[1;32m    150\u001b[0m optimizer\u001b[38;5;241m.\u001b[39mstep()\n",
      "File \u001b[0;32m~/.local/lib/python3.10/site-packages/torch/_tensor.py:487\u001b[0m, in \u001b[0;36mTensor.backward\u001b[0;34m(self, gradient, retain_graph, create_graph, inputs)\u001b[0m\n\u001b[1;32m    477\u001b[0m \u001b[38;5;28;01mif\u001b[39;00m has_torch_function_unary(\u001b[38;5;28mself\u001b[39m):\n\u001b[1;32m    478\u001b[0m     \u001b[38;5;28;01mreturn\u001b[39;00m handle_torch_function(\n\u001b[1;32m    479\u001b[0m         Tensor\u001b[38;5;241m.\u001b[39mbackward,\n\u001b[1;32m    480\u001b[0m         (\u001b[38;5;28mself\u001b[39m,),\n\u001b[0;32m   (...)\u001b[0m\n\u001b[1;32m    485\u001b[0m         inputs\u001b[38;5;241m=\u001b[39minputs,\n\u001b[1;32m    486\u001b[0m     )\n\u001b[0;32m--> 487\u001b[0m \u001b[43mtorch\u001b[49m\u001b[38;5;241;43m.\u001b[39;49m\u001b[43mautograd\u001b[49m\u001b[38;5;241;43m.\u001b[39;49m\u001b[43mbackward\u001b[49m\u001b[43m(\u001b[49m\n\u001b[1;32m    488\u001b[0m \u001b[43m    \u001b[49m\u001b[38;5;28;43mself\u001b[39;49m\u001b[43m,\u001b[49m\u001b[43m \u001b[49m\u001b[43mgradient\u001b[49m\u001b[43m,\u001b[49m\u001b[43m \u001b[49m\u001b[43mretain_graph\u001b[49m\u001b[43m,\u001b[49m\u001b[43m \u001b[49m\u001b[43mcreate_graph\u001b[49m\u001b[43m,\u001b[49m\u001b[43m \u001b[49m\u001b[43minputs\u001b[49m\u001b[38;5;241;43m=\u001b[39;49m\u001b[43minputs\u001b[49m\n\u001b[1;32m    489\u001b[0m \u001b[43m\u001b[49m\u001b[43m)\u001b[49m\n",
      "File \u001b[0;32m~/.local/lib/python3.10/site-packages/torch/autograd/__init__.py:200\u001b[0m, in \u001b[0;36mbackward\u001b[0;34m(tensors, grad_tensors, retain_graph, create_graph, grad_variables, inputs)\u001b[0m\n\u001b[1;32m    195\u001b[0m     retain_graph \u001b[38;5;241m=\u001b[39m create_graph\n\u001b[1;32m    197\u001b[0m \u001b[38;5;66;03m# The reason we repeat same the comment below is that\u001b[39;00m\n\u001b[1;32m    198\u001b[0m \u001b[38;5;66;03m# some Python versions print out the first line of a multi-line function\u001b[39;00m\n\u001b[1;32m    199\u001b[0m \u001b[38;5;66;03m# calls in the traceback and some print out the last line\u001b[39;00m\n\u001b[0;32m--> 200\u001b[0m \u001b[43mVariable\u001b[49m\u001b[38;5;241;43m.\u001b[39;49m\u001b[43m_execution_engine\u001b[49m\u001b[38;5;241;43m.\u001b[39;49m\u001b[43mrun_backward\u001b[49m\u001b[43m(\u001b[49m\u001b[43m  \u001b[49m\u001b[38;5;66;43;03m# Calls into the C++ engine to run the backward pass\u001b[39;49;00m\n\u001b[1;32m    201\u001b[0m \u001b[43m    \u001b[49m\u001b[43mtensors\u001b[49m\u001b[43m,\u001b[49m\u001b[43m \u001b[49m\u001b[43mgrad_tensors_\u001b[49m\u001b[43m,\u001b[49m\u001b[43m \u001b[49m\u001b[43mretain_graph\u001b[49m\u001b[43m,\u001b[49m\u001b[43m \u001b[49m\u001b[43mcreate_graph\u001b[49m\u001b[43m,\u001b[49m\u001b[43m \u001b[49m\u001b[43minputs\u001b[49m\u001b[43m,\u001b[49m\n\u001b[1;32m    202\u001b[0m \u001b[43m    \u001b[49m\u001b[43mallow_unreachable\u001b[49m\u001b[38;5;241;43m=\u001b[39;49m\u001b[38;5;28;43;01mTrue\u001b[39;49;00m\u001b[43m,\u001b[49m\u001b[43m \u001b[49m\u001b[43maccumulate_grad\u001b[49m\u001b[38;5;241;43m=\u001b[39;49m\u001b[38;5;28;43;01mTrue\u001b[39;49;00m\u001b[43m)\u001b[49m\n",
      "\u001b[0;31mKeyboardInterrupt\u001b[0m: "
     ]
    }
   ],
   "source": [
    "from torch.utils.data import DataLoader, SubsetRandomSampler\n",
    "from sklearn.model_selection import KFold\n",
    "\n",
    "k = 10  # Number of folds\n",
    "kf = KFold(n_splits=k, shuffle=True, random_state=42)\n",
    "\n",
    "# Convert the multilabel indicator target to numpy array\n",
    "targets = dataset_train.tensors[1].numpy()\n",
    "\n",
    "# Initialize lists to store the evaluation metrics for each fold\n",
    "training_loss_lists = []\n",
    "validation_loss_lists = []\n",
    "accuracy_lists = []\n",
    "precision_lists = []\n",
    "f1_score_lists = []\n",
    "\n",
    "# Perform multilabel k-fold cross-validation\n",
    "for fold, (train_index, val_index) in enumerate(kf.split(targets)):\n",
    "    print(f\"\\nFold {fold+1}\")\n",
    "    train_sampler = SubsetRandomSampler(train_index)\n",
    "    val_sampler = SubsetRandomSampler(val_index)\n",
    "\n",
    "    # Create data loaders for training and validation\n",
    "    dataloader_train = DataLoader(dataset_train, batch_size=batch_size, sampler=train_sampler)\n",
    "    dataloader_vals = DataLoader(dataset_train, batch_size=batch_size, sampler=val_sampler)\n",
    "\n",
    "    # Initialize metrics lists for this fold\n",
    "    fold_training_loss_list = []\n",
    "    fold_validation_loss_list = []\n",
    "    fold_accuracy_list = []\n",
    "    fold_precision_list = []\n",
    "    fold_f1_score_list = []\n",
    "\n",
    "    try:\n",
    "        fold_training_loss_list, fold_validation_loss_list, fold_accuracy_list, fold_precision_list, fold_f1_score_list = \\\n",
    "        train_model(trainer, dataloader_train, dataloader_vals, epochs, patience)\n",
    "    except Exception as e:\n",
    "        print(f\"Continue to the next fold {fold+1}: {str(e)}\")\n",
    "        continue\n",
    "\n",
    "    # Append the metrics for this fold to the overall lists\n",
    "    training_loss_lists.append(fold_training_loss_list)\n",
    "    validation_loss_lists.append(fold_validation_loss_list)\n",
    "    accuracy_lists.append(fold_accuracy_list)\n",
    "    precision_lists.append(fold_precision_list)\n",
    "    f1_score_lists.append(fold_f1_score_list)"
   ]
  },
  {
   "cell_type": "code",
   "execution_count": null,
   "id": "f24429e4-743b-4a11-80d6-5e2fadaabc9e",
   "metadata": {},
   "outputs": [],
   "source": [
    "import numpy as np\n",
    "from sklearn.metrics import accuracy_score, f1_score, confusion_matrix\n",
    "\n",
    "model.load_state_dict(\n",
    "    torch.load(\n",
    "        \"Models/finetuned_gpt_bert_imdb_ft_epoch24.model\", \n",
    "        map_location = torch.device('cuda')\n",
    "    )\n",
    ")\n",
    "_, predictions, true_vals = evaluate(dataloader_test)\n",
    "accuracy_per_class(predictions, true_vals, label_dict)"
   ]
  },
  {
   "cell_type": "code",
   "execution_count": 20,
   "id": "bba4c1e0-c1c8-49c0-9e52-d9df797db69f",
   "metadata": {},
   "outputs": [
    {
     "data": {
      "application/vnd.jupyter.widget-view+json": {
       "model_id": "ddc4512de4ae4beb8b69aee9a5e92444",
       "version_major": 2,
       "version_minor": 0
      },
      "text/plain": [
       "  0%|          | 0/50 [00:00<?, ?it/s]"
      ]
     },
     "metadata": {},
     "output_type": "display_data"
    },
    {
     "data": {
      "application/vnd.jupyter.widget-view+json": {
       "model_id": "",
       "version_major": 2,
       "version_minor": 0
      },
      "text/plain": [
       "Epoch 1:   0%|          | 0/1407 [00:00<?, ?it/s]"
      ]
     },
     "metadata": {},
     "output_type": "display_data"
    },
    {
     "name": "stdout",
     "output_type": "stream",
     "text": [
      "\n",
      "Epoch 1\n",
      "Training loss: 0.782964779475774\n",
      "Validation loss: 0.651499754007398\n",
      "F1 Score (weighted): 0.6189749436881808\n"
     ]
    },
    {
     "data": {
      "application/vnd.jupyter.widget-view+json": {
       "model_id": "",
       "version_major": 2,
       "version_minor": 0
      },
      "text/plain": [
       "Epoch 2:   0%|          | 0/1407 [00:00<?, ?it/s]"
      ]
     },
     "metadata": {},
     "output_type": "display_data"
    },
    {
     "name": "stdout",
     "output_type": "stream",
     "text": [
      "\n",
      "Epoch 2\n",
      "Training loss: 0.7006722647371069\n",
      "Validation loss: 0.6060718250289913\n",
      "F1 Score (weighted): 0.6667792643998811\n",
      "\u001b[92m10.51% Training loss decreased compared to the previous epoch\u001b[0m\n",
      "\u001b[92m6.97% Validation loss decreased compared to the previous epoch\u001b[0m\n",
      "\u001b[92m7.72% F1 Score increased compared to the previous epoch\u001b[0m\n"
     ]
    },
    {
     "data": {
      "application/vnd.jupyter.widget-view+json": {
       "model_id": "",
       "version_major": 2,
       "version_minor": 0
      },
      "text/plain": [
       "Epoch 3:   0%|          | 0/1407 [00:00<?, ?it/s]"
      ]
     },
     "metadata": {},
     "output_type": "display_data"
    },
    {
     "name": "stdout",
     "output_type": "stream",
     "text": [
      "\n",
      "Epoch 3\n",
      "Training loss: 0.6392946096922204\n",
      "Validation loss: 0.5573314098273038\n",
      "F1 Score (weighted): 0.7156725382403872\n",
      "\u001b[92m8.76% Training loss decreased compared to the previous epoch\u001b[0m\n",
      "\u001b[92m8.04% Validation loss decreased compared to the previous epoch\u001b[0m\n",
      "\u001b[92m7.33% F1 Score increased compared to the previous epoch\u001b[0m\n"
     ]
    },
    {
     "data": {
      "application/vnd.jupyter.widget-view+json": {
       "model_id": "",
       "version_major": 2,
       "version_minor": 0
      },
      "text/plain": [
       "Epoch 4:   0%|          | 0/1407 [00:00<?, ?it/s]"
      ]
     },
     "metadata": {},
     "output_type": "display_data"
    },
    {
     "name": "stdout",
     "output_type": "stream",
     "text": [
      "\n",
      "Epoch 4\n",
      "Training loss: 0.5846698181736782\n",
      "Validation loss: 0.5442088356555004\n",
      "F1 Score (weighted): 0.7301697955731492\n",
      "\u001b[92m8.54% Training loss decreased compared to the previous epoch\u001b[0m\n",
      "\u001b[92m2.35% Validation loss decreased compared to the previous epoch\u001b[0m\n",
      "\u001b[92m2.03% F1 Score increased compared to the previous epoch\u001b[0m\n"
     ]
    },
    {
     "data": {
      "application/vnd.jupyter.widget-view+json": {
       "model_id": "",
       "version_major": 2,
       "version_minor": 0
      },
      "text/plain": [
       "Epoch 5:   0%|          | 0/1407 [00:00<?, ?it/s]"
      ]
     },
     "metadata": {},
     "output_type": "display_data"
    },
    {
     "name": "stdout",
     "output_type": "stream",
     "text": [
      "\n",
      "Epoch 5\n",
      "Training loss: 0.5381363491979828\n",
      "Validation loss: 0.5864412348696\n",
      "F1 Score (weighted): 0.6992156520534273\n",
      "\u001b[92m7.96% Training loss decreased compared to the previous epoch\u001b[0m\n",
      "\u001b[91m7.76% Validation loss increased compared to the previous epoch\u001b[0m\n",
      "\u001b[91m4.24% F1 Score decreased compared to the previous epoch\u001b[0m\n"
     ]
    },
    {
     "data": {
      "application/vnd.jupyter.widget-view+json": {
       "model_id": "",
       "version_major": 2,
       "version_minor": 0
      },
      "text/plain": [
       "Epoch 6:   0%|          | 0/1407 [00:00<?, ?it/s]"
      ]
     },
     "metadata": {},
     "output_type": "display_data"
    },
    {
     "name": "stdout",
     "output_type": "stream",
     "text": [
      "\n",
      "Epoch 6\n",
      "Training loss: 0.5090182397432503\n",
      "Validation loss: 0.4680354074311043\n",
      "F1 Score (weighted): 0.7776148201491427\n",
      "\u001b[92m5.41% Training loss decreased compared to the previous epoch\u001b[0m\n",
      "\u001b[92m20.19% Validation loss decreased compared to the previous epoch\u001b[0m\n",
      "\u001b[92m11.21% F1 Score increased compared to the previous epoch\u001b[0m\n"
     ]
    },
    {
     "data": {
      "application/vnd.jupyter.widget-view+json": {
       "model_id": "",
       "version_major": 2,
       "version_minor": 0
      },
      "text/plain": [
       "Epoch 7:   0%|          | 0/1407 [00:00<?, ?it/s]"
      ]
     },
     "metadata": {},
     "output_type": "display_data"
    },
    {
     "name": "stdout",
     "output_type": "stream",
     "text": [
      "\n",
      "Epoch 7\n",
      "Training loss: 0.48354172035681076\n",
      "Validation loss: 0.4719412821516042\n",
      "F1 Score (weighted): 0.7813786704781964\n",
      "\u001b[92m5.01% Training loss decreased compared to the previous epoch\u001b[0m\n",
      "\u001b[91m0.83% Validation loss increased compared to the previous epoch\u001b[0m\n",
      "\u001b[92m0.48% F1 Score increased compared to the previous epoch\u001b[0m\n"
     ]
    },
    {
     "data": {
      "application/vnd.jupyter.widget-view+json": {
       "model_id": "",
       "version_major": 2,
       "version_minor": 0
      },
      "text/plain": [
       "Epoch 8:   0%|          | 0/1407 [00:00<?, ?it/s]"
      ]
     },
     "metadata": {},
     "output_type": "display_data"
    },
    {
     "name": "stdout",
     "output_type": "stream",
     "text": [
      "\n",
      "Epoch 8\n",
      "Training loss: 0.46091854562764484\n",
      "Validation loss: 0.442907333388324\n",
      "F1 Score (weighted): 0.7928787053161452\n",
      "\u001b[92m4.68% Training loss decreased compared to the previous epoch\u001b[0m\n",
      "\u001b[92m6.15% Validation loss decreased compared to the previous epoch\u001b[0m\n",
      "\u001b[92m1.47% F1 Score increased compared to the previous epoch\u001b[0m\n"
     ]
    },
    {
     "data": {
      "application/vnd.jupyter.widget-view+json": {
       "model_id": "",
       "version_major": 2,
       "version_minor": 0
      },
      "text/plain": [
       "Epoch 9:   0%|          | 0/1407 [00:00<?, ?it/s]"
      ]
     },
     "metadata": {},
     "output_type": "display_data"
    },
    {
     "name": "stdout",
     "output_type": "stream",
     "text": [
      "\n",
      "Epoch 9\n",
      "Training loss: 0.4409427314456592\n",
      "Validation loss: 0.4324565023298227\n",
      "F1 Score (weighted): 0.8000082493096604\n",
      "\u001b[92m4.33% Training loss decreased compared to the previous epoch\u001b[0m\n",
      "\u001b[92m2.36% Validation loss decreased compared to the previous epoch\u001b[0m\n",
      "\u001b[92m0.9% F1 Score increased compared to the previous epoch\u001b[0m\n"
     ]
    },
    {
     "data": {
      "application/vnd.jupyter.widget-view+json": {
       "model_id": "",
       "version_major": 2,
       "version_minor": 0
      },
      "text/plain": [
       "Epoch 10:   0%|          | 0/1407 [00:00<?, ?it/s]"
      ]
     },
     "metadata": {},
     "output_type": "display_data"
    },
    {
     "name": "stdout",
     "output_type": "stream",
     "text": [
      "\n",
      "Epoch 10\n",
      "Training loss: 0.42150742464778945\n",
      "Validation loss: 0.43913122770863317\n",
      "F1 Score (weighted): 0.8004658277519818\n",
      "\u001b[92m4.41% Training loss decreased compared to the previous epoch\u001b[0m\n",
      "\u001b[91m1.54% Validation loss increased compared to the previous epoch\u001b[0m\n",
      "\u001b[92m0.06% F1 Score increased compared to the previous epoch\u001b[0m\n"
     ]
    },
    {
     "data": {
      "application/vnd.jupyter.widget-view+json": {
       "model_id": "",
       "version_major": 2,
       "version_minor": 0
      },
      "text/plain": [
       "Epoch 11:   0%|          | 0/1407 [00:00<?, ?it/s]"
      ]
     },
     "metadata": {},
     "output_type": "display_data"
    },
    {
     "name": "stdout",
     "output_type": "stream",
     "text": [
      "\n",
      "Epoch 11\n",
      "Training loss: 0.4015412513635306\n",
      "Validation loss: 0.41304573386440424\n",
      "F1 Score (weighted): 0.8133995912704647\n",
      "\u001b[92m4.74% Training loss decreased compared to the previous epoch\u001b[0m\n",
      "\u001b[92m5.94% Validation loss decreased compared to the previous epoch\u001b[0m\n",
      "\u001b[92m1.62% F1 Score increased compared to the previous epoch\u001b[0m\n"
     ]
    },
    {
     "data": {
      "application/vnd.jupyter.widget-view+json": {
       "model_id": "",
       "version_major": 2,
       "version_minor": 0
      },
      "text/plain": [
       "Epoch 12:   0%|          | 0/1407 [00:00<?, ?it/s]"
      ]
     },
     "metadata": {},
     "output_type": "display_data"
    },
    {
     "name": "stdout",
     "output_type": "stream",
     "text": [
      "\n",
      "Epoch 12\n",
      "Training loss: 0.3904149946230434\n",
      "Validation loss: 0.4112921615255733\n",
      "F1 Score (weighted): 0.818351501466007\n",
      "\u001b[92m2.77% Training loss decreased compared to the previous epoch\u001b[0m\n",
      "\u001b[92m0.42% Validation loss decreased compared to the previous epoch\u001b[0m\n",
      "\u001b[92m0.61% F1 Score increased compared to the previous epoch\u001b[0m\n"
     ]
    },
    {
     "data": {
      "application/vnd.jupyter.widget-view+json": {
       "model_id": "",
       "version_major": 2,
       "version_minor": 0
      },
      "text/plain": [
       "Epoch 13:   0%|          | 0/1407 [00:00<?, ?it/s]"
      ]
     },
     "metadata": {},
     "output_type": "display_data"
    },
    {
     "name": "stdout",
     "output_type": "stream",
     "text": [
      "\n",
      "Epoch 13\n",
      "Training loss: 0.37818061789152213\n",
      "Validation loss: 0.4048541978106465\n",
      "F1 Score (weighted): 0.8189421168086678\n",
      "\u001b[92m3.13% Training loss decreased compared to the previous epoch\u001b[0m\n",
      "\u001b[92m1.57% Validation loss decreased compared to the previous epoch\u001b[0m\n",
      "\u001b[92m0.07% F1 Score increased compared to the previous epoch\u001b[0m\n"
     ]
    },
    {
     "data": {
      "application/vnd.jupyter.widget-view+json": {
       "model_id": "",
       "version_major": 2,
       "version_minor": 0
      },
      "text/plain": [
       "Epoch 14:   0%|          | 0/1407 [00:00<?, ?it/s]"
      ]
     },
     "metadata": {},
     "output_type": "display_data"
    },
    {
     "name": "stdout",
     "output_type": "stream",
     "text": [
      "\n",
      "Epoch 14\n",
      "Training loss: 0.3673821712659398\n",
      "Validation loss: 0.48561146805540767\n",
      "F1 Score (weighted): 0.786609990280085\n",
      "\u001b[92m2.86% Training loss decreased compared to the previous epoch\u001b[0m\n",
      "\u001b[91m19.95% Validation loss increased compared to the previous epoch\u001b[0m\n",
      "\u001b[91m3.95% F1 Score decreased compared to the previous epoch\u001b[0m\n"
     ]
    },
    {
     "data": {
      "application/vnd.jupyter.widget-view+json": {
       "model_id": "",
       "version_major": 2,
       "version_minor": 0
      },
      "text/plain": [
       "Epoch 15:   0%|          | 0/1407 [00:00<?, ?it/s]"
      ]
     },
     "metadata": {},
     "output_type": "display_data"
    },
    {
     "name": "stdout",
     "output_type": "stream",
     "text": [
      "\n",
      "Epoch 15\n",
      "Training loss: 0.35415413085829306\n",
      "Validation loss: 0.40965552314858517\n",
      "F1 Score (weighted): 0.8235238752273518\n",
      "\u001b[92m3.6% Training loss decreased compared to the previous epoch\u001b[0m\n",
      "\u001b[92m15.64% Validation loss decreased compared to the previous epoch\u001b[0m\n",
      "\u001b[92m4.69% F1 Score increased compared to the previous epoch\u001b[0m\n"
     ]
    },
    {
     "data": {
      "application/vnd.jupyter.widget-view+json": {
       "model_id": "",
       "version_major": 2,
       "version_minor": 0
      },
      "text/plain": [
       "Epoch 16:   0%|          | 0/1407 [00:00<?, ?it/s]"
      ]
     },
     "metadata": {},
     "output_type": "display_data"
    },
    {
     "name": "stdout",
     "output_type": "stream",
     "text": [
      "\n",
      "Epoch 16\n",
      "Training loss: 0.3462603135509701\n",
      "Validation loss: 0.39976723933317154\n",
      "F1 Score (weighted): 0.8289153219891101\n",
      "\u001b[92m2.23% Training loss decreased compared to the previous epoch\u001b[0m\n",
      "\u001b[92m2.41% Validation loss decreased compared to the previous epoch\u001b[0m\n",
      "\u001b[92m0.65% F1 Score increased compared to the previous epoch\u001b[0m\n"
     ]
    },
    {
     "data": {
      "application/vnd.jupyter.widget-view+json": {
       "model_id": "",
       "version_major": 2,
       "version_minor": 0
      },
      "text/plain": [
       "Epoch 17:   0%|          | 0/1407 [00:00<?, ?it/s]"
      ]
     },
     "metadata": {},
     "output_type": "display_data"
    },
    {
     "name": "stdout",
     "output_type": "stream",
     "text": [
      "\n",
      "Epoch 17\n",
      "Training loss: 0.3407427942792024\n",
      "Validation loss: 0.3971020080702128\n",
      "F1 Score (weighted): 0.8292483657186928\n",
      "\u001b[92m1.59% Training loss decreased compared to the previous epoch\u001b[0m\n",
      "\u001b[92m0.67% Validation loss decreased compared to the previous epoch\u001b[0m\n",
      "\u001b[92m0.04% F1 Score increased compared to the previous epoch\u001b[0m\n"
     ]
    },
    {
     "data": {
      "application/vnd.jupyter.widget-view+json": {
       "model_id": "",
       "version_major": 2,
       "version_minor": 0
      },
      "text/plain": [
       "Epoch 18:   0%|          | 0/1407 [00:00<?, ?it/s]"
      ]
     },
     "metadata": {},
     "output_type": "display_data"
    },
    {
     "name": "stdout",
     "output_type": "stream",
     "text": [
      "\n",
      "Epoch 18\n",
      "Training loss: 0.33238119036276964\n",
      "Validation loss: 0.3846642963960052\n",
      "F1 Score (weighted): 0.8331168960750132\n",
      "\u001b[92m2.45% Training loss decreased compared to the previous epoch\u001b[0m\n",
      "\u001b[92m3.13% Validation loss decreased compared to the previous epoch\u001b[0m\n",
      "\u001b[92m0.47% F1 Score increased compared to the previous epoch\u001b[0m\n"
     ]
    },
    {
     "data": {
      "application/vnd.jupyter.widget-view+json": {
       "model_id": "",
       "version_major": 2,
       "version_minor": 0
      },
      "text/plain": [
       "Epoch 19:   0%|          | 0/1407 [00:00<?, ?it/s]"
      ]
     },
     "metadata": {},
     "output_type": "display_data"
    },
    {
     "name": "stdout",
     "output_type": "stream",
     "text": [
      "\n",
      "Epoch 19\n",
      "Training loss: 0.3193972391588051\n",
      "Validation loss: 0.39541542817023956\n",
      "F1 Score (weighted): 0.8335980170131597\n",
      "\u001b[92m3.91% Training loss decreased compared to the previous epoch\u001b[0m\n",
      "\u001b[91m2.79% Validation loss increased compared to the previous epoch\u001b[0m\n",
      "\u001b[92m0.06% F1 Score increased compared to the previous epoch\u001b[0m\n"
     ]
    },
    {
     "data": {
      "application/vnd.jupyter.widget-view+json": {
       "model_id": "",
       "version_major": 2,
       "version_minor": 0
      },
      "text/plain": [
       "Epoch 20:   0%|          | 0/1407 [00:00<?, ?it/s]"
      ]
     },
     "metadata": {},
     "output_type": "display_data"
    },
    {
     "name": "stdout",
     "output_type": "stream",
     "text": [
      "\n",
      "Epoch 20\n",
      "Training loss: 0.312567058638236\n",
      "Validation loss: 0.3849673215478602\n",
      "F1 Score (weighted): 0.8365977496683799\n",
      "\u001b[92m2.14% Training loss decreased compared to the previous epoch\u001b[0m\n",
      "\u001b[92m2.64% Validation loss decreased compared to the previous epoch\u001b[0m\n",
      "\u001b[92m0.36% F1 Score increased compared to the previous epoch\u001b[0m\n"
     ]
    },
    {
     "data": {
      "application/vnd.jupyter.widget-view+json": {
       "model_id": "",
       "version_major": 2,
       "version_minor": 0
      },
      "text/plain": [
       "Epoch 21:   0%|          | 0/1407 [00:00<?, ?it/s]"
      ]
     },
     "metadata": {},
     "output_type": "display_data"
    },
    {
     "name": "stdout",
     "output_type": "stream",
     "text": [
      "\n",
      "Epoch 21\n",
      "Training loss: 0.304571732402102\n",
      "Validation loss: 0.3844860639918884\n",
      "F1 Score (weighted): 0.8393984093605247\n",
      "\u001b[92m2.56% Training loss decreased compared to the previous epoch\u001b[0m\n",
      "\u001b[92m0.13% Validation loss decreased compared to the previous epoch\u001b[0m\n",
      "\u001b[92m0.33% F1 Score increased compared to the previous epoch\u001b[0m\n"
     ]
    },
    {
     "data": {
      "application/vnd.jupyter.widget-view+json": {
       "model_id": "",
       "version_major": 2,
       "version_minor": 0
      },
      "text/plain": [
       "Epoch 22:   0%|          | 0/1407 [00:00<?, ?it/s]"
      ]
     },
     "metadata": {},
     "output_type": "display_data"
    },
    {
     "name": "stdout",
     "output_type": "stream",
     "text": [
      "\n",
      "Epoch 22\n",
      "Training loss: 0.2968750688768314\n",
      "Validation loss: 0.44201964417964656\n",
      "F1 Score (weighted): 0.8225372347667461\n",
      "\u001b[92m2.53% Training loss decreased compared to the previous epoch\u001b[0m\n",
      "\u001b[91m14.96% Validation loss increased compared to the previous epoch\u001b[0m\n",
      "\u001b[91m2.01% F1 Score decreased compared to the previous epoch\u001b[0m\n"
     ]
    },
    {
     "data": {
      "application/vnd.jupyter.widget-view+json": {
       "model_id": "",
       "version_major": 2,
       "version_minor": 0
      },
      "text/plain": [
       "Epoch 23:   0%|          | 0/1407 [00:00<?, ?it/s]"
      ]
     },
     "metadata": {},
     "output_type": "display_data"
    },
    {
     "name": "stdout",
     "output_type": "stream",
     "text": [
      "\n",
      "Epoch 23\n",
      "Training loss: 0.2985411252847634\n",
      "Validation loss: 0.38632659805236685\n",
      "F1 Score (weighted): 0.84079999898112\n",
      "\u001b[91m0.56% Training loss increased compared to the previous epoch\u001b[0m\n",
      "\u001b[92m12.6% Validation loss decreased compared to the previous epoch\u001b[0m\n",
      "\u001b[92m2.22% F1 Score increased compared to the previous epoch\u001b[0m\n"
     ]
    },
    {
     "data": {
      "application/vnd.jupyter.widget-view+json": {
       "model_id": "",
       "version_major": 2,
       "version_minor": 0
      },
      "text/plain": [
       "Epoch 24:   0%|          | 0/1407 [00:00<?, ?it/s]"
      ]
     },
     "metadata": {},
     "output_type": "display_data"
    },
    {
     "name": "stdout",
     "output_type": "stream",
     "text": [
      "\n",
      "Epoch 24\n",
      "Training loss: 0.288366599576369\n",
      "Validation loss: 0.3778285907434868\n",
      "F1 Score (weighted): 0.8431183935323497\n",
      "\u001b[92m3.41% Training loss decreased compared to the previous epoch\u001b[0m\n",
      "\u001b[92m2.2% Validation loss decreased compared to the previous epoch\u001b[0m\n",
      "\u001b[92m0.28% F1 Score increased compared to the previous epoch\u001b[0m\n"
     ]
    },
    {
     "data": {
      "application/vnd.jupyter.widget-view+json": {
       "model_id": "",
       "version_major": 2,
       "version_minor": 0
      },
      "text/plain": [
       "Epoch 25:   0%|          | 0/1407 [00:00<?, ?it/s]"
      ]
     },
     "metadata": {},
     "output_type": "display_data"
    },
    {
     "name": "stdout",
     "output_type": "stream",
     "text": [
      "\n",
      "Epoch 25\n",
      "Training loss: 0.28582870392969467\n",
      "Validation loss: 0.41931330694466046\n",
      "F1 Score (weighted): 0.8354956542431764\n",
      "\u001b[92m0.88% Training loss decreased compared to the previous epoch\u001b[0m\n",
      "\u001b[91m10.98% Validation loss increased compared to the previous epoch\u001b[0m\n",
      "\u001b[91m0.9% F1 Score decreased compared to the previous epoch\u001b[0m\n"
     ]
    },
    {
     "data": {
      "application/vnd.jupyter.widget-view+json": {
       "model_id": "",
       "version_major": 2,
       "version_minor": 0
      },
      "text/plain": [
       "Epoch 26:   0%|          | 0/1407 [00:00<?, ?it/s]"
      ]
     },
     "metadata": {},
     "output_type": "display_data"
    },
    {
     "name": "stdout",
     "output_type": "stream",
     "text": [
      "\n",
      "Epoch 26\n",
      "Training loss: 0.284107506542593\n",
      "Validation loss: 0.39759215524316466\n",
      "F1 Score (weighted): 0.8439124751066813\n",
      "\u001b[92m0.6% Training loss decreased compared to the previous epoch\u001b[0m\n",
      "\u001b[92m5.18% Validation loss decreased compared to the previous epoch\u001b[0m\n",
      "\u001b[92m1.01% F1 Score increased compared to the previous epoch\u001b[0m\n"
     ]
    },
    {
     "data": {
      "application/vnd.jupyter.widget-view+json": {
       "model_id": "",
       "version_major": 2,
       "version_minor": 0
      },
      "text/plain": [
       "Epoch 27:   0%|          | 0/1407 [00:00<?, ?it/s]"
      ]
     },
     "metadata": {},
     "output_type": "display_data"
    },
    {
     "name": "stdout",
     "output_type": "stream",
     "text": [
      "\n",
      "Epoch 27\n",
      "Training loss: 0.281220548802771\n",
      "Validation loss: 0.4469285018525193\n",
      "F1 Score (weighted): 0.8199839633713859\n",
      "\u001b[92m1.02% Training loss decreased compared to the previous epoch\u001b[0m\n",
      "\u001b[91m12.41% Validation loss increased compared to the previous epoch\u001b[0m\n",
      "\u001b[91m2.84% F1 Score decreased compared to the previous epoch\u001b[0m\n"
     ]
    },
    {
     "data": {
      "application/vnd.jupyter.widget-view+json": {
       "model_id": "",
       "version_major": 2,
       "version_minor": 0
      },
      "text/plain": [
       "Epoch 28:   0%|          | 0/1407 [00:00<?, ?it/s]"
      ]
     },
     "metadata": {},
     "output_type": "display_data"
    },
    {
     "name": "stdout",
     "output_type": "stream",
     "text": [
      "\n",
      "Epoch 28\n",
      "Training loss: 0.2756783615522399\n",
      "Validation loss: 0.38789480167392804\n",
      "F1 Score (weighted): 0.8417578302343903\n",
      "\u001b[92m1.97% Training loss decreased compared to the previous epoch\u001b[0m\n",
      "\u001b[92m13.21% Validation loss decreased compared to the previous epoch\u001b[0m\n",
      "\u001b[92m2.66% F1 Score increased compared to the previous epoch\u001b[0m\n"
     ]
    },
    {
     "data": {
      "application/vnd.jupyter.widget-view+json": {
       "model_id": "",
       "version_major": 2,
       "version_minor": 0
      },
      "text/plain": [
       "Epoch 29:   0%|          | 0/1407 [00:00<?, ?it/s]"
      ]
     },
     "metadata": {},
     "output_type": "display_data"
    },
    {
     "name": "stdout",
     "output_type": "stream",
     "text": [
      "\n",
      "Epoch 29\n",
      "Training loss: 0.2691458402573533\n",
      "Validation loss: 0.3903198748843665\n",
      "F1 Score (weighted): 0.8420434835969586\n",
      "\u001b[92m2.37% Training loss decreased compared to the previous epoch\u001b[0m\n",
      "\u001b[91m0.63% Validation loss increased compared to the previous epoch\u001b[0m\n",
      "\u001b[92m0.03% F1 Score increased compared to the previous epoch\u001b[0m\n"
     ]
    },
    {
     "data": {
      "application/vnd.jupyter.widget-view+json": {
       "model_id": "",
       "version_major": 2,
       "version_minor": 0
      },
      "text/plain": [
       "Epoch 30:   0%|          | 0/1407 [00:00<?, ?it/s]"
      ]
     },
     "metadata": {},
     "output_type": "display_data"
    },
    {
     "name": "stdout",
     "output_type": "stream",
     "text": [
      "\n",
      "Epoch 30\n",
      "Training loss: 0.25967695359564263\n",
      "Validation loss: 0.38537568756470353\n",
      "F1 Score (weighted): 0.8454096289059982\n",
      "\u001b[92m3.52% Training loss decreased compared to the previous epoch\u001b[0m\n",
      "\u001b[92m1.27% Validation loss decreased compared to the previous epoch\u001b[0m\n",
      "\u001b[92m0.4% F1 Score increased compared to the previous epoch\u001b[0m\n"
     ]
    },
    {
     "data": {
      "application/vnd.jupyter.widget-view+json": {
       "model_id": "",
       "version_major": 2,
       "version_minor": 0
      },
      "text/plain": [
       "Epoch 31:   0%|          | 0/1407 [00:00<?, ?it/s]"
      ]
     },
     "metadata": {},
     "output_type": "display_data"
    },
    {
     "name": "stdout",
     "output_type": "stream",
     "text": [
      "\n",
      "Epoch 31\n",
      "Training loss: 0.2616901418568822\n",
      "Validation loss: 0.3967990945626625\n",
      "F1 Score (weighted): 0.8469085563986932\n",
      "\u001b[91m0.78% Training loss increased compared to the previous epoch\u001b[0m\n",
      "\u001b[91m2.96% Validation loss increased compared to the previous epoch\u001b[0m\n",
      "\u001b[92m0.18% F1 Score increased compared to the previous epoch\u001b[0m\n"
     ]
    },
    {
     "data": {
      "application/vnd.jupyter.widget-view+json": {
       "model_id": "",
       "version_major": 2,
       "version_minor": 0
      },
      "text/plain": [
       "Epoch 32:   0%|          | 0/1407 [00:00<?, ?it/s]"
      ]
     },
     "metadata": {},
     "output_type": "display_data"
    },
    {
     "name": "stdout",
     "output_type": "stream",
     "text": [
      "\n",
      "Epoch 32\n",
      "Training loss: 0.2573293373961724\n",
      "Validation loss: 0.4011732647630433\n",
      "F1 Score (weighted): 0.8462534831069314\n",
      "\u001b[92m1.67% Training loss decreased compared to the previous epoch\u001b[0m\n",
      "\u001b[91m1.1% Validation loss increased compared to the previous epoch\u001b[0m\n",
      "\u001b[91m0.08% F1 Score decreased compared to the previous epoch\u001b[0m\n"
     ]
    },
    {
     "data": {
      "application/vnd.jupyter.widget-view+json": {
       "model_id": "",
       "version_major": 2,
       "version_minor": 0
      },
      "text/plain": [
       "Epoch 33:   0%|          | 0/1407 [00:00<?, ?it/s]"
      ]
     },
     "metadata": {},
     "output_type": "display_data"
    },
    {
     "name": "stdout",
     "output_type": "stream",
     "text": [
      "\n",
      "Epoch 33\n",
      "Training loss: 0.2567507979938629\n",
      "Validation loss: 0.40387583510522385\n",
      "F1 Score (weighted): 0.8502742445419603\n",
      "\u001b[92m0.22% Training loss decreased compared to the previous epoch\u001b[0m\n",
      "\u001b[91m0.67% Validation loss increased compared to the previous epoch\u001b[0m\n",
      "\u001b[92m0.48% F1 Score increased compared to the previous epoch\u001b[0m\n"
     ]
    },
    {
     "data": {
      "application/vnd.jupyter.widget-view+json": {
       "model_id": "",
       "version_major": 2,
       "version_minor": 0
      },
      "text/plain": [
       "Epoch 34:   0%|          | 0/1407 [00:00<?, ?it/s]"
      ]
     },
     "metadata": {},
     "output_type": "display_data"
    },
    {
     "name": "stdout",
     "output_type": "stream",
     "text": [
      "\n",
      "Epoch 34\n",
      "Training loss: 0.2562329659467482\n",
      "Validation loss: 0.3943674088004674\n",
      "F1 Score (weighted): 0.8436784408609991\n",
      "\u001b[92m0.2% Training loss decreased compared to the previous epoch\u001b[0m\n",
      "\u001b[92m2.35% Validation loss decreased compared to the previous epoch\u001b[0m\n",
      "\u001b[91m0.78% F1 Score decreased compared to the previous epoch\u001b[0m\n",
      "\n",
      "Early stopping triggered. Training stopped.\n",
      "\n",
      "Total training time: 307.0270910104116 minutes\n",
      "Final Accuracy: 0.84396\n",
      "Final Precision: 0.8464560824808088\n"
     ]
    },
    {
     "data": {
      "image/png": "[encoded data removed]",
      "text/plain": [
       "<Figure size 800x600 with 1 Axes>"
      ]
     },
     "metadata": {},
     "output_type": "display_data"
    },
    {
     "name": "stdout",
     "output_type": "stream",
     "text": [
      "Epoch                 Training Loss        Validation Loss      F1 Score            Accuracy               Precision\n",
      "--------------------  -------------------  -------------------  ------------------  ------------------  ------------\n",
      "1                     0.782964779475774    0.651499754007398    0.6189749436881808  0.6194                  0.619935\n",
      "2                     \u001b[92m0.7006722647371069\u001b[0m   \u001b[92m0.6060718250289913\u001b[0m   \u001b[92m0.6667792643998811\u001b[0m  \u001b[92m\u001b[92m0.6667792643998811\u001b[0m\u001b[0m      \u001b[92m\u001b[92m0.666779\u001b[0m\u001b[0m\n",
      "3                     \u001b[92m0.6392946096922204\u001b[0m   \u001b[92m0.5573314098273038\u001b[0m   \u001b[92m0.7156725382403872\u001b[0m  \u001b[92m\u001b[92m0.7156725382403872\u001b[0m\u001b[0m      \u001b[92m\u001b[92m0.715673\u001b[0m\u001b[0m\n",
      "4                     \u001b[92m0.5846698181736782\u001b[0m   \u001b[92m0.5442088356555004\u001b[0m   \u001b[92m0.7301697955731492\u001b[0m  \u001b[92m\u001b[92m0.7301697955731492\u001b[0m\u001b[0m      \u001b[92m\u001b[92m0.73017\u001b[0m\u001b[0m\n",
      "5                     \u001b[92m0.5381363491979828\u001b[0m   \u001b[91m0.5864412348696\u001b[0m      \u001b[91m0.6992156520534273\u001b[0m  \u001b[91m\u001b[91m0.6992156520534273\u001b[0m\u001b[0m      \u001b[92m\u001b[91m0.699216\u001b[0m\u001b[0m\n",
      "6                     \u001b[92m0.5090182397432503\u001b[0m   \u001b[92m0.4680354074311043\u001b[0m   \u001b[92m0.7776148201491427\u001b[0m  \u001b[92m\u001b[92m0.7776148201491427\u001b[0m\u001b[0m      \u001b[92m\u001b[92m0.777615\u001b[0m\u001b[0m\n",
      "7                     \u001b[92m0.48354172035681076\u001b[0m  \u001b[91m0.4719412821516042\u001b[0m   \u001b[92m0.7813786704781964\u001b[0m  \u001b[92m\u001b[92m0.7813786704781964\u001b[0m\u001b[0m      \u001b[92m\u001b[92m0.781379\u001b[0m\u001b[0m\n",
      "8                     \u001b[92m0.46091854562764484\u001b[0m  \u001b[92m0.442907333388324\u001b[0m    \u001b[92m0.7928787053161452\u001b[0m  \u001b[92m\u001b[92m0.7928787053161452\u001b[0m\u001b[0m      \u001b[92m\u001b[92m0.792879\u001b[0m\u001b[0m\n",
      "9                     \u001b[92m0.4409427314456592\u001b[0m   \u001b[92m0.4324565023298227\u001b[0m   \u001b[92m0.8000082493096604\u001b[0m  \u001b[92m\u001b[92m0.8000082493096604\u001b[0m\u001b[0m      \u001b[92m\u001b[92m0.800008\u001b[0m\u001b[0m\n",
      "10                    \u001b[92m0.42150742464778945\u001b[0m  \u001b[91m0.43913122770863317\u001b[0m  \u001b[92m0.8004658277519818\u001b[0m  \u001b[92m\u001b[92m0.8004658277519818\u001b[0m\u001b[0m      \u001b[92m\u001b[92m0.800466\u001b[0m\u001b[0m\n",
      "11                    \u001b[92m0.4015412513635306\u001b[0m   \u001b[92m0.41304573386440424\u001b[0m  \u001b[92m0.8133995912704647\u001b[0m  \u001b[92m\u001b[92m0.8133995912704647\u001b[0m\u001b[0m      \u001b[92m\u001b[92m0.8134\u001b[0m\u001b[0m\n",
      "12                    \u001b[92m0.3904149946230434\u001b[0m   \u001b[92m0.4112921615255733\u001b[0m   \u001b[92m0.818351501466007\u001b[0m   \u001b[92m\u001b[92m0.818351501466007\u001b[0m\u001b[0m       \u001b[92m\u001b[92m0.818352\u001b[0m\u001b[0m\n",
      "13                    \u001b[92m0.37818061789152213\u001b[0m  \u001b[92m0.4048541978106465\u001b[0m   \u001b[92m0.8189421168086678\u001b[0m  \u001b[92m\u001b[92m0.8189421168086678\u001b[0m\u001b[0m      \u001b[92m\u001b[92m0.818942\u001b[0m\u001b[0m\n",
      "14                    \u001b[92m0.3673821712659398\u001b[0m   \u001b[91m0.48561146805540767\u001b[0m  \u001b[91m0.786609990280085\u001b[0m   \u001b[91m\u001b[91m0.786609990280085\u001b[0m\u001b[0m       \u001b[91m\u001b[91m0.78661\u001b[0m\u001b[0m\n",
      "15                    \u001b[92m0.35415413085829306\u001b[0m  \u001b[92m0.40965552314858517\u001b[0m  \u001b[92m0.8235238752273518\u001b[0m  \u001b[92m\u001b[92m0.8235238752273518\u001b[0m\u001b[0m      \u001b[92m\u001b[92m0.823524\u001b[0m\u001b[0m\n",
      "16                    \u001b[92m0.3462603135509701\u001b[0m   \u001b[92m0.39976723933317154\u001b[0m  \u001b[92m0.8289153219891101\u001b[0m  \u001b[92m\u001b[92m0.8289153219891101\u001b[0m\u001b[0m      \u001b[92m\u001b[92m0.828915\u001b[0m\u001b[0m\n",
      "17                    \u001b[92m0.3407427942792024\u001b[0m   \u001b[92m0.3971020080702128\u001b[0m   \u001b[92m0.8292483657186928\u001b[0m  \u001b[92m\u001b[92m0.8292483657186928\u001b[0m\u001b[0m      \u001b[92m\u001b[92m0.829248\u001b[0m\u001b[0m\n",
      "18                    \u001b[92m0.33238119036276964\u001b[0m  \u001b[92m0.3846642963960052\u001b[0m   \u001b[92m0.8331168960750132\u001b[0m  \u001b[92m\u001b[92m0.8331168960750132\u001b[0m\u001b[0m      \u001b[92m\u001b[92m0.833117\u001b[0m\u001b[0m\n",
      "19                    \u001b[92m0.3193972391588051\u001b[0m   \u001b[91m0.39541542817023956\u001b[0m  \u001b[92m0.8335980170131597\u001b[0m  \u001b[92m\u001b[92m0.8335980170131597\u001b[0m\u001b[0m      \u001b[92m\u001b[92m0.833598\u001b[0m\u001b[0m\n",
      "20                    \u001b[92m0.312567058638236\u001b[0m    \u001b[92m0.3849673215478602\u001b[0m   \u001b[92m0.8365977496683799\u001b[0m  \u001b[92m\u001b[92m0.8365977496683799\u001b[0m\u001b[0m      \u001b[92m\u001b[92m0.836598\u001b[0m\u001b[0m\n",
      "21                    \u001b[92m0.304571732402102\u001b[0m    \u001b[92m0.3844860639918884\u001b[0m   \u001b[92m0.8393984093605247\u001b[0m  \u001b[92m\u001b[92m0.8393984093605247\u001b[0m\u001b[0m      \u001b[92m\u001b[92m0.839398\u001b[0m\u001b[0m\n",
      "22                    \u001b[92m0.2968750688768314\u001b[0m   \u001b[91m0.44201964417964656\u001b[0m  \u001b[91m0.8225372347667461\u001b[0m  \u001b[91m\u001b[91m0.8225372347667461\u001b[0m\u001b[0m      \u001b[91m\u001b[91m0.822537\u001b[0m\u001b[0m\n",
      "23                    \u001b[91m0.2985411252847634\u001b[0m   \u001b[92m0.38632659805236685\u001b[0m  \u001b[92m0.84079999898112\u001b[0m    \u001b[92m\u001b[92m0.84079999898112\u001b[0m\u001b[0m        \u001b[92m\u001b[92m0.8408\u001b[0m\u001b[0m\n",
      "24                    \u001b[92m0.288366599576369\u001b[0m    \u001b[92m0.3778285907434868\u001b[0m   \u001b[92m0.8431183935323497\u001b[0m  \u001b[92m\u001b[92m0.8431183935323497\u001b[0m\u001b[0m      \u001b[92m\u001b[92m0.843118\u001b[0m\u001b[0m\n",
      "25                    \u001b[92m0.28582870392969467\u001b[0m  \u001b[91m0.41931330694466046\u001b[0m  \u001b[91m0.8354956542431764\u001b[0m  \u001b[91m\u001b[91m0.8354956542431764\u001b[0m\u001b[0m      \u001b[91m\u001b[91m0.835496\u001b[0m\u001b[0m\n",
      "26                    \u001b[92m0.284107506542593\u001b[0m    \u001b[92m0.39759215524316466\u001b[0m  \u001b[92m0.8439124751066813\u001b[0m  \u001b[92m\u001b[92m0.8439124751066813\u001b[0m\u001b[0m      \u001b[92m\u001b[92m0.843912\u001b[0m\u001b[0m\n",
      "27                    \u001b[92m0.281220548802771\u001b[0m    \u001b[91m0.4469285018525193\u001b[0m   \u001b[91m0.8199839633713859\u001b[0m  \u001b[91m\u001b[91m0.8199839633713859\u001b[0m\u001b[0m      \u001b[91m\u001b[91m0.819984\u001b[0m\u001b[0m\n",
      "28                    \u001b[92m0.2756783615522399\u001b[0m   \u001b[92m0.38789480167392804\u001b[0m  \u001b[92m0.8417578302343903\u001b[0m  \u001b[92m\u001b[92m0.8417578302343903\u001b[0m\u001b[0m      \u001b[92m\u001b[92m0.841758\u001b[0m\u001b[0m\n",
      "29                    \u001b[92m0.2691458402573533\u001b[0m   \u001b[91m0.3903198748843665\u001b[0m   \u001b[92m0.8420434835969586\u001b[0m  \u001b[92m\u001b[92m0.8420434835969586\u001b[0m\u001b[0m      \u001b[92m\u001b[92m0.842043\u001b[0m\u001b[0m\n",
      "30                    \u001b[92m0.25967695359564263\u001b[0m  \u001b[92m0.38537568756470353\u001b[0m  \u001b[92m0.8454096289059982\u001b[0m  \u001b[92m\u001b[92m0.8454096289059982\u001b[0m\u001b[0m      \u001b[92m\u001b[92m0.84541\u001b[0m\u001b[0m\n",
      "31                    \u001b[91m0.2616901418568822\u001b[0m   \u001b[91m0.3967990945626625\u001b[0m   \u001b[92m0.8469085563986932\u001b[0m  \u001b[92m\u001b[92m0.8469085563986932\u001b[0m\u001b[0m      \u001b[92m\u001b[92m0.846909\u001b[0m\u001b[0m\n",
      "32                    \u001b[92m0.2573293373961724\u001b[0m   \u001b[91m0.4011732647630433\u001b[0m   \u001b[91m0.8462534831069314\u001b[0m  \u001b[91m\u001b[91m0.8462534831069314\u001b[0m\u001b[0m      \u001b[92m\u001b[91m0.846253\u001b[0m\u001b[0m\n",
      "33                    \u001b[92m0.2567507979938629\u001b[0m   \u001b[91m0.40387583510522385\u001b[0m  \u001b[92m0.8502742445419603\u001b[0m  \u001b[92m\u001b[92m0.8502742445419603\u001b[0m\u001b[0m      \u001b[92m\u001b[92m0.850274\u001b[0m\u001b[0m\n",
      "34                    \u001b[92m0.2562329659467482\u001b[0m   \u001b[92m0.3943674088004674\u001b[0m   \u001b[91m0.8436784408609991\u001b[0m  \u001b[91m\u001b[91m0.8436784408609991\u001b[0m\u001b[0m      \u001b[91m\u001b[91m0.843678\u001b[0m\u001b[0m\n",
      "Total Training Time                                                                                     18421.6\n",
      "Final Precision                                                                                             0.846456\n",
      "Total Time (minutes)                                                                                      307.027\n"
     ]
    },
    {
     "data": {
      "text/plain": [
       "([0.782964779475774,\n",
       "  0.7006722647371069,\n",
       "  0.6392946096922204,\n",
       "  0.5846698181736782,\n",
       "  0.5381363491979828,\n",
       "  0.5090182397432503,\n",
       "  0.48354172035681076,\n",
       "  0.46091854562764484,\n",
       "  0.4409427314456592,\n",
       "  0.42150742464778945,\n",
       "  0.4015412513635306,\n",
       "  0.3904149946230434,\n",
       "  0.37818061789152213,\n",
       "  0.3673821712659398,\n",
       "  0.35415413085829306,\n",
       "  0.3462603135509701,\n",
       "  0.3407427942792024,\n",
       "  0.33238119036276964,\n",
       "  0.3193972391588051,\n",
       "  0.312567058638236,\n",
       "  0.304571732402102,\n",
       "  0.2968750688768314,\n",
       "  0.2985411252847634,\n",
       "  0.288366599576369,\n",
       "  0.28582870392969467,\n",
       "  0.284107506542593,\n",
       "  0.281220548802771,\n",
       "  0.2756783615522399,\n",
       "  0.2691458402573533,\n",
       "  0.25967695359564263,\n",
       "  0.2616901418568822,\n",
       "  0.2573293373961724,\n",
       "  0.2567507979938629,\n",
       "  0.2562329659467482],\n",
       " [0.651499754007398,\n",
       "  0.6060718250289913,\n",
       "  0.5573314098273038,\n",
       "  0.5442088356555004,\n",
       "  0.5864412348696,\n",
       "  0.4680354074311043,\n",
       "  0.4719412821516042,\n",
       "  0.442907333388324,\n",
       "  0.4324565023298227,\n",
       "  0.43913122770863317,\n",
       "  0.41304573386440424,\n",
       "  0.4112921615255733,\n",
       "  0.4048541978106465,\n",
       "  0.48561146805540767,\n",
       "  0.40965552314858517,\n",
       "  0.39976723933317154,\n",
       "  0.3971020080702128,\n",
       "  0.3846642963960052,\n",
       "  0.39541542817023956,\n",
       "  0.3849673215478602,\n",
       "  0.3844860639918884,\n",
       "  0.44201964417964656,\n",
       "  0.38632659805236685,\n",
       "  0.3778285907434868,\n",
       "  0.41931330694466046,\n",
       "  0.39759215524316466,\n",
       "  0.4469285018525193,\n",
       "  0.38789480167392804,\n",
       "  0.3903198748843665,\n",
       "  0.38537568756470353,\n",
       "  0.3967990945626625,\n",
       "  0.4011732647630433,\n",
       "  0.40387583510522385,\n",
       "  0.3943674088004674],\n",
       " [0.6194,\n",
       "  0.66932,\n",
       "  0.71572,\n",
       "  0.73264,\n",
       "  0.71164,\n",
       "  0.77768,\n",
       "  0.78204,\n",
       "  0.79292,\n",
       "  0.80004,\n",
       "  0.80108,\n",
       "  0.8134,\n",
       "  0.81836,\n",
       "  0.819,\n",
       "  0.79008,\n",
       "  0.82412,\n",
       "  0.82896,\n",
       "  0.8294,\n",
       "  0.83324,\n",
       "  0.8338,\n",
       "  0.83664,\n",
       "  0.83956,\n",
       "  0.82384,\n",
       "  0.8408,\n",
       "  0.84312,\n",
       "  0.83608,\n",
       "  0.844,\n",
       "  0.8218,\n",
       "  0.842,\n",
       "  0.84232,\n",
       "  0.84552,\n",
       "  0.847,\n",
       "  0.84632,\n",
       "  0.85028,\n",
       "  0.84396],\n",
       " [0.6199351795556203,\n",
       "  0.6746465683214306,\n",
       "  0.7158641336909045,\n",
       "  0.7414827730507828,\n",
       "  0.7535296949427209,\n",
       "  0.7780059279225636,\n",
       "  0.7854944832472922,\n",
       "  0.7931537894435121,\n",
       "  0.8002306584773594,\n",
       "  0.8048331427208897,\n",
       "  0.8134027459094987,\n",
       "  0.8184195898062433,\n",
       "  0.8194084523741467,\n",
       "  0.8102610549179796,\n",
       "  0.8285594085138503,\n",
       "  0.8293039851471345,\n",
       "  0.8305742526372478,\n",
       "  0.8342261886479388,\n",
       "  0.83542860732216,\n",
       "  0.8369885356500172,\n",
       "  0.8409321268932141,\n",
       "  0.8336370001481453,\n",
       "  0.8408000087244802,\n",
       "  0.8431340547708835,\n",
       "  0.8409240673401722,\n",
       "  0.8447733160668291,\n",
       "  0.8353315587389949,\n",
       "  0.8441064467881582,\n",
       "  0.8447339451206377,\n",
       "  0.8465095736832463,\n",
       "  0.8478310568831147,\n",
       "  0.8469203665094666,\n",
       "  0.8503338673354415,\n",
       "  0.8464560824808088],\n",
       " [0.6189749436881808,\n",
       "  0.6667792643998811,\n",
       "  0.7156725382403872,\n",
       "  0.7301697955731492,\n",
       "  0.6992156520534273,\n",
       "  0.7776148201491427,\n",
       "  0.7813786704781964,\n",
       "  0.7928787053161452,\n",
       "  0.8000082493096604,\n",
       "  0.8004658277519818,\n",
       "  0.8133995912704647,\n",
       "  0.818351501466007,\n",
       "  0.8189421168086678,\n",
       "  0.786609990280085,\n",
       "  0.8235238752273518,\n",
       "  0.8289153219891101,\n",
       "  0.8292483657186928,\n",
       "  0.8331168960750132,\n",
       "  0.8335980170131597,\n",
       "  0.8365977496683799,\n",
       "  0.8393984093605247,\n",
       "  0.8225372347667461,\n",
       "  0.84079999898112,\n",
       "  0.8431183935323497,\n",
       "  0.8354956542431764,\n",
       "  0.8439124751066813,\n",
       "  0.8199839633713859,\n",
       "  0.8417578302343903,\n",
       "  0.8420434835969586,\n",
       "  0.8454096289059982,\n",
       "  0.8469085563986932,\n",
       "  0.8462534831069314,\n",
       "  0.8502742445419603,\n",
       "  0.8436784408609991])"
      ]
     },
     "execution_count": 20,
     "metadata": {},
     "output_type": "execute_result"
    }
   ],
   "source": [
    "train_model(trainer, dataloader_train, dataloader_test, epochs, patience)"
   ]
  },
  {
   "cell_type": "code",
   "execution_count": 21,
   "id": "b85b3abe-d7ee-46ec-ba19-fe472176c970",
   "metadata": {},
   "outputs": [
    {
     "name": "stdout",
     "output_type": "stream",
     "text": [
      "\n",
      "Fold 1\n"
     ]
    },
    {
     "data": {
      "application/vnd.jupyter.widget-view+json": {
       "model_id": "a3569105d588415699c14c8caa037b47",
       "version_major": 2,
       "version_minor": 0
      },
      "text/plain": [
       "  0%|          | 0/50 [00:00<?, ?it/s]"
      ]
     },
     "metadata": {},
     "output_type": "display_data"
    },
    {
     "data": {
      "application/vnd.jupyter.widget-view+json": {
       "model_id": "",
       "version_major": 2,
       "version_minor": 0
      },
      "text/plain": [
       "Epoch 1:   0%|          | 0/1407 [00:00<?, ?it/s]"
      ]
     },
     "metadata": {},
     "output_type": "display_data"
    },
    {
     "name": "stdout",
     "output_type": "stream",
     "text": [
      "\n",
      "Epoch 1\n",
      "Training loss: 0.2503452508623613\n",
      "Validation loss: 0.3915664114096576\n",
      "F1 Score (weighted): 0.8631817889975193\n"
     ]
    },
    {
     "data": {
      "application/vnd.jupyter.widget-view+json": {
       "model_id": "",
       "version_major": 2,
       "version_minor": 0
      },
      "text/plain": [
       "Epoch 2:   0%|          | 0/1407 [00:00<?, ?it/s]"
      ]
     },
     "metadata": {},
     "output_type": "display_data"
    },
    {
     "name": "stdout",
     "output_type": "stream",
     "text": [
      "\n",
      "Epoch 2\n",
      "Training loss: 0.24576104578496552\n",
      "Validation loss: 0.3598043958353958\n",
      "F1 Score (weighted): 0.8706908436199959\n",
      "\u001b[92m1.83% Training loss decreased compared to the previous epoch\u001b[0m\n",
      "\u001b[92m8.11% Validation loss decreased compared to the previous epoch\u001b[0m\n",
      "\u001b[92m0.87% F1 Score increased compared to the previous epoch\u001b[0m\n"
     ]
    },
    {
     "data": {
      "application/vnd.jupyter.widget-view+json": {
       "model_id": "",
       "version_major": 2,
       "version_minor": 0
      },
      "text/plain": [
       "Epoch 3:   0%|          | 0/1407 [00:00<?, ?it/s]"
      ]
     },
     "metadata": {},
     "output_type": "display_data"
    },
    {
     "name": "stdout",
     "output_type": "stream",
     "text": [
      "\n",
      "Epoch 3\n",
      "Training loss: 0.24586986635653427\n",
      "Validation loss: 0.3414165277959435\n",
      "F1 Score (weighted): 0.8743419898646484\n",
      "\u001b[91m0.04% Training loss increased compared to the previous epoch\u001b[0m\n",
      "\u001b[92m5.11% Validation loss decreased compared to the previous epoch\u001b[0m\n",
      "\u001b[92m0.42% F1 Score increased compared to the previous epoch\u001b[0m\n"
     ]
    },
    {
     "data": {
      "application/vnd.jupyter.widget-view+json": {
       "model_id": "",
       "version_major": 2,
       "version_minor": 0
      },
      "text/plain": [
       "Epoch 4:   0%|          | 0/1407 [00:00<?, ?it/s]"
      ]
     },
     "metadata": {},
     "output_type": "display_data"
    },
    {
     "name": "stdout",
     "output_type": "stream",
     "text": [
      "\n",
      "Epoch 4\n",
      "Training loss: 0.24343741980501118\n",
      "Validation loss: 0.34018593482008785\n",
      "F1 Score (weighted): 0.8723128570647063\n",
      "\u001b[92m0.99% Training loss decreased compared to the previous epoch\u001b[0m\n",
      "\u001b[92m0.36% Validation loss decreased compared to the previous epoch\u001b[0m\n",
      "\u001b[91m0.23% F1 Score decreased compared to the previous epoch\u001b[0m\n"
     ]
    },
    {
     "data": {
      "application/vnd.jupyter.widget-view+json": {
       "model_id": "",
       "version_major": 2,
       "version_minor": 0
      },
      "text/plain": [
       "Epoch 5:   0%|          | 0/1407 [00:00<?, ?it/s]"
      ]
     },
     "metadata": {},
     "output_type": "display_data"
    },
    {
     "name": "stdout",
     "output_type": "stream",
     "text": [
      "\n",
      "Epoch 5\n",
      "Training loss: 0.239596554084119\n",
      "Validation loss: 0.35541636954732003\n",
      "F1 Score (weighted): 0.8738562797249949\n",
      "\u001b[92m1.58% Training loss decreased compared to the previous epoch\u001b[0m\n",
      "\u001b[91m4.48% Validation loss increased compared to the previous epoch\u001b[0m\n",
      "\u001b[92m0.18% F1 Score increased compared to the previous epoch\u001b[0m\n"
     ]
    },
    {
     "data": {
      "application/vnd.jupyter.widget-view+json": {
       "model_id": "",
       "version_major": 2,
       "version_minor": 0
      },
      "text/plain": [
       "Epoch 6:   0%|          | 0/1407 [00:00<?, ?it/s]"
      ]
     },
     "metadata": {},
     "output_type": "display_data"
    },
    {
     "name": "stdout",
     "output_type": "stream",
     "text": [
      "\n",
      "Epoch 6\n",
      "Training loss: 0.23739212197228451\n",
      "Validation loss: 0.3491260433201767\n",
      "F1 Score (weighted): 0.8772018692592103\n",
      "\u001b[92m0.92% Training loss decreased compared to the previous epoch\u001b[0m\n",
      "\u001b[92m1.77% Validation loss decreased compared to the previous epoch\u001b[0m\n",
      "\u001b[92m0.38% F1 Score increased compared to the previous epoch\u001b[0m\n"
     ]
    },
    {
     "data": {
      "application/vnd.jupyter.widget-view+json": {
       "model_id": "",
       "version_major": 2,
       "version_minor": 0
      },
      "text/plain": [
       "Epoch 7:   0%|          | 0/1407 [00:00<?, ?it/s]"
      ]
     },
     "metadata": {},
     "output_type": "display_data"
    },
    {
     "name": "stdout",
     "output_type": "stream",
     "text": [
      "\n",
      "Epoch 7\n",
      "Training loss: 0.23307801468010567\n",
      "Validation loss: 0.3572319380013616\n",
      "F1 Score (weighted): 0.876007311020877\n",
      "\u001b[92m1.82% Training loss decreased compared to the previous epoch\u001b[0m\n",
      "\u001b[91m2.32% Validation loss increased compared to the previous epoch\u001b[0m\n",
      "\u001b[91m0.14% F1 Score decreased compared to the previous epoch\u001b[0m\n"
     ]
    },
    {
     "data": {
      "application/vnd.jupyter.widget-view+json": {
       "model_id": "",
       "version_major": 2,
       "version_minor": 0
      },
      "text/plain": [
       "Epoch 8:   0%|          | 0/1407 [00:00<?, ?it/s]"
      ]
     },
     "metadata": {},
     "output_type": "display_data"
    },
    {
     "name": "stdout",
     "output_type": "stream",
     "text": [
      "\n",
      "Epoch 8\n",
      "Training loss: 0.23501072394216133\n",
      "Validation loss: 0.34968520189000735\n",
      "F1 Score (weighted): 0.8771461013024873\n",
      "\u001b[91m0.83% Training loss increased compared to the previous epoch\u001b[0m\n",
      "\u001b[92m2.11% Validation loss decreased compared to the previous epoch\u001b[0m\n",
      "\u001b[92m0.13% F1 Score increased compared to the previous epoch\u001b[0m\n"
     ]
    },
    {
     "data": {
      "application/vnd.jupyter.widget-view+json": {
       "model_id": "",
       "version_major": 2,
       "version_minor": 0
      },
      "text/plain": [
       "Epoch 9:   0%|          | 0/1407 [00:00<?, ?it/s]"
      ]
     },
     "metadata": {},
     "output_type": "display_data"
    },
    {
     "name": "stdout",
     "output_type": "stream",
     "text": [
      "\n",
      "Epoch 9\n",
      "Training loss: 0.2296320156047985\n",
      "Validation loss: 0.35254514205512727\n",
      "F1 Score (weighted): 0.8743109348478287\n",
      "\u001b[92m2.29% Training loss decreased compared to the previous epoch\u001b[0m\n",
      "\u001b[91m0.82% Validation loss increased compared to the previous epoch\u001b[0m\n",
      "\u001b[91m0.32% F1 Score decreased compared to the previous epoch\u001b[0m\n"
     ]
    },
    {
     "data": {
      "application/vnd.jupyter.widget-view+json": {
       "model_id": "",
       "version_major": 2,
       "version_minor": 0
      },
      "text/plain": [
       "Epoch 10:   0%|          | 0/1407 [00:00<?, ?it/s]"
      ]
     },
     "metadata": {},
     "output_type": "display_data"
    },
    {
     "name": "stdout",
     "output_type": "stream",
     "text": [
      "\n",
      "Epoch 10\n",
      "Training loss: 0.2309339242142062\n",
      "Validation loss: 0.3536035335996443\n",
      "F1 Score (weighted): 0.874707900396593\n",
      "\u001b[91m0.57% Training loss increased compared to the previous epoch\u001b[0m\n",
      "\u001b[91m0.3% Validation loss increased compared to the previous epoch\u001b[0m\n",
      "\u001b[92m0.05% F1 Score increased compared to the previous epoch\u001b[0m\n"
     ]
    },
    {
     "data": {
      "application/vnd.jupyter.widget-view+json": {
       "model_id": "",
       "version_major": 2,
       "version_minor": 0
      },
      "text/plain": [
       "Epoch 11:   0%|          | 0/1407 [00:00<?, ?it/s]"
      ]
     },
     "metadata": {},
     "output_type": "display_data"
    },
    {
     "name": "stdout",
     "output_type": "stream",
     "text": [
      "\n",
      "Epoch 11\n",
      "Training loss: 0.22943014824298272\n",
      "Validation loss: 0.35799381614419495\n",
      "F1 Score (weighted): 0.8730708618567318\n",
      "\u001b[92m0.65% Training loss decreased compared to the previous epoch\u001b[0m\n",
      "\u001b[91m1.24% Validation loss increased compared to the previous epoch\u001b[0m\n",
      "\u001b[91m0.19% F1 Score decreased compared to the previous epoch\u001b[0m\n"
     ]
    },
    {
     "data": {
      "application/vnd.jupyter.widget-view+json": {
       "model_id": "",
       "version_major": 2,
       "version_minor": 0
      },
      "text/plain": [
       "Epoch 12:   0%|          | 0/1407 [00:00<?, ?it/s]"
      ]
     },
     "metadata": {},
     "output_type": "display_data"
    },
    {
     "name": "stdout",
     "output_type": "stream",
     "text": [
      "\n",
      "Epoch 12\n",
      "Training loss: 0.228024876875738\n",
      "Validation loss: 0.3553299074695938\n",
      "F1 Score (weighted): 0.8718163758672108\n",
      "\u001b[92m0.61% Training loss decreased compared to the previous epoch\u001b[0m\n",
      "\u001b[92m0.74% Validation loss decreased compared to the previous epoch\u001b[0m\n",
      "\u001b[91m0.14% F1 Score decreased compared to the previous epoch\u001b[0m\n"
     ]
    },
    {
     "data": {
      "application/vnd.jupyter.widget-view+json": {
       "model_id": "",
       "version_major": 2,
       "version_minor": 0
      },
      "text/plain": [
       "Epoch 13:   0%|          | 0/1407 [00:00<?, ?it/s]"
      ]
     },
     "metadata": {},
     "output_type": "display_data"
    },
    {
     "name": "stdout",
     "output_type": "stream",
     "text": [
      "\n",
      "Epoch 13\n",
      "Training loss: 0.22457674066301148\n",
      "Validation loss: 0.3561480222091933\n",
      "F1 Score (weighted): 0.8722700471050393\n",
      "\u001b[92m1.51% Training loss decreased compared to the previous epoch\u001b[0m\n",
      "\u001b[91m0.23% Validation loss increased compared to the previous epoch\u001b[0m\n",
      "\u001b[92m0.05% F1 Score increased compared to the previous epoch\u001b[0m\n"
     ]
    },
    {
     "data": {
      "application/vnd.jupyter.widget-view+json": {
       "model_id": "",
       "version_major": 2,
       "version_minor": 0
      },
      "text/plain": [
       "Epoch 14:   0%|          | 0/1407 [00:00<?, ?it/s]"
      ]
     },
     "metadata": {},
     "output_type": "display_data"
    },
    {
     "name": "stdout",
     "output_type": "stream",
     "text": [
      "\n",
      "Epoch 14\n",
      "Training loss: 0.22357730212036914\n",
      "Validation loss: 0.3440965118159534\n",
      "F1 Score (weighted): 0.8755667943797686\n",
      "\u001b[92m0.45% Training loss decreased compared to the previous epoch\u001b[0m\n",
      "\u001b[92m3.38% Validation loss decreased compared to the previous epoch\u001b[0m\n",
      "\u001b[92m0.38% F1 Score increased compared to the previous epoch\u001b[0m\n",
      "\n",
      "Early stopping triggered. Training stopped.\n",
      "\n",
      "Total training time: 126.38237909078597 minutes\n",
      "Final Accuracy: 0.8756\n",
      "Final Precision: 0.8755967546362569\n"
     ]
    },
    {
     "data": {
      "image/png": "[encoded data removed]",
      "text/plain": [
       "<Figure size 800x600 with 1 Axes>"
      ]
     },
     "metadata": {},
     "output_type": "display_data"
    },
    {
     "name": "stdout",
     "output_type": "stream",
     "text": [
      "Epoch                 Training Loss        Validation Loss      F1 Score            Accuracy              Precision\n",
      "--------------------  -------------------  -------------------  ------------------  ------------------  -----------\n",
      "1                     0.2503452508623613   0.3915664114096576   0.8631817889975193  0.8632                 0.866157\n",
      "2                     \u001b[92m0.24576104578496552\u001b[0m  \u001b[92m0.3598043958353958\u001b[0m   \u001b[92m0.8706908436199959\u001b[0m  \u001b[92m\u001b[92m0.8706908436199959\u001b[0m\u001b[0m     \u001b[92m\u001b[92m0.870691\u001b[0m\u001b[0m\n",
      "3                     \u001b[91m0.24586986635653427\u001b[0m  \u001b[92m0.3414165277959435\u001b[0m   \u001b[92m0.8743419898646484\u001b[0m  \u001b[92m\u001b[92m0.8743419898646484\u001b[0m\u001b[0m     \u001b[92m\u001b[92m0.874342\u001b[0m\u001b[0m\n",
      "4                     \u001b[92m0.24343741980501118\u001b[0m  \u001b[92m0.34018593482008785\u001b[0m  \u001b[91m0.8723128570647063\u001b[0m  \u001b[91m\u001b[91m0.8723128570647063\u001b[0m\u001b[0m     \u001b[91m\u001b[91m0.872313\u001b[0m\u001b[0m\n",
      "5                     \u001b[92m0.239596554084119\u001b[0m    \u001b[91m0.35541636954732003\u001b[0m  \u001b[92m0.8738562797249949\u001b[0m  \u001b[92m\u001b[92m0.8738562797249949\u001b[0m\u001b[0m     \u001b[92m\u001b[92m0.873856\u001b[0m\u001b[0m\n",
      "6                     \u001b[92m0.23739212197228451\u001b[0m  \u001b[92m0.3491260433201767\u001b[0m   \u001b[92m0.8772018692592103\u001b[0m  \u001b[92m\u001b[92m0.8772018692592103\u001b[0m\u001b[0m     \u001b[92m\u001b[92m0.877202\u001b[0m\u001b[0m\n",
      "7                     \u001b[92m0.23307801468010567\u001b[0m  \u001b[91m0.3572319380013616\u001b[0m   \u001b[91m0.876007311020877\u001b[0m   \u001b[91m\u001b[91m0.876007311020877\u001b[0m\u001b[0m      \u001b[91m\u001b[91m0.876007\u001b[0m\u001b[0m\n",
      "8                     \u001b[91m0.23501072394216133\u001b[0m  \u001b[92m0.34968520189000735\u001b[0m  \u001b[92m0.8771461013024873\u001b[0m  \u001b[92m\u001b[92m0.8771461013024873\u001b[0m\u001b[0m     \u001b[92m\u001b[92m0.877146\u001b[0m\u001b[0m\n",
      "9                     \u001b[92m0.2296320156047985\u001b[0m   \u001b[91m0.35254514205512727\u001b[0m  \u001b[91m0.8743109348478287\u001b[0m  \u001b[91m\u001b[91m0.8743109348478287\u001b[0m\u001b[0m     \u001b[91m\u001b[91m0.874311\u001b[0m\u001b[0m\n",
      "10                    \u001b[91m0.2309339242142062\u001b[0m   \u001b[91m0.3536035335996443\u001b[0m   \u001b[92m0.874707900396593\u001b[0m   \u001b[92m\u001b[92m0.874707900396593\u001b[0m\u001b[0m      \u001b[92m\u001b[92m0.874708\u001b[0m\u001b[0m\n",
      "11                    \u001b[92m0.22943014824298272\u001b[0m  \u001b[91m0.35799381614419495\u001b[0m  \u001b[91m0.8730708618567318\u001b[0m  \u001b[91m\u001b[91m0.8730708618567318\u001b[0m\u001b[0m     \u001b[91m\u001b[91m0.873071\u001b[0m\u001b[0m\n",
      "12                    \u001b[92m0.228024876875738\u001b[0m    \u001b[92m0.3553299074695938\u001b[0m   \u001b[91m0.8718163758672108\u001b[0m  \u001b[91m\u001b[91m0.8718163758672108\u001b[0m\u001b[0m     \u001b[91m\u001b[91m0.871816\u001b[0m\u001b[0m\n",
      "13                    \u001b[92m0.22457674066301148\u001b[0m  \u001b[91m0.3561480222091933\u001b[0m   \u001b[92m0.8722700471050393\u001b[0m  \u001b[92m\u001b[92m0.8722700471050393\u001b[0m\u001b[0m     \u001b[92m\u001b[92m0.87227\u001b[0m\u001b[0m\n",
      "14                    \u001b[92m0.22357730212036914\u001b[0m  \u001b[92m0.3440965118159534\u001b[0m   \u001b[92m0.8755667943797686\u001b[0m  \u001b[92m\u001b[92m0.8755667943797686\u001b[0m\u001b[0m     \u001b[92m\u001b[92m0.875567\u001b[0m\u001b[0m\n",
      "Total Training Time                                                                                     7582.94\n",
      "Final Precision                                                                                            0.875597\n",
      "Total Time (minutes)                                                                                     126.382\n",
      "\n",
      "Fold 2\n"
     ]
    },
    {
     "data": {
      "application/vnd.jupyter.widget-view+json": {
       "model_id": "87938d7e372a4a1b9ddf7e4f6b740e67",
       "version_major": 2,
       "version_minor": 0
      },
      "text/plain": [
       "  0%|          | 0/50 [00:00<?, ?it/s]"
      ]
     },
     "metadata": {},
     "output_type": "display_data"
    },
    {
     "data": {
      "application/vnd.jupyter.widget-view+json": {
       "model_id": "",
       "version_major": 2,
       "version_minor": 0
      },
      "text/plain": [
       "Epoch 1:   0%|          | 0/1407 [00:00<?, ?it/s]"
      ]
     },
     "metadata": {},
     "output_type": "display_data"
    },
    {
     "name": "stdout",
     "output_type": "stream",
     "text": [
      "\n",
      "Epoch 1\n",
      "Training loss: 0.23832191416613796\n",
      "Validation loss: 0.17055282489972035\n",
      "F1 Score (weighted): 0.9380101707355211\n"
     ]
    },
    {
     "data": {
      "application/vnd.jupyter.widget-view+json": {
       "model_id": "",
       "version_major": 2,
       "version_minor": 0
      },
      "text/plain": [
       "Epoch 2:   0%|          | 0/1407 [00:00<?, ?it/s]"
      ]
     },
     "metadata": {},
     "output_type": "display_data"
    },
    {
     "name": "stdout",
     "output_type": "stream",
     "text": [
      "\n",
      "Epoch 2\n",
      "Training loss: 0.2373722805929527\n",
      "Validation loss: 0.16570876289016692\n",
      "F1 Score (weighted): 0.9355484298566822\n",
      "\u001b[92m0.4% Training loss decreased compared to the previous epoch\u001b[0m\n",
      "\u001b[92m2.84% Validation loss decreased compared to the previous epoch\u001b[0m\n",
      "\u001b[91m0.26% F1 Score decreased compared to the previous epoch\u001b[0m\n"
     ]
    },
    {
     "data": {
      "application/vnd.jupyter.widget-view+json": {
       "model_id": "",
       "version_major": 2,
       "version_minor": 0
      },
      "text/plain": [
       "Epoch 3:   0%|          | 0/1407 [00:00<?, ?it/s]"
      ]
     },
     "metadata": {},
     "output_type": "display_data"
    },
    {
     "name": "stdout",
     "output_type": "stream",
     "text": [
      "\n",
      "Epoch 3\n",
      "Training loss: 0.23666825377155298\n",
      "Validation loss: 0.16504103968892792\n",
      "F1 Score (weighted): 0.9355740908018152\n",
      "\u001b[92m0.3% Training loss decreased compared to the previous epoch\u001b[0m\n",
      "\u001b[92m0.4% Validation loss decreased compared to the previous epoch\u001b[0m\n",
      "\u001b[92m0.0% F1 Score increased compared to the previous epoch\u001b[0m\n"
     ]
    },
    {
     "data": {
      "application/vnd.jupyter.widget-view+json": {
       "model_id": "",
       "version_major": 2,
       "version_minor": 0
      },
      "text/plain": [
       "Epoch 4:   0%|          | 0/1407 [00:00<?, ?it/s]"
      ]
     },
     "metadata": {},
     "output_type": "display_data"
    },
    {
     "name": "stdout",
     "output_type": "stream",
     "text": [
      "\n",
      "Epoch 4\n",
      "Training loss: 0.23400813208922067\n",
      "Validation loss: 0.1645435244438185\n",
      "F1 Score (weighted): 0.9376012787900679\n",
      "\u001b[92m1.12% Training loss decreased compared to the previous epoch\u001b[0m\n",
      "\u001b[92m0.3% Validation loss decreased compared to the previous epoch\u001b[0m\n",
      "\u001b[92m0.22% F1 Score increased compared to the previous epoch\u001b[0m\n"
     ]
    },
    {
     "data": {
      "application/vnd.jupyter.widget-view+json": {
       "model_id": "",
       "version_major": 2,
       "version_minor": 0
      },
      "text/plain": [
       "Epoch 5:   0%|          | 0/1407 [00:00<?, ?it/s]"
      ]
     },
     "metadata": {},
     "output_type": "display_data"
    },
    {
     "name": "stdout",
     "output_type": "stream",
     "text": [
      "\n",
      "Epoch 5\n",
      "Training loss: 0.2335709874354721\n",
      "Validation loss: 0.16811272343264738\n",
      "F1 Score (weighted): 0.9355894072144681\n",
      "\u001b[92m0.19% Training loss decreased compared to the previous epoch\u001b[0m\n",
      "\u001b[91m2.17% Validation loss increased compared to the previous epoch\u001b[0m\n",
      "\u001b[91m0.21% F1 Score decreased compared to the previous epoch\u001b[0m\n"
     ]
    },
    {
     "data": {
      "application/vnd.jupyter.widget-view+json": {
       "model_id": "",
       "version_major": 2,
       "version_minor": 0
      },
      "text/plain": [
       "Epoch 6:   0%|          | 0/1407 [00:00<?, ?it/s]"
      ]
     },
     "metadata": {},
     "output_type": "display_data"
    },
    {
     "name": "stdout",
     "output_type": "stream",
     "text": [
      "\n",
      "Epoch 6\n",
      "Training loss: 0.23320788749465196\n",
      "Validation loss: 0.16425020701495135\n",
      "F1 Score (weighted): 0.9375956833315826\n",
      "\u001b[92m0.16% Training loss decreased compared to the previous epoch\u001b[0m\n",
      "\u001b[92m2.3% Validation loss decreased compared to the previous epoch\u001b[0m\n",
      "\u001b[92m0.21% F1 Score increased compared to the previous epoch\u001b[0m\n"
     ]
    },
    {
     "data": {
      "application/vnd.jupyter.widget-view+json": {
       "model_id": "",
       "version_major": 2,
       "version_minor": 0
      },
      "text/plain": [
       "Epoch 7:   0%|          | 0/1407 [00:00<?, ?it/s]"
      ]
     },
     "metadata": {},
     "output_type": "display_data"
    },
    {
     "name": "stdout",
     "output_type": "stream",
     "text": [
      "\n",
      "Epoch 7\n",
      "Training loss: 0.23083457401235455\n",
      "Validation loss: 0.1653527785122252\n",
      "F1 Score (weighted): 0.936389538801866\n",
      "\u001b[92m1.02% Training loss decreased compared to the previous epoch\u001b[0m\n",
      "\u001b[91m0.67% Validation loss increased compared to the previous epoch\u001b[0m\n",
      "\u001b[91m0.13% F1 Score decreased compared to the previous epoch\u001b[0m\n"
     ]
    },
    {
     "data": {
      "application/vnd.jupyter.widget-view+json": {
       "model_id": "",
       "version_major": 2,
       "version_minor": 0
      },
      "text/plain": [
       "Epoch 8:   0%|          | 0/1407 [00:00<?, ?it/s]"
      ]
     },
     "metadata": {},
     "output_type": "display_data"
    },
    {
     "name": "stdout",
     "output_type": "stream",
     "text": [
      "\n",
      "Epoch 8\n",
      "Training loss: 0.23555702384456717\n",
      "Validation loss: 0.16435528794973853\n",
      "F1 Score (weighted): 0.9363913727438398\n",
      "\u001b[91m2.05% Training loss increased compared to the previous epoch\u001b[0m\n",
      "\u001b[92m0.6% Validation loss decreased compared to the previous epoch\u001b[0m\n",
      "\u001b[92m0.0% F1 Score increased compared to the previous epoch\u001b[0m\n"
     ]
    },
    {
     "data": {
      "application/vnd.jupyter.widget-view+json": {
       "model_id": "",
       "version_major": 2,
       "version_minor": 0
      },
      "text/plain": [
       "Epoch 9:   0%|          | 0/1407 [00:00<?, ?it/s]"
      ]
     },
     "metadata": {},
     "output_type": "display_data"
    },
    {
     "name": "stdout",
     "output_type": "stream",
     "text": [
      "\n",
      "Epoch 9\n",
      "Training loss: 0.236299053877698\n",
      "Validation loss: 0.1673620307853647\n",
      "F1 Score (weighted): 0.9363913727438398\n",
      "\u001b[91m0.32% Training loss increased compared to the previous epoch\u001b[0m\n",
      "\u001b[91m1.83% Validation loss increased compared to the previous epoch\u001b[0m\n"
     ]
    },
    {
     "data": {
      "application/vnd.jupyter.widget-view+json": {
       "model_id": "97794615142f4951a0fd93d037666fa8",
       "version_major": 2,
       "version_minor": 0
      },
      "text/plain": [
       "Epoch 10:   0%|          | 0/1407 [00:00<?, ?it/s]"
      ]
     },
     "metadata": {},
     "output_type": "display_data"
    },
    {
     "name": "stdout",
     "output_type": "stream",
     "text": [
      "\n",
      "Epoch 10\n",
      "Training loss: 0.23134267463943872\n",
      "Validation loss: 0.1646756603209017\n",
      "F1 Score (weighted): 0.9363913727438398\n",
      "\u001b[92m2.1% Training loss decreased compared to the previous epoch\u001b[0m\n",
      "\u001b[92m1.61% Validation loss decreased compared to the previous epoch\u001b[0m\n"
     ]
    },
    {
     "data": {
      "application/vnd.jupyter.widget-view+json": {
       "model_id": "204c4803d6ae41c7bc8f63a33689a051",
       "version_major": 2,
       "version_minor": 0
      },
      "text/plain": [
       "Epoch 11:   0%|          | 0/1407 [00:00<?, ?it/s]"
      ]
     },
     "metadata": {},
     "output_type": "display_data"
    },
    {
     "name": "stdout",
     "output_type": "stream",
     "text": [
      "\n",
      "Epoch 11\n",
      "Training loss: 0.2316446692812539\n",
      "Validation loss: 0.16826071820939612\n",
      "F1 Score (weighted): 0.9363913727438398\n",
      "\u001b[91m0.13% Training loss increased compared to the previous epoch\u001b[0m\n",
      "\u001b[91m2.18% Validation loss increased compared to the previous epoch\u001b[0m\n"
     ]
    },
    {
     "data": {
      "application/vnd.jupyter.widget-view+json": {
       "model_id": "2cee3b472f81496c8e2270fcea26beb0",
       "version_major": 2,
       "version_minor": 0
      },
      "text/plain": [
       "Epoch 12:   0%|          | 0/1407 [00:00<?, ?it/s]"
      ]
     },
     "metadata": {},
     "output_type": "display_data"
    },
    {
     "name": "stdout",
     "output_type": "stream",
     "text": [
      "\n",
      "Epoch 12\n",
      "Training loss: 0.23215996416936965\n",
      "Validation loss: 0.16436364633108305\n",
      "F1 Score (weighted): 0.9363913727438398\n",
      "\u001b[91m0.22% Training loss increased compared to the previous epoch\u001b[0m\n",
      "\u001b[92m2.32% Validation loss decreased compared to the previous epoch\u001b[0m\n"
     ]
    },
    {
     "data": {
      "application/vnd.jupyter.widget-view+json": {
       "model_id": "c22fb3dd3393447c8d6f3f7238f9f147",
       "version_major": 2,
       "version_minor": 0
      },
      "text/plain": [
       "Epoch 13:   0%|          | 0/1407 [00:00<?, ?it/s]"
      ]
     },
     "metadata": {},
     "output_type": "display_data"
    },
    {
     "name": "stdout",
     "output_type": "stream",
     "text": [
      "\n",
      "Epoch 13\n",
      "Training loss: 0.231608266115133\n",
      "Validation loss: 0.16463363746916698\n",
      "F1 Score (weighted): 0.9363913727438398\n",
      "\u001b[92m0.24% Training loss decreased compared to the previous epoch\u001b[0m\n",
      "\u001b[91m0.16% Validation loss increased compared to the previous epoch\u001b[0m\n"
     ]
    },
    {
     "data": {
      "application/vnd.jupyter.widget-view+json": {
       "model_id": "177f29cd64884f3d8bb6129a61fa9f70",
       "version_major": 2,
       "version_minor": 0
      },
      "text/plain": [
       "Epoch 14:   0%|          | 0/1407 [00:00<?, ?it/s]"
      ]
     },
     "metadata": {},
     "output_type": "display_data"
    },
    {
     "name": "stdout",
     "output_type": "stream",
     "text": [
      "\n",
      "Epoch 14\n",
      "Training loss: 0.23039174543570545\n",
      "Validation loss: 0.16489144348076717\n",
      "F1 Score (weighted): 0.9363913727438398\n",
      "\u001b[92m0.53% Training loss decreased compared to the previous epoch\u001b[0m\n",
      "\u001b[91m0.16% Validation loss increased compared to the previous epoch\u001b[0m\n"
     ]
    },
    {
     "data": {
      "application/vnd.jupyter.widget-view+json": {
       "model_id": "bfdc2725813e48d58320ae0f321c70fd",
       "version_major": 2,
       "version_minor": 0
      },
      "text/plain": [
       "Epoch 15:   0%|          | 0/1407 [00:00<?, ?it/s]"
      ]
     },
     "metadata": {},
     "output_type": "display_data"
    },
    {
     "name": "stdout",
     "output_type": "stream",
     "text": [
      "\n",
      "Epoch 15\n",
      "Training loss: 0.23316775009171095\n",
      "Validation loss: 0.16463588304509214\n",
      "F1 Score (weighted): 0.9363913727438398\n",
      "\u001b[91m1.2% Training loss increased compared to the previous epoch\u001b[0m\n",
      "\u001b[92m0.15% Validation loss decreased compared to the previous epoch\u001b[0m\n"
     ]
    },
    {
     "data": {
      "application/vnd.jupyter.widget-view+json": {
       "model_id": "80306c236f234a798e890185f6685328",
       "version_major": 2,
       "version_minor": 0
      },
      "text/plain": [
       "Epoch 16:   0%|          | 0/1407 [00:00<?, ?it/s]"
      ]
     },
     "metadata": {},
     "output_type": "display_data"
    },
    {
     "name": "stdout",
     "output_type": "stream",
     "text": [
      "\n",
      "Epoch 16\n",
      "Training loss: 0.23192382772607356\n",
      "Validation loss: 0.1644296695709608\n",
      "F1 Score (weighted): 0.9363913727438398\n",
      "\u001b[92m0.53% Training loss decreased compared to the previous epoch\u001b[0m\n",
      "\u001b[92m0.13% Validation loss decreased compared to the previous epoch\u001b[0m\n",
      "\n",
      "Early stopping triggered. Training stopped.\n",
      "\n",
      "Total training time: 144.51393991311392 minutes\n",
      "Final Accuracy: 0.9364\n",
      "Final Precision: 0.9364190428588638\n"
     ]
    },
    {
     "data": {
      "image/png": "[encoded data removed]",
      "text/plain": [
       "<Figure size 800x600 with 1 Axes>"
      ]
     },
     "metadata": {},
     "output_type": "display_data"
    },
    {
     "name": "stdout",
     "output_type": "stream",
     "text": [
      "Epoch                 Training Loss        Validation Loss      F1 Score            Accuracy              Precision\n",
      "--------------------  -------------------  -------------------  ------------------  ------------------  -----------\n",
      "1                     0.23832191416613796  0.17055282489972035  0.9380101707355211  0.938                  0.938208\n",
      "2                     \u001b[92m0.2373722805929527\u001b[0m   \u001b[92m0.16570876289016692\u001b[0m  \u001b[91m0.9355484298566822\u001b[0m  \u001b[91m\u001b[91m0.9355484298566822\u001b[0m\u001b[0m     \u001b[91m\u001b[91m0.935548\u001b[0m\u001b[0m\n",
      "3                     \u001b[92m0.23666825377155298\u001b[0m  \u001b[92m0.16504103968892792\u001b[0m  \u001b[92m0.9355740908018152\u001b[0m  \u001b[92m\u001b[92m0.9355740908018152\u001b[0m\u001b[0m     \u001b[92m\u001b[92m0.935574\u001b[0m\u001b[0m\n",
      "4                     \u001b[92m0.23400813208922067\u001b[0m  \u001b[92m0.1645435244438185\u001b[0m   \u001b[92m0.9376012787900679\u001b[0m  \u001b[92m\u001b[92m0.9376012787900679\u001b[0m\u001b[0m     \u001b[92m\u001b[92m0.937601\u001b[0m\u001b[0m\n",
      "5                     \u001b[92m0.2335709874354721\u001b[0m   \u001b[91m0.16811272343264738\u001b[0m  \u001b[91m0.9355894072144681\u001b[0m  \u001b[91m\u001b[91m0.9355894072144681\u001b[0m\u001b[0m     \u001b[91m\u001b[91m0.935589\u001b[0m\u001b[0m\n",
      "6                     \u001b[92m0.23320788749465196\u001b[0m  \u001b[92m0.16425020701495135\u001b[0m  \u001b[92m0.9375956833315826\u001b[0m  \u001b[92m\u001b[92m0.9375956833315826\u001b[0m\u001b[0m     \u001b[92m\u001b[92m0.937596\u001b[0m\u001b[0m\n",
      "7                     \u001b[92m0.23083457401235455\u001b[0m  \u001b[91m0.1653527785122252\u001b[0m   \u001b[91m0.936389538801866\u001b[0m   \u001b[91m\u001b[91m0.936389538801866\u001b[0m\u001b[0m      \u001b[91m\u001b[91m0.93639\u001b[0m\u001b[0m\n",
      "8                     \u001b[91m0.23555702384456717\u001b[0m  \u001b[92m0.16435528794973853\u001b[0m  \u001b[92m0.9363913727438398\u001b[0m  \u001b[92m\u001b[92m0.9363913727438398\u001b[0m\u001b[0m     \u001b[92m\u001b[92m0.936391\u001b[0m\u001b[0m\n",
      "9                     \u001b[91m0.236299053877698\u001b[0m    \u001b[91m0.1673620307853647\u001b[0m   0.9363913727438398  \u001b[92m0.9363913727438398\u001b[0m     \u001b[92m0.936391\u001b[0m\n",
      "10                    \u001b[92m0.23134267463943872\u001b[0m  \u001b[92m0.1646756603209017\u001b[0m   0.9363913727438398  \u001b[92m0.9363913727438398\u001b[0m     \u001b[92m0.936391\u001b[0m\n",
      "11                    \u001b[91m0.2316446692812539\u001b[0m   \u001b[91m0.16826071820939612\u001b[0m  0.9363913727438398  \u001b[92m0.9363913727438398\u001b[0m     \u001b[92m0.936391\u001b[0m\n",
      "12                    \u001b[91m0.23215996416936965\u001b[0m  \u001b[92m0.16436364633108305\u001b[0m  0.9363913727438398  \u001b[92m0.9363913727438398\u001b[0m     \u001b[92m0.936391\u001b[0m\n",
      "13                    \u001b[92m0.231608266115133\u001b[0m    \u001b[91m0.16463363746916698\u001b[0m  0.9363913727438398  \u001b[92m0.9363913727438398\u001b[0m     \u001b[92m0.936391\u001b[0m\n",
      "14                    \u001b[92m0.23039174543570545\u001b[0m  \u001b[91m0.16489144348076717\u001b[0m  0.9363913727438398  \u001b[92m0.9363913727438398\u001b[0m     \u001b[92m0.936391\u001b[0m\n",
      "15                    \u001b[91m0.23316775009171095\u001b[0m  \u001b[92m0.16463588304509214\u001b[0m  0.9363913727438398  \u001b[92m0.9363913727438398\u001b[0m     \u001b[92m0.936391\u001b[0m\n",
      "16                    \u001b[92m0.23192382772607356\u001b[0m  \u001b[92m0.1644296695709608\u001b[0m   0.9363913727438398  \u001b[92m0.9363913727438398\u001b[0m     \u001b[92m0.936391\u001b[0m\n",
      "Total Training Time                                                                                     8670.84\n",
      "Final Precision                                                                                            0.936419\n",
      "Total Time (minutes)                                                                                     144.514\n",
      "\n",
      "Fold 3\n"
     ]
    },
    {
     "data": {
      "application/vnd.jupyter.widget-view+json": {
       "model_id": "819295501e8741f28d921dad25c4c5ba",
       "version_major": 2,
       "version_minor": 0
      },
      "text/plain": [
       "  0%|          | 0/50 [00:00<?, ?it/s]"
      ]
     },
     "metadata": {},
     "output_type": "display_data"
    },
    {
     "data": {
      "application/vnd.jupyter.widget-view+json": {
       "model_id": "1e4435cb3dc24d92a3e0ead1a719003f",
       "version_major": 2,
       "version_minor": 0
      },
      "text/plain": [
       "Epoch 1:   0%|          | 0/1407 [00:00<?, ?it/s]"
      ]
     },
     "metadata": {},
     "output_type": "display_data"
    },
    {
     "name": "stdout",
     "output_type": "stream",
     "text": [
      "\n",
      "Epoch 1\n",
      "Training loss: 0.23170149961305092\n",
      "Validation loss: 0.17110233416389317\n",
      "F1 Score (weighted): 0.9408\n"
     ]
    },
    {
     "data": {
      "application/vnd.jupyter.widget-view+json": {
       "model_id": "8ea540e08f4444c1a5b05d76a15d8fcc",
       "version_major": 2,
       "version_minor": 0
      },
      "text/plain": [
       "Epoch 2:   0%|          | 0/1407 [00:00<?, ?it/s]"
      ]
     },
     "metadata": {},
     "output_type": "display_data"
    },
    {
     "name": "stdout",
     "output_type": "stream",
     "text": [
      "\n",
      "Epoch 2\n",
      "Training loss: 0.23248161691722183\n",
      "Validation loss: 0.17136630102114123\n",
      "F1 Score (weighted): 0.9408\n",
      "\u001b[91m0.34% Training loss increased compared to the previous epoch\u001b[0m\n",
      "\u001b[91m0.15% Validation loss increased compared to the previous epoch\u001b[0m\n"
     ]
    },
    {
     "data": {
      "application/vnd.jupyter.widget-view+json": {
       "model_id": "a5dad5e50b014d7382b69f072c230858",
       "version_major": 2,
       "version_minor": 0
      },
      "text/plain": [
       "Epoch 3:   0%|          | 0/1407 [00:00<?, ?it/s]"
      ]
     },
     "metadata": {},
     "output_type": "display_data"
    },
    {
     "name": "stdout",
     "output_type": "stream",
     "text": [
      "\n",
      "Epoch 3\n",
      "Training loss: 0.23122637766177084\n",
      "Validation loss: 0.17125608913517396\n",
      "F1 Score (weighted): 0.9408\n",
      "\u001b[92m0.54% Training loss decreased compared to the previous epoch\u001b[0m\n",
      "\u001b[92m0.06% Validation loss decreased compared to the previous epoch\u001b[0m\n"
     ]
    },
    {
     "data": {
      "application/vnd.jupyter.widget-view+json": {
       "model_id": "037b1779003247e6b866c9bdad0e0eeb",
       "version_major": 2,
       "version_minor": 0
      },
      "text/plain": [
       "Epoch 4:   0%|          | 0/1407 [00:00<?, ?it/s]"
      ]
     },
     "metadata": {},
     "output_type": "display_data"
    },
    {
     "name": "stdout",
     "output_type": "stream",
     "text": [
      "\n",
      "Epoch 4\n",
      "Training loss: 0.22936985292488493\n",
      "Validation loss: 0.17647055094575237\n",
      "F1 Score (weighted): 0.9408\n",
      "\u001b[92m0.8% Training loss decreased compared to the previous epoch\u001b[0m\n",
      "\u001b[91m3.04% Validation loss increased compared to the previous epoch\u001b[0m\n"
     ]
    },
    {
     "data": {
      "application/vnd.jupyter.widget-view+json": {
       "model_id": "17e01158d73b408cbba4803897b9da25",
       "version_major": 2,
       "version_minor": 0
      },
      "text/plain": [
       "Epoch 5:   0%|          | 0/1407 [00:00<?, ?it/s]"
      ]
     },
     "metadata": {},
     "output_type": "display_data"
    },
    {
     "name": "stdout",
     "output_type": "stream",
     "text": [
      "\n",
      "Epoch 5\n",
      "Training loss: 0.23188497118920606\n",
      "Validation loss: 0.1711642673820447\n",
      "F1 Score (weighted): 0.9408\n",
      "\u001b[91m1.1% Training loss increased compared to the previous epoch\u001b[0m\n",
      "\u001b[92m3.01% Validation loss decreased compared to the previous epoch\u001b[0m\n"
     ]
    },
    {
     "data": {
      "application/vnd.jupyter.widget-view+json": {
       "model_id": "c558e57568284579bc310d66ff6b6e20",
       "version_major": 2,
       "version_minor": 0
      },
      "text/plain": [
       "Epoch 6:   0%|          | 0/1407 [00:00<?, ?it/s]"
      ]
     },
     "metadata": {},
     "output_type": "display_data"
    },
    {
     "name": "stdout",
     "output_type": "stream",
     "text": [
      "\n",
      "Epoch 6\n",
      "Training loss: 0.22988701722099478\n",
      "Validation loss: 0.17142382227062325\n",
      "F1 Score (weighted): 0.9408\n",
      "\u001b[92m0.86% Training loss decreased compared to the previous epoch\u001b[0m\n",
      "\u001b[91m0.15% Validation loss increased compared to the previous epoch\u001b[0m\n"
     ]
    },
    {
     "data": {
      "application/vnd.jupyter.widget-view+json": {
       "model_id": "5818c65ea7764a43950248d9930a8198",
       "version_major": 2,
       "version_minor": 0
      },
      "text/plain": [
       "Epoch 7:   0%|          | 0/1407 [00:00<?, ?it/s]"
      ]
     },
     "metadata": {},
     "output_type": "display_data"
    },
    {
     "name": "stdout",
     "output_type": "stream",
     "text": [
      "\n",
      "Epoch 7\n",
      "Training loss: 0.22840654993841494\n",
      "Validation loss: 0.17105626176663075\n",
      "F1 Score (weighted): 0.9408\n",
      "\u001b[92m0.64% Training loss decreased compared to the previous epoch\u001b[0m\n",
      "\u001b[92m0.21% Validation loss decreased compared to the previous epoch\u001b[0m\n"
     ]
    },
    {
     "data": {
      "application/vnd.jupyter.widget-view+json": {
       "model_id": "b1622ef932de4921903a3666c29a0f09",
       "version_major": 2,
       "version_minor": 0
      },
      "text/plain": [
       "Epoch 8:   0%|          | 0/1407 [00:00<?, ?it/s]"
      ]
     },
     "metadata": {},
     "output_type": "display_data"
    },
    {
     "name": "stdout",
     "output_type": "stream",
     "text": [
      "\n",
      "Epoch 8\n",
      "Training loss: 0.22835093038785453\n",
      "Validation loss: 0.17107940377121802\n",
      "F1 Score (weighted): 0.9408\n",
      "\u001b[92m0.02% Training loss decreased compared to the previous epoch\u001b[0m\n",
      "\u001b[91m0.01% Validation loss increased compared to the previous epoch\u001b[0m\n"
     ]
    },
    {
     "data": {
      "application/vnd.jupyter.widget-view+json": {
       "model_id": "d7502c62f6784daf952db3787f0ebcc8",
       "version_major": 2,
       "version_minor": 0
      },
      "text/plain": [
       "Epoch 9:   0%|          | 0/1407 [00:00<?, ?it/s]"
      ]
     },
     "metadata": {},
     "output_type": "display_data"
    },
    {
     "name": "stdout",
     "output_type": "stream",
     "text": [
      "\n",
      "Epoch 9\n",
      "Training loss: 0.23252742563247913\n",
      "Validation loss: 0.17112806937093758\n",
      "F1 Score (weighted): 0.9408\n",
      "\u001b[91m1.83% Training loss increased compared to the previous epoch\u001b[0m\n",
      "\u001b[91m0.03% Validation loss increased compared to the previous epoch\u001b[0m\n"
     ]
    },
    {
     "data": {
      "application/vnd.jupyter.widget-view+json": {
       "model_id": "8583fee311ae4ae08f0c41e2b5fdc78c",
       "version_major": 2,
       "version_minor": 0
      },
      "text/plain": [
       "Epoch 10:   0%|          | 0/1407 [00:00<?, ?it/s]"
      ]
     },
     "metadata": {},
     "output_type": "display_data"
    },
    {
     "name": "stdout",
     "output_type": "stream",
     "text": [
      "\n",
      "Epoch 10\n",
      "Training loss: 0.23340839429115764\n",
      "Validation loss: 0.17120044599554152\n",
      "F1 Score (weighted): 0.9408\n",
      "\u001b[91m0.38% Training loss increased compared to the previous epoch\u001b[0m\n",
      "\u001b[91m0.04% Validation loss increased compared to the previous epoch\u001b[0m\n"
     ]
    },
    {
     "data": {
      "application/vnd.jupyter.widget-view+json": {
       "model_id": "9c138a52b99e48e4833b6ba292de524f",
       "version_major": 2,
       "version_minor": 0
      },
      "text/plain": [
       "Epoch 11:   0%|          | 0/1407 [00:00<?, ?it/s]"
      ]
     },
     "metadata": {},
     "output_type": "display_data"
    },
    {
     "name": "stdout",
     "output_type": "stream",
     "text": [
      "\n",
      "Epoch 11\n",
      "Training loss: 0.23041829791591206\n",
      "Validation loss: 0.1716825965002986\n",
      "F1 Score (weighted): 0.9408\n",
      "\u001b[92m1.28% Training loss decreased compared to the previous epoch\u001b[0m\n",
      "\u001b[91m0.28% Validation loss increased compared to the previous epoch\u001b[0m\n"
     ]
    },
    {
     "data": {
      "application/vnd.jupyter.widget-view+json": {
       "model_id": "f801efd59cab4f0cabe15f8ac4866d8d",
       "version_major": 2,
       "version_minor": 0
      },
      "text/plain": [
       "Epoch 12:   0%|          | 0/1407 [00:00<?, ?it/s]"
      ]
     },
     "metadata": {},
     "output_type": "display_data"
    },
    {
     "name": "stdout",
     "output_type": "stream",
     "text": [
      "\n",
      "Epoch 12\n",
      "Training loss: 0.23058683135332944\n",
      "Validation loss: 0.1711526508116798\n",
      "F1 Score (weighted): 0.9408\n",
      "\u001b[91m0.07% Training loss increased compared to the previous epoch\u001b[0m\n",
      "\u001b[92m0.31% Validation loss decreased compared to the previous epoch\u001b[0m\n"
     ]
    },
    {
     "data": {
      "application/vnd.jupyter.widget-view+json": {
       "model_id": "8e1f848950c14fda8aba68f4b3d5ea33",
       "version_major": 2,
       "version_minor": 0
      },
      "text/plain": [
       "Epoch 13:   0%|          | 0/1407 [00:00<?, ?it/s]"
      ]
     },
     "metadata": {},
     "output_type": "display_data"
    },
    {
     "name": "stdout",
     "output_type": "stream",
     "text": [
      "\n",
      "Epoch 13\n",
      "Training loss: 0.23042139724425192\n",
      "Validation loss: 0.17270717154713763\n",
      "F1 Score (weighted): 0.9408\n",
      "\u001b[92m0.07% Training loss decreased compared to the previous epoch\u001b[0m\n",
      "\u001b[91m0.91% Validation loss increased compared to the previous epoch\u001b[0m\n"
     ]
    },
    {
     "data": {
      "application/vnd.jupyter.widget-view+json": {
       "model_id": "8f2be4509d894b6d81f051091a8436bb",
       "version_major": 2,
       "version_minor": 0
      },
      "text/plain": [
       "Epoch 14:   0%|          | 0/1407 [00:00<?, ?it/s]"
      ]
     },
     "metadata": {},
     "output_type": "display_data"
    },
    {
     "name": "stdout",
     "output_type": "stream",
     "text": [
      "\n",
      "Epoch 14\n",
      "Training loss: 0.23232173218670504\n",
      "Validation loss: 0.17170561861341735\n",
      "F1 Score (weighted): 0.9408\n",
      "\u001b[91m0.82% Training loss increased compared to the previous epoch\u001b[0m\n",
      "\u001b[92m0.58% Validation loss decreased compared to the previous epoch\u001b[0m\n"
     ]
    },
    {
     "data": {
      "application/vnd.jupyter.widget-view+json": {
       "model_id": "33735744f0454527980a5874f6fec6c4",
       "version_major": 2,
       "version_minor": 0
      },
      "text/plain": [
       "Epoch 15:   0%|          | 0/1407 [00:00<?, ?it/s]"
      ]
     },
     "metadata": {},
     "output_type": "display_data"
    },
    {
     "name": "stdout",
     "output_type": "stream",
     "text": [
      "\n",
      "Epoch 15\n",
      "Training loss: 0.23183574521710254\n",
      "Validation loss: 0.17141806141467422\n",
      "F1 Score (weighted): 0.9408\n",
      "\u001b[92m0.21% Training loss decreased compared to the previous epoch\u001b[0m\n",
      "\u001b[92m0.17% Validation loss decreased compared to the previous epoch\u001b[0m\n"
     ]
    },
    {
     "data": {
      "application/vnd.jupyter.widget-view+json": {
       "model_id": "93b3ef2aa3a347fcaa76dc0b990abbaa",
       "version_major": 2,
       "version_minor": 0
      },
      "text/plain": [
       "Epoch 16:   0%|          | 0/1407 [00:00<?, ?it/s]"
      ]
     },
     "metadata": {},
     "output_type": "display_data"
    },
    {
     "name": "stdout",
     "output_type": "stream",
     "text": [
      "\n",
      "Epoch 16\n",
      "Training loss: 0.23323059289543424\n",
      "Validation loss: 0.17451907240542447\n",
      "F1 Score (weighted): 0.9408\n",
      "\u001b[91m0.6% Training loss increased compared to the previous epoch\u001b[0m\n",
      "\u001b[91m1.81% Validation loss increased compared to the previous epoch\u001b[0m\n"
     ]
    },
    {
     "data": {
      "application/vnd.jupyter.widget-view+json": {
       "model_id": "159e6022e42a4bf89e08f8ca240bafad",
       "version_major": 2,
       "version_minor": 0
      },
      "text/plain": [
       "Epoch 17:   0%|          | 0/1407 [00:00<?, ?it/s]"
      ]
     },
     "metadata": {},
     "output_type": "display_data"
    },
    {
     "name": "stdout",
     "output_type": "stream",
     "text": [
      "\n",
      "Epoch 17\n",
      "Training loss: 0.23273966992015777\n",
      "Validation loss: 0.17109255827251513\n",
      "F1 Score (weighted): 0.9408\n",
      "\u001b[92m0.21% Training loss decreased compared to the previous epoch\u001b[0m\n",
      "\u001b[92m1.96% Validation loss decreased compared to the previous epoch\u001b[0m\n",
      "\n",
      "Early stopping triggered. Training stopped.\n",
      "\n",
      "Total training time: 153.6011746962865 minutes\n",
      "Final Accuracy: 0.9408\n",
      "Final Precision: 0.9410035358704397\n"
     ]
    },
    {
     "data": {
      "image/png": "[encoded data removed]",
      "text/plain": [
       "<Figure size 800x600 with 1 Axes>"
      ]
     },
     "metadata": {},
     "output_type": "display_data"
    },
    {
     "name": "stdout",
     "output_type": "stream",
     "text": [
      "Epoch                 Training Loss        Validation Loss      F1 Score    Accuracy      Precision\n",
      "--------------------  -------------------  -------------------  ----------  ----------  -----------\n",
      "1                     0.23170149961305092  0.17110233416389317  0.9408      0.9408         0.941004\n",
      "2                     \u001b[91m0.23248161691722183\u001b[0m  \u001b[91m0.17136630102114123\u001b[0m  0.9408      0.9408         \u001b[92m0.9408\u001b[0m\n",
      "3                     \u001b[92m0.23122637766177084\u001b[0m  \u001b[92m0.17125608913517396\u001b[0m  0.9408      0.9408         \u001b[92m0.9408\u001b[0m\n",
      "4                     \u001b[92m0.22936985292488493\u001b[0m  \u001b[91m0.17647055094575237\u001b[0m  0.9408      0.9408         \u001b[92m0.9408\u001b[0m\n",
      "5                     \u001b[91m0.23188497118920606\u001b[0m  \u001b[92m0.1711642673820447\u001b[0m   0.9408      0.9408         \u001b[92m0.9408\u001b[0m\n",
      "6                     \u001b[92m0.22988701722099478\u001b[0m  \u001b[91m0.17142382227062325\u001b[0m  0.9408      0.9408         \u001b[92m0.9408\u001b[0m\n",
      "7                     \u001b[92m0.22840654993841494\u001b[0m  \u001b[92m0.17105626176663075\u001b[0m  0.9408      0.9408         \u001b[92m0.9408\u001b[0m\n",
      "8                     \u001b[92m0.22835093038785453\u001b[0m  \u001b[91m0.17107940377121802\u001b[0m  0.9408      0.9408         \u001b[92m0.9408\u001b[0m\n",
      "9                     \u001b[91m0.23252742563247913\u001b[0m  \u001b[91m0.17112806937093758\u001b[0m  0.9408      0.9408         \u001b[92m0.9408\u001b[0m\n",
      "10                    \u001b[91m0.23340839429115764\u001b[0m  \u001b[91m0.17120044599554152\u001b[0m  0.9408      0.9408         \u001b[92m0.9408\u001b[0m\n",
      "11                    \u001b[92m0.23041829791591206\u001b[0m  \u001b[91m0.1716825965002986\u001b[0m   0.9408      0.9408         \u001b[92m0.9408\u001b[0m\n",
      "12                    \u001b[91m0.23058683135332944\u001b[0m  \u001b[92m0.1711526508116798\u001b[0m   0.9408      0.9408         \u001b[92m0.9408\u001b[0m\n",
      "13                    \u001b[92m0.23042139724425192\u001b[0m  \u001b[91m0.17270717154713763\u001b[0m  0.9408      0.9408         \u001b[92m0.9408\u001b[0m\n",
      "14                    \u001b[91m0.23232173218670504\u001b[0m  \u001b[92m0.17170561861341735\u001b[0m  0.9408      0.9408         \u001b[92m0.9408\u001b[0m\n",
      "15                    \u001b[92m0.23183574521710254\u001b[0m  \u001b[92m0.17141806141467422\u001b[0m  0.9408      0.9408         \u001b[92m0.9408\u001b[0m\n",
      "16                    \u001b[91m0.23323059289543424\u001b[0m  \u001b[91m0.17451907240542447\u001b[0m  0.9408      0.9408         \u001b[92m0.9408\u001b[0m\n",
      "17                    \u001b[92m0.23273966992015777\u001b[0m  \u001b[92m0.17109255827251513\u001b[0m  0.9408      0.9408         \u001b[92m0.9408\u001b[0m\n",
      "Total Training Time                                                                     9216.07\n",
      "Final Precision                                                                            0.941004\n",
      "Total Time (minutes)                                                                     153.601\n",
      "\n",
      "Fold 4\n"
     ]
    },
    {
     "data": {
      "application/vnd.jupyter.widget-view+json": {
       "model_id": "093908dc1c3941a5aad5372ad4a91014",
       "version_major": 2,
       "version_minor": 0
      },
      "text/plain": [
       "  0%|          | 0/50 [00:00<?, ?it/s]"
      ]
     },
     "metadata": {},
     "output_type": "display_data"
    },
    {
     "data": {
      "application/vnd.jupyter.widget-view+json": {
       "model_id": "20610d3417124a05931a2ee143a066de",
       "version_major": 2,
       "version_minor": 0
      },
      "text/plain": [
       "Epoch 1:   0%|          | 0/1407 [00:00<?, ?it/s]"
      ]
     },
     "metadata": {},
     "output_type": "display_data"
    },
    {
     "name": "stdout",
     "output_type": "stream",
     "text": [
      "\n",
      "Epoch 1\n",
      "Training loss: 0.2330212018398969\n",
      "Validation loss: 0.17794168104898114\n",
      "F1 Score (weighted): 0.9367969231084601\n"
     ]
    },
    {
     "data": {
      "application/vnd.jupyter.widget-view+json": {
       "model_id": "e3baf760741e4b469b6146662387b94a",
       "version_major": 2,
       "version_minor": 0
      },
      "text/plain": [
       "Epoch 2:   0%|          | 0/1407 [00:00<?, ?it/s]"
      ]
     },
     "metadata": {},
     "output_type": "display_data"
    },
    {
     "name": "stdout",
     "output_type": "stream",
     "text": [
      "\n",
      "Epoch 2\n",
      "Training loss: 0.23073660837970913\n",
      "Validation loss: 0.1763734671044027\n",
      "F1 Score (weighted): 0.9367969231084601\n",
      "\u001b[92m0.98% Training loss decreased compared to the previous epoch\u001b[0m\n",
      "\u001b[92m0.88% Validation loss decreased compared to the previous epoch\u001b[0m\n"
     ]
    },
    {
     "data": {
      "application/vnd.jupyter.widget-view+json": {
       "model_id": "ad253459d86245a5a7389c82742133b3",
       "version_major": 2,
       "version_minor": 0
      },
      "text/plain": [
       "Epoch 3:   0%|          | 0/1407 [00:00<?, ?it/s]"
      ]
     },
     "metadata": {},
     "output_type": "display_data"
    },
    {
     "name": "stdout",
     "output_type": "stream",
     "text": [
      "\n",
      "Epoch 3\n",
      "Training loss: 0.23117108949375365\n",
      "Validation loss: 0.17713152545142422\n",
      "F1 Score (weighted): 0.9367969231084601\n",
      "\u001b[91m0.19% Training loss increased compared to the previous epoch\u001b[0m\n",
      "\u001b[91m0.43% Validation loss increased compared to the previous epoch\u001b[0m\n"
     ]
    },
    {
     "data": {
      "application/vnd.jupyter.widget-view+json": {
       "model_id": "68b4da122dcd4abb9c57e672e52b0325",
       "version_major": 2,
       "version_minor": 0
      },
      "text/plain": [
       "Epoch 4:   0%|          | 0/1407 [00:00<?, ?it/s]"
      ]
     },
     "metadata": {},
     "output_type": "display_data"
    },
    {
     "name": "stdout",
     "output_type": "stream",
     "text": [
      "\n",
      "Epoch 4\n",
      "Training loss: 0.23362944240919456\n",
      "Validation loss: 0.1763834792877411\n",
      "F1 Score (weighted): 0.9367969231084601\n",
      "\u001b[91m1.06% Training loss increased compared to the previous epoch\u001b[0m\n",
      "\u001b[92m0.42% Validation loss decreased compared to the previous epoch\u001b[0m\n"
     ]
    },
    {
     "data": {
      "application/vnd.jupyter.widget-view+json": {
       "model_id": "12ff729ec0d5450da11c679ea55f82f1",
       "version_major": 2,
       "version_minor": 0
      },
      "text/plain": [
       "Epoch 5:   0%|          | 0/1407 [00:00<?, ?it/s]"
      ]
     },
     "metadata": {},
     "output_type": "display_data"
    },
    {
     "name": "stdout",
     "output_type": "stream",
     "text": [
      "\n",
      "Epoch 5\n",
      "Training loss: 0.23247629176598908\n",
      "Validation loss: 0.1764317372766365\n",
      "F1 Score (weighted): 0.9367969231084601\n",
      "\u001b[92m0.49% Training loss decreased compared to the previous epoch\u001b[0m\n",
      "\u001b[91m0.03% Validation loss increased compared to the previous epoch\u001b[0m\n"
     ]
    },
    {
     "data": {
      "application/vnd.jupyter.widget-view+json": {
       "model_id": "1e26668cec5942cfb0a4178400709de0",
       "version_major": 2,
       "version_minor": 0
      },
      "text/plain": [
       "Epoch 6:   0%|          | 0/1407 [00:00<?, ?it/s]"
      ]
     },
     "metadata": {},
     "output_type": "display_data"
    },
    {
     "name": "stdout",
     "output_type": "stream",
     "text": [
      "\n",
      "Epoch 6\n",
      "Training loss: 0.22745091518434857\n",
      "Validation loss: 0.17707390042769303\n",
      "F1 Score (weighted): 0.9367969231084601\n",
      "\u001b[92m2.16% Training loss decreased compared to the previous epoch\u001b[0m\n",
      "\u001b[91m0.36% Validation loss increased compared to the previous epoch\u001b[0m\n"
     ]
    },
    {
     "data": {
      "application/vnd.jupyter.widget-view+json": {
       "model_id": "0d8ff0a6a2b04edc91541c2fadde6399",
       "version_major": 2,
       "version_minor": 0
      },
      "text/plain": [
       "Epoch 7:   0%|          | 0/1407 [00:00<?, ?it/s]"
      ]
     },
     "metadata": {},
     "output_type": "display_data"
    },
    {
     "name": "stdout",
     "output_type": "stream",
     "text": [
      "\n",
      "Epoch 7\n",
      "Training loss: 0.23083969708611526\n",
      "Validation loss: 0.17642052916833645\n",
      "F1 Score (weighted): 0.9367969231084601\n",
      "\u001b[91m1.49% Training loss increased compared to the previous epoch\u001b[0m\n",
      "\u001b[92m0.37% Validation loss decreased compared to the previous epoch\u001b[0m\n"
     ]
    },
    {
     "data": {
      "application/vnd.jupyter.widget-view+json": {
       "model_id": "3db21474ea2a499fa27bbac8d374cc3c",
       "version_major": 2,
       "version_minor": 0
      },
      "text/plain": [
       "Epoch 8:   0%|          | 0/1407 [00:00<?, ?it/s]"
      ]
     },
     "metadata": {},
     "output_type": "display_data"
    },
    {
     "name": "stdout",
     "output_type": "stream",
     "text": [
      "\n",
      "Epoch 8\n",
      "Training loss: 0.2331811035887286\n",
      "Validation loss: 0.1766868951125367\n",
      "F1 Score (weighted): 0.9367969231084601\n",
      "\u001b[91m1.01% Training loss increased compared to the previous epoch\u001b[0m\n",
      "\u001b[91m0.15% Validation loss increased compared to the previous epoch\u001b[0m\n"
     ]
    },
    {
     "data": {
      "application/vnd.jupyter.widget-view+json": {
       "model_id": "e286d666fc3a4a21ab6bf571b6aa4e41",
       "version_major": 2,
       "version_minor": 0
      },
      "text/plain": [
       "Epoch 9:   0%|          | 0/1407 [00:00<?, ?it/s]"
      ]
     },
     "metadata": {},
     "output_type": "display_data"
    },
    {
     "name": "stdout",
     "output_type": "stream",
     "text": [
      "\n",
      "Epoch 9\n",
      "Training loss: 0.22958370424309307\n",
      "Validation loss: 0.17661525399845307\n",
      "F1 Score (weighted): 0.9367969231084601\n",
      "\u001b[92m1.54% Training loss decreased compared to the previous epoch\u001b[0m\n",
      "\u001b[92m0.04% Validation loss decreased compared to the previous epoch\u001b[0m\n"
     ]
    },
    {
     "data": {
      "application/vnd.jupyter.widget-view+json": {
       "model_id": "2617ac98a6e4432181a84e84c7763702",
       "version_major": 2,
       "version_minor": 0
      },
      "text/plain": [
       "Epoch 10:   0%|          | 0/1407 [00:00<?, ?it/s]"
      ]
     },
     "metadata": {},
     "output_type": "display_data"
    },
    {
     "name": "stdout",
     "output_type": "stream",
     "text": [
      "\n",
      "Epoch 10\n",
      "Training loss: 0.23110060664039442\n",
      "Validation loss: 0.18032712613345142\n",
      "F1 Score (weighted): 0.9367969231084601\n",
      "\u001b[91m0.66% Training loss increased compared to the previous epoch\u001b[0m\n",
      "\u001b[91m2.1% Validation loss increased compared to the previous epoch\u001b[0m\n"
     ]
    },
    {
     "data": {
      "application/vnd.jupyter.widget-view+json": {
       "model_id": "835a82b9392f497fad6878a4cc350e3b",
       "version_major": 2,
       "version_minor": 0
      },
      "text/plain": [
       "Epoch 11:   0%|          | 0/1407 [00:00<?, ?it/s]"
      ]
     },
     "metadata": {},
     "output_type": "display_data"
    },
    {
     "name": "stdout",
     "output_type": "stream",
     "text": [
      "\n",
      "Epoch 11\n",
      "Training loss: 0.2293054981914421\n",
      "Validation loss: 0.1763753036250639\n",
      "F1 Score (weighted): 0.9367969231084601\n",
      "\u001b[92m0.78% Training loss decreased compared to the previous epoch\u001b[0m\n",
      "\u001b[92m2.19% Validation loss decreased compared to the previous epoch\u001b[0m\n"
     ]
    },
    {
     "data": {
      "application/vnd.jupyter.widget-view+json": {
       "model_id": "38b43c7394534f6abc85c4e7d01dcd9f",
       "version_major": 2,
       "version_minor": 0
      },
      "text/plain": [
       "Epoch 12:   0%|          | 0/1407 [00:00<?, ?it/s]"
      ]
     },
     "metadata": {},
     "output_type": "display_data"
    },
    {
     "name": "stdout",
     "output_type": "stream",
     "text": [
      "\n",
      "Epoch 12\n",
      "Training loss: 0.2309695551169913\n",
      "Validation loss: 0.17683567193924052\n",
      "F1 Score (weighted): 0.9367969231084601\n",
      "\u001b[91m0.73% Training loss increased compared to the previous epoch\u001b[0m\n",
      "\u001b[91m0.26% Validation loss increased compared to the previous epoch\u001b[0m\n",
      "\n",
      "Early stopping triggered. Training stopped.\n",
      "\n",
      "Total training time: 108.4577218413353 minutes\n",
      "Final Accuracy: 0.9368\n",
      "Final Precision: 0.9367986469344609\n"
     ]
    },
    {
     "data": {
      "image/png": "[encoded data removed]",
      "text/plain": [
       "<Figure size 800x600 with 1 Axes>"
      ]
     },
     "metadata": {},
     "output_type": "display_data"
    },
    {
     "name": "stdout",
     "output_type": "stream",
     "text": [
      "Epoch                 Training Loss        Validation Loss      F1 Score            Accuracy              Precision\n",
      "--------------------  -------------------  -------------------  ------------------  ------------------  -----------\n",
      "1                     0.2330212018398969   0.17794168104898114  0.9367969231084601  0.9368                 0.936799\n",
      "2                     \u001b[92m0.23073660837970913\u001b[0m  \u001b[92m0.1763734671044027\u001b[0m   0.9367969231084601  \u001b[92m0.9367969231084601\u001b[0m     \u001b[92m0.936797\u001b[0m\n",
      "3                     \u001b[91m0.23117108949375365\u001b[0m  \u001b[91m0.17713152545142422\u001b[0m  0.9367969231084601  \u001b[92m0.9367969231084601\u001b[0m     \u001b[92m0.936797\u001b[0m\n",
      "4                     \u001b[91m0.23362944240919456\u001b[0m  \u001b[92m0.1763834792877411\u001b[0m   0.9367969231084601  \u001b[92m0.9367969231084601\u001b[0m     \u001b[92m0.936797\u001b[0m\n",
      "5                     \u001b[92m0.23247629176598908\u001b[0m  \u001b[91m0.1764317372766365\u001b[0m   0.9367969231084601  \u001b[92m0.9367969231084601\u001b[0m     \u001b[92m0.936797\u001b[0m\n",
      "6                     \u001b[92m0.22745091518434857\u001b[0m  \u001b[91m0.17707390042769303\u001b[0m  0.9367969231084601  \u001b[92m0.9367969231084601\u001b[0m     \u001b[92m0.936797\u001b[0m\n",
      "7                     \u001b[91m0.23083969708611526\u001b[0m  \u001b[92m0.17642052916833645\u001b[0m  0.9367969231084601  \u001b[92m0.9367969231084601\u001b[0m     \u001b[92m0.936797\u001b[0m\n",
      "8                     \u001b[91m0.2331811035887286\u001b[0m   \u001b[91m0.1766868951125367\u001b[0m   0.9367969231084601  \u001b[92m0.9367969231084601\u001b[0m     \u001b[92m0.936797\u001b[0m\n",
      "9                     \u001b[92m0.22958370424309307\u001b[0m  \u001b[92m0.17661525399845307\u001b[0m  0.9367969231084601  \u001b[92m0.9367969231084601\u001b[0m     \u001b[92m0.936797\u001b[0m\n",
      "10                    \u001b[91m0.23110060664039442\u001b[0m  \u001b[91m0.18032712613345142\u001b[0m  0.9367969231084601  \u001b[92m0.9367969231084601\u001b[0m     \u001b[92m0.936797\u001b[0m\n",
      "11                    \u001b[92m0.2293054981914421\u001b[0m   \u001b[92m0.1763753036250639\u001b[0m   0.9367969231084601  \u001b[92m0.9367969231084601\u001b[0m     \u001b[92m0.936797\u001b[0m\n",
      "12                    \u001b[91m0.2309695551169913\u001b[0m   \u001b[91m0.17683567193924052\u001b[0m  0.9367969231084601  \u001b[92m0.9367969231084601\u001b[0m     \u001b[92m0.936797\u001b[0m\n",
      "Total Training Time                                                                                     6507.46\n",
      "Final Precision                                                                                            0.936799\n",
      "Total Time (minutes)                                                                                     108.458\n",
      "\n",
      "Fold 5\n"
     ]
    },
    {
     "data": {
      "application/vnd.jupyter.widget-view+json": {
       "model_id": "6c49849d43c047359d56e536ea5720cb",
       "version_major": 2,
       "version_minor": 0
      },
      "text/plain": [
       "  0%|          | 0/50 [00:00<?, ?it/s]"
      ]
     },
     "metadata": {},
     "output_type": "display_data"
    },
    {
     "data": {
      "application/vnd.jupyter.widget-view+json": {
       "model_id": "6517e18a1b384682a3c563e09ea153ec",
       "version_major": 2,
       "version_minor": 0
      },
      "text/plain": [
       "Epoch 1:   0%|          | 0/1407 [00:00<?, ?it/s]"
      ]
     },
     "metadata": {},
     "output_type": "display_data"
    },
    {
     "name": "stdout",
     "output_type": "stream",
     "text": [
      "\n",
      "Epoch 1\n",
      "Training loss: 0.2325309780237676\n",
      "Validation loss: 0.16649450944250177\n",
      "F1 Score (weighted): 0.9396036243624363\n"
     ]
    },
    {
     "data": {
      "application/vnd.jupyter.widget-view+json": {
       "model_id": "4028a345ddd0477f9e354dd0465f4a15",
       "version_major": 2,
       "version_minor": 0
      },
      "text/plain": [
       "Epoch 2:   0%|          | 0/1407 [00:00<?, ?it/s]"
      ]
     },
     "metadata": {},
     "output_type": "display_data"
    },
    {
     "name": "stdout",
     "output_type": "stream",
     "text": [
      "\n",
      "Epoch 2\n",
      "Training loss: 0.23201637447023316\n",
      "Validation loss: 0.1664657111599994\n",
      "F1 Score (weighted): 0.9396036243624363\n",
      "\u001b[92m0.22% Training loss decreased compared to the previous epoch\u001b[0m\n",
      "\u001b[92m0.02% Validation loss decreased compared to the previous epoch\u001b[0m\n"
     ]
    },
    {
     "data": {
      "application/vnd.jupyter.widget-view+json": {
       "model_id": "a044d51093a8420ca79714e1a586fcd3",
       "version_major": 2,
       "version_minor": 0
      },
      "text/plain": [
       "Epoch 3:   0%|          | 0/1407 [00:00<?, ?it/s]"
      ]
     },
     "metadata": {},
     "output_type": "display_data"
    },
    {
     "name": "stdout",
     "output_type": "stream",
     "text": [
      "\n",
      "Epoch 3\n",
      "Training loss: 0.23118709211615684\n",
      "Validation loss: 0.16696785985059134\n",
      "F1 Score (weighted): 0.9396036243624363\n",
      "\u001b[92m0.36% Training loss decreased compared to the previous epoch\u001b[0m\n",
      "\u001b[91m0.3% Validation loss increased compared to the previous epoch\u001b[0m\n"
     ]
    },
    {
     "data": {
      "application/vnd.jupyter.widget-view+json": {
       "model_id": "46cbadf15acc47f4a5b747ab293b4900",
       "version_major": 2,
       "version_minor": 0
      },
      "text/plain": [
       "Epoch 4:   0%|          | 0/1407 [00:00<?, ?it/s]"
      ]
     },
     "metadata": {},
     "output_type": "display_data"
    },
    {
     "name": "stdout",
     "output_type": "stream",
     "text": [
      "\n",
      "Epoch 4\n",
      "Training loss: 0.2297374223985768\n",
      "Validation loss: 0.17015880084994017\n",
      "F1 Score (weighted): 0.9396036243624363\n",
      "\u001b[92m0.63% Training loss decreased compared to the previous epoch\u001b[0m\n",
      "\u001b[91m1.91% Validation loss increased compared to the previous epoch\u001b[0m\n"
     ]
    },
    {
     "data": {
      "application/vnd.jupyter.widget-view+json": {
       "model_id": "faf08a44a63b4745b4a60ac8f547414f",
       "version_major": 2,
       "version_minor": 0
      },
      "text/plain": [
       "Epoch 5:   0%|          | 0/1407 [00:00<?, ?it/s]"
      ]
     },
     "metadata": {},
     "output_type": "display_data"
    },
    {
     "name": "stdout",
     "output_type": "stream",
     "text": [
      "\n",
      "Epoch 5\n",
      "Training loss: 0.23050996786554018\n",
      "Validation loss: 0.1679564256897303\n",
      "F1 Score (weighted): 0.9396036243624363\n",
      "\u001b[91m0.34% Training loss increased compared to the previous epoch\u001b[0m\n",
      "\u001b[92m1.29% Validation loss decreased compared to the previous epoch\u001b[0m\n"
     ]
    },
    {
     "data": {
      "application/vnd.jupyter.widget-view+json": {
       "model_id": "5c46debb698d44c28f92a759a7f4c5bd",
       "version_major": 2,
       "version_minor": 0
      },
      "text/plain": [
       "Epoch 6:   0%|          | 0/1407 [00:00<?, ?it/s]"
      ]
     },
     "metadata": {},
     "output_type": "display_data"
    },
    {
     "name": "stdout",
     "output_type": "stream",
     "text": [
      "\n",
      "Epoch 6\n",
      "Training loss: 0.2307568551918231\n",
      "Validation loss: 0.16800436831026036\n",
      "F1 Score (weighted): 0.9396036243624363\n",
      "\u001b[91m0.11% Training loss increased compared to the previous epoch\u001b[0m\n",
      "\u001b[91m0.03% Validation loss increased compared to the previous epoch\u001b[0m\n"
     ]
    },
    {
     "data": {
      "application/vnd.jupyter.widget-view+json": {
       "model_id": "175d9310f971470aa2a319f1b59f936f",
       "version_major": 2,
       "version_minor": 0
      },
      "text/plain": [
       "Epoch 7:   0%|          | 0/1407 [00:00<?, ?it/s]"
      ]
     },
     "metadata": {},
     "output_type": "display_data"
    },
    {
     "name": "stdout",
     "output_type": "stream",
     "text": [
      "\n",
      "Epoch 7\n",
      "Training loss: 0.2339480069115779\n",
      "Validation loss: 0.16714683934678412\n",
      "F1 Score (weighted): 0.9396036243624363\n",
      "\u001b[91m1.38% Training loss increased compared to the previous epoch\u001b[0m\n",
      "\u001b[92m0.51% Validation loss decreased compared to the previous epoch\u001b[0m\n"
     ]
    },
    {
     "data": {
      "application/vnd.jupyter.widget-view+json": {
       "model_id": "41205487a7064591b4647ede8e8e7810",
       "version_major": 2,
       "version_minor": 0
      },
      "text/plain": [
       "Epoch 8:   0%|          | 0/1407 [00:00<?, ?it/s]"
      ]
     },
     "metadata": {},
     "output_type": "display_data"
    },
    {
     "name": "stdout",
     "output_type": "stream",
     "text": [
      "\n",
      "Epoch 8\n",
      "Training loss: 0.23033152069557555\n",
      "Validation loss: 0.1667570425316122\n",
      "F1 Score (weighted): 0.9396036243624363\n",
      "\u001b[92m1.55% Training loss decreased compared to the previous epoch\u001b[0m\n",
      "\u001b[92m0.23% Validation loss decreased compared to the previous epoch\u001b[0m\n"
     ]
    },
    {
     "data": {
      "application/vnd.jupyter.widget-view+json": {
       "model_id": "f9445c4aa717473692594e5bbe3a94df",
       "version_major": 2,
       "version_minor": 0
      },
      "text/plain": [
       "Epoch 9:   0%|          | 0/1407 [00:00<?, ?it/s]"
      ]
     },
     "metadata": {},
     "output_type": "display_data"
    },
    {
     "name": "stdout",
     "output_type": "stream",
     "text": [
      "\n",
      "Epoch 9\n",
      "Training loss: 0.2323375629921733\n",
      "Validation loss: 0.1686199051654263\n",
      "F1 Score (weighted): 0.9396036243624363\n",
      "\u001b[91m0.87% Training loss increased compared to the previous epoch\u001b[0m\n",
      "\u001b[91m1.12% Validation loss increased compared to the previous epoch\u001b[0m\n"
     ]
    },
    {
     "data": {
      "application/vnd.jupyter.widget-view+json": {
       "model_id": "ec932b265ebb4d72941df9978bde1463",
       "version_major": 2,
       "version_minor": 0
      },
      "text/plain": [
       "Epoch 10:   0%|          | 0/1407 [00:00<?, ?it/s]"
      ]
     },
     "metadata": {},
     "output_type": "display_data"
    },
    {
     "name": "stdout",
     "output_type": "stream",
     "text": [
      "\n",
      "Epoch 10\n",
      "Training loss: 0.2330117262218097\n",
      "Validation loss: 0.16784614225505454\n",
      "F1 Score (weighted): 0.9396036243624363\n",
      "\u001b[91m0.29% Training loss increased compared to the previous epoch\u001b[0m\n",
      "\u001b[92m0.46% Validation loss decreased compared to the previous epoch\u001b[0m\n"
     ]
    },
    {
     "data": {
      "application/vnd.jupyter.widget-view+json": {
       "model_id": "429b3dc6daa042fb91e0201a0df86cdb",
       "version_major": 2,
       "version_minor": 0
      },
      "text/plain": [
       "Epoch 11:   0%|          | 0/1407 [00:00<?, ?it/s]"
      ]
     },
     "metadata": {},
     "output_type": "display_data"
    },
    {
     "name": "stdout",
     "output_type": "stream",
     "text": [
      "\n",
      "Epoch 11\n",
      "Training loss: 0.23513815384795037\n",
      "Validation loss: 0.16642198611234735\n",
      "F1 Score (weighted): 0.9396036243624363\n",
      "\u001b[91m0.91% Training loss increased compared to the previous epoch\u001b[0m\n",
      "\u001b[92m0.85% Validation loss decreased compared to the previous epoch\u001b[0m\n"
     ]
    },
    {
     "data": {
      "application/vnd.jupyter.widget-view+json": {
       "model_id": "70bf60af3d424e12b406d9e49caf80de",
       "version_major": 2,
       "version_minor": 0
      },
      "text/plain": [
       "Epoch 12:   0%|          | 0/1407 [00:00<?, ?it/s]"
      ]
     },
     "metadata": {},
     "output_type": "display_data"
    },
    {
     "name": "stdout",
     "output_type": "stream",
     "text": [
      "\n",
      "Epoch 12\n",
      "Training loss: 0.23112611136483274\n",
      "Validation loss: 0.1668890712539529\n",
      "F1 Score (weighted): 0.9396036243624363\n",
      "\u001b[92m1.71% Training loss decreased compared to the previous epoch\u001b[0m\n",
      "\u001b[91m0.28% Validation loss increased compared to the previous epoch\u001b[0m\n"
     ]
    },
    {
     "data": {
      "application/vnd.jupyter.widget-view+json": {
       "model_id": "3074ce518363440cb233208234beab67",
       "version_major": 2,
       "version_minor": 0
      },
      "text/plain": [
       "Epoch 13:   0%|          | 0/1407 [00:00<?, ?it/s]"
      ]
     },
     "metadata": {},
     "output_type": "display_data"
    },
    {
     "name": "stdout",
     "output_type": "stream",
     "text": [
      "\n",
      "Epoch 13\n",
      "Training loss: 0.2295578604788462\n",
      "Validation loss: 0.1668597404180676\n",
      "F1 Score (weighted): 0.9396036243624363\n",
      "\u001b[92m0.68% Training loss decreased compared to the previous epoch\u001b[0m\n",
      "\u001b[92m0.02% Validation loss decreased compared to the previous epoch\u001b[0m\n"
     ]
    },
    {
     "data": {
      "application/vnd.jupyter.widget-view+json": {
       "model_id": "edb471aef051489b887fde23f37d0535",
       "version_major": 2,
       "version_minor": 0
      },
      "text/plain": [
       "Epoch 14:   0%|          | 0/1407 [00:00<?, ?it/s]"
      ]
     },
     "metadata": {},
     "output_type": "display_data"
    },
    {
     "name": "stdout",
     "output_type": "stream",
     "text": [
      "\n",
      "Epoch 14\n",
      "Training loss: 0.23398663979434087\n",
      "Validation loss: 0.16699123580103656\n",
      "F1 Score (weighted): 0.9396036243624363\n",
      "\u001b[91m1.93% Training loss increased compared to the previous epoch\u001b[0m\n",
      "\u001b[91m0.08% Validation loss increased compared to the previous epoch\u001b[0m\n"
     ]
    },
    {
     "data": {
      "application/vnd.jupyter.widget-view+json": {
       "model_id": "c17d9232beea4bcfb5fba44c68fc74a1",
       "version_major": 2,
       "version_minor": 0
      },
      "text/plain": [
       "Epoch 15:   0%|          | 0/1407 [00:00<?, ?it/s]"
      ]
     },
     "metadata": {},
     "output_type": "display_data"
    },
    {
     "name": "stdout",
     "output_type": "stream",
     "text": [
      "\n",
      "Epoch 15\n",
      "Training loss: 0.23451936785290553\n",
      "Validation loss: 0.16647277787553183\n",
      "F1 Score (weighted): 0.9396036243624363\n",
      "\u001b[91m0.23% Training loss increased compared to the previous epoch\u001b[0m\n",
      "\u001b[92m0.31% Validation loss decreased compared to the previous epoch\u001b[0m\n"
     ]
    },
    {
     "data": {
      "application/vnd.jupyter.widget-view+json": {
       "model_id": "2ef1f333c0a94cd3b1a81bba14962003",
       "version_major": 2,
       "version_minor": 0
      },
      "text/plain": [
       "Epoch 16:   0%|          | 0/1407 [00:00<?, ?it/s]"
      ]
     },
     "metadata": {},
     "output_type": "display_data"
    },
    {
     "ename": "KeyboardInterrupt",
     "evalue": "",
     "output_type": "error",
     "traceback": [
      "\u001b[0;31m---------------------------------------------------------------------------\u001b[0m",
      "\u001b[0;31mKeyboardInterrupt\u001b[0m                         Traceback (most recent call last)",
      "Cell \u001b[0;32mIn[21], line 36\u001b[0m\n\u001b[1;32m     32\u001b[0m fold_f1_score_list \u001b[38;5;241m=\u001b[39m []\n\u001b[1;32m     34\u001b[0m \u001b[38;5;28;01mtry\u001b[39;00m:\n\u001b[1;32m     35\u001b[0m     fold_training_loss_list, fold_validation_loss_list, fold_accuracy_list, fold_precision_list, fold_f1_score_list \u001b[38;5;241m=\u001b[39m \\\n\u001b[0;32m---> 36\u001b[0m     \u001b[43mtrain_model\u001b[49m\u001b[43m(\u001b[49m\u001b[43mtrainer\u001b[49m\u001b[43m,\u001b[49m\u001b[43m \u001b[49m\u001b[43mdataloader_train\u001b[49m\u001b[43m,\u001b[49m\u001b[43m \u001b[49m\u001b[43mdataloader_vals\u001b[49m\u001b[43m,\u001b[49m\u001b[43m \u001b[49m\u001b[43mepochs\u001b[49m\u001b[43m,\u001b[49m\u001b[43m \u001b[49m\u001b[43mpatience\u001b[49m\u001b[43m)\u001b[49m\n\u001b[1;32m     37\u001b[0m \u001b[38;5;28;01mexcept\u001b[39;00m \u001b[38;5;167;01mException\u001b[39;00m \u001b[38;5;28;01mas\u001b[39;00m e:\n\u001b[1;32m     38\u001b[0m     \u001b[38;5;28mprint\u001b[39m(\u001b[38;5;124mf\u001b[39m\u001b[38;5;124m\"\u001b[39m\u001b[38;5;124mContinue to the next fold \u001b[39m\u001b[38;5;132;01m{\u001b[39;00mfold\u001b[38;5;241m+\u001b[39m\u001b[38;5;241m1\u001b[39m\u001b[38;5;132;01m}\u001b[39;00m\u001b[38;5;124m: \u001b[39m\u001b[38;5;132;01m{\u001b[39;00m\u001b[38;5;28mstr\u001b[39m(e)\u001b[38;5;132;01m}\u001b[39;00m\u001b[38;5;124m\"\u001b[39m)\n",
      "Cell \u001b[0;32mIn[2], line 148\u001b[0m, in \u001b[0;36mtrain_model\u001b[0;34m(trainer, dataloader_train, dataloader_val, epochs, patience)\u001b[0m\n\u001b[1;32m    146\u001b[0m loss \u001b[38;5;241m=\u001b[39m output[\u001b[38;5;241m0\u001b[39m]\n\u001b[1;32m    147\u001b[0m loss_train_total \u001b[38;5;241m+\u001b[39m\u001b[38;5;241m=\u001b[39m loss\u001b[38;5;241m.\u001b[39mitem()\n\u001b[0;32m--> 148\u001b[0m \u001b[43mloss\u001b[49m\u001b[38;5;241;43m.\u001b[39;49m\u001b[43mbackward\u001b[49m\u001b[43m(\u001b[49m\u001b[43m)\u001b[49m\n\u001b[1;32m    149\u001b[0m torch\u001b[38;5;241m.\u001b[39mnn\u001b[38;5;241m.\u001b[39mutils\u001b[38;5;241m.\u001b[39mclip_grad_norm_(model\u001b[38;5;241m.\u001b[39mparameters(), \u001b[38;5;241m1.0\u001b[39m)\n\u001b[1;32m    150\u001b[0m optimizer\u001b[38;5;241m.\u001b[39mstep()\n",
      "File \u001b[0;32m~/.local/lib/python3.10/site-packages/torch/_tensor.py:487\u001b[0m, in \u001b[0;36mTensor.backward\u001b[0;34m(self, gradient, retain_graph, create_graph, inputs)\u001b[0m\n\u001b[1;32m    477\u001b[0m \u001b[38;5;28;01mif\u001b[39;00m has_torch_function_unary(\u001b[38;5;28mself\u001b[39m):\n\u001b[1;32m    478\u001b[0m     \u001b[38;5;28;01mreturn\u001b[39;00m handle_torch_function(\n\u001b[1;32m    479\u001b[0m         Tensor\u001b[38;5;241m.\u001b[39mbackward,\n\u001b[1;32m    480\u001b[0m         (\u001b[38;5;28mself\u001b[39m,),\n\u001b[0;32m   (...)\u001b[0m\n\u001b[1;32m    485\u001b[0m         inputs\u001b[38;5;241m=\u001b[39minputs,\n\u001b[1;32m    486\u001b[0m     )\n\u001b[0;32m--> 487\u001b[0m \u001b[43mtorch\u001b[49m\u001b[38;5;241;43m.\u001b[39;49m\u001b[43mautograd\u001b[49m\u001b[38;5;241;43m.\u001b[39;49m\u001b[43mbackward\u001b[49m\u001b[43m(\u001b[49m\n\u001b[1;32m    488\u001b[0m \u001b[43m    \u001b[49m\u001b[38;5;28;43mself\u001b[39;49m\u001b[43m,\u001b[49m\u001b[43m \u001b[49m\u001b[43mgradient\u001b[49m\u001b[43m,\u001b[49m\u001b[43m \u001b[49m\u001b[43mretain_graph\u001b[49m\u001b[43m,\u001b[49m\u001b[43m \u001b[49m\u001b[43mcreate_graph\u001b[49m\u001b[43m,\u001b[49m\u001b[43m \u001b[49m\u001b[43minputs\u001b[49m\u001b[38;5;241;43m=\u001b[39;49m\u001b[43minputs\u001b[49m\n\u001b[1;32m    489\u001b[0m \u001b[43m\u001b[49m\u001b[43m)\u001b[49m\n",
      "File \u001b[0;32m~/.local/lib/python3.10/site-packages/torch/autograd/__init__.py:200\u001b[0m, in \u001b[0;36mbackward\u001b[0;34m(tensors, grad_tensors, retain_graph, create_graph, grad_variables, inputs)\u001b[0m\n\u001b[1;32m    195\u001b[0m     retain_graph \u001b[38;5;241m=\u001b[39m create_graph\n\u001b[1;32m    197\u001b[0m \u001b[38;5;66;03m# The reason we repeat same the comment below is that\u001b[39;00m\n\u001b[1;32m    198\u001b[0m \u001b[38;5;66;03m# some Python versions print out the first line of a multi-line function\u001b[39;00m\n\u001b[1;32m    199\u001b[0m \u001b[38;5;66;03m# calls in the traceback and some print out the last line\u001b[39;00m\n\u001b[0;32m--> 200\u001b[0m \u001b[43mVariable\u001b[49m\u001b[38;5;241;43m.\u001b[39;49m\u001b[43m_execution_engine\u001b[49m\u001b[38;5;241;43m.\u001b[39;49m\u001b[43mrun_backward\u001b[49m\u001b[43m(\u001b[49m\u001b[43m  \u001b[49m\u001b[38;5;66;43;03m# Calls into the C++ engine to run the backward pass\u001b[39;49;00m\n\u001b[1;32m    201\u001b[0m \u001b[43m    \u001b[49m\u001b[43mtensors\u001b[49m\u001b[43m,\u001b[49m\u001b[43m \u001b[49m\u001b[43mgrad_tensors_\u001b[49m\u001b[43m,\u001b[49m\u001b[43m \u001b[49m\u001b[43mretain_graph\u001b[49m\u001b[43m,\u001b[49m\u001b[43m \u001b[49m\u001b[43mcreate_graph\u001b[49m\u001b[43m,\u001b[49m\u001b[43m \u001b[49m\u001b[43minputs\u001b[49m\u001b[43m,\u001b[49m\n\u001b[1;32m    202\u001b[0m \u001b[43m    \u001b[49m\u001b[43mallow_unreachable\u001b[49m\u001b[38;5;241;43m=\u001b[39;49m\u001b[38;5;28;43;01mTrue\u001b[39;49;00m\u001b[43m,\u001b[49m\u001b[43m \u001b[49m\u001b[43maccumulate_grad\u001b[49m\u001b[38;5;241;43m=\u001b[39;49m\u001b[38;5;28;43;01mTrue\u001b[39;49;00m\u001b[43m)\u001b[49m\n",
      "\u001b[0;31mKeyboardInterrupt\u001b[0m: "
     ]
    }
   ],
   "source": [
    "from torch.utils.data import DataLoader, SubsetRandomSampler\n",
    "from sklearn.model_selection import KFold\n",
    "\n",
    "k = 10  # Number of folds\n",
    "kf = KFold(n_splits=k, shuffle=True, random_state=42)\n",
    "\n",
    "# Convert the multilabel indicator target to numpy array\n",
    "targets = dataset_train.tensors[1].numpy()\n",
    "\n",
    "# Initialize lists to store the evaluation metrics for each fold\n",
    "training_loss_lists = []\n",
    "validation_loss_lists = []\n",
    "accuracy_lists = []\n",
    "precision_lists = []\n",
    "f1_score_lists = []\n",
    "\n",
    "# Perform multilabel k-fold cross-validation\n",
    "for fold, (train_index, val_index) in enumerate(kf.split(targets)):\n",
    "    print(f\"\\nFold {fold+1}\")\n",
    "    train_sampler = SubsetRandomSampler(train_index)\n",
    "    val_sampler = SubsetRandomSampler(val_index)\n",
    "\n",
    "    # Create data loaders for training and validation\n",
    "    dataloader_train = DataLoader(dataset_train, batch_size=batch_size, sampler=train_sampler)\n",
    "    dataloader_vals = DataLoader(dataset_train, batch_size=batch_size, sampler=val_sampler)\n",
    "\n",
    "    # Initialize metrics lists for this fold\n",
    "    fold_training_loss_list = []\n",
    "    fold_validation_loss_list = []\n",
    "    fold_accuracy_list = []\n",
    "    fold_precision_list = []\n",
    "    fold_f1_score_list = []\n",
    "\n",
    "    try:\n",
    "        fold_training_loss_list, fold_validation_loss_list, fold_accuracy_list, fold_precision_list, fold_f1_score_list = \\\n",
    "        train_model(trainer, dataloader_train, dataloader_vals, epochs, patience)\n",
    "    except Exception as e:\n",
    "        print(f\"Continue to the next fold {fold+1}: {str(e)}\")\n",
    "        continue\n",
    "\n",
    "    # Append the metrics for this fold to the overall lists\n",
    "    training_loss_lists.append(fold_training_loss_list)\n",
    "    validation_loss_lists.append(fold_validation_loss_list)\n",
    "    accuracy_lists.append(fold_accuracy_list)\n",
    "    precision_lists.append(fold_precision_list)\n",
    "    f1_score_lists.append(fold_f1_score_list)"
   ]
  },
  {
   "cell_type": "code",
   "execution_count": 22,
   "id": "89692d11-fb56-4063-b9c0-e7971924366a",
   "metadata": {},
   "outputs": [
    {
     "data": {
      "application/vnd.jupyter.widget-view+json": {
       "model_id": "d9b4118567484a35ad097ff40ad22d2c",
       "version_major": 2,
       "version_minor": 0
      },
      "text/plain": [
       "  0%|          | 0/50 [00:00<?, ?it/s]"
      ]
     },
     "metadata": {},
     "output_type": "display_data"
    },
    {
     "data": {
      "application/vnd.jupyter.widget-view+json": {
       "model_id": "",
       "version_major": 2,
       "version_minor": 0
      },
      "text/plain": [
       "Epoch 1:   0%|          | 0/1407 [00:00<?, ?it/s]"
      ]
     },
     "metadata": {},
     "output_type": "display_data"
    },
    {
     "name": "stdout",
     "output_type": "stream",
     "text": [
      "\n",
      "Epoch 1\n",
      "Training loss: 0.23160957066671872\n",
      "Validation loss: 0.3965749220781967\n",
      "F1 Score (weighted): 0.8543353826796728\n"
     ]
    },
    {
     "data": {
      "application/vnd.jupyter.widget-view+json": {
       "model_id": "",
       "version_major": 2,
       "version_minor": 0
      },
      "text/plain": [
       "Epoch 2:   0%|          | 0/1407 [00:00<?, ?it/s]"
      ]
     },
     "metadata": {},
     "output_type": "display_data"
    },
    {
     "name": "stdout",
     "output_type": "stream",
     "text": [
      "\n",
      "Epoch 2\n",
      "Training loss: 0.23155505533410234\n",
      "Validation loss: 0.39646163596983186\n",
      "F1 Score (weighted): 0.8543353826796728\n",
      "\u001b[92m0.02% Training loss decreased compared to the previous epoch\u001b[0m\n",
      "\u001b[92m0.03% Validation loss decreased compared to the previous epoch\u001b[0m\n"
     ]
    },
    {
     "data": {
      "application/vnd.jupyter.widget-view+json": {
       "model_id": "",
       "version_major": 2,
       "version_minor": 0
      },
      "text/plain": [
       "Epoch 3:   0%|          | 0/1407 [00:00<?, ?it/s]"
      ]
     },
     "metadata": {},
     "output_type": "display_data"
    },
    {
     "name": "stdout",
     "output_type": "stream",
     "text": [
      "\n",
      "Epoch 3\n",
      "Training loss: 0.23164321157112241\n",
      "Validation loss: 0.39642804195676584\n",
      "F1 Score (weighted): 0.8543353826796728\n",
      "\u001b[91m0.04% Training loss increased compared to the previous epoch\u001b[0m\n",
      "\u001b[92m0.01% Validation loss decreased compared to the previous epoch\u001b[0m\n"
     ]
    },
    {
     "data": {
      "application/vnd.jupyter.widget-view+json": {
       "model_id": "",
       "version_major": 2,
       "version_minor": 0
      },
      "text/plain": [
       "Epoch 4:   0%|          | 0/1407 [00:00<?, ?it/s]"
      ]
     },
     "metadata": {},
     "output_type": "display_data"
    },
    {
     "name": "stdout",
     "output_type": "stream",
     "text": [
      "\n",
      "Epoch 4\n",
      "Training loss: 0.23870952393563083\n",
      "Validation loss: 0.3964286116252743\n",
      "F1 Score (weighted): 0.8543353826796728\n",
      "\u001b[91m3.05% Training loss increased compared to the previous epoch\u001b[0m\n",
      "\u001b[91m0.0% Validation loss increased compared to the previous epoch\u001b[0m\n"
     ]
    },
    {
     "data": {
      "application/vnd.jupyter.widget-view+json": {
       "model_id": "",
       "version_major": 2,
       "version_minor": 0
      },
      "text/plain": [
       "Epoch 5:   0%|          | 0/1407 [00:00<?, ?it/s]"
      ]
     },
     "metadata": {},
     "output_type": "display_data"
    },
    {
     "name": "stdout",
     "output_type": "stream",
     "text": [
      "\n",
      "Epoch 5\n",
      "Training loss: 0.2273205524408434\n",
      "Validation loss: 0.3965599890953253\n",
      "F1 Score (weighted): 0.8543353826796728\n",
      "\u001b[92m4.77% Training loss decreased compared to the previous epoch\u001b[0m\n",
      "\u001b[91m0.03% Validation loss increased compared to the previous epoch\u001b[0m\n"
     ]
    },
    {
     "data": {
      "application/vnd.jupyter.widget-view+json": {
       "model_id": "",
       "version_major": 2,
       "version_minor": 0
      },
      "text/plain": [
       "Epoch 6:   0%|          | 0/1407 [00:00<?, ?it/s]"
      ]
     },
     "metadata": {},
     "output_type": "display_data"
    },
    {
     "name": "stdout",
     "output_type": "stream",
     "text": [
      "\n",
      "Epoch 6\n",
      "Training loss: 0.2320662111437111\n",
      "Validation loss: 0.3965029522433391\n",
      "F1 Score (weighted): 0.8543353826796728\n",
      "\u001b[91m2.09% Training loss increased compared to the previous epoch\u001b[0m\n",
      "\u001b[92m0.01% Validation loss decreased compared to the previous epoch\u001b[0m\n"
     ]
    },
    {
     "data": {
      "application/vnd.jupyter.widget-view+json": {
       "model_id": "",
       "version_major": 2,
       "version_minor": 0
      },
      "text/plain": [
       "Epoch 7:   0%|          | 0/1407 [00:00<?, ?it/s]"
      ]
     },
     "metadata": {},
     "output_type": "display_data"
    },
    {
     "name": "stdout",
     "output_type": "stream",
     "text": [
      "\n",
      "Epoch 7\n",
      "Training loss: 0.2299237803389883\n",
      "Validation loss: 0.39646774126003453\n",
      "F1 Score (weighted): 0.8543353826796728\n",
      "\u001b[92m0.92% Training loss decreased compared to the previous epoch\u001b[0m\n",
      "\u001b[92m0.01% Validation loss decreased compared to the previous epoch\u001b[0m\n"
     ]
    },
    {
     "data": {
      "application/vnd.jupyter.widget-view+json": {
       "model_id": "",
       "version_major": 2,
       "version_minor": 0
      },
      "text/plain": [
       "Epoch 8:   0%|          | 0/1407 [00:00<?, ?it/s]"
      ]
     },
     "metadata": {},
     "output_type": "display_data"
    },
    {
     "name": "stdout",
     "output_type": "stream",
     "text": [
      "\n",
      "Epoch 8\n",
      "Training loss: 0.234096762003389\n",
      "Validation loss: 0.3964633584604673\n",
      "F1 Score (weighted): 0.8543353826796728\n",
      "\u001b[91m1.81% Training loss increased compared to the previous epoch\u001b[0m\n",
      "\u001b[92m0.0% Validation loss decreased compared to the previous epoch\u001b[0m\n"
     ]
    },
    {
     "data": {
      "application/vnd.jupyter.widget-view+json": {
       "model_id": "",
       "version_major": 2,
       "version_minor": 0
      },
      "text/plain": [
       "Epoch 9:   0%|          | 0/1407 [00:00<?, ?it/s]"
      ]
     },
     "metadata": {},
     "output_type": "display_data"
    },
    {
     "name": "stdout",
     "output_type": "stream",
     "text": [
      "\n",
      "Epoch 9\n",
      "Training loss: 0.23420737973363392\n",
      "Validation loss: 0.3964418156920996\n",
      "F1 Score (weighted): 0.8543353826796728\n",
      "\u001b[91m0.05% Training loss increased compared to the previous epoch\u001b[0m\n",
      "\u001b[92m0.01% Validation loss decreased compared to the previous epoch\u001b[0m\n"
     ]
    },
    {
     "data": {
      "application/vnd.jupyter.widget-view+json": {
       "model_id": "",
       "version_major": 2,
       "version_minor": 0
      },
      "text/plain": [
       "Epoch 10:   0%|          | 0/1407 [00:00<?, ?it/s]"
      ]
     },
     "metadata": {},
     "output_type": "display_data"
    },
    {
     "name": "stdout",
     "output_type": "stream",
     "text": [
      "\n",
      "Epoch 10\n",
      "Training loss: 0.22921093599903897\n",
      "Validation loss: 0.39648325538402157\n",
      "F1 Score (weighted): 0.8543353826796728\n",
      "\u001b[92m2.13% Training loss decreased compared to the previous epoch\u001b[0m\n",
      "\u001b[91m0.01% Validation loss increased compared to the previous epoch\u001b[0m\n"
     ]
    },
    {
     "data": {
      "application/vnd.jupyter.widget-view+json": {
       "model_id": "",
       "version_major": 2,
       "version_minor": 0
      },
      "text/plain": [
       "Epoch 11:   0%|          | 0/1407 [00:00<?, ?it/s]"
      ]
     },
     "metadata": {},
     "output_type": "display_data"
    },
    {
     "name": "stdout",
     "output_type": "stream",
     "text": [
      "\n",
      "Epoch 11\n",
      "Training loss: 0.23323693339181395\n",
      "Validation loss: 0.39643842584715105\n",
      "F1 Score (weighted): 0.8543353826796728\n",
      "\u001b[91m1.76% Training loss increased compared to the previous epoch\u001b[0m\n",
      "\u001b[92m0.01% Validation loss decreased compared to the previous epoch\u001b[0m\n"
     ]
    },
    {
     "data": {
      "application/vnd.jupyter.widget-view+json": {
       "model_id": "",
       "version_major": 2,
       "version_minor": 0
      },
      "text/plain": [
       "Epoch 12:   0%|          | 0/1407 [00:00<?, ?it/s]"
      ]
     },
     "metadata": {},
     "output_type": "display_data"
    },
    {
     "name": "stdout",
     "output_type": "stream",
     "text": [
      "\n",
      "Epoch 12\n",
      "Training loss: 0.228861353280686\n",
      "Validation loss: 0.3965685520299084\n",
      "F1 Score (weighted): 0.8543353826796728\n",
      "\u001b[92m1.88% Training loss decreased compared to the previous epoch\u001b[0m\n",
      "\u001b[91m0.03% Validation loss increased compared to the previous epoch\u001b[0m\n"
     ]
    },
    {
     "data": {
      "application/vnd.jupyter.widget-view+json": {
       "model_id": "",
       "version_major": 2,
       "version_minor": 0
      },
      "text/plain": [
       "Epoch 13:   0%|          | 0/1407 [00:00<?, ?it/s]"
      ]
     },
     "metadata": {},
     "output_type": "display_data"
    },
    {
     "name": "stdout",
     "output_type": "stream",
     "text": [
      "\n",
      "Epoch 13\n",
      "Training loss: 0.23217921708422556\n",
      "Validation loss: 0.39644109374728537\n",
      "F1 Score (weighted): 0.8543353826796728\n",
      "\u001b[91m1.45% Training loss increased compared to the previous epoch\u001b[0m\n",
      "\u001b[92m0.03% Validation loss decreased compared to the previous epoch\u001b[0m\n",
      "\n",
      "Early stopping triggered. Training stopped.\n",
      "\n",
      "Total training time: 117.31511528889338 minutes\n",
      "Final Accuracy: 0.85436\n",
      "Final Precision: 0.8545997094035568\n"
     ]
    },
    {
     "data": {
      "image/png": "[encoded data removed]",
      "text/plain": [
       "<Figure size 800x600 with 1 Axes>"
      ]
     },
     "metadata": {},
     "output_type": "display_data"
    },
    {
     "name": "stdout",
     "output_type": "stream",
     "text": [
      "Epoch                 Training Loss        Validation Loss      F1 Score            Accuracy              Precision\n",
      "--------------------  -------------------  -------------------  ------------------  ------------------  -----------\n",
      "1                     0.23160957066671872  0.3965749220781967   0.8543353826796728  0.85436                0.8546\n",
      "2                     \u001b[92m0.23155505533410234\u001b[0m  \u001b[92m0.39646163596983186\u001b[0m  0.8543353826796728  \u001b[92m0.8543353826796728\u001b[0m     \u001b[92m0.854335\u001b[0m\n",
      "3                     \u001b[91m0.23164321157112241\u001b[0m  \u001b[92m0.39642804195676584\u001b[0m  0.8543353826796728  \u001b[92m0.8543353826796728\u001b[0m     \u001b[92m0.854335\u001b[0m\n",
      "4                     \u001b[91m0.23870952393563083\u001b[0m  \u001b[91m0.3964286116252743\u001b[0m   0.8543353826796728  \u001b[92m0.8543353826796728\u001b[0m     \u001b[92m0.854335\u001b[0m\n",
      "5                     \u001b[92m0.2273205524408434\u001b[0m   \u001b[91m0.3965599890953253\u001b[0m   0.8543353826796728  \u001b[92m0.8543353826796728\u001b[0m     \u001b[92m0.854335\u001b[0m\n",
      "6                     \u001b[91m0.2320662111437111\u001b[0m   \u001b[92m0.3965029522433391\u001b[0m   0.8543353826796728  \u001b[92m0.8543353826796728\u001b[0m     \u001b[92m0.854335\u001b[0m\n",
      "7                     \u001b[92m0.2299237803389883\u001b[0m   \u001b[92m0.39646774126003453\u001b[0m  0.8543353826796728  \u001b[92m0.8543353826796728\u001b[0m     \u001b[92m0.854335\u001b[0m\n",
      "8                     \u001b[91m0.234096762003389\u001b[0m    \u001b[92m0.3964633584604673\u001b[0m   0.8543353826796728  \u001b[92m0.8543353826796728\u001b[0m     \u001b[92m0.854335\u001b[0m\n",
      "9                     \u001b[91m0.23420737973363392\u001b[0m  \u001b[92m0.3964418156920996\u001b[0m   0.8543353826796728  \u001b[92m0.8543353826796728\u001b[0m     \u001b[92m0.854335\u001b[0m\n",
      "10                    \u001b[92m0.22921093599903897\u001b[0m  \u001b[91m0.39648325538402157\u001b[0m  0.8543353826796728  \u001b[92m0.8543353826796728\u001b[0m     \u001b[92m0.854335\u001b[0m\n",
      "11                    \u001b[91m0.23323693339181395\u001b[0m  \u001b[92m0.39643842584715105\u001b[0m  0.8543353826796728  \u001b[92m0.8543353826796728\u001b[0m     \u001b[92m0.854335\u001b[0m\n",
      "12                    \u001b[92m0.228861353280686\u001b[0m    \u001b[91m0.3965685520299084\u001b[0m   0.8543353826796728  \u001b[92m0.8543353826796728\u001b[0m     \u001b[92m0.854335\u001b[0m\n",
      "13                    \u001b[91m0.23217921708422556\u001b[0m  \u001b[92m0.39644109374728537\u001b[0m  0.8543353826796728  \u001b[92m0.8543353826796728\u001b[0m     \u001b[92m0.854335\u001b[0m\n",
      "Total Training Time                                                                                     7038.91\n",
      "Final Precision                                                                                            0.8546\n",
      "Total Time (minutes)                                                                                     117.315\n"
     ]
    },
    {
     "data": {
      "text/plain": [
       "([0.23160957066671872,\n",
       "  0.23155505533410234,\n",
       "  0.23164321157112241,\n",
       "  0.23870952393563083,\n",
       "  0.2273205524408434,\n",
       "  0.2320662111437111,\n",
       "  0.2299237803389883,\n",
       "  0.234096762003389,\n",
       "  0.23420737973363392,\n",
       "  0.22921093599903897,\n",
       "  0.23323693339181395,\n",
       "  0.228861353280686,\n",
       "  0.23217921708422556],\n",
       " [0.3965749220781967,\n",
       "  0.39646163596983186,\n",
       "  0.39642804195676584,\n",
       "  0.3964286116252743,\n",
       "  0.3965599890953253,\n",
       "  0.3965029522433391,\n",
       "  0.39646774126003453,\n",
       "  0.3964633584604673,\n",
       "  0.3964418156920996,\n",
       "  0.39648325538402157,\n",
       "  0.39643842584715105,\n",
       "  0.3965685520299084,\n",
       "  0.39644109374728537],\n",
       " [0.85436,\n",
       "  0.85436,\n",
       "  0.85436,\n",
       "  0.85436,\n",
       "  0.85436,\n",
       "  0.85436,\n",
       "  0.85436,\n",
       "  0.85436,\n",
       "  0.85436,\n",
       "  0.85436,\n",
       "  0.85436,\n",
       "  0.85436,\n",
       "  0.85436],\n",
       " [0.8545997094035568,\n",
       "  0.8545997094035568,\n",
       "  0.8545997094035568,\n",
       "  0.8545997094035568,\n",
       "  0.8545997094035568,\n",
       "  0.8545997094035568,\n",
       "  0.8545997094035568,\n",
       "  0.8545997094035568,\n",
       "  0.8545997094035568,\n",
       "  0.8545997094035568,\n",
       "  0.8545997094035568,\n",
       "  0.8545997094035568,\n",
       "  0.8545997094035568],\n",
       " [0.8543353826796728,\n",
       "  0.8543353826796728,\n",
       "  0.8543353826796728,\n",
       "  0.8543353826796728,\n",
       "  0.8543353826796728,\n",
       "  0.8543353826796728,\n",
       "  0.8543353826796728,\n",
       "  0.8543353826796728,\n",
       "  0.8543353826796728,\n",
       "  0.8543353826796728,\n",
       "  0.8543353826796728,\n",
       "  0.8543353826796728,\n",
       "  0.8543353826796728])"
      ]
     },
     "execution_count": 22,
     "metadata": {},
     "output_type": "execute_result"
    }
   ],
   "source": [
    "train_model(trainer, dataloader_train, dataloader_test, epochs, patience)"
   ]
  },
  {
   "cell_type": "code",
   "execution_count": null,
   "id": "00950c82-5502-4c7b-9bd8-49b9588fd80e",
   "metadata": {},
   "outputs": [],
   "source": []
  }
 ],
 "metadata": {
  "kernelspec": {
   "display_name": "Python 3 (ipykernel)",
   "language": "python",
   "name": "python3"
  },
  "language_info": {
   "codemirror_mode": {
    "name": "ipython",
    "version": 3
   },
   "file_extension": ".py",
   "mimetype": "text/x-python",
   "name": "python",
   "nbconvert_exporter": "python",
   "pygments_lexer": "ipython3",
   "version": "3.10.9"
  }
 },
 "nbformat": 4,
 "nbformat_minor": 5
}

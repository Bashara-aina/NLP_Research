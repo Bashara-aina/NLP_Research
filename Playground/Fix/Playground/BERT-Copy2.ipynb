{
 "cells": [
  {
   "cell_type": "code",
   "execution_count": 1,
   "id": "c5bf24e9-d40b-45ad-9330-405d0097fe2e",
   "metadata": {
    "tags": []
   },
   "outputs": [],
   "source": [
    "import torch\n",
    "import pandas as pd\n",
    "from tqdm.notebook import tqdm"
   ]
  },
  {
   "cell_type": "code",
   "execution_count": 2,
   "id": "a95a7954-1961-44b6-acce-b47069daf7d3",
   "metadata": {},
   "outputs": [],
   "source": [
    "df = pd.read_csv(\n",
    "    'Data/smile-annotations-final.csv',\n",
    "    names=['id', 'text', 'category'])\n",
    "df.set_index('id', inplace=True)"
   ]
  },
  {
   "cell_type": "code",
   "execution_count": 3,
   "id": "d40a72c3-e9ef-4ab7-b7c4-bb4110cf5144",
   "metadata": {},
   "outputs": [
    {
     "data": {
      "text/html": [
       "<div>\n",
       "<style scoped>\n",
       "    .dataframe tbody tr th:only-of-type {\n",
       "        vertical-align: middle;\n",
       "    }\n",
       "\n",
       "    .dataframe tbody tr th {\n",
       "        vertical-align: top;\n",
       "    }\n",
       "\n",
       "    .dataframe thead th {\n",
       "        text-align: right;\n",
       "    }\n",
       "</style>\n",
       "<table border=\"1\" class=\"dataframe\">\n",
       "  <thead>\n",
       "    <tr style=\"text-align: right;\">\n",
       "      <th></th>\n",
       "      <th>text</th>\n",
       "      <th>category</th>\n",
       "    </tr>\n",
       "    <tr>\n",
       "      <th>id</th>\n",
       "      <th></th>\n",
       "      <th></th>\n",
       "    </tr>\n",
       "  </thead>\n",
       "  <tbody>\n",
       "    <tr>\n",
       "      <th>611857364396965889</th>\n",
       "      <td>@aandraous @britishmuseum @AndrewsAntonio Merc...</td>\n",
       "      <td>nocode</td>\n",
       "    </tr>\n",
       "    <tr>\n",
       "      <th>614484565059596288</th>\n",
       "      <td>Dorian Gray with Rainbow Scarf #LoveWins (from...</td>\n",
       "      <td>happy</td>\n",
       "    </tr>\n",
       "    <tr>\n",
       "      <th>614746522043973632</th>\n",
       "      <td>@SelectShowcase @Tate_StIves ... Replace with ...</td>\n",
       "      <td>happy</td>\n",
       "    </tr>\n",
       "    <tr>\n",
       "      <th>614877582664835073</th>\n",
       "      <td>@Sofabsports thank you for following me back. ...</td>\n",
       "      <td>happy</td>\n",
       "    </tr>\n",
       "    <tr>\n",
       "      <th>611932373039644672</th>\n",
       "      <td>@britishmuseum @TudorHistory What a beautiful ...</td>\n",
       "      <td>happy</td>\n",
       "    </tr>\n",
       "  </tbody>\n",
       "</table>\n",
       "</div>"
      ],
      "text/plain": [
       "                                                                 text category\n",
       "id                                                                            \n",
       "611857364396965889  @aandraous @britishmuseum @AndrewsAntonio Merc...   nocode\n",
       "614484565059596288  Dorian Gray with Rainbow Scarf #LoveWins (from...    happy\n",
       "614746522043973632  @SelectShowcase @Tate_StIves ... Replace with ...    happy\n",
       "614877582664835073  @Sofabsports thank you for following me back. ...    happy\n",
       "611932373039644672  @britishmuseum @TudorHistory What a beautiful ...    happy"
      ]
     },
     "execution_count": 3,
     "metadata": {},
     "output_type": "execute_result"
    }
   ],
   "source": [
    "df.head()"
   ]
  },
  {
   "cell_type": "code",
   "execution_count": 4,
   "id": "301c8e98-4543-46f3-b77a-991881ecd6e0",
   "metadata": {
    "tags": []
   },
   "outputs": [
    {
     "data": {
      "text/plain": [
       "category\n",
       "nocode               1572\n",
       "happy                1137\n",
       "not-relevant          214\n",
       "angry                  57\n",
       "surprise               35\n",
       "sad                    32\n",
       "happy|surprise         11\n",
       "happy|sad               9\n",
       "disgust|angry           7\n",
       "disgust                 6\n",
       "sad|disgust             2\n",
       "sad|angry               2\n",
       "sad|disgust|angry       1\n",
       "Name: count, dtype: int64"
      ]
     },
     "execution_count": 4,
     "metadata": {},
     "output_type": "execute_result"
    }
   ],
   "source": [
    "df.category.value_counts()"
   ]
  },
  {
   "cell_type": "code",
   "execution_count": 5,
   "id": "d87751c4-7371-4039-b300-450dbf3d37fb",
   "metadata": {
    "tags": []
   },
   "outputs": [],
   "source": [
    "df = df[~df.category.str.contains('\\|')] #Remove rows in 'category' column that contain the '|' symbol"
   ]
  },
  {
   "cell_type": "code",
   "execution_count": 6,
   "id": "e868fc26-39d2-4fc3-8525-afcd258546c5",
   "metadata": {
    "tags": []
   },
   "outputs": [],
   "source": [
    "df = df[df.category != 'nocode'] #Remove rows in 'category' column that contain the 'nocode'"
   ]
  },
  {
   "cell_type": "code",
   "execution_count": 7,
   "id": "8670875a-b1af-434b-997b-9bcfece71467",
   "metadata": {
    "tags": []
   },
   "outputs": [
    {
     "data": {
      "text/plain": [
       "category\n",
       "happy           1137\n",
       "not-relevant     214\n",
       "angry             57\n",
       "surprise          35\n",
       "sad               32\n",
       "disgust            6\n",
       "Name: count, dtype: int64"
      ]
     },
     "execution_count": 7,
     "metadata": {},
     "output_type": "execute_result"
    }
   ],
   "source": [
    "df.category.value_counts()"
   ]
  },
  {
   "cell_type": "code",
   "execution_count": 8,
   "id": "3347837a-4483-4d9b-8557-1962090af758",
   "metadata": {
    "tags": []
   },
   "outputs": [],
   "source": [
    "possible_labels = df.category.unique() #Get unique category labels from the DataFrame column 'category'"
   ]
  },
  {
   "cell_type": "code",
   "execution_count": 9,
   "id": "7f79a32b-1bda-48eb-a85f-a00dcf87866d",
   "metadata": {
    "tags": []
   },
   "outputs": [],
   "source": [
    "label_dict = {} #Create a dictionary to map each possible label to a unique index\n",
    "for index, possible_label in enumerate(possible_labels):\n",
    "    label_dict[possible_label] = index"
   ]
  },
  {
   "cell_type": "code",
   "execution_count": 10,
   "id": "5c080c74-e058-4f12-bdcc-d3856baaacc5",
   "metadata": {
    "tags": []
   },
   "outputs": [
    {
     "data": {
      "text/plain": [
       "{'happy': 0,\n",
       " 'not-relevant': 1,\n",
       " 'angry': 2,\n",
       " 'disgust': 3,\n",
       " 'sad': 4,\n",
       " 'surprise': 5}"
      ]
     },
     "execution_count": 10,
     "metadata": {},
     "output_type": "execute_result"
    }
   ],
   "source": [
    "label_dict"
   ]
  },
  {
   "cell_type": "code",
   "execution_count": 11,
   "id": "3c496a65-b68a-432d-9054-d3403152ed28",
   "metadata": {
    "tags": []
   },
   "outputs": [
    {
     "data": {
      "text/html": [
       "<div>\n",
       "<style scoped>\n",
       "    .dataframe tbody tr th:only-of-type {\n",
       "        vertical-align: middle;\n",
       "    }\n",
       "\n",
       "    .dataframe tbody tr th {\n",
       "        vertical-align: top;\n",
       "    }\n",
       "\n",
       "    .dataframe thead th {\n",
       "        text-align: right;\n",
       "    }\n",
       "</style>\n",
       "<table border=\"1\" class=\"dataframe\">\n",
       "  <thead>\n",
       "    <tr style=\"text-align: right;\">\n",
       "      <th></th>\n",
       "      <th>text</th>\n",
       "      <th>category</th>\n",
       "      <th>label</th>\n",
       "    </tr>\n",
       "    <tr>\n",
       "      <th>id</th>\n",
       "      <th></th>\n",
       "      <th></th>\n",
       "      <th></th>\n",
       "    </tr>\n",
       "  </thead>\n",
       "  <tbody>\n",
       "    <tr>\n",
       "      <th>614484565059596288</th>\n",
       "      <td>Dorian Gray with Rainbow Scarf #LoveWins (from...</td>\n",
       "      <td>happy</td>\n",
       "      <td>0</td>\n",
       "    </tr>\n",
       "    <tr>\n",
       "      <th>614746522043973632</th>\n",
       "      <td>@SelectShowcase @Tate_StIves ... Replace with ...</td>\n",
       "      <td>happy</td>\n",
       "      <td>0</td>\n",
       "    </tr>\n",
       "    <tr>\n",
       "      <th>614877582664835073</th>\n",
       "      <td>@Sofabsports thank you for following me back. ...</td>\n",
       "      <td>happy</td>\n",
       "      <td>0</td>\n",
       "    </tr>\n",
       "    <tr>\n",
       "      <th>611932373039644672</th>\n",
       "      <td>@britishmuseum @TudorHistory What a beautiful ...</td>\n",
       "      <td>happy</td>\n",
       "      <td>0</td>\n",
       "    </tr>\n",
       "    <tr>\n",
       "      <th>611570404268883969</th>\n",
       "      <td>@NationalGallery @ThePoldarkian I have always ...</td>\n",
       "      <td>happy</td>\n",
       "      <td>0</td>\n",
       "    </tr>\n",
       "    <tr>\n",
       "      <th>614499696015503361</th>\n",
       "      <td>Lucky @FitzMuseum_UK! Good luck @MirandaStearn...</td>\n",
       "      <td>happy</td>\n",
       "      <td>0</td>\n",
       "    </tr>\n",
       "    <tr>\n",
       "      <th>613601881441570816</th>\n",
       "      <td>Yr 9 art students are off to the @britishmuseu...</td>\n",
       "      <td>happy</td>\n",
       "      <td>0</td>\n",
       "    </tr>\n",
       "    <tr>\n",
       "      <th>613696526297210880</th>\n",
       "      <td>@RAMMuseum Please vote for us as @sainsbury #s...</td>\n",
       "      <td>not-relevant</td>\n",
       "      <td>1</td>\n",
       "    </tr>\n",
       "    <tr>\n",
       "      <th>610746718641102848</th>\n",
       "      <td>#AskTheGallery Have you got plans to privatise...</td>\n",
       "      <td>not-relevant</td>\n",
       "      <td>1</td>\n",
       "    </tr>\n",
       "    <tr>\n",
       "      <th>612648200588038144</th>\n",
       "      <td>@BarbyWT @britishmuseum so beautiful</td>\n",
       "      <td>happy</td>\n",
       "      <td>0</td>\n",
       "    </tr>\n",
       "  </tbody>\n",
       "</table>\n",
       "</div>"
      ],
      "text/plain": [
       "                                                                 text   \n",
       "id                                                                      \n",
       "614484565059596288  Dorian Gray with Rainbow Scarf #LoveWins (from...  \\\n",
       "614746522043973632  @SelectShowcase @Tate_StIves ... Replace with ...   \n",
       "614877582664835073  @Sofabsports thank you for following me back. ...   \n",
       "611932373039644672  @britishmuseum @TudorHistory What a beautiful ...   \n",
       "611570404268883969  @NationalGallery @ThePoldarkian I have always ...   \n",
       "614499696015503361  Lucky @FitzMuseum_UK! Good luck @MirandaStearn...   \n",
       "613601881441570816  Yr 9 art students are off to the @britishmuseu...   \n",
       "613696526297210880  @RAMMuseum Please vote for us as @sainsbury #s...   \n",
       "610746718641102848  #AskTheGallery Have you got plans to privatise...   \n",
       "612648200588038144               @BarbyWT @britishmuseum so beautiful   \n",
       "\n",
       "                        category  label  \n",
       "id                                       \n",
       "614484565059596288         happy      0  \n",
       "614746522043973632         happy      0  \n",
       "614877582664835073         happy      0  \n",
       "611932373039644672         happy      0  \n",
       "611570404268883969         happy      0  \n",
       "614499696015503361         happy      0  \n",
       "613601881441570816         happy      0  \n",
       "613696526297210880  not-relevant      1  \n",
       "610746718641102848  not-relevant      1  \n",
       "612648200588038144         happy      0  "
      ]
     },
     "execution_count": 11,
     "metadata": {},
     "output_type": "execute_result"
    }
   ],
   "source": [
    "df['label'] = df.category.replace(label_dict)\n",
    "df.head(10)"
   ]
  },
  {
   "cell_type": "code",
   "execution_count": 12,
   "id": "d6129a4a-5efc-42e8-831f-4b939a133fe2",
   "metadata": {
    "tags": []
   },
   "outputs": [],
   "source": [
    "from sklearn.model_selection import train_test_split"
   ]
  },
  {
   "cell_type": "code",
   "execution_count": 13,
   "id": "6fc0132b-933e-42c4-87e4-9d3089f8e76a",
   "metadata": {
    "tags": []
   },
   "outputs": [],
   "source": [
    "#Split the dataset into training and validation sets\n",
    "X_train, X_val, y_train, y_val = train_test_split(\n",
    "    df.index.values,\n",
    "    df.label.values,\n",
    "    test_size=0.15,\n",
    "    random_state=17,\n",
    "    stratify=df.label.values\n",
    ")"
   ]
  },
  {
   "cell_type": "code",
   "execution_count": 14,
   "id": "496c9a74-cf4f-4c0f-aa10-20ae4199f5d3",
   "metadata": {
    "tags": []
   },
   "outputs": [],
   "source": [
    "df['data_type'] = ['not_set']*df.shape[0] #Set a new column 'data_type' for later data split"
   ]
  },
  {
   "cell_type": "code",
   "execution_count": 15,
   "id": "cfb25a43-cd81-4897-b8a9-c92cbb9cd219",
   "metadata": {
    "tags": []
   },
   "outputs": [
    {
     "data": {
      "text/html": [
       "<div>\n",
       "<style scoped>\n",
       "    .dataframe tbody tr th:only-of-type {\n",
       "        vertical-align: middle;\n",
       "    }\n",
       "\n",
       "    .dataframe tbody tr th {\n",
       "        vertical-align: top;\n",
       "    }\n",
       "\n",
       "    .dataframe thead th {\n",
       "        text-align: right;\n",
       "    }\n",
       "</style>\n",
       "<table border=\"1\" class=\"dataframe\">\n",
       "  <thead>\n",
       "    <tr style=\"text-align: right;\">\n",
       "      <th></th>\n",
       "      <th>text</th>\n",
       "      <th>category</th>\n",
       "      <th>label</th>\n",
       "      <th>data_type</th>\n",
       "    </tr>\n",
       "    <tr>\n",
       "      <th>id</th>\n",
       "      <th></th>\n",
       "      <th></th>\n",
       "      <th></th>\n",
       "      <th></th>\n",
       "    </tr>\n",
       "  </thead>\n",
       "  <tbody>\n",
       "    <tr>\n",
       "      <th>614484565059596288</th>\n",
       "      <td>Dorian Gray with Rainbow Scarf #LoveWins (from...</td>\n",
       "      <td>happy</td>\n",
       "      <td>0</td>\n",
       "      <td>not_set</td>\n",
       "    </tr>\n",
       "    <tr>\n",
       "      <th>614746522043973632</th>\n",
       "      <td>@SelectShowcase @Tate_StIves ... Replace with ...</td>\n",
       "      <td>happy</td>\n",
       "      <td>0</td>\n",
       "      <td>not_set</td>\n",
       "    </tr>\n",
       "    <tr>\n",
       "      <th>614877582664835073</th>\n",
       "      <td>@Sofabsports thank you for following me back. ...</td>\n",
       "      <td>happy</td>\n",
       "      <td>0</td>\n",
       "      <td>not_set</td>\n",
       "    </tr>\n",
       "    <tr>\n",
       "      <th>611932373039644672</th>\n",
       "      <td>@britishmuseum @TudorHistory What a beautiful ...</td>\n",
       "      <td>happy</td>\n",
       "      <td>0</td>\n",
       "      <td>not_set</td>\n",
       "    </tr>\n",
       "    <tr>\n",
       "      <th>611570404268883969</th>\n",
       "      <td>@NationalGallery @ThePoldarkian I have always ...</td>\n",
       "      <td>happy</td>\n",
       "      <td>0</td>\n",
       "      <td>not_set</td>\n",
       "    </tr>\n",
       "  </tbody>\n",
       "</table>\n",
       "</div>"
      ],
      "text/plain": [
       "                                                                 text   \n",
       "id                                                                      \n",
       "614484565059596288  Dorian Gray with Rainbow Scarf #LoveWins (from...  \\\n",
       "614746522043973632  @SelectShowcase @Tate_StIves ... Replace with ...   \n",
       "614877582664835073  @Sofabsports thank you for following me back. ...   \n",
       "611932373039644672  @britishmuseum @TudorHistory What a beautiful ...   \n",
       "611570404268883969  @NationalGallery @ThePoldarkian I have always ...   \n",
       "\n",
       "                   category  label data_type  \n",
       "id                                            \n",
       "614484565059596288    happy      0   not_set  \n",
       "614746522043973632    happy      0   not_set  \n",
       "614877582664835073    happy      0   not_set  \n",
       "611932373039644672    happy      0   not_set  \n",
       "611570404268883969    happy      0   not_set  "
      ]
     },
     "execution_count": 15,
     "metadata": {},
     "output_type": "execute_result"
    }
   ],
   "source": [
    "df.head()"
   ]
  },
  {
   "cell_type": "code",
   "execution_count": 16,
   "id": "2a8b1568-baf2-441b-910b-7d5e77119e2f",
   "metadata": {
    "tags": []
   },
   "outputs": [],
   "source": [
    "#Set the 'data_type' column of the dataframe for training and validation data\n",
    "df.loc[X_train, 'data_type'] = 'train'\n",
    "df.loc[X_val, 'data_type'] = 'val'"
   ]
  },
  {
   "cell_type": "code",
   "execution_count": 17,
   "id": "886206e4-6450-46d5-b88d-b14120707852",
   "metadata": {
    "tags": []
   },
   "outputs": [
    {
     "data": {
      "text/html": [
       "<div>\n",
       "<style scoped>\n",
       "    .dataframe tbody tr th:only-of-type {\n",
       "        vertical-align: middle;\n",
       "    }\n",
       "\n",
       "    .dataframe tbody tr th {\n",
       "        vertical-align: top;\n",
       "    }\n",
       "\n",
       "    .dataframe thead th {\n",
       "        text-align: right;\n",
       "    }\n",
       "</style>\n",
       "<table border=\"1\" class=\"dataframe\">\n",
       "  <thead>\n",
       "    <tr style=\"text-align: right;\">\n",
       "      <th></th>\n",
       "      <th></th>\n",
       "      <th></th>\n",
       "      <th>text</th>\n",
       "    </tr>\n",
       "    <tr>\n",
       "      <th>category</th>\n",
       "      <th>label</th>\n",
       "      <th>data_type</th>\n",
       "      <th></th>\n",
       "    </tr>\n",
       "  </thead>\n",
       "  <tbody>\n",
       "    <tr>\n",
       "      <th rowspan=\"2\" valign=\"top\">angry</th>\n",
       "      <th rowspan=\"2\" valign=\"top\">2</th>\n",
       "      <th>train</th>\n",
       "      <td>48</td>\n",
       "    </tr>\n",
       "    <tr>\n",
       "      <th>val</th>\n",
       "      <td>9</td>\n",
       "    </tr>\n",
       "    <tr>\n",
       "      <th rowspan=\"2\" valign=\"top\">disgust</th>\n",
       "      <th rowspan=\"2\" valign=\"top\">3</th>\n",
       "      <th>train</th>\n",
       "      <td>5</td>\n",
       "    </tr>\n",
       "    <tr>\n",
       "      <th>val</th>\n",
       "      <td>1</td>\n",
       "    </tr>\n",
       "    <tr>\n",
       "      <th rowspan=\"2\" valign=\"top\">happy</th>\n",
       "      <th rowspan=\"2\" valign=\"top\">0</th>\n",
       "      <th>train</th>\n",
       "      <td>966</td>\n",
       "    </tr>\n",
       "    <tr>\n",
       "      <th>val</th>\n",
       "      <td>171</td>\n",
       "    </tr>\n",
       "    <tr>\n",
       "      <th rowspan=\"2\" valign=\"top\">not-relevant</th>\n",
       "      <th rowspan=\"2\" valign=\"top\">1</th>\n",
       "      <th>train</th>\n",
       "      <td>182</td>\n",
       "    </tr>\n",
       "    <tr>\n",
       "      <th>val</th>\n",
       "      <td>32</td>\n",
       "    </tr>\n",
       "    <tr>\n",
       "      <th rowspan=\"2\" valign=\"top\">sad</th>\n",
       "      <th rowspan=\"2\" valign=\"top\">4</th>\n",
       "      <th>train</th>\n",
       "      <td>27</td>\n",
       "    </tr>\n",
       "    <tr>\n",
       "      <th>val</th>\n",
       "      <td>5</td>\n",
       "    </tr>\n",
       "    <tr>\n",
       "      <th rowspan=\"2\" valign=\"top\">surprise</th>\n",
       "      <th rowspan=\"2\" valign=\"top\">5</th>\n",
       "      <th>train</th>\n",
       "      <td>30</td>\n",
       "    </tr>\n",
       "    <tr>\n",
       "      <th>val</th>\n",
       "      <td>5</td>\n",
       "    </tr>\n",
       "  </tbody>\n",
       "</table>\n",
       "</div>"
      ],
      "text/plain": [
       "                              text\n",
       "category     label data_type      \n",
       "angry        2     train        48\n",
       "                   val           9\n",
       "disgust      3     train         5\n",
       "                   val           1\n",
       "happy        0     train       966\n",
       "                   val         171\n",
       "not-relevant 1     train       182\n",
       "                   val          32\n",
       "sad          4     train        27\n",
       "                   val           5\n",
       "surprise     5     train        30\n",
       "                   val           5"
      ]
     },
     "execution_count": 17,
     "metadata": {},
     "output_type": "execute_result"
    }
   ],
   "source": [
    "df.groupby(['category', 'label', 'data_type']).count()"
   ]
  },
  {
   "cell_type": "code",
   "execution_count": 18,
   "id": "212019be-eff8-4c8c-8662-2fbdf93c9ee9",
   "metadata": {
    "tags": []
   },
   "outputs": [],
   "source": [
    "from transformers import BertTokenizer\n",
    "from torch.utils.data import TensorDataset"
   ]
  },
  {
   "cell_type": "code",
   "execution_count": 19,
   "id": "9fa1ca9b-f491-4889-927f-f8731694bd47",
   "metadata": {
    "tags": []
   },
   "outputs": [],
   "source": [
    "tokenizer = BertTokenizer.from_pretrained(\n",
    "    'bert-base-uncased',\n",
    "    do_lower_case=True\n",
    ")"
   ]
  },
  {
   "cell_type": "code",
   "execution_count": 20,
   "id": "731e5a17-8ab7-4d19-a012-05eeabab1d90",
   "metadata": {
    "tags": []
   },
   "outputs": [
    {
     "name": "stderr",
     "output_type": "stream",
     "text": [
      "Truncation was not explicitly activated but `max_length` is provided a specific value, please use `truncation=True` to explicitly truncate examples to max length. Defaulting to 'longest_first' truncation strategy. If you encode pairs of sequences (GLUE-style) with the tokenizer you can select this strategy more precisely by providing a specific strategy to `truncation`.\n",
      "/home/z123010/.local/lib/python3.10/site-packages/transformers/tokenization_utils_base.py:2364: FutureWarning: The `pad_to_max_length` argument is deprecated and will be removed in a future version, use `padding=True` or `padding='longest'` to pad to the longest sequence in the batch, or use `padding='max_length'` to pad to a max length. In this case, you can give a specific length with `max_length` (e.g. `max_length=45`) or leave max_length to None to pad to the maximal input size of the model (e.g. 512 for Bert).\n",
      "  warnings.warn(\n"
     ]
    }
   ],
   "source": [
    "#Tokenize and encode the text data for both training and validation sets\n",
    "encoded_data_train = tokenizer.batch_encode_plus(\n",
    "    df[df.data_type=='train'].text.values,\n",
    "    add_special_tokens=True,\n",
    "    return_attention_mask=True,\n",
    "    pad_to_max_length=True,\n",
    "    max_length=256,\n",
    "    return_tensors='pt'\n",
    ")\n",
    "\n",
    "encoded_data_val = tokenizer.batch_encode_plus(\n",
    "    df[df.data_type=='val'].text.values,\n",
    "    add_special_tokens=True,\n",
    "    return_attention_mask=True,\n",
    "    pad_to_max_length=True,\n",
    "    max_length=256,\n",
    "    return_tensors='pt'\n",
    ")\n",
    "\n",
    "#Get input ids, attention masks, and labels for the training set\n",
    "input_ids_train = encoded_data_train['input_ids']\n",
    "attention_masks_train = encoded_data_train['attention_mask']\n",
    "labels_train = torch.tensor(df[df.data_type=='train'].label.values)\n",
    "\n",
    "#Get input ids, attention masks, and labels for the validation set\n",
    "input_ids_val = encoded_data_val['input_ids']\n",
    "attention_masks_val = encoded_data_val['attention_mask']\n",
    "labels_val = torch.tensor(df[df.data_type=='val'].label.values)"
   ]
  },
  {
   "cell_type": "code",
   "execution_count": 21,
   "id": "42125069-fd5d-49c0-8032-2be61cb2a6d3",
   "metadata": {
    "tags": []
   },
   "outputs": [],
   "source": [
    "dataset_train = TensorDataset(input_ids_train, attention_masks_train, labels_train)\n",
    "dataset_val = TensorDataset(input_ids_val, attention_masks_val, labels_val)"
   ]
  },
  {
   "cell_type": "code",
   "execution_count": 22,
   "id": "b8df41f6-f750-48fd-a867-cd8211b4eea6",
   "metadata": {
    "tags": []
   },
   "outputs": [
    {
     "data": {
      "text/plain": [
       "1258"
      ]
     },
     "execution_count": 22,
     "metadata": {},
     "output_type": "execute_result"
    }
   ],
   "source": [
    "len(dataset_train)"
   ]
  },
  {
   "cell_type": "code",
   "execution_count": 23,
   "id": "06087a20-bb64-451f-930d-e4020b74cd1e",
   "metadata": {
    "tags": []
   },
   "outputs": [
    {
     "data": {
      "text/plain": [
       "223"
      ]
     },
     "execution_count": 23,
     "metadata": {},
     "output_type": "execute_result"
    }
   ],
   "source": [
    "len(dataset_val)"
   ]
  },
  {
   "cell_type": "code",
   "execution_count": 24,
   "id": "0f1be16f-2e08-451f-ad43-76262311d89f",
   "metadata": {
    "tags": []
   },
   "outputs": [],
   "source": [
    "from transformers import BertConfig, BertForSequenceClassification\n"
   ]
  },
  {
   "cell_type": "code",
   "execution_count": 25,
   "id": "57dc7b55-a622-43f7-9127-ab13bdd6b839",
   "metadata": {
    "tags": []
   },
   "outputs": [
    {
     "name": "stderr",
     "output_type": "stream",
     "text": [
      "Some weights of the model checkpoint at bert-base-uncased were not used when initializing BertForSequenceClassification: ['cls.predictions.transform.LayerNorm.weight', 'cls.predictions.transform.LayerNorm.bias', 'cls.predictions.transform.dense.weight', 'cls.predictions.decoder.weight', 'cls.seq_relationship.bias', 'cls.predictions.transform.dense.bias', 'cls.predictions.bias', 'cls.seq_relationship.weight']\n",
      "- This IS expected if you are initializing BertForSequenceClassification from the checkpoint of a model trained on another task or with another architecture (e.g. initializing a BertForSequenceClassification model from a BertForPreTraining model).\n",
      "- This IS NOT expected if you are initializing BertForSequenceClassification from the checkpoint of a model that you expect to be exactly identical (initializing a BertForSequenceClassification model from a BertForSequenceClassification model).\n",
      "Some weights of BertForSequenceClassification were not initialized from the model checkpoint at bert-base-uncased and are newly initialized: ['classifier.weight', 'classifier.bias']\n",
      "You should probably TRAIN this model on a down-stream task to be able to use it for predictions and inference.\n"
     ]
    },
    {
     "data": {
      "text/plain": [
       "\"\\nHere, I use the BERTForSequenceClassification model, which is a BERT model for sequence classification\\ntask such as sentiment analysis. The pre-trained BERT model is loaded from 'bert-base-uncased', and we set the number of labels to be the length of unique labels in the dataset.\\n\\nI also set output_attentions and output_hidden_states to False, which means I only get the output\\nfrom the last layer of BERT.\\n\""
      ]
     },
     "execution_count": 25,
     "metadata": {},
     "output_type": "execute_result"
    }
   ],
   "source": [
    "#Define a BERT model for sequence classification task\n",
    "model_config = BertConfig.from_pretrained(\n",
    "    'bert-base-uncased',\n",
    "    num_labels=len(label_dict),\n",
    "    output_attentions=False,\n",
    "    output_hidden_states=False,\n",
    "    hidden_dropout_prob=0.1,  # Set the dropout rate (0.1 means 10% dropout)\n",
    "    attention_probs_dropout_prob=0.1  # Set the attention dropout rate\n",
    ")\n",
    "\n",
    "model = BertForSequenceClassification.from_pretrained(\n",
    "    'bert-base-uncased',\n",
    "    config=model_config\n",
    ")\n",
    "\n",
    "\"\"\"\n",
    "Here, I use the BERTForSequenceClassification model, which is a BERT model for sequence classification\n",
    "task such as sentiment analysis. The pre-trained BERT model is loaded from 'bert-base-uncased', and we set the number of labels to be the length of unique labels in the dataset.\n",
    "\n",
    "I also set output_attentions and output_hidden_states to False, which means I only get the output\n",
    "from the last layer of BERT.\n",
    "\"\"\""
   ]
  },
  {
   "cell_type": "code",
   "execution_count": 26,
   "id": "97b9c932-47f8-4683-8a5c-45ac3feec88c",
   "metadata": {
    "tags": []
   },
   "outputs": [],
   "source": [
    "from torch.utils.data import DataLoader, RandomSampler, SequentialSampler"
   ]
  },
  {
   "cell_type": "code",
   "execution_count": 27,
   "id": "02ff5662-1ec8-43b0-98b1-4d299d584843",
   "metadata": {
    "tags": []
   },
   "outputs": [],
   "source": [
    "# Set the batch size and create data loaders for training and validation sets\n",
    "\n",
    "batch_size = 1 #32\n",
    "\n",
    "dataloader_train = DataLoader(\n",
    "    dataset_train,\n",
    "    sampler=RandomSampler(dataset_train),\n",
    "    batch_size=batch_size\n",
    ")\n",
    "\n",
    "dataloader_val = DataLoader(\n",
    "    dataset_val,\n",
    "    sampler=RandomSampler(dataset_val),\n",
    "    batch_size=batch_size\n",
    ")"
   ]
  },
  {
   "cell_type": "code",
   "execution_count": 28,
   "id": "5b361e31-7b47-4264-9b3e-bd27a35b3d5b",
   "metadata": {
    "tags": []
   },
   "outputs": [
    {
     "name": "stderr",
     "output_type": "stream",
     "text": [
      "2023-06-08 13:31:38.914962: I tensorflow/core/util/port.cc:110] oneDNN custom operations are on. You may see slightly different numerical results due to floating-point round-off errors from different computation orders. To turn them off, set the environment variable `TF_ENABLE_ONEDNN_OPTS=0`.\n",
      "2023-06-08 13:31:38.935026: I tensorflow/core/platform/cpu_feature_guard.cc:182] This TensorFlow binary is optimized to use available CPU instructions in performance-critical operations.\n",
      "To enable the following instructions: AVX2 AVX_VNNI FMA, in other operations, rebuild TensorFlow with the appropriate compiler flags.\n",
      "2023-06-08 13:31:39.284605: W tensorflow/compiler/tf2tensorrt/utils/py_utils.cc:38] TF-TRT Warning: Could not find TensorRT\n"
     ]
    }
   ],
   "source": [
    "from transformers import AdamW, get_linear_schedule_with_warmup"
   ]
  },
  {
   "cell_type": "code",
   "execution_count": 29,
   "id": "b74eccba-b3d4-46e6-902d-f794dbdf0d0d",
   "metadata": {
    "tags": []
   },
   "outputs": [
    {
     "name": "stderr",
     "output_type": "stream",
     "text": [
      "/home/z123010/.local/lib/python3.10/site-packages/transformers/optimization.py:407: FutureWarning: This implementation of AdamW is deprecated and will be removed in a future version. Use the PyTorch implementation torch.optim.AdamW instead, or set `no_deprecation_warning=True` to disable this warning\n",
      "  warnings.warn(\n"
     ]
    }
   ],
   "source": [
    "optimizer = AdamW(\n",
    "    model.parameters(),  # Passes the model parameters to the optimizer\n",
    "    lr=1e-5,             # Sets the learning rate for the optimizer to 1e-5\n",
    "    eps=1e-8             # Sets the epsilon value for numerical stability to 1e-8\n",
    ")"
   ]
  },
  {
   "cell_type": "code",
   "execution_count": 30,
   "id": "9c115596-a088-4b99-ba48-95c378dd9694",
   "metadata": {
    "tags": []
   },
   "outputs": [],
   "source": [
    "epochs= 10 #This sets the number of epochs or the number of times the model will iterate over the entire dataset during training to 10.\n",
    "\n",
    "#This creates a linear learning rate scheduler that increases the learning rate linearly over the course of training and uses the specified number of warm-up steps and total training steps.\n",
    "scheduler = get_linear_schedule_with_warmup(\n",
    "    optimizer,\n",
    "    num_warmup_steps=0, #This sets the number of warm-up steps during training to 0. Warm-up steps gradually increase the learning rate from an initial low value to the target learning rate.\n",
    "    num_training_steps=len(dataloader_train)*epochs #This sets the number of total training steps to the number of batches per epoch times the number of epochs.\n",
    ")"
   ]
  },
  {
   "cell_type": "code",
   "execution_count": 31,
   "id": "fe17bbb8-191e-48be-b5f9-b1aa2f39a041",
   "metadata": {
    "tags": []
   },
   "outputs": [],
   "source": [
    "import numpy as np"
   ]
  },
  {
   "cell_type": "code",
   "execution_count": 32,
   "id": "30b611a8-c688-4fec-b2e7-eb16390cd8df",
   "metadata": {
    "tags": []
   },
   "outputs": [],
   "source": [
    "from sklearn.metrics import f1_score #F1 score is a measure of a model's accuracy, combining both precision and recall, used to evaluate binary classification models."
   ]
  },
  {
   "cell_type": "code",
   "execution_count": 33,
   "id": "97209521-74d4-4d9a-afa7-e67084dea77e",
   "metadata": {
    "tags": []
   },
   "outputs": [],
   "source": [
    "def f1_score_func(preds, labels):\n",
    "    preds_flat = np.argmax(preds, axis=1).flatten() #This line finds the index with the highest probability in each prediction, effectively giving the predicted class for each input.\n",
    "    labels_flat = labels.flatten()  #This line flattens the labels array into a 1D vector, as required by the f1_score function.\n",
    "    return f1_score(labels_flat, preds_flat, average='weighted') #This line computes the F1 score using the true labels and the predicted labels, with the weighted averaging scheme. The result is returned."
   ]
  },
  {
   "cell_type": "code",
   "execution_count": 34,
   "id": "32fea2e3-d16c-4978-8843-bd5d2ccb152a",
   "metadata": {
    "tags": []
   },
   "outputs": [],
   "source": [
    "def accuracy_per_class(preds, labels):\n",
    "    # Create a dictionary with keys and values reversed for easy lookup.\n",
    "    label_dict_inverse = {v: k for k, v in label_dict.items()}\n",
    "    \n",
    "    # Get the predicted labels and flatten them.\n",
    "    preds_flat = np.argmax(preds, axis=1).flatten()\n",
    "    \n",
    "    # Get the actual labels and flatten them.\n",
    "    labels_flat = labels.flatten()\n",
    "\n",
    "    # Iterate over the unique labels in the actual labels.\n",
    "    for label in np.unique(labels_flat):\n",
    "        # Get the predicted labels for this class.\n",
    "        y_preds = preds_flat[labels_flat==label]\n",
    "        \n",
    "        # Get the actual labels for this class.\n",
    "        y_true = labels_flat[labels_flat==label]\n",
    "        \n",
    "        # Print the class name, accuracy numerator and denominator.\n",
    "        print(f'Class: {label_dict_inverse[label]}')\n",
    "        print(f'Accuracy: {len(y_preds[y_preds==label])}/{len(y_true)}\\n')"
   ]
  },
  {
   "cell_type": "code",
   "execution_count": 35,
   "id": "9dd050b1-a41d-4a72-a0fd-9a56091e052b",
   "metadata": {
    "tags": []
   },
   "outputs": [],
   "source": [
    "import random\n",
    "\n",
    "seed_val = 17\n",
    "random.seed(seed_val) #sets the seed value for the Python built-in pseudo-random generator.\n",
    "np.random.seed(seed_val) #sets the seed value for the NumPy pseudo-random number generator.\n",
    "torch.manual_seed(seed_val) #sets the seed value for the random number generator in PyTorch on the CPU.\n",
    "torch.cuda.manual_seed_all(seed_val) #sets the seed value for the random number generator in PyTorch on the GPU."
   ]
  },
  {
   "cell_type": "code",
   "execution_count": 36,
   "id": "f803e9ea-087b-47df-b978-a418a8414aa3",
   "metadata": {
    "tags": []
   },
   "outputs": [
    {
     "name": "stdout",
     "output_type": "stream",
     "text": [
      "cuda\n"
     ]
    }
   ],
   "source": [
    "device = torch.device('cuda' if torch.cuda.is_available() else 'cpu')\n",
    "model.to(device)\n",
    "\n",
    "print(device)"
   ]
  },
  {
   "cell_type": "code",
   "execution_count": 37,
   "id": "9bb07e43-e584-4f7a-9e29-8f0bcde6254c",
   "metadata": {
    "tags": []
   },
   "outputs": [],
   "source": [
    "#This code evaluates the performance of a trained model on a validation dataset by computing its loss and predictions for each batch in the dataset.\n",
    "def evaluate(dataloader_val):\n",
    "\n",
    "    model.eval() # setting the model to evaluation mode to disable dropout and other regularization techniques that are useful during training but not during evaluation.\n",
    "    \n",
    "    loss_val_total = 0\n",
    "    predictions, true_vals = [], []\n",
    "    \n",
    "    for batch in dataloader_val:\n",
    "    \n",
    "        batch = tuple(b.to(device) for b in batch) # moving the input batch to the GPU for faster computation.\n",
    "   \n",
    "        #  creating a dictionary of inputs that will be passed to the model. The input IDs and attention mask are for the BERT model, and the labels are the true labels for each input.\n",
    "        inputs = {'input_ids':  \tbatch[0],\n",
    "                'attention_mask': batch[1],\n",
    "                'labels':     \tbatch[2],\n",
    "                } \n",
    "\n",
    "        with torch.no_grad():   \n",
    "            outputs = model(**inputs)\n",
    "        \n",
    "        loss = outputs[0]\n",
    "        logits = outputs[1]\n",
    "        loss_val_total += loss.item()\n",
    "\n",
    "        logits = logits.detach().cpu().numpy()\n",
    "        label_ids = inputs['labels'].cpu().numpy()\n",
    "        predictions.append(logits)\n",
    "        true_vals.append(label_ids)\n",
    "    \n",
    "    loss_val_avg = loss_val_total/len(dataloader_val)\n",
    "    \n",
    "    predictions = np.concatenate(predictions, axis=0)\n",
    "    true_vals = np.concatenate(true_vals, axis=0)\n",
    "       \t \n",
    "    return loss_val_avg, predictions, true_vals\n",
    "\n",
    "\n"
   ]
  },
  {
   "cell_type": "code",
   "execution_count": 38,
   "id": "2a8d126b-ef43-4103-9a1b-d1b736ebc518",
   "metadata": {},
   "outputs": [
    {
     "data": {
      "application/vnd.jupyter.widget-view+json": {
       "model_id": "25bb6bfdf08c4ff3908523fd976963d9",
       "version_major": 2,
       "version_minor": 0
      },
      "text/plain": [
       "  0%|          | 0/10 [00:00<?, ?it/s]"
      ]
     },
     "metadata": {},
     "output_type": "display_data"
    },
    {
     "data": {
      "application/vnd.jupyter.widget-view+json": {
       "model_id": "",
       "version_major": 2,
       "version_minor": 0
      },
      "text/plain": [
       "Epoch 1:   0%|          | 0/1258 [00:00<?, ?it/s]"
      ]
     },
     "metadata": {},
     "output_type": "display_data"
    },
    {
     "name": "stdout",
     "output_type": "stream",
     "text": [
      "\n",
      "Epoch 1\n",
      "Training loss: 0.924998055827637\n",
      "Validation loss: 0.6711244082867664\n",
      "F1 Score (weighted): 0.8209112024862956\n"
     ]
    },
    {
     "data": {
      "application/vnd.jupyter.widget-view+json": {
       "model_id": "",
       "version_major": 2,
       "version_minor": 0
      },
      "text/plain": [
       "Epoch 2:   0%|          | 0/1258 [00:00<?, ?it/s]"
      ]
     },
     "metadata": {},
     "output_type": "display_data"
    },
    {
     "name": "stdout",
     "output_type": "stream",
     "text": [
      "\n",
      "Epoch 2\n",
      "Training loss: 0.5144273268271229\n",
      "Validation loss: 0.7787577213847127\n",
      "F1 Score (weighted): 0.8345588394583153\n",
      "\u001b[92m44.39% Training loss decreased compared to the previous epoch\u001b[0m\n",
      "\u001b[91m16.04% Validation loss increased compared to the previous epoch\u001b[0m\n",
      "\u001b[92m1.66% F1 Score increased compared to the previous epoch\u001b[0m\n"
     ]
    },
    {
     "data": {
      "application/vnd.jupyter.widget-view+json": {
       "model_id": "",
       "version_major": 2,
       "version_minor": 0
      },
      "text/plain": [
       "Epoch 3:   0%|          | 0/1258 [00:00<?, ?it/s]"
      ]
     },
     "metadata": {},
     "output_type": "display_data"
    },
    {
     "name": "stdout",
     "output_type": "stream",
     "text": [
      "\n",
      "Epoch 3\n",
      "Training loss: 0.3639231419680949\n",
      "Validation loss: 0.9549459033754535\n",
      "F1 Score (weighted): 0.8410312864356638\n",
      "\u001b[92m29.26% Training loss decreased compared to the previous epoch\u001b[0m\n",
      "\u001b[91m22.62% Validation loss increased compared to the previous epoch\u001b[0m\n",
      "\u001b[92m0.78% F1 Score increased compared to the previous epoch\u001b[0m\n"
     ]
    },
    {
     "data": {
      "application/vnd.jupyter.widget-view+json": {
       "model_id": "",
       "version_major": 2,
       "version_minor": 0
      },
      "text/plain": [
       "Epoch 4:   0%|          | 0/1258 [00:00<?, ?it/s]"
      ]
     },
     "metadata": {},
     "output_type": "display_data"
    },
    {
     "name": "stdout",
     "output_type": "stream",
     "text": [
      "\n",
      "Epoch 4\n",
      "Training loss: 0.20379942122816927\n",
      "Validation loss: 0.9341732047498488\n",
      "F1 Score (weighted): 0.8470990127460036\n",
      "\u001b[92m44.0% Training loss decreased compared to the previous epoch\u001b[0m\n",
      "\u001b[92m2.18% Validation loss decreased compared to the previous epoch\u001b[0m\n",
      "\u001b[92m0.72% F1 Score increased compared to the previous epoch\u001b[0m\n"
     ]
    },
    {
     "data": {
      "application/vnd.jupyter.widget-view+json": {
       "model_id": "",
       "version_major": 2,
       "version_minor": 0
      },
      "text/plain": [
       "Epoch 5:   0%|          | 0/1258 [00:00<?, ?it/s]"
      ]
     },
     "metadata": {},
     "output_type": "display_data"
    },
    {
     "name": "stdout",
     "output_type": "stream",
     "text": [
      "\n",
      "Epoch 5\n",
      "Training loss: 0.10902564085279372\n",
      "Validation loss: 0.8813765489363105\n",
      "F1 Score (weighted): 0.8586507039116673\n",
      "\u001b[92m46.5% Training loss decreased compared to the previous epoch\u001b[0m\n",
      "\u001b[92m5.65% Validation loss decreased compared to the previous epoch\u001b[0m\n",
      "\u001b[92m1.36% F1 Score increased compared to the previous epoch\u001b[0m\n"
     ]
    },
    {
     "data": {
      "application/vnd.jupyter.widget-view+json": {
       "model_id": "",
       "version_major": 2,
       "version_minor": 0
      },
      "text/plain": [
       "Epoch 6:   0%|          | 0/1258 [00:00<?, ?it/s]"
      ]
     },
     "metadata": {},
     "output_type": "display_data"
    },
    {
     "name": "stdout",
     "output_type": "stream",
     "text": [
      "\n",
      "Epoch 6\n",
      "Training loss: 0.05994126994384327\n",
      "Validation loss: 0.9954828420922986\n",
      "F1 Score (weighted): 0.8602811180858241\n",
      "\u001b[92m45.02% Training loss decreased compared to the previous epoch\u001b[0m\n",
      "\u001b[91m12.95% Validation loss increased compared to the previous epoch\u001b[0m\n",
      "\u001b[92m0.19% F1 Score increased compared to the previous epoch\u001b[0m\n"
     ]
    },
    {
     "data": {
      "application/vnd.jupyter.widget-view+json": {
       "model_id": "",
       "version_major": 2,
       "version_minor": 0
      },
      "text/plain": [
       "Epoch 7:   0%|          | 0/1258 [00:00<?, ?it/s]"
      ]
     },
     "metadata": {},
     "output_type": "display_data"
    },
    {
     "name": "stdout",
     "output_type": "stream",
     "text": [
      "\n",
      "Epoch 7\n",
      "Training loss: 0.04100785985237804\n",
      "Validation loss: 1.1153165155258\n",
      "F1 Score (weighted): 0.8441503834131037\n",
      "\u001b[92m31.59% Training loss decreased compared to the previous epoch\u001b[0m\n",
      "\u001b[91m12.04% Validation loss increased compared to the previous epoch\u001b[0m\n",
      "\u001b[91m1.88% F1 Score decreased compared to the previous epoch\u001b[0m\n"
     ]
    },
    {
     "data": {
      "application/vnd.jupyter.widget-view+json": {
       "model_id": "",
       "version_major": 2,
       "version_minor": 0
      },
      "text/plain": [
       "Epoch 8:   0%|          | 0/1258 [00:00<?, ?it/s]"
      ]
     },
     "metadata": {},
     "output_type": "display_data"
    },
    {
     "name": "stdout",
     "output_type": "stream",
     "text": [
      "\n",
      "Epoch 8\n",
      "Training loss: 0.029203697646802387\n",
      "Validation loss: 1.132484690481267\n",
      "F1 Score (weighted): 0.8620100907903374\n",
      "\u001b[92m28.79% Training loss decreased compared to the previous epoch\u001b[0m\n",
      "\u001b[91m1.54% Validation loss increased compared to the previous epoch\u001b[0m\n",
      "\u001b[92m2.12% F1 Score increased compared to the previous epoch\u001b[0m\n"
     ]
    },
    {
     "data": {
      "application/vnd.jupyter.widget-view+json": {
       "model_id": "",
       "version_major": 2,
       "version_minor": 0
      },
      "text/plain": [
       "Epoch 9:   0%|          | 0/1258 [00:00<?, ?it/s]"
      ]
     },
     "metadata": {},
     "output_type": "display_data"
    },
    {
     "name": "stdout",
     "output_type": "stream",
     "text": [
      "\n",
      "Epoch 9\n",
      "Training loss: 0.017306508417909528\n",
      "Validation loss: 1.1717997030519234\n",
      "F1 Score (weighted): 0.864546342137778\n",
      "\u001b[92m40.74% Training loss decreased compared to the previous epoch\u001b[0m\n",
      "\u001b[91m3.47% Validation loss increased compared to the previous epoch\u001b[0m\n",
      "\u001b[92m0.29% F1 Score increased compared to the previous epoch\u001b[0m\n"
     ]
    },
    {
     "data": {
      "application/vnd.jupyter.widget-view+json": {
       "model_id": "",
       "version_major": 2,
       "version_minor": 0
      },
      "text/plain": [
       "Epoch 10:   0%|          | 0/1258 [00:00<?, ?it/s]"
      ]
     },
     "metadata": {},
     "output_type": "display_data"
    },
    {
     "name": "stdout",
     "output_type": "stream",
     "text": [
      "\n",
      "Epoch 10\n",
      "Training loss: 0.006378902678906688\n",
      "Validation loss: 1.158856894956896\n",
      "F1 Score (weighted): 0.865036383646249\n",
      "\u001b[92m63.14% Training loss decreased compared to the previous epoch\u001b[0m\n",
      "\u001b[92m1.1% Validation loss decreased compared to the previous epoch\u001b[0m\n",
      "\u001b[92m0.06% F1 Score increased compared to the previous epoch\u001b[0m\n",
      "\n",
      "Total training time: 10.621427643299103 minutes\n",
      "Final Accuracy: 0.8654708520179372\n",
      "Final Precision: 0.8763456964663088\n"
     ]
    }
   ],
   "source": [
    "import time\n",
    "from sklearn.metrics import accuracy_score, precision_score, f1_score\n",
    "from sklearn.exceptions import UndefinedMetricWarning\n",
    "import matplotlib.pyplot as plt\n",
    "from tabulate import tabulate\n",
    "\n",
    "total_training_time = 0\n",
    "\n",
    "training_loss_list = []\n",
    "validation_loss_list = []\n",
    "accuracy_list = []\n",
    "precision_list = []\n",
    "f1_score_list = []\n",
    "\n",
    "previous_results = None  # Store previous epoch results\n",
    "\n",
    "for epoch in tqdm(range(1, epochs + 1)):\n",
    "    start_time = time.time()\n",
    "\n",
    "    model.train()\n",
    "    loss_train_total = 0\n",
    "\n",
    "    progress_bar = tqdm(dataloader_train,\n",
    "                        desc='Epoch {:1d}'.format(epoch),\n",
    "                        leave=False,\n",
    "                        disable=False)\n",
    "    for batch in progress_bar:\n",
    "        model.zero_grad()\n",
    "        batch = tuple(b.to(device) for b in batch)\n",
    "        inputs = {\n",
    "            'input_ids': batch[0],\n",
    "            'attention_mask': batch[1],\n",
    "            'labels': batch[2],\n",
    "        }\n",
    "        output = model(**inputs)\n",
    "        loss = output[0]\n",
    "        loss_train_total += loss.item()\n",
    "        loss.backward()\n",
    "        torch.nn.utils.clip_grad_norm_(model.parameters(), 1.0)\n",
    "        optimizer.step()\n",
    "        scheduler.step()\n",
    "        progress_bar.set_postfix({'training_loss': '{:.3f}'.format(loss.item() / len(batch))})\n",
    "\n",
    "    end_time = time.time()\n",
    "    epoch_training_time = end_time - start_time\n",
    "    total_training_time += epoch_training_time\n",
    "\n",
    "    torch.save(model.state_dict(), f'Models/finetuned_gpt_ft_epoch{epoch}.model')\n",
    "\n",
    "    tqdm.write(f'\\nEpoch {epoch}')\n",
    "\n",
    "    loss_train_avg = loss_train_total / len(dataloader_train)\n",
    "    tqdm.write(f'Training loss: {loss_train_avg}')\n",
    "\n",
    "    val_loss, predictions, true_vals = evaluate(dataloader_val)\n",
    "\n",
    "    # Convert predictions to discrete labels\n",
    "    predictions = np.argmax(predictions, axis=1)\n",
    "\n",
    "    val_f1 = f1_score(true_vals, predictions, average='weighted')\n",
    "    tqdm.write(f'Validation loss: {val_loss}')\n",
    "    tqdm.write(f'F1 Score (weighted): {val_f1}')\n",
    "\n",
    "    val_accuracy = accuracy_score(true_vals, predictions)\n",
    "    val_precision = precision_score(true_vals, predictions, average='weighted', zero_division=1)\n",
    "\n",
    "    # Compute and store metrics\n",
    "    training_loss_list.append(loss_train_avg)\n",
    "    validation_loss_list.append(val_loss)\n",
    "    f1_score_list.append(val_f1)\n",
    "    accuracy_list.append(val_accuracy)\n",
    "    precision_list.append(val_precision)\n",
    "\n",
    "    # Check if there are previous results to compare with\n",
    "    if previous_results is not None:\n",
    "        if loss_train_avg > previous_results['loss_train_avg']:\n",
    "            percentage_increase = ((loss_train_avg - previous_results['loss_train_avg']) / previous_results['loss_train_avg']) * 100\n",
    "            tqdm.write('\\033[91m' + f'{round(percentage_increase, 2)}% Training loss increased compared to the previous epoch' + '\\033[0m')\n",
    "        if loss_train_avg < previous_results['loss_train_avg']:\n",
    "            percentage_decrease = ((previous_results['loss_train_avg'] - loss_train_avg) / previous_results['loss_train_avg']) * 100\n",
    "            tqdm.write('\\033[92m' + f'{round(percentage_decrease, 2)}% Training loss decreased compared to the previous epoch' + '\\033[0m')\n",
    "        if val_loss > previous_results['val_loss']:\n",
    "            percentage_increase = ((val_loss - previous_results['val_loss']) / previous_results['val_loss']) * 100\n",
    "            tqdm.write('\\033[91m' + f'{round(percentage_increase, 2)}% Validation loss increased compared to the previous epoch' + '\\033[0m')\n",
    "        if val_loss < previous_results['val_loss']:\n",
    "            percentage_decrease = ((previous_results['val_loss'] - val_loss) / previous_results['val_loss']) * 100\n",
    "            tqdm.write('\\033[92m' + f'{round(percentage_decrease, 2)}% Validation loss decreased compared to the previous epoch' + '\\033[0m')\n",
    "        if val_f1 < previous_results['val_f1']:\n",
    "            percentage_decrease = ((previous_results['val_f1'] - val_f1) / previous_results['val_f1']) * 100\n",
    "            tqdm.write('\\033[91m' + f'{round(percentage_decrease, 2)}% F1 Score decreased compared to the previous epoch' + '\\033[0m')\n",
    "        if val_f1 > previous_results['val_f1']:\n",
    "            percentage_increase = ((val_f1 - previous_results['val_f1']) / previous_results['val_f1']) * 100\n",
    "            tqdm.write('\\033[92m' + f'{round(percentage_increase, 2)}% F1 Score increased compared to the previous epoch' + '\\033[0m')\n",
    "\n",
    "    # Store current results as previous results for the next epoch\n",
    "    previous_results = {\n",
    "        'loss_train_avg': loss_train_avg,\n",
    "        'val_loss': val_loss,\n",
    "        'val_f1': val_f1\n",
    "    }\n",
    "\n",
    "total_time_minutes = total_training_time / 60\n",
    "tqdm.write(f'\\nTotal training time: {total_time_minutes} minutes')\n",
    "\n",
    "final_accuracy = accuracy_list[-1]\n",
    "final_precision = precision_list[-1]\n",
    "tqdm.write(f'Final Accuracy: {final_accuracy}')\n",
    "tqdm.write(f'Final Precision: {final_precision}')"
   ]
  },
  {
   "cell_type": "code",
   "execution_count": 39,
   "id": "ca1cfaf6-be37-42aa-b3db-73614181a10b",
   "metadata": {},
   "outputs": [
    {
     "data": {
      "image/png": "[encoded data removed]",
      "text/plain": [
       "<Figure size 800x600 with 1 Axes>"
      ]
     },
     "metadata": {},
     "output_type": "display_data"
    }
   ],
   "source": [
    "# Create a single subplot\n",
    "fig, ax = plt.subplots(figsize=(8, 6))\n",
    "\n",
    "# Plot training loss\n",
    "ax.plot(range(1, epochs + 1), training_loss_list, label='Training Loss')\n",
    "\n",
    "# Plot validation loss\n",
    "ax.plot(range(1, epochs + 1), validation_loss_list, label='Validation Loss')\n",
    "\n",
    "# Plot F1-score\n",
    "ax.plot(range(1, epochs + 1), f1_score_list, label='F1 Score')\n",
    "\n",
    "# Set labels and title\n",
    "ax.set_xlabel('Epoch')\n",
    "ax.set_ylabel('Metric Value')\n",
    "ax.set_title('Training Loss, Validation Loss, and F1 Score')\n",
    "\n",
    "# Set legend\n",
    "ax.legend()\n",
    "\n",
    "# Show the combined plot\n",
    "plt.show()"
   ]
  },
  {
   "cell_type": "code",
   "execution_count": 40,
   "id": "a184a089-2df5-4866-9d3d-844182984ce9",
   "metadata": {},
   "outputs": [
    {
     "name": "stdout",
     "output_type": "stream",
     "text": [
      "Epoch                 Training Loss         Validation Loss     F1 Score            Accuracy              Precision\n",
      "--------------------  --------------------  ------------------  ------------------  ------------------  -----------\n",
      "1                     0.924998055827637     0.6711244082867664  0.8209112024862956  0.8385650224215246     0.855789\n",
      "2                     \u001b[92m0.5144273268271229\u001b[0m    \u001b[91m0.7787577213847127\u001b[0m  \u001b[92m0.8345588394583153\u001b[0m  0.8430493273542601     0.856702\n",
      "3                     \u001b[92m0.3639231419680949\u001b[0m    \u001b[91m0.9549459033754535\u001b[0m  \u001b[92m0.8410312864356638\u001b[0m  0.8609865470852018     0.854404\n",
      "4                     \u001b[92m0.20379942122816927\u001b[0m   \u001b[92m0.9341732047498488\u001b[0m  \u001b[92m0.8470990127460036\u001b[0m  0.8609865470852018     0.861472\n",
      "5                     \u001b[92m0.10902564085279372\u001b[0m   \u001b[92m0.8813765489363105\u001b[0m  \u001b[92m0.8586507039116673\u001b[0m  0.8609865470852018     0.87241\n",
      "6                     \u001b[92m0.05994126994384327\u001b[0m   \u001b[91m0.9954828420922986\u001b[0m  \u001b[92m0.8602811180858241\u001b[0m  0.8699551569506726     0.869338\n",
      "7                     \u001b[92m0.04100785985237804\u001b[0m   \u001b[91m1.1153165155258\u001b[0m     \u001b[91m0.8441503834131037\u001b[0m  0.8565022421524664     0.850274\n",
      "8                     \u001b[92m0.029203697646802387\u001b[0m  \u001b[91m1.132484690481267\u001b[0m   \u001b[92m0.8620100907903374\u001b[0m  0.8565022421524664     0.878993\n",
      "9                     \u001b[92m0.017306508417909528\u001b[0m  \u001b[91m1.1717997030519234\u001b[0m  \u001b[92m0.864546342137778\u001b[0m   0.8654708520179372     0.876566\n",
      "10                    \u001b[92m0.006378902678906688\u001b[0m  \u001b[92m1.158856894956896\u001b[0m   \u001b[92m0.865036383646249\u001b[0m   0.8654708520179372     0.876346\n",
      "Total Training Time                                                                                      637.286\n",
      "Final Precision                                                                                            0.876346\n",
      "Total Time (minutes)                                                                                      10.6214\n"
     ]
    }
   ],
   "source": [
    "# Create the metrics table\n",
    "metrics_table = [\n",
    "    ['Epoch', 'Training Loss', 'Validation Loss', 'F1 Score', 'Accuracy', 'Precision'],\n",
    "]\n",
    "previous_results = None\n",
    "for epoch in range(1, epochs + 1):\n",
    "    row = [\n",
    "        epoch,\n",
    "        training_loss_list[epoch - 1],\n",
    "        validation_loss_list[epoch - 1],\n",
    "        f1_score_list[epoch - 1],\n",
    "        accuracy_list[epoch - 1],\n",
    "        precision_list[epoch - 1]\n",
    "    ]\n",
    "\n",
    "    # Compare with previous epoch results\n",
    "    if previous_results is not None:\n",
    "        if training_loss_list[epoch - 1] < previous_results['loss_train_avg']:\n",
    "            row[1] = '\\033[92m' + str(row[1]) + '\\033[0m'  # Highlight in green\n",
    "        if training_loss_list[epoch - 1] > previous_results['loss_train_avg']:\n",
    "            row[1] = '\\033[91m' + str(row[1]) + '\\033[0m'  # Highlight in red\n",
    "        if validation_loss_list[epoch - 1] < previous_results['val_loss']:\n",
    "            row[2] = '\\033[92m' + str(row[2]) + '\\033[0m'  # Highlight in green\n",
    "        if validation_loss_list[epoch - 1] > previous_results['val_loss']:\n",
    "            row[2] = '\\033[91m' + str(row[2]) + '\\033[0m'  # Highlight in red\n",
    "        if f1_score_list[epoch - 1] > previous_results['val_f1']:\n",
    "            row[3] = '\\033[92m' + str(row[3]) + '\\033[0m'  # Highlight in green\n",
    "        if f1_score_list[epoch - 1] < previous_results['val_f1']:\n",
    "            row[3] = '\\033[91m' + str(row[3]) + '\\033[0m'  # Highlight in red\n",
    "\n",
    "    metrics_table.append(row)\n",
    "    previous_results = {\n",
    "        'loss_train_avg': training_loss_list[epoch - 1],\n",
    "        'val_loss': validation_loss_list[epoch - 1],\n",
    "        'val_f1': f1_score_list[epoch - 1]\n",
    "    }\n",
    "\n",
    "# Calculate total training time in minutes\n",
    "total_time_minutes = total_training_time / 60\n",
    "\n",
    "# Calculate total precision\n",
    "total_precision = precision_list[-1]\n",
    "\n",
    "# Add total training time and total precision rows to the table\n",
    "metrics_table.append(['Total Training Time', '', '', '', '', total_training_time])\n",
    "metrics_table.append(['Final Precision', '', '', '', '', total_precision])\n",
    "metrics_table.append(['Total Time (minutes)', '', '', '', '', total_time_minutes])\n",
    "\n",
    "# Print the table\n",
    "print(tabulate(metrics_table, headers='firstrow'))"
   ]
  }
 ],
 "metadata": {
  "kernelspec": {
   "display_name": "Python 3 (ipykernel)",
   "language": "python",
   "name": "python3"
  },
  "language_info": {
   "codemirror_mode": {
    "name": "ipython",
    "version": 3
   },
   "file_extension": ".py",
   "mimetype": "text/x-python",
   "name": "python",
   "nbconvert_exporter": "python",
   "pygments_lexer": "ipython3",
   "version": "3.10.9"
  }
 },
 "nbformat": 4,
 "nbformat_minor": 5
}
